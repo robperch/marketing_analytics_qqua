{
 "cells": [
  {
   "cell_type": "markdown",
   "id": "82c1d7a8-d74e-45e1-8937-264331e6d38a",
   "metadata": {},
   "source": [
    "# Quicken Quickbooks Upgrade Assignment\n",
    "- Rob's solutions"
   ]
  },
  {
   "cell_type": "markdown",
   "id": "4154f37d-fde6-4cef-8617-114a3a2d7d8e",
   "metadata": {},
   "source": [
    "# Imports"
   ]
  },
  {
   "cell_type": "markdown",
   "id": "a98dbaa6-17e1-4b79-93f0-d142aedd0037",
   "metadata": {},
   "source": [
    "#### Standard library imports"
   ]
  },
  {
   "cell_type": "code",
   "execution_count": 1,
   "id": "63099808-51cd-453c-976a-f3060b8650aa",
   "metadata": {
    "execution": {
     "iopub.execute_input": "2023-03-17T01:39:21.739566Z",
     "iopub.status.busy": "2023-03-17T01:39:21.738945Z",
     "iopub.status.idle": "2023-03-17T01:39:21.753976Z",
     "shell.execute_reply": "2023-03-17T01:39:21.753086Z",
     "shell.execute_reply.started": "2023-03-17T01:39:21.739421Z"
    }
   },
   "outputs": [],
   "source": [
    "import sys\n",
    "sys.path.append(\"../\")\n",
    "\n",
    "import os"
   ]
  },
  {
   "cell_type": "markdown",
   "id": "b94ec94d-0d78-4ec3-a21c-353ccf52eec6",
   "metadata": {},
   "source": [
    "#### Third party imports"
   ]
  },
  {
   "cell_type": "code",
   "execution_count": 9,
   "id": "9e4989d0-ba3a-41cf-8ccb-44cade842a03",
   "metadata": {
    "execution": {
     "iopub.execute_input": "2023-03-17T01:54:58.906236Z",
     "iopub.status.busy": "2023-03-17T01:54:58.905051Z",
     "iopub.status.idle": "2023-03-17T01:54:58.978522Z",
     "shell.execute_reply": "2023-03-17T01:54:58.977028Z",
     "shell.execute_reply.started": "2023-03-17T01:54:58.906200Z"
    }
   },
   "outputs": [],
   "source": [
    "import pandas as pd"
   ]
  },
  {
   "cell_type": "markdown",
   "id": "48755fa3-cba0-4508-9df2-18d50f60551b",
   "metadata": {},
   "source": [
    "#### Local application imports"
   ]
  },
  {
   "cell_type": "code",
   "execution_count": 7,
   "id": "a62e34a6-dea0-48d6-a3bc-c5dcdcdb1718",
   "metadata": {
    "execution": {
     "iopub.execute_input": "2023-03-17T01:52:16.176138Z",
     "iopub.status.busy": "2023-03-17T01:52:16.160183Z",
     "iopub.status.idle": "2023-03-17T01:52:34.578140Z",
     "shell.execute_reply": "2023-03-17T01:52:34.576782Z",
     "shell.execute_reply.started": "2023-03-17T01:52:16.175881Z"
    },
    "tags": []
   },
   "outputs": [
    {
     "name": "stdout",
     "output_type": "stream",
     "text": [
      "The autoreload extension is already loaded. To reload it, use:\n",
      "  %reload_ext autoreload\n"
     ]
    }
   ],
   "source": [
    "%load_ext autoreload\n",
    "%autoreload 2\n",
    "\n",
    "from pkg_dir.config import *\n",
    "from pkg_dir.src.utils import *\n",
    "from pkg_dir.src.functions import *\n",
    "fstatsmodelsrom pkg_dir.src.parameters import *"
   ]
  },
  {
   "cell_type": "markdown",
   "id": "d533fe5d-c902-4259-97ee-672d6f2363c6",
   "metadata": {},
   "source": [
    "# Importing data"
   ]
  },
  {
   "cell_type": "code",
   "execution_count": 13,
   "id": "5c1e7b53-2fda-490f-a7cd-a7ad52e49819",
   "metadata": {
    "execution": {
     "iopub.execute_input": "2023-03-17T01:56:22.219629Z",
     "iopub.status.busy": "2023-03-17T01:56:22.219175Z",
     "iopub.status.idle": "2023-03-17T01:56:22.308296Z",
     "shell.execute_reply": "2023-03-17T01:56:22.307074Z",
     "shell.execute_reply.started": "2023-03-17T01:56:22.219592Z"
    },
    "tags": []
   },
   "outputs": [],
   "source": [
    "df = pd.read_csv('../pkg_dir/data/intuit.csv')"
   ]
  },
  {
   "cell_type": "markdown",
   "id": "8b8dec97-c1f4-43ff-8c32-60169ea5d932",
   "metadata": {},
   "source": [
    "# Data exploration"
   ]
  },
  {
   "cell_type": "code",
   "execution_count": 16,
   "id": "3dfbedde-fc31-4d72-8f7d-2818db9fb15b",
   "metadata": {
    "execution": {
     "iopub.execute_input": "2023-03-17T01:57:17.337923Z",
     "iopub.status.busy": "2023-03-17T01:57:17.337466Z",
     "iopub.status.idle": "2023-03-17T01:57:17.508172Z",
     "shell.execute_reply": "2023-03-17T01:57:17.507141Z",
     "shell.execute_reply.started": "2023-03-17T01:57:17.337888Z"
    },
    "tags": []
   },
   "outputs": [
    {
     "name": "stdout",
     "output_type": "stream",
     "text": [
      "<class 'pandas.core.frame.DataFrame'>\n",
      "RangeIndex: 20000 entries, 0 to 19999\n",
      "Data columns (total 13 columns):\n",
      " #   Column      Non-Null Count  Dtype  \n",
      "---  ------      --------------  -----  \n",
      " 0   id          20000 non-null  int64  \n",
      " 1   sex         20000 non-null  object \n",
      " 2   bizflag     20000 non-null  int64  \n",
      " 3   zip         20000 non-null  int64  \n",
      " 4   zip_bins    20000 non-null  int64  \n",
      " 5   numords     20000 non-null  int64  \n",
      " 6   dollars     20000 non-null  float64\n",
      " 7   last        20000 non-null  int64  \n",
      " 8   sincepurch  20000 non-null  int64  \n",
      " 9   version1    20000 non-null  int64  \n",
      " 10  owntaxprod  20000 non-null  int64  \n",
      " 11  upgraded    20000 non-null  int64  \n",
      " 12  res1        20000 non-null  int64  \n",
      "dtypes: float64(1), int64(11), object(1)\n",
      "memory usage: 2.0+ MB\n"
     ]
    }
   ],
   "source": [
    "df.info()"
   ]
  },
  {
   "cell_type": "code",
   "execution_count": 17,
   "id": "9180be0e-eaa4-48dc-bb38-12af70a1c99c",
   "metadata": {
    "execution": {
     "iopub.execute_input": "2023-03-17T01:57:25.474210Z",
     "iopub.status.busy": "2023-03-17T01:57:25.473750Z",
     "iopub.status.idle": "2023-03-17T01:57:25.606300Z",
     "shell.execute_reply": "2023-03-17T01:57:25.605379Z",
     "shell.execute_reply.started": "2023-03-17T01:57:25.474173Z"
    }
   },
   "outputs": [
    {
     "data": {
      "text/html": [
       "<div>\n",
       "<style scoped>\n",
       "    .dataframe tbody tr th:only-of-type {\n",
       "        vertical-align: middle;\n",
       "    }\n",
       "\n",
       "    .dataframe tbody tr th {\n",
       "        vertical-align: top;\n",
       "    }\n",
       "\n",
       "    .dataframe thead th {\n",
       "        text-align: right;\n",
       "    }\n",
       "</style>\n",
       "<table border=\"1\" class=\"dataframe\">\n",
       "  <thead>\n",
       "    <tr style=\"text-align: right;\">\n",
       "      <th></th>\n",
       "      <th>id</th>\n",
       "      <th>bizflag</th>\n",
       "      <th>zip</th>\n",
       "      <th>zip_bins</th>\n",
       "      <th>numords</th>\n",
       "      <th>dollars</th>\n",
       "      <th>last</th>\n",
       "      <th>sincepurch</th>\n",
       "      <th>version1</th>\n",
       "      <th>owntaxprod</th>\n",
       "      <th>upgraded</th>\n",
       "      <th>res1</th>\n",
       "    </tr>\n",
       "  </thead>\n",
       "  <tbody>\n",
       "    <tr>\n",
       "      <th>count</th>\n",
       "      <td>20000.000000</td>\n",
       "      <td>20000.000000</td>\n",
       "      <td>20000.0000</td>\n",
       "      <td>20000.000000</td>\n",
       "      <td>20000.000000</td>\n",
       "      <td>20000.000000</td>\n",
       "      <td>20000.000000</td>\n",
       "      <td>20000.000000</td>\n",
       "      <td>20000.000000</td>\n",
       "      <td>20000.000000</td>\n",
       "      <td>20000.000000</td>\n",
       "      <td>20000.000000</td>\n",
       "    </tr>\n",
       "    <tr>\n",
       "      <th>mean</th>\n",
       "      <td>10000.500000</td>\n",
       "      <td>0.244400</td>\n",
       "      <td>54350.2613</td>\n",
       "      <td>10.499000</td>\n",
       "      <td>2.079450</td>\n",
       "      <td>93.581000</td>\n",
       "      <td>15.779650</td>\n",
       "      <td>15.751400</td>\n",
       "      <td>0.208250</td>\n",
       "      <td>0.027100</td>\n",
       "      <td>0.215600</td>\n",
       "      <td>0.048050</td>\n",
       "    </tr>\n",
       "    <tr>\n",
       "      <th>std</th>\n",
       "      <td>5773.647028</td>\n",
       "      <td>0.429742</td>\n",
       "      <td>32776.4059</td>\n",
       "      <td>5.766755</td>\n",
       "      <td>1.246361</td>\n",
       "      <td>82.601398</td>\n",
       "      <td>9.527331</td>\n",
       "      <td>10.020435</td>\n",
       "      <td>0.406067</td>\n",
       "      <td>0.162379</td>\n",
       "      <td>0.411248</td>\n",
       "      <td>0.213877</td>\n",
       "    </tr>\n",
       "    <tr>\n",
       "      <th>min</th>\n",
       "      <td>1.000000</td>\n",
       "      <td>0.000000</td>\n",
       "      <td>0.0000</td>\n",
       "      <td>1.000000</td>\n",
       "      <td>1.000000</td>\n",
       "      <td>1.000000</td>\n",
       "      <td>1.000000</td>\n",
       "      <td>1.000000</td>\n",
       "      <td>0.000000</td>\n",
       "      <td>0.000000</td>\n",
       "      <td>0.000000</td>\n",
       "      <td>0.000000</td>\n",
       "    </tr>\n",
       "    <tr>\n",
       "      <th>25%</th>\n",
       "      <td>5000.750000</td>\n",
       "      <td>0.000000</td>\n",
       "      <td>23451.0000</td>\n",
       "      <td>5.000000</td>\n",
       "      <td>1.000000</td>\n",
       "      <td>37.000000</td>\n",
       "      <td>8.000000</td>\n",
       "      <td>7.000000</td>\n",
       "      <td>0.000000</td>\n",
       "      <td>0.000000</td>\n",
       "      <td>0.000000</td>\n",
       "      <td>0.000000</td>\n",
       "    </tr>\n",
       "    <tr>\n",
       "      <th>50%</th>\n",
       "      <td>10000.500000</td>\n",
       "      <td>0.000000</td>\n",
       "      <td>55402.5000</td>\n",
       "      <td>10.500000</td>\n",
       "      <td>2.000000</td>\n",
       "      <td>71.000000</td>\n",
       "      <td>15.000000</td>\n",
       "      <td>15.000000</td>\n",
       "      <td>0.000000</td>\n",
       "      <td>0.000000</td>\n",
       "      <td>0.000000</td>\n",
       "      <td>0.000000</td>\n",
       "    </tr>\n",
       "    <tr>\n",
       "      <th>75%</th>\n",
       "      <td>15000.250000</td>\n",
       "      <td>0.000000</td>\n",
       "      <td>89018.7500</td>\n",
       "      <td>15.250000</td>\n",
       "      <td>3.000000</td>\n",
       "      <td>124.500000</td>\n",
       "      <td>24.000000</td>\n",
       "      <td>24.000000</td>\n",
       "      <td>0.000000</td>\n",
       "      <td>0.000000</td>\n",
       "      <td>0.000000</td>\n",
       "      <td>0.000000</td>\n",
       "    </tr>\n",
       "    <tr>\n",
       "      <th>max</th>\n",
       "      <td>20000.000000</td>\n",
       "      <td>1.000000</td>\n",
       "      <td>99999.0000</td>\n",
       "      <td>20.000000</td>\n",
       "      <td>5.000000</td>\n",
       "      <td>937.500000</td>\n",
       "      <td>36.000000</td>\n",
       "      <td>36.000000</td>\n",
       "      <td>1.000000</td>\n",
       "      <td>1.000000</td>\n",
       "      <td>1.000000</td>\n",
       "      <td>1.000000</td>\n",
       "    </tr>\n",
       "  </tbody>\n",
       "</table>\n",
       "</div>"
      ],
      "text/plain": [
       "                 id       bizflag         zip      zip_bins       numords  \\\n",
       "count  20000.000000  20000.000000  20000.0000  20000.000000  20000.000000   \n",
       "mean   10000.500000      0.244400  54350.2613     10.499000      2.079450   \n",
       "std     5773.647028      0.429742  32776.4059      5.766755      1.246361   \n",
       "min        1.000000      0.000000      0.0000      1.000000      1.000000   \n",
       "25%     5000.750000      0.000000  23451.0000      5.000000      1.000000   \n",
       "50%    10000.500000      0.000000  55402.5000     10.500000      2.000000   \n",
       "75%    15000.250000      0.000000  89018.7500     15.250000      3.000000   \n",
       "max    20000.000000      1.000000  99999.0000     20.000000      5.000000   \n",
       "\n",
       "            dollars          last    sincepurch      version1    owntaxprod  \\\n",
       "count  20000.000000  20000.000000  20000.000000  20000.000000  20000.000000   \n",
       "mean      93.581000     15.779650     15.751400      0.208250      0.027100   \n",
       "std       82.601398      9.527331     10.020435      0.406067      0.162379   \n",
       "min        1.000000      1.000000      1.000000      0.000000      0.000000   \n",
       "25%       37.000000      8.000000      7.000000      0.000000      0.000000   \n",
       "50%       71.000000     15.000000     15.000000      0.000000      0.000000   \n",
       "75%      124.500000     24.000000     24.000000      0.000000      0.000000   \n",
       "max      937.500000     36.000000     36.000000      1.000000      1.000000   \n",
       "\n",
       "           upgraded          res1  \n",
       "count  20000.000000  20000.000000  \n",
       "mean       0.215600      0.048050  \n",
       "std        0.411248      0.213877  \n",
       "min        0.000000      0.000000  \n",
       "25%        0.000000      0.000000  \n",
       "50%        0.000000      0.000000  \n",
       "75%        0.000000      0.000000  \n",
       "max        1.000000      1.000000  "
      ]
     },
     "execution_count": 17,
     "metadata": {},
     "output_type": "execute_result"
    }
   ],
   "source": [
    "df.describe()"
   ]
  },
  {
   "cell_type": "markdown",
   "id": "c828656b-dbb3-4ffc-bf89-87649d5d1d23",
   "metadata": {},
   "source": [
    "# Modeling"
   ]
  },
  {
   "cell_type": "markdown",
   "id": "abb22271-32dd-42f0-bd3c-65764ce8777e",
   "metadata": {},
   "source": [
    "## M1: Logistic regression"
   ]
  },
  {
   "cell_type": "code",
   "execution_count": 28,
   "id": "45ce2aa0-4e9e-4508-8a63-6edbe474c160",
   "metadata": {
    "execution": {
     "iopub.execute_input": "2023-03-17T02:11:32.721835Z",
     "iopub.status.busy": "2023-03-17T02:11:32.721328Z",
     "iopub.status.idle": "2023-03-17T02:11:32.780818Z",
     "shell.execute_reply": "2023-03-17T02:11:32.779534Z",
     "shell.execute_reply.started": "2023-03-17T02:11:32.721804Z"
    },
    "tags": []
   },
   "outputs": [],
   "source": [
    "## Defining label and features for the model\n",
    "\n",
    "label = ['res1']\n",
    "\n",
    "features = [\n",
    "    'id',\n",
    "    # 'sex',\n",
    "    'bizflag',\n",
    "    'zip',\n",
    "    'zip_bins',\n",
    "    'numords',\n",
    "    'dollars',\n",
    "    'last',\n",
    "    'sincepurch',\n",
    "    'version1',\n",
    "    'owntaxprod',\n",
    "    'upgraded',\n",
    "]"
   ]
  },
  {
   "cell_type": "code",
   "execution_count": 29,
   "id": "25f27955-b342-4d3f-852c-ef762ca3d33d",
   "metadata": {
    "execution": {
     "iopub.execute_input": "2023-03-17T02:11:32.932277Z",
     "iopub.status.busy": "2023-03-17T02:11:32.931663Z",
     "iopub.status.idle": "2023-03-17T02:11:33.276793Z",
     "shell.execute_reply": "2023-03-17T02:11:33.274108Z",
     "shell.execute_reply.started": "2023-03-17T02:11:32.932164Z"
    },
    "tags": []
   },
   "outputs": [
    {
     "name": "stdout",
     "output_type": "stream",
     "text": [
      "Optimization terminated successfully.\n",
      "         Current function value: 0.178688\n",
      "         Iterations 8\n"
     ]
    }
   ],
   "source": [
    "result = mba263.logit(\n",
    "    df[label],\n",
    "    df[features]\n",
    ")"
   ]
  },
  {
   "cell_type": "markdown",
   "id": "aee73a88-9b6b-459a-833c-7ab59b191909",
   "metadata": {},
   "source": [
    "## M: "
   ]
  },
  {
   "cell_type": "markdown",
   "id": "e3e6269d-4b66-4155-8510-8b6dc4cb2ad1",
   "metadata": {},
   "source": [
    "# D"
   ]
  },
  {
   "cell_type": "markdown",
   "id": "784be4db-1c06-43e0-a4da-86b1bbcde318",
   "metadata": {},
   "source": [
    "# *Notes*"
   ]
  },
  {
   "cell_type": "markdown",
   "id": "b34c662c-f724-412f-86d7-75647d9b5448",
   "metadata": {},
   "source": [
    "---"
   ]
  },
  {
   "cell_type": "markdown",
   "id": "168089c7-257b-4b61-9a65-803e32753196",
   "metadata": {},
   "source": [
    "---"
   ]
  }
 ],
 "metadata": {
  "kernelspec": {
   "display_name": "Python 3 (ipykernel)",
   "language": "python",
   "name": "python3"
  },
  "language_info": {
   "codemirror_mode": {
    "name": "ipython",
    "version": 3
   },
   "file_extension": ".py",
   "mimetype": "text/x-python",
   "name": "python",
   "nbconvert_exporter": "python",
   "pygments_lexer": "ipython3",
   "version": "3.9.1"
  },
  "toc-autonumbering": true
 },
 "nbformat": 4,
 "nbformat_minor": 5
}
