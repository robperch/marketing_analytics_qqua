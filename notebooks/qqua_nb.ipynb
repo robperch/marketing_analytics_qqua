{
 "cells": [
  {
   "cell_type": "markdown",
   "id": "82c1d7a8-d74e-45e1-8937-264331e6d38a",
   "metadata": {},
   "source": [
    "# Quicken Quickbooks Upgrade Assignment\n",
    "- Rob's solutions"
   ]
  },
  {
   "cell_type": "markdown",
   "id": "6c0aef40-55d3-4226-a218-2c63828b1646",
   "metadata": {},
   "source": [
    "# "
   ]
  },
  {
   "cell_type": "markdown",
   "id": "4154f37d-fde6-4cef-8617-114a3a2d7d8e",
   "metadata": {
    "tags": []
   },
   "source": [
    "# Imports"
   ]
  },
  {
   "cell_type": "markdown",
   "id": "a98dbaa6-17e1-4b79-93f0-d142aedd0037",
   "metadata": {
    "tags": []
   },
   "source": [
    "#### Standard library imports"
   ]
  },
  {
   "cell_type": "code",
   "execution_count": 1,
   "id": "63099808-51cd-453c-976a-f3060b8650aa",
   "metadata": {
    "execution": {
     "iopub.execute_input": "2023-03-19T23:49:34.764194Z",
     "iopub.status.busy": "2023-03-19T23:49:34.763306Z",
     "iopub.status.idle": "2023-03-19T23:49:34.786808Z",
     "shell.execute_reply": "2023-03-19T23:49:34.781697Z",
     "shell.execute_reply.started": "2023-03-19T23:49:34.763977Z"
    },
    "tags": []
   },
   "outputs": [],
   "source": [
    "import sys\n",
    "sys.path.append(\"../\")\n",
    "\n",
    "import os"
   ]
  },
  {
   "cell_type": "markdown",
   "id": "b94ec94d-0d78-4ec3-a21c-353ccf52eec6",
   "metadata": {},
   "source": [
    "#### Third party imports"
   ]
  },
  {
   "cell_type": "code",
   "execution_count": 2,
   "id": "9e4989d0-ba3a-41cf-8ccb-44cade842a03",
   "metadata": {
    "execution": {
     "iopub.execute_input": "2023-03-19T23:49:34.790128Z",
     "iopub.status.busy": "2023-03-19T23:49:34.789526Z",
     "iopub.status.idle": "2023-03-19T23:49:37.659047Z",
     "shell.execute_reply": "2023-03-19T23:49:37.658202Z",
     "shell.execute_reply.started": "2023-03-19T23:49:34.790047Z"
    },
    "tags": []
   },
   "outputs": [],
   "source": [
    "import pandas as pd\n",
    "pd.set_option('display.max_columns', None)\n",
    "import plotly.express as px\n",
    "import matplotlib.pyplot as plt\n",
    "from sklearn import metrics\n",
    "import plotly.graph_objects as go\n",
    "import numpy as np\n",
    "import warnings\n",
    "warnings.filterwarnings(\"ignore\")"
   ]
  },
  {
   "cell_type": "markdown",
   "id": "48755fa3-cba0-4508-9df2-18d50f60551b",
   "metadata": {},
   "source": [
    "#### Local application imports"
   ]
  },
  {
   "cell_type": "code",
   "execution_count": 3,
   "id": "a62e34a6-dea0-48d6-a3bc-c5dcdcdb1718",
   "metadata": {
    "execution": {
     "iopub.execute_input": "2023-03-19T23:49:37.662619Z",
     "iopub.status.busy": "2023-03-19T23:49:37.661857Z",
     "iopub.status.idle": "2023-03-19T23:49:39.115831Z",
     "shell.execute_reply": "2023-03-19T23:49:39.114757Z",
     "shell.execute_reply.started": "2023-03-19T23:49:37.662586Z"
    },
    "tags": []
   },
   "outputs": [],
   "source": [
    "%load_ext autoreload\n",
    "%autoreload 2\n",
    "\n",
    "from pkg_dir.config import *\n",
    "from pkg_dir.src.utils import *\n",
    "from pkg_dir.src.functions import *\n",
    "from pkg_dir.src.parameters import *"
   ]
  },
  {
   "cell_type": "markdown",
   "id": "a55dee80-3931-47a9-b2fa-5f25e5bd732f",
   "metadata": {},
   "source": [
    "# "
   ]
  },
  {
   "cell_type": "markdown",
   "id": "d533fe5d-c902-4259-97ee-672d6f2363c6",
   "metadata": {
    "tags": []
   },
   "source": [
    "# Importing data"
   ]
  },
  {
   "cell_type": "code",
   "execution_count": 7,
   "id": "5c1e7b53-2fda-490f-a7cd-a7ad52e49819",
   "metadata": {
    "execution": {
     "iopub.execute_input": "2023-03-19T23:49:48.818022Z",
     "iopub.status.busy": "2023-03-19T23:49:48.817521Z",
     "iopub.status.idle": "2023-03-19T23:49:48.899563Z",
     "shell.execute_reply": "2023-03-19T23:49:48.898654Z",
     "shell.execute_reply.started": "2023-03-19T23:49:48.817988Z"
    },
    "tags": []
   },
   "outputs": [],
   "source": [
    "df = pd.read_csv('../pkg_dir/data/intuit.csv')"
   ]
  },
  {
   "cell_type": "markdown",
   "id": "a8840b07-95f7-49c2-9036-4d6c87fca59c",
   "metadata": {},
   "source": [
    "# "
   ]
  },
  {
   "cell_type": "markdown",
   "id": "8b8dec97-c1f4-43ff-8c32-60169ea5d932",
   "metadata": {
    "tags": []
   },
   "source": [
    "# Data exploration"
   ]
  },
  {
   "cell_type": "code",
   "execution_count": 8,
   "id": "3dfbedde-fc31-4d72-8f7d-2818db9fb15b",
   "metadata": {
    "execution": {
     "iopub.execute_input": "2023-03-19T23:49:51.291498Z",
     "iopub.status.busy": "2023-03-19T23:49:51.291048Z",
     "iopub.status.idle": "2023-03-19T23:49:51.360537Z",
     "shell.execute_reply": "2023-03-19T23:49:51.359609Z",
     "shell.execute_reply.started": "2023-03-19T23:49:51.291461Z"
    },
    "tags": []
   },
   "outputs": [
    {
     "name": "stdout",
     "output_type": "stream",
     "text": [
      "<class 'pandas.core.frame.DataFrame'>\n",
      "RangeIndex: 20000 entries, 0 to 19999\n",
      "Data columns (total 13 columns):\n",
      " #   Column      Non-Null Count  Dtype  \n",
      "---  ------      --------------  -----  \n",
      " 0   id          20000 non-null  int64  \n",
      " 1   sex         20000 non-null  object \n",
      " 2   bizflag     20000 non-null  int64  \n",
      " 3   zip         20000 non-null  int64  \n",
      " 4   zip_bins    20000 non-null  int64  \n",
      " 5   numords     20000 non-null  int64  \n",
      " 6   dollars     20000 non-null  float64\n",
      " 7   last        20000 non-null  int64  \n",
      " 8   sincepurch  20000 non-null  int64  \n",
      " 9   version1    20000 non-null  int64  \n",
      " 10  owntaxprod  20000 non-null  int64  \n",
      " 11  upgraded    20000 non-null  int64  \n",
      " 12  res1        20000 non-null  int64  \n",
      "dtypes: float64(1), int64(11), object(1)\n",
      "memory usage: 2.0+ MB\n"
     ]
    }
   ],
   "source": [
    "df.info()"
   ]
  },
  {
   "cell_type": "code",
   "execution_count": 9,
   "id": "9180be0e-eaa4-48dc-bb38-12af70a1c99c",
   "metadata": {
    "execution": {
     "iopub.execute_input": "2023-03-19T23:49:51.363420Z",
     "iopub.status.busy": "2023-03-19T23:49:51.362935Z",
     "iopub.status.idle": "2023-03-19T23:49:51.464289Z",
     "shell.execute_reply": "2023-03-19T23:49:51.463370Z",
     "shell.execute_reply.started": "2023-03-19T23:49:51.363380Z"
    },
    "tags": []
   },
   "outputs": [
    {
     "data": {
      "text/html": [
       "<div>\n",
       "<style scoped>\n",
       "    .dataframe tbody tr th:only-of-type {\n",
       "        vertical-align: middle;\n",
       "    }\n",
       "\n",
       "    .dataframe tbody tr th {\n",
       "        vertical-align: top;\n",
       "    }\n",
       "\n",
       "    .dataframe thead th {\n",
       "        text-align: right;\n",
       "    }\n",
       "</style>\n",
       "<table border=\"1\" class=\"dataframe\">\n",
       "  <thead>\n",
       "    <tr style=\"text-align: right;\">\n",
       "      <th></th>\n",
       "      <th>id</th>\n",
       "      <th>bizflag</th>\n",
       "      <th>zip</th>\n",
       "      <th>zip_bins</th>\n",
       "      <th>numords</th>\n",
       "      <th>dollars</th>\n",
       "      <th>last</th>\n",
       "      <th>sincepurch</th>\n",
       "      <th>version1</th>\n",
       "      <th>owntaxprod</th>\n",
       "      <th>upgraded</th>\n",
       "      <th>res1</th>\n",
       "    </tr>\n",
       "  </thead>\n",
       "  <tbody>\n",
       "    <tr>\n",
       "      <th>count</th>\n",
       "      <td>20000.000000</td>\n",
       "      <td>20000.000000</td>\n",
       "      <td>20000.0000</td>\n",
       "      <td>20000.000000</td>\n",
       "      <td>20000.000000</td>\n",
       "      <td>20000.000000</td>\n",
       "      <td>20000.000000</td>\n",
       "      <td>20000.000000</td>\n",
       "      <td>20000.000000</td>\n",
       "      <td>20000.000000</td>\n",
       "      <td>20000.000000</td>\n",
       "      <td>20000.000000</td>\n",
       "    </tr>\n",
       "    <tr>\n",
       "      <th>mean</th>\n",
       "      <td>10000.500000</td>\n",
       "      <td>0.244400</td>\n",
       "      <td>54350.2613</td>\n",
       "      <td>10.499000</td>\n",
       "      <td>2.079450</td>\n",
       "      <td>93.581000</td>\n",
       "      <td>15.779650</td>\n",
       "      <td>15.751400</td>\n",
       "      <td>0.208250</td>\n",
       "      <td>0.027100</td>\n",
       "      <td>0.215600</td>\n",
       "      <td>0.048050</td>\n",
       "    </tr>\n",
       "    <tr>\n",
       "      <th>std</th>\n",
       "      <td>5773.647028</td>\n",
       "      <td>0.429742</td>\n",
       "      <td>32776.4059</td>\n",
       "      <td>5.766755</td>\n",
       "      <td>1.246361</td>\n",
       "      <td>82.601398</td>\n",
       "      <td>9.527331</td>\n",
       "      <td>10.020435</td>\n",
       "      <td>0.406067</td>\n",
       "      <td>0.162379</td>\n",
       "      <td>0.411248</td>\n",
       "      <td>0.213877</td>\n",
       "    </tr>\n",
       "    <tr>\n",
       "      <th>min</th>\n",
       "      <td>1.000000</td>\n",
       "      <td>0.000000</td>\n",
       "      <td>0.0000</td>\n",
       "      <td>1.000000</td>\n",
       "      <td>1.000000</td>\n",
       "      <td>1.000000</td>\n",
       "      <td>1.000000</td>\n",
       "      <td>1.000000</td>\n",
       "      <td>0.000000</td>\n",
       "      <td>0.000000</td>\n",
       "      <td>0.000000</td>\n",
       "      <td>0.000000</td>\n",
       "    </tr>\n",
       "    <tr>\n",
       "      <th>25%</th>\n",
       "      <td>5000.750000</td>\n",
       "      <td>0.000000</td>\n",
       "      <td>23451.0000</td>\n",
       "      <td>5.000000</td>\n",
       "      <td>1.000000</td>\n",
       "      <td>37.000000</td>\n",
       "      <td>8.000000</td>\n",
       "      <td>7.000000</td>\n",
       "      <td>0.000000</td>\n",
       "      <td>0.000000</td>\n",
       "      <td>0.000000</td>\n",
       "      <td>0.000000</td>\n",
       "    </tr>\n",
       "    <tr>\n",
       "      <th>50%</th>\n",
       "      <td>10000.500000</td>\n",
       "      <td>0.000000</td>\n",
       "      <td>55402.5000</td>\n",
       "      <td>10.500000</td>\n",
       "      <td>2.000000</td>\n",
       "      <td>71.000000</td>\n",
       "      <td>15.000000</td>\n",
       "      <td>15.000000</td>\n",
       "      <td>0.000000</td>\n",
       "      <td>0.000000</td>\n",
       "      <td>0.000000</td>\n",
       "      <td>0.000000</td>\n",
       "    </tr>\n",
       "    <tr>\n",
       "      <th>75%</th>\n",
       "      <td>15000.250000</td>\n",
       "      <td>0.000000</td>\n",
       "      <td>89018.7500</td>\n",
       "      <td>15.250000</td>\n",
       "      <td>3.000000</td>\n",
       "      <td>124.500000</td>\n",
       "      <td>24.000000</td>\n",
       "      <td>24.000000</td>\n",
       "      <td>0.000000</td>\n",
       "      <td>0.000000</td>\n",
       "      <td>0.000000</td>\n",
       "      <td>0.000000</td>\n",
       "    </tr>\n",
       "    <tr>\n",
       "      <th>max</th>\n",
       "      <td>20000.000000</td>\n",
       "      <td>1.000000</td>\n",
       "      <td>99999.0000</td>\n",
       "      <td>20.000000</td>\n",
       "      <td>5.000000</td>\n",
       "      <td>937.500000</td>\n",
       "      <td>36.000000</td>\n",
       "      <td>36.000000</td>\n",
       "      <td>1.000000</td>\n",
       "      <td>1.000000</td>\n",
       "      <td>1.000000</td>\n",
       "      <td>1.000000</td>\n",
       "    </tr>\n",
       "  </tbody>\n",
       "</table>\n",
       "</div>"
      ],
      "text/plain": [
       "                 id       bizflag         zip      zip_bins       numords  \\\n",
       "count  20000.000000  20000.000000  20000.0000  20000.000000  20000.000000   \n",
       "mean   10000.500000      0.244400  54350.2613     10.499000      2.079450   \n",
       "std     5773.647028      0.429742  32776.4059      5.766755      1.246361   \n",
       "min        1.000000      0.000000      0.0000      1.000000      1.000000   \n",
       "25%     5000.750000      0.000000  23451.0000      5.000000      1.000000   \n",
       "50%    10000.500000      0.000000  55402.5000     10.500000      2.000000   \n",
       "75%    15000.250000      0.000000  89018.7500     15.250000      3.000000   \n",
       "max    20000.000000      1.000000  99999.0000     20.000000      5.000000   \n",
       "\n",
       "            dollars          last    sincepurch      version1    owntaxprod  \\\n",
       "count  20000.000000  20000.000000  20000.000000  20000.000000  20000.000000   \n",
       "mean      93.581000     15.779650     15.751400      0.208250      0.027100   \n",
       "std       82.601398      9.527331     10.020435      0.406067      0.162379   \n",
       "min        1.000000      1.000000      1.000000      0.000000      0.000000   \n",
       "25%       37.000000      8.000000      7.000000      0.000000      0.000000   \n",
       "50%       71.000000     15.000000     15.000000      0.000000      0.000000   \n",
       "75%      124.500000     24.000000     24.000000      0.000000      0.000000   \n",
       "max      937.500000     36.000000     36.000000      1.000000      1.000000   \n",
       "\n",
       "           upgraded          res1  \n",
       "count  20000.000000  20000.000000  \n",
       "mean       0.215600      0.048050  \n",
       "std        0.411248      0.213877  \n",
       "min        0.000000      0.000000  \n",
       "25%        0.000000      0.000000  \n",
       "50%        0.000000      0.000000  \n",
       "75%        0.000000      0.000000  \n",
       "max        1.000000      1.000000  "
      ]
     },
     "execution_count": 9,
     "metadata": {},
     "output_type": "execute_result"
    }
   ],
   "source": [
    "df.describe()"
   ]
  },
  {
   "cell_type": "code",
   "execution_count": 10,
   "id": "1e8d0342-5f3a-4c86-b219-56e8c97fb6c1",
   "metadata": {
    "execution": {
     "iopub.execute_input": "2023-03-19T23:49:51.466282Z",
     "iopub.status.busy": "2023-03-19T23:49:51.465553Z",
     "iopub.status.idle": "2023-03-19T23:49:51.533275Z",
     "shell.execute_reply": "2023-03-19T23:49:51.532173Z",
     "shell.execute_reply.started": "2023-03-19T23:49:51.466249Z"
    },
    "tags": []
   },
   "outputs": [
    {
     "data": {
      "text/html": [
       "<div>\n",
       "<style scoped>\n",
       "    .dataframe tbody tr th:only-of-type {\n",
       "        vertical-align: middle;\n",
       "    }\n",
       "\n",
       "    .dataframe tbody tr th {\n",
       "        vertical-align: top;\n",
       "    }\n",
       "\n",
       "    .dataframe thead th {\n",
       "        text-align: right;\n",
       "    }\n",
       "</style>\n",
       "<table border=\"1\" class=\"dataframe\">\n",
       "  <thead>\n",
       "    <tr style=\"text-align: right;\">\n",
       "      <th></th>\n",
       "      <th>Name</th>\n",
       "      <th>Count</th>\n",
       "      <th>Frequency</th>\n",
       "    </tr>\n",
       "  </thead>\n",
       "  <tbody>\n",
       "    <tr>\n",
       "      <th>0</th>\n",
       "      <td>0</td>\n",
       "      <td>19039</td>\n",
       "      <td>0.95195</td>\n",
       "    </tr>\n",
       "    <tr>\n",
       "      <th>1</th>\n",
       "      <td>1</td>\n",
       "      <td>961</td>\n",
       "      <td>0.04805</td>\n",
       "    </tr>\n",
       "  </tbody>\n",
       "</table>\n",
       "</div>"
      ],
      "text/plain": [
       "   Name  Count  Frequency\n",
       "0     0  19039    0.95195\n",
       "1     1    961    0.04805"
      ]
     },
     "execution_count": 10,
     "metadata": {},
     "output_type": "execute_result"
    }
   ],
   "source": [
    "## Number of positive labels in results\n",
    "\n",
    "mba263.tabulate(df['res1'])"
   ]
  },
  {
   "cell_type": "code",
   "execution_count": 11,
   "id": "eba5e26c-ba1f-414f-a731-a9327fc61bd8",
   "metadata": {
    "execution": {
     "iopub.execute_input": "2023-03-19T23:49:51.536354Z",
     "iopub.status.busy": "2023-03-19T23:49:51.535868Z",
     "iopub.status.idle": "2023-03-19T23:49:51.605224Z",
     "shell.execute_reply": "2023-03-19T23:49:51.604215Z",
     "shell.execute_reply.started": "2023-03-19T23:49:51.536322Z"
    },
    "tags": []
   },
   "outputs": [
    {
     "data": {
      "text/html": [
       "<div>\n",
       "<style scoped>\n",
       "    .dataframe tbody tr th:only-of-type {\n",
       "        vertical-align: middle;\n",
       "    }\n",
       "\n",
       "    .dataframe tbody tr th {\n",
       "        vertical-align: top;\n",
       "    }\n",
       "\n",
       "    .dataframe thead th {\n",
       "        text-align: right;\n",
       "    }\n",
       "</style>\n",
       "<table border=\"1\" class=\"dataframe\">\n",
       "  <thead>\n",
       "    <tr style=\"text-align: right;\">\n",
       "      <th></th>\n",
       "      <th></th>\n",
       "      <th>cnt</th>\n",
       "    </tr>\n",
       "    <tr>\n",
       "      <th>upgraded</th>\n",
       "      <th>version1</th>\n",
       "      <th></th>\n",
       "    </tr>\n",
       "  </thead>\n",
       "  <tbody>\n",
       "    <tr>\n",
       "      <th rowspan=\"2\" valign=\"top\">0</th>\n",
       "      <th>0</th>\n",
       "      <td>11523</td>\n",
       "    </tr>\n",
       "    <tr>\n",
       "      <th>1</th>\n",
       "      <td>4165</td>\n",
       "    </tr>\n",
       "    <tr>\n",
       "      <th>1</th>\n",
       "      <th>0</th>\n",
       "      <td>4312</td>\n",
       "    </tr>\n",
       "  </tbody>\n",
       "</table>\n",
       "</div>"
      ],
      "text/plain": [
       "                     cnt\n",
       "upgraded version1       \n",
       "0        0         11523\n",
       "         1          4165\n",
       "1        0          4312"
      ]
     },
     "execution_count": 11,
     "metadata": {},
     "output_type": "execute_result"
    }
   ],
   "source": [
    "## Do all customers who upgraded have Quickbooks version 2?\n",
    "\n",
    "df.groupby(\n",
    "    [\n",
    "        'upgraded',\n",
    "        'version1',\n",
    "    ]\n",
    ").agg(\n",
    "    cnt=('id', 'count')\n",
    ")"
   ]
  },
  {
   "cell_type": "markdown",
   "id": "27a4901a-9bbb-41c7-bb32-43e21f10dc73",
   "metadata": {},
   "source": [
    "# "
   ]
  },
  {
   "cell_type": "markdown",
   "id": "2565cb53-ac88-41c5-9478-d8a87596790e",
   "metadata": {},
   "source": [
    "# Wrangling"
   ]
  },
  {
   "cell_type": "markdown",
   "id": "19bc166c-8186-4069-9082-f5bcf1d48bc5",
   "metadata": {},
   "source": [
    "##### Generating dummy variables"
   ]
  },
  {
   "cell_type": "markdown",
   "id": "dc443db3-811d-4a5a-b447-435b8f5739f8",
   "metadata": {},
   "source": [
    "###### Column: `sex`"
   ]
  },
  {
   "cell_type": "code",
   "execution_count": 12,
   "id": "87c670a1-7590-4236-987e-929cfc6de51f",
   "metadata": {
    "execution": {
     "iopub.execute_input": "2023-03-19T23:49:57.480739Z",
     "iopub.status.busy": "2023-03-19T23:49:57.480312Z",
     "iopub.status.idle": "2023-03-19T23:49:57.542591Z",
     "shell.execute_reply": "2023-03-19T23:49:57.541691Z",
     "shell.execute_reply.started": "2023-03-19T23:49:57.480704Z"
    },
    "tags": []
   },
   "outputs": [],
   "source": [
    "df = pd.concat(\n",
    "    [\n",
    "        df,\n",
    "        pd.get_dummies(df['sex'], prefix='sex', drop_first=True)\n",
    "    ],\n",
    "    axis=1\n",
    ")"
   ]
  },
  {
   "cell_type": "markdown",
   "id": "bbe96932-6c92-43c0-afc8-00f86a0cfbc9",
   "metadata": {},
   "source": [
    "###### Column: `zip_bins`"
   ]
  },
  {
   "cell_type": "code",
   "execution_count": 13,
   "id": "372cc0ce-1628-4cd8-902a-ae964aecb3fe",
   "metadata": {
    "execution": {
     "iopub.execute_input": "2023-03-19T23:49:57.544779Z",
     "iopub.status.busy": "2023-03-19T23:49:57.544281Z",
     "iopub.status.idle": "2023-03-19T23:49:57.604920Z",
     "shell.execute_reply": "2023-03-19T23:49:57.603881Z",
     "shell.execute_reply.started": "2023-03-19T23:49:57.544748Z"
    },
    "tags": []
   },
   "outputs": [],
   "source": [
    "df = pd.concat(\n",
    "    [\n",
    "        df,\n",
    "        pd.get_dummies(df['zip_bins'], prefix='zip_bins', drop_first=True)\n",
    "    ],\n",
    "    axis=1\n",
    ")"
   ]
  },
  {
   "cell_type": "markdown",
   "id": "c1d18b22-fa0e-41f6-9adf-01477b697b04",
   "metadata": {},
   "source": [
    "# "
   ]
  },
  {
   "cell_type": "markdown",
   "id": "c828656b-dbb3-4ffc-bf89-87649d5d1d23",
   "metadata": {},
   "source": [
    "# Modeling"
   ]
  },
  {
   "cell_type": "markdown",
   "id": "abb22271-32dd-42f0-bd3c-65764ce8777e",
   "metadata": {
    "jp-MarkdownHeadingCollapsed": true,
    "tags": []
   },
   "source": [
    "## M1: Logistic regression"
   ]
  },
  {
   "cell_type": "markdown",
   "id": "8dd40138-005c-4244-a887-90ed9dcad48e",
   "metadata": {
    "tags": []
   },
   "source": [
    "#### Model"
   ]
  },
  {
   "cell_type": "code",
   "execution_count": 17,
   "id": "d0cffe05-6542-4207-8a3d-575ce9652f6b",
   "metadata": {
    "execution": {
     "iopub.execute_input": "2023-03-19T23:50:57.358967Z",
     "iopub.status.busy": "2023-03-19T23:50:57.358192Z",
     "iopub.status.idle": "2023-03-19T23:50:57.415271Z",
     "shell.execute_reply": "2023-03-19T23:50:57.414365Z",
     "shell.execute_reply.started": "2023-03-19T23:50:57.358931Z"
    },
    "tags": []
   },
   "outputs": [],
   "source": [
    "dfm1 = df.copy()"
   ]
  },
  {
   "cell_type": "code",
   "execution_count": 18,
   "id": "45ce2aa0-4e9e-4508-8a63-6edbe474c160",
   "metadata": {
    "execution": {
     "iopub.execute_input": "2023-03-19T23:50:57.526135Z",
     "iopub.status.busy": "2023-03-19T23:50:57.525715Z",
     "iopub.status.idle": "2023-03-19T23:50:57.582143Z",
     "shell.execute_reply": "2023-03-19T23:50:57.581208Z",
     "shell.execute_reply.started": "2023-03-19T23:50:57.526102Z"
    },
    "tags": []
   },
   "outputs": [],
   "source": [
    "## Defining label and features for the model\n",
    "\n",
    "m1_l = ['res1']\n",
    "\n",
    "m1_f = [\n",
    "    # 'id',\n",
    "    # 'sex',\n",
    "    'sex_F',\n",
    "    'sex_M',\n",
    "    'sex_U',\n",
    "    'bizflag',\n",
    "    # 'zip',\n",
    "    # 'zip_bins',\n",
    "    'zip_bins_2',\n",
    "    'zip_bins_3',\n",
    "    'zip_bins_4',\n",
    "    'zip_bins_5',\n",
    "    'zip_bins_6',\n",
    "    'zip_bins_7',\n",
    "    'zip_bins_8',\n",
    "    'zip_bins_9',\n",
    "    'zip_bins_10',\n",
    "    'zip_bins_11',\n",
    "    'zip_bins_12',\n",
    "    'zip_bins_13',\n",
    "    'zip_bins_14',\n",
    "    'zip_bins_15',\n",
    "    'zip_bins_16',\n",
    "    'zip_bins_17',\n",
    "    'zip_bins_18',\n",
    "    'zip_bins_19',\n",
    "    'zip_bins_20',\n",
    "    'numords',\n",
    "    'dollars',\n",
    "    'last',\n",
    "    'sincepurch',\n",
    "    'version1',\n",
    "    'owntaxprod',\n",
    "    'upgraded',\n",
    "]"
   ]
  },
  {
   "cell_type": "code",
   "execution_count": 19,
   "id": "25f27955-b342-4d3f-852c-ef762ca3d33d",
   "metadata": {
    "execution": {
     "iopub.execute_input": "2023-03-19T23:50:57.743861Z",
     "iopub.status.busy": "2023-03-19T23:50:57.743457Z",
     "iopub.status.idle": "2023-03-19T23:50:57.871946Z",
     "shell.execute_reply": "2023-03-19T23:50:57.870586Z",
     "shell.execute_reply.started": "2023-03-19T23:50:57.743830Z"
    },
    "tags": []
   },
   "outputs": [
    {
     "name": "stdout",
     "output_type": "stream",
     "text": [
      "Optimization terminated successfully.\n",
      "         Current function value: 0.170171\n",
      "         Iterations 8\n"
     ]
    }
   ],
   "source": [
    "m1 = mba263.logit(\n",
    "    dfm1[m1_l],\n",
    "    dfm1[m1_f]\n",
    ")"
   ]
  },
  {
   "cell_type": "markdown",
   "id": "6e4d15f5-4fdb-45af-931b-69a05b6684ad",
   "metadata": {
    "tags": []
   },
   "source": [
    "#### Coefficients"
   ]
  },
  {
   "cell_type": "code",
   "execution_count": 20,
   "id": "0be78401-5e12-4638-83e3-ac50ad2465db",
   "metadata": {
    "execution": {
     "iopub.execute_input": "2023-03-19T23:51:00.669736Z",
     "iopub.status.busy": "2023-03-19T23:51:00.669316Z",
     "iopub.status.idle": "2023-03-19T23:51:00.803982Z",
     "shell.execute_reply": "2023-03-19T23:51:00.802911Z",
     "shell.execute_reply.started": "2023-03-19T23:51:00.669699Z"
    },
    "scrolled": true,
    "tags": []
   },
   "outputs": [
    {
     "data": {
      "text/html": [
       "<table class=\"simpletable\">\n",
       "<caption>Mba263Logit Regression Results</caption>\n",
       "<tr>\n",
       "  <th>Dep. Variable:</th>         <td>res1</td>       <th>  No. Observations:  </th>   <td> 20000</td>  \n",
       "</tr>\n",
       "<tr>\n",
       "  <th>Model:</th>              <td>Mba263Logit</td>   <th>  Df Residuals:      </th>   <td> 19969</td>  \n",
       "</tr>\n",
       "<tr>\n",
       "  <th>Method:</th>                 <td>MLE</td>       <th>  Df Model:          </th>   <td>    30</td>  \n",
       "</tr>\n",
       "<tr>\n",
       "  <th>Date:</th>            <td>Sun, 19 Mar 2023</td> <th>  Pseudo R-squ.:     </th>   <td>0.1171</td>  \n",
       "</tr>\n",
       "<tr>\n",
       "  <th>Time:</th>                <td>16:51:00</td>     <th>  Log-Likelihood:    </th>  <td> -3403.4</td> \n",
       "</tr>\n",
       "<tr>\n",
       "  <th>converged:</th>             <td>True</td>       <th>  LL-Null:           </th>  <td> -3854.7</td> \n",
       "</tr>\n",
       "<tr>\n",
       "  <th>Covariance Type:</th>     <td>nonrobust</td>    <th>  LLR p-value:       </th> <td>1.835e-170</td>\n",
       "</tr>\n",
       "</table>\n",
       "<table class=\"simpletable\">\n",
       "<tr>\n",
       "       <td></td>          <th>coef</th>     <th>std err</th>      <th>z</th>      <th>P>|z|</th>  <th>[0.025</th>    <th>0.975]</th>  \n",
       "</tr>\n",
       "<tr>\n",
       "  <th>const</th>       <td>   -0.8086</td> <td>    0.634</td> <td>   -1.276</td> <td> 0.202</td> <td>   -2.051</td> <td>    0.434</td>\n",
       "</tr>\n",
       "<tr>\n",
       "  <th>sex_F</th>       <td>   -0.8114</td> <td>    0.626</td> <td>   -1.296</td> <td> 0.195</td> <td>   -2.038</td> <td>    0.415</td>\n",
       "</tr>\n",
       "<tr>\n",
       "  <th>sex_M</th>       <td>   -0.7002</td> <td>    0.622</td> <td>   -1.126</td> <td> 0.260</td> <td>   -1.919</td> <td>    0.519</td>\n",
       "</tr>\n",
       "<tr>\n",
       "  <th>sex_U</th>       <td>   -0.6942</td> <td>    0.630</td> <td>   -1.102</td> <td> 0.270</td> <td>   -1.929</td> <td>    0.540</td>\n",
       "</tr>\n",
       "<tr>\n",
       "  <th>bizflag</th>     <td>   -0.0921</td> <td>    0.087</td> <td>   -1.054</td> <td> 0.292</td> <td>   -0.263</td> <td>    0.079</td>\n",
       "</tr>\n",
       "<tr>\n",
       "  <th>zip_bins_2</th>  <td>   -2.0447</td> <td>    0.184</td> <td>  -11.094</td> <td> 0.000</td> <td>   -2.406</td> <td>   -1.683</td>\n",
       "</tr>\n",
       "<tr>\n",
       "  <th>zip_bins_3</th>  <td>   -2.0254</td> <td>    0.186</td> <td>  -10.890</td> <td> 0.000</td> <td>   -2.390</td> <td>   -1.661</td>\n",
       "</tr>\n",
       "<tr>\n",
       "  <th>zip_bins_4</th>  <td>   -2.1785</td> <td>    0.194</td> <td>  -11.212</td> <td> 0.000</td> <td>   -2.559</td> <td>   -1.798</td>\n",
       "</tr>\n",
       "<tr>\n",
       "  <th>zip_bins_5</th>  <td>   -1.9960</td> <td>    0.181</td> <td>  -11.018</td> <td> 0.000</td> <td>   -2.351</td> <td>   -1.641</td>\n",
       "</tr>\n",
       "<tr>\n",
       "  <th>zip_bins_6</th>  <td>   -2.0928</td> <td>    0.186</td> <td>  -11.232</td> <td> 0.000</td> <td>   -2.458</td> <td>   -1.728</td>\n",
       "</tr>\n",
       "<tr>\n",
       "  <th>zip_bins_7</th>  <td>   -1.9593</td> <td>    0.181</td> <td>  -10.811</td> <td> 0.000</td> <td>   -2.314</td> <td>   -1.604</td>\n",
       "</tr>\n",
       "<tr>\n",
       "  <th>zip_bins_8</th>  <td>   -2.6290</td> <td>    0.232</td> <td>  -11.334</td> <td> 0.000</td> <td>   -3.084</td> <td>   -2.174</td>\n",
       "</tr>\n",
       "<tr>\n",
       "  <th>zip_bins_9</th>  <td>   -1.9577</td> <td>    0.177</td> <td>  -11.068</td> <td> 0.000</td> <td>   -2.304</td> <td>   -1.611</td>\n",
       "</tr>\n",
       "<tr>\n",
       "  <th>zip_bins_10</th> <td>   -1.7610</td> <td>    0.167</td> <td>  -10.545</td> <td> 0.000</td> <td>   -2.088</td> <td>   -1.434</td>\n",
       "</tr>\n",
       "<tr>\n",
       "  <th>zip_bins_11</th> <td>   -2.0902</td> <td>    0.185</td> <td>  -11.320</td> <td> 0.000</td> <td>   -2.452</td> <td>   -1.728</td>\n",
       "</tr>\n",
       "<tr>\n",
       "  <th>zip_bins_12</th> <td>   -1.6074</td> <td>    0.160</td> <td>  -10.040</td> <td> 0.000</td> <td>   -1.921</td> <td>   -1.294</td>\n",
       "</tr>\n",
       "<tr>\n",
       "  <th>zip_bins_13</th> <td>   -2.1739</td> <td>    0.192</td> <td>  -11.319</td> <td> 0.000</td> <td>   -2.550</td> <td>   -1.797</td>\n",
       "</tr>\n",
       "<tr>\n",
       "  <th>zip_bins_14</th> <td>   -2.3360</td> <td>    0.207</td> <td>  -11.279</td> <td> 0.000</td> <td>   -2.742</td> <td>   -1.930</td>\n",
       "</tr>\n",
       "<tr>\n",
       "  <th>zip_bins_15</th> <td>   -1.8666</td> <td>    0.174</td> <td>  -10.758</td> <td> 0.000</td> <td>   -2.207</td> <td>   -1.527</td>\n",
       "</tr>\n",
       "<tr>\n",
       "  <th>zip_bins_16</th> <td>   -2.2166</td> <td>    0.199</td> <td>  -11.152</td> <td> 0.000</td> <td>   -2.606</td> <td>   -1.827</td>\n",
       "</tr>\n",
       "<tr>\n",
       "  <th>zip_bins_17</th> <td>   -2.1895</td> <td>    0.194</td> <td>  -11.262</td> <td> 0.000</td> <td>   -2.571</td> <td>   -1.808</td>\n",
       "</tr>\n",
       "<tr>\n",
       "  <th>zip_bins_18</th> <td>   -1.7962</td> <td>    0.170</td> <td>  -10.575</td> <td> 0.000</td> <td>   -2.129</td> <td>   -1.463</td>\n",
       "</tr>\n",
       "<tr>\n",
       "  <th>zip_bins_19</th> <td>   -2.1626</td> <td>    0.191</td> <td>  -11.348</td> <td> 0.000</td> <td>   -2.536</td> <td>   -1.789</td>\n",
       "</tr>\n",
       "<tr>\n",
       "  <th>zip_bins_20</th> <td>   -2.0490</td> <td>    0.186</td> <td>  -11.000</td> <td> 0.000</td> <td>   -2.414</td> <td>   -1.684</td>\n",
       "</tr>\n",
       "<tr>\n",
       "  <th>numords</th>     <td>    0.2107</td> <td>    0.031</td> <td>    6.862</td> <td> 0.000</td> <td>    0.151</td> <td>    0.271</td>\n",
       "</tr>\n",
       "<tr>\n",
       "  <th>dollars</th>     <td>    0.0010</td> <td>    0.000</td> <td>    2.446</td> <td> 0.014</td> <td>    0.000</td> <td>    0.002</td>\n",
       "</tr>\n",
       "<tr>\n",
       "  <th>last</th>        <td>   -0.0519</td> <td>    0.004</td> <td>  -12.959</td> <td> 0.000</td> <td>   -0.060</td> <td>   -0.044</td>\n",
       "</tr>\n",
       "<tr>\n",
       "  <th>sincepurch</th>  <td>    0.0064</td> <td>    0.006</td> <td>    0.999</td> <td> 0.318</td> <td>   -0.006</td> <td>    0.019</td>\n",
       "</tr>\n",
       "<tr>\n",
       "  <th>version1</th>    <td>    0.6581</td> <td>    0.141</td> <td>    4.672</td> <td> 0.000</td> <td>    0.382</td> <td>    0.934</td>\n",
       "</tr>\n",
       "<tr>\n",
       "  <th>owntaxprod</th>  <td>    0.0505</td> <td>    0.188</td> <td>    0.269</td> <td> 0.788</td> <td>   -0.318</td> <td>    0.419</td>\n",
       "</tr>\n",
       "<tr>\n",
       "  <th>upgraded</th>    <td>    0.8045</td> <td>    0.138</td> <td>    5.844</td> <td> 0.000</td> <td>    0.535</td> <td>    1.074</td>\n",
       "</tr>\n",
       "</table>"
      ],
      "text/plain": [
       "<class 'statsmodels.iolib.summary.Summary'>\n",
       "\"\"\"\n",
       "                        Mba263Logit Regression Results                        \n",
       "==============================================================================\n",
       "Dep. Variable:                   res1   No. Observations:                20000\n",
       "Model:                    Mba263Logit   Df Residuals:                    19969\n",
       "Method:                           MLE   Df Model:                           30\n",
       "Date:                Sun, 19 Mar 2023   Pseudo R-squ.:                  0.1171\n",
       "Time:                        16:51:00   Log-Likelihood:                -3403.4\n",
       "converged:                       True   LL-Null:                       -3854.7\n",
       "Covariance Type:            nonrobust   LLR p-value:                1.835e-170\n",
       "===============================================================================\n",
       "                  coef    std err          z      P>|z|      [0.025      0.975]\n",
       "-------------------------------------------------------------------------------\n",
       "const          -0.8086      0.634     -1.276      0.202      -2.051       0.434\n",
       "sex_F          -0.8114      0.626     -1.296      0.195      -2.038       0.415\n",
       "sex_M          -0.7002      0.622     -1.126      0.260      -1.919       0.519\n",
       "sex_U          -0.6942      0.630     -1.102      0.270      -1.929       0.540\n",
       "bizflag        -0.0921      0.087     -1.054      0.292      -0.263       0.079\n",
       "zip_bins_2     -2.0447      0.184    -11.094      0.000      -2.406      -1.683\n",
       "zip_bins_3     -2.0254      0.186    -10.890      0.000      -2.390      -1.661\n",
       "zip_bins_4     -2.1785      0.194    -11.212      0.000      -2.559      -1.798\n",
       "zip_bins_5     -1.9960      0.181    -11.018      0.000      -2.351      -1.641\n",
       "zip_bins_6     -2.0928      0.186    -11.232      0.000      -2.458      -1.728\n",
       "zip_bins_7     -1.9593      0.181    -10.811      0.000      -2.314      -1.604\n",
       "zip_bins_8     -2.6290      0.232    -11.334      0.000      -3.084      -2.174\n",
       "zip_bins_9     -1.9577      0.177    -11.068      0.000      -2.304      -1.611\n",
       "zip_bins_10    -1.7610      0.167    -10.545      0.000      -2.088      -1.434\n",
       "zip_bins_11    -2.0902      0.185    -11.320      0.000      -2.452      -1.728\n",
       "zip_bins_12    -1.6074      0.160    -10.040      0.000      -1.921      -1.294\n",
       "zip_bins_13    -2.1739      0.192    -11.319      0.000      -2.550      -1.797\n",
       "zip_bins_14    -2.3360      0.207    -11.279      0.000      -2.742      -1.930\n",
       "zip_bins_15    -1.8666      0.174    -10.758      0.000      -2.207      -1.527\n",
       "zip_bins_16    -2.2166      0.199    -11.152      0.000      -2.606      -1.827\n",
       "zip_bins_17    -2.1895      0.194    -11.262      0.000      -2.571      -1.808\n",
       "zip_bins_18    -1.7962      0.170    -10.575      0.000      -2.129      -1.463\n",
       "zip_bins_19    -2.1626      0.191    -11.348      0.000      -2.536      -1.789\n",
       "zip_bins_20    -2.0490      0.186    -11.000      0.000      -2.414      -1.684\n",
       "numords         0.2107      0.031      6.862      0.000       0.151       0.271\n",
       "dollars         0.0010      0.000      2.446      0.014       0.000       0.002\n",
       "last           -0.0519      0.004    -12.959      0.000      -0.060      -0.044\n",
       "sincepurch      0.0064      0.006      0.999      0.318      -0.006       0.019\n",
       "version1        0.6581      0.141      4.672      0.000       0.382       0.934\n",
       "owntaxprod      0.0505      0.188      0.269      0.788      -0.318       0.419\n",
       "upgraded        0.8045      0.138      5.844      0.000       0.535       1.074\n",
       "===============================================================================\n",
       "\"\"\""
      ]
     },
     "execution_count": 20,
     "metadata": {},
     "output_type": "execute_result"
    }
   ],
   "source": [
    "m1.summary()"
   ]
  },
  {
   "cell_type": "code",
   "execution_count": 21,
   "id": "be02f9a4-e71b-4d54-89b4-9bbffaa3ad75",
   "metadata": {
    "execution": {
     "iopub.execute_input": "2023-03-19T23:51:00.858757Z",
     "iopub.status.busy": "2023-03-19T23:51:00.858204Z",
     "iopub.status.idle": "2023-03-19T23:51:00.934897Z",
     "shell.execute_reply": "2023-03-19T23:51:00.934025Z",
     "shell.execute_reply.started": "2023-03-19T23:51:00.858707Z"
    },
    "scrolled": true,
    "tags": []
   },
   "outputs": [
    {
     "data": {
      "text/html": [
       "<div>\n",
       "<style scoped>\n",
       "    .dataframe tbody tr th:only-of-type {\n",
       "        vertical-align: middle;\n",
       "    }\n",
       "\n",
       "    .dataframe tbody tr th {\n",
       "        vertical-align: top;\n",
       "    }\n",
       "\n",
       "    .dataframe thead th {\n",
       "        text-align: right;\n",
       "    }\n",
       "</style>\n",
       "<table border=\"1\" class=\"dataframe\">\n",
       "  <thead>\n",
       "    <tr style=\"text-align: right;\">\n",
       "      <th></th>\n",
       "      <th>Odds ratios</th>\n",
       "      <th>std err</th>\n",
       "      <th>z</th>\n",
       "      <th>P&gt;|z|</th>\n",
       "      <th>[0.025</th>\n",
       "      <th>0.975]</th>\n",
       "    </tr>\n",
       "  </thead>\n",
       "  <tbody>\n",
       "    <tr>\n",
       "      <th>sex_F</th>\n",
       "      <td>0.444240</td>\n",
       "      <td>0.278054</td>\n",
       "      <td>1.998750</td>\n",
       "      <td>0.046</td>\n",
       "      <td>-0.095184</td>\n",
       "      <td>0.983664</td>\n",
       "    </tr>\n",
       "    <tr>\n",
       "      <th>sex_M</th>\n",
       "      <td>0.496484</td>\n",
       "      <td>0.308791</td>\n",
       "      <td>1.630605</td>\n",
       "      <td>0.103</td>\n",
       "      <td>-0.102569</td>\n",
       "      <td>1.095538</td>\n",
       "    </tr>\n",
       "    <tr>\n",
       "      <th>sex_U</th>\n",
       "      <td>0.499470</td>\n",
       "      <td>0.314606</td>\n",
       "      <td>1.590974</td>\n",
       "      <td>0.112</td>\n",
       "      <td>-0.110866</td>\n",
       "      <td>1.109806</td>\n",
       "    </tr>\n",
       "    <tr>\n",
       "      <th>bizflag</th>\n",
       "      <td>0.912018</td>\n",
       "      <td>0.079718</td>\n",
       "      <td>1.103670</td>\n",
       "      <td>0.270</td>\n",
       "      <td>0.757365</td>\n",
       "      <td>1.066671</td>\n",
       "    </tr>\n",
       "    <tr>\n",
       "      <th>zip_bins_2</th>\n",
       "      <td>0.129424</td>\n",
       "      <td>0.023853</td>\n",
       "      <td>36.498171</td>\n",
       "      <td>0.000</td>\n",
       "      <td>0.083150</td>\n",
       "      <td>0.175698</td>\n",
       "    </tr>\n",
       "    <tr>\n",
       "      <th>zip_bins_3</th>\n",
       "      <td>0.131945</td>\n",
       "      <td>0.024539</td>\n",
       "      <td>35.374425</td>\n",
       "      <td>0.000</td>\n",
       "      <td>0.084339</td>\n",
       "      <td>0.179551</td>\n",
       "    </tr>\n",
       "    <tr>\n",
       "      <th>zip_bins_4</th>\n",
       "      <td>0.113206</td>\n",
       "      <td>0.021996</td>\n",
       "      <td>40.316434</td>\n",
       "      <td>0.000</td>\n",
       "      <td>0.070534</td>\n",
       "      <td>0.155878</td>\n",
       "    </tr>\n",
       "    <tr>\n",
       "      <th>zip_bins_5</th>\n",
       "      <td>0.135881</td>\n",
       "      <td>0.024616</td>\n",
       "      <td>35.103853</td>\n",
       "      <td>0.000</td>\n",
       "      <td>0.088126</td>\n",
       "      <td>0.183636</td>\n",
       "    </tr>\n",
       "    <tr>\n",
       "      <th>zip_bins_6</th>\n",
       "      <td>0.123335</td>\n",
       "      <td>0.022981</td>\n",
       "      <td>38.147483</td>\n",
       "      <td>0.000</td>\n",
       "      <td>0.078752</td>\n",
       "      <td>0.167918</td>\n",
       "    </tr>\n",
       "    <tr>\n",
       "      <th>zip_bins_7</th>\n",
       "      <td>0.140960</td>\n",
       "      <td>0.025546</td>\n",
       "      <td>33.627544</td>\n",
       "      <td>0.000</td>\n",
       "      <td>0.091401</td>\n",
       "      <td>0.190518</td>\n",
       "    </tr>\n",
       "    <tr>\n",
       "      <th>zip_bins_8</th>\n",
       "      <td>0.072149</td>\n",
       "      <td>0.016735</td>\n",
       "      <td>55.443094</td>\n",
       "      <td>0.000</td>\n",
       "      <td>0.039683</td>\n",
       "      <td>0.104615</td>\n",
       "    </tr>\n",
       "    <tr>\n",
       "      <th>zip_bins_9</th>\n",
       "      <td>0.141177</td>\n",
       "      <td>0.024972</td>\n",
       "      <td>34.391856</td>\n",
       "      <td>0.000</td>\n",
       "      <td>0.092731</td>\n",
       "      <td>0.189622</td>\n",
       "    </tr>\n",
       "    <tr>\n",
       "      <th>zip_bins_10</th>\n",
       "      <td>0.171872</td>\n",
       "      <td>0.028703</td>\n",
       "      <td>28.851224</td>\n",
       "      <td>0.000</td>\n",
       "      <td>0.116187</td>\n",
       "      <td>0.227556</td>\n",
       "    </tr>\n",
       "    <tr>\n",
       "      <th>zip_bins_11</th>\n",
       "      <td>0.123658</td>\n",
       "      <td>0.022834</td>\n",
       "      <td>38.379071</td>\n",
       "      <td>0.000</td>\n",
       "      <td>0.079361</td>\n",
       "      <td>0.167956</td>\n",
       "    </tr>\n",
       "    <tr>\n",
       "      <th>zip_bins_12</th>\n",
       "      <td>0.200413</td>\n",
       "      <td>0.032086</td>\n",
       "      <td>24.919956</td>\n",
       "      <td>0.000</td>\n",
       "      <td>0.138165</td>\n",
       "      <td>0.262660</td>\n",
       "    </tr>\n",
       "    <tr>\n",
       "      <th>zip_bins_13</th>\n",
       "      <td>0.113735</td>\n",
       "      <td>0.021844</td>\n",
       "      <td>40.573284</td>\n",
       "      <td>0.000</td>\n",
       "      <td>0.071358</td>\n",
       "      <td>0.156111</td>\n",
       "    </tr>\n",
       "    <tr>\n",
       "      <th>zip_bins_14</th>\n",
       "      <td>0.096709</td>\n",
       "      <td>0.020029</td>\n",
       "      <td>45.098890</td>\n",
       "      <td>0.000</td>\n",
       "      <td>0.057853</td>\n",
       "      <td>0.135566</td>\n",
       "    </tr>\n",
       "    <tr>\n",
       "      <th>zip_bins_15</th>\n",
       "      <td>0.154644</td>\n",
       "      <td>0.026831</td>\n",
       "      <td>31.506391</td>\n",
       "      <td>0.000</td>\n",
       "      <td>0.102591</td>\n",
       "      <td>0.206697</td>\n",
       "    </tr>\n",
       "    <tr>\n",
       "      <th>zip_bins_16</th>\n",
       "      <td>0.108974</td>\n",
       "      <td>0.021661</td>\n",
       "      <td>41.134774</td>\n",
       "      <td>0.000</td>\n",
       "      <td>0.066952</td>\n",
       "      <td>0.150997</td>\n",
       "    </tr>\n",
       "    <tr>\n",
       "      <th>zip_bins_17</th>\n",
       "      <td>0.111969</td>\n",
       "      <td>0.021769</td>\n",
       "      <td>40.794187</td>\n",
       "      <td>0.000</td>\n",
       "      <td>0.069738</td>\n",
       "      <td>0.154200</td>\n",
       "    </tr>\n",
       "    <tr>\n",
       "      <th>zip_bins_18</th>\n",
       "      <td>0.165921</td>\n",
       "      <td>0.028183</td>\n",
       "      <td>29.595070</td>\n",
       "      <td>0.000</td>\n",
       "      <td>0.111246</td>\n",
       "      <td>0.220596</td>\n",
       "    </tr>\n",
       "    <tr>\n",
       "      <th>zip_bins_19</th>\n",
       "      <td>0.115021</td>\n",
       "      <td>0.021921</td>\n",
       "      <td>40.371886</td>\n",
       "      <td>0.000</td>\n",
       "      <td>0.072494</td>\n",
       "      <td>0.157547</td>\n",
       "    </tr>\n",
       "    <tr>\n",
       "      <th>zip_bins_20</th>\n",
       "      <td>0.128859</td>\n",
       "      <td>0.024004</td>\n",
       "      <td>36.291491</td>\n",
       "      <td>0.000</td>\n",
       "      <td>0.082292</td>\n",
       "      <td>0.175427</td>\n",
       "    </tr>\n",
       "    <tr>\n",
       "      <th>numords</th>\n",
       "      <td>1.234541</td>\n",
       "      <td>0.037910</td>\n",
       "      <td>6.186850</td>\n",
       "      <td>0.000</td>\n",
       "      <td>1.160997</td>\n",
       "      <td>1.308086</td>\n",
       "    </tr>\n",
       "    <tr>\n",
       "      <th>dollars</th>\n",
       "      <td>1.001025</td>\n",
       "      <td>0.000419</td>\n",
       "      <td>2.444576</td>\n",
       "      <td>0.015</td>\n",
       "      <td>1.000211</td>\n",
       "      <td>1.001838</td>\n",
       "    </tr>\n",
       "    <tr>\n",
       "      <th>last</th>\n",
       "      <td>0.949440</td>\n",
       "      <td>0.003801</td>\n",
       "      <td>13.301360</td>\n",
       "      <td>0.000</td>\n",
       "      <td>0.942065</td>\n",
       "      <td>0.956814</td>\n",
       "    </tr>\n",
       "    <tr>\n",
       "      <th>sincepurch</th>\n",
       "      <td>1.006433</td>\n",
       "      <td>0.006462</td>\n",
       "      <td>0.995541</td>\n",
       "      <td>0.319</td>\n",
       "      <td>0.993897</td>\n",
       "      <td>1.018970</td>\n",
       "    </tr>\n",
       "    <tr>\n",
       "      <th>version1</th>\n",
       "      <td>1.931073</td>\n",
       "      <td>0.272024</td>\n",
       "      <td>3.422764</td>\n",
       "      <td>0.001</td>\n",
       "      <td>1.403347</td>\n",
       "      <td>2.458799</td>\n",
       "    </tr>\n",
       "    <tr>\n",
       "      <th>owntaxprod</th>\n",
       "      <td>1.051801</td>\n",
       "      <td>0.197585</td>\n",
       "      <td>0.262169</td>\n",
       "      <td>0.793</td>\n",
       "      <td>0.668486</td>\n",
       "      <td>1.435115</td>\n",
       "    </tr>\n",
       "    <tr>\n",
       "      <th>upgraded</th>\n",
       "      <td>2.235628</td>\n",
       "      <td>0.307797</td>\n",
       "      <td>4.014424</td>\n",
       "      <td>0.000</td>\n",
       "      <td>1.638502</td>\n",
       "      <td>2.832754</td>\n",
       "    </tr>\n",
       "  </tbody>\n",
       "</table>\n",
       "</div>"
      ],
      "text/plain": [
       "             Odds ratios   std err          z  P>|z|    [0.025    0.975]\n",
       "sex_F           0.444240  0.278054   1.998750  0.046 -0.095184  0.983664\n",
       "sex_M           0.496484  0.308791   1.630605  0.103 -0.102569  1.095538\n",
       "sex_U           0.499470  0.314606   1.590974  0.112 -0.110866  1.109806\n",
       "bizflag         0.912018  0.079718   1.103670  0.270  0.757365  1.066671\n",
       "zip_bins_2      0.129424  0.023853  36.498171  0.000  0.083150  0.175698\n",
       "zip_bins_3      0.131945  0.024539  35.374425  0.000  0.084339  0.179551\n",
       "zip_bins_4      0.113206  0.021996  40.316434  0.000  0.070534  0.155878\n",
       "zip_bins_5      0.135881  0.024616  35.103853  0.000  0.088126  0.183636\n",
       "zip_bins_6      0.123335  0.022981  38.147483  0.000  0.078752  0.167918\n",
       "zip_bins_7      0.140960  0.025546  33.627544  0.000  0.091401  0.190518\n",
       "zip_bins_8      0.072149  0.016735  55.443094  0.000  0.039683  0.104615\n",
       "zip_bins_9      0.141177  0.024972  34.391856  0.000  0.092731  0.189622\n",
       "zip_bins_10     0.171872  0.028703  28.851224  0.000  0.116187  0.227556\n",
       "zip_bins_11     0.123658  0.022834  38.379071  0.000  0.079361  0.167956\n",
       "zip_bins_12     0.200413  0.032086  24.919956  0.000  0.138165  0.262660\n",
       "zip_bins_13     0.113735  0.021844  40.573284  0.000  0.071358  0.156111\n",
       "zip_bins_14     0.096709  0.020029  45.098890  0.000  0.057853  0.135566\n",
       "zip_bins_15     0.154644  0.026831  31.506391  0.000  0.102591  0.206697\n",
       "zip_bins_16     0.108974  0.021661  41.134774  0.000  0.066952  0.150997\n",
       "zip_bins_17     0.111969  0.021769  40.794187  0.000  0.069738  0.154200\n",
       "zip_bins_18     0.165921  0.028183  29.595070  0.000  0.111246  0.220596\n",
       "zip_bins_19     0.115021  0.021921  40.371886  0.000  0.072494  0.157547\n",
       "zip_bins_20     0.128859  0.024004  36.291491  0.000  0.082292  0.175427\n",
       "numords         1.234541  0.037910   6.186850  0.000  1.160997  1.308086\n",
       "dollars         1.001025  0.000419   2.444576  0.015  1.000211  1.001838\n",
       "last            0.949440  0.003801  13.301360  0.000  0.942065  0.956814\n",
       "sincepurch      1.006433  0.006462   0.995541  0.319  0.993897  1.018970\n",
       "version1        1.931073  0.272024   3.422764  0.001  1.403347  2.458799\n",
       "owntaxprod      1.051801  0.197585   0.262169  0.793  0.668486  1.435115\n",
       "upgraded        2.235628  0.307797   4.014424  0.000  1.638502  2.832754"
      ]
     },
     "execution_count": 21,
     "metadata": {},
     "output_type": "execute_result"
    }
   ],
   "source": [
    "mba263.odds_ratios(m1)"
   ]
  },
  {
   "cell_type": "markdown",
   "id": "28bfe391-063e-4748-92ba-3d7c62abfa20",
   "metadata": {
    "tags": []
   },
   "source": [
    "#### Predictions"
   ]
  },
  {
   "cell_type": "code",
   "execution_count": 22,
   "id": "e8d9ca76-de0a-46b9-8c7d-2178cef2308e",
   "metadata": {
    "execution": {
     "iopub.execute_input": "2023-03-19T23:51:05.004824Z",
     "iopub.status.busy": "2023-03-19T23:51:05.004415Z",
     "iopub.status.idle": "2023-03-19T23:51:05.065687Z",
     "shell.execute_reply": "2023-03-19T23:51:05.064577Z",
     "shell.execute_reply.started": "2023-03-19T23:51:05.004793Z"
    },
    "tags": []
   },
   "outputs": [],
   "source": [
    "dfm1['m1_pred_prob'] = m1.predict(exog=dfm1[m1_f])"
   ]
  },
  {
   "cell_type": "markdown",
   "id": "6a7eb3e3-5e3a-4302-9020-f9248539d352",
   "metadata": {},
   "source": [
    "###### "
   ]
  },
  {
   "cell_type": "markdown",
   "id": "aee73a88-9b6b-459a-833c-7ab59b191909",
   "metadata": {
    "tags": []
   },
   "source": [
    "## M2: Neural network"
   ]
  },
  {
   "cell_type": "markdown",
   "id": "25274215-d0fd-4637-94b6-5fc4df59df04",
   "metadata": {
    "tags": []
   },
   "source": [
    "#### Model"
   ]
  },
  {
   "cell_type": "code",
   "execution_count": 25,
   "id": "e46b8ce6-3f60-4213-af6e-68a717c996fc",
   "metadata": {
    "execution": {
     "iopub.execute_input": "2023-03-19T23:58:45.162028Z",
     "iopub.status.busy": "2023-03-19T23:58:45.161509Z",
     "iopub.status.idle": "2023-03-19T23:58:45.220379Z",
     "shell.execute_reply": "2023-03-19T23:58:45.219342Z",
     "shell.execute_reply.started": "2023-03-19T23:58:45.161993Z"
    },
    "tags": []
   },
   "outputs": [],
   "source": [
    "dfm2 = df.copy()"
   ]
  },
  {
   "cell_type": "code",
   "execution_count": 26,
   "id": "07fff8f7-f0f8-4057-9f0b-d9bd87dcea38",
   "metadata": {
    "execution": {
     "iopub.execute_input": "2023-03-19T23:58:45.223030Z",
     "iopub.status.busy": "2023-03-19T23:58:45.222571Z",
     "iopub.status.idle": "2023-03-19T23:58:45.300690Z",
     "shell.execute_reply": "2023-03-19T23:58:45.299743Z",
     "shell.execute_reply.started": "2023-03-19T23:58:45.223000Z"
    },
    "tags": []
   },
   "outputs": [],
   "source": [
    "## Defining label and features for the model\n",
    "\n",
    "m2_l = ['res1']\n",
    "\n",
    "m2_f = [\n",
    "    # 'id',\n",
    "    # 'sex',\n",
    "    'sex_F',\n",
    "    'sex_M',\n",
    "    'sex_U',\n",
    "    'bizflag',\n",
    "    # 'zip',\n",
    "    # 'zip_bins',\n",
    "    'zip_bins_2',\n",
    "    'zip_bins_3',\n",
    "    'zip_bins_4',\n",
    "    'zip_bins_5',\n",
    "    'zip_bins_6',\n",
    "    'zip_bins_7',\n",
    "    'zip_bins_8',\n",
    "    'zip_bins_9',\n",
    "    'zip_bins_10',\n",
    "    'zip_bins_11',\n",
    "    'zip_bins_12',\n",
    "    'zip_bins_13',\n",
    "    'zip_bins_14',\n",
    "    'zip_bins_15',\n",
    "    'zip_bins_16',\n",
    "    'zip_bins_17',\n",
    "    'zip_bins_18',\n",
    "    'zip_bins_19',\n",
    "    'zip_bins_20',\n",
    "    'numords',\n",
    "    'dollars',\n",
    "    'last',\n",
    "    'sincepurch',\n",
    "    'version1',\n",
    "    'owntaxprod',\n",
    "    'upgraded',\n",
    "]"
   ]
  },
  {
   "cell_type": "code",
   "execution_count": 27,
   "id": "50ad8ce3-30da-4bc0-b327-67dd2dcc7365",
   "metadata": {
    "execution": {
     "iopub.execute_input": "2023-03-19T23:58:45.302792Z",
     "iopub.status.busy": "2023-03-19T23:58:45.302260Z",
     "iopub.status.idle": "2023-03-19T23:58:46.661036Z",
     "shell.execute_reply": "2023-03-19T23:58:46.660004Z",
     "shell.execute_reply.started": "2023-03-19T23:58:45.302752Z"
    },
    "tags": []
   },
   "outputs": [],
   "source": [
    "m2 = mba263.neural_network(\n",
    "    dfm2[m2_l],\n",
    "    dfm2[m2_f]\n",
    ")"
   ]
  },
  {
   "cell_type": "markdown",
   "id": "34605947-4b29-4a28-9e29-f16d2f1c7bac",
   "metadata": {},
   "source": [
    "#### Coefficients"
   ]
  },
  {
   "cell_type": "markdown",
   "id": "32c3dbce-cb68-45dd-aae3-9d5989e90076",
   "metadata": {},
   "source": [
    "#### Predictions"
   ]
  },
  {
   "cell_type": "code",
   "execution_count": 28,
   "id": "da310cb7-a6d7-46f2-8fa5-af0380d0a635",
   "metadata": {
    "execution": {
     "iopub.execute_input": "2023-03-19T23:58:46.665901Z",
     "iopub.status.busy": "2023-03-19T23:58:46.665444Z",
     "iopub.status.idle": "2023-03-19T23:58:46.736194Z",
     "shell.execute_reply": "2023-03-19T23:58:46.735187Z",
     "shell.execute_reply.started": "2023-03-19T23:58:46.665866Z"
    },
    "tags": []
   },
   "outputs": [],
   "source": [
    "dfm2['m2_pred_prob'] = m2.predict(dfm2[m2_f])"
   ]
  },
  {
   "cell_type": "markdown",
   "id": "c319347b-e0dc-4ed8-b9d5-eb8288f78d72",
   "metadata": {},
   "source": [
    "###### "
   ]
  },
  {
   "cell_type": "markdown",
   "id": "2b203e37-d64e-409e-bd12-13b443c17a8f",
   "metadata": {
    "tags": []
   },
   "source": [
    "## M3: Logistic regression with regularization"
   ]
  },
  {
   "cell_type": "markdown",
   "id": "f1576828-53d9-42a0-b412-3abe7b4cf430",
   "metadata": {},
   "source": [
    "#### Model"
   ]
  },
  {
   "cell_type": "code",
   "execution_count": 29,
   "id": "02562bd3-fecc-4196-803a-d945e9423aa5",
   "metadata": {
    "execution": {
     "iopub.execute_input": "2023-03-19T23:58:46.738294Z",
     "iopub.status.busy": "2023-03-19T23:58:46.737428Z",
     "iopub.status.idle": "2023-03-19T23:58:46.797969Z",
     "shell.execute_reply": "2023-03-19T23:58:46.796825Z",
     "shell.execute_reply.started": "2023-03-19T23:58:46.738257Z"
    },
    "tags": []
   },
   "outputs": [],
   "source": [
    "dfm3 = df.copy()"
   ]
  },
  {
   "cell_type": "code",
   "execution_count": 30,
   "id": "fe6d4954-a49e-4bc6-a082-9523dff49433",
   "metadata": {
    "execution": {
     "iopub.execute_input": "2023-03-19T23:58:46.800425Z",
     "iopub.status.busy": "2023-03-19T23:58:46.800028Z",
     "iopub.status.idle": "2023-03-19T23:58:46.858243Z",
     "shell.execute_reply": "2023-03-19T23:58:46.857195Z",
     "shell.execute_reply.started": "2023-03-19T23:58:46.800391Z"
    },
    "tags": []
   },
   "outputs": [],
   "source": [
    "## Defining label and features for the model\n",
    "\n",
    "m3_l = ['res1']\n",
    "\n",
    "m3_f = [\n",
    "    # 'id',\n",
    "    # 'sex',\n",
    "    'sex_F',\n",
    "    'sex_M',\n",
    "    'sex_U',\n",
    "    'bizflag',\n",
    "    # 'zip',\n",
    "    # 'zip_bins',\n",
    "    'zip_bins_2',\n",
    "    'zip_bins_3',\n",
    "    'zip_bins_4',\n",
    "    'zip_bins_5',\n",
    "    'zip_bins_6',\n",
    "    'zip_bins_7',\n",
    "    'zip_bins_8',\n",
    "    'zip_bins_9',\n",
    "    'zip_bins_10',\n",
    "    'zip_bins_11',\n",
    "    'zip_bins_12',\n",
    "    'zip_bins_13',\n",
    "    'zip_bins_14',\n",
    "    'zip_bins_15',\n",
    "    'zip_bins_16',\n",
    "    'zip_bins_17',\n",
    "    'zip_bins_18',\n",
    "    'zip_bins_19',\n",
    "    'zip_bins_20',\n",
    "    'numords',\n",
    "    'dollars',\n",
    "    'last',\n",
    "    'sincepurch',\n",
    "    'version1',\n",
    "    'owntaxprod',\n",
    "    'upgraded',\n",
    "]"
   ]
  },
  {
   "cell_type": "code",
   "execution_count": 31,
   "id": "ba1b3342-4450-4aa0-9bc7-558df48ae7c6",
   "metadata": {
    "execution": {
     "iopub.execute_input": "2023-03-19T23:58:46.860426Z",
     "iopub.status.busy": "2023-03-19T23:58:46.859917Z",
     "iopub.status.idle": "2023-03-19T23:58:47.406597Z",
     "shell.execute_reply": "2023-03-19T23:58:47.405435Z",
     "shell.execute_reply.started": "2023-03-19T23:58:46.860390Z"
    },
    "tags": []
   },
   "outputs": [
    {
     "name": "stdout",
     "output_type": "stream",
     "text": [
      "Optimization terminated successfully    (Exit mode 0)\n",
      "            Current function value: 0.1759311791453971\n",
      "            Iterations: 212\n",
      "            Function evaluations: 219\n",
      "            Gradient evaluations: 212\n"
     ]
    }
   ],
   "source": [
    "m3 = mba263.logit_reg(\n",
    "    dfm3[m3_l],\n",
    "    dfm3[m3_f],\n",
    "    alpha=3\n",
    ")"
   ]
  },
  {
   "cell_type": "markdown",
   "id": "5fded363-f054-4fca-861a-f33fae4d5695",
   "metadata": {},
   "source": [
    "#### Coefficients"
   ]
  },
  {
   "cell_type": "code",
   "execution_count": 32,
   "id": "65543edb-250f-4f32-9081-e83e694881d1",
   "metadata": {
    "execution": {
     "iopub.execute_input": "2023-03-19T23:58:47.409226Z",
     "iopub.status.busy": "2023-03-19T23:58:47.408693Z",
     "iopub.status.idle": "2023-03-19T23:58:47.585909Z",
     "shell.execute_reply": "2023-03-19T23:58:47.584885Z",
     "shell.execute_reply.started": "2023-03-19T23:58:47.409184Z"
    },
    "scrolled": true,
    "tags": []
   },
   "outputs": [
    {
     "data": {
      "text/html": [
       "<table class=\"simpletable\">\n",
       "<tr>\n",
       "        <td>Model:</td>           <td>Mba263Logit</td>   <td>Pseudo R-squared:</td>    <td>0.113</td>   \n",
       "</tr>\n",
       "<tr>\n",
       "  <td>Dependent Variable:</td>       <td>res1</td>             <td>AIC:</td>         <td>6891.1281</td> \n",
       "</tr>\n",
       "<tr>\n",
       "         <td>Date:</td>        <td>2023-03-19 16:58</td>       <td>BIC:</td>         <td>7112.4257</td> \n",
       "</tr>\n",
       "<tr>\n",
       "   <td>No. Observations:</td>        <td>20000</td>       <td>Log-Likelihood:</td>    <td>-3417.6</td>  \n",
       "</tr>\n",
       "<tr>\n",
       "       <td>Df Model:</td>             <td>27</td>            <td>LL-Null:</td>        <td>-3854.7</td>  \n",
       "</tr>\n",
       "<tr>\n",
       "     <td>Df Residuals:</td>          <td>19972</td>        <td>LLR p-value:</td>    <td>9.0739e-167</td>\n",
       "</tr>\n",
       "<tr>\n",
       "      <td>Converged:</td>           <td>1.0000</td>           <td>Scale:</td>         <td>1.0000</td>   \n",
       "</tr>\n",
       "<tr>\n",
       "    <td>No. Iterations:</td>       <td>212.0000</td>             <td></td>               <td></td>      \n",
       "</tr>\n",
       "</table>\n",
       "<table class=\"simpletable\">\n",
       "<tr>\n",
       "       <td></td>        <th>Coef.</th>  <th>Std.Err.</th>     <th>z</th>     <th>P>|z|</th> <th>[0.025</th>  <th>0.975]</th> \n",
       "</tr>\n",
       "<tr>\n",
       "  <th>const</th>       <td>-1.8624</td>  <td>0.1393</td>  <td>-13.3697</td> <td>0.0000</td> <td>-2.1354</td> <td>-1.5894</td>\n",
       "</tr>\n",
       "<tr>\n",
       "  <th>sex_F</th>       <td>-0.1078</td>  <td>0.0865</td>   <td>-1.2468</td> <td>0.2125</td> <td>-0.2773</td> <td>0.0617</td> \n",
       "</tr>\n",
       "<tr>\n",
       "  <th>sex_M</th>       <td>0.0000</td>     <td>nan</td>      <td>nan</td>     <td>nan</td>    <td>nan</td>     <td>nan</td>  \n",
       "</tr>\n",
       "<tr>\n",
       "  <th>sex_U</th>       <td>0.0000</td>     <td>nan</td>      <td>nan</td>     <td>nan</td>    <td>nan</td>     <td>nan</td>  \n",
       "</tr>\n",
       "<tr>\n",
       "  <th>bizflag</th>     <td>-0.0932</td>  <td>0.0812</td>   <td>-1.1490</td> <td>0.2506</td> <td>-0.2523</td> <td>0.0658</td> \n",
       "</tr>\n",
       "<tr>\n",
       "  <th>zip_bins_2</th>  <td>-1.5739</td>  <td>0.1828</td>   <td>-8.6082</td> <td>0.0000</td> <td>-1.9323</td> <td>-1.2156</td>\n",
       "</tr>\n",
       "<tr>\n",
       "  <th>zip_bins_3</th>  <td>-1.5512</td>  <td>0.1842</td>   <td>-8.4192</td> <td>0.0000</td> <td>-1.9123</td> <td>-1.1901</td>\n",
       "</tr>\n",
       "<tr>\n",
       "  <th>zip_bins_4</th>  <td>-1.6962</td>  <td>0.1914</td>   <td>-8.8621</td> <td>0.0000</td> <td>-2.0713</td> <td>-1.3210</td>\n",
       "</tr>\n",
       "<tr>\n",
       "  <th>zip_bins_5</th>  <td>-1.5260</td>  <td>0.1801</td>   <td>-8.4746</td> <td>0.0000</td> <td>-1.8790</td> <td>-1.1731</td>\n",
       "</tr>\n",
       "<tr>\n",
       "  <th>zip_bins_6</th>  <td>-1.6153</td>  <td>0.1845</td>   <td>-8.7561</td> <td>0.0000</td> <td>-1.9769</td> <td>-1.2537</td>\n",
       "</tr>\n",
       "<tr>\n",
       "  <th>zip_bins_7</th>  <td>-1.4938</td>  <td>0.1802</td>   <td>-8.2898</td> <td>0.0000</td> <td>-1.8470</td> <td>-1.1406</td>\n",
       "</tr>\n",
       "<tr>\n",
       "  <th>zip_bins_8</th>  <td>-2.1026</td>  <td>0.2227</td>   <td>-9.4402</td> <td>0.0000</td> <td>-2.5391</td> <td>-1.6660</td>\n",
       "</tr>\n",
       "<tr>\n",
       "  <th>zip_bins_9</th>  <td>-1.4883</td>  <td>0.1763</td>   <td>-8.4440</td> <td>0.0000</td> <td>-1.8337</td> <td>-1.1428</td>\n",
       "</tr>\n",
       "<tr>\n",
       "  <th>zip_bins_10</th> <td>-1.3084</td>  <td>0.1677</td>   <td>-7.8014</td> <td>0.0000</td> <td>-1.6371</td> <td>-0.9797</td>\n",
       "</tr>\n",
       "<tr>\n",
       "  <th>zip_bins_11</th> <td>-1.6169</td>  <td>0.1831</td>   <td>-8.8323</td> <td>0.0000</td> <td>-1.9757</td> <td>-1.2581</td>\n",
       "</tr>\n",
       "<tr>\n",
       "  <th>zip_bins_12</th> <td>-1.1592</td>  <td>0.1614</td>   <td>-7.1837</td> <td>0.0000</td> <td>-1.4755</td> <td>-0.8429</td>\n",
       "</tr>\n",
       "<tr>\n",
       "  <th>zip_bins_13</th> <td>-1.6949</td>  <td>0.1895</td>   <td>-8.9442</td> <td>0.0000</td> <td>-2.0663</td> <td>-1.3235</td>\n",
       "</tr>\n",
       "<tr>\n",
       "  <th>zip_bins_14</th> <td>-1.8404</td>  <td>0.2023</td>   <td>-9.0985</td> <td>0.0000</td> <td>-2.2369</td> <td>-1.4440</td>\n",
       "</tr>\n",
       "<tr>\n",
       "  <th>zip_bins_15</th> <td>-1.4077</td>  <td>0.1734</td>   <td>-8.1181</td> <td>0.0000</td> <td>-1.7475</td> <td>-1.0678</td>\n",
       "</tr>\n",
       "<tr>\n",
       "  <th>zip_bins_16</th> <td>-1.7335</td>  <td>0.1952</td>   <td>-8.8803</td> <td>0.0000</td> <td>-2.1161</td> <td>-1.3509</td>\n",
       "</tr>\n",
       "<tr>\n",
       "  <th>zip_bins_17</th> <td>-1.7090</td>  <td>0.1915</td>   <td>-8.9243</td> <td>0.0000</td> <td>-2.0843</td> <td>-1.3337</td>\n",
       "</tr>\n",
       "<tr>\n",
       "  <th>zip_bins_18</th> <td>-1.3408</td>  <td>0.1702</td>   <td>-7.8792</td> <td>0.0000</td> <td>-1.6743</td> <td>-1.0073</td>\n",
       "</tr>\n",
       "<tr>\n",
       "  <th>zip_bins_19</th> <td>-1.6800</td>  <td>0.1881</td>   <td>-8.9319</td> <td>0.0000</td> <td>-2.0487</td> <td>-1.3114</td>\n",
       "</tr>\n",
       "<tr>\n",
       "  <th>zip_bins_20</th> <td>-1.5751</td>  <td>0.1844</td>   <td>-8.5407</td> <td>0.0000</td> <td>-1.9365</td> <td>-1.2136</td>\n",
       "</tr>\n",
       "<tr>\n",
       "  <th>numords</th>     <td>0.1947</td>   <td>0.0302</td>   <td>6.4463</td>  <td>0.0000</td> <td>0.1355</td>  <td>0.2539</td> \n",
       "</tr>\n",
       "<tr>\n",
       "  <th>dollars</th>     <td>0.0011</td>   <td>0.0004</td>   <td>2.5747</td>  <td>0.0100</td> <td>0.0003</td>  <td>0.0019</td> \n",
       "</tr>\n",
       "<tr>\n",
       "  <th>last</th>        <td>-0.0511</td>  <td>0.0039</td>  <td>-12.9424</td> <td>0.0000</td> <td>-0.0589</td> <td>-0.0434</td>\n",
       "</tr>\n",
       "<tr>\n",
       "  <th>sincepurch</th>  <td>0.0093</td>   <td>0.0063</td>   <td>1.4689</td>  <td>0.1419</td> <td>-0.0031</td> <td>0.0217</td> \n",
       "</tr>\n",
       "<tr>\n",
       "  <th>version1</th>    <td>0.5539</td>   <td>0.1389</td>   <td>3.9876</td>  <td>0.0001</td> <td>0.2817</td>  <td>0.8262</td> \n",
       "</tr>\n",
       "<tr>\n",
       "  <th>owntaxprod</th>  <td>0.0000</td>     <td>nan</td>      <td>nan</td>     <td>nan</td>    <td>nan</td>     <td>nan</td>  \n",
       "</tr>\n",
       "<tr>\n",
       "  <th>upgraded</th>    <td>0.6998</td>   <td>0.1355</td>   <td>5.1634</td>  <td>0.0000</td> <td>0.4341</td>  <td>0.9654</td> \n",
       "</tr>\n",
       "</table>"
      ],
      "text/plain": [
       "<class 'statsmodels.iolib.summary2.Summary'>\n",
       "\"\"\"\n",
       "                       Results: Mba263Logit\n",
       "==================================================================\n",
       "Model:              Mba263Logit      Pseudo R-squared: 0.113      \n",
       "Dependent Variable: res1             AIC:              6891.1281  \n",
       "Date:               2023-03-19 16:58 BIC:              7112.4257  \n",
       "No. Observations:   20000            Log-Likelihood:   -3417.6    \n",
       "Df Model:           27               LL-Null:          -3854.7    \n",
       "Df Residuals:       19972            LLR p-value:      9.0739e-167\n",
       "Converged:          1.0000           Scale:            1.0000     \n",
       "No. Iterations:     212.0000                                      \n",
       "-------------------------------------------------------------------\n",
       "               Coef.   Std.Err.     z      P>|z|    [0.025   0.975]\n",
       "-------------------------------------------------------------------\n",
       "const         -1.8624    0.1393  -13.3697  0.0000  -2.1354  -1.5894\n",
       "sex_F         -0.1078    0.0865   -1.2468  0.2125  -0.2773   0.0617\n",
       "sex_M          0.0000       nan       nan     nan      nan      nan\n",
       "sex_U          0.0000       nan       nan     nan      nan      nan\n",
       "bizflag       -0.0932    0.0812   -1.1490  0.2506  -0.2523   0.0658\n",
       "zip_bins_2    -1.5739    0.1828   -8.6082  0.0000  -1.9323  -1.2156\n",
       "zip_bins_3    -1.5512    0.1842   -8.4192  0.0000  -1.9123  -1.1901\n",
       "zip_bins_4    -1.6962    0.1914   -8.8621  0.0000  -2.0713  -1.3210\n",
       "zip_bins_5    -1.5260    0.1801   -8.4746  0.0000  -1.8790  -1.1731\n",
       "zip_bins_6    -1.6153    0.1845   -8.7561  0.0000  -1.9769  -1.2537\n",
       "zip_bins_7    -1.4938    0.1802   -8.2898  0.0000  -1.8470  -1.1406\n",
       "zip_bins_8    -2.1026    0.2227   -9.4402  0.0000  -2.5391  -1.6660\n",
       "zip_bins_9    -1.4883    0.1763   -8.4440  0.0000  -1.8337  -1.1428\n",
       "zip_bins_10   -1.3084    0.1677   -7.8014  0.0000  -1.6371  -0.9797\n",
       "zip_bins_11   -1.6169    0.1831   -8.8323  0.0000  -1.9757  -1.2581\n",
       "zip_bins_12   -1.1592    0.1614   -7.1837  0.0000  -1.4755  -0.8429\n",
       "zip_bins_13   -1.6949    0.1895   -8.9442  0.0000  -2.0663  -1.3235\n",
       "zip_bins_14   -1.8404    0.2023   -9.0985  0.0000  -2.2369  -1.4440\n",
       "zip_bins_15   -1.4077    0.1734   -8.1181  0.0000  -1.7475  -1.0678\n",
       "zip_bins_16   -1.7335    0.1952   -8.8803  0.0000  -2.1161  -1.3509\n",
       "zip_bins_17   -1.7090    0.1915   -8.9243  0.0000  -2.0843  -1.3337\n",
       "zip_bins_18   -1.3408    0.1702   -7.8792  0.0000  -1.6743  -1.0073\n",
       "zip_bins_19   -1.6800    0.1881   -8.9319  0.0000  -2.0487  -1.3114\n",
       "zip_bins_20   -1.5751    0.1844   -8.5407  0.0000  -1.9365  -1.2136\n",
       "numords        0.1947    0.0302    6.4463  0.0000   0.1355   0.2539\n",
       "dollars        0.0011    0.0004    2.5747  0.0100   0.0003   0.0019\n",
       "last          -0.0511    0.0039  -12.9424  0.0000  -0.0589  -0.0434\n",
       "sincepurch     0.0093    0.0063    1.4689  0.1419  -0.0031   0.0217\n",
       "version1       0.5539    0.1389    3.9876  0.0001   0.2817   0.8262\n",
       "owntaxprod     0.0000       nan       nan     nan      nan      nan\n",
       "upgraded       0.6998    0.1355    5.1634  0.0000   0.4341   0.9654\n",
       "==================================================================\n",
       "\n",
       "\"\"\""
      ]
     },
     "execution_count": 32,
     "metadata": {},
     "output_type": "execute_result"
    }
   ],
   "source": [
    "m3.summary2()"
   ]
  },
  {
   "cell_type": "markdown",
   "id": "72dbb85a-b85c-4549-9419-cb6d3fa3adbb",
   "metadata": {},
   "source": [
    "#### Predictions"
   ]
  },
  {
   "cell_type": "code",
   "execution_count": 33,
   "id": "c8569a4b-47af-4521-b337-d8f72dec29c1",
   "metadata": {
    "execution": {
     "iopub.execute_input": "2023-03-19T23:58:47.588281Z",
     "iopub.status.busy": "2023-03-19T23:58:47.587803Z",
     "iopub.status.idle": "2023-03-19T23:58:47.654279Z",
     "shell.execute_reply": "2023-03-19T23:58:47.653148Z",
     "shell.execute_reply.started": "2023-03-19T23:58:47.588246Z"
    },
    "tags": []
   },
   "outputs": [],
   "source": [
    "dfm3['m3_pred_prob'] = m3.predict(dfm3[m3_f])"
   ]
  },
  {
   "cell_type": "markdown",
   "id": "64da6a35-b9ce-43f6-8099-aa37cbb2c16e",
   "metadata": {},
   "source": [
    "###### "
   ]
  },
  {
   "cell_type": "markdown",
   "id": "cc0a92c2-a5f0-4105-90dc-f9e812bd89a9",
   "metadata": {
    "tags": []
   },
   "source": [
    "## M4: Random forest"
   ]
  },
  {
   "cell_type": "markdown",
   "id": "30c1ed00-149c-47a3-9edb-7caea0291f7f",
   "metadata": {},
   "source": [
    "#### Model"
   ]
  },
  {
   "cell_type": "code",
   "execution_count": 34,
   "id": "2b1dcad0-4016-4078-b668-5a91b9fc2023",
   "metadata": {
    "execution": {
     "iopub.execute_input": "2023-03-19T23:58:47.661880Z",
     "iopub.status.busy": "2023-03-19T23:58:47.661326Z",
     "iopub.status.idle": "2023-03-19T23:58:47.727875Z",
     "shell.execute_reply": "2023-03-19T23:58:47.726733Z",
     "shell.execute_reply.started": "2023-03-19T23:58:47.661832Z"
    },
    "tags": []
   },
   "outputs": [],
   "source": [
    "dfm4 = df.copy()"
   ]
  },
  {
   "cell_type": "code",
   "execution_count": 35,
   "id": "e558fb76-9304-4516-9b43-de37bff1495d",
   "metadata": {
    "execution": {
     "iopub.execute_input": "2023-03-19T23:58:47.730551Z",
     "iopub.status.busy": "2023-03-19T23:58:47.729642Z",
     "iopub.status.idle": "2023-03-19T23:58:47.792199Z",
     "shell.execute_reply": "2023-03-19T23:58:47.790984Z",
     "shell.execute_reply.started": "2023-03-19T23:58:47.730504Z"
    },
    "tags": []
   },
   "outputs": [],
   "source": [
    "## Defining label and features for the model\n",
    "\n",
    "m4_l = ['res1']\n",
    "\n",
    "m4_f = [\n",
    "    # 'id',\n",
    "    # 'sex',\n",
    "    'sex_F',\n",
    "    'sex_M',\n",
    "    'sex_U',\n",
    "    'bizflag',\n",
    "    # 'zip',\n",
    "    # 'zip_bins',\n",
    "    'zip_bins_2',\n",
    "    'zip_bins_3',\n",
    "    'zip_bins_4',\n",
    "    'zip_bins_5',\n",
    "    'zip_bins_6',\n",
    "    'zip_bins_7',\n",
    "    'zip_bins_8',\n",
    "    'zip_bins_9',\n",
    "    'zip_bins_10',\n",
    "    'zip_bins_11',\n",
    "    'zip_bins_12',\n",
    "    'zip_bins_13',\n",
    "    'zip_bins_14',\n",
    "    'zip_bins_15',\n",
    "    'zip_bins_16',\n",
    "    'zip_bins_17',\n",
    "    'zip_bins_18',\n",
    "    'zip_bins_19',\n",
    "    'zip_bins_20',\n",
    "    'numords',\n",
    "    'dollars',\n",
    "    'last',\n",
    "    'sincepurch',\n",
    "    'version1',\n",
    "    'owntaxprod',\n",
    "    'upgraded',\n",
    "]"
   ]
  },
  {
   "cell_type": "code",
   "execution_count": 36,
   "id": "6869556d-b6c4-4961-8771-17b3e3c43dc5",
   "metadata": {
    "execution": {
     "iopub.execute_input": "2023-03-19T23:58:47.794246Z",
     "iopub.status.busy": "2023-03-19T23:58:47.793820Z",
     "iopub.status.idle": "2023-03-19T23:58:50.599858Z",
     "shell.execute_reply": "2023-03-19T23:58:50.598919Z",
     "shell.execute_reply.started": "2023-03-19T23:58:47.794211Z"
    },
    "tags": []
   },
   "outputs": [],
   "source": [
    "m4 = mba263.random_forest(\n",
    "    dfm4[m4_l],\n",
    "    dfm4[m4_f],\n",
    "    trees=500,\n",
    "    leaf_nodes=15,\n",
    ")"
   ]
  },
  {
   "cell_type": "markdown",
   "id": "9cb14933-0778-44d1-a374-b72356909811",
   "metadata": {},
   "source": [
    "#### Coefficients"
   ]
  },
  {
   "cell_type": "markdown",
   "id": "8565983c-0992-418e-9491-bb46b3f0f825",
   "metadata": {},
   "source": [
    "#### Predictions"
   ]
  },
  {
   "cell_type": "code",
   "execution_count": 37,
   "id": "ac789850-957b-44a5-abdc-d1fb452f9a0c",
   "metadata": {
    "execution": {
     "iopub.execute_input": "2023-03-19T23:58:50.601556Z",
     "iopub.status.busy": "2023-03-19T23:58:50.601089Z",
     "iopub.status.idle": "2023-03-19T23:58:50.984485Z",
     "shell.execute_reply": "2023-03-19T23:58:50.983514Z",
     "shell.execute_reply.started": "2023-03-19T23:58:50.601523Z"
    },
    "tags": []
   },
   "outputs": [],
   "source": [
    "dfm4['m4_pred_prob'] = m4.predict(dfm4[m4_f])"
   ]
  },
  {
   "cell_type": "markdown",
   "id": "83ca515b-9ef5-4920-aa5f-cafde60e8884",
   "metadata": {},
   "source": [
    "###### "
   ]
  },
  {
   "cell_type": "markdown",
   "id": "f1839464-3962-4675-992d-1fd447a79b98",
   "metadata": {
    "tags": []
   },
   "source": [
    "## M5: Best model selection\n",
    "WIP"
   ]
  },
  {
   "cell_type": "markdown",
   "id": "0d5c88a5-b94a-4be2-90c1-50e30da05d36",
   "metadata": {},
   "source": [
    "#### Model"
   ]
  },
  {
   "cell_type": "code",
   "execution_count": null,
   "id": "918cdf4c-bdeb-4c0f-ab2e-41b59e81fdf3",
   "metadata": {
    "tags": []
   },
   "outputs": [],
   "source": [
    "dfm5 = df.copy()"
   ]
  },
  {
   "cell_type": "code",
   "execution_count": null,
   "id": "c1d18dd3-6183-4ce4-9e52-63036b043281",
   "metadata": {
    "tags": []
   },
   "outputs": [],
   "source": [
    "## Defining label and features for the model\n",
    "\n",
    "m5_l = ['res1']\n",
    "\n",
    "m5_f = [\n",
    "    # 'id',\n",
    "    # 'sex',\n",
    "    'sex_F',\n",
    "    'sex_M',\n",
    "    'sex_U',\n",
    "    'bizflag',\n",
    "    # 'zip',\n",
    "    # 'zip_bins',\n",
    "    'zip_bins_2',\n",
    "    'zip_bins_3',\n",
    "    'zip_bins_4',\n",
    "    'zip_bins_5',\n",
    "    'zip_bins_6',\n",
    "    'zip_bins_7',\n",
    "    'zip_bins_8',\n",
    "    'zip_bins_9',\n",
    "    'zip_bins_10',\n",
    "    'zip_bins_11',\n",
    "    'zip_bins_12',\n",
    "    'zip_bins_13',\n",
    "    'zip_bins_14',\n",
    "    'zip_bins_15',\n",
    "    'zip_bins_16',\n",
    "    'zip_bins_17',\n",
    "    'zip_bins_18',\n",
    "    'zip_bins_19',\n",
    "    'zip_bins_20',\n",
    "    'numords',\n",
    "    'dollars',\n",
    "    'last',\n",
    "    'sincepurch',\n",
    "    'version1',\n",
    "    'owntaxprod',\n",
    "    'upgraded',\n",
    "]"
   ]
  },
  {
   "cell_type": "code",
   "execution_count": null,
   "id": "b9bed71c-8234-4ba6-a53c-7f53fdc02bac",
   "metadata": {
    "tags": []
   },
   "outputs": [],
   "source": [
    "m5 = mba263.random_forest(\n",
    "    dfm5[m5_l],\n",
    "    dfm5[m5_f],\n",
    "    trees=500,\n",
    ")"
   ]
  },
  {
   "cell_type": "markdown",
   "id": "8a07c58b-037c-4598-af74-99d37cd5e85f",
   "metadata": {},
   "source": [
    "#### Coefficients"
   ]
  },
  {
   "cell_type": "markdown",
   "id": "965a67b8-84f7-452e-98e9-ea052934972a",
   "metadata": {},
   "source": [
    "#### Predictions"
   ]
  },
  {
   "cell_type": "code",
   "execution_count": null,
   "id": "894e18c1-6c07-4ad3-b8ed-28016c070dde",
   "metadata": {
    "tags": []
   },
   "outputs": [],
   "source": [
    "dfm4['m4_pred_prob'] = m4.predict(dfm4[m4_f])"
   ]
  },
  {
   "cell_type": "markdown",
   "id": "5e4e8631-24c1-4260-8ced-0940cc995c83",
   "metadata": {},
   "source": [
    "###### "
   ]
  },
  {
   "cell_type": "markdown",
   "id": "11433b3e-54b6-493c-8007-a1111835254e",
   "metadata": {},
   "source": [
    "## Models compilation"
   ]
  },
  {
   "cell_type": "code",
   "execution_count": 38,
   "id": "5ffec184-3c83-4a59-84c4-2d2ac79a55a6",
   "metadata": {
    "execution": {
     "iopub.execute_input": "2023-03-19T23:59:08.978596Z",
     "iopub.status.busy": "2023-03-19T23:59:08.977796Z",
     "iopub.status.idle": "2023-03-19T23:59:09.034054Z",
     "shell.execute_reply": "2023-03-19T23:59:09.033019Z",
     "shell.execute_reply.started": "2023-03-19T23:59:08.978560Z"
    },
    "tags": []
   },
   "outputs": [],
   "source": [
    "## Models objects\n",
    "models = {\n",
    "    \n",
    "    ## Logistic regression\n",
    "    'm1': { \n",
    "        'df': dfm1,\n",
    "        'label': m1_l,\n",
    "        'features': m1_f,\n",
    "        'model': m1,\n",
    "    },\n",
    "    \n",
    "    ## Neural network\n",
    "    'm2': { \n",
    "        'df': dfm2,\n",
    "        'label': m2_l,\n",
    "        'features': m2_f,\n",
    "        'model': m2,\n",
    "    },\n",
    "    \n",
    "    ## Logistic regression with regularization\n",
    "    'm3': { \n",
    "        'df': dfm3,\n",
    "        'label': m3_l,\n",
    "        'features': m3_f,\n",
    "        'model': m3,\n",
    "    },\n",
    "    \n",
    "    ## Random forest\n",
    "    'm4': {\n",
    "        'df': dfm4,\n",
    "        'label': m4_l,\n",
    "        'features': m4_f,\n",
    "        'model': m4,\n",
    "    },\n",
    "    \n",
    "}"
   ]
  },
  {
   "cell_type": "markdown",
   "id": "6b22bce8-b81a-43df-8886-adce639813b5",
   "metadata": {},
   "source": [
    "# "
   ]
  },
  {
   "cell_type": "markdown",
   "id": "e3e6269d-4b66-4155-8510-8b6dc4cb2ad1",
   "metadata": {},
   "source": [
    "# Results exploration"
   ]
  },
  {
   "cell_type": "markdown",
   "id": "183537a0-89c5-4c6e-99e7-d622366bbf13",
   "metadata": {
    "tags": []
   },
   "source": [
    "### Probability predictions distribution based on results"
   ]
  },
  {
   "cell_type": "markdown",
   "id": "13e44388-1440-409d-b896-f2637afc6412",
   "metadata": {
    "tags": []
   },
   "source": [
    "##### Model 1: Logistic regression"
   ]
  },
  {
   "cell_type": "code",
   "execution_count": null,
   "id": "1cb2f9ab-fc68-4bf7-b777-4150765f64c5",
   "metadata": {
    "execution": {
     "iopub.execute_input": "2023-03-19T23:59:35.248946Z",
     "iopub.status.busy": "2023-03-19T23:59:35.248516Z",
     "iopub.status.idle": "2023-03-19T23:59:36.493920Z",
     "shell.execute_reply": "2023-03-19T23:59:36.493026Z",
     "shell.execute_reply.started": "2023-03-19T23:59:35.248910Z"
    },
    "tags": []
   },
   "outputs": [],
   "source": [
    "fig = px.box(dfm1, x=\"res1\", y=round(dfm1['m1_pred_prob'], 4))\n",
    "fig.show()"
   ]
  },
  {
   "cell_type": "code",
   "execution_count": null,
   "id": "d3c66f2b-cc4a-40ce-8c02-0a8f08b86e74",
   "metadata": {
    "tags": []
   },
   "outputs": [],
   "source": [
    "fig = px.histogram(\n",
    "    dfm1, \n",
    "    x=\"m1_pred_prob\", \n",
    "    color=\"res1\", \n",
    "    nbins=100,\n",
    "    marginal='rug',\n",
    "    histnorm='probability',\n",
    "    barmode='overlay'\n",
    ")\n",
    "\n",
    "fig.show()"
   ]
  },
  {
   "cell_type": "markdown",
   "id": "187d1c5f-2954-496c-bb26-4eb8fbe8a6c6",
   "metadata": {
    "jp-MarkdownHeadingCollapsed": true,
    "tags": []
   },
   "source": [
    "##### Model 2: Neural network"
   ]
  },
  {
   "cell_type": "code",
   "execution_count": null,
   "id": "508bfa8b-dad4-4033-b671-ded61fbf57e6",
   "metadata": {
    "tags": []
   },
   "outputs": [],
   "source": [
    "fig = px.box(dfm2, x=\"res1\", y=round(dfm2['m2_pred_prob'], 4))\n",
    "fig.show()"
   ]
  },
  {
   "cell_type": "code",
   "execution_count": null,
   "id": "4a8a9d49-0d0e-4936-ae6b-135251a41834",
   "metadata": {
    "tags": []
   },
   "outputs": [],
   "source": [
    "fig = px.histogram(\n",
    "    dfm2, \n",
    "    x=\"m2_pred_prob\", \n",
    "    color=\"res1\", \n",
    "    nbins=100,\n",
    "    marginal='rug',\n",
    "    histnorm='probability',\n",
    "    barmode='overlay'\n",
    ")\n",
    "\n",
    "fig.show()"
   ]
  },
  {
   "cell_type": "markdown",
   "id": "8a9bc3cd-83e6-48ec-be5d-371266273454",
   "metadata": {
    "jp-MarkdownHeadingCollapsed": true,
    "tags": []
   },
   "source": [
    "##### Model 4: Random forest"
   ]
  },
  {
   "cell_type": "code",
   "execution_count": null,
   "id": "49eecdc3-d08a-457e-9881-d3bb05b6dc5d",
   "metadata": {
    "tags": []
   },
   "outputs": [],
   "source": [
    "fig = px.box(dfm4, x=\"res1\", y=round(dfm4['m4_pred_prob'], 4))\n",
    "fig.show()"
   ]
  },
  {
   "cell_type": "code",
   "execution_count": null,
   "id": "21e4305c-442b-4a38-a27d-4e47301119c9",
   "metadata": {
    "tags": []
   },
   "outputs": [],
   "source": [
    "fig = px.histogram(\n",
    "    dfm4, \n",
    "    x=\"m4_pred_prob\", \n",
    "    color=\"res1\", \n",
    "    nbins=100,\n",
    "    marginal='rug',\n",
    "    histnorm='probability',\n",
    "    barmode='overlay'\n",
    ")\n",
    "\n",
    "fig.show()"
   ]
  },
  {
   "cell_type": "markdown",
   "id": "15a8d589-389e-4968-82a1-d59737eb7f82",
   "metadata": {
    "tags": []
   },
   "source": [
    "### Gains"
   ]
  },
  {
   "cell_type": "code",
   "execution_count": 42,
   "id": "119263a2-2af8-4b55-8572-426d1f849093",
   "metadata": {
    "execution": {
     "iopub.execute_input": "2023-03-20T00:07:09.159561Z",
     "iopub.status.busy": "2023-03-20T00:07:09.159139Z",
     "iopub.status.idle": "2023-03-20T00:07:11.938648Z",
     "shell.execute_reply": "2023-03-20T00:07:11.937289Z",
     "shell.execute_reply.started": "2023-03-20T00:07:09.159524Z"
    },
    "jupyter": {
     "source_hidden": true
    },
    "tags": []
   },
   "outputs": [
    {
     "data": {
      "application/vnd.plotly.v1+json": {
       "config": {
        "plotlyServerURL": "https://plot.ly"
       },
       "data": [
        {
         "mode": "lines",
         "name": "m1",
         "type": "scatter",
         "x": [
          0,
          1,
          2,
          3,
          4,
          5,
          6,
          7,
          8,
          9,
          10,
          11,
          12,
          13,
          14,
          15,
          16,
          17,
          18,
          19,
          20,
          21,
          22,
          23,
          24,
          25,
          26,
          27,
          28,
          29,
          30
         ],
         "y": [
          0,
          0.19458896982310095,
          0.3194588969823101,
          0.3881373569198751,
          0.4505723204994797,
          0.5109261186264308,
          0.554630593132154,
          0.5920915712799167,
          0.6264308012486993,
          0.6545265348595213,
          0.6940686784599376,
          0.7190426638917794,
          0.7419354838709677,
          0.7700312174817898,
          0.7835587929240374,
          0.8012486992715921,
          0.8272632674297606,
          0.850156087408949,
          0.8720083246618107,
          0.8886576482830385,
          0.9063475546305931,
          0.9157127991675338,
          0.9281997918834547,
          0.9438085327783559,
          0.9531737773152965,
          0.9646201873048907,
          0.9750260145681582,
          0.9823100936524454,
          0.9854318418314256,
          0.9947970863683663,
          1
         ]
        },
        {
         "mode": "lines",
         "name": "m2",
         "type": "scatter",
         "x": [
          0,
          1,
          2,
          3,
          4,
          5,
          6,
          7,
          8,
          9,
          10,
          11,
          12,
          13,
          14,
          15,
          16,
          17,
          18,
          19,
          20,
          21,
          22,
          23,
          24,
          25,
          26,
          27,
          28,
          29,
          30
         ],
         "y": [
          0,
          0.21956295525494277,
          0.34235171696149846,
          0.4266389177939646,
          0.5005202913631633,
          0.5567117585848075,
          0.6004162330905307,
          0.6378772112382934,
          0.6711758584807492,
          0.6992715920915713,
          0.7263267429760666,
          0.7554630593132154,
          0.7752341311134235,
          0.7981269510926119,
          0.8126951092611863,
          0.8449531737773153,
          0.8605619146722164,
          0.8740894901144641,
          0.8917793964620188,
          0.9063475546305931,
          0.918834547346514,
          0.9334027055150884,
          0.9500520291363164,
          0.959417273673257,
          0.9708636836628513,
          0.9771071800208116,
          0.9833506763787722,
          0.9875130072840791,
          0.9937565036420395,
          0.9989594172736732,
          1
         ]
        },
        {
         "mode": "lines",
         "name": "m3",
         "type": "scatter",
         "x": [
          0,
          1,
          2,
          3,
          4,
          5,
          6,
          7,
          8,
          9,
          10,
          11,
          12,
          13,
          14,
          15,
          16,
          17,
          18,
          19,
          20,
          21,
          22,
          23,
          24,
          25,
          26,
          27,
          28,
          29,
          30
         ],
         "y": [
          0,
          0.1914672216441207,
          0.30801248699271594,
          0.37460978147762747,
          0.449531737773153,
          0.5015608740894901,
          0.54630593132154,
          0.586888657648283,
          0.6233090530697191,
          0.6514047866805411,
          0.6899063475546305,
          0.7159209157127991,
          0.7398543184183143,
          0.7617065556711758,
          0.7804370447450573,
          0.8033298647242456,
          0.8272632674297606,
          0.850156087408949,
          0.8761706555671176,
          0.8876170655567117,
          0.9042663891779397,
          0.918834547346514,
          0.9344432882414152,
          0.9438085327783559,
          0.9542143600416233,
          0.9667013527575442,
          0.9750260145681582,
          0.9823100936524454,
          0.9885535900104059,
          0.9947970863683663,
          1
         ]
        },
        {
         "mode": "lines",
         "name": "m4",
         "type": "scatter",
         "x": [
          0,
          1,
          2,
          3,
          4,
          5,
          6,
          7,
          8,
          9,
          10,
          11,
          12,
          13,
          14,
          15,
          16,
          17,
          18,
          19,
          20,
          21,
          22,
          23,
          24,
          25,
          26,
          27,
          28,
          29,
          30
         ],
         "y": [
          0,
          0.19771071800208118,
          0.2924037460978148,
          0.36524453694068676,
          0.40582726326742974,
          0.4557752341311134,
          0.5046826222684704,
          0.5327783558792925,
          0.5744016649323621,
          0.5983350676378772,
          0.6305931321540063,
          0.663891779396462,
          0.6992715920915713,
          0.7242455775234131,
          0.7492195629552549,
          0.7731529656607701,
          0.7991675338189386,
          0.8199791883454735,
          0.8355879292403746,
          0.8553590010405827,
          0.8616024973985432,
          0.8803329864724245,
          0.899063475546306,
          0.9167533818938606,
          0.9344432882414152,
          0.9448491155046826,
          0.963579604578564,
          0.9771071800208116,
          0.9875130072840791,
          0.9927159209157128,
          1
         ]
        }
       ],
       "layout": {
        "height": 500,
        "shapes": [
         {
          "line": {
           "dash": "dash"
          },
          "type": "line",
          "x0": 0,
          "x1": 30,
          "y0": 0,
          "y1": 1
         }
        ],
        "template": {
         "data": {
          "bar": [
           {
            "error_x": {
             "color": "#2a3f5f"
            },
            "error_y": {
             "color": "#2a3f5f"
            },
            "marker": {
             "line": {
              "color": "#E5ECF6",
              "width": 0.5
             },
             "pattern": {
              "fillmode": "overlay",
              "size": 10,
              "solidity": 0.2
             }
            },
            "type": "bar"
           }
          ],
          "barpolar": [
           {
            "marker": {
             "line": {
              "color": "#E5ECF6",
              "width": 0.5
             },
             "pattern": {
              "fillmode": "overlay",
              "size": 10,
              "solidity": 0.2
             }
            },
            "type": "barpolar"
           }
          ],
          "carpet": [
           {
            "aaxis": {
             "endlinecolor": "#2a3f5f",
             "gridcolor": "white",
             "linecolor": "white",
             "minorgridcolor": "white",
             "startlinecolor": "#2a3f5f"
            },
            "baxis": {
             "endlinecolor": "#2a3f5f",
             "gridcolor": "white",
             "linecolor": "white",
             "minorgridcolor": "white",
             "startlinecolor": "#2a3f5f"
            },
            "type": "carpet"
           }
          ],
          "choropleth": [
           {
            "colorbar": {
             "outlinewidth": 0,
             "ticks": ""
            },
            "type": "choropleth"
           }
          ],
          "contour": [
           {
            "colorbar": {
             "outlinewidth": 0,
             "ticks": ""
            },
            "colorscale": [
             [
              0,
              "#0d0887"
             ],
             [
              0.1111111111111111,
              "#46039f"
             ],
             [
              0.2222222222222222,
              "#7201a8"
             ],
             [
              0.3333333333333333,
              "#9c179e"
             ],
             [
              0.4444444444444444,
              "#bd3786"
             ],
             [
              0.5555555555555556,
              "#d8576b"
             ],
             [
              0.6666666666666666,
              "#ed7953"
             ],
             [
              0.7777777777777778,
              "#fb9f3a"
             ],
             [
              0.8888888888888888,
              "#fdca26"
             ],
             [
              1,
              "#f0f921"
             ]
            ],
            "type": "contour"
           }
          ],
          "contourcarpet": [
           {
            "colorbar": {
             "outlinewidth": 0,
             "ticks": ""
            },
            "type": "contourcarpet"
           }
          ],
          "heatmap": [
           {
            "colorbar": {
             "outlinewidth": 0,
             "ticks": ""
            },
            "colorscale": [
             [
              0,
              "#0d0887"
             ],
             [
              0.1111111111111111,
              "#46039f"
             ],
             [
              0.2222222222222222,
              "#7201a8"
             ],
             [
              0.3333333333333333,
              "#9c179e"
             ],
             [
              0.4444444444444444,
              "#bd3786"
             ],
             [
              0.5555555555555556,
              "#d8576b"
             ],
             [
              0.6666666666666666,
              "#ed7953"
             ],
             [
              0.7777777777777778,
              "#fb9f3a"
             ],
             [
              0.8888888888888888,
              "#fdca26"
             ],
             [
              1,
              "#f0f921"
             ]
            ],
            "type": "heatmap"
           }
          ],
          "heatmapgl": [
           {
            "colorbar": {
             "outlinewidth": 0,
             "ticks": ""
            },
            "colorscale": [
             [
              0,
              "#0d0887"
             ],
             [
              0.1111111111111111,
              "#46039f"
             ],
             [
              0.2222222222222222,
              "#7201a8"
             ],
             [
              0.3333333333333333,
              "#9c179e"
             ],
             [
              0.4444444444444444,
              "#bd3786"
             ],
             [
              0.5555555555555556,
              "#d8576b"
             ],
             [
              0.6666666666666666,
              "#ed7953"
             ],
             [
              0.7777777777777778,
              "#fb9f3a"
             ],
             [
              0.8888888888888888,
              "#fdca26"
             ],
             [
              1,
              "#f0f921"
             ]
            ],
            "type": "heatmapgl"
           }
          ],
          "histogram": [
           {
            "marker": {
             "pattern": {
              "fillmode": "overlay",
              "size": 10,
              "solidity": 0.2
             }
            },
            "type": "histogram"
           }
          ],
          "histogram2d": [
           {
            "colorbar": {
             "outlinewidth": 0,
             "ticks": ""
            },
            "colorscale": [
             [
              0,
              "#0d0887"
             ],
             [
              0.1111111111111111,
              "#46039f"
             ],
             [
              0.2222222222222222,
              "#7201a8"
             ],
             [
              0.3333333333333333,
              "#9c179e"
             ],
             [
              0.4444444444444444,
              "#bd3786"
             ],
             [
              0.5555555555555556,
              "#d8576b"
             ],
             [
              0.6666666666666666,
              "#ed7953"
             ],
             [
              0.7777777777777778,
              "#fb9f3a"
             ],
             [
              0.8888888888888888,
              "#fdca26"
             ],
             [
              1,
              "#f0f921"
             ]
            ],
            "type": "histogram2d"
           }
          ],
          "histogram2dcontour": [
           {
            "colorbar": {
             "outlinewidth": 0,
             "ticks": ""
            },
            "colorscale": [
             [
              0,
              "#0d0887"
             ],
             [
              0.1111111111111111,
              "#46039f"
             ],
             [
              0.2222222222222222,
              "#7201a8"
             ],
             [
              0.3333333333333333,
              "#9c179e"
             ],
             [
              0.4444444444444444,
              "#bd3786"
             ],
             [
              0.5555555555555556,
              "#d8576b"
             ],
             [
              0.6666666666666666,
              "#ed7953"
             ],
             [
              0.7777777777777778,
              "#fb9f3a"
             ],
             [
              0.8888888888888888,
              "#fdca26"
             ],
             [
              1,
              "#f0f921"
             ]
            ],
            "type": "histogram2dcontour"
           }
          ],
          "mesh3d": [
           {
            "colorbar": {
             "outlinewidth": 0,
             "ticks": ""
            },
            "type": "mesh3d"
           }
          ],
          "parcoords": [
           {
            "line": {
             "colorbar": {
              "outlinewidth": 0,
              "ticks": ""
             }
            },
            "type": "parcoords"
           }
          ],
          "pie": [
           {
            "automargin": true,
            "type": "pie"
           }
          ],
          "scatter": [
           {
            "fillpattern": {
             "fillmode": "overlay",
             "size": 10,
             "solidity": 0.2
            },
            "type": "scatter"
           }
          ],
          "scatter3d": [
           {
            "line": {
             "colorbar": {
              "outlinewidth": 0,
              "ticks": ""
             }
            },
            "marker": {
             "colorbar": {
              "outlinewidth": 0,
              "ticks": ""
             }
            },
            "type": "scatter3d"
           }
          ],
          "scattercarpet": [
           {
            "marker": {
             "colorbar": {
              "outlinewidth": 0,
              "ticks": ""
             }
            },
            "type": "scattercarpet"
           }
          ],
          "scattergeo": [
           {
            "marker": {
             "colorbar": {
              "outlinewidth": 0,
              "ticks": ""
             }
            },
            "type": "scattergeo"
           }
          ],
          "scattergl": [
           {
            "marker": {
             "colorbar": {
              "outlinewidth": 0,
              "ticks": ""
             }
            },
            "type": "scattergl"
           }
          ],
          "scattermapbox": [
           {
            "marker": {
             "colorbar": {
              "outlinewidth": 0,
              "ticks": ""
             }
            },
            "type": "scattermapbox"
           }
          ],
          "scatterpolar": [
           {
            "marker": {
             "colorbar": {
              "outlinewidth": 0,
              "ticks": ""
             }
            },
            "type": "scatterpolar"
           }
          ],
          "scatterpolargl": [
           {
            "marker": {
             "colorbar": {
              "outlinewidth": 0,
              "ticks": ""
             }
            },
            "type": "scatterpolargl"
           }
          ],
          "scatterternary": [
           {
            "marker": {
             "colorbar": {
              "outlinewidth": 0,
              "ticks": ""
             }
            },
            "type": "scatterternary"
           }
          ],
          "surface": [
           {
            "colorbar": {
             "outlinewidth": 0,
             "ticks": ""
            },
            "colorscale": [
             [
              0,
              "#0d0887"
             ],
             [
              0.1111111111111111,
              "#46039f"
             ],
             [
              0.2222222222222222,
              "#7201a8"
             ],
             [
              0.3333333333333333,
              "#9c179e"
             ],
             [
              0.4444444444444444,
              "#bd3786"
             ],
             [
              0.5555555555555556,
              "#d8576b"
             ],
             [
              0.6666666666666666,
              "#ed7953"
             ],
             [
              0.7777777777777778,
              "#fb9f3a"
             ],
             [
              0.8888888888888888,
              "#fdca26"
             ],
             [
              1,
              "#f0f921"
             ]
            ],
            "type": "surface"
           }
          ],
          "table": [
           {
            "cells": {
             "fill": {
              "color": "#EBF0F8"
             },
             "line": {
              "color": "white"
             }
            },
            "header": {
             "fill": {
              "color": "#C8D4E3"
             },
             "line": {
              "color": "white"
             }
            },
            "type": "table"
           }
          ]
         },
         "layout": {
          "annotationdefaults": {
           "arrowcolor": "#2a3f5f",
           "arrowhead": 0,
           "arrowwidth": 1
          },
          "autotypenumbers": "strict",
          "coloraxis": {
           "colorbar": {
            "outlinewidth": 0,
            "ticks": ""
           }
          },
          "colorscale": {
           "diverging": [
            [
             0,
             "#8e0152"
            ],
            [
             0.1,
             "#c51b7d"
            ],
            [
             0.2,
             "#de77ae"
            ],
            [
             0.3,
             "#f1b6da"
            ],
            [
             0.4,
             "#fde0ef"
            ],
            [
             0.5,
             "#f7f7f7"
            ],
            [
             0.6,
             "#e6f5d0"
            ],
            [
             0.7,
             "#b8e186"
            ],
            [
             0.8,
             "#7fbc41"
            ],
            [
             0.9,
             "#4d9221"
            ],
            [
             1,
             "#276419"
            ]
           ],
           "sequential": [
            [
             0,
             "#0d0887"
            ],
            [
             0.1111111111111111,
             "#46039f"
            ],
            [
             0.2222222222222222,
             "#7201a8"
            ],
            [
             0.3333333333333333,
             "#9c179e"
            ],
            [
             0.4444444444444444,
             "#bd3786"
            ],
            [
             0.5555555555555556,
             "#d8576b"
            ],
            [
             0.6666666666666666,
             "#ed7953"
            ],
            [
             0.7777777777777778,
             "#fb9f3a"
            ],
            [
             0.8888888888888888,
             "#fdca26"
            ],
            [
             1,
             "#f0f921"
            ]
           ],
           "sequentialminus": [
            [
             0,
             "#0d0887"
            ],
            [
             0.1111111111111111,
             "#46039f"
            ],
            [
             0.2222222222222222,
             "#7201a8"
            ],
            [
             0.3333333333333333,
             "#9c179e"
            ],
            [
             0.4444444444444444,
             "#bd3786"
            ],
            [
             0.5555555555555556,
             "#d8576b"
            ],
            [
             0.6666666666666666,
             "#ed7953"
            ],
            [
             0.7777777777777778,
             "#fb9f3a"
            ],
            [
             0.8888888888888888,
             "#fdca26"
            ],
            [
             1,
             "#f0f921"
            ]
           ]
          },
          "colorway": [
           "#636efa",
           "#EF553B",
           "#00cc96",
           "#ab63fa",
           "#FFA15A",
           "#19d3f3",
           "#FF6692",
           "#B6E880",
           "#FF97FF",
           "#FECB52"
          ],
          "font": {
           "color": "#2a3f5f"
          },
          "geo": {
           "bgcolor": "white",
           "lakecolor": "white",
           "landcolor": "#E5ECF6",
           "showlakes": true,
           "showland": true,
           "subunitcolor": "white"
          },
          "hoverlabel": {
           "align": "left"
          },
          "hovermode": "closest",
          "mapbox": {
           "style": "light"
          },
          "paper_bgcolor": "white",
          "plot_bgcolor": "#E5ECF6",
          "polar": {
           "angularaxis": {
            "gridcolor": "white",
            "linecolor": "white",
            "ticks": ""
           },
           "bgcolor": "#E5ECF6",
           "radialaxis": {
            "gridcolor": "white",
            "linecolor": "white",
            "ticks": ""
           }
          },
          "scene": {
           "xaxis": {
            "backgroundcolor": "#E5ECF6",
            "gridcolor": "white",
            "gridwidth": 2,
            "linecolor": "white",
            "showbackground": true,
            "ticks": "",
            "zerolinecolor": "white"
           },
           "yaxis": {
            "backgroundcolor": "#E5ECF6",
            "gridcolor": "white",
            "gridwidth": 2,
            "linecolor": "white",
            "showbackground": true,
            "ticks": "",
            "zerolinecolor": "white"
           },
           "zaxis": {
            "backgroundcolor": "#E5ECF6",
            "gridcolor": "white",
            "gridwidth": 2,
            "linecolor": "white",
            "showbackground": true,
            "ticks": "",
            "zerolinecolor": "white"
           }
          },
          "shapedefaults": {
           "line": {
            "color": "#2a3f5f"
           }
          },
          "ternary": {
           "aaxis": {
            "gridcolor": "white",
            "linecolor": "white",
            "ticks": ""
           },
           "baxis": {
            "gridcolor": "white",
            "linecolor": "white",
            "ticks": ""
           },
           "bgcolor": "#E5ECF6",
           "caxis": {
            "gridcolor": "white",
            "linecolor": "white",
            "ticks": ""
           }
          },
          "title": {
           "x": 0.05
          },
          "xaxis": {
           "automargin": true,
           "gridcolor": "white",
           "linecolor": "white",
           "ticks": "",
           "title": {
            "standoff": 15
           },
           "zerolinecolor": "white",
           "zerolinewidth": 2
          },
          "yaxis": {
           "automargin": true,
           "gridcolor": "white",
           "linecolor": "white",
           "ticks": "",
           "title": {
            "standoff": 15
           },
           "zerolinecolor": "white",
           "zerolinewidth": 2
          }
         }
        },
        "title": {
         "text": "Gains curves"
        },
        "width": 700,
        "xaxis": {
         "autorange": true,
         "range": [
          -0.056818181818181816,
          30.056818181818183
         ],
         "type": "linear"
        },
        "yaxis": {
         "autorange": true,
         "range": [
          -0.05555555555555555,
          1.0555555555555556
         ],
         "type": "linear"
        }
       }
      },
      "image/png": "[encoded data removed]",
      "text/html": [
       "<div>                            <div id=\"b14be3e0-5b71-487c-b37e-40d9c1ce463e\" class=\"plotly-graph-div\" style=\"height:500px; width:700px;\"></div>            <script type=\"text/javascript\">                require([\"plotly\"], function(Plotly) {                    window.PLOTLYENV=window.PLOTLYENV || {};                                    if (document.getElementById(\"b14be3e0-5b71-487c-b37e-40d9c1ce463e\")) {                    Plotly.newPlot(                        \"b14be3e0-5b71-487c-b37e-40d9c1ce463e\",                        [{\"mode\":\"lines\",\"name\":\"m1\",\"x\":[0.0,1.0,2.0,3.0,4.0,5.0,6.0,7.0,8.0,9.0,10.0,11.0,12.0,13.0,14.0,15.0,16.0,17.0,18.0,19.0,20.0,21.0,22.0,23.0,24.0,25.0,26.0,27.0,28.0,29.0,30.0],\"y\":[0.0,0.19458896982310095,0.3194588969823101,0.3881373569198751,0.4505723204994797,0.5109261186264308,0.554630593132154,0.5920915712799167,0.6264308012486993,0.6545265348595213,0.6940686784599376,0.7190426638917794,0.7419354838709677,0.7700312174817898,0.7835587929240374,0.8012486992715921,0.8272632674297606,0.850156087408949,0.8720083246618107,0.8886576482830385,0.9063475546305931,0.9157127991675338,0.9281997918834547,0.9438085327783559,0.9531737773152965,0.9646201873048907,0.9750260145681582,0.9823100936524454,0.9854318418314256,0.9947970863683663,1.0],\"type\":\"scatter\"},{\"mode\":\"lines\",\"name\":\"m2\",\"x\":[0.0,1.0,2.0,3.0,4.0,5.0,6.0,7.0,8.0,9.0,10.0,11.0,12.0,13.0,14.0,15.0,16.0,17.0,18.0,19.0,20.0,21.0,22.0,23.0,24.0,25.0,26.0,27.0,28.0,29.0,30.0],\"y\":[0.0,0.21956295525494277,0.34235171696149846,0.4266389177939646,0.5005202913631633,0.5567117585848075,0.6004162330905307,0.6378772112382934,0.6711758584807492,0.6992715920915713,0.7263267429760666,0.7554630593132154,0.7752341311134235,0.7981269510926119,0.8126951092611863,0.8449531737773153,0.8605619146722164,0.8740894901144641,0.8917793964620188,0.9063475546305931,0.918834547346514,0.9334027055150884,0.9500520291363164,0.959417273673257,0.9708636836628513,0.9771071800208116,0.9833506763787722,0.9875130072840791,0.9937565036420395,0.9989594172736732,1.0],\"type\":\"scatter\"},{\"mode\":\"lines\",\"name\":\"m3\",\"x\":[0.0,1.0,2.0,3.0,4.0,5.0,6.0,7.0,8.0,9.0,10.0,11.0,12.0,13.0,14.0,15.0,16.0,17.0,18.0,19.0,20.0,21.0,22.0,23.0,24.0,25.0,26.0,27.0,28.0,29.0,30.0],\"y\":[0.0,0.1914672216441207,0.30801248699271594,0.37460978147762747,0.449531737773153,0.5015608740894901,0.54630593132154,0.586888657648283,0.6233090530697191,0.6514047866805411,0.6899063475546305,0.7159209157127991,0.7398543184183143,0.7617065556711758,0.7804370447450573,0.8033298647242456,0.8272632674297606,0.850156087408949,0.8761706555671176,0.8876170655567117,0.9042663891779397,0.918834547346514,0.9344432882414152,0.9438085327783559,0.9542143600416233,0.9667013527575442,0.9750260145681582,0.9823100936524454,0.9885535900104059,0.9947970863683663,1.0],\"type\":\"scatter\"},{\"mode\":\"lines\",\"name\":\"m4\",\"x\":[0.0,1.0,2.0,3.0,4.0,5.0,6.0,7.0,8.0,9.0,10.0,11.0,12.0,13.0,14.0,15.0,16.0,17.0,18.0,19.0,20.0,21.0,22.0,23.0,24.0,25.0,26.0,27.0,28.0,29.0,30.0],\"y\":[0.0,0.19771071800208118,0.2924037460978148,0.36524453694068676,0.40582726326742974,0.4557752341311134,0.5046826222684704,0.5327783558792925,0.5744016649323621,0.5983350676378772,0.6305931321540063,0.663891779396462,0.6992715920915713,0.7242455775234131,0.7492195629552549,0.7731529656607701,0.7991675338189386,0.8199791883454735,0.8355879292403746,0.8553590010405827,0.8616024973985432,0.8803329864724245,0.899063475546306,0.9167533818938606,0.9344432882414152,0.9448491155046826,0.963579604578564,0.9771071800208116,0.9875130072840791,0.9927159209157128,1.0],\"type\":\"scatter\"}],                        {\"template\":{\"data\":{\"histogram2dcontour\":[{\"type\":\"histogram2dcontour\",\"colorbar\":{\"outlinewidth\":0,\"ticks\":\"\"},\"colorscale\":[[0.0,\"#0d0887\"],[0.1111111111111111,\"#46039f\"],[0.2222222222222222,\"#7201a8\"],[0.3333333333333333,\"#9c179e\"],[0.4444444444444444,\"#bd3786\"],[0.5555555555555556,\"#d8576b\"],[0.6666666666666666,\"#ed7953\"],[0.7777777777777778,\"#fb9f3a\"],[0.8888888888888888,\"#fdca26\"],[1.0,\"#f0f921\"]]}],\"choropleth\":[{\"type\":\"choropleth\",\"colorbar\":{\"outlinewidth\":0,\"ticks\":\"\"}}],\"histogram2d\":[{\"type\":\"histogram2d\",\"colorbar\":{\"outlinewidth\":0,\"ticks\":\"\"},\"colorscale\":[[0.0,\"#0d0887\"],[0.1111111111111111,\"#46039f\"],[0.2222222222222222,\"#7201a8\"],[0.3333333333333333,\"#9c179e\"],[0.4444444444444444,\"#bd3786\"],[0.5555555555555556,\"#d8576b\"],[0.6666666666666666,\"#ed7953\"],[0.7777777777777778,\"#fb9f3a\"],[0.8888888888888888,\"#fdca26\"],[1.0,\"#f0f921\"]]}],\"heatmap\":[{\"type\":\"heatmap\",\"colorbar\":{\"outlinewidth\":0,\"ticks\":\"\"},\"colorscale\":[[0.0,\"#0d0887\"],[0.1111111111111111,\"#46039f\"],[0.2222222222222222,\"#7201a8\"],[0.3333333333333333,\"#9c179e\"],[0.4444444444444444,\"#bd3786\"],[0.5555555555555556,\"#d8576b\"],[0.6666666666666666,\"#ed7953\"],[0.7777777777777778,\"#fb9f3a\"],[0.8888888888888888,\"#fdca26\"],[1.0,\"#f0f921\"]]}],\"heatmapgl\":[{\"type\":\"heatmapgl\",\"colorbar\":{\"outlinewidth\":0,\"ticks\":\"\"},\"colorscale\":[[0.0,\"#0d0887\"],[0.1111111111111111,\"#46039f\"],[0.2222222222222222,\"#7201a8\"],[0.3333333333333333,\"#9c179e\"],[0.4444444444444444,\"#bd3786\"],[0.5555555555555556,\"#d8576b\"],[0.6666666666666666,\"#ed7953\"],[0.7777777777777778,\"#fb9f3a\"],[0.8888888888888888,\"#fdca26\"],[1.0,\"#f0f921\"]]}],\"contourcarpet\":[{\"type\":\"contourcarpet\",\"colorbar\":{\"outlinewidth\":0,\"ticks\":\"\"}}],\"contour\":[{\"type\":\"contour\",\"colorbar\":{\"outlinewidth\":0,\"ticks\":\"\"},\"colorscale\":[[0.0,\"#0d0887\"],[0.1111111111111111,\"#46039f\"],[0.2222222222222222,\"#7201a8\"],[0.3333333333333333,\"#9c179e\"],[0.4444444444444444,\"#bd3786\"],[0.5555555555555556,\"#d8576b\"],[0.6666666666666666,\"#ed7953\"],[0.7777777777777778,\"#fb9f3a\"],[0.8888888888888888,\"#fdca26\"],[1.0,\"#f0f921\"]]}],\"surface\":[{\"type\":\"surface\",\"colorbar\":{\"outlinewidth\":0,\"ticks\":\"\"},\"colorscale\":[[0.0,\"#0d0887\"],[0.1111111111111111,\"#46039f\"],[0.2222222222222222,\"#7201a8\"],[0.3333333333333333,\"#9c179e\"],[0.4444444444444444,\"#bd3786\"],[0.5555555555555556,\"#d8576b\"],[0.6666666666666666,\"#ed7953\"],[0.7777777777777778,\"#fb9f3a\"],[0.8888888888888888,\"#fdca26\"],[1.0,\"#f0f921\"]]}],\"mesh3d\":[{\"type\":\"mesh3d\",\"colorbar\":{\"outlinewidth\":0,\"ticks\":\"\"}}],\"scatter\":[{\"fillpattern\":{\"fillmode\":\"overlay\",\"size\":10,\"solidity\":0.2},\"type\":\"scatter\"}],\"parcoords\":[{\"type\":\"parcoords\",\"line\":{\"colorbar\":{\"outlinewidth\":0,\"ticks\":\"\"}}}],\"scatterpolargl\":[{\"type\":\"scatterpolargl\",\"marker\":{\"colorbar\":{\"outlinewidth\":0,\"ticks\":\"\"}}}],\"bar\":[{\"error_x\":{\"color\":\"#2a3f5f\"},\"error_y\":{\"color\":\"#2a3f5f\"},\"marker\":{\"line\":{\"color\":\"#E5ECF6\",\"width\":0.5},\"pattern\":{\"fillmode\":\"overlay\",\"size\":10,\"solidity\":0.2}},\"type\":\"bar\"}],\"scattergeo\":[{\"type\":\"scattergeo\",\"marker\":{\"colorbar\":{\"outlinewidth\":0,\"ticks\":\"\"}}}],\"scatterpolar\":[{\"type\":\"scatterpolar\",\"marker\":{\"colorbar\":{\"outlinewidth\":0,\"ticks\":\"\"}}}],\"histogram\":[{\"marker\":{\"pattern\":{\"fillmode\":\"overlay\",\"size\":10,\"solidity\":0.2}},\"type\":\"histogram\"}],\"scattergl\":[{\"type\":\"scattergl\",\"marker\":{\"colorbar\":{\"outlinewidth\":0,\"ticks\":\"\"}}}],\"scatter3d\":[{\"type\":\"scatter3d\",\"line\":{\"colorbar\":{\"outlinewidth\":0,\"ticks\":\"\"}},\"marker\":{\"colorbar\":{\"outlinewidth\":0,\"ticks\":\"\"}}}],\"scattermapbox\":[{\"type\":\"scattermapbox\",\"marker\":{\"colorbar\":{\"outlinewidth\":0,\"ticks\":\"\"}}}],\"scatterternary\":[{\"type\":\"scatterternary\",\"marker\":{\"colorbar\":{\"outlinewidth\":0,\"ticks\":\"\"}}}],\"scattercarpet\":[{\"type\":\"scattercarpet\",\"marker\":{\"colorbar\":{\"outlinewidth\":0,\"ticks\":\"\"}}}],\"carpet\":[{\"aaxis\":{\"endlinecolor\":\"#2a3f5f\",\"gridcolor\":\"white\",\"linecolor\":\"white\",\"minorgridcolor\":\"white\",\"startlinecolor\":\"#2a3f5f\"},\"baxis\":{\"endlinecolor\":\"#2a3f5f\",\"gridcolor\":\"white\",\"linecolor\":\"white\",\"minorgridcolor\":\"white\",\"startlinecolor\":\"#2a3f5f\"},\"type\":\"carpet\"}],\"table\":[{\"cells\":{\"fill\":{\"color\":\"#EBF0F8\"},\"line\":{\"color\":\"white\"}},\"header\":{\"fill\":{\"color\":\"#C8D4E3\"},\"line\":{\"color\":\"white\"}},\"type\":\"table\"}],\"barpolar\":[{\"marker\":{\"line\":{\"color\":\"#E5ECF6\",\"width\":0.5},\"pattern\":{\"fillmode\":\"overlay\",\"size\":10,\"solidity\":0.2}},\"type\":\"barpolar\"}],\"pie\":[{\"automargin\":true,\"type\":\"pie\"}]},\"layout\":{\"autotypenumbers\":\"strict\",\"colorway\":[\"#636efa\",\"#EF553B\",\"#00cc96\",\"#ab63fa\",\"#FFA15A\",\"#19d3f3\",\"#FF6692\",\"#B6E880\",\"#FF97FF\",\"#FECB52\"],\"font\":{\"color\":\"#2a3f5f\"},\"hovermode\":\"closest\",\"hoverlabel\":{\"align\":\"left\"},\"paper_bgcolor\":\"white\",\"plot_bgcolor\":\"#E5ECF6\",\"polar\":{\"bgcolor\":\"#E5ECF6\",\"angularaxis\":{\"gridcolor\":\"white\",\"linecolor\":\"white\",\"ticks\":\"\"},\"radialaxis\":{\"gridcolor\":\"white\",\"linecolor\":\"white\",\"ticks\":\"\"}},\"ternary\":{\"bgcolor\":\"#E5ECF6\",\"aaxis\":{\"gridcolor\":\"white\",\"linecolor\":\"white\",\"ticks\":\"\"},\"baxis\":{\"gridcolor\":\"white\",\"linecolor\":\"white\",\"ticks\":\"\"},\"caxis\":{\"gridcolor\":\"white\",\"linecolor\":\"white\",\"ticks\":\"\"}},\"coloraxis\":{\"colorbar\":{\"outlinewidth\":0,\"ticks\":\"\"}},\"colorscale\":{\"sequential\":[[0.0,\"#0d0887\"],[0.1111111111111111,\"#46039f\"],[0.2222222222222222,\"#7201a8\"],[0.3333333333333333,\"#9c179e\"],[0.4444444444444444,\"#bd3786\"],[0.5555555555555556,\"#d8576b\"],[0.6666666666666666,\"#ed7953\"],[0.7777777777777778,\"#fb9f3a\"],[0.8888888888888888,\"#fdca26\"],[1.0,\"#f0f921\"]],\"sequentialminus\":[[0.0,\"#0d0887\"],[0.1111111111111111,\"#46039f\"],[0.2222222222222222,\"#7201a8\"],[0.3333333333333333,\"#9c179e\"],[0.4444444444444444,\"#bd3786\"],[0.5555555555555556,\"#d8576b\"],[0.6666666666666666,\"#ed7953\"],[0.7777777777777778,\"#fb9f3a\"],[0.8888888888888888,\"#fdca26\"],[1.0,\"#f0f921\"]],\"diverging\":[[0,\"#8e0152\"],[0.1,\"#c51b7d\"],[0.2,\"#de77ae\"],[0.3,\"#f1b6da\"],[0.4,\"#fde0ef\"],[0.5,\"#f7f7f7\"],[0.6,\"#e6f5d0\"],[0.7,\"#b8e186\"],[0.8,\"#7fbc41\"],[0.9,\"#4d9221\"],[1,\"#276419\"]]},\"xaxis\":{\"gridcolor\":\"white\",\"linecolor\":\"white\",\"ticks\":\"\",\"title\":{\"standoff\":15},\"zerolinecolor\":\"white\",\"automargin\":true,\"zerolinewidth\":2},\"yaxis\":{\"gridcolor\":\"white\",\"linecolor\":\"white\",\"ticks\":\"\",\"title\":{\"standoff\":15},\"zerolinecolor\":\"white\",\"automargin\":true,\"zerolinewidth\":2},\"scene\":{\"xaxis\":{\"backgroundcolor\":\"#E5ECF6\",\"gridcolor\":\"white\",\"linecolor\":\"white\",\"showbackground\":true,\"ticks\":\"\",\"zerolinecolor\":\"white\",\"gridwidth\":2},\"yaxis\":{\"backgroundcolor\":\"#E5ECF6\",\"gridcolor\":\"white\",\"linecolor\":\"white\",\"showbackground\":true,\"ticks\":\"\",\"zerolinecolor\":\"white\",\"gridwidth\":2},\"zaxis\":{\"backgroundcolor\":\"#E5ECF6\",\"gridcolor\":\"white\",\"linecolor\":\"white\",\"showbackground\":true,\"ticks\":\"\",\"zerolinecolor\":\"white\",\"gridwidth\":2}},\"shapedefaults\":{\"line\":{\"color\":\"#2a3f5f\"}},\"annotationdefaults\":{\"arrowcolor\":\"#2a3f5f\",\"arrowhead\":0,\"arrowwidth\":1},\"geo\":{\"bgcolor\":\"white\",\"landcolor\":\"#E5ECF6\",\"subunitcolor\":\"white\",\"showland\":true,\"showlakes\":true,\"lakecolor\":\"white\"},\"title\":{\"x\":0.05},\"mapbox\":{\"style\":\"light\"}}},\"shapes\":[{\"line\":{\"dash\":\"dash\"},\"type\":\"line\",\"x0\":0,\"x1\":30,\"y0\":0,\"y1\":1}],\"width\":700,\"height\":500,\"title\":{\"text\":\"Gains curves\"}},                        {\"responsive\": true}                    ).then(function(){\n",
       "                            \n",
       "var gd = document.getElementById('b14be3e0-5b71-487c-b37e-40d9c1ce463e');\n",
       "var x = new MutationObserver(function (mutations, observer) {{\n",
       "        var display = window.getComputedStyle(gd).display;\n",
       "        if (!display || display === 'none') {{\n",
       "            console.log([gd, 'removed!']);\n",
       "            Plotly.purge(gd);\n",
       "            observer.disconnect();\n",
       "        }}\n",
       "}});\n",
       "\n",
       "// Listen for the removal of the full notebook cells\n",
       "var notebookContainer = gd.closest('#notebook-container');\n",
       "if (notebookContainer) {{\n",
       "    x.observe(notebookContainer, {childList: true});\n",
       "}}\n",
       "\n",
       "// Listen for the clearing of the current output cell\n",
       "var outputEl = gd.closest('.output');\n",
       "if (outputEl) {{\n",
       "    x.observe(outputEl, {childList: true});\n",
       "}}\n",
       "\n",
       "                        })                };                });            </script>        </div>"
      ]
     },
     "metadata": {},
     "output_type": "display_data"
    }
   ],
   "source": [
    "fig = go.Figure()\n",
    "\n",
    "\n",
    "fig.add_shape(\n",
    "    type='line', line=dict(dash='dash'),\n",
    "    x0=0, x1=30, y0=0, y1=1\n",
    ")\n",
    "\n",
    "\n",
    "for model_key in models:\n",
    "    \n",
    "    ## Variables definition\n",
    "    mx_info = models[model_key]\n",
    "    dfx = mx_info['df']\n",
    "    \n",
    "    ## Gain calculation\n",
    "    mx_gain = mba263.gain(dfx['res1'], dfx[model_key + '_pred_prob'], bins=30)\n",
    "\n",
    "    fig.add_trace(\n",
    "        go.Scatter(\n",
    "            x=np.linspace(0, 30, num=mx_gain.shape[0]), \n",
    "            y=mx_gain,\n",
    "            mode='lines',\n",
    "            name=model_key\n",
    "        )\n",
    "    )\n",
    "    \n",
    "\n",
    "fig.update_layout(\n",
    "    width=700, height=500,\n",
    "    title='Gains curves'\n",
    ")\n",
    "    \n",
    "fig.show()"
   ]
  },
  {
   "cell_type": "markdown",
   "id": "8b6cfb3c-a03e-47a9-88a5-cce822331521",
   "metadata": {},
   "source": [
    "###### "
   ]
  },
  {
   "cell_type": "markdown",
   "id": "ff7bc15c-00d0-45a9-9a23-e223d2d19aa3",
   "metadata": {},
   "source": [
    "### Profit estimation\n"
   ]
  },
  {
   "cell_type": "markdown",
   "id": "1b20e83d-c011-4d52-8641-fd66d40d7a98",
   "metadata": {},
   "source": [
    "##### Calculating profits for each model at different thresholds"
   ]
  },
  {
   "cell_type": "code",
   "execution_count": 43,
   "id": "563a6926-296b-456f-9e09-ee7c261a9fe3",
   "metadata": {
    "execution": {
     "iopub.execute_input": "2023-03-20T00:08:16.546535Z",
     "iopub.status.busy": "2023-03-20T00:08:16.545774Z",
     "iopub.status.idle": "2023-03-20T00:08:16.617406Z",
     "shell.execute_reply": "2023-03-20T00:08:16.616426Z",
     "shell.execute_reply.started": "2023-03-20T00:08:16.546503Z"
    },
    "jupyter": {
     "source_hidden": true
    },
    "tags": []
   },
   "outputs": [],
   "source": [
    "## Profit dataframe for various thresholds\n",
    "thd_cuts = 200\n",
    "dfprofit = pd.DataFrame(np.linspace(0, 1, num=thd_cuts))\n",
    "dfprofit.rename(columns={0: 'threshold'}, inplace=True)"
   ]
  },
  {
   "cell_type": "code",
   "execution_count": 44,
   "id": "0528469e-ede7-49cd-ae5a-7af0e8c370d7",
   "metadata": {
    "execution": {
     "iopub.execute_input": "2023-03-20T00:08:16.620080Z",
     "iopub.status.busy": "2023-03-20T00:08:16.619632Z",
     "iopub.status.idle": "2023-03-20T00:09:25.269808Z",
     "shell.execute_reply": "2023-03-20T00:09:25.268848Z",
     "shell.execute_reply.started": "2023-03-20T00:08:16.620045Z"
    },
    "jupyter": {
     "source_hidden": true
    },
    "scrolled": true,
    "tags": []
   },
   "outputs": [
    {
     "name": "stdout",
     "output_type": "stream",
     "text": [
      "m1...\n",
      "m2...\n",
      "m3...\n",
      "m4...\n",
      "end!\n"
     ]
    }
   ],
   "source": [
    "for model_key in models:\n",
    "    \n",
    "    print(model_key + '...')\n",
    "    \n",
    "    ## Defining variables\n",
    "    _model = models[model_key]['model']\n",
    "    _df = models[model_key]['df']\n",
    "    _features = _df[models[model_key]['features']]\n",
    "    _label = _df[models[model_key]['label']]\n",
    "    \n",
    "    ## Obtaining key metrics for all cutoffs\n",
    "    dfprofit[model_key] = dfprofit['threshold'].apply(\n",
    "        lambda x: metrics.confusion_matrix(\n",
    "            y_true=_label,\n",
    "            y_pred=(_model.predict(_features) > x)*1,\n",
    "        ).ravel()\n",
    "    )\n",
    "    \n",
    "    ## Desaggregating results into columns\n",
    "    dfprofit[\n",
    "        [\n",
    "            model_key + '_tn',  \n",
    "            model_key + '_fp',  \n",
    "            model_key + '_fn',  \n",
    "            model_key + '_tp',\n",
    "        ]\n",
    "    ] = pd.DataFrame(dfprofit[model_key].tolist(), index=dfprofit.index)\n",
    "    dfprofit.drop(model_key, axis=1, inplace=True)\n",
    "    \n",
    "    ## Adding some other model metrics\n",
    "    dfprofit[model_key + '_prc'] = dfprofit[model_key + '_tp']/(dfprofit[model_key + '_tp'] + dfprofit[model_key + '_fp'])\n",
    "    dfprofit[model_key + '_rcl'] = dfprofit[model_key + '_tp']/(dfprofit[model_key + '_tp'] + dfprofit[model_key + '_fn'])\n",
    "    \n",
    "    ## Calculating estimated profit\n",
    "    dfprofit[model_key + '_profit'] = dfprofit[model_key + '_tp']*(60 - 1.41) - dfprofit[model_key + '_fp']*1.41\n",
    "    \n",
    "print('end!')"
   ]
  },
  {
   "cell_type": "markdown",
   "id": "c1f7347f-09ac-40c6-bfc1-bc188d470a9c",
   "metadata": {},
   "source": [
    "##### Visualizing results"
   ]
  },
  {
   "cell_type": "code",
   "execution_count": 50,
   "id": "a9e4d46f-851c-4c13-bc3b-429648f72bd3",
   "metadata": {
    "execution": {
     "iopub.execute_input": "2023-03-20T00:11:16.199908Z",
     "iopub.status.busy": "2023-03-20T00:11:16.199476Z",
     "iopub.status.idle": "2023-03-20T00:11:16.300340Z",
     "shell.execute_reply": "2023-03-20T00:11:16.299345Z",
     "shell.execute_reply.started": "2023-03-20T00:11:16.199872Z"
    },
    "tags": []
   },
   "outputs": [
    {
     "data": {
      "text/html": [
       "<div>\n",
       "<style scoped>\n",
       "    .dataframe tbody tr th:only-of-type {\n",
       "        vertical-align: middle;\n",
       "    }\n",
       "\n",
       "    .dataframe tbody tr th {\n",
       "        vertical-align: top;\n",
       "    }\n",
       "\n",
       "    .dataframe thead th {\n",
       "        text-align: right;\n",
       "    }\n",
       "</style>\n",
       "<table border=\"1\" class=\"dataframe\">\n",
       "  <thead>\n",
       "    <tr style=\"text-align: right;\">\n",
       "      <th></th>\n",
       "      <th>threshold</th>\n",
       "      <th>m1_tn</th>\n",
       "      <th>m1_fp</th>\n",
       "      <th>m1_fn</th>\n",
       "      <th>m1_tp</th>\n",
       "      <th>m1_prc</th>\n",
       "      <th>m1_rcl</th>\n",
       "      <th>m1_profit</th>\n",
       "      <th>m2_tn</th>\n",
       "      <th>m2_fp</th>\n",
       "      <th>m2_fn</th>\n",
       "      <th>m2_tp</th>\n",
       "      <th>m2_prc</th>\n",
       "      <th>m2_rcl</th>\n",
       "      <th>m2_profit</th>\n",
       "      <th>m3_tn</th>\n",
       "      <th>m3_fp</th>\n",
       "      <th>m3_fn</th>\n",
       "      <th>m3_tp</th>\n",
       "      <th>m3_prc</th>\n",
       "      <th>m3_rcl</th>\n",
       "      <th>m3_profit</th>\n",
       "      <th>m4_tn</th>\n",
       "      <th>m4_fp</th>\n",
       "      <th>m4_fn</th>\n",
       "      <th>m4_tp</th>\n",
       "      <th>m4_prc</th>\n",
       "      <th>m4_rcl</th>\n",
       "      <th>m4_profit</th>\n",
       "    </tr>\n",
       "  </thead>\n",
       "  <tbody>\n",
       "    <tr>\n",
       "      <th>0</th>\n",
       "      <td>0.000000</td>\n",
       "      <td>0</td>\n",
       "      <td>19039</td>\n",
       "      <td>0</td>\n",
       "      <td>961</td>\n",
       "      <td>0.048050</td>\n",
       "      <td>1.000000</td>\n",
       "      <td>29460.00</td>\n",
       "      <td>0</td>\n",
       "      <td>19039</td>\n",
       "      <td>0</td>\n",
       "      <td>961</td>\n",
       "      <td>0.048050</td>\n",
       "      <td>1.000000</td>\n",
       "      <td>29460.00</td>\n",
       "      <td>0</td>\n",
       "      <td>19039</td>\n",
       "      <td>0</td>\n",
       "      <td>961</td>\n",
       "      <td>0.048050</td>\n",
       "      <td>1.000000</td>\n",
       "      <td>29460.00</td>\n",
       "      <td>0</td>\n",
       "      <td>19039</td>\n",
       "      <td>0</td>\n",
       "      <td>961</td>\n",
       "      <td>0.04805</td>\n",
       "      <td>1.0</td>\n",
       "      <td>29460.0</td>\n",
       "    </tr>\n",
       "    <tr>\n",
       "      <th>1</th>\n",
       "      <td>0.005025</td>\n",
       "      <td>85</td>\n",
       "      <td>18954</td>\n",
       "      <td>0</td>\n",
       "      <td>961</td>\n",
       "      <td>0.048255</td>\n",
       "      <td>1.000000</td>\n",
       "      <td>29579.85</td>\n",
       "      <td>1187</td>\n",
       "      <td>17852</td>\n",
       "      <td>3</td>\n",
       "      <td>958</td>\n",
       "      <td>0.050930</td>\n",
       "      <td>0.996878</td>\n",
       "      <td>30957.90</td>\n",
       "      <td>25</td>\n",
       "      <td>19014</td>\n",
       "      <td>0</td>\n",
       "      <td>961</td>\n",
       "      <td>0.048110</td>\n",
       "      <td>1.000000</td>\n",
       "      <td>29495.25</td>\n",
       "      <td>0</td>\n",
       "      <td>19039</td>\n",
       "      <td>0</td>\n",
       "      <td>961</td>\n",
       "      <td>0.04805</td>\n",
       "      <td>1.0</td>\n",
       "      <td>29460.0</td>\n",
       "    </tr>\n",
       "    <tr>\n",
       "      <th>2</th>\n",
       "      <td>0.010050</td>\n",
       "      <td>1551</td>\n",
       "      <td>17488</td>\n",
       "      <td>14</td>\n",
       "      <td>947</td>\n",
       "      <td>0.051370</td>\n",
       "      <td>0.985432</td>\n",
       "      <td>30826.65</td>\n",
       "      <td>3210</td>\n",
       "      <td>15829</td>\n",
       "      <td>21</td>\n",
       "      <td>940</td>\n",
       "      <td>0.056056</td>\n",
       "      <td>0.978148</td>\n",
       "      <td>32755.71</td>\n",
       "      <td>989</td>\n",
       "      <td>18050</td>\n",
       "      <td>9</td>\n",
       "      <td>952</td>\n",
       "      <td>0.050100</td>\n",
       "      <td>0.990635</td>\n",
       "      <td>30327.18</td>\n",
       "      <td>0</td>\n",
       "      <td>19039</td>\n",
       "      <td>0</td>\n",
       "      <td>961</td>\n",
       "      <td>0.04805</td>\n",
       "      <td>1.0</td>\n",
       "      <td>29460.0</td>\n",
       "    </tr>\n",
       "    <tr>\n",
       "      <th>3</th>\n",
       "      <td>0.015075</td>\n",
       "      <td>3705</td>\n",
       "      <td>15334</td>\n",
       "      <td>40</td>\n",
       "      <td>921</td>\n",
       "      <td>0.056659</td>\n",
       "      <td>0.958377</td>\n",
       "      <td>32340.45</td>\n",
       "      <td>5260</td>\n",
       "      <td>13779</td>\n",
       "      <td>46</td>\n",
       "      <td>915</td>\n",
       "      <td>0.062270</td>\n",
       "      <td>0.952133</td>\n",
       "      <td>34181.46</td>\n",
       "      <td>2874</td>\n",
       "      <td>16165</td>\n",
       "      <td>25</td>\n",
       "      <td>936</td>\n",
       "      <td>0.054734</td>\n",
       "      <td>0.973985</td>\n",
       "      <td>32047.59</td>\n",
       "      <td>0</td>\n",
       "      <td>19039</td>\n",
       "      <td>0</td>\n",
       "      <td>961</td>\n",
       "      <td>0.04805</td>\n",
       "      <td>1.0</td>\n",
       "      <td>29460.0</td>\n",
       "    </tr>\n",
       "    <tr>\n",
       "      <th>4</th>\n",
       "      <td>0.020101</td>\n",
       "      <td>5928</td>\n",
       "      <td>13111</td>\n",
       "      <td>81</td>\n",
       "      <td>880</td>\n",
       "      <td>0.062898</td>\n",
       "      <td>0.915713</td>\n",
       "      <td>33072.69</td>\n",
       "      <td>7336</td>\n",
       "      <td>11703</td>\n",
       "      <td>92</td>\n",
       "      <td>869</td>\n",
       "      <td>0.069122</td>\n",
       "      <td>0.904266</td>\n",
       "      <td>34413.48</td>\n",
       "      <td>4909</td>\n",
       "      <td>14130</td>\n",
       "      <td>61</td>\n",
       "      <td>900</td>\n",
       "      <td>0.059880</td>\n",
       "      <td>0.936524</td>\n",
       "      <td>32807.70</td>\n",
       "      <td>0</td>\n",
       "      <td>19039</td>\n",
       "      <td>0</td>\n",
       "      <td>961</td>\n",
       "      <td>0.04805</td>\n",
       "      <td>1.0</td>\n",
       "      <td>29460.0</td>\n",
       "    </tr>\n",
       "    <tr>\n",
       "      <th>...</th>\n",
       "      <td>...</td>\n",
       "      <td>...</td>\n",
       "      <td>...</td>\n",
       "      <td>...</td>\n",
       "      <td>...</td>\n",
       "      <td>...</td>\n",
       "      <td>...</td>\n",
       "      <td>...</td>\n",
       "      <td>...</td>\n",
       "      <td>...</td>\n",
       "      <td>...</td>\n",
       "      <td>...</td>\n",
       "      <td>...</td>\n",
       "      <td>...</td>\n",
       "      <td>...</td>\n",
       "      <td>...</td>\n",
       "      <td>...</td>\n",
       "      <td>...</td>\n",
       "      <td>...</td>\n",
       "      <td>...</td>\n",
       "      <td>...</td>\n",
       "      <td>...</td>\n",
       "      <td>...</td>\n",
       "      <td>...</td>\n",
       "      <td>...</td>\n",
       "      <td>...</td>\n",
       "      <td>...</td>\n",
       "      <td>...</td>\n",
       "      <td>...</td>\n",
       "    </tr>\n",
       "    <tr>\n",
       "      <th>195</th>\n",
       "      <td>0.979899</td>\n",
       "      <td>19039</td>\n",
       "      <td>0</td>\n",
       "      <td>961</td>\n",
       "      <td>0</td>\n",
       "      <td>NaN</td>\n",
       "      <td>0.000000</td>\n",
       "      <td>0.00</td>\n",
       "      <td>19039</td>\n",
       "      <td>0</td>\n",
       "      <td>961</td>\n",
       "      <td>0</td>\n",
       "      <td>NaN</td>\n",
       "      <td>0.000000</td>\n",
       "      <td>0.00</td>\n",
       "      <td>19039</td>\n",
       "      <td>0</td>\n",
       "      <td>961</td>\n",
       "      <td>0</td>\n",
       "      <td>NaN</td>\n",
       "      <td>0.000000</td>\n",
       "      <td>0.00</td>\n",
       "      <td>19039</td>\n",
       "      <td>0</td>\n",
       "      <td>961</td>\n",
       "      <td>0</td>\n",
       "      <td>NaN</td>\n",
       "      <td>0.0</td>\n",
       "      <td>0.0</td>\n",
       "    </tr>\n",
       "    <tr>\n",
       "      <th>196</th>\n",
       "      <td>0.984925</td>\n",
       "      <td>19039</td>\n",
       "      <td>0</td>\n",
       "      <td>961</td>\n",
       "      <td>0</td>\n",
       "      <td>NaN</td>\n",
       "      <td>0.000000</td>\n",
       "      <td>0.00</td>\n",
       "      <td>19039</td>\n",
       "      <td>0</td>\n",
       "      <td>961</td>\n",
       "      <td>0</td>\n",
       "      <td>NaN</td>\n",
       "      <td>0.000000</td>\n",
       "      <td>0.00</td>\n",
       "      <td>19039</td>\n",
       "      <td>0</td>\n",
       "      <td>961</td>\n",
       "      <td>0</td>\n",
       "      <td>NaN</td>\n",
       "      <td>0.000000</td>\n",
       "      <td>0.00</td>\n",
       "      <td>19039</td>\n",
       "      <td>0</td>\n",
       "      <td>961</td>\n",
       "      <td>0</td>\n",
       "      <td>NaN</td>\n",
       "      <td>0.0</td>\n",
       "      <td>0.0</td>\n",
       "    </tr>\n",
       "    <tr>\n",
       "      <th>197</th>\n",
       "      <td>0.989950</td>\n",
       "      <td>19039</td>\n",
       "      <td>0</td>\n",
       "      <td>961</td>\n",
       "      <td>0</td>\n",
       "      <td>NaN</td>\n",
       "      <td>0.000000</td>\n",
       "      <td>0.00</td>\n",
       "      <td>19039</td>\n",
       "      <td>0</td>\n",
       "      <td>961</td>\n",
       "      <td>0</td>\n",
       "      <td>NaN</td>\n",
       "      <td>0.000000</td>\n",
       "      <td>0.00</td>\n",
       "      <td>19039</td>\n",
       "      <td>0</td>\n",
       "      <td>961</td>\n",
       "      <td>0</td>\n",
       "      <td>NaN</td>\n",
       "      <td>0.000000</td>\n",
       "      <td>0.00</td>\n",
       "      <td>19039</td>\n",
       "      <td>0</td>\n",
       "      <td>961</td>\n",
       "      <td>0</td>\n",
       "      <td>NaN</td>\n",
       "      <td>0.0</td>\n",
       "      <td>0.0</td>\n",
       "    </tr>\n",
       "    <tr>\n",
       "      <th>198</th>\n",
       "      <td>0.994975</td>\n",
       "      <td>19039</td>\n",
       "      <td>0</td>\n",
       "      <td>961</td>\n",
       "      <td>0</td>\n",
       "      <td>NaN</td>\n",
       "      <td>0.000000</td>\n",
       "      <td>0.00</td>\n",
       "      <td>19039</td>\n",
       "      <td>0</td>\n",
       "      <td>961</td>\n",
       "      <td>0</td>\n",
       "      <td>NaN</td>\n",
       "      <td>0.000000</td>\n",
       "      <td>0.00</td>\n",
       "      <td>19039</td>\n",
       "      <td>0</td>\n",
       "      <td>961</td>\n",
       "      <td>0</td>\n",
       "      <td>NaN</td>\n",
       "      <td>0.000000</td>\n",
       "      <td>0.00</td>\n",
       "      <td>19039</td>\n",
       "      <td>0</td>\n",
       "      <td>961</td>\n",
       "      <td>0</td>\n",
       "      <td>NaN</td>\n",
       "      <td>0.0</td>\n",
       "      <td>0.0</td>\n",
       "    </tr>\n",
       "    <tr>\n",
       "      <th>199</th>\n",
       "      <td>1.000000</td>\n",
       "      <td>19039</td>\n",
       "      <td>0</td>\n",
       "      <td>961</td>\n",
       "      <td>0</td>\n",
       "      <td>NaN</td>\n",
       "      <td>0.000000</td>\n",
       "      <td>0.00</td>\n",
       "      <td>19039</td>\n",
       "      <td>0</td>\n",
       "      <td>961</td>\n",
       "      <td>0</td>\n",
       "      <td>NaN</td>\n",
       "      <td>0.000000</td>\n",
       "      <td>0.00</td>\n",
       "      <td>19039</td>\n",
       "      <td>0</td>\n",
       "      <td>961</td>\n",
       "      <td>0</td>\n",
       "      <td>NaN</td>\n",
       "      <td>0.000000</td>\n",
       "      <td>0.00</td>\n",
       "      <td>19039</td>\n",
       "      <td>0</td>\n",
       "      <td>961</td>\n",
       "      <td>0</td>\n",
       "      <td>NaN</td>\n",
       "      <td>0.0</td>\n",
       "      <td>0.0</td>\n",
       "    </tr>\n",
       "  </tbody>\n",
       "</table>\n",
       "<p>200 rows × 29 columns</p>\n",
       "</div>"
      ],
      "text/plain": [
       "     threshold  m1_tn  m1_fp  m1_fn  m1_tp    m1_prc    m1_rcl  m1_profit  \\\n",
       "0     0.000000      0  19039      0    961  0.048050  1.000000   29460.00   \n",
       "1     0.005025     85  18954      0    961  0.048255  1.000000   29579.85   \n",
       "2     0.010050   1551  17488     14    947  0.051370  0.985432   30826.65   \n",
       "3     0.015075   3705  15334     40    921  0.056659  0.958377   32340.45   \n",
       "4     0.020101   5928  13111     81    880  0.062898  0.915713   33072.69   \n",
       "..         ...    ...    ...    ...    ...       ...       ...        ...   \n",
       "195   0.979899  19039      0    961      0       NaN  0.000000       0.00   \n",
       "196   0.984925  19039      0    961      0       NaN  0.000000       0.00   \n",
       "197   0.989950  19039      0    961      0       NaN  0.000000       0.00   \n",
       "198   0.994975  19039      0    961      0       NaN  0.000000       0.00   \n",
       "199   1.000000  19039      0    961      0       NaN  0.000000       0.00   \n",
       "\n",
       "     m2_tn  m2_fp  m2_fn  m2_tp    m2_prc    m2_rcl  m2_profit  m3_tn  m3_fp  \\\n",
       "0        0  19039      0    961  0.048050  1.000000   29460.00      0  19039   \n",
       "1     1187  17852      3    958  0.050930  0.996878   30957.90     25  19014   \n",
       "2     3210  15829     21    940  0.056056  0.978148   32755.71    989  18050   \n",
       "3     5260  13779     46    915  0.062270  0.952133   34181.46   2874  16165   \n",
       "4     7336  11703     92    869  0.069122  0.904266   34413.48   4909  14130   \n",
       "..     ...    ...    ...    ...       ...       ...        ...    ...    ...   \n",
       "195  19039      0    961      0       NaN  0.000000       0.00  19039      0   \n",
       "196  19039      0    961      0       NaN  0.000000       0.00  19039      0   \n",
       "197  19039      0    961      0       NaN  0.000000       0.00  19039      0   \n",
       "198  19039      0    961      0       NaN  0.000000       0.00  19039      0   \n",
       "199  19039      0    961      0       NaN  0.000000       0.00  19039      0   \n",
       "\n",
       "     m3_fn  m3_tp    m3_prc    m3_rcl  m3_profit  m4_tn  m4_fp  m4_fn  m4_tp  \\\n",
       "0        0    961  0.048050  1.000000   29460.00      0  19039      0    961   \n",
       "1        0    961  0.048110  1.000000   29495.25      0  19039      0    961   \n",
       "2        9    952  0.050100  0.990635   30327.18      0  19039      0    961   \n",
       "3       25    936  0.054734  0.973985   32047.59      0  19039      0    961   \n",
       "4       61    900  0.059880  0.936524   32807.70      0  19039      0    961   \n",
       "..     ...    ...       ...       ...        ...    ...    ...    ...    ...   \n",
       "195    961      0       NaN  0.000000       0.00  19039      0    961      0   \n",
       "196    961      0       NaN  0.000000       0.00  19039      0    961      0   \n",
       "197    961      0       NaN  0.000000       0.00  19039      0    961      0   \n",
       "198    961      0       NaN  0.000000       0.00  19039      0    961      0   \n",
       "199    961      0       NaN  0.000000       0.00  19039      0    961      0   \n",
       "\n",
       "      m4_prc  m4_rcl  m4_profit  \n",
       "0    0.04805     1.0    29460.0  \n",
       "1    0.04805     1.0    29460.0  \n",
       "2    0.04805     1.0    29460.0  \n",
       "3    0.04805     1.0    29460.0  \n",
       "4    0.04805     1.0    29460.0  \n",
       "..       ...     ...        ...  \n",
       "195      NaN     0.0        0.0  \n",
       "196      NaN     0.0        0.0  \n",
       "197      NaN     0.0        0.0  \n",
       "198      NaN     0.0        0.0  \n",
       "199      NaN     0.0        0.0  \n",
       "\n",
       "[200 rows x 29 columns]"
      ]
     },
     "execution_count": 50,
     "metadata": {},
     "output_type": "execute_result"
    }
   ],
   "source": [
    "dfprofit"
   ]
  },
  {
   "cell_type": "code",
   "execution_count": 51,
   "id": "649e0a27-b71f-4246-8a4e-d53ce84f9ae2",
   "metadata": {
    "execution": {
     "iopub.execute_input": "2023-03-20T00:11:16.303081Z",
     "iopub.status.busy": "2023-03-20T00:11:16.302411Z",
     "iopub.status.idle": "2023-03-20T00:11:16.391546Z",
     "shell.execute_reply": "2023-03-20T00:11:16.390609Z",
     "shell.execute_reply.started": "2023-03-20T00:11:16.303047Z"
    },
    "jupyter": {
     "source_hidden": true
    },
    "tags": []
   },
   "outputs": [
    {
     "data": {
      "application/vnd.plotly.v1+json": {
       "config": {
        "plotlyServerURL": "https://plot.ly"
       },
       "data": [
        {
         "mode": "lines",
         "name": "m1",
         "type": "scatter",
         "x": [
          0,
          0.005025125628140704,
          0.010050251256281407,
          0.01507537688442211,
          0.020100502512562814,
          0.02512562814070352,
          0.03015075376884422,
          0.035175879396984924,
          0.04020100502512563,
          0.04522613065326633,
          0.05025125628140704,
          0.05527638190954774,
          0.06030150753768844,
          0.06532663316582915,
          0.07035175879396985,
          0.07537688442211056,
          0.08040201005025126,
          0.08542713567839195,
          0.09045226130653267,
          0.09547738693467336,
          0.10050251256281408,
          0.10552763819095477,
          0.11055276381909548,
          0.11557788944723618,
          0.12060301507537688,
          0.12562814070351758,
          0.1306532663316583,
          0.135678391959799,
          0.1407035175879397,
          0.1457286432160804,
          0.15075376884422112,
          0.15577889447236182,
          0.16080402010050251,
          0.1658291457286432,
          0.1708542713567839,
          0.17587939698492464,
          0.18090452261306533,
          0.18592964824120603,
          0.19095477386934673,
          0.19597989949748745,
          0.20100502512562815,
          0.20603015075376885,
          0.21105527638190955,
          0.21608040201005024,
          0.22110552763819097,
          0.22613065326633167,
          0.23115577889447236,
          0.23618090452261306,
          0.24120603015075376,
          0.24623115577889448,
          0.25125628140703515,
          0.2562814070351759,
          0.2613065326633166,
          0.2663316582914573,
          0.271356783919598,
          0.2763819095477387,
          0.2814070351758794,
          0.2864321608040201,
          0.2914572864321608,
          0.2964824120603015,
          0.30150753768844224,
          0.3065326633165829,
          0.31155778894472363,
          0.3165829145728643,
          0.32160804020100503,
          0.32663316582914576,
          0.3316582914572864,
          0.33668341708542715,
          0.3417085427135678,
          0.34673366834170855,
          0.35175879396984927,
          0.35678391959798994,
          0.36180904522613067,
          0.36683417085427134,
          0.37185929648241206,
          0.3768844221105528,
          0.38190954773869346,
          0.3869346733668342,
          0.3919597989949749,
          0.3969849246231156,
          0.4020100502512563,
          0.40703517587939697,
          0.4120603015075377,
          0.4170854271356784,
          0.4221105527638191,
          0.4271356783919598,
          0.4321608040201005,
          0.4371859296482412,
          0.44221105527638194,
          0.4472361809045226,
          0.45226130653266333,
          0.457286432160804,
          0.4623115577889447,
          0.46733668341708545,
          0.4723618090452261,
          0.47738693467336685,
          0.4824120603015075,
          0.48743718592964824,
          0.49246231155778897,
          0.49748743718592964,
          0.5025125628140703,
          0.507537688442211,
          0.5125628140703518,
          0.5175879396984925,
          0.5226130653266332,
          0.5276381909547738,
          0.5326633165829145,
          0.5376884422110553,
          0.542713567839196,
          0.5477386934673367,
          0.5527638190954774,
          0.5577889447236181,
          0.5628140703517588,
          0.5678391959798995,
          0.5728643216080402,
          0.577889447236181,
          0.5829145728643216,
          0.5879396984924623,
          0.592964824120603,
          0.5979899497487438,
          0.6030150753768845,
          0.6080402010050251,
          0.6130653266331658,
          0.6180904522613065,
          0.6231155778894473,
          0.628140703517588,
          0.6331658291457286,
          0.6381909547738693,
          0.6432160804020101,
          0.6482412060301508,
          0.6532663316582915,
          0.6582914572864321,
          0.6633165829145728,
          0.6683417085427136,
          0.6733668341708543,
          0.678391959798995,
          0.6834170854271356,
          0.6884422110552764,
          0.6934673366834171,
          0.6984924623115578,
          0.7035175879396985,
          0.7085427135678392,
          0.7135678391959799,
          0.7185929648241206,
          0.7236180904522613,
          0.7286432160804021,
          0.7336683417085427,
          0.7386934673366834,
          0.7437185929648241,
          0.7487437185929648,
          0.7537688442211056,
          0.7587939698492463,
          0.7638190954773869,
          0.7688442211055276,
          0.7738693467336684,
          0.7788944723618091,
          0.7839195979899498,
          0.7889447236180904,
          0.7939698492462312,
          0.7989949748743719,
          0.8040201005025126,
          0.8090452261306533,
          0.8140703517587939,
          0.8190954773869347,
          0.8241206030150754,
          0.8291457286432161,
          0.8341708542713568,
          0.8391959798994975,
          0.8442211055276382,
          0.8492462311557789,
          0.8542713567839196,
          0.8592964824120604,
          0.864321608040201,
          0.8693467336683417,
          0.8743718592964824,
          0.8793969849246231,
          0.8844221105527639,
          0.8894472361809045,
          0.8944723618090452,
          0.8994974874371859,
          0.9045226130653267,
          0.9095477386934674,
          0.914572864321608,
          0.9195979899497487,
          0.9246231155778895,
          0.9296482412060302,
          0.9346733668341709,
          0.9396984924623115,
          0.9447236180904522,
          0.949748743718593,
          0.9547738693467337,
          0.9597989949748744,
          0.964824120603015,
          0.9698492462311558,
          0.9748743718592965,
          0.9798994974874372,
          0.9849246231155779,
          0.9899497487437187,
          0.9949748743718593,
          1
         ],
         "y": [
          29460.000000000007,
          29579.850000000006,
          30826.650000000005,
          32340.450000000008,
          33072.69,
          33266.79000000001,
          32216.85,
          32078.010000000006,
          31200.66,
          30517.710000000006,
          28953.39,
          28112.190000000002,
          27314.22,
          26150.760000000002,
          25216.800000000003,
          23799.390000000003,
          22876.230000000003,
          21634.74,
          20461.860000000004,
          19751.43,
          19299.33,
          18706.08,
          17953.350000000002,
          17229.6,
          16495.98,
          15908.520000000002,
          14968.11,
          13938.09,
          13429.740000000002,
          12791.520000000002,
          12150.480000000001,
          11498.160000000002,
          11254.560000000001,
          10765.320000000002,
          10404.54,
          10384.02,
          9894.78,
          9349.77,
          9137.970000000001,
          8641.68,
          8495.52,
          8045.130000000001,
          7487.43,
          7282.68,
          7128.06,
          6973.4400000000005,
          6825.870000000001,
          6541.380000000001,
          6375.4800000000005,
          6275.22,
          6053.55,
          5893.29,
          5727.39,
          5445.72,
          5285.46,
          5176.74,
          5013.660000000001,
          4791.990000000001,
          4627.5,
          4518.78,
          4352.88,
          4006.9800000000005,
          3841.08,
          3786.7200000000003,
          3736.59,
          3623.6400000000003,
          3399.15,
          3290.4300000000003,
          3124.5299999999997,
          2894.4,
          2837.2200000000003,
          2676.96,
          2625.42,
          2573.88,
          2576.7000000000003,
          2520.9300000000003,
          2473.62,
          2424.9000000000005,
          2369.13,
          2256.1800000000003,
          2147.46,
          1980.15,
          1925.7900000000002,
          1751.4300000000003,
          1637.0700000000002,
          1585.53,
          1589.76,
          1595.4,
          1599.6299999999999,
          1602.45,
          1368.0900000000001,
          1135.14,
          1137.9600000000003,
          1080.78,
          1082.19,
          1087.83,
          974.8800000000001,
          919.11,
          861.9300000000001,
          803.34,
          803.34,
          803.34,
          747.57,
          750.3900000000001,
          691.8000000000001,
          633.21,
          574.6200000000001,
          576.0300000000001,
          576.0300000000001,
          577.44,
          578.8500000000001,
          520.2600000000001,
          520.2600000000001,
          520.2600000000001,
          520.2600000000001,
          461.67,
          461.67,
          404.49,
          345.90000000000003,
          287.31000000000006,
          171.54000000000002,
          171.54000000000002,
          171.54000000000002,
          112.95,
          54.36000000000001,
          54.36000000000001,
          54.36000000000001,
          -2.82,
          -1.41,
          -1.41,
          -1.41,
          -1.41,
          -1.41,
          -1.41,
          -1.41,
          -1.41,
          -1.41,
          0,
          0,
          0,
          0,
          0,
          0,
          0,
          0,
          0,
          0,
          0,
          0,
          0,
          0,
          0,
          0,
          0,
          0,
          0,
          0,
          0,
          0,
          0,
          0,
          0,
          0,
          0,
          0,
          0,
          0,
          0,
          0,
          0,
          0,
          0,
          0,
          0,
          0,
          0,
          0,
          0,
          0,
          0,
          0,
          0,
          0,
          0,
          0,
          0,
          0,
          0,
          0,
          0,
          0,
          0,
          0,
          0,
          0,
          0,
          0,
          0,
          0,
          0
         ]
        },
        {
         "mode": "lines",
         "name": "m2",
         "type": "scatter",
         "x": [
          0,
          0.005025125628140704,
          0.010050251256281407,
          0.01507537688442211,
          0.020100502512562814,
          0.02512562814070352,
          0.03015075376884422,
          0.035175879396984924,
          0.04020100502512563,
          0.04522613065326633,
          0.05025125628140704,
          0.05527638190954774,
          0.06030150753768844,
          0.06532663316582915,
          0.07035175879396985,
          0.07537688442211056,
          0.08040201005025126,
          0.08542713567839195,
          0.09045226130653267,
          0.09547738693467336,
          0.10050251256281408,
          0.10552763819095477,
          0.11055276381909548,
          0.11557788944723618,
          0.12060301507537688,
          0.12562814070351758,
          0.1306532663316583,
          0.135678391959799,
          0.1407035175879397,
          0.1457286432160804,
          0.15075376884422112,
          0.15577889447236182,
          0.16080402010050251,
          0.1658291457286432,
          0.1708542713567839,
          0.17587939698492464,
          0.18090452261306533,
          0.18592964824120603,
          0.19095477386934673,
          0.19597989949748745,
          0.20100502512562815,
          0.20603015075376885,
          0.21105527638190955,
          0.21608040201005024,
          0.22110552763819097,
          0.22613065326633167,
          0.23115577889447236,
          0.23618090452261306,
          0.24120603015075376,
          0.24623115577889448,
          0.25125628140703515,
          0.2562814070351759,
          0.2613065326633166,
          0.2663316582914573,
          0.271356783919598,
          0.2763819095477387,
          0.2814070351758794,
          0.2864321608040201,
          0.2914572864321608,
          0.2964824120603015,
          0.30150753768844224,
          0.3065326633165829,
          0.31155778894472363,
          0.3165829145728643,
          0.32160804020100503,
          0.32663316582914576,
          0.3316582914572864,
          0.33668341708542715,
          0.3417085427135678,
          0.34673366834170855,
          0.35175879396984927,
          0.35678391959798994,
          0.36180904522613067,
          0.36683417085427134,
          0.37185929648241206,
          0.3768844221105528,
          0.38190954773869346,
          0.3869346733668342,
          0.3919597989949749,
          0.3969849246231156,
          0.4020100502512563,
          0.40703517587939697,
          0.4120603015075377,
          0.4170854271356784,
          0.4221105527638191,
          0.4271356783919598,
          0.4321608040201005,
          0.4371859296482412,
          0.44221105527638194,
          0.4472361809045226,
          0.45226130653266333,
          0.457286432160804,
          0.4623115577889447,
          0.46733668341708545,
          0.4723618090452261,
          0.47738693467336685,
          0.4824120603015075,
          0.48743718592964824,
          0.49246231155778897,
          0.49748743718592964,
          0.5025125628140703,
          0.507537688442211,
          0.5125628140703518,
          0.5175879396984925,
          0.5226130653266332,
          0.5276381909547738,
          0.5326633165829145,
          0.5376884422110553,
          0.542713567839196,
          0.5477386934673367,
          0.5527638190954774,
          0.5577889447236181,
          0.5628140703517588,
          0.5678391959798995,
          0.5728643216080402,
          0.577889447236181,
          0.5829145728643216,
          0.5879396984924623,
          0.592964824120603,
          0.5979899497487438,
          0.6030150753768845,
          0.6080402010050251,
          0.6130653266331658,
          0.6180904522613065,
          0.6231155778894473,
          0.628140703517588,
          0.6331658291457286,
          0.6381909547738693,
          0.6432160804020101,
          0.6482412060301508,
          0.6532663316582915,
          0.6582914572864321,
          0.6633165829145728,
          0.6683417085427136,
          0.6733668341708543,
          0.678391959798995,
          0.6834170854271356,
          0.6884422110552764,
          0.6934673366834171,
          0.6984924623115578,
          0.7035175879396985,
          0.7085427135678392,
          0.7135678391959799,
          0.7185929648241206,
          0.7236180904522613,
          0.7286432160804021,
          0.7336683417085427,
          0.7386934673366834,
          0.7437185929648241,
          0.7487437185929648,
          0.7537688442211056,
          0.7587939698492463,
          0.7638190954773869,
          0.7688442211055276,
          0.7738693467336684,
          0.7788944723618091,
          0.7839195979899498,
          0.7889447236180904,
          0.7939698492462312,
          0.7989949748743719,
          0.8040201005025126,
          0.8090452261306533,
          0.8140703517587939,
          0.8190954773869347,
          0.8241206030150754,
          0.8291457286432161,
          0.8341708542713568,
          0.8391959798994975,
          0.8442211055276382,
          0.8492462311557789,
          0.8542713567839196,
          0.8592964824120604,
          0.864321608040201,
          0.8693467336683417,
          0.8743718592964824,
          0.8793969849246231,
          0.8844221105527639,
          0.8894472361809045,
          0.8944723618090452,
          0.8994974874371859,
          0.9045226130653267,
          0.9095477386934674,
          0.914572864321608,
          0.9195979899497487,
          0.9246231155778895,
          0.9296482412060302,
          0.9346733668341709,
          0.9396984924623115,
          0.9447236180904522,
          0.949748743718593,
          0.9547738693467337,
          0.9597989949748744,
          0.964824120603015,
          0.9698492462311558,
          0.9748743718592965,
          0.9798994974874372,
          0.9849246231155779,
          0.9899497487437187,
          0.9949748743718593,
          1
         ],
         "y": [
          29460.000000000007,
          30957.9,
          32755.710000000006,
          34181.46000000001,
          34413.48000000001,
          34559.79,
          33831.3,
          33328.530000000006,
          32524.800000000003,
          31849.2,
          30777.870000000003,
          30162.090000000004,
          29475.18,
          28603.410000000003,
          27863.070000000003,
          26721.840000000004,
          26088.96,
          25355.190000000002,
          24269.88,
          23636.37,
          22836.33,
          22029.24,
          21474.21,
          20926.230000000003,
          20172.87,
          19712.460000000003,
          19452.57,
          18796.65,
          18342.660000000003,
          17427,
          17220.06,
          16593.12,
          16429.26,
          16268.22,
          15860.130000000001,
          15320.76,
          15192.930000000002,
          14770.740000000002,
          14468.550000000001,
          13742.130000000001,
          13543.02,
          13046.730000000001,
          12443.13,
          11889.66,
          11394.78,
          11018.490000000002,
          10696.560000000001,
          10610.4,
          10114.11,
          10022.310000000001,
          9686.279999999999,
          9245.76,
          9033.96,
          8474.85,
          8324.46,
          7932.660000000001,
          7655.220000000001,
          7440.6,
          7228.8,
          6897.000000000001,
          6559.56,
          6396.4800000000005,
          6171.990000000001,
          5775.96,
          5732.88,
          5569.800000000001,
          5289.54,
          4949.28,
          4670.43,
          4443.120000000001,
          4271.58,
          4220.04,
          3988.5,
          3875.55,
          3765.42,
          3596.7000000000003,
          3600.9300000000003,
          3312.21,
          3142.0800000000004,
          3087.7200000000003,
          3031.95,
          2857.59,
          2801.82,
          2573.1000000000004,
          2460.1500000000005,
          2348.61,
          2351.43,
          2178.48,
          1889.76,
          1838.22,
          1725.27,
          1553.73,
          1495.14,
          1497.96,
          1439.37,
          1440.78,
          1383.6000000000001,
          1383.6000000000001,
          1383.6000000000001,
          1150.65,
          1092.06,
          1092.06,
          976.2900000000001,
          861.9300000000001,
          863.34,
          866.16,
          866.16,
          866.16,
          866.16,
          866.16,
          868.98,
          810.39,
          753.21,
          637.44,
          578.8500000000001,
          523.08,
          524.49,
          524.49,
          524.49,
          524.49,
          407.31,
          348.72,
          348.72,
          291.54,
          232.95000000000002,
          232.95000000000002,
          232.95000000000002,
          232.95000000000002,
          232.95000000000002,
          232.95000000000002,
          234.36,
          234.36,
          117.18,
          117.18,
          117.18,
          117.18,
          117.18,
          117.18,
          117.18,
          0,
          0,
          0,
          0,
          0,
          0,
          0,
          0,
          0,
          0,
          0,
          0,
          0,
          0,
          0,
          0,
          0,
          0,
          0,
          0,
          0,
          0,
          0,
          0,
          0,
          0,
          0,
          0,
          0,
          0,
          0,
          0,
          0,
          0,
          0,
          0,
          0,
          0,
          0,
          0,
          0,
          0,
          0,
          0,
          0,
          0,
          0,
          0,
          0,
          0,
          0,
          0,
          0,
          0,
          0,
          0,
          0,
          0,
          0,
          0,
          0
         ]
        },
        {
         "mode": "lines",
         "name": "m3",
         "type": "scatter",
         "x": [
          0,
          0.005025125628140704,
          0.010050251256281407,
          0.01507537688442211,
          0.020100502512562814,
          0.02512562814070352,
          0.03015075376884422,
          0.035175879396984924,
          0.04020100502512563,
          0.04522613065326633,
          0.05025125628140704,
          0.05527638190954774,
          0.06030150753768844,
          0.06532663316582915,
          0.07035175879396985,
          0.07537688442211056,
          0.08040201005025126,
          0.08542713567839195,
          0.09045226130653267,
          0.09547738693467336,
          0.10050251256281408,
          0.10552763819095477,
          0.11055276381909548,
          0.11557788944723618,
          0.12060301507537688,
          0.12562814070351758,
          0.1306532663316583,
          0.135678391959799,
          0.1407035175879397,
          0.1457286432160804,
          0.15075376884422112,
          0.15577889447236182,
          0.16080402010050251,
          0.1658291457286432,
          0.1708542713567839,
          0.17587939698492464,
          0.18090452261306533,
          0.18592964824120603,
          0.19095477386934673,
          0.19597989949748745,
          0.20100502512562815,
          0.20603015075376885,
          0.21105527638190955,
          0.21608040201005024,
          0.22110552763819097,
          0.22613065326633167,
          0.23115577889447236,
          0.23618090452261306,
          0.24120603015075376,
          0.24623115577889448,
          0.25125628140703515,
          0.2562814070351759,
          0.2613065326633166,
          0.2663316582914573,
          0.271356783919598,
          0.2763819095477387,
          0.2814070351758794,
          0.2864321608040201,
          0.2914572864321608,
          0.2964824120603015,
          0.30150753768844224,
          0.3065326633165829,
          0.31155778894472363,
          0.3165829145728643,
          0.32160804020100503,
          0.32663316582914576,
          0.3316582914572864,
          0.33668341708542715,
          0.3417085427135678,
          0.34673366834170855,
          0.35175879396984927,
          0.35678391959798994,
          0.36180904522613067,
          0.36683417085427134,
          0.37185929648241206,
          0.3768844221105528,
          0.38190954773869346,
          0.3869346733668342,
          0.3919597989949749,
          0.3969849246231156,
          0.4020100502512563,
          0.40703517587939697,
          0.4120603015075377,
          0.4170854271356784,
          0.4221105527638191,
          0.4271356783919598,
          0.4321608040201005,
          0.4371859296482412,
          0.44221105527638194,
          0.4472361809045226,
          0.45226130653266333,
          0.457286432160804,
          0.4623115577889447,
          0.46733668341708545,
          0.4723618090452261,
          0.47738693467336685,
          0.4824120603015075,
          0.48743718592964824,
          0.49246231155778897,
          0.49748743718592964,
          0.5025125628140703,
          0.507537688442211,
          0.5125628140703518,
          0.5175879396984925,
          0.5226130653266332,
          0.5276381909547738,
          0.5326633165829145,
          0.5376884422110553,
          0.542713567839196,
          0.5477386934673367,
          0.5527638190954774,
          0.5577889447236181,
          0.5628140703517588,
          0.5678391959798995,
          0.5728643216080402,
          0.577889447236181,
          0.5829145728643216,
          0.5879396984924623,
          0.592964824120603,
          0.5979899497487438,
          0.6030150753768845,
          0.6080402010050251,
          0.6130653266331658,
          0.6180904522613065,
          0.6231155778894473,
          0.628140703517588,
          0.6331658291457286,
          0.6381909547738693,
          0.6432160804020101,
          0.6482412060301508,
          0.6532663316582915,
          0.6582914572864321,
          0.6633165829145728,
          0.6683417085427136,
          0.6733668341708543,
          0.678391959798995,
          0.6834170854271356,
          0.6884422110552764,
          0.6934673366834171,
          0.6984924623115578,
          0.7035175879396985,
          0.7085427135678392,
          0.7135678391959799,
          0.7185929648241206,
          0.7236180904522613,
          0.7286432160804021,
          0.7336683417085427,
          0.7386934673366834,
          0.7437185929648241,
          0.7487437185929648,
          0.7537688442211056,
          0.7587939698492463,
          0.7638190954773869,
          0.7688442211055276,
          0.7738693467336684,
          0.7788944723618091,
          0.7839195979899498,
          0.7889447236180904,
          0.7939698492462312,
          0.7989949748743719,
          0.8040201005025126,
          0.8090452261306533,
          0.8140703517587939,
          0.8190954773869347,
          0.8241206030150754,
          0.8291457286432161,
          0.8341708542713568,
          0.8391959798994975,
          0.8442211055276382,
          0.8492462311557789,
          0.8542713567839196,
          0.8592964824120604,
          0.864321608040201,
          0.8693467336683417,
          0.8743718592964824,
          0.8793969849246231,
          0.8844221105527639,
          0.8894472361809045,
          0.8944723618090452,
          0.8994974874371859,
          0.9045226130653267,
          0.9095477386934674,
          0.914572864321608,
          0.9195979899497487,
          0.9246231155778895,
          0.9296482412060302,
          0.9346733668341709,
          0.9396984924623115,
          0.9447236180904522,
          0.949748743718593,
          0.9547738693467337,
          0.9597989949748744,
          0.964824120603015,
          0.9698492462311558,
          0.9748743718592965,
          0.9798994974874372,
          0.9849246231155779,
          0.9899497487437187,
          0.9949748743718593,
          1
         ],
         "y": [
          29460.000000000007,
          29495.250000000007,
          30327.18,
          32047.590000000007,
          32807.7,
          33459.87000000001,
          32949.93000000001,
          31890.420000000002,
          31650.21,
          30849.930000000008,
          29641.23,
          28465.260000000002,
          27598.680000000004,
          26531.100000000002,
          25473.54,
          24362.4,
          23079.09,
          21935.670000000002,
          20155.590000000004,
          19046.940000000002,
          18304.71,
          17672.61,
          16779.36,
          15962.4,
          15520.320000000002,
          14709.780000000002,
          14390.52,
          13034.34,
          12177.270000000002,
          11596.23,
          10839.420000000002,
          10091.070000000002,
          9575.67,
          8914.89,
          8669.880000000001,
          8356.41,
          7932.81,
          7615.110000000001,
          7224.720000000001,
          6604.2,
          6406.5,
          6191.880000000001,
          5681.490000000001,
          5293.92,
          4842.12,
          4567.5,
          4463.010000000001,
          4061.3400000000006,
          3838.26,
          3730.9500000000003,
          3509.28,
          3289.0200000000004,
          3121.71,
          2895.8100000000004,
          2787.09,
          2684.01,
          2631.06,
          2640.93,
          2469.39,
          2477.85,
          2373.36,
          2264.6400000000003,
          2095.92,
          1864.38,
          1751.4300000000003,
          1642.71,
          1645.5300000000002,
          1591.17,
          1538.22,
          1482.45,
          1310.91,
          1253.73,
          1137.9600000000003,
          1083.6000000000001,
          1086.42,
          913.47,
          916.2900000000001,
          860.52,
          744.7500000000001,
          744.7500000000001,
          746.1600000000001,
          688.98,
          688.98,
          574.6200000000001,
          574.6200000000001,
          574.6200000000001,
          574.6200000000001,
          576.0300000000001,
          578.8500000000001,
          578.8500000000001,
          520.2600000000001,
          520.2600000000001,
          520.2600000000001,
          461.67,
          403.08,
          403.08,
          345.90000000000003,
          287.31000000000006,
          170.13000000000002,
          171.54000000000002,
          171.54000000000002,
          171.54000000000002,
          112.95,
          54.36000000000001,
          54.36000000000001,
          -4.2299999999999995,
          -2.82,
          -1.41,
          -1.41,
          -1.41,
          -1.41,
          -1.41,
          -1.41,
          -1.41,
          -1.41,
          -1.41,
          0,
          0,
          0,
          0,
          0,
          0,
          0,
          0,
          0,
          0,
          0,
          0,
          0,
          0,
          0,
          0,
          0,
          0,
          0,
          0,
          0,
          0,
          0,
          0,
          0,
          0,
          0,
          0,
          0,
          0,
          0,
          0,
          0,
          0,
          0,
          0,
          0,
          0,
          0,
          0,
          0,
          0,
          0,
          0,
          0,
          0,
          0,
          0,
          0,
          0,
          0,
          0,
          0,
          0,
          0,
          0,
          0,
          0,
          0,
          0,
          0,
          0,
          0,
          0,
          0,
          0,
          0,
          0,
          0,
          0,
          0,
          0,
          0,
          0,
          0,
          0,
          0,
          0,
          0,
          0,
          0,
          0,
          0,
          0
         ]
        },
        {
         "mode": "lines",
         "name": "m4",
         "type": "scatter",
         "x": [
          0,
          0.005025125628140704,
          0.010050251256281407,
          0.01507537688442211,
          0.020100502512562814,
          0.02512562814070352,
          0.03015075376884422,
          0.035175879396984924,
          0.04020100502512563,
          0.04522613065326633,
          0.05025125628140704,
          0.05527638190954774,
          0.06030150753768844,
          0.06532663316582915,
          0.07035175879396985,
          0.07537688442211056,
          0.08040201005025126,
          0.08542713567839195,
          0.09045226130653267,
          0.09547738693467336,
          0.10050251256281408,
          0.10552763819095477,
          0.11055276381909548,
          0.11557788944723618,
          0.12060301507537688,
          0.12562814070351758,
          0.1306532663316583,
          0.135678391959799,
          0.1407035175879397,
          0.1457286432160804,
          0.15075376884422112,
          0.15577889447236182,
          0.16080402010050251,
          0.1658291457286432,
          0.1708542713567839,
          0.17587939698492464,
          0.18090452261306533,
          0.18592964824120603,
          0.19095477386934673,
          0.19597989949748745,
          0.20100502512562815,
          0.20603015075376885,
          0.21105527638190955,
          0.21608040201005024,
          0.22110552763819097,
          0.22613065326633167,
          0.23115577889447236,
          0.23618090452261306,
          0.24120603015075376,
          0.24623115577889448,
          0.25125628140703515,
          0.2562814070351759,
          0.2613065326633166,
          0.2663316582914573,
          0.271356783919598,
          0.2763819095477387,
          0.2814070351758794,
          0.2864321608040201,
          0.2914572864321608,
          0.2964824120603015,
          0.30150753768844224,
          0.3065326633165829,
          0.31155778894472363,
          0.3165829145728643,
          0.32160804020100503,
          0.32663316582914576,
          0.3316582914572864,
          0.33668341708542715,
          0.3417085427135678,
          0.34673366834170855,
          0.35175879396984927,
          0.35678391959798994,
          0.36180904522613067,
          0.36683417085427134,
          0.37185929648241206,
          0.3768844221105528,
          0.38190954773869346,
          0.3869346733668342,
          0.3919597989949749,
          0.3969849246231156,
          0.4020100502512563,
          0.40703517587939697,
          0.4120603015075377,
          0.4170854271356784,
          0.4221105527638191,
          0.4271356783919598,
          0.4321608040201005,
          0.4371859296482412,
          0.44221105527638194,
          0.4472361809045226,
          0.45226130653266333,
          0.457286432160804,
          0.4623115577889447,
          0.46733668341708545,
          0.4723618090452261,
          0.47738693467336685,
          0.4824120603015075,
          0.48743718592964824,
          0.49246231155778897,
          0.49748743718592964,
          0.5025125628140703,
          0.507537688442211,
          0.5125628140703518,
          0.5175879396984925,
          0.5226130653266332,
          0.5276381909547738,
          0.5326633165829145,
          0.5376884422110553,
          0.542713567839196,
          0.5477386934673367,
          0.5527638190954774,
          0.5577889447236181,
          0.5628140703517588,
          0.5678391959798995,
          0.5728643216080402,
          0.577889447236181,
          0.5829145728643216,
          0.5879396984924623,
          0.592964824120603,
          0.5979899497487438,
          0.6030150753768845,
          0.6080402010050251,
          0.6130653266331658,
          0.6180904522613065,
          0.6231155778894473,
          0.628140703517588,
          0.6331658291457286,
          0.6381909547738693,
          0.6432160804020101,
          0.6482412060301508,
          0.6532663316582915,
          0.6582914572864321,
          0.6633165829145728,
          0.6683417085427136,
          0.6733668341708543,
          0.678391959798995,
          0.6834170854271356,
          0.6884422110552764,
          0.6934673366834171,
          0.6984924623115578,
          0.7035175879396985,
          0.7085427135678392,
          0.7135678391959799,
          0.7185929648241206,
          0.7236180904522613,
          0.7286432160804021,
          0.7336683417085427,
          0.7386934673366834,
          0.7437185929648241,
          0.7487437185929648,
          0.7537688442211056,
          0.7587939698492463,
          0.7638190954773869,
          0.7688442211055276,
          0.7738693467336684,
          0.7788944723618091,
          0.7839195979899498,
          0.7889447236180904,
          0.7939698492462312,
          0.7989949748743719,
          0.8040201005025126,
          0.8090452261306533,
          0.8140703517587939,
          0.8190954773869347,
          0.8241206030150754,
          0.8291457286432161,
          0.8341708542713568,
          0.8391959798994975,
          0.8442211055276382,
          0.8492462311557789,
          0.8542713567839196,
          0.8592964824120604,
          0.864321608040201,
          0.8693467336683417,
          0.8743718592964824,
          0.8793969849246231,
          0.8844221105527639,
          0.8894472361809045,
          0.8944723618090452,
          0.8994974874371859,
          0.9045226130653267,
          0.9095477386934674,
          0.914572864321608,
          0.9195979899497487,
          0.9246231155778895,
          0.9296482412060302,
          0.9346733668341709,
          0.9396984924623115,
          0.9447236180904522,
          0.949748743718593,
          0.9547738693467337,
          0.9597989949748744,
          0.964824120603015,
          0.9698492462311558,
          0.9748743718592965,
          0.9798994974874372,
          0.9849246231155779,
          0.9899497487437187,
          0.9949748743718593,
          1
         ],
         "y": [
          29460.000000000007,
          29460.000000000007,
          29460.000000000007,
          29460.000000000007,
          29460.000000000007,
          29460.000000000007,
          29806.410000000007,
          31107.510000000002,
          31367.97,
          29497.710000000003,
          25764.000000000007,
          24132.18,
          22158.99,
          20051.22,
          18422.97,
          16315.650000000001,
          13977.090000000002,
          12780.87,
          10884.54,
          8991.81,
          7980.120000000001,
          7627.02,
          6931.620000000001,
          6272.250000000001,
          6017.37,
          5869.8,
          5525.31,
          5254.920000000001,
          5030.43,
          4744.530000000001,
          4580.040000000001,
          4294.14,
          4073.88,
          3967.98,
          3804.9,
          3408.8700000000003,
          3125.79,
          2721.3,
          2496.8100000000004,
          2268.09,
          2036.5500000000002,
          1806.4200000000003,
          1579.1100000000001,
          1110.39,
          877.44,
          701.6700000000001,
          410.13,
          292.95000000000005,
          292.95000000000005,
          234.36,
          117.18,
          58.59,
          58.59,
          58.59,
          58.59,
          58.59,
          58.59,
          58.59,
          58.59,
          0,
          0,
          0,
          0,
          0,
          0,
          0,
          0,
          0,
          0,
          0,
          0,
          0,
          0,
          0,
          0,
          0,
          0,
          0,
          0,
          0,
          0,
          0,
          0,
          0,
          0,
          0,
          0,
          0,
          0,
          0,
          0,
          0,
          0,
          0,
          0,
          0,
          0,
          0,
          0,
          0,
          0,
          0,
          0,
          0,
          0,
          0,
          0,
          0,
          0,
          0,
          0,
          0,
          0,
          0,
          0,
          0,
          0,
          0,
          0,
          0,
          0,
          0,
          0,
          0,
          0,
          0,
          0,
          0,
          0,
          0,
          0,
          0,
          0,
          0,
          0,
          0,
          0,
          0,
          0,
          0,
          0,
          0,
          0,
          0,
          0,
          0,
          0,
          0,
          0,
          0,
          0,
          0,
          0,
          0,
          0,
          0,
          0,
          0,
          0,
          0,
          0,
          0,
          0,
          0,
          0,
          0,
          0,
          0,
          0,
          0,
          0,
          0,
          0,
          0,
          0,
          0,
          0,
          0,
          0,
          0,
          0,
          0,
          0,
          0,
          0,
          0,
          0,
          0,
          0,
          0,
          0,
          0,
          0,
          0,
          0,
          0,
          0,
          0,
          0,
          0
         ]
        }
       ],
       "layout": {
        "height": 500,
        "template": {
         "data": {
          "bar": [
           {
            "error_x": {
             "color": "#2a3f5f"
            },
            "error_y": {
             "color": "#2a3f5f"
            },
            "marker": {
             "line": {
              "color": "#E5ECF6",
              "width": 0.5
             },
             "pattern": {
              "fillmode": "overlay",
              "size": 10,
              "solidity": 0.2
             }
            },
            "type": "bar"
           }
          ],
          "barpolar": [
           {
            "marker": {
             "line": {
              "color": "#E5ECF6",
              "width": 0.5
             },
             "pattern": {
              "fillmode": "overlay",
              "size": 10,
              "solidity": 0.2
             }
            },
            "type": "barpolar"
           }
          ],
          "carpet": [
           {
            "aaxis": {
             "endlinecolor": "#2a3f5f",
             "gridcolor": "white",
             "linecolor": "white",
             "minorgridcolor": "white",
             "startlinecolor": "#2a3f5f"
            },
            "baxis": {
             "endlinecolor": "#2a3f5f",
             "gridcolor": "white",
             "linecolor": "white",
             "minorgridcolor": "white",
             "startlinecolor": "#2a3f5f"
            },
            "type": "carpet"
           }
          ],
          "choropleth": [
           {
            "colorbar": {
             "outlinewidth": 0,
             "ticks": ""
            },
            "type": "choropleth"
           }
          ],
          "contour": [
           {
            "colorbar": {
             "outlinewidth": 0,
             "ticks": ""
            },
            "colorscale": [
             [
              0,
              "#0d0887"
             ],
             [
              0.1111111111111111,
              "#46039f"
             ],
             [
              0.2222222222222222,
              "#7201a8"
             ],
             [
              0.3333333333333333,
              "#9c179e"
             ],
             [
              0.4444444444444444,
              "#bd3786"
             ],
             [
              0.5555555555555556,
              "#d8576b"
             ],
             [
              0.6666666666666666,
              "#ed7953"
             ],
             [
              0.7777777777777778,
              "#fb9f3a"
             ],
             [
              0.8888888888888888,
              "#fdca26"
             ],
             [
              1,
              "#f0f921"
             ]
            ],
            "type": "contour"
           }
          ],
          "contourcarpet": [
           {
            "colorbar": {
             "outlinewidth": 0,
             "ticks": ""
            },
            "type": "contourcarpet"
           }
          ],
          "heatmap": [
           {
            "colorbar": {
             "outlinewidth": 0,
             "ticks": ""
            },
            "colorscale": [
             [
              0,
              "#0d0887"
             ],
             [
              0.1111111111111111,
              "#46039f"
             ],
             [
              0.2222222222222222,
              "#7201a8"
             ],
             [
              0.3333333333333333,
              "#9c179e"
             ],
             [
              0.4444444444444444,
              "#bd3786"
             ],
             [
              0.5555555555555556,
              "#d8576b"
             ],
             [
              0.6666666666666666,
              "#ed7953"
             ],
             [
              0.7777777777777778,
              "#fb9f3a"
             ],
             [
              0.8888888888888888,
              "#fdca26"
             ],
             [
              1,
              "#f0f921"
             ]
            ],
            "type": "heatmap"
           }
          ],
          "heatmapgl": [
           {
            "colorbar": {
             "outlinewidth": 0,
             "ticks": ""
            },
            "colorscale": [
             [
              0,
              "#0d0887"
             ],
             [
              0.1111111111111111,
              "#46039f"
             ],
             [
              0.2222222222222222,
              "#7201a8"
             ],
             [
              0.3333333333333333,
              "#9c179e"
             ],
             [
              0.4444444444444444,
              "#bd3786"
             ],
             [
              0.5555555555555556,
              "#d8576b"
             ],
             [
              0.6666666666666666,
              "#ed7953"
             ],
             [
              0.7777777777777778,
              "#fb9f3a"
             ],
             [
              0.8888888888888888,
              "#fdca26"
             ],
             [
              1,
              "#f0f921"
             ]
            ],
            "type": "heatmapgl"
           }
          ],
          "histogram": [
           {
            "marker": {
             "pattern": {
              "fillmode": "overlay",
              "size": 10,
              "solidity": 0.2
             }
            },
            "type": "histogram"
           }
          ],
          "histogram2d": [
           {
            "colorbar": {
             "outlinewidth": 0,
             "ticks": ""
            },
            "colorscale": [
             [
              0,
              "#0d0887"
             ],
             [
              0.1111111111111111,
              "#46039f"
             ],
             [
              0.2222222222222222,
              "#7201a8"
             ],
             [
              0.3333333333333333,
              "#9c179e"
             ],
             [
              0.4444444444444444,
              "#bd3786"
             ],
             [
              0.5555555555555556,
              "#d8576b"
             ],
             [
              0.6666666666666666,
              "#ed7953"
             ],
             [
              0.7777777777777778,
              "#fb9f3a"
             ],
             [
              0.8888888888888888,
              "#fdca26"
             ],
             [
              1,
              "#f0f921"
             ]
            ],
            "type": "histogram2d"
           }
          ],
          "histogram2dcontour": [
           {
            "colorbar": {
             "outlinewidth": 0,
             "ticks": ""
            },
            "colorscale": [
             [
              0,
              "#0d0887"
             ],
             [
              0.1111111111111111,
              "#46039f"
             ],
             [
              0.2222222222222222,
              "#7201a8"
             ],
             [
              0.3333333333333333,
              "#9c179e"
             ],
             [
              0.4444444444444444,
              "#bd3786"
             ],
             [
              0.5555555555555556,
              "#d8576b"
             ],
             [
              0.6666666666666666,
              "#ed7953"
             ],
             [
              0.7777777777777778,
              "#fb9f3a"
             ],
             [
              0.8888888888888888,
              "#fdca26"
             ],
             [
              1,
              "#f0f921"
             ]
            ],
            "type": "histogram2dcontour"
           }
          ],
          "mesh3d": [
           {
            "colorbar": {
             "outlinewidth": 0,
             "ticks": ""
            },
            "type": "mesh3d"
           }
          ],
          "parcoords": [
           {
            "line": {
             "colorbar": {
              "outlinewidth": 0,
              "ticks": ""
             }
            },
            "type": "parcoords"
           }
          ],
          "pie": [
           {
            "automargin": true,
            "type": "pie"
           }
          ],
          "scatter": [
           {
            "fillpattern": {
             "fillmode": "overlay",
             "size": 10,
             "solidity": 0.2
            },
            "type": "scatter"
           }
          ],
          "scatter3d": [
           {
            "line": {
             "colorbar": {
              "outlinewidth": 0,
              "ticks": ""
             }
            },
            "marker": {
             "colorbar": {
              "outlinewidth": 0,
              "ticks": ""
             }
            },
            "type": "scatter3d"
           }
          ],
          "scattercarpet": [
           {
            "marker": {
             "colorbar": {
              "outlinewidth": 0,
              "ticks": ""
             }
            },
            "type": "scattercarpet"
           }
          ],
          "scattergeo": [
           {
            "marker": {
             "colorbar": {
              "outlinewidth": 0,
              "ticks": ""
             }
            },
            "type": "scattergeo"
           }
          ],
          "scattergl": [
           {
            "marker": {
             "colorbar": {
              "outlinewidth": 0,
              "ticks": ""
             }
            },
            "type": "scattergl"
           }
          ],
          "scattermapbox": [
           {
            "marker": {
             "colorbar": {
              "outlinewidth": 0,
              "ticks": ""
             }
            },
            "type": "scattermapbox"
           }
          ],
          "scatterpolar": [
           {
            "marker": {
             "colorbar": {
              "outlinewidth": 0,
              "ticks": ""
             }
            },
            "type": "scatterpolar"
           }
          ],
          "scatterpolargl": [
           {
            "marker": {
             "colorbar": {
              "outlinewidth": 0,
              "ticks": ""
             }
            },
            "type": "scatterpolargl"
           }
          ],
          "scatterternary": [
           {
            "marker": {
             "colorbar": {
              "outlinewidth": 0,
              "ticks": ""
             }
            },
            "type": "scatterternary"
           }
          ],
          "surface": [
           {
            "colorbar": {
             "outlinewidth": 0,
             "ticks": ""
            },
            "colorscale": [
             [
              0,
              "#0d0887"
             ],
             [
              0.1111111111111111,
              "#46039f"
             ],
             [
              0.2222222222222222,
              "#7201a8"
             ],
             [
              0.3333333333333333,
              "#9c179e"
             ],
             [
              0.4444444444444444,
              "#bd3786"
             ],
             [
              0.5555555555555556,
              "#d8576b"
             ],
             [
              0.6666666666666666,
              "#ed7953"
             ],
             [
              0.7777777777777778,
              "#fb9f3a"
             ],
             [
              0.8888888888888888,
              "#fdca26"
             ],
             [
              1,
              "#f0f921"
             ]
            ],
            "type": "surface"
           }
          ],
          "table": [
           {
            "cells": {
             "fill": {
              "color": "#EBF0F8"
             },
             "line": {
              "color": "white"
             }
            },
            "header": {
             "fill": {
              "color": "#C8D4E3"
             },
             "line": {
              "color": "white"
             }
            },
            "type": "table"
           }
          ]
         },
         "layout": {
          "annotationdefaults": {
           "arrowcolor": "#2a3f5f",
           "arrowhead": 0,
           "arrowwidth": 1
          },
          "autotypenumbers": "strict",
          "coloraxis": {
           "colorbar": {
            "outlinewidth": 0,
            "ticks": ""
           }
          },
          "colorscale": {
           "diverging": [
            [
             0,
             "#8e0152"
            ],
            [
             0.1,
             "#c51b7d"
            ],
            [
             0.2,
             "#de77ae"
            ],
            [
             0.3,
             "#f1b6da"
            ],
            [
             0.4,
             "#fde0ef"
            ],
            [
             0.5,
             "#f7f7f7"
            ],
            [
             0.6,
             "#e6f5d0"
            ],
            [
             0.7,
             "#b8e186"
            ],
            [
             0.8,
             "#7fbc41"
            ],
            [
             0.9,
             "#4d9221"
            ],
            [
             1,
             "#276419"
            ]
           ],
           "sequential": [
            [
             0,
             "#0d0887"
            ],
            [
             0.1111111111111111,
             "#46039f"
            ],
            [
             0.2222222222222222,
             "#7201a8"
            ],
            [
             0.3333333333333333,
             "#9c179e"
            ],
            [
             0.4444444444444444,
             "#bd3786"
            ],
            [
             0.5555555555555556,
             "#d8576b"
            ],
            [
             0.6666666666666666,
             "#ed7953"
            ],
            [
             0.7777777777777778,
             "#fb9f3a"
            ],
            [
             0.8888888888888888,
             "#fdca26"
            ],
            [
             1,
             "#f0f921"
            ]
           ],
           "sequentialminus": [
            [
             0,
             "#0d0887"
            ],
            [
             0.1111111111111111,
             "#46039f"
            ],
            [
             0.2222222222222222,
             "#7201a8"
            ],
            [
             0.3333333333333333,
             "#9c179e"
            ],
            [
             0.4444444444444444,
             "#bd3786"
            ],
            [
             0.5555555555555556,
             "#d8576b"
            ],
            [
             0.6666666666666666,
             "#ed7953"
            ],
            [
             0.7777777777777778,
             "#fb9f3a"
            ],
            [
             0.8888888888888888,
             "#fdca26"
            ],
            [
             1,
             "#f0f921"
            ]
           ]
          },
          "colorway": [
           "#636efa",
           "#EF553B",
           "#00cc96",
           "#ab63fa",
           "#FFA15A",
           "#19d3f3",
           "#FF6692",
           "#B6E880",
           "#FF97FF",
           "#FECB52"
          ],
          "font": {
           "color": "#2a3f5f"
          },
          "geo": {
           "bgcolor": "white",
           "lakecolor": "white",
           "landcolor": "#E5ECF6",
           "showlakes": true,
           "showland": true,
           "subunitcolor": "white"
          },
          "hoverlabel": {
           "align": "left"
          },
          "hovermode": "closest",
          "mapbox": {
           "style": "light"
          },
          "paper_bgcolor": "white",
          "plot_bgcolor": "#E5ECF6",
          "polar": {
           "angularaxis": {
            "gridcolor": "white",
            "linecolor": "white",
            "ticks": ""
           },
           "bgcolor": "#E5ECF6",
           "radialaxis": {
            "gridcolor": "white",
            "linecolor": "white",
            "ticks": ""
           }
          },
          "scene": {
           "xaxis": {
            "backgroundcolor": "#E5ECF6",
            "gridcolor": "white",
            "gridwidth": 2,
            "linecolor": "white",
            "showbackground": true,
            "ticks": "",
            "zerolinecolor": "white"
           },
           "yaxis": {
            "backgroundcolor": "#E5ECF6",
            "gridcolor": "white",
            "gridwidth": 2,
            "linecolor": "white",
            "showbackground": true,
            "ticks": "",
            "zerolinecolor": "white"
           },
           "zaxis": {
            "backgroundcolor": "#E5ECF6",
            "gridcolor": "white",
            "gridwidth": 2,
            "linecolor": "white",
            "showbackground": true,
            "ticks": "",
            "zerolinecolor": "white"
           }
          },
          "shapedefaults": {
           "line": {
            "color": "#2a3f5f"
           }
          },
          "ternary": {
           "aaxis": {
            "gridcolor": "white",
            "linecolor": "white",
            "ticks": ""
           },
           "baxis": {
            "gridcolor": "white",
            "linecolor": "white",
            "ticks": ""
           },
           "bgcolor": "#E5ECF6",
           "caxis": {
            "gridcolor": "white",
            "linecolor": "white",
            "ticks": ""
           }
          },
          "title": {
           "x": 0.05
          },
          "xaxis": {
           "automargin": true,
           "gridcolor": "white",
           "linecolor": "white",
           "ticks": "",
           "title": {
            "standoff": 15
           },
           "zerolinecolor": "white",
           "zerolinewidth": 2
          },
          "yaxis": {
           "automargin": true,
           "gridcolor": "white",
           "linecolor": "white",
           "ticks": "",
           "title": {
            "standoff": 15
           },
           "zerolinecolor": "white",
           "zerolinewidth": 2
          }
         }
        },
        "title": {
         "text": "Potential profit at various cutoffs"
        },
        "width": 700,
        "xaxis": {
         "autorange": true,
         "range": [
          0,
          1
         ],
         "type": "linear"
        },
        "yaxis": {
         "autorange": true,
         "range": [
          -1924.4533333333336,
          36480.013333333336
         ],
         "type": "linear"
        }
       }
      },
      "image/png": "[encoded data removed]",
      "text/html": [
       "<div>                            <div id=\"95eeba6e-f67e-4d10-b9e2-65a34635eabe\" class=\"plotly-graph-div\" style=\"height:500px; width:700px;\"></div>            <script type=\"text/javascript\">                require([\"plotly\"], function(Plotly) {                    window.PLOTLYENV=window.PLOTLYENV || {};                                    if (document.getElementById(\"95eeba6e-f67e-4d10-b9e2-65a34635eabe\")) {                    Plotly.newPlot(                        \"95eeba6e-f67e-4d10-b9e2-65a34635eabe\",                        [{\"mode\":\"lines\",\"name\":\"m1\",\"x\":[0.0,0.005025125628140704,0.010050251256281407,0.01507537688442211,0.020100502512562814,0.02512562814070352,0.03015075376884422,0.035175879396984924,0.04020100502512563,0.04522613065326633,0.05025125628140704,0.05527638190954774,0.06030150753768844,0.06532663316582915,0.07035175879396985,0.07537688442211056,0.08040201005025126,0.08542713567839195,0.09045226130653267,0.09547738693467336,0.10050251256281408,0.10552763819095477,0.11055276381909548,0.11557788944723618,0.12060301507537688,0.12562814070351758,0.1306532663316583,0.135678391959799,0.1407035175879397,0.1457286432160804,0.15075376884422112,0.15577889447236182,0.16080402010050251,0.1658291457286432,0.1708542713567839,0.17587939698492464,0.18090452261306533,0.18592964824120603,0.19095477386934673,0.19597989949748745,0.20100502512562815,0.20603015075376885,0.21105527638190955,0.21608040201005024,0.22110552763819097,0.22613065326633167,0.23115577889447236,0.23618090452261306,0.24120603015075376,0.24623115577889448,0.25125628140703515,0.2562814070351759,0.2613065326633166,0.2663316582914573,0.271356783919598,0.2763819095477387,0.2814070351758794,0.2864321608040201,0.2914572864321608,0.2964824120603015,0.30150753768844224,0.3065326633165829,0.31155778894472363,0.3165829145728643,0.32160804020100503,0.32663316582914576,0.3316582914572864,0.33668341708542715,0.3417085427135678,0.34673366834170855,0.35175879396984927,0.35678391959798994,0.36180904522613067,0.36683417085427134,0.37185929648241206,0.3768844221105528,0.38190954773869346,0.3869346733668342,0.3919597989949749,0.3969849246231156,0.4020100502512563,0.40703517587939697,0.4120603015075377,0.4170854271356784,0.4221105527638191,0.4271356783919598,0.4321608040201005,0.4371859296482412,0.44221105527638194,0.4472361809045226,0.45226130653266333,0.457286432160804,0.4623115577889447,0.46733668341708545,0.4723618090452261,0.47738693467336685,0.4824120603015075,0.48743718592964824,0.49246231155778897,0.49748743718592964,0.5025125628140703,0.507537688442211,0.5125628140703518,0.5175879396984925,0.5226130653266332,0.5276381909547738,0.5326633165829145,0.5376884422110553,0.542713567839196,0.5477386934673367,0.5527638190954774,0.5577889447236181,0.5628140703517588,0.5678391959798995,0.5728643216080402,0.577889447236181,0.5829145728643216,0.5879396984924623,0.592964824120603,0.5979899497487438,0.6030150753768845,0.6080402010050251,0.6130653266331658,0.6180904522613065,0.6231155778894473,0.628140703517588,0.6331658291457286,0.6381909547738693,0.6432160804020101,0.6482412060301508,0.6532663316582915,0.6582914572864321,0.6633165829145728,0.6683417085427136,0.6733668341708543,0.678391959798995,0.6834170854271356,0.6884422110552764,0.6934673366834171,0.6984924623115578,0.7035175879396985,0.7085427135678392,0.7135678391959799,0.7185929648241206,0.7236180904522613,0.7286432160804021,0.7336683417085427,0.7386934673366834,0.7437185929648241,0.7487437185929648,0.7537688442211056,0.7587939698492463,0.7638190954773869,0.7688442211055276,0.7738693467336684,0.7788944723618091,0.7839195979899498,0.7889447236180904,0.7939698492462312,0.7989949748743719,0.8040201005025126,0.8090452261306533,0.8140703517587939,0.8190954773869347,0.8241206030150754,0.8291457286432161,0.8341708542713568,0.8391959798994975,0.8442211055276382,0.8492462311557789,0.8542713567839196,0.8592964824120604,0.864321608040201,0.8693467336683417,0.8743718592964824,0.8793969849246231,0.8844221105527639,0.8894472361809045,0.8944723618090452,0.8994974874371859,0.9045226130653267,0.9095477386934674,0.914572864321608,0.9195979899497487,0.9246231155778895,0.9296482412060302,0.9346733668341709,0.9396984924623115,0.9447236180904522,0.949748743718593,0.9547738693467337,0.9597989949748744,0.964824120603015,0.9698492462311558,0.9748743718592965,0.9798994974874372,0.9849246231155779,0.9899497487437187,0.9949748743718593,1.0],\"y\":[29460.000000000007,29579.850000000006,30826.650000000005,32340.450000000008,33072.69,33266.79000000001,32216.85,32078.010000000006,31200.66,30517.710000000006,28953.39,28112.190000000002,27314.22,26150.760000000002,25216.800000000003,23799.390000000003,22876.230000000003,21634.74,20461.860000000004,19751.43,19299.33,18706.08,17953.350000000002,17229.6,16495.98,15908.520000000002,14968.11,13938.09,13429.740000000002,12791.520000000002,12150.480000000001,11498.160000000002,11254.560000000001,10765.320000000002,10404.54,10384.02,9894.78,9349.77,9137.970000000001,8641.68,8495.52,8045.130000000001,7487.43,7282.68,7128.06,6973.4400000000005,6825.870000000001,6541.380000000001,6375.4800000000005,6275.22,6053.55,5893.29,5727.39,5445.72,5285.46,5176.74,5013.660000000001,4791.990000000001,4627.5,4518.78,4352.88,4006.9800000000005,3841.08,3786.7200000000003,3736.59,3623.6400000000003,3399.15,3290.4300000000003,3124.5299999999997,2894.4,2837.2200000000003,2676.96,2625.42,2573.88,2576.7000000000003,2520.9300000000003,2473.62,2424.9000000000005,2369.13,2256.1800000000003,2147.46,1980.15,1925.7900000000002,1751.4300000000003,1637.0700000000002,1585.53,1589.76,1595.4,1599.6299999999999,1602.45,1368.0900000000001,1135.14,1137.9600000000003,1080.78,1082.19,1087.83,974.8800000000001,919.11,861.9300000000001,803.34,803.34,803.34,747.57,750.3900000000001,691.8000000000001,633.21,574.6200000000001,576.0300000000001,576.0300000000001,577.44,578.8500000000001,520.2600000000001,520.2600000000001,520.2600000000001,520.2600000000001,461.67,461.67,404.49,345.90000000000003,287.31000000000006,171.54000000000002,171.54000000000002,171.54000000000002,112.95,54.36000000000001,54.36000000000001,54.36000000000001,-2.82,-1.41,-1.41,-1.41,-1.41,-1.41,-1.41,-1.41,-1.41,-1.41,0.0,0.0,0.0,0.0,0.0,0.0,0.0,0.0,0.0,0.0,0.0,0.0,0.0,0.0,0.0,0.0,0.0,0.0,0.0,0.0,0.0,0.0,0.0,0.0,0.0,0.0,0.0,0.0,0.0,0.0,0.0,0.0,0.0,0.0,0.0,0.0,0.0,0.0,0.0,0.0,0.0,0.0,0.0,0.0,0.0,0.0,0.0,0.0,0.0,0.0,0.0,0.0,0.0,0.0,0.0,0.0,0.0,0.0,0.0,0.0,0.0,0.0,0.0],\"type\":\"scatter\"},{\"mode\":\"lines\",\"name\":\"m2\",\"x\":[0.0,0.005025125628140704,0.010050251256281407,0.01507537688442211,0.020100502512562814,0.02512562814070352,0.03015075376884422,0.035175879396984924,0.04020100502512563,0.04522613065326633,0.05025125628140704,0.05527638190954774,0.06030150753768844,0.06532663316582915,0.07035175879396985,0.07537688442211056,0.08040201005025126,0.08542713567839195,0.09045226130653267,0.09547738693467336,0.10050251256281408,0.10552763819095477,0.11055276381909548,0.11557788944723618,0.12060301507537688,0.12562814070351758,0.1306532663316583,0.135678391959799,0.1407035175879397,0.1457286432160804,0.15075376884422112,0.15577889447236182,0.16080402010050251,0.1658291457286432,0.1708542713567839,0.17587939698492464,0.18090452261306533,0.18592964824120603,0.19095477386934673,0.19597989949748745,0.20100502512562815,0.20603015075376885,0.21105527638190955,0.21608040201005024,0.22110552763819097,0.22613065326633167,0.23115577889447236,0.23618090452261306,0.24120603015075376,0.24623115577889448,0.25125628140703515,0.2562814070351759,0.2613065326633166,0.2663316582914573,0.271356783919598,0.2763819095477387,0.2814070351758794,0.2864321608040201,0.2914572864321608,0.2964824120603015,0.30150753768844224,0.3065326633165829,0.31155778894472363,0.3165829145728643,0.32160804020100503,0.32663316582914576,0.3316582914572864,0.33668341708542715,0.3417085427135678,0.34673366834170855,0.35175879396984927,0.35678391959798994,0.36180904522613067,0.36683417085427134,0.37185929648241206,0.3768844221105528,0.38190954773869346,0.3869346733668342,0.3919597989949749,0.3969849246231156,0.4020100502512563,0.40703517587939697,0.4120603015075377,0.4170854271356784,0.4221105527638191,0.4271356783919598,0.4321608040201005,0.4371859296482412,0.44221105527638194,0.4472361809045226,0.45226130653266333,0.457286432160804,0.4623115577889447,0.46733668341708545,0.4723618090452261,0.47738693467336685,0.4824120603015075,0.48743718592964824,0.49246231155778897,0.49748743718592964,0.5025125628140703,0.507537688442211,0.5125628140703518,0.5175879396984925,0.5226130653266332,0.5276381909547738,0.5326633165829145,0.5376884422110553,0.542713567839196,0.5477386934673367,0.5527638190954774,0.5577889447236181,0.5628140703517588,0.5678391959798995,0.5728643216080402,0.577889447236181,0.5829145728643216,0.5879396984924623,0.592964824120603,0.5979899497487438,0.6030150753768845,0.6080402010050251,0.6130653266331658,0.6180904522613065,0.6231155778894473,0.628140703517588,0.6331658291457286,0.6381909547738693,0.6432160804020101,0.6482412060301508,0.6532663316582915,0.6582914572864321,0.6633165829145728,0.6683417085427136,0.6733668341708543,0.678391959798995,0.6834170854271356,0.6884422110552764,0.6934673366834171,0.6984924623115578,0.7035175879396985,0.7085427135678392,0.7135678391959799,0.7185929648241206,0.7236180904522613,0.7286432160804021,0.7336683417085427,0.7386934673366834,0.7437185929648241,0.7487437185929648,0.7537688442211056,0.7587939698492463,0.7638190954773869,0.7688442211055276,0.7738693467336684,0.7788944723618091,0.7839195979899498,0.7889447236180904,0.7939698492462312,0.7989949748743719,0.8040201005025126,0.8090452261306533,0.8140703517587939,0.8190954773869347,0.8241206030150754,0.8291457286432161,0.8341708542713568,0.8391959798994975,0.8442211055276382,0.8492462311557789,0.8542713567839196,0.8592964824120604,0.864321608040201,0.8693467336683417,0.8743718592964824,0.8793969849246231,0.8844221105527639,0.8894472361809045,0.8944723618090452,0.8994974874371859,0.9045226130653267,0.9095477386934674,0.914572864321608,0.9195979899497487,0.9246231155778895,0.9296482412060302,0.9346733668341709,0.9396984924623115,0.9447236180904522,0.949748743718593,0.9547738693467337,0.9597989949748744,0.964824120603015,0.9698492462311558,0.9748743718592965,0.9798994974874372,0.9849246231155779,0.9899497487437187,0.9949748743718593,1.0],\"y\":[29460.000000000007,30957.9,32755.710000000006,34181.46000000001,34413.48000000001,34559.79,33831.3,33328.530000000006,32524.800000000003,31849.2,30777.870000000003,30162.090000000004,29475.18,28603.410000000003,27863.070000000003,26721.840000000004,26088.96,25355.190000000002,24269.88,23636.37,22836.33,22029.24,21474.21,20926.230000000003,20172.87,19712.460000000003,19452.57,18796.65,18342.660000000003,17427.0,17220.06,16593.12,16429.26,16268.22,15860.130000000001,15320.76,15192.930000000002,14770.740000000002,14468.550000000001,13742.130000000001,13543.02,13046.730000000001,12443.13,11889.66,11394.78,11018.490000000002,10696.560000000001,10610.4,10114.11,10022.310000000001,9686.279999999999,9245.76,9033.96,8474.85,8324.46,7932.660000000001,7655.220000000001,7440.6,7228.8,6897.000000000001,6559.56,6396.4800000000005,6171.990000000001,5775.96,5732.88,5569.800000000001,5289.54,4949.28,4670.43,4443.120000000001,4271.58,4220.04,3988.5,3875.55,3765.42,3596.7000000000003,3600.9300000000003,3312.21,3142.0800000000004,3087.7200000000003,3031.95,2857.59,2801.82,2573.1000000000004,2460.1500000000005,2348.61,2351.43,2178.48,1889.76,1838.22,1725.27,1553.73,1495.14,1497.96,1439.37,1440.78,1383.6000000000001,1383.6000000000001,1383.6000000000001,1150.65,1092.06,1092.06,976.2900000000001,861.9300000000001,863.34,866.16,866.16,866.16,866.16,866.16,868.98,810.39,753.21,637.44,578.8500000000001,523.08,524.49,524.49,524.49,524.49,407.31,348.72,348.72,291.54,232.95000000000002,232.95000000000002,232.95000000000002,232.95000000000002,232.95000000000002,232.95000000000002,234.36,234.36,117.18,117.18,117.18,117.18,117.18,117.18,117.18,0.0,0.0,0.0,0.0,0.0,0.0,0.0,0.0,0.0,0.0,0.0,0.0,0.0,0.0,0.0,0.0,0.0,0.0,0.0,0.0,0.0,0.0,0.0,0.0,0.0,0.0,0.0,0.0,0.0,0.0,0.0,0.0,0.0,0.0,0.0,0.0,0.0,0.0,0.0,0.0,0.0,0.0,0.0,0.0,0.0,0.0,0.0,0.0,0.0,0.0,0.0,0.0,0.0,0.0,0.0,0.0,0.0,0.0,0.0,0.0,0.0],\"type\":\"scatter\"},{\"mode\":\"lines\",\"name\":\"m3\",\"x\":[0.0,0.005025125628140704,0.010050251256281407,0.01507537688442211,0.020100502512562814,0.02512562814070352,0.03015075376884422,0.035175879396984924,0.04020100502512563,0.04522613065326633,0.05025125628140704,0.05527638190954774,0.06030150753768844,0.06532663316582915,0.07035175879396985,0.07537688442211056,0.08040201005025126,0.08542713567839195,0.09045226130653267,0.09547738693467336,0.10050251256281408,0.10552763819095477,0.11055276381909548,0.11557788944723618,0.12060301507537688,0.12562814070351758,0.1306532663316583,0.135678391959799,0.1407035175879397,0.1457286432160804,0.15075376884422112,0.15577889447236182,0.16080402010050251,0.1658291457286432,0.1708542713567839,0.17587939698492464,0.18090452261306533,0.18592964824120603,0.19095477386934673,0.19597989949748745,0.20100502512562815,0.20603015075376885,0.21105527638190955,0.21608040201005024,0.22110552763819097,0.22613065326633167,0.23115577889447236,0.23618090452261306,0.24120603015075376,0.24623115577889448,0.25125628140703515,0.2562814070351759,0.2613065326633166,0.2663316582914573,0.271356783919598,0.2763819095477387,0.2814070351758794,0.2864321608040201,0.2914572864321608,0.2964824120603015,0.30150753768844224,0.3065326633165829,0.31155778894472363,0.3165829145728643,0.32160804020100503,0.32663316582914576,0.3316582914572864,0.33668341708542715,0.3417085427135678,0.34673366834170855,0.35175879396984927,0.35678391959798994,0.36180904522613067,0.36683417085427134,0.37185929648241206,0.3768844221105528,0.38190954773869346,0.3869346733668342,0.3919597989949749,0.3969849246231156,0.4020100502512563,0.40703517587939697,0.4120603015075377,0.4170854271356784,0.4221105527638191,0.4271356783919598,0.4321608040201005,0.4371859296482412,0.44221105527638194,0.4472361809045226,0.45226130653266333,0.457286432160804,0.4623115577889447,0.46733668341708545,0.4723618090452261,0.47738693467336685,0.4824120603015075,0.48743718592964824,0.49246231155778897,0.49748743718592964,0.5025125628140703,0.507537688442211,0.5125628140703518,0.5175879396984925,0.5226130653266332,0.5276381909547738,0.5326633165829145,0.5376884422110553,0.542713567839196,0.5477386934673367,0.5527638190954774,0.5577889447236181,0.5628140703517588,0.5678391959798995,0.5728643216080402,0.577889447236181,0.5829145728643216,0.5879396984924623,0.592964824120603,0.5979899497487438,0.6030150753768845,0.6080402010050251,0.6130653266331658,0.6180904522613065,0.6231155778894473,0.628140703517588,0.6331658291457286,0.6381909547738693,0.6432160804020101,0.6482412060301508,0.6532663316582915,0.6582914572864321,0.6633165829145728,0.6683417085427136,0.6733668341708543,0.678391959798995,0.6834170854271356,0.6884422110552764,0.6934673366834171,0.6984924623115578,0.7035175879396985,0.7085427135678392,0.7135678391959799,0.7185929648241206,0.7236180904522613,0.7286432160804021,0.7336683417085427,0.7386934673366834,0.7437185929648241,0.7487437185929648,0.7537688442211056,0.7587939698492463,0.7638190954773869,0.7688442211055276,0.7738693467336684,0.7788944723618091,0.7839195979899498,0.7889447236180904,0.7939698492462312,0.7989949748743719,0.8040201005025126,0.8090452261306533,0.8140703517587939,0.8190954773869347,0.8241206030150754,0.8291457286432161,0.8341708542713568,0.8391959798994975,0.8442211055276382,0.8492462311557789,0.8542713567839196,0.8592964824120604,0.864321608040201,0.8693467336683417,0.8743718592964824,0.8793969849246231,0.8844221105527639,0.8894472361809045,0.8944723618090452,0.8994974874371859,0.9045226130653267,0.9095477386934674,0.914572864321608,0.9195979899497487,0.9246231155778895,0.9296482412060302,0.9346733668341709,0.9396984924623115,0.9447236180904522,0.949748743718593,0.9547738693467337,0.9597989949748744,0.964824120603015,0.9698492462311558,0.9748743718592965,0.9798994974874372,0.9849246231155779,0.9899497487437187,0.9949748743718593,1.0],\"y\":[29460.000000000007,29495.250000000007,30327.18,32047.590000000007,32807.7,33459.87000000001,32949.93000000001,31890.420000000002,31650.21,30849.930000000008,29641.23,28465.260000000002,27598.680000000004,26531.100000000002,25473.54,24362.4,23079.09,21935.670000000002,20155.590000000004,19046.940000000002,18304.71,17672.61,16779.36,15962.4,15520.320000000002,14709.780000000002,14390.52,13034.34,12177.270000000002,11596.23,10839.420000000002,10091.070000000002,9575.67,8914.89,8669.880000000001,8356.41,7932.81,7615.110000000001,7224.720000000001,6604.2,6406.5,6191.880000000001,5681.490000000001,5293.92,4842.12,4567.5,4463.010000000001,4061.3400000000006,3838.26,3730.9500000000003,3509.28,3289.0200000000004,3121.71,2895.8100000000004,2787.09,2684.01,2631.06,2640.93,2469.39,2477.85,2373.36,2264.6400000000003,2095.92,1864.38,1751.4300000000003,1642.71,1645.5300000000002,1591.17,1538.22,1482.45,1310.91,1253.73,1137.9600000000003,1083.6000000000001,1086.42,913.47,916.2900000000001,860.52,744.7500000000001,744.7500000000001,746.1600000000001,688.98,688.98,574.6200000000001,574.6200000000001,574.6200000000001,574.6200000000001,576.0300000000001,578.8500000000001,578.8500000000001,520.2600000000001,520.2600000000001,520.2600000000001,461.67,403.08,403.08,345.90000000000003,287.31000000000006,170.13000000000002,171.54000000000002,171.54000000000002,171.54000000000002,112.95,54.36000000000001,54.36000000000001,-4.2299999999999995,-2.82,-1.41,-1.41,-1.41,-1.41,-1.41,-1.41,-1.41,-1.41,-1.41,0.0,0.0,0.0,0.0,0.0,0.0,0.0,0.0,0.0,0.0,0.0,0.0,0.0,0.0,0.0,0.0,0.0,0.0,0.0,0.0,0.0,0.0,0.0,0.0,0.0,0.0,0.0,0.0,0.0,0.0,0.0,0.0,0.0,0.0,0.0,0.0,0.0,0.0,0.0,0.0,0.0,0.0,0.0,0.0,0.0,0.0,0.0,0.0,0.0,0.0,0.0,0.0,0.0,0.0,0.0,0.0,0.0,0.0,0.0,0.0,0.0,0.0,0.0,0.0,0.0,0.0,0.0,0.0,0.0,0.0,0.0,0.0,0.0,0.0,0.0,0.0,0.0,0.0,0.0,0.0,0.0,0.0,0.0,0.0],\"type\":\"scatter\"},{\"mode\":\"lines\",\"name\":\"m4\",\"x\":[0.0,0.005025125628140704,0.010050251256281407,0.01507537688442211,0.020100502512562814,0.02512562814070352,0.03015075376884422,0.035175879396984924,0.04020100502512563,0.04522613065326633,0.05025125628140704,0.05527638190954774,0.06030150753768844,0.06532663316582915,0.07035175879396985,0.07537688442211056,0.08040201005025126,0.08542713567839195,0.09045226130653267,0.09547738693467336,0.10050251256281408,0.10552763819095477,0.11055276381909548,0.11557788944723618,0.12060301507537688,0.12562814070351758,0.1306532663316583,0.135678391959799,0.1407035175879397,0.1457286432160804,0.15075376884422112,0.15577889447236182,0.16080402010050251,0.1658291457286432,0.1708542713567839,0.17587939698492464,0.18090452261306533,0.18592964824120603,0.19095477386934673,0.19597989949748745,0.20100502512562815,0.20603015075376885,0.21105527638190955,0.21608040201005024,0.22110552763819097,0.22613065326633167,0.23115577889447236,0.23618090452261306,0.24120603015075376,0.24623115577889448,0.25125628140703515,0.2562814070351759,0.2613065326633166,0.2663316582914573,0.271356783919598,0.2763819095477387,0.2814070351758794,0.2864321608040201,0.2914572864321608,0.2964824120603015,0.30150753768844224,0.3065326633165829,0.31155778894472363,0.3165829145728643,0.32160804020100503,0.32663316582914576,0.3316582914572864,0.33668341708542715,0.3417085427135678,0.34673366834170855,0.35175879396984927,0.35678391959798994,0.36180904522613067,0.36683417085427134,0.37185929648241206,0.3768844221105528,0.38190954773869346,0.3869346733668342,0.3919597989949749,0.3969849246231156,0.4020100502512563,0.40703517587939697,0.4120603015075377,0.4170854271356784,0.4221105527638191,0.4271356783919598,0.4321608040201005,0.4371859296482412,0.44221105527638194,0.4472361809045226,0.45226130653266333,0.457286432160804,0.4623115577889447,0.46733668341708545,0.4723618090452261,0.47738693467336685,0.4824120603015075,0.48743718592964824,0.49246231155778897,0.49748743718592964,0.5025125628140703,0.507537688442211,0.5125628140703518,0.5175879396984925,0.5226130653266332,0.5276381909547738,0.5326633165829145,0.5376884422110553,0.542713567839196,0.5477386934673367,0.5527638190954774,0.5577889447236181,0.5628140703517588,0.5678391959798995,0.5728643216080402,0.577889447236181,0.5829145728643216,0.5879396984924623,0.592964824120603,0.5979899497487438,0.6030150753768845,0.6080402010050251,0.6130653266331658,0.6180904522613065,0.6231155778894473,0.628140703517588,0.6331658291457286,0.6381909547738693,0.6432160804020101,0.6482412060301508,0.6532663316582915,0.6582914572864321,0.6633165829145728,0.6683417085427136,0.6733668341708543,0.678391959798995,0.6834170854271356,0.6884422110552764,0.6934673366834171,0.6984924623115578,0.7035175879396985,0.7085427135678392,0.7135678391959799,0.7185929648241206,0.7236180904522613,0.7286432160804021,0.7336683417085427,0.7386934673366834,0.7437185929648241,0.7487437185929648,0.7537688442211056,0.7587939698492463,0.7638190954773869,0.7688442211055276,0.7738693467336684,0.7788944723618091,0.7839195979899498,0.7889447236180904,0.7939698492462312,0.7989949748743719,0.8040201005025126,0.8090452261306533,0.8140703517587939,0.8190954773869347,0.8241206030150754,0.8291457286432161,0.8341708542713568,0.8391959798994975,0.8442211055276382,0.8492462311557789,0.8542713567839196,0.8592964824120604,0.864321608040201,0.8693467336683417,0.8743718592964824,0.8793969849246231,0.8844221105527639,0.8894472361809045,0.8944723618090452,0.8994974874371859,0.9045226130653267,0.9095477386934674,0.914572864321608,0.9195979899497487,0.9246231155778895,0.9296482412060302,0.9346733668341709,0.9396984924623115,0.9447236180904522,0.949748743718593,0.9547738693467337,0.9597989949748744,0.964824120603015,0.9698492462311558,0.9748743718592965,0.9798994974874372,0.9849246231155779,0.9899497487437187,0.9949748743718593,1.0],\"y\":[29460.000000000007,29460.000000000007,29460.000000000007,29460.000000000007,29460.000000000007,29460.000000000007,29806.410000000007,31107.510000000002,31367.97,29497.710000000003,25764.000000000007,24132.18,22158.99,20051.22,18422.97,16315.650000000001,13977.090000000002,12780.87,10884.54,8991.81,7980.120000000001,7627.02,6931.620000000001,6272.250000000001,6017.37,5869.8,5525.31,5254.920000000001,5030.43,4744.530000000001,4580.040000000001,4294.14,4073.88,3967.98,3804.9,3408.8700000000003,3125.79,2721.3,2496.8100000000004,2268.09,2036.5500000000002,1806.4200000000003,1579.1100000000001,1110.39,877.44,701.6700000000001,410.13,292.95000000000005,292.95000000000005,234.36,117.18,58.59,58.59,58.59,58.59,58.59,58.59,58.59,58.59,0.0,0.0,0.0,0.0,0.0,0.0,0.0,0.0,0.0,0.0,0.0,0.0,0.0,0.0,0.0,0.0,0.0,0.0,0.0,0.0,0.0,0.0,0.0,0.0,0.0,0.0,0.0,0.0,0.0,0.0,0.0,0.0,0.0,0.0,0.0,0.0,0.0,0.0,0.0,0.0,0.0,0.0,0.0,0.0,0.0,0.0,0.0,0.0,0.0,0.0,0.0,0.0,0.0,0.0,0.0,0.0,0.0,0.0,0.0,0.0,0.0,0.0,0.0,0.0,0.0,0.0,0.0,0.0,0.0,0.0,0.0,0.0,0.0,0.0,0.0,0.0,0.0,0.0,0.0,0.0,0.0,0.0,0.0,0.0,0.0,0.0,0.0,0.0,0.0,0.0,0.0,0.0,0.0,0.0,0.0,0.0,0.0,0.0,0.0,0.0,0.0,0.0,0.0,0.0,0.0,0.0,0.0,0.0,0.0,0.0,0.0,0.0,0.0,0.0,0.0,0.0,0.0,0.0,0.0,0.0,0.0,0.0,0.0,0.0,0.0,0.0,0.0,0.0,0.0,0.0,0.0,0.0,0.0,0.0,0.0,0.0,0.0,0.0,0.0,0.0,0.0],\"type\":\"scatter\"}],                        {\"template\":{\"data\":{\"histogram2dcontour\":[{\"type\":\"histogram2dcontour\",\"colorbar\":{\"outlinewidth\":0,\"ticks\":\"\"},\"colorscale\":[[0.0,\"#0d0887\"],[0.1111111111111111,\"#46039f\"],[0.2222222222222222,\"#7201a8\"],[0.3333333333333333,\"#9c179e\"],[0.4444444444444444,\"#bd3786\"],[0.5555555555555556,\"#d8576b\"],[0.6666666666666666,\"#ed7953\"],[0.7777777777777778,\"#fb9f3a\"],[0.8888888888888888,\"#fdca26\"],[1.0,\"#f0f921\"]]}],\"choropleth\":[{\"type\":\"choropleth\",\"colorbar\":{\"outlinewidth\":0,\"ticks\":\"\"}}],\"histogram2d\":[{\"type\":\"histogram2d\",\"colorbar\":{\"outlinewidth\":0,\"ticks\":\"\"},\"colorscale\":[[0.0,\"#0d0887\"],[0.1111111111111111,\"#46039f\"],[0.2222222222222222,\"#7201a8\"],[0.3333333333333333,\"#9c179e\"],[0.4444444444444444,\"#bd3786\"],[0.5555555555555556,\"#d8576b\"],[0.6666666666666666,\"#ed7953\"],[0.7777777777777778,\"#fb9f3a\"],[0.8888888888888888,\"#fdca26\"],[1.0,\"#f0f921\"]]}],\"heatmap\":[{\"type\":\"heatmap\",\"colorbar\":{\"outlinewidth\":0,\"ticks\":\"\"},\"colorscale\":[[0.0,\"#0d0887\"],[0.1111111111111111,\"#46039f\"],[0.2222222222222222,\"#7201a8\"],[0.3333333333333333,\"#9c179e\"],[0.4444444444444444,\"#bd3786\"],[0.5555555555555556,\"#d8576b\"],[0.6666666666666666,\"#ed7953\"],[0.7777777777777778,\"#fb9f3a\"],[0.8888888888888888,\"#fdca26\"],[1.0,\"#f0f921\"]]}],\"heatmapgl\":[{\"type\":\"heatmapgl\",\"colorbar\":{\"outlinewidth\":0,\"ticks\":\"\"},\"colorscale\":[[0.0,\"#0d0887\"],[0.1111111111111111,\"#46039f\"],[0.2222222222222222,\"#7201a8\"],[0.3333333333333333,\"#9c179e\"],[0.4444444444444444,\"#bd3786\"],[0.5555555555555556,\"#d8576b\"],[0.6666666666666666,\"#ed7953\"],[0.7777777777777778,\"#fb9f3a\"],[0.8888888888888888,\"#fdca26\"],[1.0,\"#f0f921\"]]}],\"contourcarpet\":[{\"type\":\"contourcarpet\",\"colorbar\":{\"outlinewidth\":0,\"ticks\":\"\"}}],\"contour\":[{\"type\":\"contour\",\"colorbar\":{\"outlinewidth\":0,\"ticks\":\"\"},\"colorscale\":[[0.0,\"#0d0887\"],[0.1111111111111111,\"#46039f\"],[0.2222222222222222,\"#7201a8\"],[0.3333333333333333,\"#9c179e\"],[0.4444444444444444,\"#bd3786\"],[0.5555555555555556,\"#d8576b\"],[0.6666666666666666,\"#ed7953\"],[0.7777777777777778,\"#fb9f3a\"],[0.8888888888888888,\"#fdca26\"],[1.0,\"#f0f921\"]]}],\"surface\":[{\"type\":\"surface\",\"colorbar\":{\"outlinewidth\":0,\"ticks\":\"\"},\"colorscale\":[[0.0,\"#0d0887\"],[0.1111111111111111,\"#46039f\"],[0.2222222222222222,\"#7201a8\"],[0.3333333333333333,\"#9c179e\"],[0.4444444444444444,\"#bd3786\"],[0.5555555555555556,\"#d8576b\"],[0.6666666666666666,\"#ed7953\"],[0.7777777777777778,\"#fb9f3a\"],[0.8888888888888888,\"#fdca26\"],[1.0,\"#f0f921\"]]}],\"mesh3d\":[{\"type\":\"mesh3d\",\"colorbar\":{\"outlinewidth\":0,\"ticks\":\"\"}}],\"scatter\":[{\"fillpattern\":{\"fillmode\":\"overlay\",\"size\":10,\"solidity\":0.2},\"type\":\"scatter\"}],\"parcoords\":[{\"type\":\"parcoords\",\"line\":{\"colorbar\":{\"outlinewidth\":0,\"ticks\":\"\"}}}],\"scatterpolargl\":[{\"type\":\"scatterpolargl\",\"marker\":{\"colorbar\":{\"outlinewidth\":0,\"ticks\":\"\"}}}],\"bar\":[{\"error_x\":{\"color\":\"#2a3f5f\"},\"error_y\":{\"color\":\"#2a3f5f\"},\"marker\":{\"line\":{\"color\":\"#E5ECF6\",\"width\":0.5},\"pattern\":{\"fillmode\":\"overlay\",\"size\":10,\"solidity\":0.2}},\"type\":\"bar\"}],\"scattergeo\":[{\"type\":\"scattergeo\",\"marker\":{\"colorbar\":{\"outlinewidth\":0,\"ticks\":\"\"}}}],\"scatterpolar\":[{\"type\":\"scatterpolar\",\"marker\":{\"colorbar\":{\"outlinewidth\":0,\"ticks\":\"\"}}}],\"histogram\":[{\"marker\":{\"pattern\":{\"fillmode\":\"overlay\",\"size\":10,\"solidity\":0.2}},\"type\":\"histogram\"}],\"scattergl\":[{\"type\":\"scattergl\",\"marker\":{\"colorbar\":{\"outlinewidth\":0,\"ticks\":\"\"}}}],\"scatter3d\":[{\"type\":\"scatter3d\",\"line\":{\"colorbar\":{\"outlinewidth\":0,\"ticks\":\"\"}},\"marker\":{\"colorbar\":{\"outlinewidth\":0,\"ticks\":\"\"}}}],\"scattermapbox\":[{\"type\":\"scattermapbox\",\"marker\":{\"colorbar\":{\"outlinewidth\":0,\"ticks\":\"\"}}}],\"scatterternary\":[{\"type\":\"scatterternary\",\"marker\":{\"colorbar\":{\"outlinewidth\":0,\"ticks\":\"\"}}}],\"scattercarpet\":[{\"type\":\"scattercarpet\",\"marker\":{\"colorbar\":{\"outlinewidth\":0,\"ticks\":\"\"}}}],\"carpet\":[{\"aaxis\":{\"endlinecolor\":\"#2a3f5f\",\"gridcolor\":\"white\",\"linecolor\":\"white\",\"minorgridcolor\":\"white\",\"startlinecolor\":\"#2a3f5f\"},\"baxis\":{\"endlinecolor\":\"#2a3f5f\",\"gridcolor\":\"white\",\"linecolor\":\"white\",\"minorgridcolor\":\"white\",\"startlinecolor\":\"#2a3f5f\"},\"type\":\"carpet\"}],\"table\":[{\"cells\":{\"fill\":{\"color\":\"#EBF0F8\"},\"line\":{\"color\":\"white\"}},\"header\":{\"fill\":{\"color\":\"#C8D4E3\"},\"line\":{\"color\":\"white\"}},\"type\":\"table\"}],\"barpolar\":[{\"marker\":{\"line\":{\"color\":\"#E5ECF6\",\"width\":0.5},\"pattern\":{\"fillmode\":\"overlay\",\"size\":10,\"solidity\":0.2}},\"type\":\"barpolar\"}],\"pie\":[{\"automargin\":true,\"type\":\"pie\"}]},\"layout\":{\"autotypenumbers\":\"strict\",\"colorway\":[\"#636efa\",\"#EF553B\",\"#00cc96\",\"#ab63fa\",\"#FFA15A\",\"#19d3f3\",\"#FF6692\",\"#B6E880\",\"#FF97FF\",\"#FECB52\"],\"font\":{\"color\":\"#2a3f5f\"},\"hovermode\":\"closest\",\"hoverlabel\":{\"align\":\"left\"},\"paper_bgcolor\":\"white\",\"plot_bgcolor\":\"#E5ECF6\",\"polar\":{\"bgcolor\":\"#E5ECF6\",\"angularaxis\":{\"gridcolor\":\"white\",\"linecolor\":\"white\",\"ticks\":\"\"},\"radialaxis\":{\"gridcolor\":\"white\",\"linecolor\":\"white\",\"ticks\":\"\"}},\"ternary\":{\"bgcolor\":\"#E5ECF6\",\"aaxis\":{\"gridcolor\":\"white\",\"linecolor\":\"white\",\"ticks\":\"\"},\"baxis\":{\"gridcolor\":\"white\",\"linecolor\":\"white\",\"ticks\":\"\"},\"caxis\":{\"gridcolor\":\"white\",\"linecolor\":\"white\",\"ticks\":\"\"}},\"coloraxis\":{\"colorbar\":{\"outlinewidth\":0,\"ticks\":\"\"}},\"colorscale\":{\"sequential\":[[0.0,\"#0d0887\"],[0.1111111111111111,\"#46039f\"],[0.2222222222222222,\"#7201a8\"],[0.3333333333333333,\"#9c179e\"],[0.4444444444444444,\"#bd3786\"],[0.5555555555555556,\"#d8576b\"],[0.6666666666666666,\"#ed7953\"],[0.7777777777777778,\"#fb9f3a\"],[0.8888888888888888,\"#fdca26\"],[1.0,\"#f0f921\"]],\"sequentialminus\":[[0.0,\"#0d0887\"],[0.1111111111111111,\"#46039f\"],[0.2222222222222222,\"#7201a8\"],[0.3333333333333333,\"#9c179e\"],[0.4444444444444444,\"#bd3786\"],[0.5555555555555556,\"#d8576b\"],[0.6666666666666666,\"#ed7953\"],[0.7777777777777778,\"#fb9f3a\"],[0.8888888888888888,\"#fdca26\"],[1.0,\"#f0f921\"]],\"diverging\":[[0,\"#8e0152\"],[0.1,\"#c51b7d\"],[0.2,\"#de77ae\"],[0.3,\"#f1b6da\"],[0.4,\"#fde0ef\"],[0.5,\"#f7f7f7\"],[0.6,\"#e6f5d0\"],[0.7,\"#b8e186\"],[0.8,\"#7fbc41\"],[0.9,\"#4d9221\"],[1,\"#276419\"]]},\"xaxis\":{\"gridcolor\":\"white\",\"linecolor\":\"white\",\"ticks\":\"\",\"title\":{\"standoff\":15},\"zerolinecolor\":\"white\",\"automargin\":true,\"zerolinewidth\":2},\"yaxis\":{\"gridcolor\":\"white\",\"linecolor\":\"white\",\"ticks\":\"\",\"title\":{\"standoff\":15},\"zerolinecolor\":\"white\",\"automargin\":true,\"zerolinewidth\":2},\"scene\":{\"xaxis\":{\"backgroundcolor\":\"#E5ECF6\",\"gridcolor\":\"white\",\"linecolor\":\"white\",\"showbackground\":true,\"ticks\":\"\",\"zerolinecolor\":\"white\",\"gridwidth\":2},\"yaxis\":{\"backgroundcolor\":\"#E5ECF6\",\"gridcolor\":\"white\",\"linecolor\":\"white\",\"showbackground\":true,\"ticks\":\"\",\"zerolinecolor\":\"white\",\"gridwidth\":2},\"zaxis\":{\"backgroundcolor\":\"#E5ECF6\",\"gridcolor\":\"white\",\"linecolor\":\"white\",\"showbackground\":true,\"ticks\":\"\",\"zerolinecolor\":\"white\",\"gridwidth\":2}},\"shapedefaults\":{\"line\":{\"color\":\"#2a3f5f\"}},\"annotationdefaults\":{\"arrowcolor\":\"#2a3f5f\",\"arrowhead\":0,\"arrowwidth\":1},\"geo\":{\"bgcolor\":\"white\",\"landcolor\":\"#E5ECF6\",\"subunitcolor\":\"white\",\"showland\":true,\"showlakes\":true,\"lakecolor\":\"white\"},\"title\":{\"x\":0.05},\"mapbox\":{\"style\":\"light\"}}},\"width\":700,\"height\":500,\"title\":{\"text\":\"Potential profit at various cutoffs\"}},                        {\"responsive\": true}                    ).then(function(){\n",
       "                            \n",
       "var gd = document.getElementById('95eeba6e-f67e-4d10-b9e2-65a34635eabe');\n",
       "var x = new MutationObserver(function (mutations, observer) {{\n",
       "        var display = window.getComputedStyle(gd).display;\n",
       "        if (!display || display === 'none') {{\n",
       "            console.log([gd, 'removed!']);\n",
       "            Plotly.purge(gd);\n",
       "            observer.disconnect();\n",
       "        }}\n",
       "}});\n",
       "\n",
       "// Listen for the removal of the full notebook cells\n",
       "var notebookContainer = gd.closest('#notebook-container');\n",
       "if (notebookContainer) {{\n",
       "    x.observe(notebookContainer, {childList: true});\n",
       "}}\n",
       "\n",
       "// Listen for the clearing of the current output cell\n",
       "var outputEl = gd.closest('.output');\n",
       "if (outputEl) {{\n",
       "    x.observe(outputEl, {childList: true});\n",
       "}}\n",
       "\n",
       "                        })                };                });            </script>        </div>"
      ]
     },
     "metadata": {},
     "output_type": "display_data"
    }
   ],
   "source": [
    "fig = go.Figure()\n",
    "\n",
    "for model_key in models:\n",
    "\n",
    "    fig.add_trace(\n",
    "        go.Scatter(\n",
    "            x=dfprofit['threshold'], \n",
    "            y=dfprofit[model_key + '_profit'],\n",
    "            mode='lines',\n",
    "            name=model_key\n",
    "        )\n",
    "    )\n",
    "    \n",
    "fig.update_layout(\n",
    "    width=700, height=500,\n",
    "    title='Potential profit at various cutoffs'\n",
    ")\n",
    "    \n",
    "fig.show()"
   ]
  },
  {
   "cell_type": "markdown",
   "id": "b7663925-6791-4c27-b17e-dfba909ac899",
   "metadata": {},
   "source": [
    "##### Obtaining best of each model"
   ]
  },
  {
   "cell_type": "code",
   "execution_count": 52,
   "id": "9de21c88-e5e2-48e2-a500-bbacc8843cc7",
   "metadata": {
    "execution": {
     "iopub.execute_input": "2023-03-20T00:12:04.642920Z",
     "iopub.status.busy": "2023-03-20T00:12:04.642501Z",
     "iopub.status.idle": "2023-03-20T00:12:04.738580Z",
     "shell.execute_reply": "2023-03-20T00:12:04.737644Z",
     "shell.execute_reply.started": "2023-03-20T00:12:04.642886Z"
    },
    "jupyter": {
     "source_hidden": true
    },
    "scrolled": true,
    "tags": []
   },
   "outputs": [],
   "source": [
    "## Creating base dataframe (with benchmark) to store results\n",
    "dfprofit_max = pd.DataFrame(\n",
    "    columns=['thd', 'tn', 'fp', 'fn', 'tp', 'prc', 'rcl', 'profit'],\n",
    "    data=dfprofit.loc[\n",
    "        dfprofit['threshold'] == 0,\n",
    "        [\n",
    "            col \n",
    "            for col \n",
    "            in dfprofit.columns \n",
    "            if (\n",
    "                'm1' in col\n",
    "                or\n",
    "                'threshold' in col\n",
    "            )\n",
    "        ]\n",
    "    ].values,\n",
    "    index=['benchmark'],\n",
    ")\n",
    "\n",
    "\n",
    "## Adding worst possible model\n",
    "dfprofit_max.loc['m_worst', :] = [\n",
    "    np.nan, ## thd\n",
    "    0, ## tn\n",
    "    ((df['res1'] == 0)*1).sum(), ## fp\n",
    "    ((df['res1'] == 1)*1).sum(), ## fn\n",
    "    0, ## tp\n",
    "    0/(0 + ((df['res1'] == 0)*1).sum()), ## prc -> tp/(tp + fp)\n",
    "    0/(0 + ((df['res1'] == 1)*1).sum()), ## rcl -> tp/(tp + fn)\n",
    "    0*(60 - 1.41) - ((df['res1'] == 0)*1).sum()*(1.41), ## profit\n",
    "]\n",
    "\n",
    "## Adding best possible model\n",
    "dfprofit_max.loc['m_best', :] = [\n",
    "    np.nan, ## thd\n",
    "    ((df['res1'] == 0)*1).sum(), ## tn \n",
    "    0, ## fp\n",
    "    0, ## fn\n",
    "    ((df['res1'] == 1)*1).sum(), ## tp\n",
    "    ((df['res1'] == 1)*1).sum()/(((df['res1'] == 1)*1).sum() + 0), ## prc -> tp/(tp + fp)\n",
    "    ((df['res1'] == 1)*1).sum()/(((df['res1'] == 1)*1).sum() + 0), ## rcl -> tp/(tp + fn)\n",
    "    ((df['res1'] == 1)*1).sum()*(60 - 1.41) - 0*1.41, ## profit\n",
    "]\n",
    "\n",
    "\n",
    "## Finding best results for each model\n",
    "for model_key in models:\n",
    "    \n",
    "    mr = dfprofit[model_key + '_profit'] == dfprofit[model_key + '_profit'].max()\n",
    "    rc = [\n",
    "        col \n",
    "        for col \n",
    "        in dfprofit.columns \n",
    "        if \n",
    "            model_key in col\n",
    "            or\n",
    "            'threshold' in col\n",
    "    ]\n",
    "\n",
    "    dfprofit_max.loc[model_key, :] = dfprofit.loc[mr, rc].values"
   ]
  },
  {
   "cell_type": "code",
   "execution_count": null,
   "id": "415017e2-82e9-433d-a4c4-ba0f5165269d",
   "metadata": {
    "tags": []
   },
   "outputs": [],
   "source": [
    "dfprofit_max"
   ]
  },
  {
   "cell_type": "code",
   "execution_count": null,
   "id": "0ff832d5-966e-4b49-8f70-b68b4773576c",
   "metadata": {},
   "outputs": [],
   "source": []
  },
  {
   "cell_type": "markdown",
   "id": "ca6f63a1-4ec1-46ad-a506-4fd78adcffe3",
   "metadata": {},
   "source": [
    "###### "
   ]
  },
  {
   "cell_type": "markdown",
   "id": "1e4119f6-8c11-4b30-bf5c-3fd267856723",
   "metadata": {},
   "source": [
    "### Precision recall metrics"
   ]
  },
  {
   "cell_type": "code",
   "execution_count": 61,
   "id": "5b008fe2-444c-48ac-902b-8fda7fd3276f",
   "metadata": {
    "execution": {
     "iopub.execute_input": "2023-03-20T00:20:08.653582Z",
     "iopub.status.busy": "2023-03-20T00:20:08.653151Z",
     "iopub.status.idle": "2023-03-20T00:20:08.754206Z",
     "shell.execute_reply": "2023-03-20T00:20:08.753400Z",
     "shell.execute_reply.started": "2023-03-20T00:20:08.653547Z"
    },
    "jupyter": {
     "source_hidden": true
    },
    "tags": []
   },
   "outputs": [
    {
     "data": {
      "application/vnd.plotly.v1+json": {
       "config": {
        "plotlyServerURL": "https://plot.ly"
       },
       "data": [
        {
         "mode": "lines",
         "name": "m1",
         "type": "scatter",
         "x": [
          1,
          1,
          0.9854318418314256,
          0.9583766909469302,
          0.9157127991675338,
          0.8699271592091571,
          0.8085327783558793,
          0.7700312174817898,
          0.7263267429760666,
          0.6899063475546305,
          0.6420395421436004,
          0.6108220603537982,
          0.5827263267429761,
          0.5504682622268471,
          0.5234131113423517,
          0.4890738813735692,
          0.46514047866805414,
          0.43600416233090533,
          0.4099895941727367,
          0.39334027055150883,
          0.3808532778355879,
          0.36628511966701355,
          0.34963579604578565,
          0.3340270551508845,
          0.3184183142559833,
          0.3059313215400624,
          0.28720083246618106,
          0.26742976066597296,
          0.2570239334027055,
          0.2445369406867846,
          0.23204994797086367,
          0.21956295525494277,
          0.21436004162330904,
          0.20499479708636836,
          0.19771071800208118,
          0.19667013527575442,
          0.18730489073881373,
          0.1768990634755463,
          0.17273673257023933,
          0.16337148803329865,
          0.16024973985431842,
          0.15192507804370448,
          0.14151925078043703,
          0.13735691987513007,
          0.13423517169614985,
          0.13111342351716962,
          0.1279916753381894,
          0.12278876170655567,
          0.11966701352757544,
          0.11758584807492195,
          0.11342351716961499,
          0.11030176899063475,
          0.10718002081165452,
          0.10197710718002082,
          0.09885535900104059,
          0.0967741935483871,
          0.09365244536940687,
          0.08949011446409989,
          0.08636836628511967,
          0.08428720083246619,
          0.08116545265348596,
          0.07492195629552549,
          0.07180020811654526,
          0.07075962539021852,
          0.06971904266389178,
          0.06763787721123829,
          0.06347554630593132,
          0.061394380853277836,
          0.05827263267429761,
          0.054110301768990635,
          0.053069719042663895,
          0.04994797086368366,
          0.04890738813735692,
          0.047866805411030174,
          0.047866805411030174,
          0.046826222684703434,
          0.045785639958376693,
          0.044745057232049947,
          0.043704474505723206,
          0.04162330905306972,
          0.03954214360041623,
          0.036420395421436005,
          0.03537981269510926,
          0.03225806451612903,
          0.030176899063475548,
          0.029136316337148804,
          0.029136316337148804,
          0.029136316337148804,
          0.029136316337148804,
          0.029136316337148804,
          0.02497398543184183,
          0.02081165452653486,
          0.02081165452653486,
          0.019771071800208116,
          0.019771071800208116,
          0.019771071800208116,
          0.01768990634755463,
          0.01664932362122789,
          0.015608740894901144,
          0.014568158168574402,
          0.014568158168574402,
          0.014568158168574402,
          0.013527575442247659,
          0.013527575442247659,
          0.012486992715920915,
          0.011446409989594173,
          0.01040582726326743,
          0.01040582726326743,
          0.01040582726326743,
          0.01040582726326743,
          0.01040582726326743,
          0.009365244536940686,
          0.009365244536940686,
          0.009365244536940686,
          0.009365244536940686,
          0.008324661810613945,
          0.008324661810613945,
          0.007284079084287201,
          0.006243496357960458,
          0.005202913631633715,
          0.003121748178980229,
          0.003121748178980229,
          0.003121748178980229,
          0.002081165452653486,
          0.001040582726326743,
          0.001040582726326743,
          0.001040582726326743,
          0,
          0,
          0,
          0,
          0,
          0,
          0,
          0,
          0,
          0,
          0,
          0,
          0,
          0,
          0,
          0,
          0,
          0,
          0,
          0,
          0,
          0,
          0,
          0,
          0,
          0,
          0,
          0,
          0,
          0,
          0,
          0,
          0,
          0,
          0,
          0,
          0,
          0,
          0,
          0,
          0,
          0,
          0,
          0,
          0,
          0,
          0,
          0,
          0,
          0,
          0,
          0,
          0,
          0,
          0,
          0,
          0,
          0,
          0,
          0,
          0,
          0,
          0,
          0,
          0,
          0,
          0,
          0,
          0,
          0,
          0,
          0,
          0
         ],
         "y": [
          0.04805,
          0.04825508410745669,
          0.051369677244372115,
          0.05665948938788065,
          0.06289757701379459,
          0.06977714714965362,
          0.07606461086637298,
          0.08467788076438952,
          0.09215738051227886,
          0.10092860404932258,
          0.10784827827302919,
          0.11644514977187066,
          0.1256168685509197,
          0.1334510595358224,
          0.14289772727272726,
          0.15059275873117592,
          0.1598140865212728,
          0.168543845534996,
          0.17480035492457852,
          0.18199325950890707,
          0.19395866454689983,
          0.205607476635514,
          0.2146964856230032,
          0.22291666666666668,
          0.2314674735249622,
          0.23941368078175895,
          0.24446412754650132,
          0.2445290199809705,
          0.25050709939148075,
          0.25323275862068967,
          0.25573394495412843,
          0.25606796116504854,
          0.2627551020408163,
          0.26336898395721925,
          0.26912181303116145,
          0.27876106194690264,
          0.2803738317757009,
          0.28192371475953565,
          0.2847341337907376,
          0.28442028985507245,
          0.2916666666666667,
          0.2879684418145957,
          0.2851153039832285,
          0.2920353982300885,
          0.29723502304147464,
          0.30288461538461536,
          0.31297709923664124,
          0.3089005235602094,
          0.30913978494623656,
          0.31564245810055863,
          0.3159420289855073,
          0.3202416918429003,
          0.32087227414330216,
          0.3181818181818182,
          0.3231292517006803,
          0.32517482517482516,
          0.3284671532846715,
          0.32950191570881227,
          0.332,
          0.3347107438016529,
          0.33620689655172414,
          0.32432432432432434,
          0.32547169811320753,
          0.3269230769230769,
          0.3333333333333333,
          0.33163265306122447,
          0.32972972972972975,
          0.3333333333333333,
          0.33532934131736525,
          0.325,
          0.3227848101265823,
          0.3333333333333333,
          0.34057971014492755,
          0.3484848484848485,
          0.35384615384615387,
          0.3543307086614173,
          0.3728813559322034,
          0.39090909090909093,
          0.3925233644859813,
          0.39215686274509803,
          0.40425531914893614,
          0.4117647058823529,
          0.41975308641975306,
          0.4025974025974026,
          0.3972602739726027,
          0.417910447761194,
          0.4375,
          0.4666666666666667,
          0.49122807017543857,
          0.509090909090909,
          0.47058823529411764,
          0.43478260869565216,
          0.45454545454545453,
          0.4523809523809524,
          0.4634146341463415,
          0.5135135135135135,
          0.53125,
          0.5517241379310345,
          0.5555555555555556,
          0.5384615384615384,
          0.5384615384615384,
          0.5384615384615384,
          0.5652173913043478,
          0.6190476190476191,
          0.6,
          0.5789473684210527,
          0.5555555555555556,
          0.5882352941176471,
          0.5882352941176471,
          0.625,
          0.6666666666666666,
          0.6428571428571429,
          0.6428571428571429,
          0.6428571428571429,
          0.6428571428571429,
          0.6153846153846154,
          0.6153846153846154,
          0.6363636363636364,
          0.6,
          0.5555555555555556,
          0.5,
          0.5,
          0.5,
          0.4,
          0.25,
          0.25,
          0.25,
          0,
          0,
          0,
          0,
          0,
          0,
          0,
          0,
          0,
          0,
          null,
          null,
          null,
          null,
          null,
          null,
          null,
          null,
          null,
          null,
          null,
          null,
          null,
          null,
          null,
          null,
          null,
          null,
          null,
          null,
          null,
          null,
          null,
          null,
          null,
          null,
          null,
          null,
          null,
          null,
          null,
          null,
          null,
          null,
          null,
          null,
          null,
          null,
          null,
          null,
          null,
          null,
          null,
          null,
          null,
          null,
          null,
          null,
          null,
          null,
          null,
          null,
          null,
          null,
          null,
          null,
          null,
          null,
          null,
          null,
          null,
          null,
          null
         ]
        },
        {
         "mode": "lines",
         "name": "m2",
         "type": "scatter",
         "x": [
          1,
          0.9968782518210197,
          0.9781477627471384,
          0.9521331945889698,
          0.9042663891779397,
          0.8605619146722164,
          0.8085327783558793,
          0.7679500520291364,
          0.72840790842872,
          0.696149843912591,
          0.6607700312174818,
          0.6368366285119667,
          0.6139438085327783,
          0.5889698231009365,
          0.5681581685744017,
          0.5411030176899063,
          0.5244536940686785,
          0.5067637877211238,
          0.48283038501560877,
          0.4672216441207076,
          0.449531737773153,
          0.43184183142559834,
          0.41935483870967744,
          0.4068678459937565,
          0.39125910509885536,
          0.3808532778355879,
          0.37460978147762747,
          0.3610822060353798,
          0.3517169614984391,
          0.3340270551508845,
          0.32882414151925077,
          0.31633714880332986,
          0.31217481789802287,
          0.30801248699271594,
          0.29968782518210196,
          0.2892819979188345,
          0.2861602497398543,
          0.2778355879292404,
          0.2715920915712799,
          0.25806451612903225,
          0.25390218522372526,
          0.2445369406867846,
          0.23309053069719043,
          0.222684703433923,
          0.2133194588969823,
          0.2060353798126951,
          0.19979188345473464,
          0.19771071800208118,
          0.18834547346514047,
          0.186264308012487,
          0.18002081165452655,
          0.1716961498439126,
          0.1675338189386056,
          0.1571279916753382,
          0.15400624349635797,
          0.14672216441207075,
          0.14151925078043703,
          0.13735691987513007,
          0.1331945889698231,
          0.12695109261186263,
          0.12070759625390219,
          0.11758584807492195,
          0.11342351716961499,
          0.10613943808532779,
          0.10509885535900104,
          0.10197710718002082,
          0.0967741935483871,
          0.09053069719042664,
          0.08532778355879292,
          0.08116545265348596,
          0.07804370447450572,
          0.07700312174817898,
          0.07284079084287201,
          0.07075962539021852,
          0.06867845993756504,
          0.06555671175858481,
          0.06555671175858481,
          0.060353798126951096,
          0.05723204994797086,
          0.05619146722164412,
          0.055150884495317375,
          0.05202913631633715,
          0.05098855359001041,
          0.046826222684703434,
          0.044745057232049947,
          0.04266389177939646,
          0.04266389177939646,
          0.03954214360041623,
          0.03433922996878252,
          0.03329864724245578,
          0.031217481789802288,
          0.02809573361082206,
          0.027055150884495317,
          0.027055150884495317,
          0.026014568158168574,
          0.026014568158168574,
          0.02497398543184183,
          0.02497398543184183,
          0.02497398543184183,
          0.02081165452653486,
          0.019771071800208116,
          0.019771071800208116,
          0.01768990634755463,
          0.015608740894901144,
          0.015608740894901144,
          0.015608740894901144,
          0.015608740894901144,
          0.015608740894901144,
          0.015608740894901144,
          0.015608740894901144,
          0.015608740894901144,
          0.014568158168574402,
          0.013527575442247659,
          0.011446409989594173,
          0.01040582726326743,
          0.009365244536940686,
          0.009365244536940686,
          0.009365244536940686,
          0.009365244536940686,
          0.009365244536940686,
          0.007284079084287201,
          0.006243496357960458,
          0.006243496357960458,
          0.005202913631633715,
          0.004162330905306972,
          0.004162330905306972,
          0.004162330905306972,
          0.004162330905306972,
          0.004162330905306972,
          0.004162330905306972,
          0.004162330905306972,
          0.004162330905306972,
          0.002081165452653486,
          0.002081165452653486,
          0.002081165452653486,
          0.002081165452653486,
          0.002081165452653486,
          0.002081165452653486,
          0.002081165452653486,
          0,
          0,
          0,
          0,
          0,
          0,
          0,
          0,
          0,
          0,
          0,
          0,
          0,
          0,
          0,
          0,
          0,
          0,
          0,
          0,
          0,
          0,
          0,
          0,
          0,
          0,
          0,
          0,
          0,
          0,
          0,
          0,
          0,
          0,
          0,
          0,
          0,
          0,
          0,
          0,
          0,
          0,
          0,
          0,
          0,
          0,
          0,
          0,
          0,
          0,
          0,
          0,
          0,
          0,
          0,
          0,
          0,
          0,
          0,
          0,
          0
         ],
         "y": [
          0.04805,
          0.05093035619351409,
          0.0560558172818892,
          0.06227031441404655,
          0.06912185809735921,
          0.07742720719033798,
          0.08566703417861081,
          0.09501738122827347,
          0.10416666666666667,
          0.11377551020408164,
          0.12227999229732332,
          0.13158460546119113,
          0.14040932889100427,
          0.1489865754145828,
          0.15721278433630867,
          0.163727959697733,
          0.17119565217391305,
          0.17767238234221086,
          0.18325434439178515,
          0.1916346564233888,
          0.19753086419753085,
          0.2038310412573674,
          0.21000521104742054,
          0.21758486366165833,
          0.22209096278795037,
          0.22961104140526975,
          0.23637557452396585,
          0.24181184668989547,
          0.24599708879184862,
          0.2469230769230769,
          0.2560777957860616,
          0.2602739726027397,
          0.26929982046678635,
          0.27977315689981097,
          0.28599801390268126,
          0.2883817427385892,
          0.296655879180151,
          0.3013544018058691,
          0.3088757396449704,
          0.3073110285006196,
          0.31362467866323906,
          0.31459170013386883,
          0.31683168316831684,
          0.31750741839762614,
          0.31931464174454827,
          0.32405891980360063,
          0.3287671232876712,
          0.3392857142857143,
          0.34215500945179583,
          0.3516699410609037,
          0.3516260162601626,
          0.35560344827586204,
          0.36261261261261263,
          0.363855421686747,
          0.3756345177664975,
          0.3770053475935829,
          0.37988826815642457,
          0.38823529411764707,
          0.4,
          0.4066666666666667,
          0.4084507042253521,
          0.41544117647058826,
          0.41762452107279696,
          0.4180327868852459,
          0.4353448275862069,
          0.44545454545454544,
          0.45145631067961167,
          0.453125,
          0.4632768361581921,
          0.4642857142857143,
          0.46296296296296297,
          0.47435897435897434,
          0.4666666666666667,
          0.4689655172413793,
          0.4782608695652174,
          0.4846153846153846,
          0.49606299212598426,
          0.48739495798319327,
          0.49107142857142855,
          0.5,
          0.5047619047619047,
          0.49504950495049505,
          0.5,
          0.5,
          0.5058823529411764,
          0.5189873417721519,
          0.5324675324675324,
          0.5277777777777778,
          0.515625,
          0.5517241379310345,
          0.5660377358490566,
          0.574468085106383,
          0.5652173913043478,
          0.5909090909090909,
          0.5813953488372093,
          0.5952380952380952,
          0.6,
          0.6,
          0.6,
          0.5714285714285714,
          0.5588235294117647,
          0.5588235294117647,
          0.5483870967741935,
          0.5555555555555556,
          0.5769230769230769,
          0.625,
          0.625,
          0.625,
          0.625,
          0.625,
          0.6818181818181818,
          0.6666666666666666,
          0.6842105263157895,
          0.6875,
          0.6666666666666666,
          0.75,
          0.8181818181818182,
          0.8181818181818182,
          0.8181818181818182,
          0.8181818181818182,
          0.7777777777777778,
          0.75,
          0.75,
          0.8333333333333334,
          0.8,
          0.8,
          0.8,
          0.8,
          0.8,
          0.8,
          1,
          1,
          1,
          1,
          1,
          1,
          1,
          1,
          1,
          null,
          null,
          null,
          null,
          null,
          null,
          null,
          null,
          null,
          null,
          null,
          null,
          null,
          null,
          null,
          null,
          null,
          null,
          null,
          null,
          null,
          null,
          null,
          null,
          null,
          null,
          null,
          null,
          null,
          null,
          null,
          null,
          null,
          null,
          null,
          null,
          null,
          null,
          null,
          null,
          null,
          null,
          null,
          null,
          null,
          null,
          null,
          null,
          null,
          null,
          null,
          null,
          null,
          null,
          null,
          null,
          null,
          null,
          null,
          null,
          null
         ]
        },
        {
         "mode": "lines",
         "name": "m3",
         "type": "scatter",
         "x": [
          1,
          1,
          0.9906347554630593,
          0.9739854318418314,
          0.9365244536940687,
          0.8980228928199792,
          0.8459937565036421,
          0.7887617065556711,
          0.7523413111342352,
          0.7117585848074922,
          0.668054110301769,
          0.6285119667013528,
          0.5972944849115505,
          0.5650364203954215,
          0.5348595213319459,
          0.5046826222684704,
          0.4724245577523413,
          0.44432882414151925,
          0.40582726326742974,
          0.3808532778355879,
          0.3631633714880333,
          0.34755463059313213,
          0.32778355879292403,
          0.3100936524453694,
          0.29968782518210196,
          0.28303850156087407,
          0.27471383975026015,
          0.24869927159209157,
          0.23204994797086367,
          0.2206035379812695,
          0.2060353798126951,
          0.1914672216441207,
          0.18106139438085328,
          0.16857440166493237,
          0.16337148803329865,
          0.1571279916753382,
          0.14880332986472425,
          0.1425598335067638,
          0.13527575442247658,
          0.12382934443288242,
          0.11966701352757544,
          0.11550468262226847,
          0.10613943808532779,
          0.09885535900104059,
          0.09053069719042664,
          0.08532778355879292,
          0.08324661810613944,
          0.07596253902185224,
          0.07180020811654526,
          0.06971904266389178,
          0.06555671175858481,
          0.061394380853277836,
          0.05827263267429761,
          0.054110301768990635,
          0.05202913631633715,
          0.04994797086368366,
          0.04890738813735692,
          0.04890738813735692,
          0.045785639958376693,
          0.045785639958376693,
          0.043704474505723206,
          0.04162330905306972,
          0.03850156087408949,
          0.03433922996878252,
          0.03225806451612903,
          0.030176899063475548,
          0.030176899063475548,
          0.029136316337148804,
          0.02809573361082206,
          0.027055150884495317,
          0.023933402705515087,
          0.022892819979188347,
          0.02081165452653486,
          0.019771071800208116,
          0.019771071800208116,
          0.01664932362122789,
          0.01664932362122789,
          0.015608740894901144,
          0.013527575442247659,
          0.013527575442247659,
          0.013527575442247659,
          0.012486992715920915,
          0.012486992715920915,
          0.01040582726326743,
          0.01040582726326743,
          0.01040582726326743,
          0.01040582726326743,
          0.01040582726326743,
          0.01040582726326743,
          0.01040582726326743,
          0.009365244536940686,
          0.009365244536940686,
          0.009365244536940686,
          0.008324661810613945,
          0.007284079084287201,
          0.007284079084287201,
          0.006243496357960458,
          0.005202913631633715,
          0.003121748178980229,
          0.003121748178980229,
          0.003121748178980229,
          0.003121748178980229,
          0.002081165452653486,
          0.001040582726326743,
          0.001040582726326743,
          0,
          0,
          0,
          0,
          0,
          0,
          0,
          0,
          0,
          0,
          0,
          0,
          0,
          0,
          0,
          0,
          0,
          0,
          0,
          0,
          0,
          0,
          0,
          0,
          0,
          0,
          0,
          0,
          0,
          0,
          0,
          0,
          0,
          0,
          0,
          0,
          0,
          0,
          0,
          0,
          0,
          0,
          0,
          0,
          0,
          0,
          0,
          0,
          0,
          0,
          0,
          0,
          0,
          0,
          0,
          0,
          0,
          0,
          0,
          0,
          0,
          0,
          0,
          0,
          0,
          0,
          0,
          0,
          0,
          0,
          0,
          0,
          0,
          0,
          0,
          0,
          0,
          0,
          0,
          0,
          0,
          0,
          0,
          0,
          0,
          0,
          0,
          0,
          0,
          0,
          0,
          0,
          0,
          0,
          0
         ],
         "y": [
          0.04805,
          0.04811013767209011,
          0.05009998947479213,
          0.05473364130752587,
          0.059880239520958084,
          0.06642038020472563,
          0.0724147145274784,
          0.07864702220377671,
          0.0869094843130184,
          0.09464508094645081,
          0.10195331110052405,
          0.10953935437069279,
          0.11830173124484748,
          0.12657342657342657,
          0.1350499211770888,
          0.14434523809523808,
          0.15384615384615385,
          0.16341370072713357,
          0.1694915254237288,
          0.1771539206195547,
          0.18673087212413056,
          0.19892793329362715,
          0.20944148936170212,
          0.21911764705882353,
          0.23076923076923078,
          0.2381786339754816,
          0.25680933852140075,
          0.2580993520518359,
          0.26143024618991795,
          0.2659974905897114,
          0.2682926829268293,
          0.27340267459138184,
          0.2838499184339315,
          0.28371278458844135,
          0.2951127819548872,
          0.3026052104208417,
          0.3115468409586057,
          0.31934731934731936,
          0.31862745098039214,
          0.3131578947368421,
          0.32857142857142857,
          0.33433734939759036,
          0.3279742765273312,
          0.3298611111111111,
          0.3246268656716418,
          0.328,
          0.33472803347280333,
          0.3230088495575221,
          0.32242990654205606,
          0.32682926829268294,
          0.328125,
          0.33146067415730335,
          0.33136094674556216,
          0.3270440251572327,
          0.33112582781456956,
          0.34532374100719426,
          0.35074626865671643,
          0.3700787401574803,
          0.36363636363636365,
          0.3826086956521739,
          0.40384615384615385,
          0.4166666666666667,
          0.42045454545454547,
          0.4024390243902439,
          0.4025974025974026,
          0.42028985507246375,
          0.43283582089552236,
          0.4444444444444444,
          0.46551724137931033,
          0.4727272727272727,
          0.46938775510204084,
          0.46808510638297873,
          0.45454545454545453,
          0.475,
          0.5,
          0.48484848484848486,
          0.5161290322580645,
          0.5357142857142857,
          0.52,
          0.52,
          0.5416666666666666,
          0.5454545454545454,
          0.5454545454545454,
          0.5555555555555556,
          0.5555555555555556,
          0.5555555555555556,
          0.5555555555555556,
          0.5882352941176471,
          0.6666666666666666,
          0.6666666666666666,
          0.6428571428571429,
          0.6428571428571429,
          0.6428571428571429,
          0.6153846153846154,
          0.5833333333333334,
          0.5833333333333334,
          0.6,
          0.5555555555555556,
          0.42857142857142855,
          0.5,
          0.5,
          0.5,
          0.4,
          0.25,
          0.25,
          0,
          0,
          0,
          0,
          0,
          0,
          0,
          0,
          0,
          0,
          0,
          null,
          null,
          null,
          null,
          null,
          null,
          null,
          null,
          null,
          null,
          null,
          null,
          null,
          null,
          null,
          null,
          null,
          null,
          null,
          null,
          null,
          null,
          null,
          null,
          null,
          null,
          null,
          null,
          null,
          null,
          null,
          null,
          null,
          null,
          null,
          null,
          null,
          null,
          null,
          null,
          null,
          null,
          null,
          null,
          null,
          null,
          null,
          null,
          null,
          null,
          null,
          null,
          null,
          null,
          null,
          null,
          null,
          null,
          null,
          null,
          null,
          null,
          null,
          null,
          null,
          null,
          null,
          null,
          null,
          null,
          null,
          null,
          null,
          null,
          null,
          null,
          null,
          null,
          null,
          null,
          null,
          null,
          null,
          null
         ]
        },
        {
         "mode": "lines",
         "name": "m4",
         "type": "scatter",
         "x": [
          1,
          1,
          1,
          1,
          1,
          1,
          0.9937565036420395,
          0.9011446409989594,
          0.8272632674297606,
          0.7211238293444329,
          0.5837669094693028,
          0.5286160249739854,
          0.4713839750260146,
          0.41519250780437045,
          0.3704474505723205,
          0.32049947970863685,
          0.27055150884495316,
          0.24349635796045785,
          0.2060353798126951,
          0.1696149843912591,
          0.14984391259105098,
          0.14151925078043703,
          0.1279916753381894,
          0.11550468262226847,
          0.11030176899063475,
          0.10718002081165452,
          0.10093652445369407,
          0.09573361082206035,
          0.09157127991675339,
          0.08636836628511967,
          0.08324661810613944,
          0.07804370447450572,
          0.07388137356919876,
          0.07180020811654526,
          0.06867845993756504,
          0.061394380853277836,
          0.05619146722164412,
          0.04890738813735692,
          0.044745057232049947,
          0.04058272632674298,
          0.036420395421436005,
          0.03225806451612903,
          0.02809573361082206,
          0.019771071800208116,
          0.015608740894901144,
          0.012486992715920915,
          0.007284079084287201,
          0.005202913631633715,
          0.005202913631633715,
          0.004162330905306972,
          0.002081165452653486,
          0.001040582726326743,
          0.001040582726326743,
          0.001040582726326743,
          0.001040582726326743,
          0.001040582726326743,
          0.001040582726326743,
          0.001040582726326743,
          0.001040582726326743,
          0,
          0,
          0,
          0,
          0,
          0,
          0,
          0,
          0,
          0,
          0,
          0,
          0,
          0,
          0,
          0,
          0,
          0,
          0,
          0,
          0,
          0,
          0,
          0,
          0,
          0,
          0,
          0,
          0,
          0,
          0,
          0,
          0,
          0,
          0,
          0,
          0,
          0,
          0,
          0,
          0,
          0,
          0,
          0,
          0,
          0,
          0,
          0,
          0,
          0,
          0,
          0,
          0,
          0,
          0,
          0,
          0,
          0,
          0,
          0,
          0,
          0,
          0,
          0,
          0,
          0,
          0,
          0,
          0,
          0,
          0,
          0,
          0,
          0,
          0,
          0,
          0,
          0,
          0,
          0,
          0,
          0,
          0,
          0,
          0,
          0,
          0,
          0,
          0,
          0,
          0,
          0,
          0,
          0,
          0,
          0,
          0,
          0,
          0,
          0,
          0,
          0,
          0,
          0,
          0,
          0,
          0,
          0,
          0,
          0,
          0,
          0,
          0,
          0,
          0,
          0,
          0,
          0,
          0,
          0,
          0,
          0,
          0,
          0,
          0,
          0,
          0,
          0,
          0,
          0,
          0,
          0,
          0,
          0,
          0,
          0,
          0,
          0,
          0,
          0,
          0
         ],
         "y": [
          0.04805,
          0.04805,
          0.04805,
          0.04805,
          0.04805,
          0.04805,
          0.04897687060874917,
          0.05855703563459328,
          0.06863506863506863,
          0.08087291399229782,
          0.10017857142857142,
          0.11283873833851621,
          0.12721145745577084,
          0.1446700507614213,
          0.17090734517522804,
          0.2006514657980456,
          0.22589052997393572,
          0.2620380739081747,
          0.2804532577903683,
          0.29159212880143115,
          0.3076923076923077,
          0.35978835978835977,
          0.3867924528301887,
          0.4036363636363636,
          0.43621399176954734,
          0.4681818181818182,
          0.46411483253588515,
          0.48936170212765956,
          0.4971751412429379,
          0.49700598802395207,
          0.5128205128205128,
          0.5136986301369864,
          0.5378787878787878,
          0.5655737704918032,
          0.6,
          0.6344086021505376,
          0.6666666666666666,
          0.6714285714285714,
          0.7288135593220338,
          0.7647058823529411,
          0.7777777777777778,
          0.8157894736842105,
          0.9310344827586207,
          0.9047619047619048,
          0.9375,
          0.9230769230769231,
          1,
          1,
          1,
          1,
          1,
          1,
          1,
          1,
          1,
          1,
          1,
          1,
          1,
          null,
          null,
          null,
          null,
          null,
          null,
          null,
          null,
          null,
          null,
          null,
          null,
          null,
          null,
          null,
          null,
          null,
          null,
          null,
          null,
          null,
          null,
          null,
          null,
          null,
          null,
          null,
          null,
          null,
          null,
          null,
          null,
          null,
          null,
          null,
          null,
          null,
          null,
          null,
          null,
          null,
          null,
          null,
          null,
          null,
          null,
          null,
          null,
          null,
          null,
          null,
          null,
          null,
          null,
          null,
          null,
          null,
          null,
          null,
          null,
          null,
          null,
          null,
          null,
          null,
          null,
          null,
          null,
          null,
          null,
          null,
          null,
          null,
          null,
          null,
          null,
          null,
          null,
          null,
          null,
          null,
          null,
          null,
          null,
          null,
          null,
          null,
          null,
          null,
          null,
          null,
          null,
          null,
          null,
          null,
          null,
          null,
          null,
          null,
          null,
          null,
          null,
          null,
          null,
          null,
          null,
          null,
          null,
          null,
          null,
          null,
          null,
          null,
          null,
          null,
          null,
          null,
          null,
          null,
          null,
          null,
          null,
          null,
          null,
          null,
          null,
          null,
          null,
          null,
          null,
          null,
          null,
          null,
          null,
          null,
          null,
          null,
          null,
          null,
          null,
          null
         ]
        }
       ],
       "layout": {
        "height": 500,
        "shapes": [
         {
          "line": {
           "dash": "dash"
          },
          "type": "line",
          "x0": 0,
          "x1": 1,
          "y0": 1,
          "y1": 0
         }
        ],
        "template": {
         "data": {
          "bar": [
           {
            "error_x": {
             "color": "#2a3f5f"
            },
            "error_y": {
             "color": "#2a3f5f"
            },
            "marker": {
             "line": {
              "color": "#E5ECF6",
              "width": 0.5
             },
             "pattern": {
              "fillmode": "overlay",
              "size": 10,
              "solidity": 0.2
             }
            },
            "type": "bar"
           }
          ],
          "barpolar": [
           {
            "marker": {
             "line": {
              "color": "#E5ECF6",
              "width": 0.5
             },
             "pattern": {
              "fillmode": "overlay",
              "size": 10,
              "solidity": 0.2
             }
            },
            "type": "barpolar"
           }
          ],
          "carpet": [
           {
            "aaxis": {
             "endlinecolor": "#2a3f5f",
             "gridcolor": "white",
             "linecolor": "white",
             "minorgridcolor": "white",
             "startlinecolor": "#2a3f5f"
            },
            "baxis": {
             "endlinecolor": "#2a3f5f",
             "gridcolor": "white",
             "linecolor": "white",
             "minorgridcolor": "white",
             "startlinecolor": "#2a3f5f"
            },
            "type": "carpet"
           }
          ],
          "choropleth": [
           {
            "colorbar": {
             "outlinewidth": 0,
             "ticks": ""
            },
            "type": "choropleth"
           }
          ],
          "contour": [
           {
            "colorbar": {
             "outlinewidth": 0,
             "ticks": ""
            },
            "colorscale": [
             [
              0,
              "#0d0887"
             ],
             [
              0.1111111111111111,
              "#46039f"
             ],
             [
              0.2222222222222222,
              "#7201a8"
             ],
             [
              0.3333333333333333,
              "#9c179e"
             ],
             [
              0.4444444444444444,
              "#bd3786"
             ],
             [
              0.5555555555555556,
              "#d8576b"
             ],
             [
              0.6666666666666666,
              "#ed7953"
             ],
             [
              0.7777777777777778,
              "#fb9f3a"
             ],
             [
              0.8888888888888888,
              "#fdca26"
             ],
             [
              1,
              "#f0f921"
             ]
            ],
            "type": "contour"
           }
          ],
          "contourcarpet": [
           {
            "colorbar": {
             "outlinewidth": 0,
             "ticks": ""
            },
            "type": "contourcarpet"
           }
          ],
          "heatmap": [
           {
            "colorbar": {
             "outlinewidth": 0,
             "ticks": ""
            },
            "colorscale": [
             [
              0,
              "#0d0887"
             ],
             [
              0.1111111111111111,
              "#46039f"
             ],
             [
              0.2222222222222222,
              "#7201a8"
             ],
             [
              0.3333333333333333,
              "#9c179e"
             ],
             [
              0.4444444444444444,
              "#bd3786"
             ],
             [
              0.5555555555555556,
              "#d8576b"
             ],
             [
              0.6666666666666666,
              "#ed7953"
             ],
             [
              0.7777777777777778,
              "#fb9f3a"
             ],
             [
              0.8888888888888888,
              "#fdca26"
             ],
             [
              1,
              "#f0f921"
             ]
            ],
            "type": "heatmap"
           }
          ],
          "heatmapgl": [
           {
            "colorbar": {
             "outlinewidth": 0,
             "ticks": ""
            },
            "colorscale": [
             [
              0,
              "#0d0887"
             ],
             [
              0.1111111111111111,
              "#46039f"
             ],
             [
              0.2222222222222222,
              "#7201a8"
             ],
             [
              0.3333333333333333,
              "#9c179e"
             ],
             [
              0.4444444444444444,
              "#bd3786"
             ],
             [
              0.5555555555555556,
              "#d8576b"
             ],
             [
              0.6666666666666666,
              "#ed7953"
             ],
             [
              0.7777777777777778,
              "#fb9f3a"
             ],
             [
              0.8888888888888888,
              "#fdca26"
             ],
             [
              1,
              "#f0f921"
             ]
            ],
            "type": "heatmapgl"
           }
          ],
          "histogram": [
           {
            "marker": {
             "pattern": {
              "fillmode": "overlay",
              "size": 10,
              "solidity": 0.2
             }
            },
            "type": "histogram"
           }
          ],
          "histogram2d": [
           {
            "colorbar": {
             "outlinewidth": 0,
             "ticks": ""
            },
            "colorscale": [
             [
              0,
              "#0d0887"
             ],
             [
              0.1111111111111111,
              "#46039f"
             ],
             [
              0.2222222222222222,
              "#7201a8"
             ],
             [
              0.3333333333333333,
              "#9c179e"
             ],
             [
              0.4444444444444444,
              "#bd3786"
             ],
             [
              0.5555555555555556,
              "#d8576b"
             ],
             [
              0.6666666666666666,
              "#ed7953"
             ],
             [
              0.7777777777777778,
              "#fb9f3a"
             ],
             [
              0.8888888888888888,
              "#fdca26"
             ],
             [
              1,
              "#f0f921"
             ]
            ],
            "type": "histogram2d"
           }
          ],
          "histogram2dcontour": [
           {
            "colorbar": {
             "outlinewidth": 0,
             "ticks": ""
            },
            "colorscale": [
             [
              0,
              "#0d0887"
             ],
             [
              0.1111111111111111,
              "#46039f"
             ],
             [
              0.2222222222222222,
              "#7201a8"
             ],
             [
              0.3333333333333333,
              "#9c179e"
             ],
             [
              0.4444444444444444,
              "#bd3786"
             ],
             [
              0.5555555555555556,
              "#d8576b"
             ],
             [
              0.6666666666666666,
              "#ed7953"
             ],
             [
              0.7777777777777778,
              "#fb9f3a"
             ],
             [
              0.8888888888888888,
              "#fdca26"
             ],
             [
              1,
              "#f0f921"
             ]
            ],
            "type": "histogram2dcontour"
           }
          ],
          "mesh3d": [
           {
            "colorbar": {
             "outlinewidth": 0,
             "ticks": ""
            },
            "type": "mesh3d"
           }
          ],
          "parcoords": [
           {
            "line": {
             "colorbar": {
              "outlinewidth": 0,
              "ticks": ""
             }
            },
            "type": "parcoords"
           }
          ],
          "pie": [
           {
            "automargin": true,
            "type": "pie"
           }
          ],
          "scatter": [
           {
            "fillpattern": {
             "fillmode": "overlay",
             "size": 10,
             "solidity": 0.2
            },
            "type": "scatter"
           }
          ],
          "scatter3d": [
           {
            "line": {
             "colorbar": {
              "outlinewidth": 0,
              "ticks": ""
             }
            },
            "marker": {
             "colorbar": {
              "outlinewidth": 0,
              "ticks": ""
             }
            },
            "type": "scatter3d"
           }
          ],
          "scattercarpet": [
           {
            "marker": {
             "colorbar": {
              "outlinewidth": 0,
              "ticks": ""
             }
            },
            "type": "scattercarpet"
           }
          ],
          "scattergeo": [
           {
            "marker": {
             "colorbar": {
              "outlinewidth": 0,
              "ticks": ""
             }
            },
            "type": "scattergeo"
           }
          ],
          "scattergl": [
           {
            "marker": {
             "colorbar": {
              "outlinewidth": 0,
              "ticks": ""
             }
            },
            "type": "scattergl"
           }
          ],
          "scattermapbox": [
           {
            "marker": {
             "colorbar": {
              "outlinewidth": 0,
              "ticks": ""
             }
            },
            "type": "scattermapbox"
           }
          ],
          "scatterpolar": [
           {
            "marker": {
             "colorbar": {
              "outlinewidth": 0,
              "ticks": ""
             }
            },
            "type": "scatterpolar"
           }
          ],
          "scatterpolargl": [
           {
            "marker": {
             "colorbar": {
              "outlinewidth": 0,
              "ticks": ""
             }
            },
            "type": "scatterpolargl"
           }
          ],
          "scatterternary": [
           {
            "marker": {
             "colorbar": {
              "outlinewidth": 0,
              "ticks": ""
             }
            },
            "type": "scatterternary"
           }
          ],
          "surface": [
           {
            "colorbar": {
             "outlinewidth": 0,
             "ticks": ""
            },
            "colorscale": [
             [
              0,
              "#0d0887"
             ],
             [
              0.1111111111111111,
              "#46039f"
             ],
             [
              0.2222222222222222,
              "#7201a8"
             ],
             [
              0.3333333333333333,
              "#9c179e"
             ],
             [
              0.4444444444444444,
              "#bd3786"
             ],
             [
              0.5555555555555556,
              "#d8576b"
             ],
             [
              0.6666666666666666,
              "#ed7953"
             ],
             [
              0.7777777777777778,
              "#fb9f3a"
             ],
             [
              0.8888888888888888,
              "#fdca26"
             ],
             [
              1,
              "#f0f921"
             ]
            ],
            "type": "surface"
           }
          ],
          "table": [
           {
            "cells": {
             "fill": {
              "color": "#EBF0F8"
             },
             "line": {
              "color": "white"
             }
            },
            "header": {
             "fill": {
              "color": "#C8D4E3"
             },
             "line": {
              "color": "white"
             }
            },
            "type": "table"
           }
          ]
         },
         "layout": {
          "annotationdefaults": {
           "arrowcolor": "#2a3f5f",
           "arrowhead": 0,
           "arrowwidth": 1
          },
          "autotypenumbers": "strict",
          "coloraxis": {
           "colorbar": {
            "outlinewidth": 0,
            "ticks": ""
           }
          },
          "colorscale": {
           "diverging": [
            [
             0,
             "#8e0152"
            ],
            [
             0.1,
             "#c51b7d"
            ],
            [
             0.2,
             "#de77ae"
            ],
            [
             0.3,
             "#f1b6da"
            ],
            [
             0.4,
             "#fde0ef"
            ],
            [
             0.5,
             "#f7f7f7"
            ],
            [
             0.6,
             "#e6f5d0"
            ],
            [
             0.7,
             "#b8e186"
            ],
            [
             0.8,
             "#7fbc41"
            ],
            [
             0.9,
             "#4d9221"
            ],
            [
             1,
             "#276419"
            ]
           ],
           "sequential": [
            [
             0,
             "#0d0887"
            ],
            [
             0.1111111111111111,
             "#46039f"
            ],
            [
             0.2222222222222222,
             "#7201a8"
            ],
            [
             0.3333333333333333,
             "#9c179e"
            ],
            [
             0.4444444444444444,
             "#bd3786"
            ],
            [
             0.5555555555555556,
             "#d8576b"
            ],
            [
             0.6666666666666666,
             "#ed7953"
            ],
            [
             0.7777777777777778,
             "#fb9f3a"
            ],
            [
             0.8888888888888888,
             "#fdca26"
            ],
            [
             1,
             "#f0f921"
            ]
           ],
           "sequentialminus": [
            [
             0,
             "#0d0887"
            ],
            [
             0.1111111111111111,
             "#46039f"
            ],
            [
             0.2222222222222222,
             "#7201a8"
            ],
            [
             0.3333333333333333,
             "#9c179e"
            ],
            [
             0.4444444444444444,
             "#bd3786"
            ],
            [
             0.5555555555555556,
             "#d8576b"
            ],
            [
             0.6666666666666666,
             "#ed7953"
            ],
            [
             0.7777777777777778,
             "#fb9f3a"
            ],
            [
             0.8888888888888888,
             "#fdca26"
            ],
            [
             1,
             "#f0f921"
            ]
           ]
          },
          "colorway": [
           "#636efa",
           "#EF553B",
           "#00cc96",
           "#ab63fa",
           "#FFA15A",
           "#19d3f3",
           "#FF6692",
           "#B6E880",
           "#FF97FF",
           "#FECB52"
          ],
          "font": {
           "color": "#2a3f5f"
          },
          "geo": {
           "bgcolor": "white",
           "lakecolor": "white",
           "landcolor": "#E5ECF6",
           "showlakes": true,
           "showland": true,
           "subunitcolor": "white"
          },
          "hoverlabel": {
           "align": "left"
          },
          "hovermode": "closest",
          "mapbox": {
           "style": "light"
          },
          "paper_bgcolor": "white",
          "plot_bgcolor": "#E5ECF6",
          "polar": {
           "angularaxis": {
            "gridcolor": "white",
            "linecolor": "white",
            "ticks": ""
           },
           "bgcolor": "#E5ECF6",
           "radialaxis": {
            "gridcolor": "white",
            "linecolor": "white",
            "ticks": ""
           }
          },
          "scene": {
           "xaxis": {
            "backgroundcolor": "#E5ECF6",
            "gridcolor": "white",
            "gridwidth": 2,
            "linecolor": "white",
            "showbackground": true,
            "ticks": "",
            "zerolinecolor": "white"
           },
           "yaxis": {
            "backgroundcolor": "#E5ECF6",
            "gridcolor": "white",
            "gridwidth": 2,
            "linecolor": "white",
            "showbackground": true,
            "ticks": "",
            "zerolinecolor": "white"
           },
           "zaxis": {
            "backgroundcolor": "#E5ECF6",
            "gridcolor": "white",
            "gridwidth": 2,
            "linecolor": "white",
            "showbackground": true,
            "ticks": "",
            "zerolinecolor": "white"
           }
          },
          "shapedefaults": {
           "line": {
            "color": "#2a3f5f"
           }
          },
          "ternary": {
           "aaxis": {
            "gridcolor": "white",
            "linecolor": "white",
            "ticks": ""
           },
           "baxis": {
            "gridcolor": "white",
            "linecolor": "white",
            "ticks": ""
           },
           "bgcolor": "#E5ECF6",
           "caxis": {
            "gridcolor": "white",
            "linecolor": "white",
            "ticks": ""
           }
          },
          "title": {
           "x": 0.05
          },
          "xaxis": {
           "automargin": true,
           "gridcolor": "white",
           "linecolor": "white",
           "ticks": "",
           "title": {
            "standoff": 15
           },
           "zerolinecolor": "white",
           "zerolinewidth": 2
          },
          "yaxis": {
           "automargin": true,
           "gridcolor": "white",
           "linecolor": "white",
           "ticks": "",
           "title": {
            "standoff": 15
           },
           "zerolinecolor": "white",
           "zerolinewidth": 2
          }
         }
        },
        "title": {
         "text": "Precision vs Recall"
        },
        "width": 500,
        "xaxis": {
         "autorange": true,
         "constrain": "domain",
         "domain": [
          0.06586826347305386,
          0.9341317365269461
         ],
         "range": [
          -0.003472222222222223,
          1.0034722222222223
         ],
         "title": {
          "text": "Recall"
         },
         "type": "linear"
        },
        "yaxis": {
         "autorange": true,
         "domain": [
          0,
          1
         ],
         "range": [
          -0.05555555555555555,
          1.0555555555555556
         ],
         "scaleanchor": "x",
         "scaleratio": 1,
         "title": {
          "text": "Precision"
         },
         "type": "linear"
        }
       }
      },
      "image/png": "[encoded data removed]",
      "text/html": [
       "<div>                            <div id=\"1d7c5141-29ff-456d-a0c9-a18a3b3f6e9f\" class=\"plotly-graph-div\" style=\"height:500px; width:500px;\"></div>            <script type=\"text/javascript\">                require([\"plotly\"], function(Plotly) {                    window.PLOTLYENV=window.PLOTLYENV || {};                                    if (document.getElementById(\"1d7c5141-29ff-456d-a0c9-a18a3b3f6e9f\")) {                    Plotly.newPlot(                        \"1d7c5141-29ff-456d-a0c9-a18a3b3f6e9f\",                        [{\"mode\":\"lines\",\"name\":\"m1\",\"x\":[1.0,1.0,0.9854318418314256,0.9583766909469302,0.9157127991675338,0.8699271592091571,0.8085327783558793,0.7700312174817898,0.7263267429760666,0.6899063475546305,0.6420395421436004,0.6108220603537982,0.5827263267429761,0.5504682622268471,0.5234131113423517,0.4890738813735692,0.46514047866805414,0.43600416233090533,0.4099895941727367,0.39334027055150883,0.3808532778355879,0.36628511966701355,0.34963579604578565,0.3340270551508845,0.3184183142559833,0.3059313215400624,0.28720083246618106,0.26742976066597296,0.2570239334027055,0.2445369406867846,0.23204994797086367,0.21956295525494277,0.21436004162330904,0.20499479708636836,0.19771071800208118,0.19667013527575442,0.18730489073881373,0.1768990634755463,0.17273673257023933,0.16337148803329865,0.16024973985431842,0.15192507804370448,0.14151925078043703,0.13735691987513007,0.13423517169614985,0.13111342351716962,0.1279916753381894,0.12278876170655567,0.11966701352757544,0.11758584807492195,0.11342351716961499,0.11030176899063475,0.10718002081165452,0.10197710718002082,0.09885535900104059,0.0967741935483871,0.09365244536940687,0.08949011446409989,0.08636836628511967,0.08428720083246619,0.08116545265348596,0.07492195629552549,0.07180020811654526,0.07075962539021852,0.06971904266389178,0.06763787721123829,0.06347554630593132,0.061394380853277836,0.05827263267429761,0.054110301768990635,0.053069719042663895,0.04994797086368366,0.04890738813735692,0.047866805411030174,0.047866805411030174,0.046826222684703434,0.045785639958376693,0.044745057232049947,0.043704474505723206,0.04162330905306972,0.03954214360041623,0.036420395421436005,0.03537981269510926,0.03225806451612903,0.030176899063475548,0.029136316337148804,0.029136316337148804,0.029136316337148804,0.029136316337148804,0.029136316337148804,0.02497398543184183,0.02081165452653486,0.02081165452653486,0.019771071800208116,0.019771071800208116,0.019771071800208116,0.01768990634755463,0.01664932362122789,0.015608740894901144,0.014568158168574402,0.014568158168574402,0.014568158168574402,0.013527575442247659,0.013527575442247659,0.012486992715920915,0.011446409989594173,0.01040582726326743,0.01040582726326743,0.01040582726326743,0.01040582726326743,0.01040582726326743,0.009365244536940686,0.009365244536940686,0.009365244536940686,0.009365244536940686,0.008324661810613945,0.008324661810613945,0.007284079084287201,0.006243496357960458,0.005202913631633715,0.003121748178980229,0.003121748178980229,0.003121748178980229,0.002081165452653486,0.001040582726326743,0.001040582726326743,0.001040582726326743,0.0,0.0,0.0,0.0,0.0,0.0,0.0,0.0,0.0,0.0,0.0,0.0,0.0,0.0,0.0,0.0,0.0,0.0,0.0,0.0,0.0,0.0,0.0,0.0,0.0,0.0,0.0,0.0,0.0,0.0,0.0,0.0,0.0,0.0,0.0,0.0,0.0,0.0,0.0,0.0,0.0,0.0,0.0,0.0,0.0,0.0,0.0,0.0,0.0,0.0,0.0,0.0,0.0,0.0,0.0,0.0,0.0,0.0,0.0,0.0,0.0,0.0,0.0,0.0,0.0,0.0,0.0,0.0,0.0,0.0,0.0,0.0,0.0],\"y\":[0.04805,0.04825508410745669,0.051369677244372115,0.05665948938788065,0.06289757701379459,0.06977714714965362,0.07606461086637298,0.08467788076438952,0.09215738051227886,0.10092860404932258,0.10784827827302919,0.11644514977187066,0.1256168685509197,0.1334510595358224,0.14289772727272726,0.15059275873117592,0.1598140865212728,0.168543845534996,0.17480035492457852,0.18199325950890707,0.19395866454689983,0.205607476635514,0.2146964856230032,0.22291666666666668,0.2314674735249622,0.23941368078175895,0.24446412754650132,0.2445290199809705,0.25050709939148075,0.25323275862068967,0.25573394495412843,0.25606796116504854,0.2627551020408163,0.26336898395721925,0.26912181303116145,0.27876106194690264,0.2803738317757009,0.28192371475953565,0.2847341337907376,0.28442028985507245,0.2916666666666667,0.2879684418145957,0.2851153039832285,0.2920353982300885,0.29723502304147464,0.30288461538461536,0.31297709923664124,0.3089005235602094,0.30913978494623656,0.31564245810055863,0.3159420289855073,0.3202416918429003,0.32087227414330216,0.3181818181818182,0.3231292517006803,0.32517482517482516,0.3284671532846715,0.32950191570881227,0.332,0.3347107438016529,0.33620689655172414,0.32432432432432434,0.32547169811320753,0.3269230769230769,0.3333333333333333,0.33163265306122447,0.32972972972972975,0.3333333333333333,0.33532934131736525,0.325,0.3227848101265823,0.3333333333333333,0.34057971014492755,0.3484848484848485,0.35384615384615387,0.3543307086614173,0.3728813559322034,0.39090909090909093,0.3925233644859813,0.39215686274509803,0.40425531914893614,0.4117647058823529,0.41975308641975306,0.4025974025974026,0.3972602739726027,0.417910447761194,0.4375,0.4666666666666667,0.49122807017543857,0.509090909090909,0.47058823529411764,0.43478260869565216,0.45454545454545453,0.4523809523809524,0.4634146341463415,0.5135135135135135,0.53125,0.5517241379310345,0.5555555555555556,0.5384615384615384,0.5384615384615384,0.5384615384615384,0.5652173913043478,0.6190476190476191,0.6,0.5789473684210527,0.5555555555555556,0.5882352941176471,0.5882352941176471,0.625,0.6666666666666666,0.6428571428571429,0.6428571428571429,0.6428571428571429,0.6428571428571429,0.6153846153846154,0.6153846153846154,0.6363636363636364,0.6,0.5555555555555556,0.5,0.5,0.5,0.4,0.25,0.25,0.25,0.0,0.0,0.0,0.0,0.0,0.0,0.0,0.0,0.0,0.0,null,null,null,null,null,null,null,null,null,null,null,null,null,null,null,null,null,null,null,null,null,null,null,null,null,null,null,null,null,null,null,null,null,null,null,null,null,null,null,null,null,null,null,null,null,null,null,null,null,null,null,null,null,null,null,null,null,null,null,null,null,null,null],\"type\":\"scatter\"},{\"mode\":\"lines\",\"name\":\"m2\",\"x\":[1.0,0.9968782518210197,0.9781477627471384,0.9521331945889698,0.9042663891779397,0.8605619146722164,0.8085327783558793,0.7679500520291364,0.72840790842872,0.696149843912591,0.6607700312174818,0.6368366285119667,0.6139438085327783,0.5889698231009365,0.5681581685744017,0.5411030176899063,0.5244536940686785,0.5067637877211238,0.48283038501560877,0.4672216441207076,0.449531737773153,0.43184183142559834,0.41935483870967744,0.4068678459937565,0.39125910509885536,0.3808532778355879,0.37460978147762747,0.3610822060353798,0.3517169614984391,0.3340270551508845,0.32882414151925077,0.31633714880332986,0.31217481789802287,0.30801248699271594,0.29968782518210196,0.2892819979188345,0.2861602497398543,0.2778355879292404,0.2715920915712799,0.25806451612903225,0.25390218522372526,0.2445369406867846,0.23309053069719043,0.222684703433923,0.2133194588969823,0.2060353798126951,0.19979188345473464,0.19771071800208118,0.18834547346514047,0.186264308012487,0.18002081165452655,0.1716961498439126,0.1675338189386056,0.1571279916753382,0.15400624349635797,0.14672216441207075,0.14151925078043703,0.13735691987513007,0.1331945889698231,0.12695109261186263,0.12070759625390219,0.11758584807492195,0.11342351716961499,0.10613943808532779,0.10509885535900104,0.10197710718002082,0.0967741935483871,0.09053069719042664,0.08532778355879292,0.08116545265348596,0.07804370447450572,0.07700312174817898,0.07284079084287201,0.07075962539021852,0.06867845993756504,0.06555671175858481,0.06555671175858481,0.060353798126951096,0.05723204994797086,0.05619146722164412,0.055150884495317375,0.05202913631633715,0.05098855359001041,0.046826222684703434,0.044745057232049947,0.04266389177939646,0.04266389177939646,0.03954214360041623,0.03433922996878252,0.03329864724245578,0.031217481789802288,0.02809573361082206,0.027055150884495317,0.027055150884495317,0.026014568158168574,0.026014568158168574,0.02497398543184183,0.02497398543184183,0.02497398543184183,0.02081165452653486,0.019771071800208116,0.019771071800208116,0.01768990634755463,0.015608740894901144,0.015608740894901144,0.015608740894901144,0.015608740894901144,0.015608740894901144,0.015608740894901144,0.015608740894901144,0.015608740894901144,0.014568158168574402,0.013527575442247659,0.011446409989594173,0.01040582726326743,0.009365244536940686,0.009365244536940686,0.009365244536940686,0.009365244536940686,0.009365244536940686,0.007284079084287201,0.006243496357960458,0.006243496357960458,0.005202913631633715,0.004162330905306972,0.004162330905306972,0.004162330905306972,0.004162330905306972,0.004162330905306972,0.004162330905306972,0.004162330905306972,0.004162330905306972,0.002081165452653486,0.002081165452653486,0.002081165452653486,0.002081165452653486,0.002081165452653486,0.002081165452653486,0.002081165452653486,0.0,0.0,0.0,0.0,0.0,0.0,0.0,0.0,0.0,0.0,0.0,0.0,0.0,0.0,0.0,0.0,0.0,0.0,0.0,0.0,0.0,0.0,0.0,0.0,0.0,0.0,0.0,0.0,0.0,0.0,0.0,0.0,0.0,0.0,0.0,0.0,0.0,0.0,0.0,0.0,0.0,0.0,0.0,0.0,0.0,0.0,0.0,0.0,0.0,0.0,0.0,0.0,0.0,0.0,0.0,0.0,0.0,0.0,0.0,0.0,0.0],\"y\":[0.04805,0.05093035619351409,0.0560558172818892,0.06227031441404655,0.06912185809735921,0.07742720719033798,0.08566703417861081,0.09501738122827347,0.10416666666666667,0.11377551020408164,0.12227999229732332,0.13158460546119113,0.14040932889100427,0.1489865754145828,0.15721278433630867,0.163727959697733,0.17119565217391305,0.17767238234221086,0.18325434439178515,0.1916346564233888,0.19753086419753085,0.2038310412573674,0.21000521104742054,0.21758486366165833,0.22209096278795037,0.22961104140526975,0.23637557452396585,0.24181184668989547,0.24599708879184862,0.2469230769230769,0.2560777957860616,0.2602739726027397,0.26929982046678635,0.27977315689981097,0.28599801390268126,0.2883817427385892,0.296655879180151,0.3013544018058691,0.3088757396449704,0.3073110285006196,0.31362467866323906,0.31459170013386883,0.31683168316831684,0.31750741839762614,0.31931464174454827,0.32405891980360063,0.3287671232876712,0.3392857142857143,0.34215500945179583,0.3516699410609037,0.3516260162601626,0.35560344827586204,0.36261261261261263,0.363855421686747,0.3756345177664975,0.3770053475935829,0.37988826815642457,0.38823529411764707,0.4,0.4066666666666667,0.4084507042253521,0.41544117647058826,0.41762452107279696,0.4180327868852459,0.4353448275862069,0.44545454545454544,0.45145631067961167,0.453125,0.4632768361581921,0.4642857142857143,0.46296296296296297,0.47435897435897434,0.4666666666666667,0.4689655172413793,0.4782608695652174,0.4846153846153846,0.49606299212598426,0.48739495798319327,0.49107142857142855,0.5,0.5047619047619047,0.49504950495049505,0.5,0.5,0.5058823529411764,0.5189873417721519,0.5324675324675324,0.5277777777777778,0.515625,0.5517241379310345,0.5660377358490566,0.574468085106383,0.5652173913043478,0.5909090909090909,0.5813953488372093,0.5952380952380952,0.6,0.6,0.6,0.5714285714285714,0.5588235294117647,0.5588235294117647,0.5483870967741935,0.5555555555555556,0.5769230769230769,0.625,0.625,0.625,0.625,0.625,0.6818181818181818,0.6666666666666666,0.6842105263157895,0.6875,0.6666666666666666,0.75,0.8181818181818182,0.8181818181818182,0.8181818181818182,0.8181818181818182,0.7777777777777778,0.75,0.75,0.8333333333333334,0.8,0.8,0.8,0.8,0.8,0.8,1.0,1.0,1.0,1.0,1.0,1.0,1.0,1.0,1.0,null,null,null,null,null,null,null,null,null,null,null,null,null,null,null,null,null,null,null,null,null,null,null,null,null,null,null,null,null,null,null,null,null,null,null,null,null,null,null,null,null,null,null,null,null,null,null,null,null,null,null,null,null,null,null,null,null,null,null,null,null],\"type\":\"scatter\"},{\"mode\":\"lines\",\"name\":\"m3\",\"x\":[1.0,1.0,0.9906347554630593,0.9739854318418314,0.9365244536940687,0.8980228928199792,0.8459937565036421,0.7887617065556711,0.7523413111342352,0.7117585848074922,0.668054110301769,0.6285119667013528,0.5972944849115505,0.5650364203954215,0.5348595213319459,0.5046826222684704,0.4724245577523413,0.44432882414151925,0.40582726326742974,0.3808532778355879,0.3631633714880333,0.34755463059313213,0.32778355879292403,0.3100936524453694,0.29968782518210196,0.28303850156087407,0.27471383975026015,0.24869927159209157,0.23204994797086367,0.2206035379812695,0.2060353798126951,0.1914672216441207,0.18106139438085328,0.16857440166493237,0.16337148803329865,0.1571279916753382,0.14880332986472425,0.1425598335067638,0.13527575442247658,0.12382934443288242,0.11966701352757544,0.11550468262226847,0.10613943808532779,0.09885535900104059,0.09053069719042664,0.08532778355879292,0.08324661810613944,0.07596253902185224,0.07180020811654526,0.06971904266389178,0.06555671175858481,0.061394380853277836,0.05827263267429761,0.054110301768990635,0.05202913631633715,0.04994797086368366,0.04890738813735692,0.04890738813735692,0.045785639958376693,0.045785639958376693,0.043704474505723206,0.04162330905306972,0.03850156087408949,0.03433922996878252,0.03225806451612903,0.030176899063475548,0.030176899063475548,0.029136316337148804,0.02809573361082206,0.027055150884495317,0.023933402705515087,0.022892819979188347,0.02081165452653486,0.019771071800208116,0.019771071800208116,0.01664932362122789,0.01664932362122789,0.015608740894901144,0.013527575442247659,0.013527575442247659,0.013527575442247659,0.012486992715920915,0.012486992715920915,0.01040582726326743,0.01040582726326743,0.01040582726326743,0.01040582726326743,0.01040582726326743,0.01040582726326743,0.01040582726326743,0.009365244536940686,0.009365244536940686,0.009365244536940686,0.008324661810613945,0.007284079084287201,0.007284079084287201,0.006243496357960458,0.005202913631633715,0.003121748178980229,0.003121748178980229,0.003121748178980229,0.003121748178980229,0.002081165452653486,0.001040582726326743,0.001040582726326743,0.0,0.0,0.0,0.0,0.0,0.0,0.0,0.0,0.0,0.0,0.0,0.0,0.0,0.0,0.0,0.0,0.0,0.0,0.0,0.0,0.0,0.0,0.0,0.0,0.0,0.0,0.0,0.0,0.0,0.0,0.0,0.0,0.0,0.0,0.0,0.0,0.0,0.0,0.0,0.0,0.0,0.0,0.0,0.0,0.0,0.0,0.0,0.0,0.0,0.0,0.0,0.0,0.0,0.0,0.0,0.0,0.0,0.0,0.0,0.0,0.0,0.0,0.0,0.0,0.0,0.0,0.0,0.0,0.0,0.0,0.0,0.0,0.0,0.0,0.0,0.0,0.0,0.0,0.0,0.0,0.0,0.0,0.0,0.0,0.0,0.0,0.0,0.0,0.0,0.0,0.0,0.0,0.0,0.0,0.0],\"y\":[0.04805,0.04811013767209011,0.05009998947479213,0.05473364130752587,0.059880239520958084,0.06642038020472563,0.0724147145274784,0.07864702220377671,0.0869094843130184,0.09464508094645081,0.10195331110052405,0.10953935437069279,0.11830173124484748,0.12657342657342657,0.1350499211770888,0.14434523809523808,0.15384615384615385,0.16341370072713357,0.1694915254237288,0.1771539206195547,0.18673087212413056,0.19892793329362715,0.20944148936170212,0.21911764705882353,0.23076923076923078,0.2381786339754816,0.25680933852140075,0.2580993520518359,0.26143024618991795,0.2659974905897114,0.2682926829268293,0.27340267459138184,0.2838499184339315,0.28371278458844135,0.2951127819548872,0.3026052104208417,0.3115468409586057,0.31934731934731936,0.31862745098039214,0.3131578947368421,0.32857142857142857,0.33433734939759036,0.3279742765273312,0.3298611111111111,0.3246268656716418,0.328,0.33472803347280333,0.3230088495575221,0.32242990654205606,0.32682926829268294,0.328125,0.33146067415730335,0.33136094674556216,0.3270440251572327,0.33112582781456956,0.34532374100719426,0.35074626865671643,0.3700787401574803,0.36363636363636365,0.3826086956521739,0.40384615384615385,0.4166666666666667,0.42045454545454547,0.4024390243902439,0.4025974025974026,0.42028985507246375,0.43283582089552236,0.4444444444444444,0.46551724137931033,0.4727272727272727,0.46938775510204084,0.46808510638297873,0.45454545454545453,0.475,0.5,0.48484848484848486,0.5161290322580645,0.5357142857142857,0.52,0.52,0.5416666666666666,0.5454545454545454,0.5454545454545454,0.5555555555555556,0.5555555555555556,0.5555555555555556,0.5555555555555556,0.5882352941176471,0.6666666666666666,0.6666666666666666,0.6428571428571429,0.6428571428571429,0.6428571428571429,0.6153846153846154,0.5833333333333334,0.5833333333333334,0.6,0.5555555555555556,0.42857142857142855,0.5,0.5,0.5,0.4,0.25,0.25,0.0,0.0,0.0,0.0,0.0,0.0,0.0,0.0,0.0,0.0,0.0,null,null,null,null,null,null,null,null,null,null,null,null,null,null,null,null,null,null,null,null,null,null,null,null,null,null,null,null,null,null,null,null,null,null,null,null,null,null,null,null,null,null,null,null,null,null,null,null,null,null,null,null,null,null,null,null,null,null,null,null,null,null,null,null,null,null,null,null,null,null,null,null,null,null,null,null,null,null,null,null,null,null,null,null],\"type\":\"scatter\"},{\"mode\":\"lines\",\"name\":\"m4\",\"x\":[1.0,1.0,1.0,1.0,1.0,1.0,0.9937565036420395,0.9011446409989594,0.8272632674297606,0.7211238293444329,0.5837669094693028,0.5286160249739854,0.4713839750260146,0.41519250780437045,0.3704474505723205,0.32049947970863685,0.27055150884495316,0.24349635796045785,0.2060353798126951,0.1696149843912591,0.14984391259105098,0.14151925078043703,0.1279916753381894,0.11550468262226847,0.11030176899063475,0.10718002081165452,0.10093652445369407,0.09573361082206035,0.09157127991675339,0.08636836628511967,0.08324661810613944,0.07804370447450572,0.07388137356919876,0.07180020811654526,0.06867845993756504,0.061394380853277836,0.05619146722164412,0.04890738813735692,0.044745057232049947,0.04058272632674298,0.036420395421436005,0.03225806451612903,0.02809573361082206,0.019771071800208116,0.015608740894901144,0.012486992715920915,0.007284079084287201,0.005202913631633715,0.005202913631633715,0.004162330905306972,0.002081165452653486,0.001040582726326743,0.001040582726326743,0.001040582726326743,0.001040582726326743,0.001040582726326743,0.001040582726326743,0.001040582726326743,0.001040582726326743,0.0,0.0,0.0,0.0,0.0,0.0,0.0,0.0,0.0,0.0,0.0,0.0,0.0,0.0,0.0,0.0,0.0,0.0,0.0,0.0,0.0,0.0,0.0,0.0,0.0,0.0,0.0,0.0,0.0,0.0,0.0,0.0,0.0,0.0,0.0,0.0,0.0,0.0,0.0,0.0,0.0,0.0,0.0,0.0,0.0,0.0,0.0,0.0,0.0,0.0,0.0,0.0,0.0,0.0,0.0,0.0,0.0,0.0,0.0,0.0,0.0,0.0,0.0,0.0,0.0,0.0,0.0,0.0,0.0,0.0,0.0,0.0,0.0,0.0,0.0,0.0,0.0,0.0,0.0,0.0,0.0,0.0,0.0,0.0,0.0,0.0,0.0,0.0,0.0,0.0,0.0,0.0,0.0,0.0,0.0,0.0,0.0,0.0,0.0,0.0,0.0,0.0,0.0,0.0,0.0,0.0,0.0,0.0,0.0,0.0,0.0,0.0,0.0,0.0,0.0,0.0,0.0,0.0,0.0,0.0,0.0,0.0,0.0,0.0,0.0,0.0,0.0,0.0,0.0,0.0,0.0,0.0,0.0,0.0,0.0,0.0,0.0,0.0,0.0,0.0,0.0],\"y\":[0.04805,0.04805,0.04805,0.04805,0.04805,0.04805,0.04897687060874917,0.05855703563459328,0.06863506863506863,0.08087291399229782,0.10017857142857142,0.11283873833851621,0.12721145745577084,0.1446700507614213,0.17090734517522804,0.2006514657980456,0.22589052997393572,0.2620380739081747,0.2804532577903683,0.29159212880143115,0.3076923076923077,0.35978835978835977,0.3867924528301887,0.4036363636363636,0.43621399176954734,0.4681818181818182,0.46411483253588515,0.48936170212765956,0.4971751412429379,0.49700598802395207,0.5128205128205128,0.5136986301369864,0.5378787878787878,0.5655737704918032,0.6,0.6344086021505376,0.6666666666666666,0.6714285714285714,0.7288135593220338,0.7647058823529411,0.7777777777777778,0.8157894736842105,0.9310344827586207,0.9047619047619048,0.9375,0.9230769230769231,1.0,1.0,1.0,1.0,1.0,1.0,1.0,1.0,1.0,1.0,1.0,1.0,1.0,null,null,null,null,null,null,null,null,null,null,null,null,null,null,null,null,null,null,null,null,null,null,null,null,null,null,null,null,null,null,null,null,null,null,null,null,null,null,null,null,null,null,null,null,null,null,null,null,null,null,null,null,null,null,null,null,null,null,null,null,null,null,null,null,null,null,null,null,null,null,null,null,null,null,null,null,null,null,null,null,null,null,null,null,null,null,null,null,null,null,null,null,null,null,null,null,null,null,null,null,null,null,null,null,null,null,null,null,null,null,null,null,null,null,null,null,null,null,null,null,null,null,null,null,null,null,null,null,null,null,null,null,null,null,null,null,null,null,null,null,null],\"type\":\"scatter\"}],                        {\"template\":{\"data\":{\"histogram2dcontour\":[{\"type\":\"histogram2dcontour\",\"colorbar\":{\"outlinewidth\":0,\"ticks\":\"\"},\"colorscale\":[[0.0,\"#0d0887\"],[0.1111111111111111,\"#46039f\"],[0.2222222222222222,\"#7201a8\"],[0.3333333333333333,\"#9c179e\"],[0.4444444444444444,\"#bd3786\"],[0.5555555555555556,\"#d8576b\"],[0.6666666666666666,\"#ed7953\"],[0.7777777777777778,\"#fb9f3a\"],[0.8888888888888888,\"#fdca26\"],[1.0,\"#f0f921\"]]}],\"choropleth\":[{\"type\":\"choropleth\",\"colorbar\":{\"outlinewidth\":0,\"ticks\":\"\"}}],\"histogram2d\":[{\"type\":\"histogram2d\",\"colorbar\":{\"outlinewidth\":0,\"ticks\":\"\"},\"colorscale\":[[0.0,\"#0d0887\"],[0.1111111111111111,\"#46039f\"],[0.2222222222222222,\"#7201a8\"],[0.3333333333333333,\"#9c179e\"],[0.4444444444444444,\"#bd3786\"],[0.5555555555555556,\"#d8576b\"],[0.6666666666666666,\"#ed7953\"],[0.7777777777777778,\"#fb9f3a\"],[0.8888888888888888,\"#fdca26\"],[1.0,\"#f0f921\"]]}],\"heatmap\":[{\"type\":\"heatmap\",\"colorbar\":{\"outlinewidth\":0,\"ticks\":\"\"},\"colorscale\":[[0.0,\"#0d0887\"],[0.1111111111111111,\"#46039f\"],[0.2222222222222222,\"#7201a8\"],[0.3333333333333333,\"#9c179e\"],[0.4444444444444444,\"#bd3786\"],[0.5555555555555556,\"#d8576b\"],[0.6666666666666666,\"#ed7953\"],[0.7777777777777778,\"#fb9f3a\"],[0.8888888888888888,\"#fdca26\"],[1.0,\"#f0f921\"]]}],\"heatmapgl\":[{\"type\":\"heatmapgl\",\"colorbar\":{\"outlinewidth\":0,\"ticks\":\"\"},\"colorscale\":[[0.0,\"#0d0887\"],[0.1111111111111111,\"#46039f\"],[0.2222222222222222,\"#7201a8\"],[0.3333333333333333,\"#9c179e\"],[0.4444444444444444,\"#bd3786\"],[0.5555555555555556,\"#d8576b\"],[0.6666666666666666,\"#ed7953\"],[0.7777777777777778,\"#fb9f3a\"],[0.8888888888888888,\"#fdca26\"],[1.0,\"#f0f921\"]]}],\"contourcarpet\":[{\"type\":\"contourcarpet\",\"colorbar\":{\"outlinewidth\":0,\"ticks\":\"\"}}],\"contour\":[{\"type\":\"contour\",\"colorbar\":{\"outlinewidth\":0,\"ticks\":\"\"},\"colorscale\":[[0.0,\"#0d0887\"],[0.1111111111111111,\"#46039f\"],[0.2222222222222222,\"#7201a8\"],[0.3333333333333333,\"#9c179e\"],[0.4444444444444444,\"#bd3786\"],[0.5555555555555556,\"#d8576b\"],[0.6666666666666666,\"#ed7953\"],[0.7777777777777778,\"#fb9f3a\"],[0.8888888888888888,\"#fdca26\"],[1.0,\"#f0f921\"]]}],\"surface\":[{\"type\":\"surface\",\"colorbar\":{\"outlinewidth\":0,\"ticks\":\"\"},\"colorscale\":[[0.0,\"#0d0887\"],[0.1111111111111111,\"#46039f\"],[0.2222222222222222,\"#7201a8\"],[0.3333333333333333,\"#9c179e\"],[0.4444444444444444,\"#bd3786\"],[0.5555555555555556,\"#d8576b\"],[0.6666666666666666,\"#ed7953\"],[0.7777777777777778,\"#fb9f3a\"],[0.8888888888888888,\"#fdca26\"],[1.0,\"#f0f921\"]]}],\"mesh3d\":[{\"type\":\"mesh3d\",\"colorbar\":{\"outlinewidth\":0,\"ticks\":\"\"}}],\"scatter\":[{\"fillpattern\":{\"fillmode\":\"overlay\",\"size\":10,\"solidity\":0.2},\"type\":\"scatter\"}],\"parcoords\":[{\"type\":\"parcoords\",\"line\":{\"colorbar\":{\"outlinewidth\":0,\"ticks\":\"\"}}}],\"scatterpolargl\":[{\"type\":\"scatterpolargl\",\"marker\":{\"colorbar\":{\"outlinewidth\":0,\"ticks\":\"\"}}}],\"bar\":[{\"error_x\":{\"color\":\"#2a3f5f\"},\"error_y\":{\"color\":\"#2a3f5f\"},\"marker\":{\"line\":{\"color\":\"#E5ECF6\",\"width\":0.5},\"pattern\":{\"fillmode\":\"overlay\",\"size\":10,\"solidity\":0.2}},\"type\":\"bar\"}],\"scattergeo\":[{\"type\":\"scattergeo\",\"marker\":{\"colorbar\":{\"outlinewidth\":0,\"ticks\":\"\"}}}],\"scatterpolar\":[{\"type\":\"scatterpolar\",\"marker\":{\"colorbar\":{\"outlinewidth\":0,\"ticks\":\"\"}}}],\"histogram\":[{\"marker\":{\"pattern\":{\"fillmode\":\"overlay\",\"size\":10,\"solidity\":0.2}},\"type\":\"histogram\"}],\"scattergl\":[{\"type\":\"scattergl\",\"marker\":{\"colorbar\":{\"outlinewidth\":0,\"ticks\":\"\"}}}],\"scatter3d\":[{\"type\":\"scatter3d\",\"line\":{\"colorbar\":{\"outlinewidth\":0,\"ticks\":\"\"}},\"marker\":{\"colorbar\":{\"outlinewidth\":0,\"ticks\":\"\"}}}],\"scattermapbox\":[{\"type\":\"scattermapbox\",\"marker\":{\"colorbar\":{\"outlinewidth\":0,\"ticks\":\"\"}}}],\"scatterternary\":[{\"type\":\"scatterternary\",\"marker\":{\"colorbar\":{\"outlinewidth\":0,\"ticks\":\"\"}}}],\"scattercarpet\":[{\"type\":\"scattercarpet\",\"marker\":{\"colorbar\":{\"outlinewidth\":0,\"ticks\":\"\"}}}],\"carpet\":[{\"aaxis\":{\"endlinecolor\":\"#2a3f5f\",\"gridcolor\":\"white\",\"linecolor\":\"white\",\"minorgridcolor\":\"white\",\"startlinecolor\":\"#2a3f5f\"},\"baxis\":{\"endlinecolor\":\"#2a3f5f\",\"gridcolor\":\"white\",\"linecolor\":\"white\",\"minorgridcolor\":\"white\",\"startlinecolor\":\"#2a3f5f\"},\"type\":\"carpet\"}],\"table\":[{\"cells\":{\"fill\":{\"color\":\"#EBF0F8\"},\"line\":{\"color\":\"white\"}},\"header\":{\"fill\":{\"color\":\"#C8D4E3\"},\"line\":{\"color\":\"white\"}},\"type\":\"table\"}],\"barpolar\":[{\"marker\":{\"line\":{\"color\":\"#E5ECF6\",\"width\":0.5},\"pattern\":{\"fillmode\":\"overlay\",\"size\":10,\"solidity\":0.2}},\"type\":\"barpolar\"}],\"pie\":[{\"automargin\":true,\"type\":\"pie\"}]},\"layout\":{\"autotypenumbers\":\"strict\",\"colorway\":[\"#636efa\",\"#EF553B\",\"#00cc96\",\"#ab63fa\",\"#FFA15A\",\"#19d3f3\",\"#FF6692\",\"#B6E880\",\"#FF97FF\",\"#FECB52\"],\"font\":{\"color\":\"#2a3f5f\"},\"hovermode\":\"closest\",\"hoverlabel\":{\"align\":\"left\"},\"paper_bgcolor\":\"white\",\"plot_bgcolor\":\"#E5ECF6\",\"polar\":{\"bgcolor\":\"#E5ECF6\",\"angularaxis\":{\"gridcolor\":\"white\",\"linecolor\":\"white\",\"ticks\":\"\"},\"radialaxis\":{\"gridcolor\":\"white\",\"linecolor\":\"white\",\"ticks\":\"\"}},\"ternary\":{\"bgcolor\":\"#E5ECF6\",\"aaxis\":{\"gridcolor\":\"white\",\"linecolor\":\"white\",\"ticks\":\"\"},\"baxis\":{\"gridcolor\":\"white\",\"linecolor\":\"white\",\"ticks\":\"\"},\"caxis\":{\"gridcolor\":\"white\",\"linecolor\":\"white\",\"ticks\":\"\"}},\"coloraxis\":{\"colorbar\":{\"outlinewidth\":0,\"ticks\":\"\"}},\"colorscale\":{\"sequential\":[[0.0,\"#0d0887\"],[0.1111111111111111,\"#46039f\"],[0.2222222222222222,\"#7201a8\"],[0.3333333333333333,\"#9c179e\"],[0.4444444444444444,\"#bd3786\"],[0.5555555555555556,\"#d8576b\"],[0.6666666666666666,\"#ed7953\"],[0.7777777777777778,\"#fb9f3a\"],[0.8888888888888888,\"#fdca26\"],[1.0,\"#f0f921\"]],\"sequentialminus\":[[0.0,\"#0d0887\"],[0.1111111111111111,\"#46039f\"],[0.2222222222222222,\"#7201a8\"],[0.3333333333333333,\"#9c179e\"],[0.4444444444444444,\"#bd3786\"],[0.5555555555555556,\"#d8576b\"],[0.6666666666666666,\"#ed7953\"],[0.7777777777777778,\"#fb9f3a\"],[0.8888888888888888,\"#fdca26\"],[1.0,\"#f0f921\"]],\"diverging\":[[0,\"#8e0152\"],[0.1,\"#c51b7d\"],[0.2,\"#de77ae\"],[0.3,\"#f1b6da\"],[0.4,\"#fde0ef\"],[0.5,\"#f7f7f7\"],[0.6,\"#e6f5d0\"],[0.7,\"#b8e186\"],[0.8,\"#7fbc41\"],[0.9,\"#4d9221\"],[1,\"#276419\"]]},\"xaxis\":{\"gridcolor\":\"white\",\"linecolor\":\"white\",\"ticks\":\"\",\"title\":{\"standoff\":15},\"zerolinecolor\":\"white\",\"automargin\":true,\"zerolinewidth\":2},\"yaxis\":{\"gridcolor\":\"white\",\"linecolor\":\"white\",\"ticks\":\"\",\"title\":{\"standoff\":15},\"zerolinecolor\":\"white\",\"automargin\":true,\"zerolinewidth\":2},\"scene\":{\"xaxis\":{\"backgroundcolor\":\"#E5ECF6\",\"gridcolor\":\"white\",\"linecolor\":\"white\",\"showbackground\":true,\"ticks\":\"\",\"zerolinecolor\":\"white\",\"gridwidth\":2},\"yaxis\":{\"backgroundcolor\":\"#E5ECF6\",\"gridcolor\":\"white\",\"linecolor\":\"white\",\"showbackground\":true,\"ticks\":\"\",\"zerolinecolor\":\"white\",\"gridwidth\":2},\"zaxis\":{\"backgroundcolor\":\"#E5ECF6\",\"gridcolor\":\"white\",\"linecolor\":\"white\",\"showbackground\":true,\"ticks\":\"\",\"zerolinecolor\":\"white\",\"gridwidth\":2}},\"shapedefaults\":{\"line\":{\"color\":\"#2a3f5f\"}},\"annotationdefaults\":{\"arrowcolor\":\"#2a3f5f\",\"arrowhead\":0,\"arrowwidth\":1},\"geo\":{\"bgcolor\":\"white\",\"landcolor\":\"#E5ECF6\",\"subunitcolor\":\"white\",\"showland\":true,\"showlakes\":true,\"lakecolor\":\"white\"},\"title\":{\"x\":0.05},\"mapbox\":{\"style\":\"light\"}}},\"shapes\":[{\"line\":{\"dash\":\"dash\"},\"type\":\"line\",\"x0\":0,\"x1\":1,\"y0\":1,\"y1\":0}],\"yaxis\":{\"title\":{\"text\":\"Precision\"},\"scaleanchor\":\"x\",\"scaleratio\":1},\"xaxis\":{\"title\":{\"text\":\"Recall\"},\"constrain\":\"domain\"},\"title\":{\"text\":\"Precision vs Recall\"},\"width\":500,\"height\":500},                        {\"responsive\": true}                    ).then(function(){\n",
       "                            \n",
       "var gd = document.getElementById('1d7c5141-29ff-456d-a0c9-a18a3b3f6e9f');\n",
       "var x = new MutationObserver(function (mutations, observer) {{\n",
       "        var display = window.getComputedStyle(gd).display;\n",
       "        if (!display || display === 'none') {{\n",
       "            console.log([gd, 'removed!']);\n",
       "            Plotly.purge(gd);\n",
       "            observer.disconnect();\n",
       "        }}\n",
       "}});\n",
       "\n",
       "// Listen for the removal of the full notebook cells\n",
       "var notebookContainer = gd.closest('#notebook-container');\n",
       "if (notebookContainer) {{\n",
       "    x.observe(notebookContainer, {childList: true});\n",
       "}}\n",
       "\n",
       "// Listen for the clearing of the current output cell\n",
       "var outputEl = gd.closest('.output');\n",
       "if (outputEl) {{\n",
       "    x.observe(outputEl, {childList: true});\n",
       "}}\n",
       "\n",
       "                        })                };                });            </script>        </div>"
      ]
     },
     "metadata": {},
     "output_type": "display_data"
    }
   ],
   "source": [
    "fig = go.Figure()\n",
    "\n",
    "fig.add_shape(\n",
    "    type='line', line=dict(dash='dash'),\n",
    "    x0=0, x1=1, y0=1, y1=0\n",
    ")\n",
    "\n",
    "\n",
    "for model_key in models:\n",
    "    \n",
    "    fig.add_trace(\n",
    "        go.Scatter(\n",
    "            x=dfprofit[model_key + '_rcl'], \n",
    "            y=dfprofit[model_key + '_prc'],\n",
    "            mode='lines',\n",
    "            name=model_key\n",
    "        )\n",
    "    )\n",
    "    \n",
    "\n",
    "fig.update_layout(\n",
    "    title='Precision vs Recall',\n",
    "    xaxis_title='Recall',\n",
    "    yaxis_title='Precision',\n",
    "    yaxis=dict(scaleanchor=\"x\", scaleratio=1),\n",
    "    xaxis=dict(constrain='domain'),\n",
    "    width=500, height=500,\n",
    ")\n",
    "\n",
    "fig.show()"
   ]
  },
  {
   "cell_type": "markdown",
   "id": "c6c34b2e-4918-4dfa-af18-d4ccb56956fb",
   "metadata": {},
   "source": [
    "# "
   ]
  },
  {
   "cell_type": "markdown",
   "id": "891aaf13-751b-4f51-b4fd-9d2615d395b4",
   "metadata": {},
   "source": [
    "# Campaign output"
   ]
  },
  {
   "cell_type": "markdown",
   "id": "8c40b256-55c2-4cb7-9b5d-2b2a436ead69",
   "metadata": {},
   "source": [
    "###### "
   ]
  },
  {
   "cell_type": "markdown",
   "id": "5089c7fe-a0b6-4756-9b1d-b4942fe1e0eb",
   "metadata": {},
   "source": [
    "### Compiling results of each model"
   ]
  },
  {
   "cell_type": "code",
   "execution_count": 136,
   "id": "2e61314b-5a33-4ead-b4d1-2b7bc494328f",
   "metadata": {
    "execution": {
     "iopub.execute_input": "2023-03-20T00:49:30.650375Z",
     "iopub.status.busy": "2023-03-20T00:49:30.649944Z",
     "iopub.status.idle": "2023-03-20T00:49:30.732554Z",
     "shell.execute_reply": "2023-03-20T00:49:30.731542Z",
     "shell.execute_reply.started": "2023-03-20T00:49:30.650342Z"
    },
    "tags": []
   },
   "outputs": [],
   "source": [
    "## Dataframe where the results will be stored\n",
    "dfres = df.loc[\n",
    "    :, \n",
    "    [\n",
    "        col\n",
    "        for col\n",
    "        in df.columns\n",
    "        if \n",
    "            'res1' not in col\n",
    "            and\n",
    "            'sex_' not in col\n",
    "            and\n",
    "            'zip_bins_' not in col\n",
    "    ] + ['res1']\n",
    "].copy()\n",
    "\n",
    "\n",
    "## Adding the best classification of each model\n",
    "for model in models:\n",
    "    \n",
    "    dfx = models[model]['df']\n",
    "    \n",
    "    dfres[model + '_pred_prob'] = dfx[model + '_pred_prob']\n",
    "    \n",
    "    # dfres[model + '_pred'] = (dfx[model + '_pred_prob'] > dfprofit_max.loc[dfprofit_max.index == model, 'thd'].tolist()[0])*1\n",
    "    dfres[model + '_pred'] = (dfx[model + '_pred_prob'] > 0.0235*2)*1 ## Setting threshold as twice the minimum required\n",
    "    # dfres[model + '_pred'] = (dfx[model + '_pred_prob'] > 0.*2)*1 ## Setting threshold as twice the minimum required"
   ]
  },
  {
   "cell_type": "code",
   "execution_count": 137,
   "id": "880cdce7-3380-4aa4-92c6-f093fe283007",
   "metadata": {
    "execution": {
     "iopub.execute_input": "2023-03-20T00:49:30.849381Z",
     "iopub.status.busy": "2023-03-20T00:49:30.848953Z",
     "iopub.status.idle": "2023-03-20T00:49:30.923941Z",
     "shell.execute_reply": "2023-03-20T00:49:30.922823Z",
     "shell.execute_reply.started": "2023-03-20T00:49:30.849343Z"
    },
    "tags": []
   },
   "outputs": [],
   "source": [
    "mr1 = dfres['m2_pred'] == 1\n",
    "\n",
    "prob_x = dfres.loc[mr1, ['m2_pred_prob']].mean().tolist()[0]\n",
    "cust_x = dfres.loc[:, ['m2_pred']].sum().tolist()[0]"
   ]
  },
  {
   "cell_type": "code",
   "execution_count": 138,
   "id": "e99f7ae2-7ac3-49af-a7f8-9d226a077bd2",
   "metadata": {
    "execution": {
     "iopub.execute_input": "2023-03-20T00:49:31.018493Z",
     "iopub.status.busy": "2023-03-20T00:49:31.018077Z",
     "iopub.status.idle": "2023-03-20T00:49:31.088346Z",
     "shell.execute_reply": "2023-03-20T00:49:31.087300Z",
     "shell.execute_reply.started": "2023-03-20T00:49:31.018461Z"
    },
    "tags": []
   },
   "outputs": [
    {
     "data": {
      "text/plain": [
       "11815.75806933155"
      ]
     },
     "execution_count": 138,
     "metadata": {},
     "output_type": "execute_result"
    }
   ],
   "source": [
    "cust_x*(60*prob_x/2 - 1.41)"
   ]
  },
  {
   "cell_type": "code",
   "execution_count": null,
   "id": "a239bd08-47fb-458e-bd3a-893ceda6d8c2",
   "metadata": {},
   "outputs": [],
   "source": []
  },
  {
   "cell_type": "markdown",
   "id": "f50ccf6f-5be3-4ef5-a632-10dc997b0331",
   "metadata": {},
   "source": [
    "###### "
   ]
  },
  {
   "cell_type": "markdown",
   "id": "9434ebf0-fe08-4484-b812-f1ed932435b9",
   "metadata": {},
   "source": [
    "### Understanding the customer based on results"
   ]
  },
  {
   "cell_type": "markdown",
   "id": "f268c618-92ea-4dc5-9a48-d0790580b236",
   "metadata": {},
   "source": [
    "##### Upgraded history"
   ]
  },
  {
   "cell_type": "code",
   "execution_count": null,
   "id": "c0e9be30-b6f7-48ab-9ece-a3cb8145227f",
   "metadata": {},
   "outputs": [],
   "source": [
    "fig = go.Figure()\n",
    "\n",
    "for res in models:\n",
    "\n",
    "    fig.add_trace(\n",
    "        go.Scatter(\n",
    "            x=dfprofit['threshold'], \n",
    "            y=dfprofit[model_key + '_profit'],\n",
    "            mode='lines',\n",
    "            name=model_key\n",
    "        )\n",
    "    )\n",
    "    \n",
    "fig.update_layout(\n",
    "    width=700, height=500,\n",
    "    title='Potential profit at various cutoffs'\n",
    ")\n",
    "    \n",
    "fig.show()"
   ]
  },
  {
   "cell_type": "code",
   "execution_count": null,
   "id": "62c80b57-8cd7-4775-a667-a73d3db8a0f2",
   "metadata": {},
   "outputs": [],
   "source": []
  },
  {
   "cell_type": "markdown",
   "id": "01ce70cb-515f-481e-b64e-b419af390e65",
   "metadata": {},
   "source": [
    "##### Business flags"
   ]
  },
  {
   "cell_type": "code",
   "execution_count": null,
   "id": "bee7832d-44e5-4153-a6c3-7f6e942eeb73",
   "metadata": {},
   "outputs": [],
   "source": [
    "dfres"
   ]
  },
  {
   "cell_type": "code",
   "execution_count": null,
   "id": "0442a3fe-da8c-40f8-919c-d40cd71f35f1",
   "metadata": {},
   "outputs": [],
   "source": []
  },
  {
   "cell_type": "markdown",
   "id": "e53caa42-9037-45c1-9f7d-b22ece61f4d7",
   "metadata": {},
   "source": [
    "###### "
   ]
  },
  {
   "cell_type": "markdown",
   "id": "7917226f-53e7-4cc0-8363-db2fb48affc2",
   "metadata": {},
   "source": [
    "### Final formatting to export results"
   ]
  },
  {
   "cell_type": "code",
   "execution_count": 97,
   "id": "3ab3642c-17e4-4483-86ee-14ec5851c493",
   "metadata": {
    "execution": {
     "iopub.execute_input": "2023-03-20T00:34:44.849068Z",
     "iopub.status.busy": "2023-03-20T00:34:44.848649Z",
     "iopub.status.idle": "2023-03-20T00:34:44.917552Z",
     "shell.execute_reply": "2023-03-20T00:34:44.916570Z",
     "shell.execute_reply.started": "2023-03-20T00:34:44.849034Z"
    },
    "tags": []
   },
   "outputs": [],
   "source": [
    "filename = 'JackP_TomV_SebastianR_RobertoP.csv'"
   ]
  },
  {
   "cell_type": "code",
   "execution_count": 98,
   "id": "04557fe4-d3c7-405a-b355-8131592ea092",
   "metadata": {
    "execution": {
     "iopub.execute_input": "2023-03-20T00:34:44.920192Z",
     "iopub.status.busy": "2023-03-20T00:34:44.919785Z",
     "iopub.status.idle": "2023-03-20T00:34:44.991225Z",
     "shell.execute_reply": "2023-03-20T00:34:44.990306Z",
     "shell.execute_reply.started": "2023-03-20T00:34:44.920156Z"
    },
    "tags": []
   },
   "outputs": [],
   "source": [
    "## Removing features from dataframe\n",
    "dfresf = dfres.loc[:, ['id', 'res1'] + [col for col in dfres.columns if '_pred' in col]].copy()"
   ]
  },
  {
   "cell_type": "code",
   "execution_count": 99,
   "id": "11fcd688-293b-4d96-aa3b-43d83c013d88",
   "metadata": {
    "execution": {
     "iopub.execute_input": "2023-03-20T00:34:44.992868Z",
     "iopub.status.busy": "2023-03-20T00:34:44.992408Z",
     "iopub.status.idle": "2023-03-20T00:34:45.488394Z",
     "shell.execute_reply": "2023-03-20T00:34:45.487546Z",
     "shell.execute_reply.started": "2023-03-20T00:34:44.992835Z"
    },
    "tags": []
   },
   "outputs": [],
   "source": [
    "## Defining criteria to select final result\n",
    "\n",
    "### Selecting results from model with best estimated performance\n",
    "dfresf['target'] = dfresf.apply(lambda x: 0 if x['res1'] == 1 else x['m2_pred'], axis=1)\n",
    "dfresf.loc[:, ['id', 'target']].to_csv(filename)"
   ]
  },
  {
   "cell_type": "code",
   "execution_count": null,
   "id": "89243d56-f985-46f9-ab3d-ab72b8aab974",
   "metadata": {},
   "outputs": [],
   "source": []
  },
  {
   "cell_type": "markdown",
   "id": "1c615e26-cc74-4175-8a60-827a8936aa06",
   "metadata": {},
   "source": [
    "# "
   ]
  },
  {
   "cell_type": "markdown",
   "id": "784be4db-1c06-43e0-a4da-86b1bbcde318",
   "metadata": {
    "jp-MarkdownHeadingCollapsed": true,
    "tags": []
   },
   "source": [
    "# *Notes*"
   ]
  },
  {
   "cell_type": "markdown",
   "id": "93321727-fdba-400a-a05a-1bb189842ed5",
   "metadata": {},
   "source": [
    "- TP: customers contacted that upgraded\n",
    "- FP: customers contacted that didn't upgraded\n",
    "- TN: customers not contacted that woudn't updgrade\n",
    "- FN: customers not contacted that would upgrade"
   ]
  },
  {
   "cell_type": "markdown",
   "id": "7ab88b99-2891-4cd3-b6eb-4c575ae72b82",
   "metadata": {},
   "source": [
    "Notes on calculating profits\n",
    "\n",
    "Calculate the best threshold to define a category and estimate values accordingly\n",
    "- Precision (Response ratio): TP/(TP + FP)\n",
    "- Graph\n",
    "    - y: response ratio; \n",
    "    - x: cutoff\n",
    "- Profit (observed)\n",
    "    - TP*(60 - 1.41) - FP*1.41\n",
    "    - TP*60 - TP*1.41 - FP*1.41\n",
    "    - TP*60 - 1.41*(TP + FP)\n",
    "- Profit (strict)\n",
    "    - TP*(60 - 1.41) + TN*1.41 - FP*1.41 - FN*60\n",
    "    - TP*60 - TP*1.41 + TN*1.41 - FP*1.41 - FN*60\n",
    "    - 1.41*(TN - TP - FP) + 60*(TP - FN)"
   ]
  },
  {
   "cell_type": "markdown",
   "id": "fe43b0e6-ac5e-40c7-98e8-ccb452abf50a",
   "metadata": {},
   "source": [
    "#### Validating the break even response"
   ]
  },
  {
   "cell_type": "code",
   "execution_count": null,
   "id": "6d142bc9-9548-41f6-a575-f5f4df387d2c",
   "metadata": {},
   "outputs": [],
   "source": [
    "60*100*0.0235 - 100*1.41"
   ]
  },
  {
   "cell_type": "code",
   "execution_count": null,
   "id": "2b0920f7-e85d-4b06-bcb9-99e393f7b212",
   "metadata": {},
   "outputs": [],
   "source": [
    "(100)*(60*x - 1.41) = 0"
   ]
  },
  {
   "cell_type": "markdown",
   "id": "96ceeba0-025d-4794-b723-74fa767819e6",
   "metadata": {},
   "source": [
    "TP + FP"
   ]
  },
  {
   "cell_type": "markdown",
   "id": "ed51f8fa-8999-417b-a660-858c91fb8675",
   "metadata": {},
   "source": [
    "$$\n",
    "profit = 60*rr - 1.41\n",
    "$$"
   ]
  },
  {
   "cell_type": "code",
   "execution_count": null,
   "id": "396fb03c-632a-4cce-bf02-3493a8fc4e0d",
   "metadata": {
    "tags": []
   },
   "outputs": [],
   "source": [
    "1.41/(60)"
   ]
  },
  {
   "cell_type": "code",
   "execution_count": null,
   "id": "ce3621ee-8ba9-4b25-b9ec-20f0744c19a9",
   "metadata": {},
   "outputs": [],
   "source": []
  },
  {
   "cell_type": "code",
   "execution_count": null,
   "id": "9d6597dc-824d-46ce-8f37-f8d88787c671",
   "metadata": {},
   "outputs": [],
   "source": []
  },
  {
   "cell_type": "markdown",
   "id": "1735d9f0-497b-426f-923a-f1de24224c4c",
   "metadata": {},
   "source": [
    "#### Validating the income generated by first wave"
   ]
  },
  {
   "cell_type": "code",
   "execution_count": null,
   "id": "7d5b50d1-5725-4707-b2a4-30c2cf08fd81",
   "metadata": {},
   "outputs": [],
   "source": [
    "cust_tot = 801821"
   ]
  },
  {
   "cell_type": "code",
   "execution_count": null,
   "id": "5bc01a8a-0573-4500-907f-802d91467f60",
   "metadata": {},
   "outputs": [],
   "source": []
  },
  {
   "cell_type": "markdown",
   "id": "5ae0ef8b-d1f8-4e2a-801a-a42263dc5c59",
   "metadata": {},
   "source": [
    "#### Plotly express histogram documentation"
   ]
  },
  {
   "cell_type": "markdown",
   "id": "89b7ab1e-65d2-493d-ad77-0fb806e11969",
   "metadata": {},
   "source": [
    "histnorm: str (default `None`)\n",
    "    One of `'percent'`, `'probability'`, `'density'`, or `'probability\n",
    "    density'` If `None`, the output of `histfunc` is used as is. If\n",
    "    `'probability'`, the output of `histfunc` for a given bin is divided by\n",
    "    the sum of the output of `histfunc` for all bins. If `'percent'`, the\n",
    "    output of `histfunc` for a given bin is divided by the sum of the\n",
    "    output of `histfunc` for all bins and multiplied by 100. If\n",
    "    `'density'`, the output of `histfunc` for a given bin is divided by the\n",
    "    size of the bin. If `'probability density'`, the output of `histfunc`\n",
    "    for a given bin is normalized such that it corresponds to the\n",
    "    probability that a random event whose distribution is described by the\n",
    "    output of `histfunc` will fall into that bin."
   ]
  },
  {
   "cell_type": "markdown",
   "id": "b34c662c-f724-412f-86d7-75647d9b5448",
   "metadata": {},
   "source": [
    "---"
   ]
  },
  {
   "cell_type": "markdown",
   "id": "168089c7-257b-4b61-9a65-803e32753196",
   "metadata": {},
   "source": [
    "---"
   ]
  }
 ],
 "metadata": {
  "kernelspec": {
   "display_name": "Python 3 (ipykernel)",
   "language": "python",
   "name": "python3"
  },
  "language_info": {
   "codemirror_mode": {
    "name": "ipython",
    "version": 3
   },
   "file_extension": ".py",
   "mimetype": "text/x-python",
   "name": "python",
   "nbconvert_exporter": "python",
   "pygments_lexer": "ipython3",
   "version": "3.9.1"
  },
  "toc-autonumbering": true
 },
 "nbformat": 4,
 "nbformat_minor": 5
}
