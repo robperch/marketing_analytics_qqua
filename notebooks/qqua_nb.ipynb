{
 "cells": [
  {
   "cell_type": "markdown",
   "id": "82c1d7a8-d74e-45e1-8937-264331e6d38a",
   "metadata": {},
   "source": [
    "# Quicken Quickbooks Upgrade Assignment\n",
    "- Rob's solutions"
   ]
  },
  {
   "cell_type": "markdown",
   "id": "6c0aef40-55d3-4226-a218-2c63828b1646",
   "metadata": {},
   "source": [
    "# "
   ]
  },
  {
   "cell_type": "markdown",
   "id": "4154f37d-fde6-4cef-8617-114a3a2d7d8e",
   "metadata": {
    "tags": []
   },
   "source": [
    "# Imports"
   ]
  },
  {
   "cell_type": "markdown",
   "id": "a98dbaa6-17e1-4b79-93f0-d142aedd0037",
   "metadata": {
    "tags": []
   },
   "source": [
    "#### Standard library imports"
   ]
  },
  {
   "cell_type": "code",
   "execution_count": 1,
   "id": "63099808-51cd-453c-976a-f3060b8650aa",
   "metadata": {
    "execution": {
     "iopub.execute_input": "2023-03-18T05:05:22.761178Z",
     "iopub.status.busy": "2023-03-18T05:05:22.720893Z",
     "iopub.status.idle": "2023-03-18T05:05:23.111550Z",
     "shell.execute_reply": "2023-03-18T05:05:23.106440Z",
     "shell.execute_reply.started": "2023-03-18T05:05:22.757820Z"
    }
   },
   "outputs": [],
   "source": [
    "import sys\n",
    "sys.path.append(\"../\")\n",
    "\n",
    "import os"
   ]
  },
  {
   "cell_type": "markdown",
   "id": "b94ec94d-0d78-4ec3-a21c-353ccf52eec6",
   "metadata": {},
   "source": [
    "#### Third party imports"
   ]
  },
  {
   "cell_type": "code",
   "execution_count": 2,
   "id": "9e4989d0-ba3a-41cf-8ccb-44cade842a03",
   "metadata": {
    "execution": {
     "iopub.execute_input": "2023-03-18T05:05:23.132344Z",
     "iopub.status.busy": "2023-03-18T05:05:23.131893Z",
     "iopub.status.idle": "2023-03-18T05:05:26.299110Z",
     "shell.execute_reply": "2023-03-18T05:05:26.298188Z",
     "shell.execute_reply.started": "2023-03-18T05:05:23.132311Z"
    },
    "tags": []
   },
   "outputs": [],
   "source": [
    "import pandas as pd\n",
    "import plotly.express as px\n",
    "import matplotlib.pyplot as plt"
   ]
  },
  {
   "cell_type": "markdown",
   "id": "48755fa3-cba0-4508-9df2-18d50f60551b",
   "metadata": {},
   "source": [
    "#### Local application imports"
   ]
  },
  {
   "cell_type": "code",
   "execution_count": 3,
   "id": "a62e34a6-dea0-48d6-a3bc-c5dcdcdb1718",
   "metadata": {
    "execution": {
     "iopub.execute_input": "2023-03-18T05:05:26.301970Z",
     "iopub.status.busy": "2023-03-18T05:05:26.301250Z",
     "iopub.status.idle": "2023-03-18T05:05:29.429533Z",
     "shell.execute_reply": "2023-03-18T05:05:29.428605Z",
     "shell.execute_reply.started": "2023-03-18T05:05:26.301924Z"
    },
    "tags": []
   },
   "outputs": [],
   "source": [
    "%load_ext autoreload\n",
    "%autoreload 2\n",
    "\n",
    "from pkg_dir.config import *\n",
    "from pkg_dir.src.utils import *\n",
    "from pkg_dir.src.functions import *\n",
    "from pkg_dir.src.parameters import *"
   ]
  },
  {
   "cell_type": "markdown",
   "id": "a55dee80-3931-47a9-b2fa-5f25e5bd732f",
   "metadata": {},
   "source": [
    "# "
   ]
  },
  {
   "cell_type": "markdown",
   "id": "d533fe5d-c902-4259-97ee-672d6f2363c6",
   "metadata": {
    "tags": []
   },
   "source": [
    "# Importing data"
   ]
  },
  {
   "cell_type": "code",
   "execution_count": 4,
   "id": "5c1e7b53-2fda-490f-a7cd-a7ad52e49819",
   "metadata": {
    "execution": {
     "iopub.execute_input": "2023-03-18T05:05:29.431519Z",
     "iopub.status.busy": "2023-03-18T05:05:29.430829Z",
     "iopub.status.idle": "2023-03-18T05:05:29.535468Z",
     "shell.execute_reply": "2023-03-18T05:05:29.533923Z",
     "shell.execute_reply.started": "2023-03-18T05:05:29.431485Z"
    },
    "tags": []
   },
   "outputs": [],
   "source": [
    "df = pd.read_csv('../pkg_dir/data/intuit.csv')"
   ]
  },
  {
   "cell_type": "markdown",
   "id": "a8840b07-95f7-49c2-9036-4d6c87fca59c",
   "metadata": {},
   "source": [
    "# "
   ]
  },
  {
   "cell_type": "markdown",
   "id": "8b8dec97-c1f4-43ff-8c32-60169ea5d932",
   "metadata": {
    "tags": []
   },
   "source": [
    "# Data exploration"
   ]
  },
  {
   "cell_type": "code",
   "execution_count": 5,
   "id": "3dfbedde-fc31-4d72-8f7d-2818db9fb15b",
   "metadata": {
    "execution": {
     "iopub.execute_input": "2023-03-18T05:05:29.541266Z",
     "iopub.status.busy": "2023-03-18T05:05:29.540727Z",
     "iopub.status.idle": "2023-03-18T05:05:29.633425Z",
     "shell.execute_reply": "2023-03-18T05:05:29.632367Z",
     "shell.execute_reply.started": "2023-03-18T05:05:29.541229Z"
    },
    "tags": []
   },
   "outputs": [
    {
     "name": "stdout",
     "output_type": "stream",
     "text": [
      "<class 'pandas.core.frame.DataFrame'>\n",
      "RangeIndex: 20000 entries, 0 to 19999\n",
      "Data columns (total 13 columns):\n",
      " #   Column      Non-Null Count  Dtype  \n",
      "---  ------      --------------  -----  \n",
      " 0   id          20000 non-null  int64  \n",
      " 1   sex         20000 non-null  object \n",
      " 2   bizflag     20000 non-null  int64  \n",
      " 3   zip         20000 non-null  int64  \n",
      " 4   zip_bins    20000 non-null  int64  \n",
      " 5   numords     20000 non-null  int64  \n",
      " 6   dollars     20000 non-null  float64\n",
      " 7   last        20000 non-null  int64  \n",
      " 8   sincepurch  20000 non-null  int64  \n",
      " 9   version1    20000 non-null  int64  \n",
      " 10  owntaxprod  20000 non-null  int64  \n",
      " 11  upgraded    20000 non-null  int64  \n",
      " 12  res1        20000 non-null  int64  \n",
      "dtypes: float64(1), int64(11), object(1)\n",
      "memory usage: 2.0+ MB\n"
     ]
    }
   ],
   "source": [
    "df.info()"
   ]
  },
  {
   "cell_type": "code",
   "execution_count": 6,
   "id": "9180be0e-eaa4-48dc-bb38-12af70a1c99c",
   "metadata": {
    "execution": {
     "iopub.execute_input": "2023-03-18T05:05:29.635731Z",
     "iopub.status.busy": "2023-03-18T05:05:29.635203Z",
     "iopub.status.idle": "2023-03-18T05:05:29.776490Z",
     "shell.execute_reply": "2023-03-18T05:05:29.775534Z",
     "shell.execute_reply.started": "2023-03-18T05:05:29.635696Z"
    },
    "tags": []
   },
   "outputs": [
    {
     "data": {
      "text/html": [
       "<div>\n",
       "<style scoped>\n",
       "    .dataframe tbody tr th:only-of-type {\n",
       "        vertical-align: middle;\n",
       "    }\n",
       "\n",
       "    .dataframe tbody tr th {\n",
       "        vertical-align: top;\n",
       "    }\n",
       "\n",
       "    .dataframe thead th {\n",
       "        text-align: right;\n",
       "    }\n",
       "</style>\n",
       "<table border=\"1\" class=\"dataframe\">\n",
       "  <thead>\n",
       "    <tr style=\"text-align: right;\">\n",
       "      <th></th>\n",
       "      <th>id</th>\n",
       "      <th>bizflag</th>\n",
       "      <th>zip</th>\n",
       "      <th>zip_bins</th>\n",
       "      <th>numords</th>\n",
       "      <th>dollars</th>\n",
       "      <th>last</th>\n",
       "      <th>sincepurch</th>\n",
       "      <th>version1</th>\n",
       "      <th>owntaxprod</th>\n",
       "      <th>upgraded</th>\n",
       "      <th>res1</th>\n",
       "    </tr>\n",
       "  </thead>\n",
       "  <tbody>\n",
       "    <tr>\n",
       "      <th>count</th>\n",
       "      <td>20000.000000</td>\n",
       "      <td>20000.000000</td>\n",
       "      <td>20000.0000</td>\n",
       "      <td>20000.000000</td>\n",
       "      <td>20000.000000</td>\n",
       "      <td>20000.000000</td>\n",
       "      <td>20000.000000</td>\n",
       "      <td>20000.000000</td>\n",
       "      <td>20000.000000</td>\n",
       "      <td>20000.000000</td>\n",
       "      <td>20000.000000</td>\n",
       "      <td>20000.000000</td>\n",
       "    </tr>\n",
       "    <tr>\n",
       "      <th>mean</th>\n",
       "      <td>10000.500000</td>\n",
       "      <td>0.244400</td>\n",
       "      <td>54350.2613</td>\n",
       "      <td>10.499000</td>\n",
       "      <td>2.079450</td>\n",
       "      <td>93.581000</td>\n",
       "      <td>15.779650</td>\n",
       "      <td>15.751400</td>\n",
       "      <td>0.208250</td>\n",
       "      <td>0.027100</td>\n",
       "      <td>0.215600</td>\n",
       "      <td>0.048050</td>\n",
       "    </tr>\n",
       "    <tr>\n",
       "      <th>std</th>\n",
       "      <td>5773.647028</td>\n",
       "      <td>0.429742</td>\n",
       "      <td>32776.4059</td>\n",
       "      <td>5.766755</td>\n",
       "      <td>1.246361</td>\n",
       "      <td>82.601398</td>\n",
       "      <td>9.527331</td>\n",
       "      <td>10.020435</td>\n",
       "      <td>0.406067</td>\n",
       "      <td>0.162379</td>\n",
       "      <td>0.411248</td>\n",
       "      <td>0.213877</td>\n",
       "    </tr>\n",
       "    <tr>\n",
       "      <th>min</th>\n",
       "      <td>1.000000</td>\n",
       "      <td>0.000000</td>\n",
       "      <td>0.0000</td>\n",
       "      <td>1.000000</td>\n",
       "      <td>1.000000</td>\n",
       "      <td>1.000000</td>\n",
       "      <td>1.000000</td>\n",
       "      <td>1.000000</td>\n",
       "      <td>0.000000</td>\n",
       "      <td>0.000000</td>\n",
       "      <td>0.000000</td>\n",
       "      <td>0.000000</td>\n",
       "    </tr>\n",
       "    <tr>\n",
       "      <th>25%</th>\n",
       "      <td>5000.750000</td>\n",
       "      <td>0.000000</td>\n",
       "      <td>23451.0000</td>\n",
       "      <td>5.000000</td>\n",
       "      <td>1.000000</td>\n",
       "      <td>37.000000</td>\n",
       "      <td>8.000000</td>\n",
       "      <td>7.000000</td>\n",
       "      <td>0.000000</td>\n",
       "      <td>0.000000</td>\n",
       "      <td>0.000000</td>\n",
       "      <td>0.000000</td>\n",
       "    </tr>\n",
       "    <tr>\n",
       "      <th>50%</th>\n",
       "      <td>10000.500000</td>\n",
       "      <td>0.000000</td>\n",
       "      <td>55402.5000</td>\n",
       "      <td>10.500000</td>\n",
       "      <td>2.000000</td>\n",
       "      <td>71.000000</td>\n",
       "      <td>15.000000</td>\n",
       "      <td>15.000000</td>\n",
       "      <td>0.000000</td>\n",
       "      <td>0.000000</td>\n",
       "      <td>0.000000</td>\n",
       "      <td>0.000000</td>\n",
       "    </tr>\n",
       "    <tr>\n",
       "      <th>75%</th>\n",
       "      <td>15000.250000</td>\n",
       "      <td>0.000000</td>\n",
       "      <td>89018.7500</td>\n",
       "      <td>15.250000</td>\n",
       "      <td>3.000000</td>\n",
       "      <td>124.500000</td>\n",
       "      <td>24.000000</td>\n",
       "      <td>24.000000</td>\n",
       "      <td>0.000000</td>\n",
       "      <td>0.000000</td>\n",
       "      <td>0.000000</td>\n",
       "      <td>0.000000</td>\n",
       "    </tr>\n",
       "    <tr>\n",
       "      <th>max</th>\n",
       "      <td>20000.000000</td>\n",
       "      <td>1.000000</td>\n",
       "      <td>99999.0000</td>\n",
       "      <td>20.000000</td>\n",
       "      <td>5.000000</td>\n",
       "      <td>937.500000</td>\n",
       "      <td>36.000000</td>\n",
       "      <td>36.000000</td>\n",
       "      <td>1.000000</td>\n",
       "      <td>1.000000</td>\n",
       "      <td>1.000000</td>\n",
       "      <td>1.000000</td>\n",
       "    </tr>\n",
       "  </tbody>\n",
       "</table>\n",
       "</div>"
      ],
      "text/plain": [
       "                 id       bizflag         zip      zip_bins       numords  \\\n",
       "count  20000.000000  20000.000000  20000.0000  20000.000000  20000.000000   \n",
       "mean   10000.500000      0.244400  54350.2613     10.499000      2.079450   \n",
       "std     5773.647028      0.429742  32776.4059      5.766755      1.246361   \n",
       "min        1.000000      0.000000      0.0000      1.000000      1.000000   \n",
       "25%     5000.750000      0.000000  23451.0000      5.000000      1.000000   \n",
       "50%    10000.500000      0.000000  55402.5000     10.500000      2.000000   \n",
       "75%    15000.250000      0.000000  89018.7500     15.250000      3.000000   \n",
       "max    20000.000000      1.000000  99999.0000     20.000000      5.000000   \n",
       "\n",
       "            dollars          last    sincepurch      version1    owntaxprod  \\\n",
       "count  20000.000000  20000.000000  20000.000000  20000.000000  20000.000000   \n",
       "mean      93.581000     15.779650     15.751400      0.208250      0.027100   \n",
       "std       82.601398      9.527331     10.020435      0.406067      0.162379   \n",
       "min        1.000000      1.000000      1.000000      0.000000      0.000000   \n",
       "25%       37.000000      8.000000      7.000000      0.000000      0.000000   \n",
       "50%       71.000000     15.000000     15.000000      0.000000      0.000000   \n",
       "75%      124.500000     24.000000     24.000000      0.000000      0.000000   \n",
       "max      937.500000     36.000000     36.000000      1.000000      1.000000   \n",
       "\n",
       "           upgraded          res1  \n",
       "count  20000.000000  20000.000000  \n",
       "mean       0.215600      0.048050  \n",
       "std        0.411248      0.213877  \n",
       "min        0.000000      0.000000  \n",
       "25%        0.000000      0.000000  \n",
       "50%        0.000000      0.000000  \n",
       "75%        0.000000      0.000000  \n",
       "max        1.000000      1.000000  "
      ]
     },
     "execution_count": 6,
     "metadata": {},
     "output_type": "execute_result"
    }
   ],
   "source": [
    "df.describe()"
   ]
  },
  {
   "cell_type": "code",
   "execution_count": 7,
   "id": "1e8d0342-5f3a-4c86-b219-56e8c97fb6c1",
   "metadata": {
    "execution": {
     "iopub.execute_input": "2023-03-18T05:05:29.778564Z",
     "iopub.status.busy": "2023-03-18T05:05:29.777881Z",
     "iopub.status.idle": "2023-03-18T05:05:29.860933Z",
     "shell.execute_reply": "2023-03-18T05:05:29.859790Z",
     "shell.execute_reply.started": "2023-03-18T05:05:29.778530Z"
    },
    "tags": []
   },
   "outputs": [
    {
     "data": {
      "text/html": [
       "<div>\n",
       "<style scoped>\n",
       "    .dataframe tbody tr th:only-of-type {\n",
       "        vertical-align: middle;\n",
       "    }\n",
       "\n",
       "    .dataframe tbody tr th {\n",
       "        vertical-align: top;\n",
       "    }\n",
       "\n",
       "    .dataframe thead th {\n",
       "        text-align: right;\n",
       "    }\n",
       "</style>\n",
       "<table border=\"1\" class=\"dataframe\">\n",
       "  <thead>\n",
       "    <tr style=\"text-align: right;\">\n",
       "      <th></th>\n",
       "      <th>Name</th>\n",
       "      <th>Count</th>\n",
       "      <th>Frequency</th>\n",
       "    </tr>\n",
       "  </thead>\n",
       "  <tbody>\n",
       "    <tr>\n",
       "      <th>0</th>\n",
       "      <td>0</td>\n",
       "      <td>19039</td>\n",
       "      <td>0.95195</td>\n",
       "    </tr>\n",
       "    <tr>\n",
       "      <th>1</th>\n",
       "      <td>1</td>\n",
       "      <td>961</td>\n",
       "      <td>0.04805</td>\n",
       "    </tr>\n",
       "  </tbody>\n",
       "</table>\n",
       "</div>"
      ],
      "text/plain": [
       "   Name  Count  Frequency\n",
       "0     0  19039    0.95195\n",
       "1     1    961    0.04805"
      ]
     },
     "execution_count": 7,
     "metadata": {},
     "output_type": "execute_result"
    }
   ],
   "source": [
    "## Number of positive labels in results\n",
    "\n",
    "mba263.tabulate(df['res1'])"
   ]
  },
  {
   "cell_type": "code",
   "execution_count": 8,
   "id": "eba5e26c-ba1f-414f-a731-a9327fc61bd8",
   "metadata": {
    "execution": {
     "iopub.execute_input": "2023-03-18T05:05:29.863387Z",
     "iopub.status.busy": "2023-03-18T05:05:29.862745Z",
     "iopub.status.idle": "2023-03-18T05:05:29.997114Z",
     "shell.execute_reply": "2023-03-18T05:05:29.995950Z",
     "shell.execute_reply.started": "2023-03-18T05:05:29.863349Z"
    }
   },
   "outputs": [
    {
     "data": {
      "text/html": [
       "<div>\n",
       "<style scoped>\n",
       "    .dataframe tbody tr th:only-of-type {\n",
       "        vertical-align: middle;\n",
       "    }\n",
       "\n",
       "    .dataframe tbody tr th {\n",
       "        vertical-align: top;\n",
       "    }\n",
       "\n",
       "    .dataframe thead th {\n",
       "        text-align: right;\n",
       "    }\n",
       "</style>\n",
       "<table border=\"1\" class=\"dataframe\">\n",
       "  <thead>\n",
       "    <tr style=\"text-align: right;\">\n",
       "      <th></th>\n",
       "      <th></th>\n",
       "      <th>cnt</th>\n",
       "    </tr>\n",
       "    <tr>\n",
       "      <th>upgraded</th>\n",
       "      <th>version1</th>\n",
       "      <th></th>\n",
       "    </tr>\n",
       "  </thead>\n",
       "  <tbody>\n",
       "    <tr>\n",
       "      <th rowspan=\"2\" valign=\"top\">0</th>\n",
       "      <th>0</th>\n",
       "      <td>11523</td>\n",
       "    </tr>\n",
       "    <tr>\n",
       "      <th>1</th>\n",
       "      <td>4165</td>\n",
       "    </tr>\n",
       "    <tr>\n",
       "      <th>1</th>\n",
       "      <th>0</th>\n",
       "      <td>4312</td>\n",
       "    </tr>\n",
       "  </tbody>\n",
       "</table>\n",
       "</div>"
      ],
      "text/plain": [
       "                     cnt\n",
       "upgraded version1       \n",
       "0        0         11523\n",
       "         1          4165\n",
       "1        0          4312"
      ]
     },
     "execution_count": 8,
     "metadata": {},
     "output_type": "execute_result"
    }
   ],
   "source": [
    "## Do all customers who upgraded have Quickbooks version 2?\n",
    "\n",
    "df.groupby(\n",
    "    [\n",
    "        'upgraded',\n",
    "        'version1',\n",
    "    ]\n",
    ").agg(\n",
    "    cnt=('id', 'count')\n",
    ")"
   ]
  },
  {
   "cell_type": "markdown",
   "id": "27a4901a-9bbb-41c7-bb32-43e21f10dc73",
   "metadata": {},
   "source": [
    "# "
   ]
  },
  {
   "cell_type": "markdown",
   "id": "2565cb53-ac88-41c5-9478-d8a87596790e",
   "metadata": {},
   "source": [
    "# Wrangling"
   ]
  },
  {
   "cell_type": "markdown",
   "id": "19bc166c-8186-4069-9082-f5bcf1d48bc5",
   "metadata": {},
   "source": [
    "#### Converting sex into dummy variables"
   ]
  },
  {
   "cell_type": "code",
   "execution_count": 9,
   "id": "87c670a1-7590-4236-987e-929cfc6de51f",
   "metadata": {
    "execution": {
     "iopub.execute_input": "2023-03-18T05:05:29.999423Z",
     "iopub.status.busy": "2023-03-18T05:05:29.998601Z",
     "iopub.status.idle": "2023-03-18T05:05:30.086135Z",
     "shell.execute_reply": "2023-03-18T05:05:30.084703Z",
     "shell.execute_reply.started": "2023-03-18T05:05:29.999384Z"
    },
    "tags": []
   },
   "outputs": [],
   "source": [
    "df = pd.concat(\n",
    "    [\n",
    "        df,\n",
    "        pd.get_dummies(df['sex'], prefix='sex', drop_first=True)\n",
    "    ],\n",
    "    axis=1\n",
    ")"
   ]
  },
  {
   "cell_type": "markdown",
   "id": "c1d18b22-fa0e-41f6-9adf-01477b697b04",
   "metadata": {},
   "source": [
    "# "
   ]
  },
  {
   "cell_type": "markdown",
   "id": "c828656b-dbb3-4ffc-bf89-87649d5d1d23",
   "metadata": {},
   "source": [
    "# Modeling\n",
    "- Models developed:\n",
    "    - M1: Logistic regression\n",
    "    - M2: "
   ]
  },
  {
   "cell_type": "markdown",
   "id": "abb22271-32dd-42f0-bd3c-65764ce8777e",
   "metadata": {},
   "source": [
    "## M1: Logistic regression"
   ]
  },
  {
   "cell_type": "markdown",
   "id": "8dd40138-005c-4244-a887-90ed9dcad48e",
   "metadata": {},
   "source": [
    "#### Model"
   ]
  },
  {
   "cell_type": "code",
   "execution_count": 10,
   "id": "d0cffe05-6542-4207-8a3d-575ce9652f6b",
   "metadata": {
    "execution": {
     "iopub.execute_input": "2023-03-18T05:05:30.088266Z",
     "iopub.status.busy": "2023-03-18T05:05:30.087693Z",
     "iopub.status.idle": "2023-03-18T05:05:30.171068Z",
     "shell.execute_reply": "2023-03-18T05:05:30.170100Z",
     "shell.execute_reply.started": "2023-03-18T05:05:30.088230Z"
    },
    "tags": []
   },
   "outputs": [],
   "source": [
    "dfm1 = df.copy()"
   ]
  },
  {
   "cell_type": "code",
   "execution_count": 11,
   "id": "45ce2aa0-4e9e-4508-8a63-6edbe474c160",
   "metadata": {
    "execution": {
     "iopub.execute_input": "2023-03-18T05:05:30.173154Z",
     "iopub.status.busy": "2023-03-18T05:05:30.172735Z",
     "iopub.status.idle": "2023-03-18T05:05:30.246042Z",
     "shell.execute_reply": "2023-03-18T05:05:30.245033Z",
     "shell.execute_reply.started": "2023-03-18T05:05:30.173118Z"
    },
    "tags": []
   },
   "outputs": [],
   "source": [
    "## Defining label and features for the model\n",
    "\n",
    "m1_l = ['res1']\n",
    "\n",
    "m1_f = [\n",
    "    # 'id',\n",
    "    # 'sex',\n",
    "    'sex_F',\n",
    "    'sex_M',\n",
    "    'sex_U',\n",
    "    'bizflag',\n",
    "    # 'zip',\n",
    "    'zip_bins',\n",
    "    'numords',\n",
    "    'dollars',\n",
    "    'last',\n",
    "    'sincepurch',\n",
    "    'version1',\n",
    "    'owntaxprod',\n",
    "    'upgraded',\n",
    "]"
   ]
  },
  {
   "cell_type": "code",
   "execution_count": 12,
   "id": "25f27955-b342-4d3f-852c-ef762ca3d33d",
   "metadata": {
    "execution": {
     "iopub.execute_input": "2023-03-18T05:05:30.248112Z",
     "iopub.status.busy": "2023-03-18T05:05:30.247667Z",
     "iopub.status.idle": "2023-03-18T05:05:30.394218Z",
     "shell.execute_reply": "2023-03-18T05:05:30.392679Z",
     "shell.execute_reply.started": "2023-03-18T05:05:30.248079Z"
    },
    "tags": []
   },
   "outputs": [
    {
     "name": "stdout",
     "output_type": "stream",
     "text": [
      "Optimization terminated successfully.\n",
      "         Current function value: 0.178707\n",
      "         Iterations 8\n"
     ]
    }
   ],
   "source": [
    "m1 = mba263.logit(\n",
    "    dfm1[m1_l],\n",
    "    dfm1[m1_f]\n",
    ")"
   ]
  },
  {
   "cell_type": "markdown",
   "id": "6e4d15f5-4fdb-45af-931b-69a05b6684ad",
   "metadata": {
    "jp-MarkdownHeadingCollapsed": true,
    "tags": []
   },
   "source": [
    "#### Coefficients"
   ]
  },
  {
   "cell_type": "code",
   "execution_count": 13,
   "id": "0be78401-5e12-4638-83e3-ac50ad2465db",
   "metadata": {
    "execution": {
     "iopub.execute_input": "2023-03-18T05:05:30.397195Z",
     "iopub.status.busy": "2023-03-18T05:05:30.396537Z",
     "iopub.status.idle": "2023-03-18T05:05:30.580972Z",
     "shell.execute_reply": "2023-03-18T05:05:30.579741Z",
     "shell.execute_reply.started": "2023-03-18T05:05:30.397148Z"
    },
    "scrolled": true,
    "tags": []
   },
   "outputs": [
    {
     "data": {
      "text/html": [
       "<table class=\"simpletable\">\n",
       "<caption>Mba263Logit Regression Results</caption>\n",
       "<tr>\n",
       "  <th>Dep. Variable:</th>         <td>res1</td>       <th>  No. Observations:  </th>   <td> 20000</td>  \n",
       "</tr>\n",
       "<tr>\n",
       "  <th>Model:</th>              <td>Mba263Logit</td>   <th>  Df Residuals:      </th>   <td> 19987</td>  \n",
       "</tr>\n",
       "<tr>\n",
       "  <th>Method:</th>                 <td>MLE</td>       <th>  Df Model:          </th>   <td>    12</td>  \n",
       "</tr>\n",
       "<tr>\n",
       "  <th>Date:</th>            <td>Fri, 17 Mar 2023</td> <th>  Pseudo R-squ.:     </th>   <td>0.07278</td> \n",
       "</tr>\n",
       "<tr>\n",
       "  <th>Time:</th>                <td>22:05:30</td>     <th>  Log-Likelihood:    </th>  <td> -3574.1</td> \n",
       "</tr>\n",
       "<tr>\n",
       "  <th>converged:</th>             <td>True</td>       <th>  LL-Null:           </th>  <td> -3854.7</td> \n",
       "</tr>\n",
       "<tr>\n",
       "  <th>Covariance Type:</th>     <td>nonrobust</td>    <th>  LLR p-value:       </th> <td>2.165e-112</td>\n",
       "</tr>\n",
       "</table>\n",
       "<table class=\"simpletable\">\n",
       "<tr>\n",
       "       <td></td>         <th>coef</th>     <th>std err</th>      <th>z</th>      <th>P>|z|</th>  <th>[0.025</th>    <th>0.975]</th>  \n",
       "</tr>\n",
       "<tr>\n",
       "  <th>const</th>      <td>   -2.1723</td> <td>    0.619</td> <td>   -3.512</td> <td> 0.000</td> <td>   -3.385</td> <td>   -0.960</td>\n",
       "</tr>\n",
       "<tr>\n",
       "  <th>sex_F</th>      <td>   -0.7015</td> <td>    0.613</td> <td>   -1.144</td> <td> 0.253</td> <td>   -1.904</td> <td>    0.501</td>\n",
       "</tr>\n",
       "<tr>\n",
       "  <th>sex_M</th>      <td>   -0.5670</td> <td>    0.609</td> <td>   -0.930</td> <td> 0.352</td> <td>   -1.762</td> <td>    0.628</td>\n",
       "</tr>\n",
       "<tr>\n",
       "  <th>sex_U</th>      <td>   -0.6022</td> <td>    0.617</td> <td>   -0.975</td> <td> 0.329</td> <td>   -1.812</td> <td>    0.608</td>\n",
       "</tr>\n",
       "<tr>\n",
       "  <th>bizflag</th>    <td>   -0.1160</td> <td>    0.086</td> <td>   -1.351</td> <td> 0.177</td> <td>   -0.284</td> <td>    0.052</td>\n",
       "</tr>\n",
       "<tr>\n",
       "  <th>zip_bins</th>   <td>   -0.0575</td> <td>    0.006</td> <td>   -9.559</td> <td> 0.000</td> <td>   -0.069</td> <td>   -0.046</td>\n",
       "</tr>\n",
       "<tr>\n",
       "  <th>numords</th>    <td>    0.1996</td> <td>    0.030</td> <td>    6.656</td> <td> 0.000</td> <td>    0.141</td> <td>    0.258</td>\n",
       "</tr>\n",
       "<tr>\n",
       "  <th>dollars</th>    <td>    0.0010</td> <td>    0.000</td> <td>    2.547</td> <td> 0.011</td> <td>    0.000</td> <td>    0.002</td>\n",
       "</tr>\n",
       "<tr>\n",
       "  <th>last</th>       <td>   -0.0499</td> <td>    0.004</td> <td>  -12.708</td> <td> 0.000</td> <td>   -0.058</td> <td>   -0.042</td>\n",
       "</tr>\n",
       "<tr>\n",
       "  <th>sincepurch</th> <td>    0.0072</td> <td>    0.006</td> <td>    1.146</td> <td> 0.252</td> <td>   -0.005</td> <td>    0.020</td>\n",
       "</tr>\n",
       "<tr>\n",
       "  <th>version1</th>   <td>    0.6196</td> <td>    0.138</td> <td>    4.489</td> <td> 0.000</td> <td>    0.349</td> <td>    0.890</td>\n",
       "</tr>\n",
       "<tr>\n",
       "  <th>owntaxprod</th> <td>    0.0435</td> <td>    0.184</td> <td>    0.236</td> <td> 0.814</td> <td>   -0.318</td> <td>    0.405</td>\n",
       "</tr>\n",
       "<tr>\n",
       "  <th>upgraded</th>   <td>    0.7524</td> <td>    0.135</td> <td>    5.575</td> <td> 0.000</td> <td>    0.488</td> <td>    1.017</td>\n",
       "</tr>\n",
       "</table>"
      ],
      "text/plain": [
       "<class 'statsmodels.iolib.summary.Summary'>\n",
       "\"\"\"\n",
       "                        Mba263Logit Regression Results                        \n",
       "==============================================================================\n",
       "Dep. Variable:                   res1   No. Observations:                20000\n",
       "Model:                    Mba263Logit   Df Residuals:                    19987\n",
       "Method:                           MLE   Df Model:                           12\n",
       "Date:                Fri, 17 Mar 2023   Pseudo R-squ.:                 0.07278\n",
       "Time:                        22:05:30   Log-Likelihood:                -3574.1\n",
       "converged:                       True   LL-Null:                       -3854.7\n",
       "Covariance Type:            nonrobust   LLR p-value:                2.165e-112\n",
       "==============================================================================\n",
       "                 coef    std err          z      P>|z|      [0.025      0.975]\n",
       "------------------------------------------------------------------------------\n",
       "const         -2.1723      0.619     -3.512      0.000      -3.385      -0.960\n",
       "sex_F         -0.7015      0.613     -1.144      0.253      -1.904       0.501\n",
       "sex_M         -0.5670      0.609     -0.930      0.352      -1.762       0.628\n",
       "sex_U         -0.6022      0.617     -0.975      0.329      -1.812       0.608\n",
       "bizflag       -0.1160      0.086     -1.351      0.177      -0.284       0.052\n",
       "zip_bins      -0.0575      0.006     -9.559      0.000      -0.069      -0.046\n",
       "numords        0.1996      0.030      6.656      0.000       0.141       0.258\n",
       "dollars        0.0010      0.000      2.547      0.011       0.000       0.002\n",
       "last          -0.0499      0.004    -12.708      0.000      -0.058      -0.042\n",
       "sincepurch     0.0072      0.006      1.146      0.252      -0.005       0.020\n",
       "version1       0.6196      0.138      4.489      0.000       0.349       0.890\n",
       "owntaxprod     0.0435      0.184      0.236      0.814      -0.318       0.405\n",
       "upgraded       0.7524      0.135      5.575      0.000       0.488       1.017\n",
       "==============================================================================\n",
       "\"\"\""
      ]
     },
     "execution_count": 13,
     "metadata": {},
     "output_type": "execute_result"
    }
   ],
   "source": [
    "m1.summary()"
   ]
  },
  {
   "cell_type": "code",
   "execution_count": 14,
   "id": "be02f9a4-e71b-4d54-89b4-9bbffaa3ad75",
   "metadata": {
    "execution": {
     "iopub.execute_input": "2023-03-18T05:05:30.590970Z",
     "iopub.status.busy": "2023-03-18T05:05:30.590504Z",
     "iopub.status.idle": "2023-03-18T05:05:30.676792Z",
     "shell.execute_reply": "2023-03-18T05:05:30.675601Z",
     "shell.execute_reply.started": "2023-03-18T05:05:30.590939Z"
    },
    "tags": []
   },
   "outputs": [
    {
     "data": {
      "text/html": [
       "<div>\n",
       "<style scoped>\n",
       "    .dataframe tbody tr th:only-of-type {\n",
       "        vertical-align: middle;\n",
       "    }\n",
       "\n",
       "    .dataframe tbody tr th {\n",
       "        vertical-align: top;\n",
       "    }\n",
       "\n",
       "    .dataframe thead th {\n",
       "        text-align: right;\n",
       "    }\n",
       "</style>\n",
       "<table border=\"1\" class=\"dataframe\">\n",
       "  <thead>\n",
       "    <tr style=\"text-align: right;\">\n",
       "      <th></th>\n",
       "      <th>Odds ratios</th>\n",
       "      <th>std err</th>\n",
       "      <th>z</th>\n",
       "      <th>P&gt;|z|</th>\n",
       "      <th>[0.025</th>\n",
       "      <th>0.975]</th>\n",
       "    </tr>\n",
       "  </thead>\n",
       "  <tbody>\n",
       "    <tr>\n",
       "      <th>sex_F</th>\n",
       "      <td>0.495844</td>\n",
       "      <td>0.304126</td>\n",
       "      <td>1.657723</td>\n",
       "      <td>0.097</td>\n",
       "      <td>-0.094160</td>\n",
       "      <td>1.085848</td>\n",
       "    </tr>\n",
       "    <tr>\n",
       "      <th>sex_M</th>\n",
       "      <td>0.567209</td>\n",
       "      <td>0.345712</td>\n",
       "      <td>1.251885</td>\n",
       "      <td>0.211</td>\n",
       "      <td>-0.103473</td>\n",
       "      <td>1.237890</td>\n",
       "    </tr>\n",
       "    <tr>\n",
       "      <th>sex_U</th>\n",
       "      <td>0.547582</td>\n",
       "      <td>0.338092</td>\n",
       "      <td>1.338151</td>\n",
       "      <td>0.181</td>\n",
       "      <td>-0.108317</td>\n",
       "      <td>1.203480</td>\n",
       "    </tr>\n",
       "    <tr>\n",
       "      <th>bizflag</th>\n",
       "      <td>0.890497</td>\n",
       "      <td>0.076430</td>\n",
       "      <td>1.432720</td>\n",
       "      <td>0.152</td>\n",
       "      <td>0.742222</td>\n",
       "      <td>1.038771</td>\n",
       "    </tr>\n",
       "    <tr>\n",
       "      <th>zip_bins</th>\n",
       "      <td>0.944158</td>\n",
       "      <td>0.005676</td>\n",
       "      <td>9.838666</td>\n",
       "      <td>0.000</td>\n",
       "      <td>0.933147</td>\n",
       "      <td>0.955169</td>\n",
       "    </tr>\n",
       "    <tr>\n",
       "      <th>numords</th>\n",
       "      <td>1.220947</td>\n",
       "      <td>0.036620</td>\n",
       "      <td>6.033489</td>\n",
       "      <td>0.000</td>\n",
       "      <td>1.149904</td>\n",
       "      <td>1.291989</td>\n",
       "    </tr>\n",
       "    <tr>\n",
       "      <th>dollars</th>\n",
       "      <td>1.001048</td>\n",
       "      <td>0.000412</td>\n",
       "      <td>2.546071</td>\n",
       "      <td>0.011</td>\n",
       "      <td>1.000249</td>\n",
       "      <td>1.001847</td>\n",
       "    </tr>\n",
       "    <tr>\n",
       "      <th>last</th>\n",
       "      <td>0.951346</td>\n",
       "      <td>0.003734</td>\n",
       "      <td>13.030364</td>\n",
       "      <td>0.000</td>\n",
       "      <td>0.944102</td>\n",
       "      <td>0.958590</td>\n",
       "    </tr>\n",
       "    <tr>\n",
       "      <th>sincepurch</th>\n",
       "      <td>1.007236</td>\n",
       "      <td>0.006339</td>\n",
       "      <td>1.141456</td>\n",
       "      <td>0.254</td>\n",
       "      <td>0.994938</td>\n",
       "      <td>1.019535</td>\n",
       "    </tr>\n",
       "    <tr>\n",
       "      <th>version1</th>\n",
       "      <td>1.858156</td>\n",
       "      <td>0.256472</td>\n",
       "      <td>3.345998</td>\n",
       "      <td>0.001</td>\n",
       "      <td>1.360599</td>\n",
       "      <td>2.355712</td>\n",
       "    </tr>\n",
       "    <tr>\n",
       "      <th>owntaxprod</th>\n",
       "      <td>1.044427</td>\n",
       "      <td>0.192582</td>\n",
       "      <td>0.230689</td>\n",
       "      <td>0.818</td>\n",
       "      <td>0.670818</td>\n",
       "      <td>1.418035</td>\n",
       "    </tr>\n",
       "    <tr>\n",
       "      <th>upgraded</th>\n",
       "      <td>2.122080</td>\n",
       "      <td>0.286402</td>\n",
       "      <td>3.917845</td>\n",
       "      <td>0.000</td>\n",
       "      <td>1.566459</td>\n",
       "      <td>2.677700</td>\n",
       "    </tr>\n",
       "  </tbody>\n",
       "</table>\n",
       "</div>"
      ],
      "text/plain": [
       "            Odds ratios   std err          z  P>|z|    [0.025    0.975]\n",
       "sex_F          0.495844  0.304126   1.657723  0.097 -0.094160  1.085848\n",
       "sex_M          0.567209  0.345712   1.251885  0.211 -0.103473  1.237890\n",
       "sex_U          0.547582  0.338092   1.338151  0.181 -0.108317  1.203480\n",
       "bizflag        0.890497  0.076430   1.432720  0.152  0.742222  1.038771\n",
       "zip_bins       0.944158  0.005676   9.838666  0.000  0.933147  0.955169\n",
       "numords        1.220947  0.036620   6.033489  0.000  1.149904  1.291989\n",
       "dollars        1.001048  0.000412   2.546071  0.011  1.000249  1.001847\n",
       "last           0.951346  0.003734  13.030364  0.000  0.944102  0.958590\n",
       "sincepurch     1.007236  0.006339   1.141456  0.254  0.994938  1.019535\n",
       "version1       1.858156  0.256472   3.345998  0.001  1.360599  2.355712\n",
       "owntaxprod     1.044427  0.192582   0.230689  0.818  0.670818  1.418035\n",
       "upgraded       2.122080  0.286402   3.917845  0.000  1.566459  2.677700"
      ]
     },
     "execution_count": 14,
     "metadata": {},
     "output_type": "execute_result"
    }
   ],
   "source": [
    "mba263.odds_ratios(m1)"
   ]
  },
  {
   "cell_type": "markdown",
   "id": "28bfe391-063e-4748-92ba-3d7c62abfa20",
   "metadata": {},
   "source": [
    "#### Predictions"
   ]
  },
  {
   "cell_type": "code",
   "execution_count": 15,
   "id": "e8d9ca76-de0a-46b9-8c7d-2178cef2308e",
   "metadata": {
    "execution": {
     "iopub.execute_input": "2023-03-18T05:05:30.678829Z",
     "iopub.status.busy": "2023-03-18T05:05:30.678392Z",
     "iopub.status.idle": "2023-03-18T05:05:30.752364Z",
     "shell.execute_reply": "2023-03-18T05:05:30.750863Z",
     "shell.execute_reply.started": "2023-03-18T05:05:30.678796Z"
    },
    "tags": []
   },
   "outputs": [],
   "source": [
    "dfm1['m1_pred_prob'] = m1.predict(exog=dfm1[m1_f])"
   ]
  },
  {
   "cell_type": "markdown",
   "id": "6a7eb3e3-5e3a-4302-9020-f9248539d352",
   "metadata": {},
   "source": [
    "###### "
   ]
  },
  {
   "cell_type": "markdown",
   "id": "aee73a88-9b6b-459a-833c-7ab59b191909",
   "metadata": {},
   "source": [
    "## M2: Neural network"
   ]
  },
  {
   "cell_type": "markdown",
   "id": "25274215-d0fd-4637-94b6-5fc4df59df04",
   "metadata": {},
   "source": [
    "#### Model"
   ]
  },
  {
   "cell_type": "code",
   "execution_count": 16,
   "id": "e46b8ce6-3f60-4213-af6e-68a717c996fc",
   "metadata": {
    "execution": {
     "iopub.execute_input": "2023-03-18T05:05:30.755391Z",
     "iopub.status.busy": "2023-03-18T05:05:30.754702Z",
     "iopub.status.idle": "2023-03-18T05:05:30.836925Z",
     "shell.execute_reply": "2023-03-18T05:05:30.835411Z",
     "shell.execute_reply.started": "2023-03-18T05:05:30.755351Z"
    },
    "tags": []
   },
   "outputs": [],
   "source": [
    "dfm2 = df.copy()"
   ]
  },
  {
   "cell_type": "code",
   "execution_count": 17,
   "id": "aa866dea-3628-47bb-b60c-c9ee9ec415b9",
   "metadata": {
    "execution": {
     "iopub.execute_input": "2023-03-18T05:05:30.839512Z",
     "iopub.status.busy": "2023-03-18T05:05:30.838929Z",
     "iopub.status.idle": "2023-03-18T05:05:30.913366Z",
     "shell.execute_reply": "2023-03-18T05:05:30.911167Z",
     "shell.execute_reply.started": "2023-03-18T05:05:30.839481Z"
    },
    "tags": []
   },
   "outputs": [],
   "source": [
    "## Defining label and features for the model\n",
    "\n",
    "m2_l = ['res1']\n",
    "\n",
    "m2_f = [\n",
    "    # 'id',\n",
    "    # 'sex',\n",
    "    'sex_F',\n",
    "    'sex_M',\n",
    "    'sex_U',\n",
    "    'bizflag',\n",
    "    # 'zip',\n",
    "    'zip_bins',\n",
    "    'numords',\n",
    "    'dollars',\n",
    "    'last',\n",
    "    'sincepurch',\n",
    "    'version1',\n",
    "    'owntaxprod',\n",
    "    'upgraded',\n",
    "]"
   ]
  },
  {
   "cell_type": "code",
   "execution_count": 18,
   "id": "50ad8ce3-30da-4bc0-b327-67dd2dcc7365",
   "metadata": {
    "execution": {
     "iopub.execute_input": "2023-03-18T05:05:30.915738Z",
     "iopub.status.busy": "2023-03-18T05:05:30.915101Z",
     "iopub.status.idle": "2023-03-18T05:05:32.636659Z",
     "shell.execute_reply": "2023-03-18T05:05:32.635413Z",
     "shell.execute_reply.started": "2023-03-18T05:05:30.915701Z"
    },
    "tags": []
   },
   "outputs": [],
   "source": [
    "m2 = mba263.neural_network(\n",
    "    dfm1[m1_l],\n",
    "    dfm1[m1_f]\n",
    ")"
   ]
  },
  {
   "cell_type": "markdown",
   "id": "34605947-4b29-4a28-9e29-f16d2f1c7bac",
   "metadata": {},
   "source": [
    "#### Coefficients"
   ]
  },
  {
   "cell_type": "markdown",
   "id": "32c3dbce-cb68-45dd-aae3-9d5989e90076",
   "metadata": {},
   "source": [
    "#### Predictions"
   ]
  },
  {
   "cell_type": "code",
   "execution_count": 19,
   "id": "da310cb7-a6d7-46f2-8fa5-af0380d0a635",
   "metadata": {
    "execution": {
     "iopub.execute_input": "2023-03-18T05:05:32.639414Z",
     "iopub.status.busy": "2023-03-18T05:05:32.638517Z",
     "iopub.status.idle": "2023-03-18T05:05:32.732783Z",
     "shell.execute_reply": "2023-03-18T05:05:32.731525Z",
     "shell.execute_reply.started": "2023-03-18T05:05:32.639368Z"
    },
    "tags": []
   },
   "outputs": [],
   "source": [
    "dfm2['m2_pred_prob'] = m2.predict(dfm1[m1_f])"
   ]
  },
  {
   "cell_type": "markdown",
   "id": "c319347b-e0dc-4ed8-b9d5-eb8288f78d72",
   "metadata": {},
   "source": [
    "###### "
   ]
  },
  {
   "cell_type": "markdown",
   "id": "2b203e37-d64e-409e-bd12-13b443c17a8f",
   "metadata": {},
   "source": [
    "## M3: Logistic regression with regularization"
   ]
  },
  {
   "cell_type": "code",
   "execution_count": null,
   "id": "cf644c14-ab64-4b5c-b771-fc9bcc8e8dd7",
   "metadata": {},
   "outputs": [],
   "source": []
  },
  {
   "cell_type": "markdown",
   "id": "6b22bce8-b81a-43df-8886-adce639813b5",
   "metadata": {},
   "source": [
    "# "
   ]
  },
  {
   "cell_type": "markdown",
   "id": "e3e6269d-4b66-4155-8510-8b6dc4cb2ad1",
   "metadata": {},
   "source": [
    "# Results exploration"
   ]
  },
  {
   "cell_type": "markdown",
   "id": "183537a0-89c5-4c6e-99e7-d622366bbf13",
   "metadata": {},
   "source": [
    "### Probability predictions distribution based on results"
   ]
  },
  {
   "cell_type": "markdown",
   "id": "13e44388-1440-409d-b896-f2637afc6412",
   "metadata": {
    "jp-MarkdownHeadingCollapsed": true,
    "tags": []
   },
   "source": [
    "##### Model 1: Logistic regression"
   ]
  },
  {
   "cell_type": "code",
   "execution_count": null,
   "id": "2b14f920-0d70-4623-905e-daa538b9c888",
   "metadata": {
    "tags": []
   },
   "outputs": [],
   "source": [
    "fig = px.box(dfm1, x=\"res1\", y=round(dfm1['m1_pred_prob'], 4))\n",
    "fig.show()"
   ]
  },
  {
   "cell_type": "code",
   "execution_count": null,
   "id": "f236a4b0-c742-4188-bbd8-b8b8ed7ee5d8",
   "metadata": {
    "tags": []
   },
   "outputs": [],
   "source": [
    "fig = px.histogram(\n",
    "    dfm1, \n",
    "    x=\"m1_pred_prob\", \n",
    "    color=\"res1\", \n",
    "    nbins=200,\n",
    "    marginal='rug',\n",
    "    histnorm='probability',\n",
    "    barmode='overlay'\n",
    ")\n",
    "\n",
    "fig.show()"
   ]
  },
  {
   "cell_type": "markdown",
   "id": "187d1c5f-2954-496c-bb26-4eb8fbe8a6c6",
   "metadata": {
    "jp-MarkdownHeadingCollapsed": true,
    "tags": []
   },
   "source": [
    "##### Model 2: Neural network"
   ]
  },
  {
   "cell_type": "code",
   "execution_count": null,
   "id": "f6a7272e-ca2e-4415-9a28-3224fcd04f03",
   "metadata": {
    "tags": []
   },
   "outputs": [],
   "source": [
    "fig = px.box(dfm2, x=\"res1\", y=round(dfm2['m2_pred_prob'], 4))\n",
    "fig.show()"
   ]
  },
  {
   "cell_type": "code",
   "execution_count": null,
   "id": "1990ff7b-daf4-4809-a9b8-939e8d4528ef",
   "metadata": {
    "tags": []
   },
   "outputs": [],
   "source": [
    "fig = px.histogram(\n",
    "    dfm2, \n",
    "    x=\"m2_pred_prob\", \n",
    "    color=\"res1\", \n",
    "    nbins=200,\n",
    "    marginal='rug',\n",
    "    histnorm='probability',\n",
    "    barmode='overlay'\n",
    ")\n",
    "\n",
    "fig.show()"
   ]
  },
  {
   "cell_type": "markdown",
   "id": "15a8d589-389e-4968-82a1-d59737eb7f82",
   "metadata": {},
   "source": [
    "### Gains"
   ]
  },
  {
   "cell_type": "code",
   "execution_count": null,
   "id": "1d386e15-9c2f-4ab2-b3e4-6b65a668ee3b",
   "metadata": {
    "tags": []
   },
   "outputs": [],
   "source": [
    "m1_gain = mba263.gain(dfm1['res1'], dfm1['m1_pred_prob'], bins=30)\n",
    "m2_gain = mba263.gain(dfm2['res1'], dfm2['m2_pred_prob'], bins=30)"
   ]
  },
  {
   "cell_type": "code",
   "execution_count": null,
   "id": "f4f36825-8ab8-46e8-b007-f8bedb04de6f",
   "metadata": {
    "tags": []
   },
   "outputs": [],
   "source": [
    "plt.plot(m1_gain)\n",
    "plt.plot(m2_gain)\n",
    "plt.plot([0,30],[0,1],'b')"
   ]
  },
  {
   "cell_type": "markdown",
   "id": "ff7bc15c-00d0-45a9-9a23-e223d2d19aa3",
   "metadata": {},
   "source": [
    "### Profit estimation\n",
    "Calculate the best threshold to define a category and estimate values accordingly"
   ]
  },
  {
   "cell_type": "markdown",
   "id": "1c615e26-cc74-4175-8a60-827a8936aa06",
   "metadata": {},
   "source": [
    "# "
   ]
  },
  {
   "cell_type": "markdown",
   "id": "784be4db-1c06-43e0-a4da-86b1bbcde318",
   "metadata": {},
   "source": [
    "# *Notes*"
   ]
  },
  {
   "cell_type": "markdown",
   "id": "fe43b0e6-ac5e-40c7-98e8-ccb452abf50a",
   "metadata": {},
   "source": [
    "#### Validating the break even response"
   ]
  },
  {
   "cell_type": "code",
   "execution_count": 21,
   "id": "6d142bc9-9548-41f6-a575-f5f4df387d2c",
   "metadata": {
    "execution": {
     "iopub.execute_input": "2023-03-18T05:11:12.777548Z",
     "iopub.status.busy": "2023-03-18T05:11:12.777090Z",
     "iopub.status.idle": "2023-03-18T05:11:12.847513Z",
     "shell.execute_reply": "2023-03-18T05:11:12.844911Z",
     "shell.execute_reply.started": "2023-03-18T05:11:12.777504Z"
    }
   },
   "outputs": [
    {
     "data": {
      "text/plain": [
       "0.0"
      ]
     },
     "execution_count": 21,
     "metadata": {},
     "output_type": "execute_result"
    }
   ],
   "source": [
    "60*100*0.0235 - 100*1.41"
   ]
  },
  {
   "cell_type": "markdown",
   "id": "1735d9f0-497b-426f-923a-f1de24224c4c",
   "metadata": {},
   "source": [
    "#### Validating the income generated by first wave"
   ]
  },
  {
   "cell_type": "code",
   "execution_count": null,
   "id": "7d5b50d1-5725-4707-b2a4-30c2cf08fd81",
   "metadata": {},
   "outputs": [],
   "source": [
    "cust_tot = 801821"
   ]
  },
  {
   "cell_type": "code",
   "execution_count": null,
   "id": "5bc01a8a-0573-4500-907f-802d91467f60",
   "metadata": {},
   "outputs": [],
   "source": []
  },
  {
   "cell_type": "markdown",
   "id": "5ae0ef8b-d1f8-4e2a-801a-a42263dc5c59",
   "metadata": {},
   "source": [
    "#### Plotly express histogram documentation"
   ]
  },
  {
   "cell_type": "markdown",
   "id": "89b7ab1e-65d2-493d-ad77-0fb806e11969",
   "metadata": {},
   "source": [
    "histnorm: str (default `None`)\n",
    "    One of `'percent'`, `'probability'`, `'density'`, or `'probability\n",
    "    density'` If `None`, the output of `histfunc` is used as is. If\n",
    "    `'probability'`, the output of `histfunc` for a given bin is divided by\n",
    "    the sum of the output of `histfunc` for all bins. If `'percent'`, the\n",
    "    output of `histfunc` for a given bin is divided by the sum of the\n",
    "    output of `histfunc` for all bins and multiplied by 100. If\n",
    "    `'density'`, the output of `histfunc` for a given bin is divided by the\n",
    "    size of the bin. If `'probability density'`, the output of `histfunc`\n",
    "    for a given bin is normalized such that it corresponds to the\n",
    "    probability that a random event whose distribution is described by the\n",
    "    output of `histfunc` will fall into that bin."
   ]
  },
  {
   "cell_type": "markdown",
   "id": "b34c662c-f724-412f-86d7-75647d9b5448",
   "metadata": {},
   "source": [
    "---"
   ]
  },
  {
   "cell_type": "markdown",
   "id": "168089c7-257b-4b61-9a65-803e32753196",
   "metadata": {},
   "source": [
    "---"
   ]
  }
 ],
 "metadata": {
  "kernelspec": {
   "display_name": "Python 3 (ipykernel)",
   "language": "python",
   "name": "python3"
  },
  "language_info": {
   "codemirror_mode": {
    "name": "ipython",
    "version": 3
   },
   "file_extension": ".py",
   "mimetype": "text/x-python",
   "name": "python",
   "nbconvert_exporter": "python",
   "pygments_lexer": "ipython3",
   "version": "3.9.1"
  },
  "toc-autonumbering": true
 },
 "nbformat": 4,
 "nbformat_minor": 5
}
