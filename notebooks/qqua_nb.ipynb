{
 "cells": [
  {
   "cell_type": "markdown",
   "id": "82c1d7a8-d74e-45e1-8937-264331e6d38a",
   "metadata": {},
   "source": [
    "# Quicken Quickbooks Upgrade Assignment\n",
    "- Rob's solutions"
   ]
  },
  {
   "cell_type": "markdown",
   "id": "6c0aef40-55d3-4226-a218-2c63828b1646",
   "metadata": {},
   "source": [
    "# "
   ]
  },
  {
   "cell_type": "markdown",
   "id": "4154f37d-fde6-4cef-8617-114a3a2d7d8e",
   "metadata": {
    "tags": []
   },
   "source": [
    "# Imports"
   ]
  },
  {
   "cell_type": "markdown",
   "id": "a98dbaa6-17e1-4b79-93f0-d142aedd0037",
   "metadata": {
    "tags": []
   },
   "source": [
    "#### Standard library imports"
   ]
  },
  {
   "cell_type": "code",
   "execution_count": 1,
   "id": "63099808-51cd-453c-976a-f3060b8650aa",
   "metadata": {
    "execution": {
     "iopub.execute_input": "2023-03-20T22:01:11.433069Z",
     "iopub.status.busy": "2023-03-20T22:01:11.432464Z",
     "iopub.status.idle": "2023-03-20T22:01:11.447412Z",
     "shell.execute_reply": "2023-03-20T22:01:11.445581Z",
     "shell.execute_reply.started": "2023-03-20T22:01:11.432933Z"
    },
    "tags": []
   },
   "outputs": [],
   "source": [
    "import sys\n",
    "sys.path.append(\"../\")\n",
    "\n",
    "import os\n",
    "import itertools"
   ]
  },
  {
   "cell_type": "markdown",
   "id": "b94ec94d-0d78-4ec3-a21c-353ccf52eec6",
   "metadata": {},
   "source": [
    "#### Third party imports"
   ]
  },
  {
   "cell_type": "code",
   "execution_count": 2,
   "id": "9e4989d0-ba3a-41cf-8ccb-44cade842a03",
   "metadata": {
    "execution": {
     "iopub.execute_input": "2023-03-20T22:01:11.450459Z",
     "iopub.status.busy": "2023-03-20T22:01:11.450042Z",
     "iopub.status.idle": "2023-03-20T22:01:14.128818Z",
     "shell.execute_reply": "2023-03-20T22:01:14.127912Z",
     "shell.execute_reply.started": "2023-03-20T22:01:11.450424Z"
    },
    "tags": []
   },
   "outputs": [],
   "source": [
    "import pandas as pd\n",
    "pd.set_option('display.max_columns', None)\n",
    "import plotly.express as px\n",
    "import matplotlib.pyplot as plt\n",
    "from sklearn import metrics\n",
    "import plotly.graph_objects as go\n",
    "import numpy as np\n",
    "import warnings\n",
    "warnings.filterwarnings(\"ignore\")"
   ]
  },
  {
   "cell_type": "markdown",
   "id": "48755fa3-cba0-4508-9df2-18d50f60551b",
   "metadata": {},
   "source": [
    "#### Local application imports"
   ]
  },
  {
   "cell_type": "code",
   "execution_count": 3,
   "id": "a62e34a6-dea0-48d6-a3bc-c5dcdcdb1718",
   "metadata": {
    "execution": {
     "iopub.execute_input": "2023-03-20T22:01:14.131278Z",
     "iopub.status.busy": "2023-03-20T22:01:14.130767Z",
     "iopub.status.idle": "2023-03-20T22:01:15.675819Z",
     "shell.execute_reply": "2023-03-20T22:01:15.674756Z",
     "shell.execute_reply.started": "2023-03-20T22:01:14.131242Z"
    },
    "tags": []
   },
   "outputs": [],
   "source": [
    "%load_ext autoreload\n",
    "%autoreload 2\n",
    "\n",
    "from pkg_dir.config import *\n",
    "from pkg_dir.src.utils import *\n",
    "from pkg_dir.src.functions import *\n",
    "from pkg_dir.src.parameters import *"
   ]
  },
  {
   "cell_type": "markdown",
   "id": "a55dee80-3931-47a9-b2fa-5f25e5bd732f",
   "metadata": {},
   "source": [
    "# "
   ]
  },
  {
   "cell_type": "markdown",
   "id": "d533fe5d-c902-4259-97ee-672d6f2363c6",
   "metadata": {
    "tags": []
   },
   "source": [
    "# Importing data"
   ]
  },
  {
   "cell_type": "code",
   "execution_count": 4,
   "id": "5c1e7b53-2fda-490f-a7cd-a7ad52e49819",
   "metadata": {
    "execution": {
     "iopub.execute_input": "2023-03-20T22:01:15.680558Z",
     "iopub.status.busy": "2023-03-20T22:01:15.680134Z",
     "iopub.status.idle": "2023-03-20T22:01:15.773335Z",
     "shell.execute_reply": "2023-03-20T22:01:15.772310Z",
     "shell.execute_reply.started": "2023-03-20T22:01:15.680523Z"
    },
    "tags": []
   },
   "outputs": [],
   "source": [
    "df = pd.read_csv('../pkg_dir/data/intuit.csv')"
   ]
  },
  {
   "cell_type": "markdown",
   "id": "a8840b07-95f7-49c2-9036-4d6c87fca59c",
   "metadata": {},
   "source": [
    "# "
   ]
  },
  {
   "cell_type": "markdown",
   "id": "8b8dec97-c1f4-43ff-8c32-60169ea5d932",
   "metadata": {
    "jp-MarkdownHeadingCollapsed": true,
    "tags": []
   },
   "source": [
    "# Data exploration"
   ]
  },
  {
   "cell_type": "code",
   "execution_count": 5,
   "id": "3dfbedde-fc31-4d72-8f7d-2818db9fb15b",
   "metadata": {
    "execution": {
     "iopub.execute_input": "2023-03-20T22:01:15.776048Z",
     "iopub.status.busy": "2023-03-20T22:01:15.775353Z",
     "iopub.status.idle": "2023-03-20T22:01:15.854626Z",
     "shell.execute_reply": "2023-03-20T22:01:15.853789Z",
     "shell.execute_reply.started": "2023-03-20T22:01:15.775978Z"
    },
    "tags": []
   },
   "outputs": [
    {
     "name": "stdout",
     "output_type": "stream",
     "text": [
      "<class 'pandas.core.frame.DataFrame'>\n",
      "RangeIndex: 20000 entries, 0 to 19999\n",
      "Data columns (total 13 columns):\n",
      " #   Column      Non-Null Count  Dtype  \n",
      "---  ------      --------------  -----  \n",
      " 0   id          20000 non-null  int64  \n",
      " 1   sex         20000 non-null  object \n",
      " 2   bizflag     20000 non-null  int64  \n",
      " 3   zip         20000 non-null  int64  \n",
      " 4   zip_bins    20000 non-null  int64  \n",
      " 5   numords     20000 non-null  int64  \n",
      " 6   dollars     20000 non-null  float64\n",
      " 7   last        20000 non-null  int64  \n",
      " 8   sincepurch  20000 non-null  int64  \n",
      " 9   version1    20000 non-null  int64  \n",
      " 10  owntaxprod  20000 non-null  int64  \n",
      " 11  upgraded    20000 non-null  int64  \n",
      " 12  res1        20000 non-null  int64  \n",
      "dtypes: float64(1), int64(11), object(1)\n",
      "memory usage: 2.0+ MB\n"
     ]
    }
   ],
   "source": [
    "df.info()"
   ]
  },
  {
   "cell_type": "code",
   "execution_count": 6,
   "id": "9180be0e-eaa4-48dc-bb38-12af70a1c99c",
   "metadata": {
    "execution": {
     "iopub.execute_input": "2023-03-20T22:01:15.856497Z",
     "iopub.status.busy": "2023-03-20T22:01:15.855894Z",
     "iopub.status.idle": "2023-03-20T22:01:15.973921Z",
     "shell.execute_reply": "2023-03-20T22:01:15.973026Z",
     "shell.execute_reply.started": "2023-03-20T22:01:15.856463Z"
    },
    "tags": []
   },
   "outputs": [
    {
     "data": {
      "text/html": [
       "<div>\n",
       "<style scoped>\n",
       "    .dataframe tbody tr th:only-of-type {\n",
       "        vertical-align: middle;\n",
       "    }\n",
       "\n",
       "    .dataframe tbody tr th {\n",
       "        vertical-align: top;\n",
       "    }\n",
       "\n",
       "    .dataframe thead th {\n",
       "        text-align: right;\n",
       "    }\n",
       "</style>\n",
       "<table border=\"1\" class=\"dataframe\">\n",
       "  <thead>\n",
       "    <tr style=\"text-align: right;\">\n",
       "      <th></th>\n",
       "      <th>id</th>\n",
       "      <th>bizflag</th>\n",
       "      <th>zip</th>\n",
       "      <th>zip_bins</th>\n",
       "      <th>numords</th>\n",
       "      <th>dollars</th>\n",
       "      <th>last</th>\n",
       "      <th>sincepurch</th>\n",
       "      <th>version1</th>\n",
       "      <th>owntaxprod</th>\n",
       "      <th>upgraded</th>\n",
       "      <th>res1</th>\n",
       "    </tr>\n",
       "  </thead>\n",
       "  <tbody>\n",
       "    <tr>\n",
       "      <th>count</th>\n",
       "      <td>20000.000000</td>\n",
       "      <td>20000.000000</td>\n",
       "      <td>20000.0000</td>\n",
       "      <td>20000.000000</td>\n",
       "      <td>20000.000000</td>\n",
       "      <td>20000.000000</td>\n",
       "      <td>20000.000000</td>\n",
       "      <td>20000.000000</td>\n",
       "      <td>20000.000000</td>\n",
       "      <td>20000.000000</td>\n",
       "      <td>20000.000000</td>\n",
       "      <td>20000.000000</td>\n",
       "    </tr>\n",
       "    <tr>\n",
       "      <th>mean</th>\n",
       "      <td>10000.500000</td>\n",
       "      <td>0.244400</td>\n",
       "      <td>54350.2613</td>\n",
       "      <td>10.499000</td>\n",
       "      <td>2.079450</td>\n",
       "      <td>93.581000</td>\n",
       "      <td>15.779650</td>\n",
       "      <td>15.751400</td>\n",
       "      <td>0.208250</td>\n",
       "      <td>0.027100</td>\n",
       "      <td>0.215600</td>\n",
       "      <td>0.048050</td>\n",
       "    </tr>\n",
       "    <tr>\n",
       "      <th>std</th>\n",
       "      <td>5773.647028</td>\n",
       "      <td>0.429742</td>\n",
       "      <td>32776.4059</td>\n",
       "      <td>5.766755</td>\n",
       "      <td>1.246361</td>\n",
       "      <td>82.601398</td>\n",
       "      <td>9.527331</td>\n",
       "      <td>10.020435</td>\n",
       "      <td>0.406067</td>\n",
       "      <td>0.162379</td>\n",
       "      <td>0.411248</td>\n",
       "      <td>0.213877</td>\n",
       "    </tr>\n",
       "    <tr>\n",
       "      <th>min</th>\n",
       "      <td>1.000000</td>\n",
       "      <td>0.000000</td>\n",
       "      <td>0.0000</td>\n",
       "      <td>1.000000</td>\n",
       "      <td>1.000000</td>\n",
       "      <td>1.000000</td>\n",
       "      <td>1.000000</td>\n",
       "      <td>1.000000</td>\n",
       "      <td>0.000000</td>\n",
       "      <td>0.000000</td>\n",
       "      <td>0.000000</td>\n",
       "      <td>0.000000</td>\n",
       "    </tr>\n",
       "    <tr>\n",
       "      <th>25%</th>\n",
       "      <td>5000.750000</td>\n",
       "      <td>0.000000</td>\n",
       "      <td>23451.0000</td>\n",
       "      <td>5.000000</td>\n",
       "      <td>1.000000</td>\n",
       "      <td>37.000000</td>\n",
       "      <td>8.000000</td>\n",
       "      <td>7.000000</td>\n",
       "      <td>0.000000</td>\n",
       "      <td>0.000000</td>\n",
       "      <td>0.000000</td>\n",
       "      <td>0.000000</td>\n",
       "    </tr>\n",
       "    <tr>\n",
       "      <th>50%</th>\n",
       "      <td>10000.500000</td>\n",
       "      <td>0.000000</td>\n",
       "      <td>55402.5000</td>\n",
       "      <td>10.500000</td>\n",
       "      <td>2.000000</td>\n",
       "      <td>71.000000</td>\n",
       "      <td>15.000000</td>\n",
       "      <td>15.000000</td>\n",
       "      <td>0.000000</td>\n",
       "      <td>0.000000</td>\n",
       "      <td>0.000000</td>\n",
       "      <td>0.000000</td>\n",
       "    </tr>\n",
       "    <tr>\n",
       "      <th>75%</th>\n",
       "      <td>15000.250000</td>\n",
       "      <td>0.000000</td>\n",
       "      <td>89018.7500</td>\n",
       "      <td>15.250000</td>\n",
       "      <td>3.000000</td>\n",
       "      <td>124.500000</td>\n",
       "      <td>24.000000</td>\n",
       "      <td>24.000000</td>\n",
       "      <td>0.000000</td>\n",
       "      <td>0.000000</td>\n",
       "      <td>0.000000</td>\n",
       "      <td>0.000000</td>\n",
       "    </tr>\n",
       "    <tr>\n",
       "      <th>max</th>\n",
       "      <td>20000.000000</td>\n",
       "      <td>1.000000</td>\n",
       "      <td>99999.0000</td>\n",
       "      <td>20.000000</td>\n",
       "      <td>5.000000</td>\n",
       "      <td>937.500000</td>\n",
       "      <td>36.000000</td>\n",
       "      <td>36.000000</td>\n",
       "      <td>1.000000</td>\n",
       "      <td>1.000000</td>\n",
       "      <td>1.000000</td>\n",
       "      <td>1.000000</td>\n",
       "    </tr>\n",
       "  </tbody>\n",
       "</table>\n",
       "</div>"
      ],
      "text/plain": [
       "                 id       bizflag         zip      zip_bins       numords  \\\n",
       "count  20000.000000  20000.000000  20000.0000  20000.000000  20000.000000   \n",
       "mean   10000.500000      0.244400  54350.2613     10.499000      2.079450   \n",
       "std     5773.647028      0.429742  32776.4059      5.766755      1.246361   \n",
       "min        1.000000      0.000000      0.0000      1.000000      1.000000   \n",
       "25%     5000.750000      0.000000  23451.0000      5.000000      1.000000   \n",
       "50%    10000.500000      0.000000  55402.5000     10.500000      2.000000   \n",
       "75%    15000.250000      0.000000  89018.7500     15.250000      3.000000   \n",
       "max    20000.000000      1.000000  99999.0000     20.000000      5.000000   \n",
       "\n",
       "            dollars          last    sincepurch      version1    owntaxprod  \\\n",
       "count  20000.000000  20000.000000  20000.000000  20000.000000  20000.000000   \n",
       "mean      93.581000     15.779650     15.751400      0.208250      0.027100   \n",
       "std       82.601398      9.527331     10.020435      0.406067      0.162379   \n",
       "min        1.000000      1.000000      1.000000      0.000000      0.000000   \n",
       "25%       37.000000      8.000000      7.000000      0.000000      0.000000   \n",
       "50%       71.000000     15.000000     15.000000      0.000000      0.000000   \n",
       "75%      124.500000     24.000000     24.000000      0.000000      0.000000   \n",
       "max      937.500000     36.000000     36.000000      1.000000      1.000000   \n",
       "\n",
       "           upgraded          res1  \n",
       "count  20000.000000  20000.000000  \n",
       "mean       0.215600      0.048050  \n",
       "std        0.411248      0.213877  \n",
       "min        0.000000      0.000000  \n",
       "25%        0.000000      0.000000  \n",
       "50%        0.000000      0.000000  \n",
       "75%        0.000000      0.000000  \n",
       "max        1.000000      1.000000  "
      ]
     },
     "execution_count": 6,
     "metadata": {},
     "output_type": "execute_result"
    }
   ],
   "source": [
    "df.describe()"
   ]
  },
  {
   "cell_type": "code",
   "execution_count": 7,
   "id": "1e8d0342-5f3a-4c86-b219-56e8c97fb6c1",
   "metadata": {
    "execution": {
     "iopub.execute_input": "2023-03-20T22:01:15.975863Z",
     "iopub.status.busy": "2023-03-20T22:01:15.975300Z",
     "iopub.status.idle": "2023-03-20T22:01:16.053293Z",
     "shell.execute_reply": "2023-03-20T22:01:16.051987Z",
     "shell.execute_reply.started": "2023-03-20T22:01:15.975824Z"
    },
    "tags": []
   },
   "outputs": [
    {
     "data": {
      "text/html": [
       "<div>\n",
       "<style scoped>\n",
       "    .dataframe tbody tr th:only-of-type {\n",
       "        vertical-align: middle;\n",
       "    }\n",
       "\n",
       "    .dataframe tbody tr th {\n",
       "        vertical-align: top;\n",
       "    }\n",
       "\n",
       "    .dataframe thead th {\n",
       "        text-align: right;\n",
       "    }\n",
       "</style>\n",
       "<table border=\"1\" class=\"dataframe\">\n",
       "  <thead>\n",
       "    <tr style=\"text-align: right;\">\n",
       "      <th></th>\n",
       "      <th>Name</th>\n",
       "      <th>Count</th>\n",
       "      <th>Frequency</th>\n",
       "    </tr>\n",
       "  </thead>\n",
       "  <tbody>\n",
       "    <tr>\n",
       "      <th>0</th>\n",
       "      <td>0</td>\n",
       "      <td>19039</td>\n",
       "      <td>0.95195</td>\n",
       "    </tr>\n",
       "    <tr>\n",
       "      <th>1</th>\n",
       "      <td>1</td>\n",
       "      <td>961</td>\n",
       "      <td>0.04805</td>\n",
       "    </tr>\n",
       "  </tbody>\n",
       "</table>\n",
       "</div>"
      ],
      "text/plain": [
       "   Name  Count  Frequency\n",
       "0     0  19039    0.95195\n",
       "1     1    961    0.04805"
      ]
     },
     "execution_count": 7,
     "metadata": {},
     "output_type": "execute_result"
    }
   ],
   "source": [
    "## Number of positive labels in results\n",
    "\n",
    "mba263.tabulate(df['res1'])"
   ]
  },
  {
   "cell_type": "code",
   "execution_count": 8,
   "id": "eba5e26c-ba1f-414f-a731-a9327fc61bd8",
   "metadata": {
    "execution": {
     "iopub.execute_input": "2023-03-20T22:01:16.055581Z",
     "iopub.status.busy": "2023-03-20T22:01:16.054826Z",
     "iopub.status.idle": "2023-03-20T22:01:16.136613Z",
     "shell.execute_reply": "2023-03-20T22:01:16.135645Z",
     "shell.execute_reply.started": "2023-03-20T22:01:16.055543Z"
    },
    "tags": []
   },
   "outputs": [
    {
     "data": {
      "text/html": [
       "<div>\n",
       "<style scoped>\n",
       "    .dataframe tbody tr th:only-of-type {\n",
       "        vertical-align: middle;\n",
       "    }\n",
       "\n",
       "    .dataframe tbody tr th {\n",
       "        vertical-align: top;\n",
       "    }\n",
       "\n",
       "    .dataframe thead th {\n",
       "        text-align: right;\n",
       "    }\n",
       "</style>\n",
       "<table border=\"1\" class=\"dataframe\">\n",
       "  <thead>\n",
       "    <tr style=\"text-align: right;\">\n",
       "      <th></th>\n",
       "      <th></th>\n",
       "      <th>cnt</th>\n",
       "    </tr>\n",
       "    <tr>\n",
       "      <th>upgraded</th>\n",
       "      <th>version1</th>\n",
       "      <th></th>\n",
       "    </tr>\n",
       "  </thead>\n",
       "  <tbody>\n",
       "    <tr>\n",
       "      <th rowspan=\"2\" valign=\"top\">0</th>\n",
       "      <th>0</th>\n",
       "      <td>11523</td>\n",
       "    </tr>\n",
       "    <tr>\n",
       "      <th>1</th>\n",
       "      <td>4165</td>\n",
       "    </tr>\n",
       "    <tr>\n",
       "      <th>1</th>\n",
       "      <th>0</th>\n",
       "      <td>4312</td>\n",
       "    </tr>\n",
       "  </tbody>\n",
       "</table>\n",
       "</div>"
      ],
      "text/plain": [
       "                     cnt\n",
       "upgraded version1       \n",
       "0        0         11523\n",
       "         1          4165\n",
       "1        0          4312"
      ]
     },
     "execution_count": 8,
     "metadata": {},
     "output_type": "execute_result"
    }
   ],
   "source": [
    "## Do all customers who upgraded have Quickbooks version 2?\n",
    "\n",
    "df.groupby(\n",
    "    [\n",
    "        'upgraded',\n",
    "        'version1',\n",
    "    ]\n",
    ").agg(\n",
    "    cnt=('id', 'count')\n",
    ")"
   ]
  },
  {
   "cell_type": "markdown",
   "id": "27a4901a-9bbb-41c7-bb32-43e21f10dc73",
   "metadata": {},
   "source": [
    "# "
   ]
  },
  {
   "cell_type": "markdown",
   "id": "2565cb53-ac88-41c5-9478-d8a87596790e",
   "metadata": {},
   "source": [
    "# Wrangling"
   ]
  },
  {
   "cell_type": "markdown",
   "id": "3fca4088-66cf-4e02-970d-84aba1af095a",
   "metadata": {},
   "source": [
    "##### Adding RFM variables"
   ]
  },
  {
   "cell_type": "code",
   "execution_count": 9,
   "id": "f8ee7955-9c38-40f9-b588-027ce02e6fde",
   "metadata": {
    "execution": {
     "iopub.execute_input": "2023-03-20T22:01:16.138541Z",
     "iopub.status.busy": "2023-03-20T22:01:16.137919Z",
     "iopub.status.idle": "2023-03-20T22:01:16.536812Z",
     "shell.execute_reply": "2023-03-20T22:01:16.535917Z",
     "shell.execute_reply.started": "2023-03-20T22:01:16.138506Z"
    },
    "tags": []
   },
   "outputs": [],
   "source": [
    "## RFM variables\n",
    "num_tiles = 10\n",
    "df['rec_ntile'] = mba263.ntile(df['last'], num_tiles)\n",
    "df['freq_ntile'] = num_tiles - 1 - mba263.ntile(df['numords'], num_tiles)\n",
    "df['mon_ntile'] = num_tiles - 1 - mba263.ntile(df['dollars'], num_tiles)"
   ]
  },
  {
   "cell_type": "markdown",
   "id": "19bc166c-8186-4069-9082-f5bcf1d48bc5",
   "metadata": {},
   "source": [
    "##### Generating dummy variables"
   ]
  },
  {
   "cell_type": "markdown",
   "id": "dc443db3-811d-4a5a-b447-435b8f5739f8",
   "metadata": {},
   "source": [
    "###### Column: `sex`"
   ]
  },
  {
   "cell_type": "code",
   "execution_count": 10,
   "id": "87c670a1-7590-4236-987e-929cfc6de51f",
   "metadata": {
    "execution": {
     "iopub.execute_input": "2023-03-20T22:01:16.538741Z",
     "iopub.status.busy": "2023-03-20T22:01:16.538304Z",
     "iopub.status.idle": "2023-03-20T22:01:16.610579Z",
     "shell.execute_reply": "2023-03-20T22:01:16.609442Z",
     "shell.execute_reply.started": "2023-03-20T22:01:16.538711Z"
    },
    "tags": []
   },
   "outputs": [],
   "source": [
    "df = pd.concat(\n",
    "    [\n",
    "        df,\n",
    "        pd.get_dummies(df['sex'], prefix='sex', drop_first=True)\n",
    "    ],\n",
    "    axis=1\n",
    ")"
   ]
  },
  {
   "cell_type": "markdown",
   "id": "bbe96932-6c92-43c0-afc8-00f86a0cfbc9",
   "metadata": {},
   "source": [
    "###### Column: `zip_bins`"
   ]
  },
  {
   "cell_type": "code",
   "execution_count": 11,
   "id": "372cc0ce-1628-4cd8-902a-ae964aecb3fe",
   "metadata": {
    "execution": {
     "iopub.execute_input": "2023-03-20T22:01:16.612591Z",
     "iopub.status.busy": "2023-03-20T22:01:16.612047Z",
     "iopub.status.idle": "2023-03-20T22:01:16.679704Z",
     "shell.execute_reply": "2023-03-20T22:01:16.678711Z",
     "shell.execute_reply.started": "2023-03-20T22:01:16.612557Z"
    },
    "tags": []
   },
   "outputs": [],
   "source": [
    "df = pd.concat(\n",
    "    [\n",
    "        df,\n",
    "        pd.get_dummies(df['zip_bins'], prefix='zip_bins', drop_first=True)\n",
    "    ],\n",
    "    axis=1\n",
    ")"
   ]
  },
  {
   "cell_type": "markdown",
   "id": "c1d18b22-fa0e-41f6-9adf-01477b697b04",
   "metadata": {},
   "source": [
    "# "
   ]
  },
  {
   "cell_type": "markdown",
   "id": "c828656b-dbb3-4ffc-bf89-87649d5d1d23",
   "metadata": {},
   "source": [
    "# Modeling"
   ]
  },
  {
   "cell_type": "markdown",
   "id": "abb22271-32dd-42f0-bd3c-65764ce8777e",
   "metadata": {
    "jp-MarkdownHeadingCollapsed": true,
    "tags": []
   },
   "source": [
    "## M1: Logistic regression"
   ]
  },
  {
   "cell_type": "markdown",
   "id": "8dd40138-005c-4244-a887-90ed9dcad48e",
   "metadata": {
    "jp-MarkdownHeadingCollapsed": true,
    "tags": []
   },
   "source": [
    "#### Model"
   ]
  },
  {
   "cell_type": "code",
   "execution_count": 12,
   "id": "d0cffe05-6542-4207-8a3d-575ce9652f6b",
   "metadata": {
    "execution": {
     "iopub.execute_input": "2023-03-20T22:01:16.681860Z",
     "iopub.status.busy": "2023-03-20T22:01:16.681463Z",
     "iopub.status.idle": "2023-03-20T22:01:16.746288Z",
     "shell.execute_reply": "2023-03-20T22:01:16.745315Z",
     "shell.execute_reply.started": "2023-03-20T22:01:16.681827Z"
    },
    "tags": []
   },
   "outputs": [],
   "source": [
    "dfm1 = df.copy()"
   ]
  },
  {
   "cell_type": "code",
   "execution_count": 13,
   "id": "45ce2aa0-4e9e-4508-8a63-6edbe474c160",
   "metadata": {
    "execution": {
     "iopub.execute_input": "2023-03-20T22:01:16.755803Z",
     "iopub.status.busy": "2023-03-20T22:01:16.755405Z",
     "iopub.status.idle": "2023-03-20T22:01:16.818941Z",
     "shell.execute_reply": "2023-03-20T22:01:16.818026Z",
     "shell.execute_reply.started": "2023-03-20T22:01:16.755772Z"
    },
    "tags": []
   },
   "outputs": [],
   "source": [
    "## Defining label and features for the model\n",
    "\n",
    "m1_l = ['res1']\n",
    "\n",
    "m1_f = [\n",
    "    # 'id',\n",
    "    # 'sex',\n",
    "    'sex_F',\n",
    "    'sex_M',\n",
    "    'sex_U',\n",
    "    'bizflag',\n",
    "    # 'zip',\n",
    "    # 'zip_bins',\n",
    "    'zip_bins_2',\n",
    "    'zip_bins_3',\n",
    "    'zip_bins_4',\n",
    "    'zip_bins_5',\n",
    "    'zip_bins_6',\n",
    "    'zip_bins_7',\n",
    "    'zip_bins_8',\n",
    "    'zip_bins_9',\n",
    "    'zip_bins_10',\n",
    "    'zip_bins_11',\n",
    "    'zip_bins_12',\n",
    "    'zip_bins_13',\n",
    "    'zip_bins_14',\n",
    "    'zip_bins_15',\n",
    "    'zip_bins_16',\n",
    "    'zip_bins_17',\n",
    "    'zip_bins_18',\n",
    "    'zip_bins_19',\n",
    "    'zip_bins_20',\n",
    "    'numords',\n",
    "    'dollars',\n",
    "    'last',\n",
    "    'sincepurch',\n",
    "    'version1',\n",
    "    'owntaxprod',\n",
    "    'upgraded',\n",
    "    'freq_ntile',\n",
    "    'rec_ntile',\n",
    "    'mon_ntile',\n",
    "]"
   ]
  },
  {
   "cell_type": "code",
   "execution_count": 14,
   "id": "25f27955-b342-4d3f-852c-ef762ca3d33d",
   "metadata": {
    "execution": {
     "iopub.execute_input": "2023-03-20T22:01:16.820846Z",
     "iopub.status.busy": "2023-03-20T22:01:16.820447Z",
     "iopub.status.idle": "2023-03-20T22:01:16.972457Z",
     "shell.execute_reply": "2023-03-20T22:01:16.971062Z",
     "shell.execute_reply.started": "2023-03-20T22:01:16.820816Z"
    },
    "tags": []
   },
   "outputs": [
    {
     "name": "stdout",
     "output_type": "stream",
     "text": [
      "Optimization terminated successfully.\n",
      "         Current function value: 0.169968\n",
      "         Iterations 8\n"
     ]
    }
   ],
   "source": [
    "m1 = mba263.logit(\n",
    "    dfm1[m1_l],\n",
    "    dfm1[m1_f]\n",
    ")"
   ]
  },
  {
   "cell_type": "markdown",
   "id": "6e4d15f5-4fdb-45af-931b-69a05b6684ad",
   "metadata": {
    "jp-MarkdownHeadingCollapsed": true,
    "tags": []
   },
   "source": [
    "#### Coefficients"
   ]
  },
  {
   "cell_type": "code",
   "execution_count": 15,
   "id": "0be78401-5e12-4638-83e3-ac50ad2465db",
   "metadata": {
    "execution": {
     "iopub.execute_input": "2023-03-20T22:01:16.975292Z",
     "iopub.status.busy": "2023-03-20T22:01:16.974373Z",
     "iopub.status.idle": "2023-03-20T22:01:17.157173Z",
     "shell.execute_reply": "2023-03-20T22:01:17.156106Z",
     "shell.execute_reply.started": "2023-03-20T22:01:16.975248Z"
    },
    "scrolled": true,
    "tags": []
   },
   "outputs": [
    {
     "data": {
      "text/html": [
       "<table class=\"simpletable\">\n",
       "<caption>Mba263Logit Regression Results</caption>\n",
       "<tr>\n",
       "  <th>Dep. Variable:</th>         <td>res1</td>       <th>  No. Observations:  </th>   <td> 20000</td>  \n",
       "</tr>\n",
       "<tr>\n",
       "  <th>Model:</th>              <td>Mba263Logit</td>   <th>  Df Residuals:      </th>   <td> 19966</td>  \n",
       "</tr>\n",
       "<tr>\n",
       "  <th>Method:</th>                 <td>MLE</td>       <th>  Df Model:          </th>   <td>    33</td>  \n",
       "</tr>\n",
       "<tr>\n",
       "  <th>Date:</th>            <td>Mon, 20 Mar 2023</td> <th>  Pseudo R-squ.:     </th>   <td>0.1181</td>  \n",
       "</tr>\n",
       "<tr>\n",
       "  <th>Time:</th>                <td>15:01:17</td>     <th>  Log-Likelihood:    </th>  <td> -3399.4</td> \n",
       "</tr>\n",
       "<tr>\n",
       "  <th>converged:</th>             <td>True</td>       <th>  LL-Null:           </th>  <td> -3854.7</td> \n",
       "</tr>\n",
       "<tr>\n",
       "  <th>Covariance Type:</th>     <td>nonrobust</td>    <th>  LLR p-value:       </th> <td>5.851e-170</td>\n",
       "</tr>\n",
       "</table>\n",
       "<table class=\"simpletable\">\n",
       "<tr>\n",
       "       <td></td>          <th>coef</th>     <th>std err</th>      <th>z</th>      <th>P>|z|</th>  <th>[0.025</th>    <th>0.975]</th>  \n",
       "</tr>\n",
       "<tr>\n",
       "  <th>const</th>       <td>   -1.6956</td> <td>    0.795</td> <td>   -2.134</td> <td> 0.033</td> <td>   -3.253</td> <td>   -0.138</td>\n",
       "</tr>\n",
       "<tr>\n",
       "  <th>sex_F</th>       <td>   -0.7973</td> <td>    0.628</td> <td>   -1.270</td> <td> 0.204</td> <td>   -2.027</td> <td>    0.433</td>\n",
       "</tr>\n",
       "<tr>\n",
       "  <th>sex_M</th>       <td>   -0.6858</td> <td>    0.624</td> <td>   -1.100</td> <td> 0.272</td> <td>   -1.908</td> <td>    0.537</td>\n",
       "</tr>\n",
       "<tr>\n",
       "  <th>sex_U</th>       <td>   -0.6835</td> <td>    0.632</td> <td>   -1.082</td> <td> 0.279</td> <td>   -1.921</td> <td>    0.554</td>\n",
       "</tr>\n",
       "<tr>\n",
       "  <th>bizflag</th>     <td>   -0.0893</td> <td>    0.087</td> <td>   -1.021</td> <td> 0.307</td> <td>   -0.261</td> <td>    0.082</td>\n",
       "</tr>\n",
       "<tr>\n",
       "  <th>zip_bins_2</th>  <td>   -2.0524</td> <td>    0.184</td> <td>  -11.132</td> <td> 0.000</td> <td>   -2.414</td> <td>   -1.691</td>\n",
       "</tr>\n",
       "<tr>\n",
       "  <th>zip_bins_3</th>  <td>   -2.0346</td> <td>    0.186</td> <td>  -10.932</td> <td> 0.000</td> <td>   -2.399</td> <td>   -1.670</td>\n",
       "</tr>\n",
       "<tr>\n",
       "  <th>zip_bins_4</th>  <td>   -2.1856</td> <td>    0.194</td> <td>  -11.239</td> <td> 0.000</td> <td>   -2.567</td> <td>   -1.804</td>\n",
       "</tr>\n",
       "<tr>\n",
       "  <th>zip_bins_5</th>  <td>   -2.0072</td> <td>    0.181</td> <td>  -11.070</td> <td> 0.000</td> <td>   -2.363</td> <td>   -1.652</td>\n",
       "</tr>\n",
       "<tr>\n",
       "  <th>zip_bins_6</th>  <td>   -2.1006</td> <td>    0.186</td> <td>  -11.266</td> <td> 0.000</td> <td>   -2.466</td> <td>   -1.735</td>\n",
       "</tr>\n",
       "<tr>\n",
       "  <th>zip_bins_7</th>  <td>   -1.9662</td> <td>    0.181</td> <td>  -10.846</td> <td> 0.000</td> <td>   -2.321</td> <td>   -1.611</td>\n",
       "</tr>\n",
       "<tr>\n",
       "  <th>zip_bins_8</th>  <td>   -2.6335</td> <td>    0.232</td> <td>  -11.349</td> <td> 0.000</td> <td>   -3.088</td> <td>   -2.179</td>\n",
       "</tr>\n",
       "<tr>\n",
       "  <th>zip_bins_9</th>  <td>   -1.9694</td> <td>    0.177</td> <td>  -11.121</td> <td> 0.000</td> <td>   -2.316</td> <td>   -1.622</td>\n",
       "</tr>\n",
       "<tr>\n",
       "  <th>zip_bins_10</th> <td>   -1.7685</td> <td>    0.167</td> <td>  -10.580</td> <td> 0.000</td> <td>   -2.096</td> <td>   -1.441</td>\n",
       "</tr>\n",
       "<tr>\n",
       "  <th>zip_bins_11</th> <td>   -2.0985</td> <td>    0.185</td> <td>  -11.353</td> <td> 0.000</td> <td>   -2.461</td> <td>   -1.736</td>\n",
       "</tr>\n",
       "<tr>\n",
       "  <th>zip_bins_12</th> <td>   -1.6182</td> <td>    0.160</td> <td>  -10.097</td> <td> 0.000</td> <td>   -1.932</td> <td>   -1.304</td>\n",
       "</tr>\n",
       "<tr>\n",
       "  <th>zip_bins_13</th> <td>   -2.1778</td> <td>    0.192</td> <td>  -11.337</td> <td> 0.000</td> <td>   -2.554</td> <td>   -1.801</td>\n",
       "</tr>\n",
       "<tr>\n",
       "  <th>zip_bins_14</th> <td>   -2.3434</td> <td>    0.207</td> <td>  -11.309</td> <td> 0.000</td> <td>   -2.749</td> <td>   -1.937</td>\n",
       "</tr>\n",
       "<tr>\n",
       "  <th>zip_bins_15</th> <td>   -1.8677</td> <td>    0.174</td> <td>  -10.755</td> <td> 0.000</td> <td>   -2.208</td> <td>   -1.527</td>\n",
       "</tr>\n",
       "<tr>\n",
       "  <th>zip_bins_16</th> <td>   -2.2220</td> <td>    0.199</td> <td>  -11.175</td> <td> 0.000</td> <td>   -2.612</td> <td>   -1.832</td>\n",
       "</tr>\n",
       "<tr>\n",
       "  <th>zip_bins_17</th> <td>   -2.2019</td> <td>    0.195</td> <td>  -11.311</td> <td> 0.000</td> <td>   -2.583</td> <td>   -1.820</td>\n",
       "</tr>\n",
       "<tr>\n",
       "  <th>zip_bins_18</th> <td>   -1.8050</td> <td>    0.170</td> <td>  -10.619</td> <td> 0.000</td> <td>   -2.138</td> <td>   -1.472</td>\n",
       "</tr>\n",
       "<tr>\n",
       "  <th>zip_bins_19</th> <td>   -2.1772</td> <td>    0.191</td> <td>  -11.412</td> <td> 0.000</td> <td>   -2.551</td> <td>   -1.803</td>\n",
       "</tr>\n",
       "<tr>\n",
       "  <th>zip_bins_20</th> <td>   -2.0583</td> <td>    0.186</td> <td>  -11.041</td> <td> 0.000</td> <td>   -2.424</td> <td>   -1.693</td>\n",
       "</tr>\n",
       "<tr>\n",
       "  <th>numords</th>     <td>    0.4332</td> <td>    0.110</td> <td>    3.925</td> <td> 0.000</td> <td>    0.217</td> <td>    0.650</td>\n",
       "</tr>\n",
       "<tr>\n",
       "  <th>dollars</th>     <td>    0.0003</td> <td>    0.001</td> <td>    0.453</td> <td> 0.651</td> <td>   -0.001</td> <td>    0.001</td>\n",
       "</tr>\n",
       "<tr>\n",
       "  <th>last</th>        <td>   -0.0147</td> <td>    0.030</td> <td>   -0.499</td> <td> 0.618</td> <td>   -0.073</td> <td>    0.043</td>\n",
       "</tr>\n",
       "<tr>\n",
       "  <th>sincepurch</th>  <td>    0.0062</td> <td>    0.006</td> <td>    0.961</td> <td> 0.337</td> <td>   -0.006</td> <td>    0.019</td>\n",
       "</tr>\n",
       "<tr>\n",
       "  <th>version1</th>    <td>    0.6704</td> <td>    0.141</td> <td>    4.753</td> <td> 0.000</td> <td>    0.394</td> <td>    0.947</td>\n",
       "</tr>\n",
       "<tr>\n",
       "  <th>owntaxprod</th>  <td>    0.0804</td> <td>    0.189</td> <td>    0.425</td> <td> 0.671</td> <td>   -0.290</td> <td>    0.451</td>\n",
       "</tr>\n",
       "<tr>\n",
       "  <th>upgraded</th>    <td>    0.8074</td> <td>    0.138</td> <td>    5.863</td> <td> 0.000</td> <td>    0.537</td> <td>    1.077</td>\n",
       "</tr>\n",
       "<tr>\n",
       "  <th>freq_ntile</th>  <td>    0.1050</td> <td>    0.047</td> <td>    2.253</td> <td> 0.024</td> <td>    0.014</td> <td>    0.196</td>\n",
       "</tr>\n",
       "<tr>\n",
       "  <th>rec_ntile</th>   <td>   -0.1225</td> <td>    0.096</td> <td>   -1.281</td> <td> 0.200</td> <td>   -0.310</td> <td>    0.065</td>\n",
       "</tr>\n",
       "<tr>\n",
       "  <th>mon_ntile</th>   <td>   -0.0396</td> <td>    0.022</td> <td>   -1.773</td> <td> 0.076</td> <td>   -0.083</td> <td>    0.004</td>\n",
       "</tr>\n",
       "</table>"
      ],
      "text/plain": [
       "<class 'statsmodels.iolib.summary.Summary'>\n",
       "\"\"\"\n",
       "                        Mba263Logit Regression Results                        \n",
       "==============================================================================\n",
       "Dep. Variable:                   res1   No. Observations:                20000\n",
       "Model:                    Mba263Logit   Df Residuals:                    19966\n",
       "Method:                           MLE   Df Model:                           33\n",
       "Date:                Mon, 20 Mar 2023   Pseudo R-squ.:                  0.1181\n",
       "Time:                        15:01:17   Log-Likelihood:                -3399.4\n",
       "converged:                       True   LL-Null:                       -3854.7\n",
       "Covariance Type:            nonrobust   LLR p-value:                5.851e-170\n",
       "===============================================================================\n",
       "                  coef    std err          z      P>|z|      [0.025      0.975]\n",
       "-------------------------------------------------------------------------------\n",
       "const          -1.6956      0.795     -2.134      0.033      -3.253      -0.138\n",
       "sex_F          -0.7973      0.628     -1.270      0.204      -2.027       0.433\n",
       "sex_M          -0.6858      0.624     -1.100      0.272      -1.908       0.537\n",
       "sex_U          -0.6835      0.632     -1.082      0.279      -1.921       0.554\n",
       "bizflag        -0.0893      0.087     -1.021      0.307      -0.261       0.082\n",
       "zip_bins_2     -2.0524      0.184    -11.132      0.000      -2.414      -1.691\n",
       "zip_bins_3     -2.0346      0.186    -10.932      0.000      -2.399      -1.670\n",
       "zip_bins_4     -2.1856      0.194    -11.239      0.000      -2.567      -1.804\n",
       "zip_bins_5     -2.0072      0.181    -11.070      0.000      -2.363      -1.652\n",
       "zip_bins_6     -2.1006      0.186    -11.266      0.000      -2.466      -1.735\n",
       "zip_bins_7     -1.9662      0.181    -10.846      0.000      -2.321      -1.611\n",
       "zip_bins_8     -2.6335      0.232    -11.349      0.000      -3.088      -2.179\n",
       "zip_bins_9     -1.9694      0.177    -11.121      0.000      -2.316      -1.622\n",
       "zip_bins_10    -1.7685      0.167    -10.580      0.000      -2.096      -1.441\n",
       "zip_bins_11    -2.0985      0.185    -11.353      0.000      -2.461      -1.736\n",
       "zip_bins_12    -1.6182      0.160    -10.097      0.000      -1.932      -1.304\n",
       "zip_bins_13    -2.1778      0.192    -11.337      0.000      -2.554      -1.801\n",
       "zip_bins_14    -2.3434      0.207    -11.309      0.000      -2.749      -1.937\n",
       "zip_bins_15    -1.8677      0.174    -10.755      0.000      -2.208      -1.527\n",
       "zip_bins_16    -2.2220      0.199    -11.175      0.000      -2.612      -1.832\n",
       "zip_bins_17    -2.2019      0.195    -11.311      0.000      -2.583      -1.820\n",
       "zip_bins_18    -1.8050      0.170    -10.619      0.000      -2.138      -1.472\n",
       "zip_bins_19    -2.1772      0.191    -11.412      0.000      -2.551      -1.803\n",
       "zip_bins_20    -2.0583      0.186    -11.041      0.000      -2.424      -1.693\n",
       "numords         0.4332      0.110      3.925      0.000       0.217       0.650\n",
       "dollars         0.0003      0.001      0.453      0.651      -0.001       0.001\n",
       "last           -0.0147      0.030     -0.499      0.618      -0.073       0.043\n",
       "sincepurch      0.0062      0.006      0.961      0.337      -0.006       0.019\n",
       "version1        0.6704      0.141      4.753      0.000       0.394       0.947\n",
       "owntaxprod      0.0804      0.189      0.425      0.671      -0.290       0.451\n",
       "upgraded        0.8074      0.138      5.863      0.000       0.537       1.077\n",
       "freq_ntile      0.1050      0.047      2.253      0.024       0.014       0.196\n",
       "rec_ntile      -0.1225      0.096     -1.281      0.200      -0.310       0.065\n",
       "mon_ntile      -0.0396      0.022     -1.773      0.076      -0.083       0.004\n",
       "===============================================================================\n",
       "\"\"\""
      ]
     },
     "execution_count": 15,
     "metadata": {},
     "output_type": "execute_result"
    }
   ],
   "source": [
    "m1.summary()"
   ]
  },
  {
   "cell_type": "code",
   "execution_count": 16,
   "id": "be02f9a4-e71b-4d54-89b4-9bbffaa3ad75",
   "metadata": {
    "execution": {
     "iopub.execute_input": "2023-03-20T22:01:17.159611Z",
     "iopub.status.busy": "2023-03-20T22:01:17.158902Z",
     "iopub.status.idle": "2023-03-20T22:01:17.243863Z",
     "shell.execute_reply": "2023-03-20T22:01:17.243020Z",
     "shell.execute_reply.started": "2023-03-20T22:01:17.159577Z"
    },
    "scrolled": true,
    "tags": []
   },
   "outputs": [
    {
     "data": {
      "text/html": [
       "<div>\n",
       "<style scoped>\n",
       "    .dataframe tbody tr th:only-of-type {\n",
       "        vertical-align: middle;\n",
       "    }\n",
       "\n",
       "    .dataframe tbody tr th {\n",
       "        vertical-align: top;\n",
       "    }\n",
       "\n",
       "    .dataframe thead th {\n",
       "        text-align: right;\n",
       "    }\n",
       "</style>\n",
       "<table border=\"1\" class=\"dataframe\">\n",
       "  <thead>\n",
       "    <tr style=\"text-align: right;\">\n",
       "      <th></th>\n",
       "      <th>Odds ratios</th>\n",
       "      <th>std err</th>\n",
       "      <th>z</th>\n",
       "      <th>P&gt;|z|</th>\n",
       "      <th>[0.025</th>\n",
       "      <th>0.975]</th>\n",
       "    </tr>\n",
       "  </thead>\n",
       "  <tbody>\n",
       "    <tr>\n",
       "      <th>sex_F</th>\n",
       "      <td>0.450539</td>\n",
       "      <td>0.282769</td>\n",
       "      <td>1.943143</td>\n",
       "      <td>0.052</td>\n",
       "      <td>-0.098033</td>\n",
       "      <td>0.999111</td>\n",
       "    </tr>\n",
       "    <tr>\n",
       "      <th>sex_M</th>\n",
       "      <td>0.503677</td>\n",
       "      <td>0.314140</td>\n",
       "      <td>1.579943</td>\n",
       "      <td>0.114</td>\n",
       "      <td>-0.105753</td>\n",
       "      <td>1.113108</td>\n",
       "    </tr>\n",
       "    <tr>\n",
       "      <th>sex_U</th>\n",
       "      <td>0.504838</td>\n",
       "      <td>0.318857</td>\n",
       "      <td>1.552930</td>\n",
       "      <td>0.120</td>\n",
       "      <td>-0.113744</td>\n",
       "      <td>1.123420</td>\n",
       "    </tr>\n",
       "    <tr>\n",
       "      <th>bizflag</th>\n",
       "      <td>0.914599</td>\n",
       "      <td>0.079958</td>\n",
       "      <td>1.068084</td>\n",
       "      <td>0.285</td>\n",
       "      <td>0.759481</td>\n",
       "      <td>1.069716</td>\n",
       "    </tr>\n",
       "    <tr>\n",
       "      <th>zip_bins_2</th>\n",
       "      <td>0.128425</td>\n",
       "      <td>0.023677</td>\n",
       "      <td>36.811043</td>\n",
       "      <td>0.000</td>\n",
       "      <td>0.082491</td>\n",
       "      <td>0.174358</td>\n",
       "    </tr>\n",
       "    <tr>\n",
       "      <th>zip_bins_3</th>\n",
       "      <td>0.130733</td>\n",
       "      <td>0.024332</td>\n",
       "      <td>35.724944</td>\n",
       "      <td>0.000</td>\n",
       "      <td>0.083529</td>\n",
       "      <td>0.177937</td>\n",
       "    </tr>\n",
       "    <tr>\n",
       "      <th>zip_bins_4</th>\n",
       "      <td>0.112406</td>\n",
       "      <td>0.021860</td>\n",
       "      <td>40.603044</td>\n",
       "      <td>0.000</td>\n",
       "      <td>0.069997</td>\n",
       "      <td>0.154815</td>\n",
       "    </tr>\n",
       "    <tr>\n",
       "      <th>zip_bins_5</th>\n",
       "      <td>0.134362</td>\n",
       "      <td>0.024362</td>\n",
       "      <td>35.532268</td>\n",
       "      <td>0.000</td>\n",
       "      <td>0.087099</td>\n",
       "      <td>0.181624</td>\n",
       "    </tr>\n",
       "    <tr>\n",
       "      <th>zip_bins_6</th>\n",
       "      <td>0.122382</td>\n",
       "      <td>0.022819</td>\n",
       "      <td>38.460006</td>\n",
       "      <td>0.000</td>\n",
       "      <td>0.078113</td>\n",
       "      <td>0.166651</td>\n",
       "    </tr>\n",
       "    <tr>\n",
       "      <th>zip_bins_7</th>\n",
       "      <td>0.139992</td>\n",
       "      <td>0.025379</td>\n",
       "      <td>33.887258</td>\n",
       "      <td>0.000</td>\n",
       "      <td>0.090757</td>\n",
       "      <td>0.189226</td>\n",
       "    </tr>\n",
       "    <tr>\n",
       "      <th>zip_bins_8</th>\n",
       "      <td>0.071828</td>\n",
       "      <td>0.016667</td>\n",
       "      <td>55.689657</td>\n",
       "      <td>0.000</td>\n",
       "      <td>0.039494</td>\n",
       "      <td>0.104161</td>\n",
       "    </tr>\n",
       "    <tr>\n",
       "      <th>zip_bins_9</th>\n",
       "      <td>0.139545</td>\n",
       "      <td>0.024710</td>\n",
       "      <td>34.821535</td>\n",
       "      <td>0.000</td>\n",
       "      <td>0.091606</td>\n",
       "      <td>0.187483</td>\n",
       "    </tr>\n",
       "    <tr>\n",
       "      <th>zip_bins_10</th>\n",
       "      <td>0.170592</td>\n",
       "      <td>0.028516</td>\n",
       "      <td>29.085424</td>\n",
       "      <td>0.000</td>\n",
       "      <td>0.115270</td>\n",
       "      <td>0.225913</td>\n",
       "    </tr>\n",
       "    <tr>\n",
       "      <th>zip_bins_11</th>\n",
       "      <td>0.122644</td>\n",
       "      <td>0.022669</td>\n",
       "      <td>38.702463</td>\n",
       "      <td>0.000</td>\n",
       "      <td>0.078666</td>\n",
       "      <td>0.166622</td>\n",
       "    </tr>\n",
       "    <tr>\n",
       "      <th>zip_bins_12</th>\n",
       "      <td>0.198249</td>\n",
       "      <td>0.031772</td>\n",
       "      <td>25.234395</td>\n",
       "      <td>0.000</td>\n",
       "      <td>0.136611</td>\n",
       "      <td>0.259887</td>\n",
       "    </tr>\n",
       "    <tr>\n",
       "      <th>zip_bins_13</th>\n",
       "      <td>0.113292</td>\n",
       "      <td>0.021764</td>\n",
       "      <td>40.742668</td>\n",
       "      <td>0.000</td>\n",
       "      <td>0.071070</td>\n",
       "      <td>0.155513</td>\n",
       "    </tr>\n",
       "    <tr>\n",
       "      <th>zip_bins_14</th>\n",
       "      <td>0.096005</td>\n",
       "      <td>0.019894</td>\n",
       "      <td>45.441445</td>\n",
       "      <td>0.000</td>\n",
       "      <td>0.057411</td>\n",
       "      <td>0.134599</td>\n",
       "    </tr>\n",
       "    <tr>\n",
       "      <th>zip_bins_15</th>\n",
       "      <td>0.154473</td>\n",
       "      <td>0.026825</td>\n",
       "      <td>31.519780</td>\n",
       "      <td>0.000</td>\n",
       "      <td>0.102432</td>\n",
       "      <td>0.206514</td>\n",
       "    </tr>\n",
       "    <tr>\n",
       "      <th>zip_bins_16</th>\n",
       "      <td>0.108389</td>\n",
       "      <td>0.021552</td>\n",
       "      <td>41.369729</td>\n",
       "      <td>0.000</td>\n",
       "      <td>0.066577</td>\n",
       "      <td>0.150200</td>\n",
       "    </tr>\n",
       "    <tr>\n",
       "      <th>zip_bins_17</th>\n",
       "      <td>0.110594</td>\n",
       "      <td>0.021529</td>\n",
       "      <td>41.312513</td>\n",
       "      <td>0.000</td>\n",
       "      <td>0.068828</td>\n",
       "      <td>0.152359</td>\n",
       "    </tr>\n",
       "    <tr>\n",
       "      <th>zip_bins_18</th>\n",
       "      <td>0.164467</td>\n",
       "      <td>0.027957</td>\n",
       "      <td>29.886026</td>\n",
       "      <td>0.000</td>\n",
       "      <td>0.110230</td>\n",
       "      <td>0.218704</td>\n",
       "    </tr>\n",
       "    <tr>\n",
       "      <th>zip_bins_19</th>\n",
       "      <td>0.113356</td>\n",
       "      <td>0.021627</td>\n",
       "      <td>40.996899</td>\n",
       "      <td>0.000</td>\n",
       "      <td>0.071400</td>\n",
       "      <td>0.155313</td>\n",
       "    </tr>\n",
       "    <tr>\n",
       "      <th>zip_bins_20</th>\n",
       "      <td>0.127667</td>\n",
       "      <td>0.023800</td>\n",
       "      <td>36.652978</td>\n",
       "      <td>0.000</td>\n",
       "      <td>0.081496</td>\n",
       "      <td>0.173839</td>\n",
       "    </tr>\n",
       "    <tr>\n",
       "      <th>numords</th>\n",
       "      <td>1.542208</td>\n",
       "      <td>0.170200</td>\n",
       "      <td>3.185708</td>\n",
       "      <td>0.001</td>\n",
       "      <td>1.212020</td>\n",
       "      <td>1.872396</td>\n",
       "    </tr>\n",
       "    <tr>\n",
       "      <th>dollars</th>\n",
       "      <td>1.000281</td>\n",
       "      <td>0.000620</td>\n",
       "      <td>0.452736</td>\n",
       "      <td>0.651</td>\n",
       "      <td>0.999077</td>\n",
       "      <td>1.001484</td>\n",
       "    </tr>\n",
       "    <tr>\n",
       "      <th>last</th>\n",
       "      <td>0.985388</td>\n",
       "      <td>0.029078</td>\n",
       "      <td>0.502528</td>\n",
       "      <td>0.615</td>\n",
       "      <td>0.928976</td>\n",
       "      <td>1.041799</td>\n",
       "    </tr>\n",
       "    <tr>\n",
       "      <th>sincepurch</th>\n",
       "      <td>1.006188</td>\n",
       "      <td>0.006462</td>\n",
       "      <td>0.957614</td>\n",
       "      <td>0.338</td>\n",
       "      <td>0.993652</td>\n",
       "      <td>1.018724</td>\n",
       "    </tr>\n",
       "    <tr>\n",
       "      <th>version1</th>\n",
       "      <td>1.955027</td>\n",
       "      <td>0.275730</td>\n",
       "      <td>3.463630</td>\n",
       "      <td>0.001</td>\n",
       "      <td>1.420111</td>\n",
       "      <td>2.489943</td>\n",
       "    </tr>\n",
       "    <tr>\n",
       "      <th>owntaxprod</th>\n",
       "      <td>1.083765</td>\n",
       "      <td>0.204933</td>\n",
       "      <td>0.408745</td>\n",
       "      <td>0.683</td>\n",
       "      <td>0.686195</td>\n",
       "      <td>1.481336</td>\n",
       "    </tr>\n",
       "    <tr>\n",
       "      <th>upgraded</th>\n",
       "      <td>2.241986</td>\n",
       "      <td>0.308715</td>\n",
       "      <td>4.023082</td>\n",
       "      <td>0.000</td>\n",
       "      <td>1.643079</td>\n",
       "      <td>2.840893</td>\n",
       "    </tr>\n",
       "    <tr>\n",
       "      <th>freq_ntile</th>\n",
       "      <td>1.110753</td>\n",
       "      <td>0.051781</td>\n",
       "      <td>2.138863</td>\n",
       "      <td>0.032</td>\n",
       "      <td>1.010297</td>\n",
       "      <td>1.211208</td>\n",
       "    </tr>\n",
       "    <tr>\n",
       "      <th>rec_ntile</th>\n",
       "      <td>0.884743</td>\n",
       "      <td>0.084552</td>\n",
       "      <td>1.363154</td>\n",
       "      <td>0.173</td>\n",
       "      <td>0.720712</td>\n",
       "      <td>1.048773</td>\n",
       "    </tr>\n",
       "    <tr>\n",
       "      <th>mon_ntile</th>\n",
       "      <td>0.961189</td>\n",
       "      <td>0.021462</td>\n",
       "      <td>1.808415</td>\n",
       "      <td>0.071</td>\n",
       "      <td>0.919553</td>\n",
       "      <td>1.002824</td>\n",
       "    </tr>\n",
       "  </tbody>\n",
       "</table>\n",
       "</div>"
      ],
      "text/plain": [
       "             Odds ratios   std err          z  P>|z|    [0.025    0.975]\n",
       "sex_F           0.450539  0.282769   1.943143  0.052 -0.098033  0.999111\n",
       "sex_M           0.503677  0.314140   1.579943  0.114 -0.105753  1.113108\n",
       "sex_U           0.504838  0.318857   1.552930  0.120 -0.113744  1.123420\n",
       "bizflag         0.914599  0.079958   1.068084  0.285  0.759481  1.069716\n",
       "zip_bins_2      0.128425  0.023677  36.811043  0.000  0.082491  0.174358\n",
       "zip_bins_3      0.130733  0.024332  35.724944  0.000  0.083529  0.177937\n",
       "zip_bins_4      0.112406  0.021860  40.603044  0.000  0.069997  0.154815\n",
       "zip_bins_5      0.134362  0.024362  35.532268  0.000  0.087099  0.181624\n",
       "zip_bins_6      0.122382  0.022819  38.460006  0.000  0.078113  0.166651\n",
       "zip_bins_7      0.139992  0.025379  33.887258  0.000  0.090757  0.189226\n",
       "zip_bins_8      0.071828  0.016667  55.689657  0.000  0.039494  0.104161\n",
       "zip_bins_9      0.139545  0.024710  34.821535  0.000  0.091606  0.187483\n",
       "zip_bins_10     0.170592  0.028516  29.085424  0.000  0.115270  0.225913\n",
       "zip_bins_11     0.122644  0.022669  38.702463  0.000  0.078666  0.166622\n",
       "zip_bins_12     0.198249  0.031772  25.234395  0.000  0.136611  0.259887\n",
       "zip_bins_13     0.113292  0.021764  40.742668  0.000  0.071070  0.155513\n",
       "zip_bins_14     0.096005  0.019894  45.441445  0.000  0.057411  0.134599\n",
       "zip_bins_15     0.154473  0.026825  31.519780  0.000  0.102432  0.206514\n",
       "zip_bins_16     0.108389  0.021552  41.369729  0.000  0.066577  0.150200\n",
       "zip_bins_17     0.110594  0.021529  41.312513  0.000  0.068828  0.152359\n",
       "zip_bins_18     0.164467  0.027957  29.886026  0.000  0.110230  0.218704\n",
       "zip_bins_19     0.113356  0.021627  40.996899  0.000  0.071400  0.155313\n",
       "zip_bins_20     0.127667  0.023800  36.652978  0.000  0.081496  0.173839\n",
       "numords         1.542208  0.170200   3.185708  0.001  1.212020  1.872396\n",
       "dollars         1.000281  0.000620   0.452736  0.651  0.999077  1.001484\n",
       "last            0.985388  0.029078   0.502528  0.615  0.928976  1.041799\n",
       "sincepurch      1.006188  0.006462   0.957614  0.338  0.993652  1.018724\n",
       "version1        1.955027  0.275730   3.463630  0.001  1.420111  2.489943\n",
       "owntaxprod      1.083765  0.204933   0.408745  0.683  0.686195  1.481336\n",
       "upgraded        2.241986  0.308715   4.023082  0.000  1.643079  2.840893\n",
       "freq_ntile      1.110753  0.051781   2.138863  0.032  1.010297  1.211208\n",
       "rec_ntile       0.884743  0.084552   1.363154  0.173  0.720712  1.048773\n",
       "mon_ntile       0.961189  0.021462   1.808415  0.071  0.919553  1.002824"
      ]
     },
     "execution_count": 16,
     "metadata": {},
     "output_type": "execute_result"
    }
   ],
   "source": [
    "mba263.odds_ratios(m1)"
   ]
  },
  {
   "cell_type": "markdown",
   "id": "28bfe391-063e-4748-92ba-3d7c62abfa20",
   "metadata": {
    "jp-MarkdownHeadingCollapsed": true,
    "tags": []
   },
   "source": [
    "#### Predictions"
   ]
  },
  {
   "cell_type": "code",
   "execution_count": 17,
   "id": "e8d9ca76-de0a-46b9-8c7d-2178cef2308e",
   "metadata": {
    "execution": {
     "iopub.execute_input": "2023-03-20T22:01:17.245889Z",
     "iopub.status.busy": "2023-03-20T22:01:17.245498Z",
     "iopub.status.idle": "2023-03-20T22:01:17.315197Z",
     "shell.execute_reply": "2023-03-20T22:01:17.314019Z",
     "shell.execute_reply.started": "2023-03-20T22:01:17.245859Z"
    },
    "tags": []
   },
   "outputs": [],
   "source": [
    "dfm1['m1_pred_prob'] = m1.predict(exog=dfm1[m1_f])"
   ]
  },
  {
   "cell_type": "markdown",
   "id": "6a7eb3e3-5e3a-4302-9020-f9248539d352",
   "metadata": {},
   "source": [
    "###### "
   ]
  },
  {
   "cell_type": "markdown",
   "id": "aee73a88-9b6b-459a-833c-7ab59b191909",
   "metadata": {
    "jp-MarkdownHeadingCollapsed": true,
    "tags": []
   },
   "source": [
    "## M2: Neural network"
   ]
  },
  {
   "cell_type": "markdown",
   "id": "25274215-d0fd-4637-94b6-5fc4df59df04",
   "metadata": {
    "tags": []
   },
   "source": [
    "#### Model"
   ]
  },
  {
   "cell_type": "code",
   "execution_count": 18,
   "id": "e46b8ce6-3f60-4213-af6e-68a717c996fc",
   "metadata": {
    "execution": {
     "iopub.execute_input": "2023-03-20T22:01:17.317894Z",
     "iopub.status.busy": "2023-03-20T22:01:17.316915Z",
     "iopub.status.idle": "2023-03-20T22:01:17.409332Z",
     "shell.execute_reply": "2023-03-20T22:01:17.408063Z",
     "shell.execute_reply.started": "2023-03-20T22:01:17.317845Z"
    },
    "tags": []
   },
   "outputs": [],
   "source": [
    "dfm2 = df.copy()"
   ]
  },
  {
   "cell_type": "code",
   "execution_count": 19,
   "id": "07fff8f7-f0f8-4057-9f0b-d9bd87dcea38",
   "metadata": {
    "execution": {
     "iopub.execute_input": "2023-03-20T22:01:17.412881Z",
     "iopub.status.busy": "2023-03-20T22:01:17.412098Z",
     "iopub.status.idle": "2023-03-20T22:01:17.479911Z",
     "shell.execute_reply": "2023-03-20T22:01:17.478939Z",
     "shell.execute_reply.started": "2023-03-20T22:01:17.412834Z"
    },
    "tags": []
   },
   "outputs": [],
   "source": [
    "## Defining label and features for the model\n",
    "\n",
    "m2_l = ['res1']\n",
    "\n",
    "m2_f = [\n",
    "    # 'id',\n",
    "    # 'sex',\n",
    "    'sex_F',\n",
    "    'sex_M',\n",
    "    'sex_U',\n",
    "    'bizflag',\n",
    "    # 'zip',\n",
    "    # 'zip_bins',\n",
    "    'zip_bins_2',\n",
    "    'zip_bins_3',\n",
    "    'zip_bins_4',\n",
    "    'zip_bins_5',\n",
    "    'zip_bins_6',\n",
    "    'zip_bins_7',\n",
    "    'zip_bins_8',\n",
    "    'zip_bins_9',\n",
    "    'zip_bins_10',\n",
    "    'zip_bins_11',\n",
    "    'zip_bins_12',\n",
    "    'zip_bins_13',\n",
    "    'zip_bins_14',\n",
    "    'zip_bins_15',\n",
    "    'zip_bins_16',\n",
    "    'zip_bins_17',\n",
    "    'zip_bins_18',\n",
    "    'zip_bins_19',\n",
    "    'zip_bins_20',\n",
    "    'numords',\n",
    "    'dollars',\n",
    "    'last',\n",
    "    'sincepurch',\n",
    "    'version1',\n",
    "    'owntaxprod',\n",
    "    'upgraded',\n",
    "    'freq_ntile',\n",
    "    'rec_ntile',\n",
    "    'mon_ntile',\n",
    "]"
   ]
  },
  {
   "cell_type": "code",
   "execution_count": 20,
   "id": "50ad8ce3-30da-4bc0-b327-67dd2dcc7365",
   "metadata": {
    "execution": {
     "iopub.execute_input": "2023-03-20T22:01:17.481758Z",
     "iopub.status.busy": "2023-03-20T22:01:17.481197Z",
     "iopub.status.idle": "2023-03-20T22:01:19.209434Z",
     "shell.execute_reply": "2023-03-20T22:01:19.208104Z",
     "shell.execute_reply.started": "2023-03-20T22:01:17.481725Z"
    },
    "tags": []
   },
   "outputs": [],
   "source": [
    "m2 = mba263.neural_network(\n",
    "    dfm2[m2_l],\n",
    "    dfm2[m2_f]\n",
    ")"
   ]
  },
  {
   "cell_type": "markdown",
   "id": "34605947-4b29-4a28-9e29-f16d2f1c7bac",
   "metadata": {},
   "source": [
    "#### Coefficients"
   ]
  },
  {
   "cell_type": "markdown",
   "id": "32c3dbce-cb68-45dd-aae3-9d5989e90076",
   "metadata": {},
   "source": [
    "#### Predictions"
   ]
  },
  {
   "cell_type": "code",
   "execution_count": 21,
   "id": "da310cb7-a6d7-46f2-8fa5-af0380d0a635",
   "metadata": {
    "execution": {
     "iopub.execute_input": "2023-03-20T22:01:19.212197Z",
     "iopub.status.busy": "2023-03-20T22:01:19.211435Z",
     "iopub.status.idle": "2023-03-20T22:01:19.301610Z",
     "shell.execute_reply": "2023-03-20T22:01:19.300204Z",
     "shell.execute_reply.started": "2023-03-20T22:01:19.212156Z"
    },
    "tags": []
   },
   "outputs": [],
   "source": [
    "dfm2['m2_pred_prob'] = m2.predict(dfm2[m2_f])"
   ]
  },
  {
   "cell_type": "markdown",
   "id": "c319347b-e0dc-4ed8-b9d5-eb8288f78d72",
   "metadata": {},
   "source": [
    "###### "
   ]
  },
  {
   "cell_type": "markdown",
   "id": "2b203e37-d64e-409e-bd12-13b443c17a8f",
   "metadata": {
    "jp-MarkdownHeadingCollapsed": true,
    "tags": []
   },
   "source": [
    "## M3: Logistic regression with regularization"
   ]
  },
  {
   "cell_type": "markdown",
   "id": "f1576828-53d9-42a0-b412-3abe7b4cf430",
   "metadata": {
    "jp-MarkdownHeadingCollapsed": true,
    "tags": []
   },
   "source": [
    "#### Model"
   ]
  },
  {
   "cell_type": "code",
   "execution_count": 22,
   "id": "02562bd3-fecc-4196-803a-d945e9423aa5",
   "metadata": {
    "execution": {
     "iopub.execute_input": "2023-03-20T22:01:19.304607Z",
     "iopub.status.busy": "2023-03-20T22:01:19.303915Z",
     "iopub.status.idle": "2023-03-20T22:01:19.393504Z",
     "shell.execute_reply": "2023-03-20T22:01:19.392178Z",
     "shell.execute_reply.started": "2023-03-20T22:01:19.304536Z"
    },
    "tags": []
   },
   "outputs": [],
   "source": [
    "dfm3 = df.copy()"
   ]
  },
  {
   "cell_type": "code",
   "execution_count": 23,
   "id": "fe6d4954-a49e-4bc6-a082-9523dff49433",
   "metadata": {
    "execution": {
     "iopub.execute_input": "2023-03-20T22:01:19.396842Z",
     "iopub.status.busy": "2023-03-20T22:01:19.396250Z",
     "iopub.status.idle": "2023-03-20T22:01:19.466308Z",
     "shell.execute_reply": "2023-03-20T22:01:19.465361Z",
     "shell.execute_reply.started": "2023-03-20T22:01:19.396799Z"
    },
    "tags": []
   },
   "outputs": [],
   "source": [
    "## Defining label and features for the model\n",
    "\n",
    "m3_l = ['res1']\n",
    "\n",
    "m3_f = [\n",
    "    # 'id',\n",
    "    # 'sex',\n",
    "    'sex_F',\n",
    "    'sex_M',\n",
    "    'sex_U',\n",
    "    'bizflag',\n",
    "    # 'zip',\n",
    "    # 'zip_bins',\n",
    "    'zip_bins_2',\n",
    "    'zip_bins_3',\n",
    "    'zip_bins_4',\n",
    "    'zip_bins_5',\n",
    "    'zip_bins_6',\n",
    "    'zip_bins_7',\n",
    "    'zip_bins_8',\n",
    "    'zip_bins_9',\n",
    "    'zip_bins_10',\n",
    "    'zip_bins_11',\n",
    "    'zip_bins_12',\n",
    "    'zip_bins_13',\n",
    "    'zip_bins_14',\n",
    "    'zip_bins_15',\n",
    "    'zip_bins_16',\n",
    "    'zip_bins_17',\n",
    "    'zip_bins_18',\n",
    "    'zip_bins_19',\n",
    "    'zip_bins_20',\n",
    "    'numords',\n",
    "    'dollars',\n",
    "    'last',\n",
    "    'sincepurch',\n",
    "    'version1',\n",
    "    'owntaxprod',\n",
    "    'upgraded',\n",
    "    'freq_ntile',\n",
    "    'rec_ntile',\n",
    "    'mon_ntile',\n",
    "]"
   ]
  },
  {
   "cell_type": "code",
   "execution_count": 24,
   "id": "ba1b3342-4450-4aa0-9bc7-558df48ae7c6",
   "metadata": {
    "execution": {
     "iopub.execute_input": "2023-03-20T22:01:19.467840Z",
     "iopub.status.busy": "2023-03-20T22:01:19.467349Z",
     "iopub.status.idle": "2023-03-20T22:01:20.170643Z",
     "shell.execute_reply": "2023-03-20T22:01:20.169649Z",
     "shell.execute_reply.started": "2023-03-20T22:01:19.467806Z"
    },
    "tags": []
   },
   "outputs": [
    {
     "name": "stdout",
     "output_type": "stream",
     "text": [
      "Optimization terminated successfully    (Exit mode 0)\n",
      "            Current function value: 0.17584212471183377\n",
      "            Iterations: 244\n",
      "            Function evaluations: 250\n",
      "            Gradient evaluations: 244\n"
     ]
    }
   ],
   "source": [
    "m3 = mba263.logit_reg(\n",
    "    dfm3[m3_l],\n",
    "    dfm3[m3_f],\n",
    "    alpha=3\n",
    ")"
   ]
  },
  {
   "cell_type": "markdown",
   "id": "5fded363-f054-4fca-861a-f33fae4d5695",
   "metadata": {
    "jp-MarkdownHeadingCollapsed": true,
    "tags": []
   },
   "source": [
    "#### Coefficients"
   ]
  },
  {
   "cell_type": "code",
   "execution_count": 25,
   "id": "65543edb-250f-4f32-9081-e83e694881d1",
   "metadata": {
    "execution": {
     "iopub.execute_input": "2023-03-20T22:01:20.172864Z",
     "iopub.status.busy": "2023-03-20T22:01:20.172376Z",
     "iopub.status.idle": "2023-03-20T22:01:20.348914Z",
     "shell.execute_reply": "2023-03-20T22:01:20.347668Z",
     "shell.execute_reply.started": "2023-03-20T22:01:20.172829Z"
    },
    "scrolled": true,
    "tags": []
   },
   "outputs": [
    {
     "data": {
      "text/html": [
       "<table class=\"simpletable\">\n",
       "<tr>\n",
       "        <td>Model:</td>           <td>Mba263Logit</td>   <td>Pseudo R-squared:</td>    <td>0.114</td>   \n",
       "</tr>\n",
       "<tr>\n",
       "  <td>Dependent Variable:</td>       <td>res1</td>             <td>AIC:</td>         <td>6893.2518</td> \n",
       "</tr>\n",
       "<tr>\n",
       "         <td>Date:</td>        <td>2023-03-20 15:01</td>       <td>BIC:</td>         <td>7138.2599</td> \n",
       "</tr>\n",
       "<tr>\n",
       "   <td>No. Observations:</td>        <td>20000</td>       <td>Log-Likelihood:</td>    <td>-3415.6</td>  \n",
       "</tr>\n",
       "<tr>\n",
       "       <td>Df Model:</td>             <td>30</td>            <td>LL-Null:</td>        <td>-3854.7</td>  \n",
       "</tr>\n",
       "<tr>\n",
       "     <td>Df Residuals:</td>          <td>19969</td>        <td>LLR p-value:</td>    <td>2.5005e-165</td>\n",
       "</tr>\n",
       "<tr>\n",
       "      <td>Converged:</td>           <td>1.0000</td>           <td>Scale:</td>         <td>1.0000</td>   \n",
       "</tr>\n",
       "<tr>\n",
       "    <td>No. Iterations:</td>       <td>244.0000</td>             <td></td>               <td></td>      \n",
       "</tr>\n",
       "</table>\n",
       "<table class=\"simpletable\">\n",
       "<tr>\n",
       "       <td></td>        <th>Coef.</th>  <th>Std.Err.</th>    <th>z</th>     <th>P>|z|</th> <th>[0.025</th>  <th>0.975]</th> \n",
       "</tr>\n",
       "<tr>\n",
       "  <th>const</th>       <td>-1.7642</td>  <td>0.4904</td>  <td>-3.5975</td> <td>0.0003</td> <td>-2.7253</td> <td>-0.8030</td>\n",
       "</tr>\n",
       "<tr>\n",
       "  <th>sex_F</th>       <td>-0.1085</td>  <td>0.0865</td>  <td>-1.2545</td> <td>0.2097</td> <td>-0.2780</td> <td>0.0610</td> \n",
       "</tr>\n",
       "<tr>\n",
       "  <th>sex_M</th>       <td>0.0000</td>     <td>nan</td>     <td>nan</td>     <td>nan</td>    <td>nan</td>     <td>nan</td>  \n",
       "</tr>\n",
       "<tr>\n",
       "  <th>sex_U</th>       <td>0.0000</td>     <td>nan</td>     <td>nan</td>     <td>nan</td>    <td>nan</td>     <td>nan</td>  \n",
       "</tr>\n",
       "<tr>\n",
       "  <th>bizflag</th>     <td>-0.0910</td>  <td>0.0812</td>  <td>-1.1208</td> <td>0.2624</td> <td>-0.2501</td> <td>0.0681</td> \n",
       "</tr>\n",
       "<tr>\n",
       "  <th>zip_bins_2</th>  <td>-1.5728</td>  <td>0.1828</td>  <td>-8.6032</td> <td>0.0000</td> <td>-1.9311</td> <td>-1.2145</td>\n",
       "</tr>\n",
       "<tr>\n",
       "  <th>zip_bins_3</th>  <td>-1.5538</td>  <td>0.1843</td>  <td>-8.4321</td> <td>0.0000</td> <td>-1.9150</td> <td>-1.1927</td>\n",
       "</tr>\n",
       "<tr>\n",
       "  <th>zip_bins_4</th>  <td>-1.6998</td>  <td>0.1917</td>  <td>-8.8693</td> <td>0.0000</td> <td>-2.0755</td> <td>-1.3242</td>\n",
       "</tr>\n",
       "<tr>\n",
       "  <th>zip_bins_5</th>  <td>-1.5269</td>  <td>0.1801</td>  <td>-8.4790</td> <td>0.0000</td> <td>-1.8799</td> <td>-1.1740</td>\n",
       "</tr>\n",
       "<tr>\n",
       "  <th>zip_bins_6</th>  <td>-1.6159</td>  <td>0.1845</td>  <td>-8.7568</td> <td>0.0000</td> <td>-1.9775</td> <td>-1.2542</td>\n",
       "</tr>\n",
       "<tr>\n",
       "  <th>zip_bins_7</th>  <td>-1.4942</td>  <td>0.1801</td>  <td>-8.2987</td> <td>0.0000</td> <td>-1.8471</td> <td>-1.1413</td>\n",
       "</tr>\n",
       "<tr>\n",
       "  <th>zip_bins_8</th>  <td>-2.1018</td>  <td>0.2224</td>  <td>-9.4494</td> <td>0.0000</td> <td>-2.5377</td> <td>-1.6658</td>\n",
       "</tr>\n",
       "<tr>\n",
       "  <th>zip_bins_9</th>  <td>-1.4892</td>  <td>0.1763</td>  <td>-8.4471</td> <td>0.0000</td> <td>-1.8348</td> <td>-1.1437</td>\n",
       "</tr>\n",
       "<tr>\n",
       "  <th>zip_bins_10</th> <td>-1.3116</td>  <td>0.1677</td>  <td>-7.8198</td> <td>0.0000</td> <td>-1.6404</td> <td>-0.9829</td>\n",
       "</tr>\n",
       "<tr>\n",
       "  <th>zip_bins_11</th> <td>-1.6160</td>  <td>0.1831</td>  <td>-8.8241</td> <td>0.0000</td> <td>-1.9750</td> <td>-1.2571</td>\n",
       "</tr>\n",
       "<tr>\n",
       "  <th>zip_bins_12</th> <td>-1.1678</td>  <td>0.1616</td>  <td>-7.2273</td> <td>0.0000</td> <td>-1.4845</td> <td>-0.8511</td>\n",
       "</tr>\n",
       "<tr>\n",
       "  <th>zip_bins_13</th> <td>-1.6977</td>  <td>0.1896</td>  <td>-8.9533</td> <td>0.0000</td> <td>-2.0694</td> <td>-1.3261</td>\n",
       "</tr>\n",
       "<tr>\n",
       "  <th>zip_bins_14</th> <td>-1.8431</td>  <td>0.2024</td>  <td>-9.1065</td> <td>0.0000</td> <td>-2.2398</td> <td>-1.4464</td>\n",
       "</tr>\n",
       "<tr>\n",
       "  <th>zip_bins_15</th> <td>-1.4042</td>  <td>0.1734</td>  <td>-8.0982</td> <td>0.0000</td> <td>-1.7441</td> <td>-1.0644</td>\n",
       "</tr>\n",
       "<tr>\n",
       "  <th>zip_bins_16</th> <td>-1.7383</td>  <td>0.1954</td>  <td>-8.8968</td> <td>0.0000</td> <td>-2.1213</td> <td>-1.3554</td>\n",
       "</tr>\n",
       "<tr>\n",
       "  <th>zip_bins_17</th> <td>-1.7111</td>  <td>0.1917</td>  <td>-8.9248</td> <td>0.0000</td> <td>-2.0869</td> <td>-1.3353</td>\n",
       "</tr>\n",
       "<tr>\n",
       "  <th>zip_bins_18</th> <td>-1.3439</td>  <td>0.1702</td>  <td>-7.8980</td> <td>0.0000</td> <td>-1.6774</td> <td>-1.0104</td>\n",
       "</tr>\n",
       "<tr>\n",
       "  <th>zip_bins_19</th> <td>-1.6856</td>  <td>0.1883</td>  <td>-8.9532</td> <td>0.0000</td> <td>-2.0546</td> <td>-1.3166</td>\n",
       "</tr>\n",
       "<tr>\n",
       "  <th>zip_bins_20</th> <td>-1.5761</td>  <td>0.1844</td>  <td>-8.5450</td> <td>0.0000</td> <td>-1.9376</td> <td>-1.2146</td>\n",
       "</tr>\n",
       "<tr>\n",
       "  <th>numords</th>     <td>0.2045</td>   <td>0.1088</td>  <td>1.8792</td>  <td>0.0602</td> <td>-0.0088</td> <td>0.4177</td> \n",
       "</tr>\n",
       "<tr>\n",
       "  <th>dollars</th>     <td>0.0004</td>   <td>0.0006</td>  <td>0.5704</td>  <td>0.5684</td> <td>-0.0009</td> <td>0.0016</td> \n",
       "</tr>\n",
       "<tr>\n",
       "  <th>last</th>        <td>-0.0261</td>  <td>0.0293</td>  <td>-0.8905</td> <td>0.3732</td> <td>-0.0835</td> <td>0.0313</td> \n",
       "</tr>\n",
       "<tr>\n",
       "  <th>sincepurch</th>  <td>0.0093</td>   <td>0.0063</td>  <td>1.4673</td>  <td>0.1423</td> <td>-0.0031</td> <td>0.0217</td> \n",
       "</tr>\n",
       "<tr>\n",
       "  <th>version1</th>    <td>0.5550</td>   <td>0.1390</td>  <td>3.9930</td>  <td>0.0001</td> <td>0.2826</td>  <td>0.8274</td> \n",
       "</tr>\n",
       "<tr>\n",
       "  <th>owntaxprod</th>  <td>0.0000</td>     <td>nan</td>     <td>nan</td>     <td>nan</td>    <td>nan</td>     <td>nan</td>  \n",
       "</tr>\n",
       "<tr>\n",
       "  <th>upgraded</th>    <td>0.6984</td>   <td>0.1355</td>  <td>5.1532</td>  <td>0.0000</td> <td>0.4328</td>  <td>0.9641</td> \n",
       "</tr>\n",
       "<tr>\n",
       "  <th>freq_ntile</th>  <td>0.0129</td>   <td>0.0458</td>  <td>0.2825</td>  <td>0.7776</td> <td>-0.0768</td> <td>0.1027</td> \n",
       "</tr>\n",
       "<tr>\n",
       "  <th>rec_ntile</th>   <td>-0.0819</td>  <td>0.0948</td>  <td>-0.8638</td> <td>0.3877</td> <td>-0.2677</td> <td>0.1039</td> \n",
       "</tr>\n",
       "<tr>\n",
       "  <th>mon_ntile</th>   <td>-0.0367</td>  <td>0.0221</td>  <td>-1.6605</td> <td>0.0968</td> <td>-0.0800</td> <td>0.0066</td> \n",
       "</tr>\n",
       "</table>"
      ],
      "text/plain": [
       "<class 'statsmodels.iolib.summary2.Summary'>\n",
       "\"\"\"\n",
       "                       Results: Mba263Logit\n",
       "==================================================================\n",
       "Model:              Mba263Logit      Pseudo R-squared: 0.114      \n",
       "Dependent Variable: res1             AIC:              6893.2518  \n",
       "Date:               2023-03-20 15:01 BIC:              7138.2599  \n",
       "No. Observations:   20000            Log-Likelihood:   -3415.6    \n",
       "Df Model:           30               LL-Null:          -3854.7    \n",
       "Df Residuals:       19969            LLR p-value:      2.5005e-165\n",
       "Converged:          1.0000           Scale:            1.0000     \n",
       "No. Iterations:     244.0000                                      \n",
       "-------------------------------------------------------------------\n",
       "                Coef.   Std.Err.     z     P>|z|    [0.025   0.975]\n",
       "-------------------------------------------------------------------\n",
       "const          -1.7642    0.4904  -3.5975  0.0003  -2.7253  -0.8030\n",
       "sex_F          -0.1085    0.0865  -1.2545  0.2097  -0.2780   0.0610\n",
       "sex_M           0.0000       nan      nan     nan      nan      nan\n",
       "sex_U           0.0000       nan      nan     nan      nan      nan\n",
       "bizflag        -0.0910    0.0812  -1.1208  0.2624  -0.2501   0.0681\n",
       "zip_bins_2     -1.5728    0.1828  -8.6032  0.0000  -1.9311  -1.2145\n",
       "zip_bins_3     -1.5538    0.1843  -8.4321  0.0000  -1.9150  -1.1927\n",
       "zip_bins_4     -1.6998    0.1917  -8.8693  0.0000  -2.0755  -1.3242\n",
       "zip_bins_5     -1.5269    0.1801  -8.4790  0.0000  -1.8799  -1.1740\n",
       "zip_bins_6     -1.6159    0.1845  -8.7568  0.0000  -1.9775  -1.2542\n",
       "zip_bins_7     -1.4942    0.1801  -8.2987  0.0000  -1.8471  -1.1413\n",
       "zip_bins_8     -2.1018    0.2224  -9.4494  0.0000  -2.5377  -1.6658\n",
       "zip_bins_9     -1.4892    0.1763  -8.4471  0.0000  -1.8348  -1.1437\n",
       "zip_bins_10    -1.3116    0.1677  -7.8198  0.0000  -1.6404  -0.9829\n",
       "zip_bins_11    -1.6160    0.1831  -8.8241  0.0000  -1.9750  -1.2571\n",
       "zip_bins_12    -1.1678    0.1616  -7.2273  0.0000  -1.4845  -0.8511\n",
       "zip_bins_13    -1.6977    0.1896  -8.9533  0.0000  -2.0694  -1.3261\n",
       "zip_bins_14    -1.8431    0.2024  -9.1065  0.0000  -2.2398  -1.4464\n",
       "zip_bins_15    -1.4042    0.1734  -8.0982  0.0000  -1.7441  -1.0644\n",
       "zip_bins_16    -1.7383    0.1954  -8.8968  0.0000  -2.1213  -1.3554\n",
       "zip_bins_17    -1.7111    0.1917  -8.9248  0.0000  -2.0869  -1.3353\n",
       "zip_bins_18    -1.3439    0.1702  -7.8980  0.0000  -1.6774  -1.0104\n",
       "zip_bins_19    -1.6856    0.1883  -8.9532  0.0000  -2.0546  -1.3166\n",
       "zip_bins_20    -1.5761    0.1844  -8.5450  0.0000  -1.9376  -1.2146\n",
       "numords         0.2045    0.1088   1.8792  0.0602  -0.0088   0.4177\n",
       "dollars         0.0004    0.0006   0.5704  0.5684  -0.0009   0.0016\n",
       "last           -0.0261    0.0293  -0.8905  0.3732  -0.0835   0.0313\n",
       "sincepurch      0.0093    0.0063   1.4673  0.1423  -0.0031   0.0217\n",
       "version1        0.5550    0.1390   3.9930  0.0001   0.2826   0.8274\n",
       "owntaxprod      0.0000       nan      nan     nan      nan      nan\n",
       "upgraded        0.6984    0.1355   5.1532  0.0000   0.4328   0.9641\n",
       "freq_ntile      0.0129    0.0458   0.2825  0.7776  -0.0768   0.1027\n",
       "rec_ntile      -0.0819    0.0948  -0.8638  0.3877  -0.2677   0.1039\n",
       "mon_ntile      -0.0367    0.0221  -1.6605  0.0968  -0.0800   0.0066\n",
       "==================================================================\n",
       "\n",
       "\"\"\""
      ]
     },
     "execution_count": 25,
     "metadata": {},
     "output_type": "execute_result"
    }
   ],
   "source": [
    "m3.summary2()"
   ]
  },
  {
   "cell_type": "markdown",
   "id": "72dbb85a-b85c-4549-9419-cb6d3fa3adbb",
   "metadata": {
    "jp-MarkdownHeadingCollapsed": true,
    "tags": []
   },
   "source": [
    "#### Predictions"
   ]
  },
  {
   "cell_type": "code",
   "execution_count": 26,
   "id": "c8569a4b-47af-4521-b337-d8f72dec29c1",
   "metadata": {
    "execution": {
     "iopub.execute_input": "2023-03-20T22:01:20.351112Z",
     "iopub.status.busy": "2023-03-20T22:01:20.350565Z",
     "iopub.status.idle": "2023-03-20T22:01:20.418778Z",
     "shell.execute_reply": "2023-03-20T22:01:20.417756Z",
     "shell.execute_reply.started": "2023-03-20T22:01:20.351080Z"
    },
    "tags": []
   },
   "outputs": [],
   "source": [
    "dfm3['m3_pred_prob'] = m3.predict(dfm3[m3_f])"
   ]
  },
  {
   "cell_type": "markdown",
   "id": "64da6a35-b9ce-43f6-8099-aa37cbb2c16e",
   "metadata": {},
   "source": [
    "###### "
   ]
  },
  {
   "cell_type": "markdown",
   "id": "cc0a92c2-a5f0-4105-90dc-f9e812bd89a9",
   "metadata": {
    "jp-MarkdownHeadingCollapsed": true,
    "tags": []
   },
   "source": [
    "## M4: Random forest"
   ]
  },
  {
   "cell_type": "markdown",
   "id": "30c1ed00-149c-47a3-9edb-7caea0291f7f",
   "metadata": {
    "jp-MarkdownHeadingCollapsed": true,
    "tags": []
   },
   "source": [
    "#### Model"
   ]
  },
  {
   "cell_type": "code",
   "execution_count": 27,
   "id": "2b1dcad0-4016-4078-b668-5a91b9fc2023",
   "metadata": {
    "execution": {
     "iopub.execute_input": "2023-03-20T22:01:20.421295Z",
     "iopub.status.busy": "2023-03-20T22:01:20.420805Z",
     "iopub.status.idle": "2023-03-20T22:01:20.487253Z",
     "shell.execute_reply": "2023-03-20T22:01:20.486251Z",
     "shell.execute_reply.started": "2023-03-20T22:01:20.421262Z"
    },
    "tags": []
   },
   "outputs": [],
   "source": [
    "dfm4 = df.copy()"
   ]
  },
  {
   "cell_type": "code",
   "execution_count": 28,
   "id": "e558fb76-9304-4516-9b43-de37bff1495d",
   "metadata": {
    "execution": {
     "iopub.execute_input": "2023-03-20T22:01:20.489392Z",
     "iopub.status.busy": "2023-03-20T22:01:20.488873Z",
     "iopub.status.idle": "2023-03-20T22:01:20.552106Z",
     "shell.execute_reply": "2023-03-20T22:01:20.551176Z",
     "shell.execute_reply.started": "2023-03-20T22:01:20.489362Z"
    },
    "tags": []
   },
   "outputs": [],
   "source": [
    "## Defining label and features for the model\n",
    "\n",
    "m4_l = ['res1']\n",
    "\n",
    "m4_f = [\n",
    "    # 'id',\n",
    "    # 'sex',\n",
    "    'sex_F',\n",
    "    'sex_M',\n",
    "    'sex_U',\n",
    "    'bizflag',\n",
    "    # 'zip',\n",
    "    # 'zip_bins',\n",
    "    'zip_bins_2',\n",
    "    'zip_bins_3',\n",
    "    'zip_bins_4',\n",
    "    'zip_bins_5',\n",
    "    'zip_bins_6',\n",
    "    'zip_bins_7',\n",
    "    'zip_bins_8',\n",
    "    'zip_bins_9',\n",
    "    'zip_bins_10',\n",
    "    'zip_bins_11',\n",
    "    'zip_bins_12',\n",
    "    'zip_bins_13',\n",
    "    'zip_bins_14',\n",
    "    'zip_bins_15',\n",
    "    'zip_bins_16',\n",
    "    'zip_bins_17',\n",
    "    'zip_bins_18',\n",
    "    'zip_bins_19',\n",
    "    'zip_bins_20',\n",
    "    'numords',\n",
    "    'dollars',\n",
    "    'last',\n",
    "    'sincepurch',\n",
    "    'version1',\n",
    "    'owntaxprod',\n",
    "    'upgraded',\n",
    "    'freq_ntile',\n",
    "    'rec_ntile',\n",
    "    'mon_ntile',\n",
    "]"
   ]
  },
  {
   "cell_type": "code",
   "execution_count": 29,
   "id": "6869556d-b6c4-4961-8771-17b3e3c43dc5",
   "metadata": {
    "execution": {
     "iopub.execute_input": "2023-03-20T22:01:20.554174Z",
     "iopub.status.busy": "2023-03-20T22:01:20.553765Z",
     "iopub.status.idle": "2023-03-20T22:01:23.673819Z",
     "shell.execute_reply": "2023-03-20T22:01:23.672666Z",
     "shell.execute_reply.started": "2023-03-20T22:01:20.554144Z"
    },
    "tags": []
   },
   "outputs": [],
   "source": [
    "m4 = mba263.random_forest(\n",
    "    dfm4[m4_l],\n",
    "    dfm4[m4_f],\n",
    "    trees=500,\n",
    "    leaf_nodes=15,\n",
    ")"
   ]
  },
  {
   "cell_type": "markdown",
   "id": "9cb14933-0778-44d1-a374-b72356909811",
   "metadata": {},
   "source": [
    "#### Coefficients"
   ]
  },
  {
   "cell_type": "markdown",
   "id": "8565983c-0992-418e-9491-bb46b3f0f825",
   "metadata": {},
   "source": [
    "#### Predictions"
   ]
  },
  {
   "cell_type": "code",
   "execution_count": 30,
   "id": "ac789850-957b-44a5-abdc-d1fb452f9a0c",
   "metadata": {
    "execution": {
     "iopub.execute_input": "2023-03-20T22:01:23.676002Z",
     "iopub.status.busy": "2023-03-20T22:01:23.675491Z",
     "iopub.status.idle": "2023-03-20T22:01:24.068243Z",
     "shell.execute_reply": "2023-03-20T22:01:24.067153Z",
     "shell.execute_reply.started": "2023-03-20T22:01:23.675969Z"
    },
    "tags": []
   },
   "outputs": [],
   "source": [
    "dfm4['m4_pred_prob'] = m4.predict(dfm4[m4_f])"
   ]
  },
  {
   "cell_type": "markdown",
   "id": "83ca515b-9ef5-4920-aa5f-cafde60e8884",
   "metadata": {},
   "source": [
    "###### "
   ]
  },
  {
   "cell_type": "markdown",
   "id": "f1839464-3962-4675-992d-1fd447a79b98",
   "metadata": {
    "jp-MarkdownHeadingCollapsed": true,
    "tags": []
   },
   "source": [
    "## M5: Logistic regression with regularization and interactions"
   ]
  },
  {
   "cell_type": "markdown",
   "id": "c80f14fe-7ff9-4441-8eb4-f4fb420d5383",
   "metadata": {},
   "source": [
    "#### Model"
   ]
  },
  {
   "cell_type": "code",
   "execution_count": 82,
   "id": "cc845947-5bed-45d7-b2cd-677fa7a98f02",
   "metadata": {
    "execution": {
     "iopub.execute_input": "2023-03-20T22:51:05.840550Z",
     "iopub.status.busy": "2023-03-20T22:51:05.840028Z",
     "iopub.status.idle": "2023-03-20T22:51:05.936211Z",
     "shell.execute_reply": "2023-03-20T22:51:05.935133Z",
     "shell.execute_reply.started": "2023-03-20T22:51:05.840515Z"
    },
    "tags": []
   },
   "outputs": [],
   "source": [
    "dfm5 = df.copy()"
   ]
  },
  {
   "cell_type": "code",
   "execution_count": 83,
   "id": "53597820-c5f4-496a-bcfe-250250803ca5",
   "metadata": {
    "execution": {
     "iopub.execute_input": "2023-03-20T22:51:05.939389Z",
     "iopub.status.busy": "2023-03-20T22:51:05.938915Z",
     "iopub.status.idle": "2023-03-20T22:51:06.026228Z",
     "shell.execute_reply": "2023-03-20T22:51:06.024973Z",
     "shell.execute_reply.started": "2023-03-20T22:51:05.939357Z"
    },
    "tags": []
   },
   "outputs": [],
   "source": [
    "## Defining label and features for the model\n",
    "\n",
    "m5_l = ['res1']\n",
    "\n",
    "m5_f = [\n",
    "    # 'id',\n",
    "    # 'sex',\n",
    "    'sex_F',\n",
    "    'sex_M',\n",
    "    'sex_U',\n",
    "    'bizflag',\n",
    "    # 'zip',\n",
    "    # 'zip_bins',\n",
    "    'zip_bins_2',\n",
    "    'zip_bins_3',\n",
    "    'zip_bins_4',\n",
    "    'zip_bins_5',\n",
    "    'zip_bins_6',\n",
    "    'zip_bins_7',\n",
    "    'zip_bins_8',\n",
    "    'zip_bins_9',\n",
    "    'zip_bins_10',\n",
    "    'zip_bins_11',\n",
    "    'zip_bins_12',\n",
    "    'zip_bins_13',\n",
    "    'zip_bins_14',\n",
    "    'zip_bins_15',\n",
    "    'zip_bins_16',\n",
    "    'zip_bins_17',\n",
    "    'zip_bins_18',\n",
    "    'zip_bins_19',\n",
    "    'zip_bins_20',\n",
    "    'numords',\n",
    "    'dollars',\n",
    "    'last',\n",
    "    'sincepurch',\n",
    "    'version1',\n",
    "    'owntaxprod',\n",
    "    'upgraded',\n",
    "    'freq_ntile',\n",
    "    'rec_ntile',\n",
    "    'mon_ntile',\n",
    "]"
   ]
  },
  {
   "cell_type": "code",
   "execution_count": 84,
   "id": "ff29ff53-85df-4352-9a8f-29ec45b0fad1",
   "metadata": {
    "execution": {
     "iopub.execute_input": "2023-03-20T22:51:06.028344Z",
     "iopub.status.busy": "2023-03-20T22:51:06.027872Z",
     "iopub.status.idle": "2023-03-20T22:51:06.148809Z",
     "shell.execute_reply": "2023-03-20T22:51:06.147794Z",
     "shell.execute_reply.started": "2023-03-20T22:51:06.028308Z"
    },
    "scrolled": true,
    "tags": []
   },
   "outputs": [],
   "source": [
    "## Generating interactions among selected variables\n",
    "\n",
    "### List of selected variables\n",
    "m5_int = [\n",
    "    'sex_F',\n",
    "    'sex_M',\n",
    "    'sex_U',\n",
    "    'bizflag',\n",
    "    'version1',\n",
    "    'owntaxprod',\n",
    "    'upgraded',\n",
    "    'freq_ntile',\n",
    "    'rec_ntile',\n",
    "    'mon_ntile',\n",
    "]\n",
    "\n",
    "## List of tuples with all interaction excluding sex\n",
    "m5_int = [\n",
    "    x \n",
    "    for x \n",
    "    in itertools.combinations(m5_int, 2) \n",
    "    if\n",
    "        x[0][:4] != x[1][:4] ## Excluding interactions between sex\n",
    "]\n",
    "\n",
    "## Adding all interactions to dataframe and list of features for the model\n",
    "for x in m5_int:\n",
    "    \n",
    "    ### Dataframe\n",
    "    dfm5[x[0] + '-&-' + x[1]] = dfm5[x[0]]*dfm5[x[1]]\n",
    "    \n",
    "    ### List of features\n",
    "    m5_f.append(x[0] + '-&-' + x[1])"
   ]
  },
  {
   "cell_type": "code",
   "execution_count": 85,
   "id": "6af17a46-2d27-40bf-8d0d-f932b3dafb45",
   "metadata": {
    "execution": {
     "iopub.execute_input": "2023-03-20T22:51:06.152317Z",
     "iopub.status.busy": "2023-03-20T22:51:06.151922Z",
     "iopub.status.idle": "2023-03-20T22:51:12.203257Z",
     "shell.execute_reply": "2023-03-20T22:51:12.202265Z",
     "shell.execute_reply.started": "2023-03-20T22:51:06.152286Z"
    },
    "tags": []
   },
   "outputs": [
    {
     "name": "stdout",
     "output_type": "stream",
     "text": [
      "Optimization terminated successfully    (Exit mode 0)\n",
      "            Current function value: 0.17358077479794215\n",
      "            Iterations: 444\n",
      "            Function evaluations: 454\n",
      "            Gradient evaluations: 444\n"
     ]
    }
   ],
   "source": [
    "m5 = mba263.logit_reg(\n",
    "    dfm5[m5_l],\n",
    "    dfm5[m5_f],\n",
    "    alpha=3\n",
    ")"
   ]
  },
  {
   "cell_type": "markdown",
   "id": "cb4992e3-1430-440c-9331-8ca4d6662725",
   "metadata": {
    "tags": []
   },
   "source": [
    "#### Coefficients"
   ]
  },
  {
   "cell_type": "code",
   "execution_count": 86,
   "id": "6cb4a018-b983-4650-8fd5-30874f145422",
   "metadata": {
    "execution": {
     "iopub.execute_input": "2023-03-20T22:51:12.205764Z",
     "iopub.status.busy": "2023-03-20T22:51:12.205311Z",
     "iopub.status.idle": "2023-03-20T22:51:12.309272Z",
     "shell.execute_reply": "2023-03-20T22:51:12.308061Z",
     "shell.execute_reply.started": "2023-03-20T22:51:12.205731Z"
    },
    "tags": []
   },
   "outputs": [
    {
     "data": {
      "text/html": [
       "<div>\n",
       "<style scoped>\n",
       "    .dataframe tbody tr th:only-of-type {\n",
       "        vertical-align: middle;\n",
       "    }\n",
       "\n",
       "    .dataframe tbody tr th {\n",
       "        vertical-align: top;\n",
       "    }\n",
       "\n",
       "    .dataframe thead th {\n",
       "        text-align: right;\n",
       "    }\n",
       "</style>\n",
       "<table border=\"1\" class=\"dataframe\">\n",
       "  <thead>\n",
       "    <tr style=\"text-align: right;\">\n",
       "      <th></th>\n",
       "      <th>Odds ratios</th>\n",
       "      <th>std err</th>\n",
       "      <th>z</th>\n",
       "      <th>P&gt;|z|</th>\n",
       "      <th>[0.025</th>\n",
       "      <th>0.975]</th>\n",
       "    </tr>\n",
       "  </thead>\n",
       "  <tbody>\n",
       "    <tr>\n",
       "      <th>sex_F</th>\n",
       "      <td>1.000000</td>\n",
       "      <td>NaN</td>\n",
       "      <td>NaN</td>\n",
       "      <td>NaN</td>\n",
       "      <td>NaN</td>\n",
       "      <td>NaN</td>\n",
       "    </tr>\n",
       "    <tr>\n",
       "      <th>sex_M</th>\n",
       "      <td>0.929779</td>\n",
       "      <td>0.180782</td>\n",
       "      <td>0.388430</td>\n",
       "      <td>0.698</td>\n",
       "      <td>0.579061</td>\n",
       "      <td>1.280497</td>\n",
       "    </tr>\n",
       "    <tr>\n",
       "      <th>sex_U</th>\n",
       "      <td>1.000000</td>\n",
       "      <td>NaN</td>\n",
       "      <td>NaN</td>\n",
       "      <td>NaN</td>\n",
       "      <td>NaN</td>\n",
       "      <td>NaN</td>\n",
       "    </tr>\n",
       "    <tr>\n",
       "      <th>bizflag</th>\n",
       "      <td>0.933024</td>\n",
       "      <td>0.216503</td>\n",
       "      <td>0.309354</td>\n",
       "      <td>0.757</td>\n",
       "      <td>0.513008</td>\n",
       "      <td>1.353040</td>\n",
       "    </tr>\n",
       "    <tr>\n",
       "      <th>zip_bins_2</th>\n",
       "      <td>0.209672</td>\n",
       "      <td>0.038702</td>\n",
       "      <td>20.420781</td>\n",
       "      <td>0.000</td>\n",
       "      <td>0.134590</td>\n",
       "      <td>0.284754</td>\n",
       "    </tr>\n",
       "    <tr>\n",
       "      <th>...</th>\n",
       "      <td>...</td>\n",
       "      <td>...</td>\n",
       "      <td>...</td>\n",
       "      <td>...</td>\n",
       "      <td>...</td>\n",
       "      <td>...</td>\n",
       "    </tr>\n",
       "    <tr>\n",
       "      <th>upgraded-&amp;-rec_ntile</th>\n",
       "      <td>1.032337</td>\n",
       "      <td>0.030255</td>\n",
       "      <td>1.068810</td>\n",
       "      <td>0.285</td>\n",
       "      <td>0.973642</td>\n",
       "      <td>1.091032</td>\n",
       "    </tr>\n",
       "    <tr>\n",
       "      <th>upgraded-&amp;-mon_ntile</th>\n",
       "      <td>1.000492</td>\n",
       "      <td>0.036793</td>\n",
       "      <td>0.013361</td>\n",
       "      <td>0.989</td>\n",
       "      <td>0.929113</td>\n",
       "      <td>1.071871</td>\n",
       "    </tr>\n",
       "    <tr>\n",
       "      <th>freq_ntile-&amp;-rec_ntile</th>\n",
       "      <td>1.003241</td>\n",
       "      <td>0.004839</td>\n",
       "      <td>0.669813</td>\n",
       "      <td>0.503</td>\n",
       "      <td>0.993853</td>\n",
       "      <td>1.012630</td>\n",
       "    </tr>\n",
       "    <tr>\n",
       "      <th>freq_ntile-&amp;-mon_ntile</th>\n",
       "      <td>1.008305</td>\n",
       "      <td>0.003905</td>\n",
       "      <td>2.126564</td>\n",
       "      <td>0.033</td>\n",
       "      <td>1.000729</td>\n",
       "      <td>1.015881</td>\n",
       "    </tr>\n",
       "    <tr>\n",
       "      <th>rec_ntile-&amp;-mon_ntile</th>\n",
       "      <td>0.990845</td>\n",
       "      <td>0.005696</td>\n",
       "      <td>1.607334</td>\n",
       "      <td>0.108</td>\n",
       "      <td>0.979796</td>\n",
       "      <td>1.001895</td>\n",
       "    </tr>\n",
       "  </tbody>\n",
       "</table>\n",
       "<p>75 rows × 6 columns</p>\n",
       "</div>"
      ],
      "text/plain": [
       "                        Odds ratios   std err          z  P>|z|    [0.025  \\\n",
       "sex_F                      1.000000       NaN        NaN    NaN       NaN   \n",
       "sex_M                      0.929779  0.180782   0.388430  0.698  0.579061   \n",
       "sex_U                      1.000000       NaN        NaN    NaN       NaN   \n",
       "bizflag                    0.933024  0.216503   0.309354  0.757  0.513008   \n",
       "zip_bins_2                 0.209672  0.038702  20.420781  0.000  0.134590   \n",
       "...                             ...       ...        ...    ...       ...   \n",
       "upgraded-&-rec_ntile       1.032337  0.030255   1.068810  0.285  0.973642   \n",
       "upgraded-&-mon_ntile       1.000492  0.036793   0.013361  0.989  0.929113   \n",
       "freq_ntile-&-rec_ntile     1.003241  0.004839   0.669813  0.503  0.993853   \n",
       "freq_ntile-&-mon_ntile     1.008305  0.003905   2.126564  0.033  1.000729   \n",
       "rec_ntile-&-mon_ntile      0.990845  0.005696   1.607334  0.108  0.979796   \n",
       "\n",
       "                          0.975]  \n",
       "sex_F                        NaN  \n",
       "sex_M                   1.280497  \n",
       "sex_U                        NaN  \n",
       "bizflag                 1.353040  \n",
       "zip_bins_2              0.284754  \n",
       "...                          ...  \n",
       "upgraded-&-rec_ntile    1.091032  \n",
       "upgraded-&-mon_ntile    1.071871  \n",
       "freq_ntile-&-rec_ntile  1.012630  \n",
       "freq_ntile-&-mon_ntile  1.015881  \n",
       "rec_ntile-&-mon_ntile   1.001895  \n",
       "\n",
       "[75 rows x 6 columns]"
      ]
     },
     "execution_count": 86,
     "metadata": {},
     "output_type": "execute_result"
    }
   ],
   "source": [
    "mba263.odds_ratios(m5)"
   ]
  },
  {
   "cell_type": "code",
   "execution_count": 87,
   "id": "75c99568-1e5a-43de-891a-0416ac5373ed",
   "metadata": {
    "execution": {
     "iopub.execute_input": "2023-03-20T22:51:12.312397Z",
     "iopub.status.busy": "2023-03-20T22:51:12.311889Z",
     "iopub.status.idle": "2023-03-20T22:51:12.573796Z",
     "shell.execute_reply": "2023-03-20T22:51:12.572910Z",
     "shell.execute_reply.started": "2023-03-20T22:51:12.312363Z"
    },
    "scrolled": true,
    "tags": []
   },
   "outputs": [
    {
     "data": {
      "text/html": [
       "<table class=\"simpletable\">\n",
       "<tr>\n",
       "        <td>Model:</td>           <td>Mba263Logit</td>   <td>Pseudo R-squared:</td>    <td>0.128</td>   \n",
       "</tr>\n",
       "<tr>\n",
       "  <td>Dependent Variable:</td>       <td>res1</td>             <td>AIC:</td>         <td>6838.3300</td> \n",
       "</tr>\n",
       "<tr>\n",
       "         <td>Date:</td>        <td>2023-03-20 15:51</td>       <td>BIC:</td>         <td>7304.6358</td> \n",
       "</tr>\n",
       "<tr>\n",
       "   <td>No. Observations:</td>        <td>20000</td>       <td>Log-Likelihood:</td>    <td>-3360.2</td>  \n",
       "</tr>\n",
       "<tr>\n",
       "       <td>Df Model:</td>             <td>58</td>            <td>LL-Null:</td>        <td>-3854.7</td>  \n",
       "</tr>\n",
       "<tr>\n",
       "     <td>Df Residuals:</td>          <td>19941</td>        <td>LLR p-value:</td>    <td>1.6624e-169</td>\n",
       "</tr>\n",
       "<tr>\n",
       "      <td>Converged:</td>           <td>1.0000</td>           <td>Scale:</td>         <td>1.0000</td>   \n",
       "</tr>\n",
       "<tr>\n",
       "    <td>No. Iterations:</td>       <td>444.0000</td>             <td></td>               <td></td>      \n",
       "</tr>\n",
       "</table>\n",
       "<table class=\"simpletable\">\n",
       "<tr>\n",
       "             <td></td>              <th>Coef.</th>  <th>Std.Err.</th>    <th>z</th>     <th>P>|z|</th> <th>[0.025</th>  <th>0.975]</th> \n",
       "</tr>\n",
       "<tr>\n",
       "  <th>const</th>                   <td>-1.4874</td>  <td>0.3262</td>  <td>-4.5594</td> <td>0.0000</td> <td>-2.1267</td> <td>-0.8480</td>\n",
       "</tr>\n",
       "<tr>\n",
       "  <th>sex_F</th>                   <td>0.0000</td>     <td>nan</td>     <td>nan</td>     <td>nan</td>    <td>nan</td>     <td>nan</td>  \n",
       "</tr>\n",
       "<tr>\n",
       "  <th>sex_M</th>                   <td>-0.0728</td>  <td>0.1944</td>  <td>-0.3745</td> <td>0.7081</td> <td>-0.4539</td> <td>0.3083</td> \n",
       "</tr>\n",
       "<tr>\n",
       "  <th>sex_U</th>                   <td>0.0000</td>     <td>nan</td>     <td>nan</td>     <td>nan</td>    <td>nan</td>     <td>nan</td>  \n",
       "</tr>\n",
       "<tr>\n",
       "  <th>bizflag</th>                 <td>-0.0693</td>  <td>0.2320</td>  <td>-0.2988</td> <td>0.7651</td> <td>-0.5241</td> <td>0.3855</td> \n",
       "</tr>\n",
       "<tr>\n",
       "  <th>zip_bins_2</th>              <td>-1.5622</td>  <td>0.1846</td>  <td>-8.4634</td> <td>0.0000</td> <td>-1.9240</td> <td>-1.2004</td>\n",
       "</tr>\n",
       "<tr>\n",
       "  <th>zip_bins_3</th>              <td>-1.5617</td>  <td>0.1857</td>  <td>-8.4109</td> <td>0.0000</td> <td>-1.9256</td> <td>-1.1978</td>\n",
       "</tr>\n",
       "<tr>\n",
       "  <th>zip_bins_4</th>              <td>-1.6993</td>  <td>0.1931</td>  <td>-8.7991</td> <td>0.0000</td> <td>-2.0778</td> <td>-1.3208</td>\n",
       "</tr>\n",
       "<tr>\n",
       "  <th>zip_bins_5</th>              <td>-1.5365</td>  <td>0.1816</td>  <td>-8.4622</td> <td>0.0000</td> <td>-1.8924</td> <td>-1.1807</td>\n",
       "</tr>\n",
       "<tr>\n",
       "  <th>zip_bins_6</th>              <td>-1.6155</td>  <td>0.1862</td>  <td>-8.6772</td> <td>0.0000</td> <td>-1.9803</td> <td>-1.2506</td>\n",
       "</tr>\n",
       "<tr>\n",
       "  <th>zip_bins_7</th>              <td>-1.5033</td>  <td>0.1819</td>  <td>-8.2626</td> <td>0.0000</td> <td>-1.8600</td> <td>-1.1467</td>\n",
       "</tr>\n",
       "<tr>\n",
       "  <th>zip_bins_8</th>              <td>-2.1041</td>  <td>0.2243</td>  <td>-9.3812</td> <td>0.0000</td> <td>-2.5436</td> <td>-1.6645</td>\n",
       "</tr>\n",
       "<tr>\n",
       "  <th>zip_bins_9</th>              <td>-1.5148</td>  <td>0.1783</td>  <td>-8.4945</td> <td>0.0000</td> <td>-1.8644</td> <td>-1.1653</td>\n",
       "</tr>\n",
       "<tr>\n",
       "  <th>zip_bins_10</th>             <td>-1.3075</td>  <td>0.1693</td>  <td>-7.7254</td> <td>0.0000</td> <td>-1.6393</td> <td>-0.9758</td>\n",
       "</tr>\n",
       "<tr>\n",
       "  <th>zip_bins_11</th>             <td>-1.6289</td>  <td>0.1850</td>  <td>-8.8052</td> <td>0.0000</td> <td>-1.9915</td> <td>-1.2663</td>\n",
       "</tr>\n",
       "<tr>\n",
       "  <th>zip_bins_12</th>             <td>-1.1640</td>  <td>0.1633</td>  <td>-7.1281</td> <td>0.0000</td> <td>-1.4841</td> <td>-0.8440</td>\n",
       "</tr>\n",
       "<tr>\n",
       "  <th>zip_bins_13</th>             <td>-1.7024</td>  <td>0.1911</td>  <td>-8.9074</td> <td>0.0000</td> <td>-2.0770</td> <td>-1.3278</td>\n",
       "</tr>\n",
       "<tr>\n",
       "  <th>zip_bins_14</th>             <td>-1.8455</td>  <td>0.2040</td>  <td>-9.0478</td> <td>0.0000</td> <td>-2.2453</td> <td>-1.4457</td>\n",
       "</tr>\n",
       "<tr>\n",
       "  <th>zip_bins_15</th>             <td>-1.4198</td>  <td>0.1750</td>  <td>-8.1113</td> <td>0.0000</td> <td>-1.7629</td> <td>-1.0767</td>\n",
       "</tr>\n",
       "<tr>\n",
       "  <th>zip_bins_16</th>             <td>-1.7519</td>  <td>0.1969</td>  <td>-8.8960</td> <td>0.0000</td> <td>-2.1379</td> <td>-1.3659</td>\n",
       "</tr>\n",
       "<tr>\n",
       "  <th>zip_bins_17</th>             <td>-1.7245</td>  <td>0.1935</td>  <td>-8.9137</td> <td>0.0000</td> <td>-2.1037</td> <td>-1.3453</td>\n",
       "</tr>\n",
       "<tr>\n",
       "  <th>zip_bins_18</th>             <td>-1.3306</td>  <td>0.1718</td>  <td>-7.7435</td> <td>0.0000</td> <td>-1.6674</td> <td>-0.9938</td>\n",
       "</tr>\n",
       "<tr>\n",
       "  <th>zip_bins_19</th>             <td>-1.6954</td>  <td>0.1902</td>  <td>-8.9134</td> <td>0.0000</td> <td>-2.0682</td> <td>-1.3226</td>\n",
       "</tr>\n",
       "<tr>\n",
       "  <th>zip_bins_20</th>             <td>-1.5747</td>  <td>0.1859</td>  <td>-8.4696</td> <td>0.0000</td> <td>-1.9391</td> <td>-1.2103</td>\n",
       "</tr>\n",
       "<tr>\n",
       "  <th>numords</th>                 <td>0.1077</td>   <td>0.0609</td>  <td>1.7678</td>  <td>0.0771</td> <td>-0.0117</td> <td>0.2271</td> \n",
       "</tr>\n",
       "<tr>\n",
       "  <th>dollars</th>                 <td>0.0000</td>     <td>nan</td>     <td>nan</td>     <td>nan</td>    <td>nan</td>     <td>nan</td>  \n",
       "</tr>\n",
       "<tr>\n",
       "  <th>last</th>                    <td>-0.0298</td>  <td>0.0254</td>  <td>-1.1732</td> <td>0.2407</td> <td>-0.0795</td> <td>0.0200</td> \n",
       "</tr>\n",
       "<tr>\n",
       "  <th>sincepurch</th>              <td>0.0099</td>   <td>0.0064</td>  <td>1.5557</td>  <td>0.1198</td> <td>-0.0026</td> <td>0.0224</td> \n",
       "</tr>\n",
       "<tr>\n",
       "  <th>version1</th>                <td>1.4757</td>   <td>0.2184</td>  <td>6.7559</td>  <td>0.0000</td> <td>1.0476</td>  <td>1.9038</td> \n",
       "</tr>\n",
       "<tr>\n",
       "  <th>owntaxprod</th>              <td>0.0029</td>   <td>0.5155</td>  <td>0.0055</td>  <td>0.9956</td> <td>-1.0075</td> <td>1.0132</td> \n",
       "</tr>\n",
       "<tr>\n",
       "  <th>upgraded</th>                <td>0.8139</td>   <td>0.2595</td>  <td>3.1361</td>  <td>0.0017</td> <td>0.3052</td>  <td>1.3226</td> \n",
       "</tr>\n",
       "<tr>\n",
       "  <th>freq_ntile</th>              <td>0.0000</td>     <td>nan</td>     <td>nan</td>     <td>nan</td>    <td>nan</td>     <td>nan</td>  \n",
       "</tr>\n",
       "<tr>\n",
       "  <th>rec_ntile</th>               <td>0.0000</td>     <td>nan</td>     <td>nan</td>     <td>nan</td>    <td>nan</td>     <td>nan</td>  \n",
       "</tr>\n",
       "<tr>\n",
       "  <th>mon_ntile</th>               <td>-0.1104</td>  <td>0.0618</td>  <td>-1.7868</td> <td>0.0740</td> <td>-0.2315</td> <td>0.0107</td> \n",
       "</tr>\n",
       "<tr>\n",
       "  <th>sex_F-&-bizflag</th>         <td>0.0000</td>     <td>nan</td>     <td>nan</td>     <td>nan</td>    <td>nan</td>     <td>nan</td>  \n",
       "</tr>\n",
       "<tr>\n",
       "  <th>sex_F-&-version1</th>        <td>0.1452</td>   <td>0.2180</td>  <td>0.6659</td>  <td>0.5055</td> <td>-0.2821</td> <td>0.5724</td> \n",
       "</tr>\n",
       "<tr>\n",
       "  <th>sex_F-&-owntaxprod</th>      <td>0.0000</td>     <td>nan</td>     <td>nan</td>     <td>nan</td>    <td>nan</td>     <td>nan</td>  \n",
       "</tr>\n",
       "<tr>\n",
       "  <th>sex_F-&-upgraded</th>        <td>0.0000</td>     <td>nan</td>     <td>nan</td>     <td>nan</td>    <td>nan</td>     <td>nan</td>  \n",
       "</tr>\n",
       "<tr>\n",
       "  <th>sex_F-&-freq_ntile</th>      <td>0.0147</td>   <td>0.0358</td>  <td>0.4106</td>  <td>0.6814</td> <td>-0.0554</td> <td>0.0848</td> \n",
       "</tr>\n",
       "<tr>\n",
       "  <th>sex_F-&-rec_ntile</th>       <td>-0.0352</td>  <td>0.0877</td>  <td>-0.4010</td> <td>0.6884</td> <td>-0.2072</td> <td>0.1368</td> \n",
       "</tr>\n",
       "<tr>\n",
       "  <th>sex_F-&-mon_ntile</th>       <td>-0.0421</td>  <td>0.0571</td>  <td>-0.7370</td> <td>0.4611</td> <td>-0.1540</td> <td>0.0698</td> \n",
       "</tr>\n",
       "<tr>\n",
       "  <th>sex_M-&-bizflag</th>         <td>-0.1478</td>  <td>0.1767</td>  <td>-0.8364</td> <td>0.4029</td> <td>-0.4942</td> <td>0.1985</td> \n",
       "</tr>\n",
       "<tr>\n",
       "  <th>sex_M-&-version1</th>        <td>0.0000</td>     <td>nan</td>     <td>nan</td>     <td>nan</td>    <td>nan</td>     <td>nan</td>  \n",
       "</tr>\n",
       "<tr>\n",
       "  <th>sex_M-&-owntaxprod</th>      <td>0.3171</td>   <td>0.4688</td>  <td>0.6763</td>  <td>0.4989</td> <td>-0.6018</td> <td>1.2360</td> \n",
       "</tr>\n",
       "<tr>\n",
       "  <th>sex_M-&-upgraded</th>        <td>0.0270</td>   <td>0.2067</td>  <td>0.1306</td>  <td>0.8961</td> <td>-0.3782</td> <td>0.4322</td> \n",
       "</tr>\n",
       "<tr>\n",
       "  <th>sex_M-&-freq_ntile</th>      <td>0.0000</td>     <td>nan</td>     <td>nan</td>     <td>nan</td>    <td>nan</td>     <td>nan</td>  \n",
       "</tr>\n",
       "<tr>\n",
       "  <th>sex_M-&-rec_ntile</th>       <td>-0.0281</td>  <td>0.0852</td>  <td>-0.3298</td> <td>0.7415</td> <td>-0.1951</td> <td>0.1389</td> \n",
       "</tr>\n",
       "<tr>\n",
       "  <th>sex_M-&-mon_ntile</th>       <td>0.0380</td>   <td>0.0499</td>  <td>0.7624</td>  <td>0.4458</td> <td>-0.0597</td> <td>0.1358</td> \n",
       "</tr>\n",
       "<tr>\n",
       "  <th>sex_U-&-bizflag</th>         <td>0.0000</td>     <td>nan</td>     <td>nan</td>     <td>nan</td>    <td>nan</td>     <td>nan</td>  \n",
       "</tr>\n",
       "<tr>\n",
       "  <th>sex_U-&-version1</th>        <td>-0.3028</td>  <td>0.2688</td>  <td>-1.1266</td> <td>0.2599</td> <td>-0.8296</td> <td>0.2240</td> \n",
       "</tr>\n",
       "<tr>\n",
       "  <th>sex_U-&-owntaxprod</th>      <td>0.0000</td>     <td>nan</td>     <td>nan</td>     <td>nan</td>    <td>nan</td>     <td>nan</td>  \n",
       "</tr>\n",
       "<tr>\n",
       "  <th>sex_U-&-upgraded</th>        <td>-0.0897</td>  <td>0.2715</td>  <td>-0.3306</td> <td>0.7410</td> <td>-0.6218</td> <td>0.4423</td> \n",
       "</tr>\n",
       "<tr>\n",
       "  <th>sex_U-&-freq_ntile</th>      <td>0.0204</td>   <td>0.0432</td>  <td>0.4724</td>  <td>0.6366</td> <td>-0.0643</td> <td>0.1051</td> \n",
       "</tr>\n",
       "<tr>\n",
       "  <th>sex_U-&-rec_ntile</th>       <td>-0.0263</td>  <td>0.0913</td>  <td>-0.2886</td> <td>0.7729</td> <td>-0.2052</td> <td>0.1525</td> \n",
       "</tr>\n",
       "<tr>\n",
       "  <th>sex_U-&-mon_ntile</th>       <td>0.0000</td>     <td>nan</td>     <td>nan</td>     <td>nan</td>    <td>nan</td>     <td>nan</td>  \n",
       "</tr>\n",
       "<tr>\n",
       "  <th>bizflag-&-version1</th>      <td>0.2780</td>   <td>0.2176</td>  <td>1.2776</td>  <td>0.2014</td> <td>-0.1485</td> <td>0.7045</td> \n",
       "</tr>\n",
       "<tr>\n",
       "  <th>bizflag-&-owntaxprod</th>    <td>-0.4382</td>  <td>0.5333</td>  <td>-0.8217</td> <td>0.4112</td> <td>-1.4835</td> <td>0.6070</td> \n",
       "</tr>\n",
       "<tr>\n",
       "  <th>bizflag-&-upgraded</th>      <td>-0.0544</td>  <td>0.2085</td>  <td>-0.2610</td> <td>0.7941</td> <td>-0.4631</td> <td>0.3543</td> \n",
       "</tr>\n",
       "<tr>\n",
       "  <th>bizflag-&-freq_ntile</th>    <td>-0.0499</td>  <td>0.0361</td>  <td>-1.3832</td> <td>0.1666</td> <td>-0.1207</td> <td>0.0208</td> \n",
       "</tr>\n",
       "<tr>\n",
       "  <th>bizflag-&-rec_ntile</th>     <td>0.0289</td>   <td>0.0327</td>  <td>0.8823</td>  <td>0.3776</td> <td>-0.0353</td> <td>0.0930</td> \n",
       "</tr>\n",
       "<tr>\n",
       "  <th>bizflag-&-mon_ntile</th>     <td>0.0435</td>   <td>0.0403</td>  <td>1.0811</td>  <td>0.2796</td> <td>-0.0354</td> <td>0.1224</td> \n",
       "</tr>\n",
       "<tr>\n",
       "  <th>version1-&-owntaxprod</th>   <td>0.0000</td>     <td>nan</td>     <td>nan</td>     <td>nan</td>    <td>nan</td>     <td>nan</td>  \n",
       "</tr>\n",
       "<tr>\n",
       "  <th>version1-&-upgraded</th>     <td>0.0000</td>     <td>nan</td>     <td>nan</td>     <td>nan</td>    <td>nan</td>     <td>nan</td>  \n",
       "</tr>\n",
       "<tr>\n",
       "  <th>version1-&-freq_ntile</th>   <td>-0.1790</td>  <td>0.0364</td>  <td>-4.9212</td> <td>0.0000</td> <td>-0.2502</td> <td>-0.1077</td>\n",
       "</tr>\n",
       "<tr>\n",
       "  <th>version1-&-rec_ntile</th>    <td>-0.1596</td>  <td>0.0346</td>  <td>-4.6080</td> <td>0.0000</td> <td>-0.2274</td> <td>-0.0917</td>\n",
       "</tr>\n",
       "<tr>\n",
       "  <th>version1-&-mon_ntile</th>    <td>0.0765</td>   <td>0.0404</td>  <td>1.8937</td>  <td>0.0583</td> <td>-0.0027</td> <td>0.1557</td> \n",
       "</tr>\n",
       "<tr>\n",
       "  <th>owntaxprod-&-upgraded</th>   <td>0.0000</td>     <td>nan</td>     <td>nan</td>     <td>nan</td>    <td>nan</td>     <td>nan</td>  \n",
       "</tr>\n",
       "<tr>\n",
       "  <th>owntaxprod-&-freq_ntile</th> <td>0.0000</td>     <td>nan</td>     <td>nan</td>     <td>nan</td>    <td>nan</td>     <td>nan</td>  \n",
       "</tr>\n",
       "<tr>\n",
       "  <th>owntaxprod-&-rec_ntile</th>  <td>-0.0738</td>  <td>0.0741</td>  <td>-0.9955</td> <td>0.3195</td> <td>-0.2191</td> <td>0.0715</td> \n",
       "</tr>\n",
       "<tr>\n",
       "  <th>owntaxprod-&-mon_ntile</th>  <td>0.0195</td>   <td>0.0909</td>  <td>0.2140</td>  <td>0.8306</td> <td>-0.1587</td> <td>0.1976</td> \n",
       "</tr>\n",
       "<tr>\n",
       "  <th>upgraded-&-freq_ntile</th>   <td>-0.0472</td>  <td>0.0323</td>  <td>-1.4629</td> <td>0.1435</td> <td>-0.1105</td> <td>0.0160</td> \n",
       "</tr>\n",
       "<tr>\n",
       "  <th>upgraded-&-rec_ntile</th>    <td>0.0318</td>   <td>0.0293</td>  <td>1.0859</td>  <td>0.2775</td> <td>-0.0256</td> <td>0.0893</td> \n",
       "</tr>\n",
       "<tr>\n",
       "  <th>upgraded-&-mon_ntile</th>    <td>0.0005</td>   <td>0.0368</td>  <td>0.0134</td>  <td>0.9893</td> <td>-0.0716</td> <td>0.0726</td> \n",
       "</tr>\n",
       "<tr>\n",
       "  <th>freq_ntile-&-rec_ntile</th>  <td>0.0032</td>   <td>0.0048</td>  <td>0.6709</td>  <td>0.5023</td> <td>-0.0062</td> <td>0.0127</td> \n",
       "</tr>\n",
       "<tr>\n",
       "  <th>freq_ntile-&-mon_ntile</th>  <td>0.0083</td>   <td>0.0039</td>  <td>2.1354</td>  <td>0.0327</td> <td>0.0007</td>  <td>0.0159</td> \n",
       "</tr>\n",
       "<tr>\n",
       "  <th>rec_ntile-&-mon_ntile</th>   <td>-0.0092</td>  <td>0.0057</td>  <td>-1.6000</td> <td>0.1096</td> <td>-0.0205</td> <td>0.0021</td> \n",
       "</tr>\n",
       "</table>"
      ],
      "text/plain": [
       "<class 'statsmodels.iolib.summary2.Summary'>\n",
       "\"\"\"\n",
       "                         Results: Mba263Logit\n",
       "=======================================================================\n",
       "Model:                 Mba263Logit       Pseudo R-squared:  0.128      \n",
       "Dependent Variable:    res1              AIC:               6838.3300  \n",
       "Date:                  2023-03-20 15:51  BIC:               7304.6358  \n",
       "No. Observations:      20000             Log-Likelihood:    -3360.2    \n",
       "Df Model:              58                LL-Null:           -3854.7    \n",
       "Df Residuals:          19941             LLR p-value:       1.6624e-169\n",
       "Converged:             1.0000            Scale:             1.0000     \n",
       "No. Iterations:        444.0000                                        \n",
       "-----------------------------------------------------------------------\n",
       "                         Coef.  Std.Err.    z    P>|z|   [0.025  0.975]\n",
       "-----------------------------------------------------------------------\n",
       "const                   -1.4874   0.3262 -4.5594 0.0000 -2.1267 -0.8480\n",
       "sex_F                    0.0000      nan     nan    nan     nan     nan\n",
       "sex_M                   -0.0728   0.1944 -0.3745 0.7081 -0.4539  0.3083\n",
       "sex_U                    0.0000      nan     nan    nan     nan     nan\n",
       "bizflag                 -0.0693   0.2320 -0.2988 0.7651 -0.5241  0.3855\n",
       "zip_bins_2              -1.5622   0.1846 -8.4634 0.0000 -1.9240 -1.2004\n",
       "zip_bins_3              -1.5617   0.1857 -8.4109 0.0000 -1.9256 -1.1978\n",
       "zip_bins_4              -1.6993   0.1931 -8.7991 0.0000 -2.0778 -1.3208\n",
       "zip_bins_5              -1.5365   0.1816 -8.4622 0.0000 -1.8924 -1.1807\n",
       "zip_bins_6              -1.6155   0.1862 -8.6772 0.0000 -1.9803 -1.2506\n",
       "zip_bins_7              -1.5033   0.1819 -8.2626 0.0000 -1.8600 -1.1467\n",
       "zip_bins_8              -2.1041   0.2243 -9.3812 0.0000 -2.5436 -1.6645\n",
       "zip_bins_9              -1.5148   0.1783 -8.4945 0.0000 -1.8644 -1.1653\n",
       "zip_bins_10             -1.3075   0.1693 -7.7254 0.0000 -1.6393 -0.9758\n",
       "zip_bins_11             -1.6289   0.1850 -8.8052 0.0000 -1.9915 -1.2663\n",
       "zip_bins_12             -1.1640   0.1633 -7.1281 0.0000 -1.4841 -0.8440\n",
       "zip_bins_13             -1.7024   0.1911 -8.9074 0.0000 -2.0770 -1.3278\n",
       "zip_bins_14             -1.8455   0.2040 -9.0478 0.0000 -2.2453 -1.4457\n",
       "zip_bins_15             -1.4198   0.1750 -8.1113 0.0000 -1.7629 -1.0767\n",
       "zip_bins_16             -1.7519   0.1969 -8.8960 0.0000 -2.1379 -1.3659\n",
       "zip_bins_17             -1.7245   0.1935 -8.9137 0.0000 -2.1037 -1.3453\n",
       "zip_bins_18             -1.3306   0.1718 -7.7435 0.0000 -1.6674 -0.9938\n",
       "zip_bins_19             -1.6954   0.1902 -8.9134 0.0000 -2.0682 -1.3226\n",
       "zip_bins_20             -1.5747   0.1859 -8.4696 0.0000 -1.9391 -1.2103\n",
       "numords                  0.1077   0.0609  1.7678 0.0771 -0.0117  0.2271\n",
       "dollars                  0.0000      nan     nan    nan     nan     nan\n",
       "last                    -0.0298   0.0254 -1.1732 0.2407 -0.0795  0.0200\n",
       "sincepurch               0.0099   0.0064  1.5557 0.1198 -0.0026  0.0224\n",
       "version1                 1.4757   0.2184  6.7559 0.0000  1.0476  1.9038\n",
       "owntaxprod               0.0029   0.5155  0.0055 0.9956 -1.0075  1.0132\n",
       "upgraded                 0.8139   0.2595  3.1361 0.0017  0.3052  1.3226\n",
       "freq_ntile               0.0000      nan     nan    nan     nan     nan\n",
       "rec_ntile                0.0000      nan     nan    nan     nan     nan\n",
       "mon_ntile               -0.1104   0.0618 -1.7868 0.0740 -0.2315  0.0107\n",
       "sex_F-&-bizflag          0.0000      nan     nan    nan     nan     nan\n",
       "sex_F-&-version1         0.1452   0.2180  0.6659 0.5055 -0.2821  0.5724\n",
       "sex_F-&-owntaxprod       0.0000      nan     nan    nan     nan     nan\n",
       "sex_F-&-upgraded         0.0000      nan     nan    nan     nan     nan\n",
       "sex_F-&-freq_ntile       0.0147   0.0358  0.4106 0.6814 -0.0554  0.0848\n",
       "sex_F-&-rec_ntile       -0.0352   0.0877 -0.4010 0.6884 -0.2072  0.1368\n",
       "sex_F-&-mon_ntile       -0.0421   0.0571 -0.7370 0.4611 -0.1540  0.0698\n",
       "sex_M-&-bizflag         -0.1478   0.1767 -0.8364 0.4029 -0.4942  0.1985\n",
       "sex_M-&-version1         0.0000      nan     nan    nan     nan     nan\n",
       "sex_M-&-owntaxprod       0.3171   0.4688  0.6763 0.4989 -0.6018  1.2360\n",
       "sex_M-&-upgraded         0.0270   0.2067  0.1306 0.8961 -0.3782  0.4322\n",
       "sex_M-&-freq_ntile       0.0000      nan     nan    nan     nan     nan\n",
       "sex_M-&-rec_ntile       -0.0281   0.0852 -0.3298 0.7415 -0.1951  0.1389\n",
       "sex_M-&-mon_ntile        0.0380   0.0499  0.7624 0.4458 -0.0597  0.1358\n",
       "sex_U-&-bizflag          0.0000      nan     nan    nan     nan     nan\n",
       "sex_U-&-version1        -0.3028   0.2688 -1.1266 0.2599 -0.8296  0.2240\n",
       "sex_U-&-owntaxprod       0.0000      nan     nan    nan     nan     nan\n",
       "sex_U-&-upgraded        -0.0897   0.2715 -0.3306 0.7410 -0.6218  0.4423\n",
       "sex_U-&-freq_ntile       0.0204   0.0432  0.4724 0.6366 -0.0643  0.1051\n",
       "sex_U-&-rec_ntile       -0.0263   0.0913 -0.2886 0.7729 -0.2052  0.1525\n",
       "sex_U-&-mon_ntile        0.0000      nan     nan    nan     nan     nan\n",
       "bizflag-&-version1       0.2780   0.2176  1.2776 0.2014 -0.1485  0.7045\n",
       "bizflag-&-owntaxprod    -0.4382   0.5333 -0.8217 0.4112 -1.4835  0.6070\n",
       "bizflag-&-upgraded      -0.0544   0.2085 -0.2610 0.7941 -0.4631  0.3543\n",
       "bizflag-&-freq_ntile    -0.0499   0.0361 -1.3832 0.1666 -0.1207  0.0208\n",
       "bizflag-&-rec_ntile      0.0289   0.0327  0.8823 0.3776 -0.0353  0.0930\n",
       "bizflag-&-mon_ntile      0.0435   0.0403  1.0811 0.2796 -0.0354  0.1224\n",
       "version1-&-owntaxprod    0.0000      nan     nan    nan     nan     nan\n",
       "version1-&-upgraded      0.0000      nan     nan    nan     nan     nan\n",
       "version1-&-freq_ntile   -0.1790   0.0364 -4.9212 0.0000 -0.2502 -0.1077\n",
       "version1-&-rec_ntile    -0.1596   0.0346 -4.6080 0.0000 -0.2274 -0.0917\n",
       "version1-&-mon_ntile     0.0765   0.0404  1.8937 0.0583 -0.0027  0.1557\n",
       "owntaxprod-&-upgraded    0.0000      nan     nan    nan     nan     nan\n",
       "owntaxprod-&-freq_ntile  0.0000      nan     nan    nan     nan     nan\n",
       "owntaxprod-&-rec_ntile  -0.0738   0.0741 -0.9955 0.3195 -0.2191  0.0715\n",
       "owntaxprod-&-mon_ntile   0.0195   0.0909  0.2140 0.8306 -0.1587  0.1976\n",
       "upgraded-&-freq_ntile   -0.0472   0.0323 -1.4629 0.1435 -0.1105  0.0160\n",
       "upgraded-&-rec_ntile     0.0318   0.0293  1.0859 0.2775 -0.0256  0.0893\n",
       "upgraded-&-mon_ntile     0.0005   0.0368  0.0134 0.9893 -0.0716  0.0726\n",
       "freq_ntile-&-rec_ntile   0.0032   0.0048  0.6709 0.5023 -0.0062  0.0127\n",
       "freq_ntile-&-mon_ntile   0.0083   0.0039  2.1354 0.0327  0.0007  0.0159\n",
       "rec_ntile-&-mon_ntile   -0.0092   0.0057 -1.6000 0.1096 -0.0205  0.0021\n",
       "=======================================================================\n",
       "\n",
       "\"\"\""
      ]
     },
     "execution_count": 87,
     "metadata": {},
     "output_type": "execute_result"
    }
   ],
   "source": [
    "m5.summary2()"
   ]
  },
  {
   "cell_type": "markdown",
   "id": "c2e90a3e-b729-46fe-80dd-f810e7e730e7",
   "metadata": {
    "tags": []
   },
   "source": [
    "#### Predictions"
   ]
  },
  {
   "cell_type": "code",
   "execution_count": 88,
   "id": "ef1baef2-4b8b-4fc7-a033-73e02497fd6f",
   "metadata": {
    "execution": {
     "iopub.execute_input": "2023-03-20T22:51:18.461189Z",
     "iopub.status.busy": "2023-03-20T22:51:18.460760Z",
     "iopub.status.idle": "2023-03-20T22:51:18.562452Z",
     "shell.execute_reply": "2023-03-20T22:51:18.561268Z",
     "shell.execute_reply.started": "2023-03-20T22:51:18.461154Z"
    },
    "tags": []
   },
   "outputs": [],
   "source": [
    "dfm5['m5_pred_prob'] = m5.predict(dfm5[m5_f])"
   ]
  },
  {
   "cell_type": "markdown",
   "id": "790702e6-f7f9-4d65-94a5-916bb9c789d9",
   "metadata": {},
   "source": [
    "###### "
   ]
  },
  {
   "cell_type": "markdown",
   "id": "b783e7b0-58a2-4965-bf99-8d896f19e7dc",
   "metadata": {
    "jp-MarkdownHeadingCollapsed": true,
    "tags": []
   },
   "source": [
    "## M6: RFM model"
   ]
  },
  {
   "cell_type": "markdown",
   "id": "1d7cb967-822f-4788-8cd3-0ee8681413fe",
   "metadata": {},
   "source": [
    "#### Model"
   ]
  },
  {
   "cell_type": "code",
   "execution_count": 117,
   "id": "c35f7404-50a6-4d4e-91be-8e49ba61b69a",
   "metadata": {
    "execution": {
     "iopub.execute_input": "2023-03-20T23:21:19.661227Z",
     "iopub.status.busy": "2023-03-20T23:21:19.660656Z",
     "iopub.status.idle": "2023-03-20T23:21:19.744645Z",
     "shell.execute_reply": "2023-03-20T23:21:19.743709Z",
     "shell.execute_reply.started": "2023-03-20T23:21:19.661183Z"
    },
    "tags": []
   },
   "outputs": [],
   "source": [
    "dfm6 = df.copy()"
   ]
  },
  {
   "cell_type": "code",
   "execution_count": 118,
   "id": "a13b8618-5bde-4f47-87e7-f68c485749a8",
   "metadata": {
    "execution": {
     "iopub.execute_input": "2023-03-20T23:21:20.015969Z",
     "iopub.status.busy": "2023-03-20T23:21:20.015545Z",
     "iopub.status.idle": "2023-03-20T23:21:20.091169Z",
     "shell.execute_reply": "2023-03-20T23:21:20.089501Z",
     "shell.execute_reply.started": "2023-03-20T23:21:20.015935Z"
    },
    "tags": []
   },
   "outputs": [],
   "source": [
    "## Defining label and features for the model\n",
    "\n",
    "m6_l = ['res1']\n",
    "\n",
    "m6_f = [\n",
    "    # 'id',\n",
    "    # 'sex',\n",
    "    # 'sex_F',\n",
    "    # 'sex_M',\n",
    "    # 'sex_U',\n",
    "    # 'bizflag',\n",
    "    # 'zip',\n",
    "    # 'zip_bins',\n",
    "    # 'zip_bins_2',\n",
    "    # 'zip_bins_3',\n",
    "    # 'zip_bins_4',\n",
    "    # 'zip_bins_5',\n",
    "    # 'zip_bins_6',\n",
    "    # 'zip_bins_7',\n",
    "    # 'zip_bins_8',\n",
    "    # 'zip_bins_9',\n",
    "    # 'zip_bins_10',\n",
    "    # 'zip_bins_11',\n",
    "    # 'zip_bins_12',\n",
    "    # 'zip_bins_13',\n",
    "    # 'zip_bins_14',\n",
    "    # 'zip_bins_15',\n",
    "    # 'zip_bins_16',\n",
    "    # 'zip_bins_17',\n",
    "    # 'zip_bins_18',\n",
    "    # 'zip_bins_19',\n",
    "    # 'zip_bins_20',\n",
    "    # 'numords',\n",
    "    # 'dollars',\n",
    "    # 'last',\n",
    "    # 'sincepurch',\n",
    "    # 'version1',\n",
    "    # 'owntaxprod',\n",
    "    # 'upgraded',\n",
    "    'freq_ntile',\n",
    "    'rec_ntile',\n",
    "    'mon_ntile',\n",
    "]"
   ]
  },
  {
   "cell_type": "markdown",
   "id": "9c41f326-1706-4ffc-8e04-a8ea130958cc",
   "metadata": {
    "tags": []
   },
   "source": [
    "#### Predictions"
   ]
  },
  {
   "cell_type": "code",
   "execution_count": 119,
   "id": "e8bfb028-34af-4c60-bb92-8087c166b445",
   "metadata": {
    "execution": {
     "iopub.execute_input": "2023-03-20T23:21:20.797838Z",
     "iopub.status.busy": "2023-03-20T23:21:20.797408Z",
     "iopub.status.idle": "2023-03-20T23:21:21.720713Z",
     "shell.execute_reply": "2023-03-20T23:21:21.719713Z",
     "shell.execute_reply.started": "2023-03-20T23:21:20.797800Z"
    },
    "tags": []
   },
   "outputs": [],
   "source": [
    "## Defining RFM metric\n",
    "dfm6['m6_pred_prob'] = mba263.get_means(\n",
    "    dfm6['res1'], \n",
    "    dfm6['rec_ntile'].astype('str') + dfm6['freq_ntile'].astype('str') + dfm6['mon_ntile'].astype('str')\n",
    ")"
   ]
  },
  {
   "cell_type": "markdown",
   "id": "0a3f9d25-1532-4314-86b2-070521ad084c",
   "metadata": {},
   "source": [
    "###### "
   ]
  },
  {
   "cell_type": "markdown",
   "id": "5e4e8631-24c1-4260-8ced-0940cc995c83",
   "metadata": {},
   "source": [
    "###### "
   ]
  },
  {
   "cell_type": "markdown",
   "id": "11433b3e-54b6-493c-8007-a1111835254e",
   "metadata": {
    "tags": []
   },
   "source": [
    "## Models compilation"
   ]
  },
  {
   "cell_type": "code",
   "execution_count": 134,
   "id": "5ffec184-3c83-4a59-84c4-2d2ac79a55a6",
   "metadata": {
    "execution": {
     "iopub.execute_input": "2023-03-20T23:36:11.773682Z",
     "iopub.status.busy": "2023-03-20T23:36:11.773183Z",
     "iopub.status.idle": "2023-03-20T23:36:11.849089Z",
     "shell.execute_reply": "2023-03-20T23:36:11.848149Z",
     "shell.execute_reply.started": "2023-03-20T23:36:11.773650Z"
    },
    "tags": []
   },
   "outputs": [],
   "source": [
    "## Models objects\n",
    "models = {\n",
    "    \n",
    "    ## Logistic regression\n",
    "    'm1': { \n",
    "        'df': dfm1,\n",
    "        'label': m1_l,\n",
    "        'features': m1_f,\n",
    "        'model': m1,\n",
    "    },\n",
    "    \n",
    "    ## Neural network\n",
    "    'm2': { \n",
    "        'df': dfm2,\n",
    "        'label': m2_l,\n",
    "        'features': m2_f,\n",
    "        'model': m2,\n",
    "    },\n",
    "    \n",
    "    ## Logistic regression with regularization\n",
    "    'm3': { \n",
    "        'df': dfm3,\n",
    "        'label': m3_l,\n",
    "        'features': m3_f,\n",
    "        'model': m3,\n",
    "    },\n",
    "    \n",
    "    ## Random forest\n",
    "    'm4': {\n",
    "        'df': dfm4,\n",
    "        'label': m4_l,\n",
    "        'features': m4_f,\n",
    "        'model': m4,\n",
    "    },\n",
    "    \n",
    "    ## Logistic regression with regularization and interactions\n",
    "    'm5': {\n",
    "        'df': dfm5,\n",
    "        'label': m5_l,\n",
    "        'features': m5_f,\n",
    "        'model': m5,\n",
    "    },\n",
    "    \n",
    "    ## RFM model\n",
    "    'm6': {\n",
    "        'df': dfm6,\n",
    "        'label': m6_l,\n",
    "        'features': m6_f,\n",
    "        'model': 'No model saved',\n",
    "    },\n",
    "    \n",
    "}"
   ]
  },
  {
   "cell_type": "markdown",
   "id": "6b22bce8-b81a-43df-8886-adce639813b5",
   "metadata": {},
   "source": [
    "# "
   ]
  },
  {
   "cell_type": "markdown",
   "id": "e3e6269d-4b66-4155-8510-8b6dc4cb2ad1",
   "metadata": {},
   "source": [
    "# Results exploration"
   ]
  },
  {
   "cell_type": "markdown",
   "id": "183537a0-89c5-4c6e-99e7-d622366bbf13",
   "metadata": {
    "jp-MarkdownHeadingCollapsed": true,
    "tags": []
   },
   "source": [
    "### Probability predictions distribution based on results"
   ]
  },
  {
   "cell_type": "markdown",
   "id": "13e44388-1440-409d-b896-f2637afc6412",
   "metadata": {
    "jp-MarkdownHeadingCollapsed": true,
    "tags": []
   },
   "source": [
    "##### Model 1: Logistic regression"
   ]
  },
  {
   "cell_type": "code",
   "execution_count": null,
   "id": "869285ac-d682-4950-aedd-86dda78f50a1",
   "metadata": {
    "execution": {
     "iopub.execute_input": "2023-03-20T22:01:28.413171Z",
     "iopub.status.busy": "2023-03-20T22:01:28.412712Z",
     "iopub.status.idle": "2023-03-20T22:01:29.484040Z",
     "shell.execute_reply": "2023-03-20T22:01:29.483136Z",
     "shell.execute_reply.started": "2023-03-20T22:01:28.413137Z"
    },
    "tags": []
   },
   "outputs": [],
   "source": [
    "fig = px.box(dfm1, x=\"res1\", y=round(dfm1['m1_pred_prob'], 4))\n",
    "fig.show()"
   ]
  },
  {
   "cell_type": "code",
   "execution_count": null,
   "id": "ee0281c6-1ea1-4f67-bf7b-93cbdcda84b0",
   "metadata": {
    "execution": {
     "iopub.execute_input": "2023-03-20T22:01:29.498728Z",
     "iopub.status.busy": "2023-03-20T22:01:29.498207Z",
     "iopub.status.idle": "2023-03-20T22:01:29.891639Z",
     "shell.execute_reply": "2023-03-20T22:01:29.890591Z",
     "shell.execute_reply.started": "2023-03-20T22:01:29.498692Z"
    },
    "tags": []
   },
   "outputs": [],
   "source": [
    "fig = px.histogram(\n",
    "    dfm1, \n",
    "    x=\"m1_pred_prob\", \n",
    "    color=\"res1\", \n",
    "    nbins=100,\n",
    "    marginal='rug',\n",
    "    histnorm='probability',\n",
    "    barmode='overlay'\n",
    ")\n",
    "\n",
    "fig.show()"
   ]
  },
  {
   "cell_type": "markdown",
   "id": "187d1c5f-2954-496c-bb26-4eb8fbe8a6c6",
   "metadata": {
    "jp-MarkdownHeadingCollapsed": true,
    "tags": []
   },
   "source": [
    "##### Model 2: Neural network"
   ]
  },
  {
   "cell_type": "code",
   "execution_count": null,
   "id": "6ebc23cb-26e6-4d82-bc55-9287067db73c",
   "metadata": {
    "execution": {
     "iopub.execute_input": "2023-03-20T22:01:29.893971Z",
     "iopub.status.busy": "2023-03-20T22:01:29.893476Z",
     "iopub.status.idle": "2023-03-20T22:01:30.076055Z",
     "shell.execute_reply": "2023-03-20T22:01:30.075112Z",
     "shell.execute_reply.started": "2023-03-20T22:01:29.893935Z"
    },
    "tags": []
   },
   "outputs": [],
   "source": [
    "fig = px.box(dfm2, x=\"res1\", y=round(dfm2['m2_pred_prob'], 4))\n",
    "fig.show()"
   ]
  },
  {
   "cell_type": "code",
   "execution_count": null,
   "id": "4c8eda6c-310a-4185-9b58-52351db3b01e",
   "metadata": {
    "execution": {
     "iopub.execute_input": "2023-03-20T22:01:30.077756Z",
     "iopub.status.busy": "2023-03-20T22:01:30.077247Z",
     "iopub.status.idle": "2023-03-20T22:01:30.427704Z",
     "shell.execute_reply": "2023-03-20T22:01:30.426527Z",
     "shell.execute_reply.started": "2023-03-20T22:01:30.077722Z"
    },
    "tags": []
   },
   "outputs": [],
   "source": [
    "fig = px.histogram(\n",
    "    dfm2, \n",
    "    x=\"m2_pred_prob\", \n",
    "    color=\"res1\", \n",
    "    nbins=100,\n",
    "    marginal='rug',\n",
    "    histnorm='probability',\n",
    "    barmode='overlay'\n",
    ")\n",
    "\n",
    "fig.show()"
   ]
  },
  {
   "cell_type": "markdown",
   "id": "8a9bc3cd-83e6-48ec-be5d-371266273454",
   "metadata": {
    "jp-MarkdownHeadingCollapsed": true,
    "tags": []
   },
   "source": [
    "##### Model 4: Random forest"
   ]
  },
  {
   "cell_type": "code",
   "execution_count": null,
   "id": "65ac071f-3719-4a80-8445-45b0b48ef5e5",
   "metadata": {
    "execution": {
     "iopub.execute_input": "2023-03-20T22:01:30.429600Z",
     "iopub.status.busy": "2023-03-20T22:01:30.429017Z",
     "iopub.status.idle": "2023-03-20T22:01:30.612098Z",
     "shell.execute_reply": "2023-03-20T22:01:30.610865Z",
     "shell.execute_reply.started": "2023-03-20T22:01:30.429568Z"
    },
    "tags": []
   },
   "outputs": [],
   "source": [
    "fig = px.box(dfm4, x=\"res1\", y=round(dfm4['m4_pred_prob'], 4))\n",
    "fig.show()"
   ]
  },
  {
   "cell_type": "code",
   "execution_count": null,
   "id": "3110b8d4-024a-494f-a7a5-fdadb29489d6",
   "metadata": {
    "execution": {
     "iopub.execute_input": "2023-03-20T22:01:30.613729Z",
     "iopub.status.busy": "2023-03-20T22:01:30.613232Z",
     "iopub.status.idle": "2023-03-20T22:01:30.962039Z",
     "shell.execute_reply": "2023-03-20T22:01:30.960642Z",
     "shell.execute_reply.started": "2023-03-20T22:01:30.613695Z"
    },
    "tags": []
   },
   "outputs": [],
   "source": [
    "fig = px.histogram(\n",
    "    dfm4, \n",
    "    x=\"m4_pred_prob\", \n",
    "    color=\"res1\", \n",
    "    nbins=100,\n",
    "    marginal='rug',\n",
    "    histnorm='probability',\n",
    "    barmode='overlay'\n",
    ")\n",
    "\n",
    "fig.show()"
   ]
  },
  {
   "cell_type": "markdown",
   "id": "46d65ca7-a32f-4de8-b442-8aef12cb33af",
   "metadata": {
    "jp-MarkdownHeadingCollapsed": true,
    "tags": []
   },
   "source": [
    "##### Model 6: RFM"
   ]
  },
  {
   "cell_type": "code",
   "execution_count": null,
   "id": "40b6d7a6-4ecf-4879-8e1e-b0d23718f2e2",
   "metadata": {
    "execution": {
     "iopub.execute_input": "2023-03-20T23:28:14.228155Z",
     "iopub.status.busy": "2023-03-20T23:28:14.227734Z",
     "iopub.status.idle": "2023-03-20T23:28:14.520781Z",
     "shell.execute_reply": "2023-03-20T23:28:14.519836Z",
     "shell.execute_reply.started": "2023-03-20T23:28:14.228123Z"
    },
    "tags": []
   },
   "outputs": [],
   "source": [
    "fig = px.box(dfm6, x=\"res1\", y=round(dfm6['m6_pred_prob'], 6))\n",
    "fig.show()"
   ]
  },
  {
   "cell_type": "code",
   "execution_count": null,
   "id": "f7587d1a-dedc-4675-89e0-a32137ba9ef0",
   "metadata": {
    "execution": {
     "iopub.execute_input": "2023-03-20T23:28:22.724812Z",
     "iopub.status.busy": "2023-03-20T23:28:22.724376Z",
     "iopub.status.idle": "2023-03-20T23:28:23.082173Z",
     "shell.execute_reply": "2023-03-20T23:28:23.081144Z",
     "shell.execute_reply.started": "2023-03-20T23:28:22.724776Z"
    },
    "tags": []
   },
   "outputs": [],
   "source": [
    "fig = px.histogram(\n",
    "    dfm6, \n",
    "    x=\"m6_pred_prob\", \n",
    "    color=\"res1\", \n",
    "    nbins=100,\n",
    "    marginal='rug',\n",
    "    histnorm='probability',\n",
    "    barmode='overlay'\n",
    ")\n",
    "\n",
    "fig.show()"
   ]
  },
  {
   "cell_type": "markdown",
   "id": "15a8d589-389e-4968-82a1-d59737eb7f82",
   "metadata": {
    "tags": []
   },
   "source": [
    "### Gains"
   ]
  },
  {
   "cell_type": "code",
   "execution_count": 123,
   "id": "119263a2-2af8-4b55-8572-426d1f849093",
   "metadata": {
    "execution": {
     "iopub.execute_input": "2023-03-20T23:23:00.008247Z",
     "iopub.status.busy": "2023-03-20T23:23:00.007715Z",
     "iopub.status.idle": "2023-03-20T23:23:04.335816Z",
     "shell.execute_reply": "2023-03-20T23:23:04.334950Z",
     "shell.execute_reply.started": "2023-03-20T23:23:00.008210Z"
    },
    "jupyter": {
     "source_hidden": true
    },
    "tags": []
   },
   "outputs": [
    {
     "data": {
      "application/vnd.plotly.v1+json": {
       "config": {
        "plotlyServerURL": "https://plot.ly"
       },
       "data": [
        {
         "mode": "lines",
         "name": "m1",
         "type": "scatter",
         "x": [
          0,
          1,
          2,
          3,
          4,
          5,
          6,
          7,
          8,
          9,
          10,
          11,
          12,
          13,
          14,
          15,
          16,
          17,
          18,
          19,
          20,
          21,
          22,
          23,
          24,
          25,
          26,
          27,
          28,
          29,
          30
         ],
         "y": [
          0,
          0.19667013527575442,
          0.3225806451612903,
          0.3891779396462019,
          0.45369406867845996,
          0.5098855359001041,
          0.5494276795005203,
          0.5900104058272633,
          0.6264308012486993,
          0.6555671175858481,
          0.6878251821019771,
          0.7148803329864725,
          0.740894901144641,
          0.7679500520291364,
          0.7877211238293444,
          0.8043704474505723,
          0.8376690946930281,
          0.8574401664932362,
          0.8720083246618107,
          0.8855359001040582,
          0.9001040582726326,
          0.9105098855359001,
          0.9323621227887617,
          0.9490114464099896,
          0.9562955254942768,
          0.963579604578564,
          0.9750260145681582,
          0.9812695109261186,
          0.9895941727367326,
          0.9958376690946931,
          1
         ]
        },
        {
         "mode": "lines",
         "name": "m2",
         "type": "scatter",
         "x": [
          0,
          1,
          2,
          3,
          4,
          5,
          6,
          7,
          8,
          9,
          10,
          11,
          12,
          13,
          14,
          15,
          16,
          17,
          18,
          19,
          20,
          21,
          22,
          23,
          24,
          25,
          26,
          27,
          28,
          29,
          30
         ],
         "y": [
          0,
          0.2445369406867846,
          0.34963579604578565,
          0.4432882414151925,
          0.5150884495317378,
          0.5598335067637877,
          0.5993756503642039,
          0.6285119667013528,
          0.6618106139438086,
          0.6992715920915713,
          0.7346514047866806,
          0.7544224765868887,
          0.7783558792924038,
          0.7960457856399584,
          0.8158168574401665,
          0.8335067637877211,
          0.850156087408949,
          0.8688865764828304,
          0.8886576482830385,
          0.9073881373569199,
          0.9198751300728408,
          0.9365244536940687,
          0.9448491155046826,
          0.9552549427679501,
          0.9646201873048907,
          0.9708636836628513,
          0.9781477627471384,
          0.9864724245577523,
          0.991675338189386,
          0.9979188345473465,
          1
         ]
        },
        {
         "mode": "lines",
         "name": "m3",
         "type": "scatter",
         "x": [
          0,
          1,
          2,
          3,
          4,
          5,
          6,
          7,
          8,
          9,
          10,
          11,
          12,
          13,
          14,
          15,
          16,
          17,
          18,
          19,
          20,
          21,
          22,
          23,
          24,
          25,
          26,
          27,
          28,
          29,
          30
         ],
         "y": [
          0,
          0.1914672216441207,
          0.3100936524453694,
          0.37877211238293446,
          0.4505723204994797,
          0.4963579604578564,
          0.5452653485952134,
          0.5879292403746098,
          0.6181061394380853,
          0.6524453694068678,
          0.6815816857440167,
          0.7127991675338189,
          0.7419354838709677,
          0.7648283038501561,
          0.7814776274713839,
          0.8106139438085328,
          0.8324661810613944,
          0.8553590010405827,
          0.8740894901144641,
          0.890738813735692,
          0.9042663891779397,
          0.9177939646201873,
          0.9354838709677419,
          0.9469302809573361,
          0.9552549427679501,
          0.9656607700312175,
          0.9760665972944849,
          0.9823100936524454,
          0.9875130072840791,
          0.9958376690946931,
          1
         ]
        },
        {
         "mode": "lines",
         "name": "m4",
         "type": "scatter",
         "x": [
          0,
          1,
          2,
          3,
          4,
          5,
          6,
          7,
          8,
          9,
          10,
          11,
          12,
          13,
          14,
          15,
          16,
          17,
          18,
          19,
          20,
          21,
          22,
          23,
          24,
          25,
          26,
          27,
          28,
          29,
          30
         ],
         "y": [
          0,
          0.18522372528616024,
          0.2851196670135276,
          0.3537981269510926,
          0.404786680541103,
          0.45161290322580644,
          0.49011446409989595,
          0.5338189386056191,
          0.5650364203954215,
          0.595213319458897,
          0.631633714880333,
          0.6607700312174818,
          0.6888657648283039,
          0.7117585848074922,
          0.7419354838709677,
          0.7710718002081165,
          0.7929240374609782,
          0.8085327783558793,
          0.826222684703434,
          0.8511966701352758,
          0.8647242455775234,
          0.8886576482830385,
          0.9105098855359001,
          0.9209157127991675,
          0.9344432882414152,
          0.9448491155046826,
          0.9614984391259105,
          0.9750260145681582,
          0.9843912591050988,
          0.9947970863683663,
          1
         ]
        },
        {
         "mode": "lines",
         "name": "m5",
         "type": "scatter",
         "x": [
          0,
          1,
          2,
          3,
          4,
          5,
          6,
          7,
          8,
          9,
          10,
          11,
          12,
          13,
          14,
          15,
          16,
          17,
          18,
          19,
          20,
          21,
          22,
          23,
          24,
          25,
          26,
          27,
          28,
          29,
          30
         ],
         "y": [
          0,
          0.222684703433923,
          0.31321540062434966,
          0.3964620187304891,
          0.4557752341311134,
          0.5067637877211238,
          0.5619146722164412,
          0.5993756503642039,
          0.6337148803329865,
          0.668054110301769,
          0.6992715920915713,
          0.7356919875130072,
          0.7637877211238293,
          0.7835587929240374,
          0.8106139438085328,
          0.8251821019771072,
          0.8397502601456815,
          0.854318418314256,
          0.8761706555671176,
          0.886576482830385,
          0.9115504682622269,
          0.927159209157128,
          0.9438085327783559,
          0.9562955254942768,
          0.9667013527575442,
          0.9708636836628513,
          0.9781477627471384,
          0.9885535900104059,
          0.9947970863683663,
          0.9947970863683663,
          1
         ]
        },
        {
         "mode": "lines",
         "name": "m6",
         "type": "scatter",
         "x": [
          0,
          1,
          2,
          3,
          4,
          5,
          6,
          7,
          8,
          9,
          10,
          11,
          12,
          13,
          14,
          15,
          16,
          17,
          18,
          19,
          20,
          21,
          22,
          23,
          24,
          25,
          26,
          27,
          28,
          29,
          30
         ],
         "y": [
          0,
          0.13527575442247658,
          0.22684703433922998,
          0.31217481789802287,
          0.37877211238293446,
          0.4214360041623309,
          0.49427679500520294,
          0.5265348595213319,
          0.586888657648283,
          0.6285119667013528,
          0.668054110301769,
          0.7013527575442248,
          0.7315296566077003,
          0.7617065556711758,
          0.7950052029136316,
          0.8199791883454735,
          0.8397502601456815,
          0.8636836628511967,
          0.8876170655567117,
          0.9032258064516129,
          0.922996878251821,
          0.9417273673257024,
          0.959417273673257,
          0.9729448491155047,
          0.9843912591050988,
          0.991675338189386,
          0.9979188345473465,
          1,
          1,
          1,
          1
         ]
        }
       ],
       "layout": {
        "height": 500,
        "shapes": [
         {
          "line": {
           "dash": "dash"
          },
          "type": "line",
          "x0": 0,
          "x1": 30,
          "y0": 0,
          "y1": 1
         }
        ],
        "template": {
         "data": {
          "bar": [
           {
            "error_x": {
             "color": "#2a3f5f"
            },
            "error_y": {
             "color": "#2a3f5f"
            },
            "marker": {
             "line": {
              "color": "#E5ECF6",
              "width": 0.5
             },
             "pattern": {
              "fillmode": "overlay",
              "size": 10,
              "solidity": 0.2
             }
            },
            "type": "bar"
           }
          ],
          "barpolar": [
           {
            "marker": {
             "line": {
              "color": "#E5ECF6",
              "width": 0.5
             },
             "pattern": {
              "fillmode": "overlay",
              "size": 10,
              "solidity": 0.2
             }
            },
            "type": "barpolar"
           }
          ],
          "carpet": [
           {
            "aaxis": {
             "endlinecolor": "#2a3f5f",
             "gridcolor": "white",
             "linecolor": "white",
             "minorgridcolor": "white",
             "startlinecolor": "#2a3f5f"
            },
            "baxis": {
             "endlinecolor": "#2a3f5f",
             "gridcolor": "white",
             "linecolor": "white",
             "minorgridcolor": "white",
             "startlinecolor": "#2a3f5f"
            },
            "type": "carpet"
           }
          ],
          "choropleth": [
           {
            "colorbar": {
             "outlinewidth": 0,
             "ticks": ""
            },
            "type": "choropleth"
           }
          ],
          "contour": [
           {
            "colorbar": {
             "outlinewidth": 0,
             "ticks": ""
            },
            "colorscale": [
             [
              0,
              "#0d0887"
             ],
             [
              0.1111111111111111,
              "#46039f"
             ],
             [
              0.2222222222222222,
              "#7201a8"
             ],
             [
              0.3333333333333333,
              "#9c179e"
             ],
             [
              0.4444444444444444,
              "#bd3786"
             ],
             [
              0.5555555555555556,
              "#d8576b"
             ],
             [
              0.6666666666666666,
              "#ed7953"
             ],
             [
              0.7777777777777778,
              "#fb9f3a"
             ],
             [
              0.8888888888888888,
              "#fdca26"
             ],
             [
              1,
              "#f0f921"
             ]
            ],
            "type": "contour"
           }
          ],
          "contourcarpet": [
           {
            "colorbar": {
             "outlinewidth": 0,
             "ticks": ""
            },
            "type": "contourcarpet"
           }
          ],
          "heatmap": [
           {
            "colorbar": {
             "outlinewidth": 0,
             "ticks": ""
            },
            "colorscale": [
             [
              0,
              "#0d0887"
             ],
             [
              0.1111111111111111,
              "#46039f"
             ],
             [
              0.2222222222222222,
              "#7201a8"
             ],
             [
              0.3333333333333333,
              "#9c179e"
             ],
             [
              0.4444444444444444,
              "#bd3786"
             ],
             [
              0.5555555555555556,
              "#d8576b"
             ],
             [
              0.6666666666666666,
              "#ed7953"
             ],
             [
              0.7777777777777778,
              "#fb9f3a"
             ],
             [
              0.8888888888888888,
              "#fdca26"
             ],
             [
              1,
              "#f0f921"
             ]
            ],
            "type": "heatmap"
           }
          ],
          "heatmapgl": [
           {
            "colorbar": {
             "outlinewidth": 0,
             "ticks": ""
            },
            "colorscale": [
             [
              0,
              "#0d0887"
             ],
             [
              0.1111111111111111,
              "#46039f"
             ],
             [
              0.2222222222222222,
              "#7201a8"
             ],
             [
              0.3333333333333333,
              "#9c179e"
             ],
             [
              0.4444444444444444,
              "#bd3786"
             ],
             [
              0.5555555555555556,
              "#d8576b"
             ],
             [
              0.6666666666666666,
              "#ed7953"
             ],
             [
              0.7777777777777778,
              "#fb9f3a"
             ],
             [
              0.8888888888888888,
              "#fdca26"
             ],
             [
              1,
              "#f0f921"
             ]
            ],
            "type": "heatmapgl"
           }
          ],
          "histogram": [
           {
            "marker": {
             "pattern": {
              "fillmode": "overlay",
              "size": 10,
              "solidity": 0.2
             }
            },
            "type": "histogram"
           }
          ],
          "histogram2d": [
           {
            "colorbar": {
             "outlinewidth": 0,
             "ticks": ""
            },
            "colorscale": [
             [
              0,
              "#0d0887"
             ],
             [
              0.1111111111111111,
              "#46039f"
             ],
             [
              0.2222222222222222,
              "#7201a8"
             ],
             [
              0.3333333333333333,
              "#9c179e"
             ],
             [
              0.4444444444444444,
              "#bd3786"
             ],
             [
              0.5555555555555556,
              "#d8576b"
             ],
             [
              0.6666666666666666,
              "#ed7953"
             ],
             [
              0.7777777777777778,
              "#fb9f3a"
             ],
             [
              0.8888888888888888,
              "#fdca26"
             ],
             [
              1,
              "#f0f921"
             ]
            ],
            "type": "histogram2d"
           }
          ],
          "histogram2dcontour": [
           {
            "colorbar": {
             "outlinewidth": 0,
             "ticks": ""
            },
            "colorscale": [
             [
              0,
              "#0d0887"
             ],
             [
              0.1111111111111111,
              "#46039f"
             ],
             [
              0.2222222222222222,
              "#7201a8"
             ],
             [
              0.3333333333333333,
              "#9c179e"
             ],
             [
              0.4444444444444444,
              "#bd3786"
             ],
             [
              0.5555555555555556,
              "#d8576b"
             ],
             [
              0.6666666666666666,
              "#ed7953"
             ],
             [
              0.7777777777777778,
              "#fb9f3a"
             ],
             [
              0.8888888888888888,
              "#fdca26"
             ],
             [
              1,
              "#f0f921"
             ]
            ],
            "type": "histogram2dcontour"
           }
          ],
          "mesh3d": [
           {
            "colorbar": {
             "outlinewidth": 0,
             "ticks": ""
            },
            "type": "mesh3d"
           }
          ],
          "parcoords": [
           {
            "line": {
             "colorbar": {
              "outlinewidth": 0,
              "ticks": ""
             }
            },
            "type": "parcoords"
           }
          ],
          "pie": [
           {
            "automargin": true,
            "type": "pie"
           }
          ],
          "scatter": [
           {
            "fillpattern": {
             "fillmode": "overlay",
             "size": 10,
             "solidity": 0.2
            },
            "type": "scatter"
           }
          ],
          "scatter3d": [
           {
            "line": {
             "colorbar": {
              "outlinewidth": 0,
              "ticks": ""
             }
            },
            "marker": {
             "colorbar": {
              "outlinewidth": 0,
              "ticks": ""
             }
            },
            "type": "scatter3d"
           }
          ],
          "scattercarpet": [
           {
            "marker": {
             "colorbar": {
              "outlinewidth": 0,
              "ticks": ""
             }
            },
            "type": "scattercarpet"
           }
          ],
          "scattergeo": [
           {
            "marker": {
             "colorbar": {
              "outlinewidth": 0,
              "ticks": ""
             }
            },
            "type": "scattergeo"
           }
          ],
          "scattergl": [
           {
            "marker": {
             "colorbar": {
              "outlinewidth": 0,
              "ticks": ""
             }
            },
            "type": "scattergl"
           }
          ],
          "scattermapbox": [
           {
            "marker": {
             "colorbar": {
              "outlinewidth": 0,
              "ticks": ""
             }
            },
            "type": "scattermapbox"
           }
          ],
          "scatterpolar": [
           {
            "marker": {
             "colorbar": {
              "outlinewidth": 0,
              "ticks": ""
             }
            },
            "type": "scatterpolar"
           }
          ],
          "scatterpolargl": [
           {
            "marker": {
             "colorbar": {
              "outlinewidth": 0,
              "ticks": ""
             }
            },
            "type": "scatterpolargl"
           }
          ],
          "scatterternary": [
           {
            "marker": {
             "colorbar": {
              "outlinewidth": 0,
              "ticks": ""
             }
            },
            "type": "scatterternary"
           }
          ],
          "surface": [
           {
            "colorbar": {
             "outlinewidth": 0,
             "ticks": ""
            },
            "colorscale": [
             [
              0,
              "#0d0887"
             ],
             [
              0.1111111111111111,
              "#46039f"
             ],
             [
              0.2222222222222222,
              "#7201a8"
             ],
             [
              0.3333333333333333,
              "#9c179e"
             ],
             [
              0.4444444444444444,
              "#bd3786"
             ],
             [
              0.5555555555555556,
              "#d8576b"
             ],
             [
              0.6666666666666666,
              "#ed7953"
             ],
             [
              0.7777777777777778,
              "#fb9f3a"
             ],
             [
              0.8888888888888888,
              "#fdca26"
             ],
             [
              1,
              "#f0f921"
             ]
            ],
            "type": "surface"
           }
          ],
          "table": [
           {
            "cells": {
             "fill": {
              "color": "#EBF0F8"
             },
             "line": {
              "color": "white"
             }
            },
            "header": {
             "fill": {
              "color": "#C8D4E3"
             },
             "line": {
              "color": "white"
             }
            },
            "type": "table"
           }
          ]
         },
         "layout": {
          "annotationdefaults": {
           "arrowcolor": "#2a3f5f",
           "arrowhead": 0,
           "arrowwidth": 1
          },
          "autotypenumbers": "strict",
          "coloraxis": {
           "colorbar": {
            "outlinewidth": 0,
            "ticks": ""
           }
          },
          "colorscale": {
           "diverging": [
            [
             0,
             "#8e0152"
            ],
            [
             0.1,
             "#c51b7d"
            ],
            [
             0.2,
             "#de77ae"
            ],
            [
             0.3,
             "#f1b6da"
            ],
            [
             0.4,
             "#fde0ef"
            ],
            [
             0.5,
             "#f7f7f7"
            ],
            [
             0.6,
             "#e6f5d0"
            ],
            [
             0.7,
             "#b8e186"
            ],
            [
             0.8,
             "#7fbc41"
            ],
            [
             0.9,
             "#4d9221"
            ],
            [
             1,
             "#276419"
            ]
           ],
           "sequential": [
            [
             0,
             "#0d0887"
            ],
            [
             0.1111111111111111,
             "#46039f"
            ],
            [
             0.2222222222222222,
             "#7201a8"
            ],
            [
             0.3333333333333333,
             "#9c179e"
            ],
            [
             0.4444444444444444,
             "#bd3786"
            ],
            [
             0.5555555555555556,
             "#d8576b"
            ],
            [
             0.6666666666666666,
             "#ed7953"
            ],
            [
             0.7777777777777778,
             "#fb9f3a"
            ],
            [
             0.8888888888888888,
             "#fdca26"
            ],
            [
             1,
             "#f0f921"
            ]
           ],
           "sequentialminus": [
            [
             0,
             "#0d0887"
            ],
            [
             0.1111111111111111,
             "#46039f"
            ],
            [
             0.2222222222222222,
             "#7201a8"
            ],
            [
             0.3333333333333333,
             "#9c179e"
            ],
            [
             0.4444444444444444,
             "#bd3786"
            ],
            [
             0.5555555555555556,
             "#d8576b"
            ],
            [
             0.6666666666666666,
             "#ed7953"
            ],
            [
             0.7777777777777778,
             "#fb9f3a"
            ],
            [
             0.8888888888888888,
             "#fdca26"
            ],
            [
             1,
             "#f0f921"
            ]
           ]
          },
          "colorway": [
           "#636efa",
           "#EF553B",
           "#00cc96",
           "#ab63fa",
           "#FFA15A",
           "#19d3f3",
           "#FF6692",
           "#B6E880",
           "#FF97FF",
           "#FECB52"
          ],
          "font": {
           "color": "#2a3f5f"
          },
          "geo": {
           "bgcolor": "white",
           "lakecolor": "white",
           "landcolor": "#E5ECF6",
           "showlakes": true,
           "showland": true,
           "subunitcolor": "white"
          },
          "hoverlabel": {
           "align": "left"
          },
          "hovermode": "closest",
          "mapbox": {
           "style": "light"
          },
          "paper_bgcolor": "white",
          "plot_bgcolor": "#E5ECF6",
          "polar": {
           "angularaxis": {
            "gridcolor": "white",
            "linecolor": "white",
            "ticks": ""
           },
           "bgcolor": "#E5ECF6",
           "radialaxis": {
            "gridcolor": "white",
            "linecolor": "white",
            "ticks": ""
           }
          },
          "scene": {
           "xaxis": {
            "backgroundcolor": "#E5ECF6",
            "gridcolor": "white",
            "gridwidth": 2,
            "linecolor": "white",
            "showbackground": true,
            "ticks": "",
            "zerolinecolor": "white"
           },
           "yaxis": {
            "backgroundcolor": "#E5ECF6",
            "gridcolor": "white",
            "gridwidth": 2,
            "linecolor": "white",
            "showbackground": true,
            "ticks": "",
            "zerolinecolor": "white"
           },
           "zaxis": {
            "backgroundcolor": "#E5ECF6",
            "gridcolor": "white",
            "gridwidth": 2,
            "linecolor": "white",
            "showbackground": true,
            "ticks": "",
            "zerolinecolor": "white"
           }
          },
          "shapedefaults": {
           "line": {
            "color": "#2a3f5f"
           }
          },
          "ternary": {
           "aaxis": {
            "gridcolor": "white",
            "linecolor": "white",
            "ticks": ""
           },
           "baxis": {
            "gridcolor": "white",
            "linecolor": "white",
            "ticks": ""
           },
           "bgcolor": "#E5ECF6",
           "caxis": {
            "gridcolor": "white",
            "linecolor": "white",
            "ticks": ""
           }
          },
          "title": {
           "x": 0.05
          },
          "xaxis": {
           "automargin": true,
           "gridcolor": "white",
           "linecolor": "white",
           "ticks": "",
           "title": {
            "standoff": 15
           },
           "zerolinecolor": "white",
           "zerolinewidth": 2
          },
          "yaxis": {
           "automargin": true,
           "gridcolor": "white",
           "linecolor": "white",
           "ticks": "",
           "title": {
            "standoff": 15
           },
           "zerolinecolor": "white",
           "zerolinewidth": 2
          }
         }
        },
        "title": {
         "text": "Gains curves"
        },
        "width": 700,
        "xaxis": {
         "autorange": true,
         "range": [
          -0.056818181818181816,
          30.056818181818183
         ],
         "type": "linear"
        },
        "yaxis": {
         "autorange": true,
         "range": [
          -0.05555555555555555,
          1.0555555555555556
         ],
         "type": "linear"
        }
       }
      },
      "image/png": "[encoded data removed]",
      "text/html": [
       "<div>                            <div id=\"3c66d9a2-2e87-4ba6-af93-380c12482438\" class=\"plotly-graph-div\" style=\"height:500px; width:700px;\"></div>            <script type=\"text/javascript\">                require([\"plotly\"], function(Plotly) {                    window.PLOTLYENV=window.PLOTLYENV || {};                                    if (document.getElementById(\"3c66d9a2-2e87-4ba6-af93-380c12482438\")) {                    Plotly.newPlot(                        \"3c66d9a2-2e87-4ba6-af93-380c12482438\",                        [{\"mode\":\"lines\",\"name\":\"m1\",\"x\":[0.0,1.0,2.0,3.0,4.0,5.0,6.0,7.0,8.0,9.0,10.0,11.0,12.0,13.0,14.0,15.0,16.0,17.0,18.0,19.0,20.0,21.0,22.0,23.0,24.0,25.0,26.0,27.0,28.0,29.0,30.0],\"y\":[0.0,0.19667013527575442,0.3225806451612903,0.3891779396462019,0.45369406867845996,0.5098855359001041,0.5494276795005203,0.5900104058272633,0.6264308012486993,0.6555671175858481,0.6878251821019771,0.7148803329864725,0.740894901144641,0.7679500520291364,0.7877211238293444,0.8043704474505723,0.8376690946930281,0.8574401664932362,0.8720083246618107,0.8855359001040582,0.9001040582726326,0.9105098855359001,0.9323621227887617,0.9490114464099896,0.9562955254942768,0.963579604578564,0.9750260145681582,0.9812695109261186,0.9895941727367326,0.9958376690946931,1.0],\"type\":\"scatter\"},{\"mode\":\"lines\",\"name\":\"m2\",\"x\":[0.0,1.0,2.0,3.0,4.0,5.0,6.0,7.0,8.0,9.0,10.0,11.0,12.0,13.0,14.0,15.0,16.0,17.0,18.0,19.0,20.0,21.0,22.0,23.0,24.0,25.0,26.0,27.0,28.0,29.0,30.0],\"y\":[0.0,0.2445369406867846,0.34963579604578565,0.4432882414151925,0.5150884495317378,0.5598335067637877,0.5993756503642039,0.6285119667013528,0.6618106139438086,0.6992715920915713,0.7346514047866806,0.7544224765868887,0.7783558792924038,0.7960457856399584,0.8158168574401665,0.8335067637877211,0.850156087408949,0.8688865764828304,0.8886576482830385,0.9073881373569199,0.9198751300728408,0.9365244536940687,0.9448491155046826,0.9552549427679501,0.9646201873048907,0.9708636836628513,0.9781477627471384,0.9864724245577523,0.991675338189386,0.9979188345473465,1.0],\"type\":\"scatter\"},{\"mode\":\"lines\",\"name\":\"m3\",\"x\":[0.0,1.0,2.0,3.0,4.0,5.0,6.0,7.0,8.0,9.0,10.0,11.0,12.0,13.0,14.0,15.0,16.0,17.0,18.0,19.0,20.0,21.0,22.0,23.0,24.0,25.0,26.0,27.0,28.0,29.0,30.0],\"y\":[0.0,0.1914672216441207,0.3100936524453694,0.37877211238293446,0.4505723204994797,0.4963579604578564,0.5452653485952134,0.5879292403746098,0.6181061394380853,0.6524453694068678,0.6815816857440167,0.7127991675338189,0.7419354838709677,0.7648283038501561,0.7814776274713839,0.8106139438085328,0.8324661810613944,0.8553590010405827,0.8740894901144641,0.890738813735692,0.9042663891779397,0.9177939646201873,0.9354838709677419,0.9469302809573361,0.9552549427679501,0.9656607700312175,0.9760665972944849,0.9823100936524454,0.9875130072840791,0.9958376690946931,1.0],\"type\":\"scatter\"},{\"mode\":\"lines\",\"name\":\"m4\",\"x\":[0.0,1.0,2.0,3.0,4.0,5.0,6.0,7.0,8.0,9.0,10.0,11.0,12.0,13.0,14.0,15.0,16.0,17.0,18.0,19.0,20.0,21.0,22.0,23.0,24.0,25.0,26.0,27.0,28.0,29.0,30.0],\"y\":[0.0,0.18522372528616024,0.2851196670135276,0.3537981269510926,0.404786680541103,0.45161290322580644,0.49011446409989595,0.5338189386056191,0.5650364203954215,0.595213319458897,0.631633714880333,0.6607700312174818,0.6888657648283039,0.7117585848074922,0.7419354838709677,0.7710718002081165,0.7929240374609782,0.8085327783558793,0.826222684703434,0.8511966701352758,0.8647242455775234,0.8886576482830385,0.9105098855359001,0.9209157127991675,0.9344432882414152,0.9448491155046826,0.9614984391259105,0.9750260145681582,0.9843912591050988,0.9947970863683663,1.0],\"type\":\"scatter\"},{\"mode\":\"lines\",\"name\":\"m5\",\"x\":[0.0,1.0,2.0,3.0,4.0,5.0,6.0,7.0,8.0,9.0,10.0,11.0,12.0,13.0,14.0,15.0,16.0,17.0,18.0,19.0,20.0,21.0,22.0,23.0,24.0,25.0,26.0,27.0,28.0,29.0,30.0],\"y\":[0.0,0.222684703433923,0.31321540062434966,0.3964620187304891,0.4557752341311134,0.5067637877211238,0.5619146722164412,0.5993756503642039,0.6337148803329865,0.668054110301769,0.6992715920915713,0.7356919875130072,0.7637877211238293,0.7835587929240374,0.8106139438085328,0.8251821019771072,0.8397502601456815,0.854318418314256,0.8761706555671176,0.886576482830385,0.9115504682622269,0.927159209157128,0.9438085327783559,0.9562955254942768,0.9667013527575442,0.9708636836628513,0.9781477627471384,0.9885535900104059,0.9947970863683663,0.9947970863683663,1.0],\"type\":\"scatter\"},{\"mode\":\"lines\",\"name\":\"m6\",\"x\":[0.0,1.0,2.0,3.0,4.0,5.0,6.0,7.0,8.0,9.0,10.0,11.0,12.0,13.0,14.0,15.0,16.0,17.0,18.0,19.0,20.0,21.0,22.0,23.0,24.0,25.0,26.0,27.0,28.0,29.0,30.0],\"y\":[0.0,0.13527575442247658,0.22684703433922998,0.31217481789802287,0.37877211238293446,0.4214360041623309,0.49427679500520294,0.5265348595213319,0.586888657648283,0.6285119667013528,0.668054110301769,0.7013527575442248,0.7315296566077003,0.7617065556711758,0.7950052029136316,0.8199791883454735,0.8397502601456815,0.8636836628511967,0.8876170655567117,0.9032258064516129,0.922996878251821,0.9417273673257024,0.959417273673257,0.9729448491155047,0.9843912591050988,0.991675338189386,0.9979188345473465,1.0,1.0,1.0,1.0],\"type\":\"scatter\"}],                        {\"template\":{\"data\":{\"histogram2dcontour\":[{\"type\":\"histogram2dcontour\",\"colorbar\":{\"outlinewidth\":0,\"ticks\":\"\"},\"colorscale\":[[0.0,\"#0d0887\"],[0.1111111111111111,\"#46039f\"],[0.2222222222222222,\"#7201a8\"],[0.3333333333333333,\"#9c179e\"],[0.4444444444444444,\"#bd3786\"],[0.5555555555555556,\"#d8576b\"],[0.6666666666666666,\"#ed7953\"],[0.7777777777777778,\"#fb9f3a\"],[0.8888888888888888,\"#fdca26\"],[1.0,\"#f0f921\"]]}],\"choropleth\":[{\"type\":\"choropleth\",\"colorbar\":{\"outlinewidth\":0,\"ticks\":\"\"}}],\"histogram2d\":[{\"type\":\"histogram2d\",\"colorbar\":{\"outlinewidth\":0,\"ticks\":\"\"},\"colorscale\":[[0.0,\"#0d0887\"],[0.1111111111111111,\"#46039f\"],[0.2222222222222222,\"#7201a8\"],[0.3333333333333333,\"#9c179e\"],[0.4444444444444444,\"#bd3786\"],[0.5555555555555556,\"#d8576b\"],[0.6666666666666666,\"#ed7953\"],[0.7777777777777778,\"#fb9f3a\"],[0.8888888888888888,\"#fdca26\"],[1.0,\"#f0f921\"]]}],\"heatmap\":[{\"type\":\"heatmap\",\"colorbar\":{\"outlinewidth\":0,\"ticks\":\"\"},\"colorscale\":[[0.0,\"#0d0887\"],[0.1111111111111111,\"#46039f\"],[0.2222222222222222,\"#7201a8\"],[0.3333333333333333,\"#9c179e\"],[0.4444444444444444,\"#bd3786\"],[0.5555555555555556,\"#d8576b\"],[0.6666666666666666,\"#ed7953\"],[0.7777777777777778,\"#fb9f3a\"],[0.8888888888888888,\"#fdca26\"],[1.0,\"#f0f921\"]]}],\"heatmapgl\":[{\"type\":\"heatmapgl\",\"colorbar\":{\"outlinewidth\":0,\"ticks\":\"\"},\"colorscale\":[[0.0,\"#0d0887\"],[0.1111111111111111,\"#46039f\"],[0.2222222222222222,\"#7201a8\"],[0.3333333333333333,\"#9c179e\"],[0.4444444444444444,\"#bd3786\"],[0.5555555555555556,\"#d8576b\"],[0.6666666666666666,\"#ed7953\"],[0.7777777777777778,\"#fb9f3a\"],[0.8888888888888888,\"#fdca26\"],[1.0,\"#f0f921\"]]}],\"contourcarpet\":[{\"type\":\"contourcarpet\",\"colorbar\":{\"outlinewidth\":0,\"ticks\":\"\"}}],\"contour\":[{\"type\":\"contour\",\"colorbar\":{\"outlinewidth\":0,\"ticks\":\"\"},\"colorscale\":[[0.0,\"#0d0887\"],[0.1111111111111111,\"#46039f\"],[0.2222222222222222,\"#7201a8\"],[0.3333333333333333,\"#9c179e\"],[0.4444444444444444,\"#bd3786\"],[0.5555555555555556,\"#d8576b\"],[0.6666666666666666,\"#ed7953\"],[0.7777777777777778,\"#fb9f3a\"],[0.8888888888888888,\"#fdca26\"],[1.0,\"#f0f921\"]]}],\"surface\":[{\"type\":\"surface\",\"colorbar\":{\"outlinewidth\":0,\"ticks\":\"\"},\"colorscale\":[[0.0,\"#0d0887\"],[0.1111111111111111,\"#46039f\"],[0.2222222222222222,\"#7201a8\"],[0.3333333333333333,\"#9c179e\"],[0.4444444444444444,\"#bd3786\"],[0.5555555555555556,\"#d8576b\"],[0.6666666666666666,\"#ed7953\"],[0.7777777777777778,\"#fb9f3a\"],[0.8888888888888888,\"#fdca26\"],[1.0,\"#f0f921\"]]}],\"mesh3d\":[{\"type\":\"mesh3d\",\"colorbar\":{\"outlinewidth\":0,\"ticks\":\"\"}}],\"scatter\":[{\"fillpattern\":{\"fillmode\":\"overlay\",\"size\":10,\"solidity\":0.2},\"type\":\"scatter\"}],\"parcoords\":[{\"type\":\"parcoords\",\"line\":{\"colorbar\":{\"outlinewidth\":0,\"ticks\":\"\"}}}],\"scatterpolargl\":[{\"type\":\"scatterpolargl\",\"marker\":{\"colorbar\":{\"outlinewidth\":0,\"ticks\":\"\"}}}],\"bar\":[{\"error_x\":{\"color\":\"#2a3f5f\"},\"error_y\":{\"color\":\"#2a3f5f\"},\"marker\":{\"line\":{\"color\":\"#E5ECF6\",\"width\":0.5},\"pattern\":{\"fillmode\":\"overlay\",\"size\":10,\"solidity\":0.2}},\"type\":\"bar\"}],\"scattergeo\":[{\"type\":\"scattergeo\",\"marker\":{\"colorbar\":{\"outlinewidth\":0,\"ticks\":\"\"}}}],\"scatterpolar\":[{\"type\":\"scatterpolar\",\"marker\":{\"colorbar\":{\"outlinewidth\":0,\"ticks\":\"\"}}}],\"histogram\":[{\"marker\":{\"pattern\":{\"fillmode\":\"overlay\",\"size\":10,\"solidity\":0.2}},\"type\":\"histogram\"}],\"scattergl\":[{\"type\":\"scattergl\",\"marker\":{\"colorbar\":{\"outlinewidth\":0,\"ticks\":\"\"}}}],\"scatter3d\":[{\"type\":\"scatter3d\",\"line\":{\"colorbar\":{\"outlinewidth\":0,\"ticks\":\"\"}},\"marker\":{\"colorbar\":{\"outlinewidth\":0,\"ticks\":\"\"}}}],\"scattermapbox\":[{\"type\":\"scattermapbox\",\"marker\":{\"colorbar\":{\"outlinewidth\":0,\"ticks\":\"\"}}}],\"scatterternary\":[{\"type\":\"scatterternary\",\"marker\":{\"colorbar\":{\"outlinewidth\":0,\"ticks\":\"\"}}}],\"scattercarpet\":[{\"type\":\"scattercarpet\",\"marker\":{\"colorbar\":{\"outlinewidth\":0,\"ticks\":\"\"}}}],\"carpet\":[{\"aaxis\":{\"endlinecolor\":\"#2a3f5f\",\"gridcolor\":\"white\",\"linecolor\":\"white\",\"minorgridcolor\":\"white\",\"startlinecolor\":\"#2a3f5f\"},\"baxis\":{\"endlinecolor\":\"#2a3f5f\",\"gridcolor\":\"white\",\"linecolor\":\"white\",\"minorgridcolor\":\"white\",\"startlinecolor\":\"#2a3f5f\"},\"type\":\"carpet\"}],\"table\":[{\"cells\":{\"fill\":{\"color\":\"#EBF0F8\"},\"line\":{\"color\":\"white\"}},\"header\":{\"fill\":{\"color\":\"#C8D4E3\"},\"line\":{\"color\":\"white\"}},\"type\":\"table\"}],\"barpolar\":[{\"marker\":{\"line\":{\"color\":\"#E5ECF6\",\"width\":0.5},\"pattern\":{\"fillmode\":\"overlay\",\"size\":10,\"solidity\":0.2}},\"type\":\"barpolar\"}],\"pie\":[{\"automargin\":true,\"type\":\"pie\"}]},\"layout\":{\"autotypenumbers\":\"strict\",\"colorway\":[\"#636efa\",\"#EF553B\",\"#00cc96\",\"#ab63fa\",\"#FFA15A\",\"#19d3f3\",\"#FF6692\",\"#B6E880\",\"#FF97FF\",\"#FECB52\"],\"font\":{\"color\":\"#2a3f5f\"},\"hovermode\":\"closest\",\"hoverlabel\":{\"align\":\"left\"},\"paper_bgcolor\":\"white\",\"plot_bgcolor\":\"#E5ECF6\",\"polar\":{\"bgcolor\":\"#E5ECF6\",\"angularaxis\":{\"gridcolor\":\"white\",\"linecolor\":\"white\",\"ticks\":\"\"},\"radialaxis\":{\"gridcolor\":\"white\",\"linecolor\":\"white\",\"ticks\":\"\"}},\"ternary\":{\"bgcolor\":\"#E5ECF6\",\"aaxis\":{\"gridcolor\":\"white\",\"linecolor\":\"white\",\"ticks\":\"\"},\"baxis\":{\"gridcolor\":\"white\",\"linecolor\":\"white\",\"ticks\":\"\"},\"caxis\":{\"gridcolor\":\"white\",\"linecolor\":\"white\",\"ticks\":\"\"}},\"coloraxis\":{\"colorbar\":{\"outlinewidth\":0,\"ticks\":\"\"}},\"colorscale\":{\"sequential\":[[0.0,\"#0d0887\"],[0.1111111111111111,\"#46039f\"],[0.2222222222222222,\"#7201a8\"],[0.3333333333333333,\"#9c179e\"],[0.4444444444444444,\"#bd3786\"],[0.5555555555555556,\"#d8576b\"],[0.6666666666666666,\"#ed7953\"],[0.7777777777777778,\"#fb9f3a\"],[0.8888888888888888,\"#fdca26\"],[1.0,\"#f0f921\"]],\"sequentialminus\":[[0.0,\"#0d0887\"],[0.1111111111111111,\"#46039f\"],[0.2222222222222222,\"#7201a8\"],[0.3333333333333333,\"#9c179e\"],[0.4444444444444444,\"#bd3786\"],[0.5555555555555556,\"#d8576b\"],[0.6666666666666666,\"#ed7953\"],[0.7777777777777778,\"#fb9f3a\"],[0.8888888888888888,\"#fdca26\"],[1.0,\"#f0f921\"]],\"diverging\":[[0,\"#8e0152\"],[0.1,\"#c51b7d\"],[0.2,\"#de77ae\"],[0.3,\"#f1b6da\"],[0.4,\"#fde0ef\"],[0.5,\"#f7f7f7\"],[0.6,\"#e6f5d0\"],[0.7,\"#b8e186\"],[0.8,\"#7fbc41\"],[0.9,\"#4d9221\"],[1,\"#276419\"]]},\"xaxis\":{\"gridcolor\":\"white\",\"linecolor\":\"white\",\"ticks\":\"\",\"title\":{\"standoff\":15},\"zerolinecolor\":\"white\",\"automargin\":true,\"zerolinewidth\":2},\"yaxis\":{\"gridcolor\":\"white\",\"linecolor\":\"white\",\"ticks\":\"\",\"title\":{\"standoff\":15},\"zerolinecolor\":\"white\",\"automargin\":true,\"zerolinewidth\":2},\"scene\":{\"xaxis\":{\"backgroundcolor\":\"#E5ECF6\",\"gridcolor\":\"white\",\"linecolor\":\"white\",\"showbackground\":true,\"ticks\":\"\",\"zerolinecolor\":\"white\",\"gridwidth\":2},\"yaxis\":{\"backgroundcolor\":\"#E5ECF6\",\"gridcolor\":\"white\",\"linecolor\":\"white\",\"showbackground\":true,\"ticks\":\"\",\"zerolinecolor\":\"white\",\"gridwidth\":2},\"zaxis\":{\"backgroundcolor\":\"#E5ECF6\",\"gridcolor\":\"white\",\"linecolor\":\"white\",\"showbackground\":true,\"ticks\":\"\",\"zerolinecolor\":\"white\",\"gridwidth\":2}},\"shapedefaults\":{\"line\":{\"color\":\"#2a3f5f\"}},\"annotationdefaults\":{\"arrowcolor\":\"#2a3f5f\",\"arrowhead\":0,\"arrowwidth\":1},\"geo\":{\"bgcolor\":\"white\",\"landcolor\":\"#E5ECF6\",\"subunitcolor\":\"white\",\"showland\":true,\"showlakes\":true,\"lakecolor\":\"white\"},\"title\":{\"x\":0.05},\"mapbox\":{\"style\":\"light\"}}},\"shapes\":[{\"line\":{\"dash\":\"dash\"},\"type\":\"line\",\"x0\":0,\"x1\":30,\"y0\":0,\"y1\":1}],\"width\":700,\"height\":500,\"title\":{\"text\":\"Gains curves\"}},                        {\"responsive\": true}                    ).then(function(){\n",
       "                            \n",
       "var gd = document.getElementById('3c66d9a2-2e87-4ba6-af93-380c12482438');\n",
       "var x = new MutationObserver(function (mutations, observer) {{\n",
       "        var display = window.getComputedStyle(gd).display;\n",
       "        if (!display || display === 'none') {{\n",
       "            console.log([gd, 'removed!']);\n",
       "            Plotly.purge(gd);\n",
       "            observer.disconnect();\n",
       "        }}\n",
       "}});\n",
       "\n",
       "// Listen for the removal of the full notebook cells\n",
       "var notebookContainer = gd.closest('#notebook-container');\n",
       "if (notebookContainer) {{\n",
       "    x.observe(notebookContainer, {childList: true});\n",
       "}}\n",
       "\n",
       "// Listen for the clearing of the current output cell\n",
       "var outputEl = gd.closest('.output');\n",
       "if (outputEl) {{\n",
       "    x.observe(outputEl, {childList: true});\n",
       "}}\n",
       "\n",
       "                        })                };                });            </script>        </div>"
      ]
     },
     "metadata": {},
     "output_type": "display_data"
    }
   ],
   "source": [
    "fig = go.Figure()\n",
    "\n",
    "\n",
    "fig.add_shape(\n",
    "    type='line', line=dict(dash='dash'),\n",
    "    x0=0, x1=30, y0=0, y1=1\n",
    ")\n",
    "\n",
    "\n",
    "for model_key in models:\n",
    "    \n",
    "    ## Variables definition\n",
    "    mx_info = models[model_key]\n",
    "    dfx = mx_info['df']\n",
    "    \n",
    "    ## Gain calculation\n",
    "    mx_gain = mba263.gain(dfx['res1'], dfx[model_key + '_pred_prob'], bins=30)\n",
    "\n",
    "    fig.add_trace(\n",
    "        go.Scatter(\n",
    "            x=np.linspace(0, 30, num=mx_gain.shape[0]), \n",
    "            y=mx_gain,\n",
    "            mode='lines',\n",
    "            name=model_key\n",
    "        )\n",
    "    )\n",
    "    \n",
    "\n",
    "fig.update_layout(\n",
    "    width=700, height=500,\n",
    "    title='Gains curves'\n",
    ")\n",
    "    \n",
    "fig.show()"
   ]
  },
  {
   "cell_type": "markdown",
   "id": "8b6cfb3c-a03e-47a9-88a5-cce822331521",
   "metadata": {
    "tags": []
   },
   "source": [
    "###### "
   ]
  },
  {
   "cell_type": "markdown",
   "id": "ff7bc15c-00d0-45a9-9a23-e223d2d19aa3",
   "metadata": {
    "tags": []
   },
   "source": [
    "### Profit estimation\n"
   ]
  },
  {
   "cell_type": "markdown",
   "id": "1b20e83d-c011-4d52-8641-fd66d40d7a98",
   "metadata": {},
   "source": [
    "##### Calculating profits for each model at different thresholds"
   ]
  },
  {
   "cell_type": "code",
   "execution_count": 182,
   "id": "563a6926-296b-456f-9e09-ee7c261a9fe3",
   "metadata": {
    "execution": {
     "iopub.execute_input": "2023-03-21T03:37:30.541209Z",
     "iopub.status.busy": "2023-03-21T03:37:30.540707Z",
     "iopub.status.idle": "2023-03-21T03:37:30.644097Z",
     "shell.execute_reply": "2023-03-21T03:37:30.643232Z",
     "shell.execute_reply.started": "2023-03-21T03:37:30.541176Z"
    },
    "tags": []
   },
   "outputs": [],
   "source": [
    "## Profit dataframe for various thresholds\n",
    "thd_cuts = 100\n",
    "dfprofit = pd.DataFrame(np.linspace(0, 1, num=thd_cuts))\n",
    "dfprofit.rename(columns={0: 'threshold'}, inplace=True)"
   ]
  },
  {
   "cell_type": "code",
   "execution_count": null,
   "id": "0528469e-ede7-49cd-ae5a-7af0e8c370d7",
   "metadata": {
    "execution": {
     "iopub.execute_input": "2023-03-21T03:37:30.760343Z",
     "iopub.status.busy": "2023-03-21T03:37:30.759834Z"
    },
    "scrolled": true,
    "tags": []
   },
   "outputs": [
    {
     "name": "stdout",
     "output_type": "stream",
     "text": [
      "m1...\n",
      "m2...\n",
      "m3...\n",
      "m4...\n",
      "m5...\n",
      "m6...\n"
     ]
    }
   ],
   "source": [
    "for model_key in models:\n",
    "    \n",
    "    print(model_key + '...')\n",
    "    \n",
    "    ## Defining variables\n",
    "    _model = models[model_key]['model']\n",
    "    _df = models[model_key]['df']\n",
    "    _features = _df[models[model_key]['features']]\n",
    "    _label = _df[models[model_key]['label']]\n",
    "    \n",
    "    \n",
    "    ## Obtaining key metrics for all cutoffs\n",
    "    \n",
    "    ### Condition to define how to make the predictions for a particular threshold\n",
    "    if model_key == 'm6':\n",
    "        \n",
    "        #### Calculations for model 6\n",
    "        dfprofit[model_key] = dfprofit['threshold'].apply(\n",
    "            lambda x: metrics.confusion_matrix(\n",
    "                y_true=_label,\n",
    "                y_pred=(\n",
    "                    mba263.get_means(\n",
    "                        _df['res1'], \n",
    "                        _df['rec_ntile'].astype('str') + _df['freq_ntile'].astype('str') + _df['mon_ntile'].astype('str')\n",
    "                    )/2 >= x\n",
    "                )*1,\n",
    "            ).ravel()\n",
    "        )\n",
    "        \n",
    "    else:\n",
    "        \n",
    "        #### Calculations for model 6\n",
    "        dfprofit[model_key] = dfprofit['threshold'].apply(\n",
    "            lambda x: metrics.confusion_matrix(\n",
    "                y_true=_label,\n",
    "                y_pred=(_model.predict(_features)/2 >= x)*1,\n",
    "            ).ravel()\n",
    "        )\n",
    "        \n",
    "    \n",
    "    ## Desaggregating results into columns\n",
    "    dfprofit[\n",
    "        [\n",
    "            model_key + '_tn',  \n",
    "            model_key + '_fp',  \n",
    "            model_key + '_fn',  \n",
    "            model_key + '_tp',\n",
    "        ]\n",
    "    ] = pd.DataFrame(dfprofit[model_key].tolist(), index=dfprofit.index)\n",
    "    dfprofit.drop(model_key, axis=1, inplace=True)\n",
    "    \n",
    "    ## Adjusting the true positives and false positives to account for the 50% less response rate due to second wave\n",
    "    ### Cutting the true positives by half\n",
    "    dfprofit[model_key + '_tp'] = dfprofit[model_key + '_tp']/2\n",
    "    ### Adding the cutted half to the false positive\n",
    "    dfprofit[model_key + '_fp'] = dfprofit[model_key + '_fp'] + dfprofit[model_key + '_tp']/2\n",
    "    \n",
    "    ## Adding some other model metrics\n",
    "    dfprofit[model_key + '_prc'] = dfprofit[model_key + '_tp']/(dfprofit[model_key + '_tp'] + dfprofit[model_key + '_fp'])\n",
    "    dfprofit[model_key + '_rcl'] = dfprofit[model_key + '_tp']/(dfprofit[model_key + '_tp'] + dfprofit[model_key + '_fn'])\n",
    "    \n",
    "    ## Calculating estimated profit\n",
    "    dfprofit[model_key + '_profit'] = dfprofit[model_key + '_tp']*(60 - 1.41) - dfprofit[model_key + '_fp']*1.41\n",
    "    \n",
    "print('end!')"
   ]
  },
  {
   "cell_type": "markdown",
   "id": "c1f7347f-09ac-40c6-bfc1-bc188d470a9c",
   "metadata": {},
   "source": [
    "##### Visualizing results"
   ]
  },
  {
   "cell_type": "code",
   "execution_count": null,
   "id": "a9e4d46f-851c-4c13-bc3b-429648f72bd3",
   "metadata": {
    "tags": []
   },
   "outputs": [],
   "source": [
    "dfprofit"
   ]
  },
  {
   "cell_type": "code",
   "execution_count": null,
   "id": "0f0dc4de-1877-44b2-8a9a-1c8daa37adbe",
   "metadata": {},
   "outputs": [],
   "source": []
  },
  {
   "cell_type": "code",
   "execution_count": null,
   "id": "649e0a27-b71f-4246-8a4e-d53ce84f9ae2",
   "metadata": {
    "tags": []
   },
   "outputs": [],
   "source": [
    "fig = go.Figure()\n",
    "\n",
    "for model_key in models:\n",
    "\n",
    "    fig.add_trace(\n",
    "        go.Scatter(\n",
    "            x=dfprofit['threshold'], \n",
    "            y=dfprofit[model_key + '_profit'],\n",
    "            mode='lines',\n",
    "            name=model_key\n",
    "        )\n",
    "    )\n",
    "    \n",
    "fig.update_layout(\n",
    "    width=700, height=500,\n",
    "    title='Potential profit at various cutoffs',\n",
    "    xaxis_title='Predicted probability cutoff',\n",
    "    yaxis_title='Expected profit',\n",
    ")\n",
    "    \n",
    "fig.show()"
   ]
  },
  {
   "cell_type": "code",
   "execution_count": 162,
   "id": "0ca4829f-3df0-4cba-b5c6-9d9699425174",
   "metadata": {
    "execution": {
     "iopub.execute_input": "2023-03-21T00:40:55.480548Z",
     "iopub.status.busy": "2023-03-21T00:40:55.480090Z",
     "iopub.status.idle": "2023-03-21T00:40:55.593109Z",
     "shell.execute_reply": "2023-03-21T00:40:55.591689Z",
     "shell.execute_reply.started": "2023-03-21T00:40:55.480515Z"
    },
    "tags": []
   },
   "outputs": [
    {
     "data": {
      "application/vnd.plotly.v1+json": {
       "config": {
        "plotlyServerURL": "https://plot.ly"
       },
       "data": [
        {
         "mode": "lines",
         "name": "m1",
         "type": "scatter",
         "x": [
          0,
          0.005025125628140704,
          0.010050251256281407,
          0.01507537688442211,
          0.020100502512562814,
          0.02512562814070352,
          0.03015075376884422,
          0.035175879396984924,
          0.04020100502512563,
          0.04522613065326633,
          0.05025125628140704,
          0.05527638190954774,
          0.06030150753768844,
          0.06532663316582915,
          0.07035175879396985,
          0.07537688442211056,
          0.08040201005025126,
          0.08542713567839195,
          0.09045226130653267,
          0.09547738693467336,
          0.10050251256281408,
          0.10552763819095477,
          0.11055276381909548,
          0.11557788944723618,
          0.12060301507537688,
          0.12562814070351758,
          0.1306532663316583,
          0.135678391959799,
          0.1407035175879397,
          0.1457286432160804,
          0.15075376884422112,
          0.15577889447236182,
          0.16080402010050251,
          0.1658291457286432,
          0.1708542713567839,
          0.17587939698492464,
          0.18090452261306533,
          0.18592964824120603,
          0.19095477386934673,
          0.19597989949748745,
          0.20100502512562815,
          0.20603015075376885,
          0.21105527638190955,
          0.21608040201005024,
          0.22110552763819097,
          0.22613065326633167,
          0.23115577889447236,
          0.23618090452261306,
          0.24120603015075376,
          0.24623115577889448,
          0.25125628140703515,
          0.2562814070351759,
          0.2613065326633166,
          0.2663316582914573,
          0.271356783919598,
          0.2763819095477387,
          0.2814070351758794,
          0.2864321608040201,
          0.2914572864321608,
          0.2964824120603015,
          0.30150753768844224,
          0.3065326633165829,
          0.31155778894472363,
          0.3165829145728643,
          0.32160804020100503,
          0.32663316582914576,
          0.3316582914572864,
          0.33668341708542715,
          0.3417085427135678,
          0.34673366834170855,
          0.35175879396984927,
          0.35678391959798994,
          0.36180904522613067,
          0.36683417085427134,
          0.37185929648241206,
          0.3768844221105528,
          0.38190954773869346,
          0.3869346733668342,
          0.3919597989949749,
          0.3969849246231156,
          0.4020100502512563,
          0.40703517587939697,
          0.4120603015075377,
          0.4170854271356784,
          0.4221105527638191,
          0.4271356783919598,
          0.4321608040201005,
          0.4371859296482412,
          0.44221105527638194,
          0.4472361809045226,
          0.45226130653266333,
          0.457286432160804,
          0.4623115577889447,
          0.46733668341708545,
          0.4723618090452261,
          0.47738693467336685,
          0.4824120603015075,
          0.48743718592964824,
          0.49246231155778897,
          0.49748743718592964,
          0.5025125628140703,
          0.507537688442211,
          0.5125628140703518,
          0.5175879396984925,
          0.5226130653266332,
          0.5276381909547738,
          0.5326633165829145,
          0.5376884422110553,
          0.542713567839196,
          0.5477386934673367,
          0.5527638190954774,
          0.5577889447236181,
          0.5628140703517588,
          0.5678391959798995,
          0.5728643216080402,
          0.577889447236181,
          0.5829145728643216,
          0.5879396984924623,
          0.592964824120603,
          0.5979899497487438,
          0.6030150753768845,
          0.6080402010050251,
          0.6130653266331658,
          0.6180904522613065,
          0.6231155778894473,
          0.628140703517588,
          0.6331658291457286,
          0.6381909547738693,
          0.6432160804020101,
          0.6482412060301508,
          0.6532663316582915,
          0.6582914572864321,
          0.6633165829145728,
          0.6683417085427136,
          0.6733668341708543,
          0.678391959798995,
          0.6834170854271356,
          0.6884422110552764,
          0.6934673366834171,
          0.6984924623115578,
          0.7035175879396985,
          0.7085427135678392,
          0.7135678391959799,
          0.7185929648241206,
          0.7236180904522613,
          0.7286432160804021,
          0.7336683417085427,
          0.7386934673366834,
          0.7437185929648241,
          0.7487437185929648,
          0.7537688442211056,
          0.7587939698492463,
          0.7638190954773869,
          0.7688442211055276,
          0.7738693467336684,
          0.7788944723618091,
          0.7839195979899498,
          0.7889447236180904,
          0.7939698492462312,
          0.7989949748743719,
          0.8040201005025126,
          0.8090452261306533,
          0.8140703517587939,
          0.8190954773869347,
          0.8241206030150754,
          0.8291457286432161,
          0.8341708542713568,
          0.8391959798994975,
          0.8442211055276382,
          0.8492462311557789,
          0.8542713567839196,
          0.8592964824120604,
          0.864321608040201,
          0.8693467336683417,
          0.8743718592964824,
          0.8793969849246231,
          0.8844221105527639,
          0.8894472361809045,
          0.8944723618090452,
          0.8994974874371859,
          0.9045226130653267,
          0.9095477386934674,
          0.914572864321608,
          0.9195979899497487,
          0.9246231155778895,
          0.9296482412060302,
          0.9346733668341709,
          0.9396984924623115,
          0.9447236180904522,
          0.949748743718593,
          0.9547738693467337,
          0.9597989949748744,
          0.964824120603015,
          0.9698492462311558,
          0.9748743718592965,
          0.9798994974874372,
          0.9849246231155779,
          0.9899497487437187,
          0.9949748743718593,
          1
         ],
         "y": [
          968.752500000006,
          2665.867500000004,
          6826.897500000003,
          9261.0375,
          10487.482500000002,
          10698.9525,
          10492.0275,
          10323.9225,
          9760.7925,
          8894.4375,
          8376.36,
          7906.3725,
          7524.105000000001,
          6834.1575,
          6276.975,
          5817.975,
          5273.557500000001,
          5087.0625,
          4777.08,
          4383.090000000001,
          3951.6975,
          3741.975000000001,
          3511.7700000000004,
          3179.2275000000004,
          2896.11,
          2805.7200000000003,
          2603.79,
          2454.105,
          2295.96,
          2259.2250000000004,
          2156.145,
          1879.4100000000003,
          1717.035,
          1567.3500000000001,
          1517.9250000000002,
          1414.845,
          1287.0525000000002,
          1243.2675,
          1193.8425000000002,
          1119.7050000000002,
          1020.855,
          1000.3725,
          893.0625,
          727.8675000000001,
          707.3850000000001,
          652.32,
          629.0175,
          549.2400000000001,
          466.64250000000004,
          414.39750000000004,
          357.9225,
          359.33250000000004,
          302.8575,
          307.0875,
          280.96500000000003,
          252.02250000000004,
          223.08,
          224.49,
          195.54749999999999,
          108.72000000000001,
          110.13000000000001,
          111.54,
          84.00750000000001,
          55.065000000000005,
          55.065000000000005,
          -2.82,
          -2.82,
          -1.41,
          -1.41,
          0,
          0,
          0,
          0,
          0,
          0,
          0,
          0,
          0,
          0,
          0,
          0,
          0,
          0,
          0,
          0,
          0,
          0,
          0,
          0,
          0,
          0,
          0,
          0,
          0,
          0,
          0,
          0,
          0,
          0,
          0,
          0,
          0,
          0,
          0,
          0,
          0,
          0,
          0,
          0,
          0,
          0,
          0,
          0,
          0,
          0,
          0,
          0,
          0,
          0,
          0,
          0,
          0,
          0,
          0,
          0,
          0,
          0,
          0,
          0,
          0,
          0,
          0,
          0,
          0,
          0,
          0,
          0,
          0,
          0,
          0,
          0,
          0,
          0,
          0,
          0,
          0,
          0,
          0,
          0,
          0,
          0,
          0,
          0,
          0,
          0,
          0,
          0,
          0,
          0,
          0,
          0,
          0,
          0,
          0,
          0,
          0,
          0,
          0,
          0,
          0,
          0,
          0,
          0,
          0,
          0,
          0,
          0,
          0,
          0,
          0,
          0,
          0,
          0,
          0,
          0,
          0,
          0,
          0,
          0,
          0,
          0,
          0,
          0,
          0,
          0,
          0,
          0,
          0,
          0,
          0
         ]
        },
        {
         "mode": "lines",
         "name": "m2",
         "type": "scatter",
         "x": [
          0,
          0.005025125628140704,
          0.010050251256281407,
          0.01507537688442211,
          0.020100502512562814,
          0.02512562814070352,
          0.03015075376884422,
          0.035175879396984924,
          0.04020100502512563,
          0.04522613065326633,
          0.05025125628140704,
          0.05527638190954774,
          0.06030150753768844,
          0.06532663316582915,
          0.07035175879396985,
          0.07537688442211056,
          0.08040201005025126,
          0.08542713567839195,
          0.09045226130653267,
          0.09547738693467336,
          0.10050251256281408,
          0.10552763819095477,
          0.11055276381909548,
          0.11557788944723618,
          0.12060301507537688,
          0.12562814070351758,
          0.1306532663316583,
          0.135678391959799,
          0.1407035175879397,
          0.1457286432160804,
          0.15075376884422112,
          0.15577889447236182,
          0.16080402010050251,
          0.1658291457286432,
          0.1708542713567839,
          0.17587939698492464,
          0.18090452261306533,
          0.18592964824120603,
          0.19095477386934673,
          0.19597989949748745,
          0.20100502512562815,
          0.20603015075376885,
          0.21105527638190955,
          0.21608040201005024,
          0.22110552763819097,
          0.22613065326633167,
          0.23115577889447236,
          0.23618090452261306,
          0.24120603015075376,
          0.24623115577889448,
          0.25125628140703515,
          0.2562814070351759,
          0.2613065326633166,
          0.2663316582914573,
          0.271356783919598,
          0.2763819095477387,
          0.2814070351758794,
          0.2864321608040201,
          0.2914572864321608,
          0.2964824120603015,
          0.30150753768844224,
          0.3065326633165829,
          0.31155778894472363,
          0.3165829145728643,
          0.32160804020100503,
          0.32663316582914576,
          0.3316582914572864,
          0.33668341708542715,
          0.3417085427135678,
          0.34673366834170855,
          0.35175879396984927,
          0.35678391959798994,
          0.36180904522613067,
          0.36683417085427134,
          0.37185929648241206,
          0.3768844221105528,
          0.38190954773869346,
          0.3869346733668342,
          0.3919597989949749,
          0.3969849246231156,
          0.4020100502512563,
          0.40703517587939697,
          0.4120603015075377,
          0.4170854271356784,
          0.4221105527638191,
          0.4271356783919598,
          0.4321608040201005,
          0.4371859296482412,
          0.44221105527638194,
          0.4472361809045226,
          0.45226130653266333,
          0.457286432160804,
          0.4623115577889447,
          0.46733668341708545,
          0.4723618090452261,
          0.47738693467336685,
          0.4824120603015075,
          0.48743718592964824,
          0.49246231155778897,
          0.49748743718592964,
          0.5025125628140703,
          0.507537688442211,
          0.5125628140703518,
          0.5175879396984925,
          0.5226130653266332,
          0.5276381909547738,
          0.5326633165829145,
          0.5376884422110553,
          0.542713567839196,
          0.5477386934673367,
          0.5527638190954774,
          0.5577889447236181,
          0.5628140703517588,
          0.5678391959798995,
          0.5728643216080402,
          0.577889447236181,
          0.5829145728643216,
          0.5879396984924623,
          0.592964824120603,
          0.5979899497487438,
          0.6030150753768845,
          0.6080402010050251,
          0.6130653266331658,
          0.6180904522613065,
          0.6231155778894473,
          0.628140703517588,
          0.6331658291457286,
          0.6381909547738693,
          0.6432160804020101,
          0.6482412060301508,
          0.6532663316582915,
          0.6582914572864321,
          0.6633165829145728,
          0.6683417085427136,
          0.6733668341708543,
          0.678391959798995,
          0.6834170854271356,
          0.6884422110552764,
          0.6934673366834171,
          0.6984924623115578,
          0.7035175879396985,
          0.7085427135678392,
          0.7135678391959799,
          0.7185929648241206,
          0.7236180904522613,
          0.7286432160804021,
          0.7336683417085427,
          0.7386934673366834,
          0.7437185929648241,
          0.7487437185929648,
          0.7537688442211056,
          0.7587939698492463,
          0.7638190954773869,
          0.7688442211055276,
          0.7738693467336684,
          0.7788944723618091,
          0.7839195979899498,
          0.7889447236180904,
          0.7939698492462312,
          0.7989949748743719,
          0.8040201005025126,
          0.8090452261306533,
          0.8140703517587939,
          0.8190954773869347,
          0.8241206030150754,
          0.8291457286432161,
          0.8341708542713568,
          0.8391959798994975,
          0.8442211055276382,
          0.8492462311557789,
          0.8542713567839196,
          0.8592964824120604,
          0.864321608040201,
          0.8693467336683417,
          0.8743718592964824,
          0.8793969849246231,
          0.8844221105527639,
          0.8894472361809045,
          0.8944723618090452,
          0.8994974874371859,
          0.9045226130653267,
          0.9095477386934674,
          0.914572864321608,
          0.9195979899497487,
          0.9246231155778895,
          0.9296482412060302,
          0.9346733668341709,
          0.9396984924623115,
          0.9447236180904522,
          0.949748743718593,
          0.9547738693467337,
          0.9597989949748744,
          0.964824120603015,
          0.9698492462311558,
          0.9748743718592965,
          0.9798994974874372,
          0.9849246231155779,
          0.9899497487437187,
          0.9949748743718593,
          1
         ],
         "y": [
          968.752500000006,
          4283.580000000005,
          8463.165000000005,
          10615.680000000004,
          11817.862500000003,
          11735.160000000003,
          11903.1525,
          11601.69,
          11136.817500000001,
          10399.815000000002,
          9802.8525,
          9312.6075,
          8857.02,
          8302.657500000001,
          8053.9725,
          7293.450000000001,
          6751.110000000001,
          6733.372500000001,
          6565.2825,
          6311.775000000001,
          6198.750000000001,
          6061.755,
          6012.9975,
          5787.765,
          5525.130000000001,
          5465.092500000001,
          5431.1775,
          5278.672500000001,
          5224.275000000001,
          5045.6475,
          4887.5025000000005,
          4727.9475,
          4660.860000000001,
          4411.6575,
          4282.455000000001,
          4122.900000000001,
          4048.7625,
          3857.445,
          3809.4300000000003,
          3583.53,
          3359.0400000000004,
          3280.6725,
          3092.175,
          2903.6775000000002,
          0,
          0,
          0,
          0,
          0,
          0,
          0,
          0,
          0,
          0,
          0,
          0,
          0,
          0,
          0,
          0,
          0,
          0,
          0,
          0,
          0,
          0,
          0,
          0,
          0,
          0,
          0,
          0,
          0,
          0,
          0,
          0,
          0,
          0,
          0,
          0,
          0,
          0,
          0,
          0,
          0,
          0,
          0,
          0,
          0,
          0,
          0,
          0,
          0,
          0,
          0,
          0,
          0,
          0,
          0,
          0,
          0,
          0,
          0,
          0,
          0,
          0,
          0,
          0,
          0,
          0,
          0,
          0,
          0,
          0,
          0,
          0,
          0,
          0,
          0,
          0,
          0,
          0,
          0,
          0,
          0,
          0,
          0,
          0,
          0,
          0,
          0,
          0,
          0,
          0,
          0,
          0,
          0,
          0,
          0,
          0,
          0,
          0,
          0,
          0,
          0,
          0,
          0,
          0,
          0,
          0,
          0,
          0,
          0,
          0,
          0,
          0,
          0,
          0,
          0,
          0,
          0,
          0,
          0,
          0,
          0,
          0,
          0,
          0,
          0,
          0,
          0,
          0,
          0,
          0,
          0,
          0,
          0,
          0,
          0,
          0,
          0,
          0,
          0,
          0,
          0,
          0,
          0,
          0,
          0,
          0,
          0,
          0,
          0,
          0,
          0,
          0,
          0,
          0,
          0,
          0
         ]
        },
        {
         "mode": "lines",
         "name": "m3",
         "type": "scatter",
         "x": [
          0,
          0.005025125628140704,
          0.010050251256281407,
          0.01507537688442211,
          0.020100502512562814,
          0.02512562814070352,
          0.03015075376884422,
          0.035175879396984924,
          0.04020100502512563,
          0.04522613065326633,
          0.05025125628140704,
          0.05527638190954774,
          0.06030150753768844,
          0.06532663316582915,
          0.07035175879396985,
          0.07537688442211056,
          0.08040201005025126,
          0.08542713567839195,
          0.09045226130653267,
          0.09547738693467336,
          0.10050251256281408,
          0.10552763819095477,
          0.11055276381909548,
          0.11557788944723618,
          0.12060301507537688,
          0.12562814070351758,
          0.1306532663316583,
          0.135678391959799,
          0.1407035175879397,
          0.1457286432160804,
          0.15075376884422112,
          0.15577889447236182,
          0.16080402010050251,
          0.1658291457286432,
          0.1708542713567839,
          0.17587939698492464,
          0.18090452261306533,
          0.18592964824120603,
          0.19095477386934673,
          0.19597989949748745,
          0.20100502512562815,
          0.20603015075376885,
          0.21105527638190955,
          0.21608040201005024,
          0.22110552763819097,
          0.22613065326633167,
          0.23115577889447236,
          0.23618090452261306,
          0.24120603015075376,
          0.24623115577889448,
          0.25125628140703515,
          0.2562814070351759,
          0.2613065326633166,
          0.2663316582914573,
          0.271356783919598,
          0.2763819095477387,
          0.2814070351758794,
          0.2864321608040201,
          0.2914572864321608,
          0.2964824120603015,
          0.30150753768844224,
          0.3065326633165829,
          0.31155778894472363,
          0.3165829145728643,
          0.32160804020100503,
          0.32663316582914576,
          0.3316582914572864,
          0.33668341708542715,
          0.3417085427135678,
          0.34673366834170855,
          0.35175879396984927,
          0.35678391959798994,
          0.36180904522613067,
          0.36683417085427134,
          0.37185929648241206,
          0.3768844221105528,
          0.38190954773869346,
          0.3869346733668342,
          0.3919597989949749,
          0.3969849246231156,
          0.4020100502512563,
          0.40703517587939697,
          0.4120603015075377,
          0.4170854271356784,
          0.4221105527638191,
          0.4271356783919598,
          0.4321608040201005,
          0.4371859296482412,
          0.44221105527638194,
          0.4472361809045226,
          0.45226130653266333,
          0.457286432160804,
          0.4623115577889447,
          0.46733668341708545,
          0.4723618090452261,
          0.47738693467336685,
          0.4824120603015075,
          0.48743718592964824,
          0.49246231155778897,
          0.49748743718592964,
          0.5025125628140703,
          0.507537688442211,
          0.5125628140703518,
          0.5175879396984925,
          0.5226130653266332,
          0.5276381909547738,
          0.5326633165829145,
          0.5376884422110553,
          0.542713567839196,
          0.5477386934673367,
          0.5527638190954774,
          0.5577889447236181,
          0.5628140703517588,
          0.5678391959798995,
          0.5728643216080402,
          0.577889447236181,
          0.5829145728643216,
          0.5879396984924623,
          0.592964824120603,
          0.5979899497487438,
          0.6030150753768845,
          0.6080402010050251,
          0.6130653266331658,
          0.6180904522613065,
          0.6231155778894473,
          0.628140703517588,
          0.6331658291457286,
          0.6381909547738693,
          0.6432160804020101,
          0.6482412060301508,
          0.6532663316582915,
          0.6582914572864321,
          0.6633165829145728,
          0.6683417085427136,
          0.6733668341708543,
          0.678391959798995,
          0.6834170854271356,
          0.6884422110552764,
          0.6934673366834171,
          0.6984924623115578,
          0.7035175879396985,
          0.7085427135678392,
          0.7135678391959799,
          0.7185929648241206,
          0.7236180904522613,
          0.7286432160804021,
          0.7336683417085427,
          0.7386934673366834,
          0.7437185929648241,
          0.7487437185929648,
          0.7537688442211056,
          0.7587939698492463,
          0.7638190954773869,
          0.7688442211055276,
          0.7738693467336684,
          0.7788944723618091,
          0.7839195979899498,
          0.7889447236180904,
          0.7939698492462312,
          0.7989949748743719,
          0.8040201005025126,
          0.8090452261306533,
          0.8140703517587939,
          0.8190954773869347,
          0.8241206030150754,
          0.8291457286432161,
          0.8341708542713568,
          0.8391959798994975,
          0.8442211055276382,
          0.8492462311557789,
          0.8542713567839196,
          0.8592964824120604,
          0.864321608040201,
          0.8693467336683417,
          0.8743718592964824,
          0.8793969849246231,
          0.8844221105527639,
          0.8894472361809045,
          0.8944723618090452,
          0.8994974874371859,
          0.9045226130653267,
          0.9095477386934674,
          0.914572864321608,
          0.9195979899497487,
          0.9246231155778895,
          0.9296482412060302,
          0.9346733668341709,
          0.9396984924623115,
          0.9447236180904522,
          0.949748743718593,
          0.9547738693467337,
          0.9597989949748744,
          0.964824120603015,
          0.9698492462311558,
          0.9748743718592965,
          0.9798994974874372,
          0.9849246231155779,
          0.9899497487437187,
          0.9949748743718593,
          1
         ],
         "y": [
          968.752500000006,
          2192.407500000005,
          6299.197500000002,
          8965.695000000002,
          10161.4125,
          10570.800000000003,
          10609.215000000002,
          10152.87,
          9615.6375,
          8821.86,
          8159.6625,
          7490.565000000001,
          6974.790000000001,
          6652.56,
          5667.547500000001,
          4847.0625,
          4308.285000000001,
          3825.315,
          3617.67,
          3205.3500000000004,
          3092.3250000000003,
          2595.33,
          2207.7225000000003,
          2118.7425,
          1887.8700000000003,
          1654.1775,
          1290.615,
          1311.765,
          1237.6275,
          1221.3750000000002,
          1180.41,
          1056.8475,
          945.3075,
          836.5875000000001,
          763.86,
          626.1975000000001,
          517.4775,
          521.7075,
          441.93,
          386.865,
          330.39000000000004,
          304.2675,
          275.32500000000005,
          278.14500000000004,
          280.96500000000003,
          282.37500000000006,
          224.49,
          224.49,
          137.66250000000002,
          110.13000000000001,
          82.59750000000001,
          24.712500000000002,
          -2.82,
          -1.41,
          -1.41,
          -1.41,
          -1.41,
          0,
          0,
          0,
          0,
          0,
          0,
          0,
          0,
          0,
          0,
          0,
          0,
          0,
          0,
          0,
          0,
          0,
          0,
          0,
          0,
          0,
          0,
          0,
          0,
          0,
          0,
          0,
          0,
          0,
          0,
          0,
          0,
          0,
          0,
          0,
          0,
          0,
          0,
          0,
          0,
          0,
          0,
          0,
          0,
          0,
          0,
          0,
          0,
          0,
          0,
          0,
          0,
          0,
          0,
          0,
          0,
          0,
          0,
          0,
          0,
          0,
          0,
          0,
          0,
          0,
          0,
          0,
          0,
          0,
          0,
          0,
          0,
          0,
          0,
          0,
          0,
          0,
          0,
          0,
          0,
          0,
          0,
          0,
          0,
          0,
          0,
          0,
          0,
          0,
          0,
          0,
          0,
          0,
          0,
          0,
          0,
          0,
          0,
          0,
          0,
          0,
          0,
          0,
          0,
          0,
          0,
          0,
          0,
          0,
          0,
          0,
          0,
          0,
          0,
          0,
          0,
          0,
          0,
          0,
          0,
          0,
          0,
          0,
          0,
          0,
          0,
          0,
          0,
          0,
          0,
          0,
          0,
          0,
          0,
          0,
          0,
          0,
          0,
          0,
          0,
          0,
          0,
          0
         ]
        },
        {
         "mode": "lines",
         "name": "m4",
         "type": "scatter",
         "x": [
          0,
          0.005025125628140704,
          0.010050251256281407,
          0.01507537688442211,
          0.020100502512562814,
          0.02512562814070352,
          0.03015075376884422,
          0.035175879396984924,
          0.04020100502512563,
          0.04522613065326633,
          0.05025125628140704,
          0.05527638190954774,
          0.06030150753768844,
          0.06532663316582915,
          0.07035175879396985,
          0.07537688442211056,
          0.08040201005025126,
          0.08542713567839195,
          0.09045226130653267,
          0.09547738693467336,
          0.10050251256281408,
          0.10552763819095477,
          0.11055276381909548,
          0.11557788944723618,
          0.12060301507537688,
          0.12562814070351758,
          0.1306532663316583,
          0.135678391959799,
          0.1407035175879397,
          0.1457286432160804,
          0.15075376884422112,
          0.15577889447236182,
          0.16080402010050251,
          0.1658291457286432,
          0.1708542713567839,
          0.17587939698492464,
          0.18090452261306533,
          0.18592964824120603,
          0.19095477386934673,
          0.19597989949748745,
          0.20100502512562815,
          0.20603015075376885,
          0.21105527638190955,
          0.21608040201005024,
          0.22110552763819097,
          0.22613065326633167,
          0.23115577889447236,
          0.23618090452261306,
          0.24120603015075376,
          0.24623115577889448,
          0.25125628140703515,
          0.2562814070351759,
          0.2613065326633166,
          0.2663316582914573,
          0.271356783919598,
          0.2763819095477387,
          0.2814070351758794,
          0.2864321608040201,
          0.2914572864321608,
          0.2964824120603015,
          0.30150753768844224,
          0.3065326633165829,
          0.31155778894472363,
          0.3165829145728643,
          0.32160804020100503,
          0.32663316582914576,
          0.3316582914572864,
          0.33668341708542715,
          0.3417085427135678,
          0.34673366834170855,
          0.35175879396984927,
          0.35678391959798994,
          0.36180904522613067,
          0.36683417085427134,
          0.37185929648241206,
          0.3768844221105528,
          0.38190954773869346,
          0.3869346733668342,
          0.3919597989949749,
          0.3969849246231156,
          0.4020100502512563,
          0.40703517587939697,
          0.4120603015075377,
          0.4170854271356784,
          0.4221105527638191,
          0.4271356783919598,
          0.4321608040201005,
          0.4371859296482412,
          0.44221105527638194,
          0.4472361809045226,
          0.45226130653266333,
          0.457286432160804,
          0.4623115577889447,
          0.46733668341708545,
          0.4723618090452261,
          0.47738693467336685,
          0.4824120603015075,
          0.48743718592964824,
          0.49246231155778897,
          0.49748743718592964,
          0.5025125628140703,
          0.507537688442211,
          0.5125628140703518,
          0.5175879396984925,
          0.5226130653266332,
          0.5276381909547738,
          0.5326633165829145,
          0.5376884422110553,
          0.542713567839196,
          0.5477386934673367,
          0.5527638190954774,
          0.5577889447236181,
          0.5628140703517588,
          0.5678391959798995,
          0.5728643216080402,
          0.577889447236181,
          0.5829145728643216,
          0.5879396984924623,
          0.592964824120603,
          0.5979899497487438,
          0.6030150753768845,
          0.6080402010050251,
          0.6130653266331658,
          0.6180904522613065,
          0.6231155778894473,
          0.628140703517588,
          0.6331658291457286,
          0.6381909547738693,
          0.6432160804020101,
          0.6482412060301508,
          0.6532663316582915,
          0.6582914572864321,
          0.6633165829145728,
          0.6683417085427136,
          0.6733668341708543,
          0.678391959798995,
          0.6834170854271356,
          0.6884422110552764,
          0.6934673366834171,
          0.6984924623115578,
          0.7035175879396985,
          0.7085427135678392,
          0.7135678391959799,
          0.7185929648241206,
          0.7236180904522613,
          0.7286432160804021,
          0.7336683417085427,
          0.7386934673366834,
          0.7437185929648241,
          0.7487437185929648,
          0.7537688442211056,
          0.7587939698492463,
          0.7638190954773869,
          0.7688442211055276,
          0.7738693467336684,
          0.7788944723618091,
          0.7839195979899498,
          0.7889447236180904,
          0.7939698492462312,
          0.7989949748743719,
          0.8040201005025126,
          0.8090452261306533,
          0.8140703517587939,
          0.8190954773869347,
          0.8241206030150754,
          0.8291457286432161,
          0.8341708542713568,
          0.8391959798994975,
          0.8442211055276382,
          0.8492462311557789,
          0.8542713567839196,
          0.8592964824120604,
          0.864321608040201,
          0.8693467336683417,
          0.8743718592964824,
          0.8793969849246231,
          0.8844221105527639,
          0.8894472361809045,
          0.8944723618090452,
          0.8994974874371859,
          0.9045226130653267,
          0.9095477386934674,
          0.914572864321608,
          0.9195979899497487,
          0.9246231155778895,
          0.9296482412060302,
          0.9346733668341709,
          0.9396984924623115,
          0.9447236180904522,
          0.949748743718593,
          0.9547738693467337,
          0.9597989949748744,
          0.964824120603015,
          0.9698492462311558,
          0.9748743718592965,
          0.9798994974874372,
          0.9849246231155779,
          0.9899497487437187,
          0.9949748743718593,
          1
         ],
         "y": [
          968.752500000006,
          968.752500000006,
          968.752500000006,
          4461.225000000002,
          8176.8150000000005,
          8953.5825,
          8746.785000000002,
          7730.43,
          6180.577500000001,
          4768.0275,
          3820.4175,
          3450.3225,
          3080.3025000000002,
          2848.6875,
          2637.5550000000003,
          2449.7250000000004,
          2364.9750000000004,
          2209.6500000000005,
          1964.6775000000002,
          1667.46,
          1601.7825,
          1466.94,
          1190.2050000000002,
          888.7575,
          631.095,
          461.67,
          345.90000000000003,
          231.54000000000002,
          57.885000000000005,
          28.942500000000003,
          28.942500000000003,
          28.942500000000003,
          28.942500000000003,
          28.942500000000003,
          0,
          0,
          0,
          0,
          0,
          0,
          0,
          0,
          0,
          0,
          0,
          0,
          0,
          0,
          0,
          0,
          0,
          0,
          0,
          0,
          0,
          0,
          0,
          0,
          0,
          0,
          0,
          0,
          0,
          0,
          0,
          0,
          0,
          0,
          0,
          0,
          0,
          0,
          0,
          0,
          0,
          0,
          0,
          0,
          0,
          0,
          0,
          0,
          0,
          0,
          0,
          0,
          0,
          0,
          0,
          0,
          0,
          0,
          0,
          0,
          0,
          0,
          0,
          0,
          0,
          0,
          0,
          0,
          0,
          0,
          0,
          0,
          0,
          0,
          0,
          0,
          0,
          0,
          0,
          0,
          0,
          0,
          0,
          0,
          0,
          0,
          0,
          0,
          0,
          0,
          0,
          0,
          0,
          0,
          0,
          0,
          0,
          0,
          0,
          0,
          0,
          0,
          0,
          0,
          0,
          0,
          0,
          0,
          0,
          0,
          0,
          0,
          0,
          0,
          0,
          0,
          0,
          0,
          0,
          0,
          0,
          0,
          0,
          0,
          0,
          0,
          0,
          0,
          0,
          0,
          0,
          0,
          0,
          0,
          0,
          0,
          0,
          0,
          0,
          0,
          0,
          0,
          0,
          0,
          0,
          0,
          0,
          0,
          0,
          0,
          0,
          0,
          0,
          0,
          0,
          0,
          0,
          0,
          0,
          0,
          0,
          0,
          0,
          0,
          0,
          0
         ]
        },
        {
         "mode": "lines",
         "name": "m5",
         "type": "scatter",
         "x": [
          0,
          0.005025125628140704,
          0.010050251256281407,
          0.01507537688442211,
          0.020100502512562814,
          0.02512562814070352,
          0.03015075376884422,
          0.035175879396984924,
          0.04020100502512563,
          0.04522613065326633,
          0.05025125628140704,
          0.05527638190954774,
          0.06030150753768844,
          0.06532663316582915,
          0.07035175879396985,
          0.07537688442211056,
          0.08040201005025126,
          0.08542713567839195,
          0.09045226130653267,
          0.09547738693467336,
          0.10050251256281408,
          0.10552763819095477,
          0.11055276381909548,
          0.11557788944723618,
          0.12060301507537688,
          0.12562814070351758,
          0.1306532663316583,
          0.135678391959799,
          0.1407035175879397,
          0.1457286432160804,
          0.15075376884422112,
          0.15577889447236182,
          0.16080402010050251,
          0.1658291457286432,
          0.1708542713567839,
          0.17587939698492464,
          0.18090452261306533,
          0.18592964824120603,
          0.19095477386934673,
          0.19597989949748745,
          0.20100502512562815,
          0.20603015075376885,
          0.21105527638190955,
          0.21608040201005024,
          0.22110552763819097,
          0.22613065326633167,
          0.23115577889447236,
          0.23618090452261306,
          0.24120603015075376,
          0.24623115577889448,
          0.25125628140703515,
          0.2562814070351759,
          0.2613065326633166,
          0.2663316582914573,
          0.271356783919598,
          0.2763819095477387,
          0.2814070351758794,
          0.2864321608040201,
          0.2914572864321608,
          0.2964824120603015,
          0.30150753768844224,
          0.3065326633165829,
          0.31155778894472363,
          0.3165829145728643,
          0.32160804020100503,
          0.32663316582914576,
          0.3316582914572864,
          0.33668341708542715,
          0.3417085427135678,
          0.34673366834170855,
          0.35175879396984927,
          0.35678391959798994,
          0.36180904522613067,
          0.36683417085427134,
          0.37185929648241206,
          0.3768844221105528,
          0.38190954773869346,
          0.3869346733668342,
          0.3919597989949749,
          0.3969849246231156,
          0.4020100502512563,
          0.40703517587939697,
          0.4120603015075377,
          0.4170854271356784,
          0.4221105527638191,
          0.4271356783919598,
          0.4321608040201005,
          0.4371859296482412,
          0.44221105527638194,
          0.4472361809045226,
          0.45226130653266333,
          0.457286432160804,
          0.4623115577889447,
          0.46733668341708545,
          0.4723618090452261,
          0.47738693467336685,
          0.4824120603015075,
          0.48743718592964824,
          0.49246231155778897,
          0.49748743718592964,
          0.5025125628140703,
          0.507537688442211,
          0.5125628140703518,
          0.5175879396984925,
          0.5226130653266332,
          0.5276381909547738,
          0.5326633165829145,
          0.5376884422110553,
          0.542713567839196,
          0.5477386934673367,
          0.5527638190954774,
          0.5577889447236181,
          0.5628140703517588,
          0.5678391959798995,
          0.5728643216080402,
          0.577889447236181,
          0.5829145728643216,
          0.5879396984924623,
          0.592964824120603,
          0.5979899497487438,
          0.6030150753768845,
          0.6080402010050251,
          0.6130653266331658,
          0.6180904522613065,
          0.6231155778894473,
          0.628140703517588,
          0.6331658291457286,
          0.6381909547738693,
          0.6432160804020101,
          0.6482412060301508,
          0.6532663316582915,
          0.6582914572864321,
          0.6633165829145728,
          0.6683417085427136,
          0.6733668341708543,
          0.678391959798995,
          0.6834170854271356,
          0.6884422110552764,
          0.6934673366834171,
          0.6984924623115578,
          0.7035175879396985,
          0.7085427135678392,
          0.7135678391959799,
          0.7185929648241206,
          0.7236180904522613,
          0.7286432160804021,
          0.7336683417085427,
          0.7386934673366834,
          0.7437185929648241,
          0.7487437185929648,
          0.7537688442211056,
          0.7587939698492463,
          0.7638190954773869,
          0.7688442211055276,
          0.7738693467336684,
          0.7788944723618091,
          0.7839195979899498,
          0.7889447236180904,
          0.7939698492462312,
          0.7989949748743719,
          0.8040201005025126,
          0.8090452261306533,
          0.8140703517587939,
          0.8190954773869347,
          0.8241206030150754,
          0.8291457286432161,
          0.8341708542713568,
          0.8391959798994975,
          0.8442211055276382,
          0.8492462311557789,
          0.8542713567839196,
          0.8592964824120604,
          0.864321608040201,
          0.8693467336683417,
          0.8743718592964824,
          0.8793969849246231,
          0.8844221105527639,
          0.8894472361809045,
          0.8944723618090452,
          0.8994974874371859,
          0.9045226130653267,
          0.9095477386934674,
          0.914572864321608,
          0.9195979899497487,
          0.9246231155778895,
          0.9296482412060302,
          0.9346733668341709,
          0.9396984924623115,
          0.9447236180904522,
          0.949748743718593,
          0.9547738693467337,
          0.9597989949748744,
          0.964824120603015,
          0.9698492462311558,
          0.9748743718592965,
          0.9798994974874372,
          0.9849246231155779,
          0.9899497487437187,
          0.9949748743718593,
          1
         ],
         "y": [
          968.752500000006,
          2545.6500000000015,
          6855.555,
          9346.987500000003,
          11029.530000000002,
          11154.315000000002,
          10923.937500000004,
          10305.367500000002,
          9639.3825,
          9252.435000000001,
          8629.2,
          8220.66,
          7357.650000000001,
          7188.592500000002,
          6538.8675,
          6272.52,
          6034.447500000001,
          5629.102500000001,
          5162.385000000001,
          4901.085,
          4333.4400000000005,
          3757.3350000000005,
          3342.195,
          2955.9975000000004,
          2821.8225,
          2451.8775,
          2216.775,
          1883.565,
          1812.2475000000002,
          1629.39,
          1406.3100000000002,
          1274.2875,
          1159.9275000000002,
          996.1424999999999,
          912.1350000000001,
          691.8750000000001,
          700.335,
          679.8525,
          597.255,
          600.075,
          572.5425,
          576.7725,
          552.0600000000001,
          496.99500000000006,
          446.16,
          302.8575,
          304.2675,
          305.6775,
          309.9075,
          223.08,
          166.60500000000002,
          168.01500000000001,
          168.01500000000001,
          168.01500000000001,
          139.07250000000002,
          140.48250000000002,
          140.48250000000002,
          141.8925,
          141.8925,
          84.00750000000001,
          85.4175,
          57.885000000000005,
          57.885000000000005,
          57.885000000000005,
          28.942500000000003,
          28.942500000000003,
          28.942500000000003,
          0,
          0,
          0,
          0,
          0,
          0,
          0,
          0,
          0,
          0,
          0,
          0,
          0,
          0,
          0,
          0,
          0,
          0,
          0,
          0,
          0,
          0,
          0,
          0,
          0,
          0,
          0,
          0,
          0,
          0,
          0,
          0,
          0,
          0,
          0,
          0,
          0,
          0,
          0,
          0,
          0,
          0,
          0,
          0,
          0,
          0,
          0,
          0,
          0,
          0,
          0,
          0,
          0,
          0,
          0,
          0,
          0,
          0,
          0,
          0,
          0,
          0,
          0,
          0,
          0,
          0,
          0,
          0,
          0,
          0,
          0,
          0,
          0,
          0,
          0,
          0,
          0,
          0,
          0,
          0,
          0,
          0,
          0,
          0,
          0,
          0,
          0,
          0,
          0,
          0,
          0,
          0,
          0,
          0,
          0,
          0,
          0,
          0,
          0,
          0,
          0,
          0,
          0,
          0,
          0,
          0,
          0,
          0,
          0,
          0,
          0,
          0,
          0,
          0,
          0,
          0,
          0,
          0,
          0,
          0,
          0,
          0,
          0,
          0,
          0,
          0,
          0,
          0,
          0,
          0,
          0,
          0,
          0
         ]
        },
        {
         "mode": "lines",
         "name": "m6",
         "type": "scatter",
         "x": [
          0,
          0.005025125628140704,
          0.010050251256281407,
          0.01507537688442211,
          0.020100502512562814,
          0.02512562814070352,
          0.03015075376884422,
          0.035175879396984924,
          0.04020100502512563,
          0.04522613065326633,
          0.05025125628140704,
          0.05527638190954774,
          0.06030150753768844,
          0.06532663316582915,
          0.07035175879396985,
          0.07537688442211056,
          0.08040201005025126,
          0.08542713567839195,
          0.09045226130653267,
          0.09547738693467336,
          0.10050251256281408,
          0.10552763819095477,
          0.11055276381909548,
          0.11557788944723618,
          0.12060301507537688,
          0.12562814070351758,
          0.1306532663316583,
          0.135678391959799,
          0.1407035175879397,
          0.1457286432160804,
          0.15075376884422112,
          0.15577889447236182,
          0.16080402010050251,
          0.1658291457286432,
          0.1708542713567839,
          0.17587939698492464,
          0.18090452261306533,
          0.18592964824120603,
          0.19095477386934673,
          0.19597989949748745,
          0.20100502512562815,
          0.20603015075376885,
          0.21105527638190955,
          0.21608040201005024,
          0.22110552763819097,
          0.22613065326633167,
          0.23115577889447236,
          0.23618090452261306,
          0.24120603015075376,
          0.24623115577889448,
          0.25125628140703515,
          0.2562814070351759,
          0.2613065326633166,
          0.2663316582914573,
          0.271356783919598,
          0.2763819095477387,
          0.2814070351758794,
          0.2864321608040201,
          0.2914572864321608,
          0.2964824120603015,
          0.30150753768844224,
          0.3065326633165829,
          0.31155778894472363,
          0.3165829145728643,
          0.32160804020100503,
          0.32663316582914576,
          0.3316582914572864,
          0.33668341708542715,
          0.3417085427135678,
          0.34673366834170855,
          0.35175879396984927,
          0.35678391959798994,
          0.36180904522613067,
          0.36683417085427134,
          0.37185929648241206,
          0.3768844221105528,
          0.38190954773869346,
          0.3869346733668342,
          0.3919597989949749,
          0.3969849246231156,
          0.4020100502512563,
          0.40703517587939697,
          0.4120603015075377,
          0.4170854271356784,
          0.4221105527638191,
          0.4271356783919598,
          0.4321608040201005,
          0.4371859296482412,
          0.44221105527638194,
          0.4472361809045226,
          0.45226130653266333,
          0.457286432160804,
          0.4623115577889447,
          0.46733668341708545,
          0.4723618090452261,
          0.47738693467336685,
          0.4824120603015075,
          0.48743718592964824,
          0.49246231155778897,
          0.49748743718592964,
          0.5025125628140703,
          0.507537688442211,
          0.5125628140703518,
          0.5175879396984925,
          0.5226130653266332,
          0.5276381909547738,
          0.5326633165829145,
          0.5376884422110553,
          0.542713567839196,
          0.5477386934673367,
          0.5527638190954774,
          0.5577889447236181,
          0.5628140703517588,
          0.5678391959798995,
          0.5728643216080402,
          0.577889447236181,
          0.5829145728643216,
          0.5879396984924623,
          0.592964824120603,
          0.5979899497487438,
          0.6030150753768845,
          0.6080402010050251,
          0.6130653266331658,
          0.6180904522613065,
          0.6231155778894473,
          0.628140703517588,
          0.6331658291457286,
          0.6381909547738693,
          0.6432160804020101,
          0.6482412060301508,
          0.6532663316582915,
          0.6582914572864321,
          0.6633165829145728,
          0.6683417085427136,
          0.6733668341708543,
          0.678391959798995,
          0.6834170854271356,
          0.6884422110552764,
          0.6934673366834171,
          0.6984924623115578,
          0.7035175879396985,
          0.7085427135678392,
          0.7135678391959799,
          0.7185929648241206,
          0.7236180904522613,
          0.7286432160804021,
          0.7336683417085427,
          0.7386934673366834,
          0.7437185929648241,
          0.7487437185929648,
          0.7537688442211056,
          0.7587939698492463,
          0.7638190954773869,
          0.7688442211055276,
          0.7738693467336684,
          0.7788944723618091,
          0.7839195979899498,
          0.7889447236180904,
          0.7939698492462312,
          0.7989949748743719,
          0.8040201005025126,
          0.8090452261306533,
          0.8140703517587939,
          0.8190954773869347,
          0.8241206030150754,
          0.8291457286432161,
          0.8341708542713568,
          0.8391959798994975,
          0.8442211055276382,
          0.8492462311557789,
          0.8542713567839196,
          0.8592964824120604,
          0.864321608040201,
          0.8693467336683417,
          0.8743718592964824,
          0.8793969849246231,
          0.8844221105527639,
          0.8894472361809045,
          0.8944723618090452,
          0.8994974874371859,
          0.9045226130653267,
          0.9095477386934674,
          0.914572864321608,
          0.9195979899497487,
          0.9246231155778895,
          0.9296482412060302,
          0.9346733668341709,
          0.9396984924623115,
          0.9447236180904522,
          0.949748743718593,
          0.9547738693467337,
          0.9597989949748744,
          0.964824120603015,
          0.9698492462311558,
          0.9748743718592965,
          0.9798994974874372,
          0.9849246231155779,
          0.9899497487437187,
          0.9949748743718593,
          1
         ],
         "y": [
          4355.572500000006,
          5563.642500000002,
          7326.427500000002,
          9055.95,
          10146.802500000002,
          10236.495000000003,
          9665.550000000001,
          9344.055,
          8379.952500000001,
          7465.875,
          6311.13,
          5908.38,
          5228.745,
          4657.9800000000005,
          3840.7575000000006,
          3634.5225000000005,
          3057.5250000000005,
          2816.7075,
          2436.0750000000003,
          2210.1000000000004,
          982.1175000000001,
          724.38,
          724.38,
          676.3650000000001,
          676.3650000000001,
          626.94,
          626.94,
          526.6800000000001,
          349.46250000000003,
          349.46250000000003,
          349.46250000000003,
          246.38250000000002,
          246.38250000000002,
          246.38250000000002,
          220.26000000000002,
          220.26000000000002,
          220.26000000000002,
          220.26000000000002,
          220.26000000000002,
          220.26000000000002,
          166.60500000000002,
          166.60500000000002,
          166.60500000000002,
          166.60500000000002,
          166.60500000000002,
          166.60500000000002,
          166.60500000000002,
          166.60500000000002,
          166.60500000000002,
          166.60500000000002,
          28.942500000000003,
          28.942500000000003,
          28.942500000000003,
          28.942500000000003,
          28.942500000000003,
          28.942500000000003,
          28.942500000000003,
          28.942500000000003,
          28.942500000000003,
          28.942500000000003,
          28.942500000000003,
          28.942500000000003,
          28.942500000000003,
          28.942500000000003,
          28.942500000000003,
          28.942500000000003,
          28.942500000000003,
          28.942500000000003,
          28.942500000000003,
          28.942500000000003,
          28.942500000000003,
          28.942500000000003,
          28.942500000000003,
          28.942500000000003,
          28.942500000000003,
          28.942500000000003,
          28.942500000000003,
          28.942500000000003,
          28.942500000000003,
          28.942500000000003,
          28.942500000000003,
          28.942500000000003,
          28.942500000000003,
          28.942500000000003,
          28.942500000000003,
          28.942500000000003,
          28.942500000000003,
          28.942500000000003,
          28.942500000000003,
          28.942500000000003,
          28.942500000000003,
          28.942500000000003,
          28.942500000000003,
          28.942500000000003,
          28.942500000000003,
          28.942500000000003,
          28.942500000000003,
          28.942500000000003,
          28.942500000000003,
          28.942500000000003,
          0,
          0,
          0,
          0,
          0,
          0,
          0,
          0,
          0,
          0,
          0,
          0,
          0,
          0,
          0,
          0,
          0,
          0,
          0,
          0,
          0,
          0,
          0,
          0,
          0,
          0,
          0,
          0,
          0,
          0,
          0,
          0,
          0,
          0,
          0,
          0,
          0,
          0,
          0,
          0,
          0,
          0,
          0,
          0,
          0,
          0,
          0,
          0,
          0,
          0,
          0,
          0,
          0,
          0,
          0,
          0,
          0,
          0,
          0,
          0,
          0,
          0,
          0,
          0,
          0,
          0,
          0,
          0,
          0,
          0,
          0,
          0,
          0,
          0,
          0,
          0,
          0,
          0,
          0,
          0,
          0,
          0,
          0,
          0,
          0,
          0,
          0,
          0,
          0,
          0,
          0,
          0,
          0,
          0,
          0,
          0,
          0,
          0,
          0,
          0
         ]
        }
       ],
       "layout": {
        "height": 500,
        "template": {
         "data": {
          "bar": [
           {
            "error_x": {
             "color": "#2a3f5f"
            },
            "error_y": {
             "color": "#2a3f5f"
            },
            "marker": {
             "line": {
              "color": "#E5ECF6",
              "width": 0.5
             },
             "pattern": {
              "fillmode": "overlay",
              "size": 10,
              "solidity": 0.2
             }
            },
            "type": "bar"
           }
          ],
          "barpolar": [
           {
            "marker": {
             "line": {
              "color": "#E5ECF6",
              "width": 0.5
             },
             "pattern": {
              "fillmode": "overlay",
              "size": 10,
              "solidity": 0.2
             }
            },
            "type": "barpolar"
           }
          ],
          "carpet": [
           {
            "aaxis": {
             "endlinecolor": "#2a3f5f",
             "gridcolor": "white",
             "linecolor": "white",
             "minorgridcolor": "white",
             "startlinecolor": "#2a3f5f"
            },
            "baxis": {
             "endlinecolor": "#2a3f5f",
             "gridcolor": "white",
             "linecolor": "white",
             "minorgridcolor": "white",
             "startlinecolor": "#2a3f5f"
            },
            "type": "carpet"
           }
          ],
          "choropleth": [
           {
            "colorbar": {
             "outlinewidth": 0,
             "ticks": ""
            },
            "type": "choropleth"
           }
          ],
          "contour": [
           {
            "colorbar": {
             "outlinewidth": 0,
             "ticks": ""
            },
            "colorscale": [
             [
              0,
              "#0d0887"
             ],
             [
              0.1111111111111111,
              "#46039f"
             ],
             [
              0.2222222222222222,
              "#7201a8"
             ],
             [
              0.3333333333333333,
              "#9c179e"
             ],
             [
              0.4444444444444444,
              "#bd3786"
             ],
             [
              0.5555555555555556,
              "#d8576b"
             ],
             [
              0.6666666666666666,
              "#ed7953"
             ],
             [
              0.7777777777777778,
              "#fb9f3a"
             ],
             [
              0.8888888888888888,
              "#fdca26"
             ],
             [
              1,
              "#f0f921"
             ]
            ],
            "type": "contour"
           }
          ],
          "contourcarpet": [
           {
            "colorbar": {
             "outlinewidth": 0,
             "ticks": ""
            },
            "type": "contourcarpet"
           }
          ],
          "heatmap": [
           {
            "colorbar": {
             "outlinewidth": 0,
             "ticks": ""
            },
            "colorscale": [
             [
              0,
              "#0d0887"
             ],
             [
              0.1111111111111111,
              "#46039f"
             ],
             [
              0.2222222222222222,
              "#7201a8"
             ],
             [
              0.3333333333333333,
              "#9c179e"
             ],
             [
              0.4444444444444444,
              "#bd3786"
             ],
             [
              0.5555555555555556,
              "#d8576b"
             ],
             [
              0.6666666666666666,
              "#ed7953"
             ],
             [
              0.7777777777777778,
              "#fb9f3a"
             ],
             [
              0.8888888888888888,
              "#fdca26"
             ],
             [
              1,
              "#f0f921"
             ]
            ],
            "type": "heatmap"
           }
          ],
          "heatmapgl": [
           {
            "colorbar": {
             "outlinewidth": 0,
             "ticks": ""
            },
            "colorscale": [
             [
              0,
              "#0d0887"
             ],
             [
              0.1111111111111111,
              "#46039f"
             ],
             [
              0.2222222222222222,
              "#7201a8"
             ],
             [
              0.3333333333333333,
              "#9c179e"
             ],
             [
              0.4444444444444444,
              "#bd3786"
             ],
             [
              0.5555555555555556,
              "#d8576b"
             ],
             [
              0.6666666666666666,
              "#ed7953"
             ],
             [
              0.7777777777777778,
              "#fb9f3a"
             ],
             [
              0.8888888888888888,
              "#fdca26"
             ],
             [
              1,
              "#f0f921"
             ]
            ],
            "type": "heatmapgl"
           }
          ],
          "histogram": [
           {
            "marker": {
             "pattern": {
              "fillmode": "overlay",
              "size": 10,
              "solidity": 0.2
             }
            },
            "type": "histogram"
           }
          ],
          "histogram2d": [
           {
            "colorbar": {
             "outlinewidth": 0,
             "ticks": ""
            },
            "colorscale": [
             [
              0,
              "#0d0887"
             ],
             [
              0.1111111111111111,
              "#46039f"
             ],
             [
              0.2222222222222222,
              "#7201a8"
             ],
             [
              0.3333333333333333,
              "#9c179e"
             ],
             [
              0.4444444444444444,
              "#bd3786"
             ],
             [
              0.5555555555555556,
              "#d8576b"
             ],
             [
              0.6666666666666666,
              "#ed7953"
             ],
             [
              0.7777777777777778,
              "#fb9f3a"
             ],
             [
              0.8888888888888888,
              "#fdca26"
             ],
             [
              1,
              "#f0f921"
             ]
            ],
            "type": "histogram2d"
           }
          ],
          "histogram2dcontour": [
           {
            "colorbar": {
             "outlinewidth": 0,
             "ticks": ""
            },
            "colorscale": [
             [
              0,
              "#0d0887"
             ],
             [
              0.1111111111111111,
              "#46039f"
             ],
             [
              0.2222222222222222,
              "#7201a8"
             ],
             [
              0.3333333333333333,
              "#9c179e"
             ],
             [
              0.4444444444444444,
              "#bd3786"
             ],
             [
              0.5555555555555556,
              "#d8576b"
             ],
             [
              0.6666666666666666,
              "#ed7953"
             ],
             [
              0.7777777777777778,
              "#fb9f3a"
             ],
             [
              0.8888888888888888,
              "#fdca26"
             ],
             [
              1,
              "#f0f921"
             ]
            ],
            "type": "histogram2dcontour"
           }
          ],
          "mesh3d": [
           {
            "colorbar": {
             "outlinewidth": 0,
             "ticks": ""
            },
            "type": "mesh3d"
           }
          ],
          "parcoords": [
           {
            "line": {
             "colorbar": {
              "outlinewidth": 0,
              "ticks": ""
             }
            },
            "type": "parcoords"
           }
          ],
          "pie": [
           {
            "automargin": true,
            "type": "pie"
           }
          ],
          "scatter": [
           {
            "fillpattern": {
             "fillmode": "overlay",
             "size": 10,
             "solidity": 0.2
            },
            "type": "scatter"
           }
          ],
          "scatter3d": [
           {
            "line": {
             "colorbar": {
              "outlinewidth": 0,
              "ticks": ""
             }
            },
            "marker": {
             "colorbar": {
              "outlinewidth": 0,
              "ticks": ""
             }
            },
            "type": "scatter3d"
           }
          ],
          "scattercarpet": [
           {
            "marker": {
             "colorbar": {
              "outlinewidth": 0,
              "ticks": ""
             }
            },
            "type": "scattercarpet"
           }
          ],
          "scattergeo": [
           {
            "marker": {
             "colorbar": {
              "outlinewidth": 0,
              "ticks": ""
             }
            },
            "type": "scattergeo"
           }
          ],
          "scattergl": [
           {
            "marker": {
             "colorbar": {
              "outlinewidth": 0,
              "ticks": ""
             }
            },
            "type": "scattergl"
           }
          ],
          "scattermapbox": [
           {
            "marker": {
             "colorbar": {
              "outlinewidth": 0,
              "ticks": ""
             }
            },
            "type": "scattermapbox"
           }
          ],
          "scatterpolar": [
           {
            "marker": {
             "colorbar": {
              "outlinewidth": 0,
              "ticks": ""
             }
            },
            "type": "scatterpolar"
           }
          ],
          "scatterpolargl": [
           {
            "marker": {
             "colorbar": {
              "outlinewidth": 0,
              "ticks": ""
             }
            },
            "type": "scatterpolargl"
           }
          ],
          "scatterternary": [
           {
            "marker": {
             "colorbar": {
              "outlinewidth": 0,
              "ticks": ""
             }
            },
            "type": "scatterternary"
           }
          ],
          "surface": [
           {
            "colorbar": {
             "outlinewidth": 0,
             "ticks": ""
            },
            "colorscale": [
             [
              0,
              "#0d0887"
             ],
             [
              0.1111111111111111,
              "#46039f"
             ],
             [
              0.2222222222222222,
              "#7201a8"
             ],
             [
              0.3333333333333333,
              "#9c179e"
             ],
             [
              0.4444444444444444,
              "#bd3786"
             ],
             [
              0.5555555555555556,
              "#d8576b"
             ],
             [
              0.6666666666666666,
              "#ed7953"
             ],
             [
              0.7777777777777778,
              "#fb9f3a"
             ],
             [
              0.8888888888888888,
              "#fdca26"
             ],
             [
              1,
              "#f0f921"
             ]
            ],
            "type": "surface"
           }
          ],
          "table": [
           {
            "cells": {
             "fill": {
              "color": "#EBF0F8"
             },
             "line": {
              "color": "white"
             }
            },
            "header": {
             "fill": {
              "color": "#C8D4E3"
             },
             "line": {
              "color": "white"
             }
            },
            "type": "table"
           }
          ]
         },
         "layout": {
          "annotationdefaults": {
           "arrowcolor": "#2a3f5f",
           "arrowhead": 0,
           "arrowwidth": 1
          },
          "autotypenumbers": "strict",
          "coloraxis": {
           "colorbar": {
            "outlinewidth": 0,
            "ticks": ""
           }
          },
          "colorscale": {
           "diverging": [
            [
             0,
             "#8e0152"
            ],
            [
             0.1,
             "#c51b7d"
            ],
            [
             0.2,
             "#de77ae"
            ],
            [
             0.3,
             "#f1b6da"
            ],
            [
             0.4,
             "#fde0ef"
            ],
            [
             0.5,
             "#f7f7f7"
            ],
            [
             0.6,
             "#e6f5d0"
            ],
            [
             0.7,
             "#b8e186"
            ],
            [
             0.8,
             "#7fbc41"
            ],
            [
             0.9,
             "#4d9221"
            ],
            [
             1,
             "#276419"
            ]
           ],
           "sequential": [
            [
             0,
             "#0d0887"
            ],
            [
             0.1111111111111111,
             "#46039f"
            ],
            [
             0.2222222222222222,
             "#7201a8"
            ],
            [
             0.3333333333333333,
             "#9c179e"
            ],
            [
             0.4444444444444444,
             "#bd3786"
            ],
            [
             0.5555555555555556,
             "#d8576b"
            ],
            [
             0.6666666666666666,
             "#ed7953"
            ],
            [
             0.7777777777777778,
             "#fb9f3a"
            ],
            [
             0.8888888888888888,
             "#fdca26"
            ],
            [
             1,
             "#f0f921"
            ]
           ],
           "sequentialminus": [
            [
             0,
             "#0d0887"
            ],
            [
             0.1111111111111111,
             "#46039f"
            ],
            [
             0.2222222222222222,
             "#7201a8"
            ],
            [
             0.3333333333333333,
             "#9c179e"
            ],
            [
             0.4444444444444444,
             "#bd3786"
            ],
            [
             0.5555555555555556,
             "#d8576b"
            ],
            [
             0.6666666666666666,
             "#ed7953"
            ],
            [
             0.7777777777777778,
             "#fb9f3a"
            ],
            [
             0.8888888888888888,
             "#fdca26"
            ],
            [
             1,
             "#f0f921"
            ]
           ]
          },
          "colorway": [
           "#636efa",
           "#EF553B",
           "#00cc96",
           "#ab63fa",
           "#FFA15A",
           "#19d3f3",
           "#FF6692",
           "#B6E880",
           "#FF97FF",
           "#FECB52"
          ],
          "font": {
           "color": "#2a3f5f"
          },
          "geo": {
           "bgcolor": "white",
           "lakecolor": "white",
           "landcolor": "#E5ECF6",
           "showlakes": true,
           "showland": true,
           "subunitcolor": "white"
          },
          "hoverlabel": {
           "align": "left"
          },
          "hovermode": "closest",
          "mapbox": {
           "style": "light"
          },
          "paper_bgcolor": "white",
          "plot_bgcolor": "#E5ECF6",
          "polar": {
           "angularaxis": {
            "gridcolor": "white",
            "linecolor": "white",
            "ticks": ""
           },
           "bgcolor": "#E5ECF6",
           "radialaxis": {
            "gridcolor": "white",
            "linecolor": "white",
            "ticks": ""
           }
          },
          "scene": {
           "xaxis": {
            "backgroundcolor": "#E5ECF6",
            "gridcolor": "white",
            "gridwidth": 2,
            "linecolor": "white",
            "showbackground": true,
            "ticks": "",
            "zerolinecolor": "white"
           },
           "yaxis": {
            "backgroundcolor": "#E5ECF6",
            "gridcolor": "white",
            "gridwidth": 2,
            "linecolor": "white",
            "showbackground": true,
            "ticks": "",
            "zerolinecolor": "white"
           },
           "zaxis": {
            "backgroundcolor": "#E5ECF6",
            "gridcolor": "white",
            "gridwidth": 2,
            "linecolor": "white",
            "showbackground": true,
            "ticks": "",
            "zerolinecolor": "white"
           }
          },
          "shapedefaults": {
           "line": {
            "color": "#2a3f5f"
           }
          },
          "ternary": {
           "aaxis": {
            "gridcolor": "white",
            "linecolor": "white",
            "ticks": ""
           },
           "baxis": {
            "gridcolor": "white",
            "linecolor": "white",
            "ticks": ""
           },
           "bgcolor": "#E5ECF6",
           "caxis": {
            "gridcolor": "white",
            "linecolor": "white",
            "ticks": ""
           }
          },
          "title": {
           "x": 0.05
          },
          "xaxis": {
           "automargin": true,
           "gridcolor": "white",
           "linecolor": "white",
           "ticks": "",
           "title": {
            "standoff": 15
           },
           "zerolinecolor": "white",
           "zerolinewidth": 2
          },
          "yaxis": {
           "automargin": true,
           "gridcolor": "white",
           "linecolor": "white",
           "ticks": "",
           "title": {
            "standoff": 15
           },
           "zerolinecolor": "white",
           "zerolinewidth": 2
          }
         }
        },
        "title": {
         "text": "Potential profit at various cutoffs"
        },
        "width": 700,
        "xaxis": {
         "autorange": false,
         "range": [
          0,
          0.23657232320533608
         ],
         "title": {
          "text": "Predicted probability cutoff"
         },
         "type": "linear"
        },
        "yaxis": {
         "autorange": true,
         "range": [
          -664.2629166666667,
          12564.595416666667
         ],
         "title": {
          "text": "Expected profit"
         },
         "type": "linear"
        }
       }
      },
      "image/png": "[encoded data removed]",
      "text/html": [
       "<div>                            <div id=\"409f26a7-c768-4c15-bcf2-5436f767bcbf\" class=\"plotly-graph-div\" style=\"height:500px; width:700px;\"></div>            <script type=\"text/javascript\">                require([\"plotly\"], function(Plotly) {                    window.PLOTLYENV=window.PLOTLYENV || {};                                    if (document.getElementById(\"409f26a7-c768-4c15-bcf2-5436f767bcbf\")) {                    Plotly.newPlot(                        \"409f26a7-c768-4c15-bcf2-5436f767bcbf\",                        [{\"mode\":\"lines\",\"name\":\"m1\",\"x\":[0.0,0.005025125628140704,0.010050251256281407,0.01507537688442211,0.020100502512562814,0.02512562814070352,0.03015075376884422,0.035175879396984924,0.04020100502512563,0.04522613065326633,0.05025125628140704,0.05527638190954774,0.06030150753768844,0.06532663316582915,0.07035175879396985,0.07537688442211056,0.08040201005025126,0.08542713567839195,0.09045226130653267,0.09547738693467336,0.10050251256281408,0.10552763819095477,0.11055276381909548,0.11557788944723618,0.12060301507537688,0.12562814070351758,0.1306532663316583,0.135678391959799,0.1407035175879397,0.1457286432160804,0.15075376884422112,0.15577889447236182,0.16080402010050251,0.1658291457286432,0.1708542713567839,0.17587939698492464,0.18090452261306533,0.18592964824120603,0.19095477386934673,0.19597989949748745,0.20100502512562815,0.20603015075376885,0.21105527638190955,0.21608040201005024,0.22110552763819097,0.22613065326633167,0.23115577889447236,0.23618090452261306,0.24120603015075376,0.24623115577889448,0.25125628140703515,0.2562814070351759,0.2613065326633166,0.2663316582914573,0.271356783919598,0.2763819095477387,0.2814070351758794,0.2864321608040201,0.2914572864321608,0.2964824120603015,0.30150753768844224,0.3065326633165829,0.31155778894472363,0.3165829145728643,0.32160804020100503,0.32663316582914576,0.3316582914572864,0.33668341708542715,0.3417085427135678,0.34673366834170855,0.35175879396984927,0.35678391959798994,0.36180904522613067,0.36683417085427134,0.37185929648241206,0.3768844221105528,0.38190954773869346,0.3869346733668342,0.3919597989949749,0.3969849246231156,0.4020100502512563,0.40703517587939697,0.4120603015075377,0.4170854271356784,0.4221105527638191,0.4271356783919598,0.4321608040201005,0.4371859296482412,0.44221105527638194,0.4472361809045226,0.45226130653266333,0.457286432160804,0.4623115577889447,0.46733668341708545,0.4723618090452261,0.47738693467336685,0.4824120603015075,0.48743718592964824,0.49246231155778897,0.49748743718592964,0.5025125628140703,0.507537688442211,0.5125628140703518,0.5175879396984925,0.5226130653266332,0.5276381909547738,0.5326633165829145,0.5376884422110553,0.542713567839196,0.5477386934673367,0.5527638190954774,0.5577889447236181,0.5628140703517588,0.5678391959798995,0.5728643216080402,0.577889447236181,0.5829145728643216,0.5879396984924623,0.592964824120603,0.5979899497487438,0.6030150753768845,0.6080402010050251,0.6130653266331658,0.6180904522613065,0.6231155778894473,0.628140703517588,0.6331658291457286,0.6381909547738693,0.6432160804020101,0.6482412060301508,0.6532663316582915,0.6582914572864321,0.6633165829145728,0.6683417085427136,0.6733668341708543,0.678391959798995,0.6834170854271356,0.6884422110552764,0.6934673366834171,0.6984924623115578,0.7035175879396985,0.7085427135678392,0.7135678391959799,0.7185929648241206,0.7236180904522613,0.7286432160804021,0.7336683417085427,0.7386934673366834,0.7437185929648241,0.7487437185929648,0.7537688442211056,0.7587939698492463,0.7638190954773869,0.7688442211055276,0.7738693467336684,0.7788944723618091,0.7839195979899498,0.7889447236180904,0.7939698492462312,0.7989949748743719,0.8040201005025126,0.8090452261306533,0.8140703517587939,0.8190954773869347,0.8241206030150754,0.8291457286432161,0.8341708542713568,0.8391959798994975,0.8442211055276382,0.8492462311557789,0.8542713567839196,0.8592964824120604,0.864321608040201,0.8693467336683417,0.8743718592964824,0.8793969849246231,0.8844221105527639,0.8894472361809045,0.8944723618090452,0.8994974874371859,0.9045226130653267,0.9095477386934674,0.914572864321608,0.9195979899497487,0.9246231155778895,0.9296482412060302,0.9346733668341709,0.9396984924623115,0.9447236180904522,0.949748743718593,0.9547738693467337,0.9597989949748744,0.964824120603015,0.9698492462311558,0.9748743718592965,0.9798994974874372,0.9849246231155779,0.9899497487437187,0.9949748743718593,1.0],\"y\":[968.752500000006,2665.867500000004,6826.897500000003,9261.0375,10487.482500000002,10698.9525,10492.0275,10323.9225,9760.7925,8894.4375,8376.36,7906.3725,7524.105000000001,6834.1575,6276.975,5817.975,5273.557500000001,5087.0625,4777.08,4383.090000000001,3951.6975,3741.975000000001,3511.7700000000004,3179.2275000000004,2896.11,2805.7200000000003,2603.79,2454.105,2295.96,2259.2250000000004,2156.145,1879.4100000000003,1717.035,1567.3500000000001,1517.9250000000002,1414.845,1287.0525000000002,1243.2675,1193.8425000000002,1119.7050000000002,1020.855,1000.3725,893.0625,727.8675000000001,707.3850000000001,652.32,629.0175,549.2400000000001,466.64250000000004,414.39750000000004,357.9225,359.33250000000004,302.8575,307.0875,280.96500000000003,252.02250000000004,223.08,224.49,195.54749999999999,108.72000000000001,110.13000000000001,111.54,84.00750000000001,55.065000000000005,55.065000000000005,-2.82,-2.82,-1.41,-1.41,0.0,0.0,0.0,0.0,0.0,0.0,0.0,0.0,0.0,0.0,0.0,0.0,0.0,0.0,0.0,0.0,0.0,0.0,0.0,0.0,0.0,0.0,0.0,0.0,0.0,0.0,0.0,0.0,0.0,0.0,0.0,0.0,0.0,0.0,0.0,0.0,0.0,0.0,0.0,0.0,0.0,0.0,0.0,0.0,0.0,0.0,0.0,0.0,0.0,0.0,0.0,0.0,0.0,0.0,0.0,0.0,0.0,0.0,0.0,0.0,0.0,0.0,0.0,0.0,0.0,0.0,0.0,0.0,0.0,0.0,0.0,0.0,0.0,0.0,0.0,0.0,0.0,0.0,0.0,0.0,0.0,0.0,0.0,0.0,0.0,0.0,0.0,0.0,0.0,0.0,0.0,0.0,0.0,0.0,0.0,0.0,0.0,0.0,0.0,0.0,0.0,0.0,0.0,0.0,0.0,0.0,0.0,0.0,0.0,0.0,0.0,0.0,0.0,0.0,0.0,0.0,0.0,0.0,0.0,0.0,0.0,0.0,0.0,0.0,0.0,0.0,0.0,0.0,0.0,0.0,0.0],\"type\":\"scatter\"},{\"mode\":\"lines\",\"name\":\"m2\",\"x\":[0.0,0.005025125628140704,0.010050251256281407,0.01507537688442211,0.020100502512562814,0.02512562814070352,0.03015075376884422,0.035175879396984924,0.04020100502512563,0.04522613065326633,0.05025125628140704,0.05527638190954774,0.06030150753768844,0.06532663316582915,0.07035175879396985,0.07537688442211056,0.08040201005025126,0.08542713567839195,0.09045226130653267,0.09547738693467336,0.10050251256281408,0.10552763819095477,0.11055276381909548,0.11557788944723618,0.12060301507537688,0.12562814070351758,0.1306532663316583,0.135678391959799,0.1407035175879397,0.1457286432160804,0.15075376884422112,0.15577889447236182,0.16080402010050251,0.1658291457286432,0.1708542713567839,0.17587939698492464,0.18090452261306533,0.18592964824120603,0.19095477386934673,0.19597989949748745,0.20100502512562815,0.20603015075376885,0.21105527638190955,0.21608040201005024,0.22110552763819097,0.22613065326633167,0.23115577889447236,0.23618090452261306,0.24120603015075376,0.24623115577889448,0.25125628140703515,0.2562814070351759,0.2613065326633166,0.2663316582914573,0.271356783919598,0.2763819095477387,0.2814070351758794,0.2864321608040201,0.2914572864321608,0.2964824120603015,0.30150753768844224,0.3065326633165829,0.31155778894472363,0.3165829145728643,0.32160804020100503,0.32663316582914576,0.3316582914572864,0.33668341708542715,0.3417085427135678,0.34673366834170855,0.35175879396984927,0.35678391959798994,0.36180904522613067,0.36683417085427134,0.37185929648241206,0.3768844221105528,0.38190954773869346,0.3869346733668342,0.3919597989949749,0.3969849246231156,0.4020100502512563,0.40703517587939697,0.4120603015075377,0.4170854271356784,0.4221105527638191,0.4271356783919598,0.4321608040201005,0.4371859296482412,0.44221105527638194,0.4472361809045226,0.45226130653266333,0.457286432160804,0.4623115577889447,0.46733668341708545,0.4723618090452261,0.47738693467336685,0.4824120603015075,0.48743718592964824,0.49246231155778897,0.49748743718592964,0.5025125628140703,0.507537688442211,0.5125628140703518,0.5175879396984925,0.5226130653266332,0.5276381909547738,0.5326633165829145,0.5376884422110553,0.542713567839196,0.5477386934673367,0.5527638190954774,0.5577889447236181,0.5628140703517588,0.5678391959798995,0.5728643216080402,0.577889447236181,0.5829145728643216,0.5879396984924623,0.592964824120603,0.5979899497487438,0.6030150753768845,0.6080402010050251,0.6130653266331658,0.6180904522613065,0.6231155778894473,0.628140703517588,0.6331658291457286,0.6381909547738693,0.6432160804020101,0.6482412060301508,0.6532663316582915,0.6582914572864321,0.6633165829145728,0.6683417085427136,0.6733668341708543,0.678391959798995,0.6834170854271356,0.6884422110552764,0.6934673366834171,0.6984924623115578,0.7035175879396985,0.7085427135678392,0.7135678391959799,0.7185929648241206,0.7236180904522613,0.7286432160804021,0.7336683417085427,0.7386934673366834,0.7437185929648241,0.7487437185929648,0.7537688442211056,0.7587939698492463,0.7638190954773869,0.7688442211055276,0.7738693467336684,0.7788944723618091,0.7839195979899498,0.7889447236180904,0.7939698492462312,0.7989949748743719,0.8040201005025126,0.8090452261306533,0.8140703517587939,0.8190954773869347,0.8241206030150754,0.8291457286432161,0.8341708542713568,0.8391959798994975,0.8442211055276382,0.8492462311557789,0.8542713567839196,0.8592964824120604,0.864321608040201,0.8693467336683417,0.8743718592964824,0.8793969849246231,0.8844221105527639,0.8894472361809045,0.8944723618090452,0.8994974874371859,0.9045226130653267,0.9095477386934674,0.914572864321608,0.9195979899497487,0.9246231155778895,0.9296482412060302,0.9346733668341709,0.9396984924623115,0.9447236180904522,0.949748743718593,0.9547738693467337,0.9597989949748744,0.964824120603015,0.9698492462311558,0.9748743718592965,0.9798994974874372,0.9849246231155779,0.9899497487437187,0.9949748743718593,1.0],\"y\":[968.752500000006,4283.580000000005,8463.165000000005,10615.680000000004,11817.862500000003,11735.160000000003,11903.1525,11601.69,11136.817500000001,10399.815000000002,9802.8525,9312.6075,8857.02,8302.657500000001,8053.9725,7293.450000000001,6751.110000000001,6733.372500000001,6565.2825,6311.775000000001,6198.750000000001,6061.755,6012.9975,5787.765,5525.130000000001,5465.092500000001,5431.1775,5278.672500000001,5224.275000000001,5045.6475,4887.5025000000005,4727.9475,4660.860000000001,4411.6575,4282.455000000001,4122.900000000001,4048.7625,3857.445,3809.4300000000003,3583.53,3359.0400000000004,3280.6725,3092.175,2903.6775000000002,0.0,0.0,0.0,0.0,0.0,0.0,0.0,0.0,0.0,0.0,0.0,0.0,0.0,0.0,0.0,0.0,0.0,0.0,0.0,0.0,0.0,0.0,0.0,0.0,0.0,0.0,0.0,0.0,0.0,0.0,0.0,0.0,0.0,0.0,0.0,0.0,0.0,0.0,0.0,0.0,0.0,0.0,0.0,0.0,0.0,0.0,0.0,0.0,0.0,0.0,0.0,0.0,0.0,0.0,0.0,0.0,0.0,0.0,0.0,0.0,0.0,0.0,0.0,0.0,0.0,0.0,0.0,0.0,0.0,0.0,0.0,0.0,0.0,0.0,0.0,0.0,0.0,0.0,0.0,0.0,0.0,0.0,0.0,0.0,0.0,0.0,0.0,0.0,0.0,0.0,0.0,0.0,0.0,0.0,0.0,0.0,0.0,0.0,0.0,0.0,0.0,0.0,0.0,0.0,0.0,0.0,0.0,0.0,0.0,0.0,0.0,0.0,0.0,0.0,0.0,0.0,0.0,0.0,0.0,0.0,0.0,0.0,0.0,0.0,0.0,0.0,0.0,0.0,0.0,0.0,0.0,0.0,0.0,0.0,0.0,0.0,0.0,0.0,0.0,0.0,0.0,0.0,0.0,0.0,0.0,0.0,0.0,0.0,0.0,0.0,0.0,0.0,0.0,0.0,0.0,0.0],\"type\":\"scatter\"},{\"mode\":\"lines\",\"name\":\"m3\",\"x\":[0.0,0.005025125628140704,0.010050251256281407,0.01507537688442211,0.020100502512562814,0.02512562814070352,0.03015075376884422,0.035175879396984924,0.04020100502512563,0.04522613065326633,0.05025125628140704,0.05527638190954774,0.06030150753768844,0.06532663316582915,0.07035175879396985,0.07537688442211056,0.08040201005025126,0.08542713567839195,0.09045226130653267,0.09547738693467336,0.10050251256281408,0.10552763819095477,0.11055276381909548,0.11557788944723618,0.12060301507537688,0.12562814070351758,0.1306532663316583,0.135678391959799,0.1407035175879397,0.1457286432160804,0.15075376884422112,0.15577889447236182,0.16080402010050251,0.1658291457286432,0.1708542713567839,0.17587939698492464,0.18090452261306533,0.18592964824120603,0.19095477386934673,0.19597989949748745,0.20100502512562815,0.20603015075376885,0.21105527638190955,0.21608040201005024,0.22110552763819097,0.22613065326633167,0.23115577889447236,0.23618090452261306,0.24120603015075376,0.24623115577889448,0.25125628140703515,0.2562814070351759,0.2613065326633166,0.2663316582914573,0.271356783919598,0.2763819095477387,0.2814070351758794,0.2864321608040201,0.2914572864321608,0.2964824120603015,0.30150753768844224,0.3065326633165829,0.31155778894472363,0.3165829145728643,0.32160804020100503,0.32663316582914576,0.3316582914572864,0.33668341708542715,0.3417085427135678,0.34673366834170855,0.35175879396984927,0.35678391959798994,0.36180904522613067,0.36683417085427134,0.37185929648241206,0.3768844221105528,0.38190954773869346,0.3869346733668342,0.3919597989949749,0.3969849246231156,0.4020100502512563,0.40703517587939697,0.4120603015075377,0.4170854271356784,0.4221105527638191,0.4271356783919598,0.4321608040201005,0.4371859296482412,0.44221105527638194,0.4472361809045226,0.45226130653266333,0.457286432160804,0.4623115577889447,0.46733668341708545,0.4723618090452261,0.47738693467336685,0.4824120603015075,0.48743718592964824,0.49246231155778897,0.49748743718592964,0.5025125628140703,0.507537688442211,0.5125628140703518,0.5175879396984925,0.5226130653266332,0.5276381909547738,0.5326633165829145,0.5376884422110553,0.542713567839196,0.5477386934673367,0.5527638190954774,0.5577889447236181,0.5628140703517588,0.5678391959798995,0.5728643216080402,0.577889447236181,0.5829145728643216,0.5879396984924623,0.592964824120603,0.5979899497487438,0.6030150753768845,0.6080402010050251,0.6130653266331658,0.6180904522613065,0.6231155778894473,0.628140703517588,0.6331658291457286,0.6381909547738693,0.6432160804020101,0.6482412060301508,0.6532663316582915,0.6582914572864321,0.6633165829145728,0.6683417085427136,0.6733668341708543,0.678391959798995,0.6834170854271356,0.6884422110552764,0.6934673366834171,0.6984924623115578,0.7035175879396985,0.7085427135678392,0.7135678391959799,0.7185929648241206,0.7236180904522613,0.7286432160804021,0.7336683417085427,0.7386934673366834,0.7437185929648241,0.7487437185929648,0.7537688442211056,0.7587939698492463,0.7638190954773869,0.7688442211055276,0.7738693467336684,0.7788944723618091,0.7839195979899498,0.7889447236180904,0.7939698492462312,0.7989949748743719,0.8040201005025126,0.8090452261306533,0.8140703517587939,0.8190954773869347,0.8241206030150754,0.8291457286432161,0.8341708542713568,0.8391959798994975,0.8442211055276382,0.8492462311557789,0.8542713567839196,0.8592964824120604,0.864321608040201,0.8693467336683417,0.8743718592964824,0.8793969849246231,0.8844221105527639,0.8894472361809045,0.8944723618090452,0.8994974874371859,0.9045226130653267,0.9095477386934674,0.914572864321608,0.9195979899497487,0.9246231155778895,0.9296482412060302,0.9346733668341709,0.9396984924623115,0.9447236180904522,0.949748743718593,0.9547738693467337,0.9597989949748744,0.964824120603015,0.9698492462311558,0.9748743718592965,0.9798994974874372,0.9849246231155779,0.9899497487437187,0.9949748743718593,1.0],\"y\":[968.752500000006,2192.407500000005,6299.197500000002,8965.695000000002,10161.4125,10570.800000000003,10609.215000000002,10152.87,9615.6375,8821.86,8159.6625,7490.565000000001,6974.790000000001,6652.56,5667.547500000001,4847.0625,4308.285000000001,3825.315,3617.67,3205.3500000000004,3092.3250000000003,2595.33,2207.7225000000003,2118.7425,1887.8700000000003,1654.1775,1290.615,1311.765,1237.6275,1221.3750000000002,1180.41,1056.8475,945.3075,836.5875000000001,763.86,626.1975000000001,517.4775,521.7075,441.93,386.865,330.39000000000004,304.2675,275.32500000000005,278.14500000000004,280.96500000000003,282.37500000000006,224.49,224.49,137.66250000000002,110.13000000000001,82.59750000000001,24.712500000000002,-2.82,-1.41,-1.41,-1.41,-1.41,0.0,0.0,0.0,0.0,0.0,0.0,0.0,0.0,0.0,0.0,0.0,0.0,0.0,0.0,0.0,0.0,0.0,0.0,0.0,0.0,0.0,0.0,0.0,0.0,0.0,0.0,0.0,0.0,0.0,0.0,0.0,0.0,0.0,0.0,0.0,0.0,0.0,0.0,0.0,0.0,0.0,0.0,0.0,0.0,0.0,0.0,0.0,0.0,0.0,0.0,0.0,0.0,0.0,0.0,0.0,0.0,0.0,0.0,0.0,0.0,0.0,0.0,0.0,0.0,0.0,0.0,0.0,0.0,0.0,0.0,0.0,0.0,0.0,0.0,0.0,0.0,0.0,0.0,0.0,0.0,0.0,0.0,0.0,0.0,0.0,0.0,0.0,0.0,0.0,0.0,0.0,0.0,0.0,0.0,0.0,0.0,0.0,0.0,0.0,0.0,0.0,0.0,0.0,0.0,0.0,0.0,0.0,0.0,0.0,0.0,0.0,0.0,0.0,0.0,0.0,0.0,0.0,0.0,0.0,0.0,0.0,0.0,0.0,0.0,0.0,0.0,0.0,0.0,0.0,0.0,0.0,0.0,0.0,0.0,0.0,0.0,0.0,0.0,0.0,0.0,0.0,0.0,0.0],\"type\":\"scatter\"},{\"mode\":\"lines\",\"name\":\"m4\",\"x\":[0.0,0.005025125628140704,0.010050251256281407,0.01507537688442211,0.020100502512562814,0.02512562814070352,0.03015075376884422,0.035175879396984924,0.04020100502512563,0.04522613065326633,0.05025125628140704,0.05527638190954774,0.06030150753768844,0.06532663316582915,0.07035175879396985,0.07537688442211056,0.08040201005025126,0.08542713567839195,0.09045226130653267,0.09547738693467336,0.10050251256281408,0.10552763819095477,0.11055276381909548,0.11557788944723618,0.12060301507537688,0.12562814070351758,0.1306532663316583,0.135678391959799,0.1407035175879397,0.1457286432160804,0.15075376884422112,0.15577889447236182,0.16080402010050251,0.1658291457286432,0.1708542713567839,0.17587939698492464,0.18090452261306533,0.18592964824120603,0.19095477386934673,0.19597989949748745,0.20100502512562815,0.20603015075376885,0.21105527638190955,0.21608040201005024,0.22110552763819097,0.22613065326633167,0.23115577889447236,0.23618090452261306,0.24120603015075376,0.24623115577889448,0.25125628140703515,0.2562814070351759,0.2613065326633166,0.2663316582914573,0.271356783919598,0.2763819095477387,0.2814070351758794,0.2864321608040201,0.2914572864321608,0.2964824120603015,0.30150753768844224,0.3065326633165829,0.31155778894472363,0.3165829145728643,0.32160804020100503,0.32663316582914576,0.3316582914572864,0.33668341708542715,0.3417085427135678,0.34673366834170855,0.35175879396984927,0.35678391959798994,0.36180904522613067,0.36683417085427134,0.37185929648241206,0.3768844221105528,0.38190954773869346,0.3869346733668342,0.3919597989949749,0.3969849246231156,0.4020100502512563,0.40703517587939697,0.4120603015075377,0.4170854271356784,0.4221105527638191,0.4271356783919598,0.4321608040201005,0.4371859296482412,0.44221105527638194,0.4472361809045226,0.45226130653266333,0.457286432160804,0.4623115577889447,0.46733668341708545,0.4723618090452261,0.47738693467336685,0.4824120603015075,0.48743718592964824,0.49246231155778897,0.49748743718592964,0.5025125628140703,0.507537688442211,0.5125628140703518,0.5175879396984925,0.5226130653266332,0.5276381909547738,0.5326633165829145,0.5376884422110553,0.542713567839196,0.5477386934673367,0.5527638190954774,0.5577889447236181,0.5628140703517588,0.5678391959798995,0.5728643216080402,0.577889447236181,0.5829145728643216,0.5879396984924623,0.592964824120603,0.5979899497487438,0.6030150753768845,0.6080402010050251,0.6130653266331658,0.6180904522613065,0.6231155778894473,0.628140703517588,0.6331658291457286,0.6381909547738693,0.6432160804020101,0.6482412060301508,0.6532663316582915,0.6582914572864321,0.6633165829145728,0.6683417085427136,0.6733668341708543,0.678391959798995,0.6834170854271356,0.6884422110552764,0.6934673366834171,0.6984924623115578,0.7035175879396985,0.7085427135678392,0.7135678391959799,0.7185929648241206,0.7236180904522613,0.7286432160804021,0.7336683417085427,0.7386934673366834,0.7437185929648241,0.7487437185929648,0.7537688442211056,0.7587939698492463,0.7638190954773869,0.7688442211055276,0.7738693467336684,0.7788944723618091,0.7839195979899498,0.7889447236180904,0.7939698492462312,0.7989949748743719,0.8040201005025126,0.8090452261306533,0.8140703517587939,0.8190954773869347,0.8241206030150754,0.8291457286432161,0.8341708542713568,0.8391959798994975,0.8442211055276382,0.8492462311557789,0.8542713567839196,0.8592964824120604,0.864321608040201,0.8693467336683417,0.8743718592964824,0.8793969849246231,0.8844221105527639,0.8894472361809045,0.8944723618090452,0.8994974874371859,0.9045226130653267,0.9095477386934674,0.914572864321608,0.9195979899497487,0.9246231155778895,0.9296482412060302,0.9346733668341709,0.9396984924623115,0.9447236180904522,0.949748743718593,0.9547738693467337,0.9597989949748744,0.964824120603015,0.9698492462311558,0.9748743718592965,0.9798994974874372,0.9849246231155779,0.9899497487437187,0.9949748743718593,1.0],\"y\":[968.752500000006,968.752500000006,968.752500000006,4461.225000000002,8176.8150000000005,8953.5825,8746.785000000002,7730.43,6180.577500000001,4768.0275,3820.4175,3450.3225,3080.3025000000002,2848.6875,2637.5550000000003,2449.7250000000004,2364.9750000000004,2209.6500000000005,1964.6775000000002,1667.46,1601.7825,1466.94,1190.2050000000002,888.7575,631.095,461.67,345.90000000000003,231.54000000000002,57.885000000000005,28.942500000000003,28.942500000000003,28.942500000000003,28.942500000000003,28.942500000000003,0.0,0.0,0.0,0.0,0.0,0.0,0.0,0.0,0.0,0.0,0.0,0.0,0.0,0.0,0.0,0.0,0.0,0.0,0.0,0.0,0.0,0.0,0.0,0.0,0.0,0.0,0.0,0.0,0.0,0.0,0.0,0.0,0.0,0.0,0.0,0.0,0.0,0.0,0.0,0.0,0.0,0.0,0.0,0.0,0.0,0.0,0.0,0.0,0.0,0.0,0.0,0.0,0.0,0.0,0.0,0.0,0.0,0.0,0.0,0.0,0.0,0.0,0.0,0.0,0.0,0.0,0.0,0.0,0.0,0.0,0.0,0.0,0.0,0.0,0.0,0.0,0.0,0.0,0.0,0.0,0.0,0.0,0.0,0.0,0.0,0.0,0.0,0.0,0.0,0.0,0.0,0.0,0.0,0.0,0.0,0.0,0.0,0.0,0.0,0.0,0.0,0.0,0.0,0.0,0.0,0.0,0.0,0.0,0.0,0.0,0.0,0.0,0.0,0.0,0.0,0.0,0.0,0.0,0.0,0.0,0.0,0.0,0.0,0.0,0.0,0.0,0.0,0.0,0.0,0.0,0.0,0.0,0.0,0.0,0.0,0.0,0.0,0.0,0.0,0.0,0.0,0.0,0.0,0.0,0.0,0.0,0.0,0.0,0.0,0.0,0.0,0.0,0.0,0.0,0.0,0.0,0.0,0.0,0.0,0.0,0.0,0.0,0.0,0.0,0.0,0.0],\"type\":\"scatter\"},{\"mode\":\"lines\",\"name\":\"m5\",\"x\":[0.0,0.005025125628140704,0.010050251256281407,0.01507537688442211,0.020100502512562814,0.02512562814070352,0.03015075376884422,0.035175879396984924,0.04020100502512563,0.04522613065326633,0.05025125628140704,0.05527638190954774,0.06030150753768844,0.06532663316582915,0.07035175879396985,0.07537688442211056,0.08040201005025126,0.08542713567839195,0.09045226130653267,0.09547738693467336,0.10050251256281408,0.10552763819095477,0.11055276381909548,0.11557788944723618,0.12060301507537688,0.12562814070351758,0.1306532663316583,0.135678391959799,0.1407035175879397,0.1457286432160804,0.15075376884422112,0.15577889447236182,0.16080402010050251,0.1658291457286432,0.1708542713567839,0.17587939698492464,0.18090452261306533,0.18592964824120603,0.19095477386934673,0.19597989949748745,0.20100502512562815,0.20603015075376885,0.21105527638190955,0.21608040201005024,0.22110552763819097,0.22613065326633167,0.23115577889447236,0.23618090452261306,0.24120603015075376,0.24623115577889448,0.25125628140703515,0.2562814070351759,0.2613065326633166,0.2663316582914573,0.271356783919598,0.2763819095477387,0.2814070351758794,0.2864321608040201,0.2914572864321608,0.2964824120603015,0.30150753768844224,0.3065326633165829,0.31155778894472363,0.3165829145728643,0.32160804020100503,0.32663316582914576,0.3316582914572864,0.33668341708542715,0.3417085427135678,0.34673366834170855,0.35175879396984927,0.35678391959798994,0.36180904522613067,0.36683417085427134,0.37185929648241206,0.3768844221105528,0.38190954773869346,0.3869346733668342,0.3919597989949749,0.3969849246231156,0.4020100502512563,0.40703517587939697,0.4120603015075377,0.4170854271356784,0.4221105527638191,0.4271356783919598,0.4321608040201005,0.4371859296482412,0.44221105527638194,0.4472361809045226,0.45226130653266333,0.457286432160804,0.4623115577889447,0.46733668341708545,0.4723618090452261,0.47738693467336685,0.4824120603015075,0.48743718592964824,0.49246231155778897,0.49748743718592964,0.5025125628140703,0.507537688442211,0.5125628140703518,0.5175879396984925,0.5226130653266332,0.5276381909547738,0.5326633165829145,0.5376884422110553,0.542713567839196,0.5477386934673367,0.5527638190954774,0.5577889447236181,0.5628140703517588,0.5678391959798995,0.5728643216080402,0.577889447236181,0.5829145728643216,0.5879396984924623,0.592964824120603,0.5979899497487438,0.6030150753768845,0.6080402010050251,0.6130653266331658,0.6180904522613065,0.6231155778894473,0.628140703517588,0.6331658291457286,0.6381909547738693,0.6432160804020101,0.6482412060301508,0.6532663316582915,0.6582914572864321,0.6633165829145728,0.6683417085427136,0.6733668341708543,0.678391959798995,0.6834170854271356,0.6884422110552764,0.6934673366834171,0.6984924623115578,0.7035175879396985,0.7085427135678392,0.7135678391959799,0.7185929648241206,0.7236180904522613,0.7286432160804021,0.7336683417085427,0.7386934673366834,0.7437185929648241,0.7487437185929648,0.7537688442211056,0.7587939698492463,0.7638190954773869,0.7688442211055276,0.7738693467336684,0.7788944723618091,0.7839195979899498,0.7889447236180904,0.7939698492462312,0.7989949748743719,0.8040201005025126,0.8090452261306533,0.8140703517587939,0.8190954773869347,0.8241206030150754,0.8291457286432161,0.8341708542713568,0.8391959798994975,0.8442211055276382,0.8492462311557789,0.8542713567839196,0.8592964824120604,0.864321608040201,0.8693467336683417,0.8743718592964824,0.8793969849246231,0.8844221105527639,0.8894472361809045,0.8944723618090452,0.8994974874371859,0.9045226130653267,0.9095477386934674,0.914572864321608,0.9195979899497487,0.9246231155778895,0.9296482412060302,0.9346733668341709,0.9396984924623115,0.9447236180904522,0.949748743718593,0.9547738693467337,0.9597989949748744,0.964824120603015,0.9698492462311558,0.9748743718592965,0.9798994974874372,0.9849246231155779,0.9899497487437187,0.9949748743718593,1.0],\"y\":[968.752500000006,2545.6500000000015,6855.555,9346.987500000003,11029.530000000002,11154.315000000002,10923.937500000004,10305.367500000002,9639.3825,9252.435000000001,8629.2,8220.66,7357.650000000001,7188.592500000002,6538.8675,6272.52,6034.447500000001,5629.102500000001,5162.385000000001,4901.085,4333.4400000000005,3757.3350000000005,3342.195,2955.9975000000004,2821.8225,2451.8775,2216.775,1883.565,1812.2475000000002,1629.39,1406.3100000000002,1274.2875,1159.9275000000002,996.1424999999999,912.1350000000001,691.8750000000001,700.335,679.8525,597.255,600.075,572.5425,576.7725,552.0600000000001,496.99500000000006,446.16,302.8575,304.2675,305.6775,309.9075,223.08,166.60500000000002,168.01500000000001,168.01500000000001,168.01500000000001,139.07250000000002,140.48250000000002,140.48250000000002,141.8925,141.8925,84.00750000000001,85.4175,57.885000000000005,57.885000000000005,57.885000000000005,28.942500000000003,28.942500000000003,28.942500000000003,0.0,0.0,0.0,0.0,0.0,0.0,0.0,0.0,0.0,0.0,0.0,0.0,0.0,0.0,0.0,0.0,0.0,0.0,0.0,0.0,0.0,0.0,0.0,0.0,0.0,0.0,0.0,0.0,0.0,0.0,0.0,0.0,0.0,0.0,0.0,0.0,0.0,0.0,0.0,0.0,0.0,0.0,0.0,0.0,0.0,0.0,0.0,0.0,0.0,0.0,0.0,0.0,0.0,0.0,0.0,0.0,0.0,0.0,0.0,0.0,0.0,0.0,0.0,0.0,0.0,0.0,0.0,0.0,0.0,0.0,0.0,0.0,0.0,0.0,0.0,0.0,0.0,0.0,0.0,0.0,0.0,0.0,0.0,0.0,0.0,0.0,0.0,0.0,0.0,0.0,0.0,0.0,0.0,0.0,0.0,0.0,0.0,0.0,0.0,0.0,0.0,0.0,0.0,0.0,0.0,0.0,0.0,0.0,0.0,0.0,0.0,0.0,0.0,0.0,0.0,0.0,0.0,0.0,0.0,0.0,0.0,0.0,0.0,0.0,0.0,0.0,0.0,0.0,0.0,0.0,0.0,0.0,0.0],\"type\":\"scatter\"},{\"mode\":\"lines\",\"name\":\"m6\",\"x\":[0.0,0.005025125628140704,0.010050251256281407,0.01507537688442211,0.020100502512562814,0.02512562814070352,0.03015075376884422,0.035175879396984924,0.04020100502512563,0.04522613065326633,0.05025125628140704,0.05527638190954774,0.06030150753768844,0.06532663316582915,0.07035175879396985,0.07537688442211056,0.08040201005025126,0.08542713567839195,0.09045226130653267,0.09547738693467336,0.10050251256281408,0.10552763819095477,0.11055276381909548,0.11557788944723618,0.12060301507537688,0.12562814070351758,0.1306532663316583,0.135678391959799,0.1407035175879397,0.1457286432160804,0.15075376884422112,0.15577889447236182,0.16080402010050251,0.1658291457286432,0.1708542713567839,0.17587939698492464,0.18090452261306533,0.18592964824120603,0.19095477386934673,0.19597989949748745,0.20100502512562815,0.20603015075376885,0.21105527638190955,0.21608040201005024,0.22110552763819097,0.22613065326633167,0.23115577889447236,0.23618090452261306,0.24120603015075376,0.24623115577889448,0.25125628140703515,0.2562814070351759,0.2613065326633166,0.2663316582914573,0.271356783919598,0.2763819095477387,0.2814070351758794,0.2864321608040201,0.2914572864321608,0.2964824120603015,0.30150753768844224,0.3065326633165829,0.31155778894472363,0.3165829145728643,0.32160804020100503,0.32663316582914576,0.3316582914572864,0.33668341708542715,0.3417085427135678,0.34673366834170855,0.35175879396984927,0.35678391959798994,0.36180904522613067,0.36683417085427134,0.37185929648241206,0.3768844221105528,0.38190954773869346,0.3869346733668342,0.3919597989949749,0.3969849246231156,0.4020100502512563,0.40703517587939697,0.4120603015075377,0.4170854271356784,0.4221105527638191,0.4271356783919598,0.4321608040201005,0.4371859296482412,0.44221105527638194,0.4472361809045226,0.45226130653266333,0.457286432160804,0.4623115577889447,0.46733668341708545,0.4723618090452261,0.47738693467336685,0.4824120603015075,0.48743718592964824,0.49246231155778897,0.49748743718592964,0.5025125628140703,0.507537688442211,0.5125628140703518,0.5175879396984925,0.5226130653266332,0.5276381909547738,0.5326633165829145,0.5376884422110553,0.542713567839196,0.5477386934673367,0.5527638190954774,0.5577889447236181,0.5628140703517588,0.5678391959798995,0.5728643216080402,0.577889447236181,0.5829145728643216,0.5879396984924623,0.592964824120603,0.5979899497487438,0.6030150753768845,0.6080402010050251,0.6130653266331658,0.6180904522613065,0.6231155778894473,0.628140703517588,0.6331658291457286,0.6381909547738693,0.6432160804020101,0.6482412060301508,0.6532663316582915,0.6582914572864321,0.6633165829145728,0.6683417085427136,0.6733668341708543,0.678391959798995,0.6834170854271356,0.6884422110552764,0.6934673366834171,0.6984924623115578,0.7035175879396985,0.7085427135678392,0.7135678391959799,0.7185929648241206,0.7236180904522613,0.7286432160804021,0.7336683417085427,0.7386934673366834,0.7437185929648241,0.7487437185929648,0.7537688442211056,0.7587939698492463,0.7638190954773869,0.7688442211055276,0.7738693467336684,0.7788944723618091,0.7839195979899498,0.7889447236180904,0.7939698492462312,0.7989949748743719,0.8040201005025126,0.8090452261306533,0.8140703517587939,0.8190954773869347,0.8241206030150754,0.8291457286432161,0.8341708542713568,0.8391959798994975,0.8442211055276382,0.8492462311557789,0.8542713567839196,0.8592964824120604,0.864321608040201,0.8693467336683417,0.8743718592964824,0.8793969849246231,0.8844221105527639,0.8894472361809045,0.8944723618090452,0.8994974874371859,0.9045226130653267,0.9095477386934674,0.914572864321608,0.9195979899497487,0.9246231155778895,0.9296482412060302,0.9346733668341709,0.9396984924623115,0.9447236180904522,0.949748743718593,0.9547738693467337,0.9597989949748744,0.964824120603015,0.9698492462311558,0.9748743718592965,0.9798994974874372,0.9849246231155779,0.9899497487437187,0.9949748743718593,1.0],\"y\":[4355.572500000006,5563.642500000002,7326.427500000002,9055.95,10146.802500000002,10236.495000000003,9665.550000000001,9344.055,8379.952500000001,7465.875,6311.13,5908.38,5228.745,4657.9800000000005,3840.7575000000006,3634.5225000000005,3057.5250000000005,2816.7075,2436.0750000000003,2210.1000000000004,982.1175000000001,724.38,724.38,676.3650000000001,676.3650000000001,626.94,626.94,526.6800000000001,349.46250000000003,349.46250000000003,349.46250000000003,246.38250000000002,246.38250000000002,246.38250000000002,220.26000000000002,220.26000000000002,220.26000000000002,220.26000000000002,220.26000000000002,220.26000000000002,166.60500000000002,166.60500000000002,166.60500000000002,166.60500000000002,166.60500000000002,166.60500000000002,166.60500000000002,166.60500000000002,166.60500000000002,166.60500000000002,28.942500000000003,28.942500000000003,28.942500000000003,28.942500000000003,28.942500000000003,28.942500000000003,28.942500000000003,28.942500000000003,28.942500000000003,28.942500000000003,28.942500000000003,28.942500000000003,28.942500000000003,28.942500000000003,28.942500000000003,28.942500000000003,28.942500000000003,28.942500000000003,28.942500000000003,28.942500000000003,28.942500000000003,28.942500000000003,28.942500000000003,28.942500000000003,28.942500000000003,28.942500000000003,28.942500000000003,28.942500000000003,28.942500000000003,28.942500000000003,28.942500000000003,28.942500000000003,28.942500000000003,28.942500000000003,28.942500000000003,28.942500000000003,28.942500000000003,28.942500000000003,28.942500000000003,28.942500000000003,28.942500000000003,28.942500000000003,28.942500000000003,28.942500000000003,28.942500000000003,28.942500000000003,28.942500000000003,28.942500000000003,28.942500000000003,28.942500000000003,0.0,0.0,0.0,0.0,0.0,0.0,0.0,0.0,0.0,0.0,0.0,0.0,0.0,0.0,0.0,0.0,0.0,0.0,0.0,0.0,0.0,0.0,0.0,0.0,0.0,0.0,0.0,0.0,0.0,0.0,0.0,0.0,0.0,0.0,0.0,0.0,0.0,0.0,0.0,0.0,0.0,0.0,0.0,0.0,0.0,0.0,0.0,0.0,0.0,0.0,0.0,0.0,0.0,0.0,0.0,0.0,0.0,0.0,0.0,0.0,0.0,0.0,0.0,0.0,0.0,0.0,0.0,0.0,0.0,0.0,0.0,0.0,0.0,0.0,0.0,0.0,0.0,0.0,0.0,0.0,0.0,0.0,0.0,0.0,0.0,0.0,0.0,0.0,0.0,0.0,0.0,0.0,0.0,0.0,0.0,0.0,0.0,0.0,0.0,0.0],\"type\":\"scatter\"}],                        {\"template\":{\"data\":{\"histogram2dcontour\":[{\"type\":\"histogram2dcontour\",\"colorbar\":{\"outlinewidth\":0,\"ticks\":\"\"},\"colorscale\":[[0.0,\"#0d0887\"],[0.1111111111111111,\"#46039f\"],[0.2222222222222222,\"#7201a8\"],[0.3333333333333333,\"#9c179e\"],[0.4444444444444444,\"#bd3786\"],[0.5555555555555556,\"#d8576b\"],[0.6666666666666666,\"#ed7953\"],[0.7777777777777778,\"#fb9f3a\"],[0.8888888888888888,\"#fdca26\"],[1.0,\"#f0f921\"]]}],\"choropleth\":[{\"type\":\"choropleth\",\"colorbar\":{\"outlinewidth\":0,\"ticks\":\"\"}}],\"histogram2d\":[{\"type\":\"histogram2d\",\"colorbar\":{\"outlinewidth\":0,\"ticks\":\"\"},\"colorscale\":[[0.0,\"#0d0887\"],[0.1111111111111111,\"#46039f\"],[0.2222222222222222,\"#7201a8\"],[0.3333333333333333,\"#9c179e\"],[0.4444444444444444,\"#bd3786\"],[0.5555555555555556,\"#d8576b\"],[0.6666666666666666,\"#ed7953\"],[0.7777777777777778,\"#fb9f3a\"],[0.8888888888888888,\"#fdca26\"],[1.0,\"#f0f921\"]]}],\"heatmap\":[{\"type\":\"heatmap\",\"colorbar\":{\"outlinewidth\":0,\"ticks\":\"\"},\"colorscale\":[[0.0,\"#0d0887\"],[0.1111111111111111,\"#46039f\"],[0.2222222222222222,\"#7201a8\"],[0.3333333333333333,\"#9c179e\"],[0.4444444444444444,\"#bd3786\"],[0.5555555555555556,\"#d8576b\"],[0.6666666666666666,\"#ed7953\"],[0.7777777777777778,\"#fb9f3a\"],[0.8888888888888888,\"#fdca26\"],[1.0,\"#f0f921\"]]}],\"heatmapgl\":[{\"type\":\"heatmapgl\",\"colorbar\":{\"outlinewidth\":0,\"ticks\":\"\"},\"colorscale\":[[0.0,\"#0d0887\"],[0.1111111111111111,\"#46039f\"],[0.2222222222222222,\"#7201a8\"],[0.3333333333333333,\"#9c179e\"],[0.4444444444444444,\"#bd3786\"],[0.5555555555555556,\"#d8576b\"],[0.6666666666666666,\"#ed7953\"],[0.7777777777777778,\"#fb9f3a\"],[0.8888888888888888,\"#fdca26\"],[1.0,\"#f0f921\"]]}],\"contourcarpet\":[{\"type\":\"contourcarpet\",\"colorbar\":{\"outlinewidth\":0,\"ticks\":\"\"}}],\"contour\":[{\"type\":\"contour\",\"colorbar\":{\"outlinewidth\":0,\"ticks\":\"\"},\"colorscale\":[[0.0,\"#0d0887\"],[0.1111111111111111,\"#46039f\"],[0.2222222222222222,\"#7201a8\"],[0.3333333333333333,\"#9c179e\"],[0.4444444444444444,\"#bd3786\"],[0.5555555555555556,\"#d8576b\"],[0.6666666666666666,\"#ed7953\"],[0.7777777777777778,\"#fb9f3a\"],[0.8888888888888888,\"#fdca26\"],[1.0,\"#f0f921\"]]}],\"surface\":[{\"type\":\"surface\",\"colorbar\":{\"outlinewidth\":0,\"ticks\":\"\"},\"colorscale\":[[0.0,\"#0d0887\"],[0.1111111111111111,\"#46039f\"],[0.2222222222222222,\"#7201a8\"],[0.3333333333333333,\"#9c179e\"],[0.4444444444444444,\"#bd3786\"],[0.5555555555555556,\"#d8576b\"],[0.6666666666666666,\"#ed7953\"],[0.7777777777777778,\"#fb9f3a\"],[0.8888888888888888,\"#fdca26\"],[1.0,\"#f0f921\"]]}],\"mesh3d\":[{\"type\":\"mesh3d\",\"colorbar\":{\"outlinewidth\":0,\"ticks\":\"\"}}],\"scatter\":[{\"fillpattern\":{\"fillmode\":\"overlay\",\"size\":10,\"solidity\":0.2},\"type\":\"scatter\"}],\"parcoords\":[{\"type\":\"parcoords\",\"line\":{\"colorbar\":{\"outlinewidth\":0,\"ticks\":\"\"}}}],\"scatterpolargl\":[{\"type\":\"scatterpolargl\",\"marker\":{\"colorbar\":{\"outlinewidth\":0,\"ticks\":\"\"}}}],\"bar\":[{\"error_x\":{\"color\":\"#2a3f5f\"},\"error_y\":{\"color\":\"#2a3f5f\"},\"marker\":{\"line\":{\"color\":\"#E5ECF6\",\"width\":0.5},\"pattern\":{\"fillmode\":\"overlay\",\"size\":10,\"solidity\":0.2}},\"type\":\"bar\"}],\"scattergeo\":[{\"type\":\"scattergeo\",\"marker\":{\"colorbar\":{\"outlinewidth\":0,\"ticks\":\"\"}}}],\"scatterpolar\":[{\"type\":\"scatterpolar\",\"marker\":{\"colorbar\":{\"outlinewidth\":0,\"ticks\":\"\"}}}],\"histogram\":[{\"marker\":{\"pattern\":{\"fillmode\":\"overlay\",\"size\":10,\"solidity\":0.2}},\"type\":\"histogram\"}],\"scattergl\":[{\"type\":\"scattergl\",\"marker\":{\"colorbar\":{\"outlinewidth\":0,\"ticks\":\"\"}}}],\"scatter3d\":[{\"type\":\"scatter3d\",\"line\":{\"colorbar\":{\"outlinewidth\":0,\"ticks\":\"\"}},\"marker\":{\"colorbar\":{\"outlinewidth\":0,\"ticks\":\"\"}}}],\"scattermapbox\":[{\"type\":\"scattermapbox\",\"marker\":{\"colorbar\":{\"outlinewidth\":0,\"ticks\":\"\"}}}],\"scatterternary\":[{\"type\":\"scatterternary\",\"marker\":{\"colorbar\":{\"outlinewidth\":0,\"ticks\":\"\"}}}],\"scattercarpet\":[{\"type\":\"scattercarpet\",\"marker\":{\"colorbar\":{\"outlinewidth\":0,\"ticks\":\"\"}}}],\"carpet\":[{\"aaxis\":{\"endlinecolor\":\"#2a3f5f\",\"gridcolor\":\"white\",\"linecolor\":\"white\",\"minorgridcolor\":\"white\",\"startlinecolor\":\"#2a3f5f\"},\"baxis\":{\"endlinecolor\":\"#2a3f5f\",\"gridcolor\":\"white\",\"linecolor\":\"white\",\"minorgridcolor\":\"white\",\"startlinecolor\":\"#2a3f5f\"},\"type\":\"carpet\"}],\"table\":[{\"cells\":{\"fill\":{\"color\":\"#EBF0F8\"},\"line\":{\"color\":\"white\"}},\"header\":{\"fill\":{\"color\":\"#C8D4E3\"},\"line\":{\"color\":\"white\"}},\"type\":\"table\"}],\"barpolar\":[{\"marker\":{\"line\":{\"color\":\"#E5ECF6\",\"width\":0.5},\"pattern\":{\"fillmode\":\"overlay\",\"size\":10,\"solidity\":0.2}},\"type\":\"barpolar\"}],\"pie\":[{\"automargin\":true,\"type\":\"pie\"}]},\"layout\":{\"autotypenumbers\":\"strict\",\"colorway\":[\"#636efa\",\"#EF553B\",\"#00cc96\",\"#ab63fa\",\"#FFA15A\",\"#19d3f3\",\"#FF6692\",\"#B6E880\",\"#FF97FF\",\"#FECB52\"],\"font\":{\"color\":\"#2a3f5f\"},\"hovermode\":\"closest\",\"hoverlabel\":{\"align\":\"left\"},\"paper_bgcolor\":\"white\",\"plot_bgcolor\":\"#E5ECF6\",\"polar\":{\"bgcolor\":\"#E5ECF6\",\"angularaxis\":{\"gridcolor\":\"white\",\"linecolor\":\"white\",\"ticks\":\"\"},\"radialaxis\":{\"gridcolor\":\"white\",\"linecolor\":\"white\",\"ticks\":\"\"}},\"ternary\":{\"bgcolor\":\"#E5ECF6\",\"aaxis\":{\"gridcolor\":\"white\",\"linecolor\":\"white\",\"ticks\":\"\"},\"baxis\":{\"gridcolor\":\"white\",\"linecolor\":\"white\",\"ticks\":\"\"},\"caxis\":{\"gridcolor\":\"white\",\"linecolor\":\"white\",\"ticks\":\"\"}},\"coloraxis\":{\"colorbar\":{\"outlinewidth\":0,\"ticks\":\"\"}},\"colorscale\":{\"sequential\":[[0.0,\"#0d0887\"],[0.1111111111111111,\"#46039f\"],[0.2222222222222222,\"#7201a8\"],[0.3333333333333333,\"#9c179e\"],[0.4444444444444444,\"#bd3786\"],[0.5555555555555556,\"#d8576b\"],[0.6666666666666666,\"#ed7953\"],[0.7777777777777778,\"#fb9f3a\"],[0.8888888888888888,\"#fdca26\"],[1.0,\"#f0f921\"]],\"sequentialminus\":[[0.0,\"#0d0887\"],[0.1111111111111111,\"#46039f\"],[0.2222222222222222,\"#7201a8\"],[0.3333333333333333,\"#9c179e\"],[0.4444444444444444,\"#bd3786\"],[0.5555555555555556,\"#d8576b\"],[0.6666666666666666,\"#ed7953\"],[0.7777777777777778,\"#fb9f3a\"],[0.8888888888888888,\"#fdca26\"],[1.0,\"#f0f921\"]],\"diverging\":[[0,\"#8e0152\"],[0.1,\"#c51b7d\"],[0.2,\"#de77ae\"],[0.3,\"#f1b6da\"],[0.4,\"#fde0ef\"],[0.5,\"#f7f7f7\"],[0.6,\"#e6f5d0\"],[0.7,\"#b8e186\"],[0.8,\"#7fbc41\"],[0.9,\"#4d9221\"],[1,\"#276419\"]]},\"xaxis\":{\"gridcolor\":\"white\",\"linecolor\":\"white\",\"ticks\":\"\",\"title\":{\"standoff\":15},\"zerolinecolor\":\"white\",\"automargin\":true,\"zerolinewidth\":2},\"yaxis\":{\"gridcolor\":\"white\",\"linecolor\":\"white\",\"ticks\":\"\",\"title\":{\"standoff\":15},\"zerolinecolor\":\"white\",\"automargin\":true,\"zerolinewidth\":2},\"scene\":{\"xaxis\":{\"backgroundcolor\":\"#E5ECF6\",\"gridcolor\":\"white\",\"linecolor\":\"white\",\"showbackground\":true,\"ticks\":\"\",\"zerolinecolor\":\"white\",\"gridwidth\":2},\"yaxis\":{\"backgroundcolor\":\"#E5ECF6\",\"gridcolor\":\"white\",\"linecolor\":\"white\",\"showbackground\":true,\"ticks\":\"\",\"zerolinecolor\":\"white\",\"gridwidth\":2},\"zaxis\":{\"backgroundcolor\":\"#E5ECF6\",\"gridcolor\":\"white\",\"linecolor\":\"white\",\"showbackground\":true,\"ticks\":\"\",\"zerolinecolor\":\"white\",\"gridwidth\":2}},\"shapedefaults\":{\"line\":{\"color\":\"#2a3f5f\"}},\"annotationdefaults\":{\"arrowcolor\":\"#2a3f5f\",\"arrowhead\":0,\"arrowwidth\":1},\"geo\":{\"bgcolor\":\"white\",\"landcolor\":\"#E5ECF6\",\"subunitcolor\":\"white\",\"showland\":true,\"showlakes\":true,\"lakecolor\":\"white\"},\"title\":{\"x\":0.05},\"mapbox\":{\"style\":\"light\"}}},\"width\":700,\"height\":500,\"title\":{\"text\":\"Potential profit at various cutoffs\"},\"xaxis\":{\"title\":{\"text\":\"Predicted probability cutoff\"}},\"yaxis\":{\"title\":{\"text\":\"Expected profit\"}}},                        {\"responsive\": true}                    ).then(function(){\n",
       "                            \n",
       "var gd = document.getElementById('409f26a7-c768-4c15-bcf2-5436f767bcbf');\n",
       "var x = new MutationObserver(function (mutations, observer) {{\n",
       "        var display = window.getComputedStyle(gd).display;\n",
       "        if (!display || display === 'none') {{\n",
       "            console.log([gd, 'removed!']);\n",
       "            Plotly.purge(gd);\n",
       "            observer.disconnect();\n",
       "        }}\n",
       "}});\n",
       "\n",
       "// Listen for the removal of the full notebook cells\n",
       "var notebookContainer = gd.closest('#notebook-container');\n",
       "if (notebookContainer) {{\n",
       "    x.observe(notebookContainer, {childList: true});\n",
       "}}\n",
       "\n",
       "// Listen for the clearing of the current output cell\n",
       "var outputEl = gd.closest('.output');\n",
       "if (outputEl) {{\n",
       "    x.observe(outputEl, {childList: true});\n",
       "}}\n",
       "\n",
       "                        })                };                });            </script>        </div>"
      ]
     },
     "metadata": {},
     "output_type": "display_data"
    }
   ],
   "source": [
    "fig = go.Figure()\n",
    "\n",
    "for model_key in models:\n",
    "\n",
    "    fig.add_trace(\n",
    "        go.Scatter(\n",
    "            x=dfprofit['threshold'], \n",
    "            y=dfprofit[model_key + '_profit'],\n",
    "            mode='lines',\n",
    "            name=model_key\n",
    "        )\n",
    "    )\n",
    "    \n",
    "fig.update_layout(\n",
    "    width=700, height=500,\n",
    "    title='Potential profit at various cutoffs',\n",
    "    xaxis_title='Predicted probability cutoff',\n",
    "    yaxis_title='Expected profit',\n",
    ")\n",
    "    \n",
    "fig.show()"
   ]
  },
  {
   "cell_type": "markdown",
   "id": "b7663925-6791-4c27-b17e-dfba909ac899",
   "metadata": {},
   "source": [
    "##### Obtaining best of each model"
   ]
  },
  {
   "cell_type": "code",
   "execution_count": 175,
   "id": "9de21c88-e5e2-48e2-a500-bbacc8843cc7",
   "metadata": {
    "execution": {
     "iopub.execute_input": "2023-03-21T03:27:41.790506Z",
     "iopub.status.busy": "2023-03-21T03:27:41.790064Z",
     "iopub.status.idle": "2023-03-21T03:27:41.893084Z",
     "shell.execute_reply": "2023-03-21T03:27:41.891679Z",
     "shell.execute_reply.started": "2023-03-21T03:27:41.790468Z"
    },
    "jupyter": {
     "source_hidden": true
    },
    "tags": []
   },
   "outputs": [],
   "source": [
    "## Creating base dataframe (with benchmark) to store results\n",
    "dfprofit_max = pd.DataFrame(\n",
    "    columns=['thd', 'tn', 'fp', 'fn', 'tp', 'prc', 'rcl', 'profit'],\n",
    "    data=dfprofit.loc[\n",
    "        dfprofit['threshold'] == 0,\n",
    "        [\n",
    "            col \n",
    "            for col \n",
    "            in dfprofit.columns \n",
    "            if (\n",
    "                'm1' in col\n",
    "                or\n",
    "                'threshold' in col\n",
    "            )\n",
    "        ]\n",
    "    ].values,\n",
    "    index=['benchmark'],\n",
    ")\n",
    "\n",
    "\n",
    "##Adding worst possible model\n",
    "_tn = 0\n",
    "_fp = ((df['res1'] == 0)*1).sum() + ((df['res1'] == 1)*1).sum()/2\n",
    "_fn = ((df['res1'] == 1)*1).sum()/2\n",
    "_tp = 0\n",
    "dfprofit_max.loc['m_worst', :] = [\n",
    "    np.nan, ## thd\n",
    "    _tn,\n",
    "    _fp, ## fp\n",
    "    _fn, ## fn\n",
    "    _tp, ## tp\n",
    "    _tp/(_tp + _fp), ## prc -> tp/(tp + fp)\n",
    "    _tp/(_tp + _fn), ## rcl -> tp/(tp + fn)\n",
    "    _tp*(60 - 1.41) - 0*1.41, ## profit\n",
    "]\n",
    "\n",
    "## Adding best possible model\n",
    "_tn = ((df['res1'] == 0)*1).sum() + ((df['res1'] == 1)*1).sum()/2\n",
    "_fp = 0\n",
    "_fn = 0\n",
    "_tp = ((df['res1'] == 1)*1).sum()/2\n",
    "dfprofit_max.loc['m_best', :] = [\n",
    "    np.nan, ## thd\n",
    "    _tn,\n",
    "    _fp, ## fp\n",
    "    _fn, ## fn\n",
    "    _tp, ## tp\n",
    "    _tp/(_tp + _fp), ## prc -> tp/(tp + fp)\n",
    "    _tp/(_tp + _fn), ## rcl -> tp/(tp + fn)\n",
    "    _tp*(60 - 1.41) - 0*1.41, ## profit\n",
    "]\n",
    "\n",
    "\n",
    "## Finding best results for each model\n",
    "for model_key in models:\n",
    "    \n",
    "    mr = dfprofit[model_key + '_profit'] == dfprofit[model_key + '_profit'].max()\n",
    "    rc = [\n",
    "        col \n",
    "        for col \n",
    "        in dfprofit.columns \n",
    "        if \n",
    "            model_key in col\n",
    "            or\n",
    "            'threshold' in col\n",
    "    ]\n",
    "\n",
    "    dfprofit_max.loc[model_key, :] = dfprofit.loc[mr, rc].values"
   ]
  },
  {
   "cell_type": "code",
   "execution_count": 176,
   "id": "415017e2-82e9-433d-a4c4-ba0f5165269d",
   "metadata": {
    "execution": {
     "iopub.execute_input": "2023-03-21T03:27:44.009542Z",
     "iopub.status.busy": "2023-03-21T03:27:44.009096Z",
     "iopub.status.idle": "2023-03-21T03:27:44.101250Z",
     "shell.execute_reply": "2023-03-21T03:27:44.100294Z",
     "shell.execute_reply.started": "2023-03-21T03:27:44.009506Z"
    },
    "tags": []
   },
   "outputs": [
    {
     "data": {
      "text/html": [
       "<div>\n",
       "<style scoped>\n",
       "    .dataframe tbody tr th:only-of-type {\n",
       "        vertical-align: middle;\n",
       "    }\n",
       "\n",
       "    .dataframe tbody tr th {\n",
       "        vertical-align: top;\n",
       "    }\n",
       "\n",
       "    .dataframe thead th {\n",
       "        text-align: right;\n",
       "    }\n",
       "</style>\n",
       "<table border=\"1\" class=\"dataframe\">\n",
       "  <thead>\n",
       "    <tr style=\"text-align: right;\">\n",
       "      <th></th>\n",
       "      <th>thd</th>\n",
       "      <th>tn</th>\n",
       "      <th>fp</th>\n",
       "      <th>fn</th>\n",
       "      <th>tp</th>\n",
       "      <th>prc</th>\n",
       "      <th>rcl</th>\n",
       "      <th>profit</th>\n",
       "    </tr>\n",
       "  </thead>\n",
       "  <tbody>\n",
       "    <tr>\n",
       "      <th>benchmark</th>\n",
       "      <td>0.000000</td>\n",
       "      <td>0.0</td>\n",
       "      <td>19279.25</td>\n",
       "      <td>0.0</td>\n",
       "      <td>480.5</td>\n",
       "      <td>0.024317</td>\n",
       "      <td>1.000000</td>\n",
       "      <td>968.7525</td>\n",
       "    </tr>\n",
       "    <tr>\n",
       "      <th>m_worst</th>\n",
       "      <td>NaN</td>\n",
       "      <td>0.0</td>\n",
       "      <td>19519.50</td>\n",
       "      <td>480.5</td>\n",
       "      <td>0.0</td>\n",
       "      <td>0.000000</td>\n",
       "      <td>0.000000</td>\n",
       "      <td>0.0000</td>\n",
       "    </tr>\n",
       "    <tr>\n",
       "      <th>m_best</th>\n",
       "      <td>NaN</td>\n",
       "      <td>19519.5</td>\n",
       "      <td>0.00</td>\n",
       "      <td>0.0</td>\n",
       "      <td>480.5</td>\n",
       "      <td>1.000000</td>\n",
       "      <td>1.000000</td>\n",
       "      <td>28152.4950</td>\n",
       "    </tr>\n",
       "    <tr>\n",
       "      <th>m1</th>\n",
       "      <td>0.025126</td>\n",
       "      <td>13962.0</td>\n",
       "      <td>5231.25</td>\n",
       "      <td>344.0</td>\n",
       "      <td>308.5</td>\n",
       "      <td>0.055688</td>\n",
       "      <td>0.472797</td>\n",
       "      <td>10698.9525</td>\n",
       "    </tr>\n",
       "    <tr>\n",
       "      <th>m2</th>\n",
       "      <td>0.030151</td>\n",
       "      <td>15555.0</td>\n",
       "      <td>3629.25</td>\n",
       "      <td>380.0</td>\n",
       "      <td>290.5</td>\n",
       "      <td>0.074112</td>\n",
       "      <td>0.433259</td>\n",
       "      <td>11903.1525</td>\n",
       "    </tr>\n",
       "    <tr>\n",
       "      <th>m3</th>\n",
       "      <td>0.030151</td>\n",
       "      <td>14781.0</td>\n",
       "      <td>4401.50</td>\n",
       "      <td>387.0</td>\n",
       "      <td>287.0</td>\n",
       "      <td>0.061214</td>\n",
       "      <td>0.425816</td>\n",
       "      <td>10609.2150</td>\n",
       "    </tr>\n",
       "    <tr>\n",
       "      <th>m4</th>\n",
       "      <td>0.025126</td>\n",
       "      <td>13381.0</td>\n",
       "      <td>5804.25</td>\n",
       "      <td>376.0</td>\n",
       "      <td>292.5</td>\n",
       "      <td>0.047976</td>\n",
       "      <td>0.437547</td>\n",
       "      <td>8953.5825</td>\n",
       "    </tr>\n",
       "    <tr>\n",
       "      <th>m5</th>\n",
       "      <td>0.025126</td>\n",
       "      <td>13936.0</td>\n",
       "      <td>5261.50</td>\n",
       "      <td>327.0</td>\n",
       "      <td>317.0</td>\n",
       "      <td>0.056825</td>\n",
       "      <td>0.492236</td>\n",
       "      <td>11154.3150</td>\n",
       "    </tr>\n",
       "    <tr>\n",
       "      <th>m6</th>\n",
       "      <td>0.025126</td>\n",
       "      <td>12464.0</td>\n",
       "      <td>6743.50</td>\n",
       "      <td>287.0</td>\n",
       "      <td>337.0</td>\n",
       "      <td>0.047596</td>\n",
       "      <td>0.540064</td>\n",
       "      <td>10236.4950</td>\n",
       "    </tr>\n",
       "  </tbody>\n",
       "</table>\n",
       "</div>"
      ],
      "text/plain": [
       "                thd       tn        fp     fn     tp       prc       rcl  \\\n",
       "benchmark  0.000000      0.0  19279.25    0.0  480.5  0.024317  1.000000   \n",
       "m_worst         NaN      0.0  19519.50  480.5    0.0  0.000000  0.000000   \n",
       "m_best          NaN  19519.5      0.00    0.0  480.5  1.000000  1.000000   \n",
       "m1         0.025126  13962.0   5231.25  344.0  308.5  0.055688  0.472797   \n",
       "m2         0.030151  15555.0   3629.25  380.0  290.5  0.074112  0.433259   \n",
       "m3         0.030151  14781.0   4401.50  387.0  287.0  0.061214  0.425816   \n",
       "m4         0.025126  13381.0   5804.25  376.0  292.5  0.047976  0.437547   \n",
       "m5         0.025126  13936.0   5261.50  327.0  317.0  0.056825  0.492236   \n",
       "m6         0.025126  12464.0   6743.50  287.0  337.0  0.047596  0.540064   \n",
       "\n",
       "               profit  \n",
       "benchmark    968.7525  \n",
       "m_worst        0.0000  \n",
       "m_best     28152.4950  \n",
       "m1         10698.9525  \n",
       "m2         11903.1525  \n",
       "m3         10609.2150  \n",
       "m4          8953.5825  \n",
       "m5         11154.3150  \n",
       "m6         10236.4950  "
      ]
     },
     "execution_count": 176,
     "metadata": {},
     "output_type": "execute_result"
    }
   ],
   "source": [
    "dfprofit_max"
   ]
  },
  {
   "cell_type": "code",
   "execution_count": 180,
   "id": "cb8f036b-a482-4e19-acbc-bfe9faba5016",
   "metadata": {
    "execution": {
     "iopub.execute_input": "2023-03-21T03:35:34.084564Z",
     "iopub.status.busy": "2023-03-21T03:35:34.083965Z",
     "iopub.status.idle": "2023-03-21T03:35:34.182030Z",
     "shell.execute_reply": "2023-03-21T03:35:34.181026Z",
     "shell.execute_reply.started": "2023-03-21T03:35:34.084532Z"
    }
   },
   "outputs": [
    {
     "data": {
      "text/html": [
       "<div>\n",
       "<style scoped>\n",
       "    .dataframe tbody tr th:only-of-type {\n",
       "        vertical-align: middle;\n",
       "    }\n",
       "\n",
       "    .dataframe tbody tr th {\n",
       "        vertical-align: top;\n",
       "    }\n",
       "\n",
       "    .dataframe thead th {\n",
       "        text-align: right;\n",
       "    }\n",
       "</style>\n",
       "<table border=\"1\" class=\"dataframe\">\n",
       "  <thead>\n",
       "    <tr style=\"text-align: right;\">\n",
       "      <th></th>\n",
       "      <th>thd</th>\n",
       "      <th>tn</th>\n",
       "      <th>fp</th>\n",
       "      <th>fn</th>\n",
       "      <th>tp</th>\n",
       "      <th>prc</th>\n",
       "      <th>rcl</th>\n",
       "      <th>profit</th>\n",
       "      <th>check</th>\n",
       "    </tr>\n",
       "  </thead>\n",
       "  <tbody>\n",
       "    <tr>\n",
       "      <th>benchmark</th>\n",
       "      <td>0.000000</td>\n",
       "      <td>0.0</td>\n",
       "      <td>19279.25</td>\n",
       "      <td>0.0</td>\n",
       "      <td>480.5</td>\n",
       "      <td>0.024317</td>\n",
       "      <td>1.000000</td>\n",
       "      <td>968.7525</td>\n",
       "      <td>19759.75</td>\n",
       "    </tr>\n",
       "    <tr>\n",
       "      <th>m_worst</th>\n",
       "      <td>NaN</td>\n",
       "      <td>0.0</td>\n",
       "      <td>19519.50</td>\n",
       "      <td>480.5</td>\n",
       "      <td>0.0</td>\n",
       "      <td>0.000000</td>\n",
       "      <td>0.000000</td>\n",
       "      <td>0.0000</td>\n",
       "      <td>20000.00</td>\n",
       "    </tr>\n",
       "    <tr>\n",
       "      <th>m_best</th>\n",
       "      <td>NaN</td>\n",
       "      <td>19519.5</td>\n",
       "      <td>0.00</td>\n",
       "      <td>0.0</td>\n",
       "      <td>480.5</td>\n",
       "      <td>1.000000</td>\n",
       "      <td>1.000000</td>\n",
       "      <td>28152.4950</td>\n",
       "      <td>20000.00</td>\n",
       "    </tr>\n",
       "    <tr>\n",
       "      <th>m1</th>\n",
       "      <td>0.025126</td>\n",
       "      <td>13962.0</td>\n",
       "      <td>5231.25</td>\n",
       "      <td>344.0</td>\n",
       "      <td>308.5</td>\n",
       "      <td>0.055688</td>\n",
       "      <td>0.472797</td>\n",
       "      <td>10698.9525</td>\n",
       "      <td>19845.75</td>\n",
       "    </tr>\n",
       "    <tr>\n",
       "      <th>m2</th>\n",
       "      <td>0.030151</td>\n",
       "      <td>15555.0</td>\n",
       "      <td>3629.25</td>\n",
       "      <td>380.0</td>\n",
       "      <td>290.5</td>\n",
       "      <td>0.074112</td>\n",
       "      <td>0.433259</td>\n",
       "      <td>11903.1525</td>\n",
       "      <td>19854.75</td>\n",
       "    </tr>\n",
       "    <tr>\n",
       "      <th>m3</th>\n",
       "      <td>0.030151</td>\n",
       "      <td>14781.0</td>\n",
       "      <td>4401.50</td>\n",
       "      <td>387.0</td>\n",
       "      <td>287.0</td>\n",
       "      <td>0.061214</td>\n",
       "      <td>0.425816</td>\n",
       "      <td>10609.2150</td>\n",
       "      <td>19856.50</td>\n",
       "    </tr>\n",
       "    <tr>\n",
       "      <th>m4</th>\n",
       "      <td>0.025126</td>\n",
       "      <td>13381.0</td>\n",
       "      <td>5804.25</td>\n",
       "      <td>376.0</td>\n",
       "      <td>292.5</td>\n",
       "      <td>0.047976</td>\n",
       "      <td>0.437547</td>\n",
       "      <td>8953.5825</td>\n",
       "      <td>19853.75</td>\n",
       "    </tr>\n",
       "    <tr>\n",
       "      <th>m5</th>\n",
       "      <td>0.025126</td>\n",
       "      <td>13936.0</td>\n",
       "      <td>5261.50</td>\n",
       "      <td>327.0</td>\n",
       "      <td>317.0</td>\n",
       "      <td>0.056825</td>\n",
       "      <td>0.492236</td>\n",
       "      <td>11154.3150</td>\n",
       "      <td>19841.50</td>\n",
       "    </tr>\n",
       "    <tr>\n",
       "      <th>m6</th>\n",
       "      <td>0.025126</td>\n",
       "      <td>12464.0</td>\n",
       "      <td>6743.50</td>\n",
       "      <td>287.0</td>\n",
       "      <td>337.0</td>\n",
       "      <td>0.047596</td>\n",
       "      <td>0.540064</td>\n",
       "      <td>10236.4950</td>\n",
       "      <td>19831.50</td>\n",
       "    </tr>\n",
       "  </tbody>\n",
       "</table>\n",
       "</div>"
      ],
      "text/plain": [
       "                thd       tn        fp     fn     tp       prc       rcl  \\\n",
       "benchmark  0.000000      0.0  19279.25    0.0  480.5  0.024317  1.000000   \n",
       "m_worst         NaN      0.0  19519.50  480.5    0.0  0.000000  0.000000   \n",
       "m_best          NaN  19519.5      0.00    0.0  480.5  1.000000  1.000000   \n",
       "m1         0.025126  13962.0   5231.25  344.0  308.5  0.055688  0.472797   \n",
       "m2         0.030151  15555.0   3629.25  380.0  290.5  0.074112  0.433259   \n",
       "m3         0.030151  14781.0   4401.50  387.0  287.0  0.061214  0.425816   \n",
       "m4         0.025126  13381.0   5804.25  376.0  292.5  0.047976  0.437547   \n",
       "m5         0.025126  13936.0   5261.50  327.0  317.0  0.056825  0.492236   \n",
       "m6         0.025126  12464.0   6743.50  287.0  337.0  0.047596  0.540064   \n",
       "\n",
       "               profit     check  \n",
       "benchmark    968.7525  19759.75  \n",
       "m_worst        0.0000  20000.00  \n",
       "m_best     28152.4950  20000.00  \n",
       "m1         10698.9525  19845.75  \n",
       "m2         11903.1525  19854.75  \n",
       "m3         10609.2150  19856.50  \n",
       "m4          8953.5825  19853.75  \n",
       "m5         11154.3150  19841.50  \n",
       "m6         10236.4950  19831.50  "
      ]
     },
     "execution_count": 180,
     "metadata": {},
     "output_type": "execute_result"
    }
   ],
   "source": [
    "dfprofit_max['check'] = dfprofit_max.loc[:, ['tn', 'fp', 'fn','tp']].sum(axis=1)\n",
    "dfprofit_max"
   ]
  },
  {
   "cell_type": "code",
   "execution_count": 148,
   "id": "38ba23db-01bc-4061-afaa-006d8fd727b7",
   "metadata": {
    "execution": {
     "iopub.execute_input": "2023-03-21T00:09:00.600442Z",
     "iopub.status.busy": "2023-03-21T00:09:00.600033Z",
     "iopub.status.idle": "2023-03-21T00:09:00.693285Z",
     "shell.execute_reply": "2023-03-21T00:09:00.692343Z",
     "shell.execute_reply.started": "2023-03-21T00:09:00.600412Z"
    },
    "tags": []
   },
   "outputs": [
    {
     "data": {
      "text/html": [
       "<div>\n",
       "<style scoped>\n",
       "    .dataframe tbody tr th:only-of-type {\n",
       "        vertical-align: middle;\n",
       "    }\n",
       "\n",
       "    .dataframe tbody tr th {\n",
       "        vertical-align: top;\n",
       "    }\n",
       "\n",
       "    .dataframe thead th {\n",
       "        text-align: right;\n",
       "    }\n",
       "</style>\n",
       "<table border=\"1\" class=\"dataframe\">\n",
       "  <thead>\n",
       "    <tr style=\"text-align: right;\">\n",
       "      <th></th>\n",
       "      <th>thd</th>\n",
       "      <th>tn</th>\n",
       "      <th>fp</th>\n",
       "      <th>fn</th>\n",
       "      <th>tp</th>\n",
       "      <th>prc</th>\n",
       "      <th>rcl</th>\n",
       "      <th>profit</th>\n",
       "    </tr>\n",
       "  </thead>\n",
       "  <tbody>\n",
       "    <tr>\n",
       "      <th>benchmark</th>\n",
       "      <td>0.000000</td>\n",
       "      <td>240.25</td>\n",
       "      <td>19039.0</td>\n",
       "      <td>0.0</td>\n",
       "      <td>480.5</td>\n",
       "      <td>0.024616</td>\n",
       "      <td>1.000000</td>\n",
       "      <td>1307.505</td>\n",
       "    </tr>\n",
       "    <tr>\n",
       "      <th>m_worst</th>\n",
       "      <td>NaN</td>\n",
       "      <td>0.00</td>\n",
       "      <td>19039.0</td>\n",
       "      <td>961.0</td>\n",
       "      <td>0.0</td>\n",
       "      <td>0.000000</td>\n",
       "      <td>0.000000</td>\n",
       "      <td>-26844.990</td>\n",
       "    </tr>\n",
       "    <tr>\n",
       "      <th>m_best</th>\n",
       "      <td>NaN</td>\n",
       "      <td>19039.00</td>\n",
       "      <td>0.0</td>\n",
       "      <td>0.0</td>\n",
       "      <td>961.0</td>\n",
       "      <td>1.000000</td>\n",
       "      <td>1.000000</td>\n",
       "      <td>56304.990</td>\n",
       "    </tr>\n",
       "    <tr>\n",
       "      <th>m1</th>\n",
       "      <td>0.045226</td>\n",
       "      <td>13375.50</td>\n",
       "      <td>5827.0</td>\n",
       "      <td>307.0</td>\n",
       "      <td>327.0</td>\n",
       "      <td>0.053136</td>\n",
       "      <td>0.515773</td>\n",
       "      <td>10942.860</td>\n",
       "    </tr>\n",
       "    <tr>\n",
       "      <th>m2</th>\n",
       "      <td>0.045226</td>\n",
       "      <td>13846.25</td>\n",
       "      <td>5361.0</td>\n",
       "      <td>288.0</td>\n",
       "      <td>336.5</td>\n",
       "      <td>0.059061</td>\n",
       "      <td>0.538831</td>\n",
       "      <td>12156.525</td>\n",
       "    </tr>\n",
       "    <tr>\n",
       "      <th>m3</th>\n",
       "      <td>0.060302</td>\n",
       "      <td>14924.50</td>\n",
       "      <td>4258.0</td>\n",
       "      <td>387.0</td>\n",
       "      <td>287.0</td>\n",
       "      <td>0.063146</td>\n",
       "      <td>0.425816</td>\n",
       "      <td>10811.550</td>\n",
       "    </tr>\n",
       "    <tr>\n",
       "      <th>m4</th>\n",
       "      <td>0.055276</td>\n",
       "      <td>14825.50</td>\n",
       "      <td>4344.0</td>\n",
       "      <td>439.0</td>\n",
       "      <td>261.0</td>\n",
       "      <td>0.056678</td>\n",
       "      <td>0.372857</td>\n",
       "      <td>9166.950</td>\n",
       "    </tr>\n",
       "    <tr>\n",
       "      <th>m5</th>\n",
       "      <td>0.050251</td>\n",
       "      <td>14094.50</td>\n",
       "      <td>5103.0</td>\n",
       "      <td>327.0</td>\n",
       "      <td>317.0</td>\n",
       "      <td>0.058487</td>\n",
       "      <td>0.492236</td>\n",
       "      <td>11377.800</td>\n",
       "    </tr>\n",
       "    <tr>\n",
       "      <th>m6</th>\n",
       "      <td>0.045226</td>\n",
       "      <td>12119.00</td>\n",
       "      <td>7095.0</td>\n",
       "      <td>261.0</td>\n",
       "      <td>350.0</td>\n",
       "      <td>0.047011</td>\n",
       "      <td>0.572831</td>\n",
       "      <td>10502.550</td>\n",
       "    </tr>\n",
       "  </tbody>\n",
       "</table>\n",
       "</div>"
      ],
      "text/plain": [
       "                thd        tn       fp     fn     tp       prc       rcl  \\\n",
       "benchmark  0.000000    240.25  19039.0    0.0  480.5  0.024616  1.000000   \n",
       "m_worst         NaN      0.00  19039.0  961.0    0.0  0.000000  0.000000   \n",
       "m_best          NaN  19039.00      0.0    0.0  961.0  1.000000  1.000000   \n",
       "m1         0.045226  13375.50   5827.0  307.0  327.0  0.053136  0.515773   \n",
       "m2         0.045226  13846.25   5361.0  288.0  336.5  0.059061  0.538831   \n",
       "m3         0.060302  14924.50   4258.0  387.0  287.0  0.063146  0.425816   \n",
       "m4         0.055276  14825.50   4344.0  439.0  261.0  0.056678  0.372857   \n",
       "m5         0.050251  14094.50   5103.0  327.0  317.0  0.058487  0.492236   \n",
       "m6         0.045226  12119.00   7095.0  261.0  350.0  0.047011  0.572831   \n",
       "\n",
       "              profit  \n",
       "benchmark   1307.505  \n",
       "m_worst   -26844.990  \n",
       "m_best     56304.990  \n",
       "m1         10942.860  \n",
       "m2         12156.525  \n",
       "m3         10811.550  \n",
       "m4          9166.950  \n",
       "m5         11377.800  \n",
       "m6         10502.550  "
      ]
     },
     "execution_count": 148,
     "metadata": {},
     "output_type": "execute_result"
    }
   ],
   "source": [
    "dfprofit_max"
   ]
  },
  {
   "cell_type": "code",
   "execution_count": null,
   "id": "0ff832d5-966e-4b49-8f70-b68b4773576c",
   "metadata": {},
   "outputs": [],
   "source": []
  },
  {
   "cell_type": "markdown",
   "id": "ca6f63a1-4ec1-46ad-a506-4fd78adcffe3",
   "metadata": {},
   "source": [
    "###### "
   ]
  },
  {
   "cell_type": "markdown",
   "id": "1e4119f6-8c11-4b30-bf5c-3fd267856723",
   "metadata": {},
   "source": [
    "### Precision recall metrics"
   ]
  },
  {
   "cell_type": "code",
   "execution_count": 52,
   "id": "5b008fe2-444c-48ac-902b-8fda7fd3276f",
   "metadata": {
    "execution": {
     "iopub.execute_input": "2023-03-20T22:02:53.046175Z",
     "iopub.status.busy": "2023-03-20T22:02:53.045744Z",
     "iopub.status.idle": "2023-03-20T22:02:53.151407Z",
     "shell.execute_reply": "2023-03-20T22:02:53.150441Z",
     "shell.execute_reply.started": "2023-03-20T22:02:53.046144Z"
    },
    "tags": []
   },
   "outputs": [
    {
     "data": {
      "application/vnd.plotly.v1+json": {
       "config": {
        "plotlyServerURL": "https://plot.ly"
       },
       "data": [
        {
         "mode": "lines",
         "name": "m1",
         "type": "scatter",
         "x": [
          1,
          1,
          0.9854318418314256,
          0.9573361082206036,
          0.9105098855359001,
          0.8688865764828304,
          0.8064516129032258,
          0.7669094693028096,
          0.7211238293444329,
          0.6805411030176899,
          0.6420395421436004,
          0.6087408949011447,
          0.5733610822060354,
          0.54630593132154,
          0.5254942767950052,
          0.4921956295525494,
          0.4713839750260146,
          0.43912591050988553,
          0.41519250780437045,
          0.3964620187304891,
          0.37877211238293446,
          0.3610822060353798,
          0.3465140478668054,
          0.33714880332986474,
          0.3225806451612903,
          0.30801248699271594,
          0.2903225806451613,
          0.2767950052029136,
          0.2643080124869927,
          0.25494276795005205,
          0.24349635796045785,
          0.22892819979188345,
          0.21956295525494277,
          0.21436004162330904,
          0.20915712799167535,
          0.20187304890738814,
          0.19562955254942768,
          0.18730489073881373,
          0.17898022892819979,
          0.1716961498439126,
          0.16129032258064516,
          0.1571279916753382,
          0.15192507804370448,
          0.14464099895941726,
          0.14151925078043703,
          0.13423517169614985,
          0.1279916753381894,
          0.12382934443288242,
          0.11654526534859522,
          0.11550468262226847,
          0.11238293444328824,
          0.10926118626430802,
          0.1040582726326743,
          0.10093652445369407,
          0.09781477627471384,
          0.09365244536940687,
          0.09157127991675339,
          0.09053069719042664,
          0.08949011446409989,
          0.08844953173777315,
          0.08532778355879292,
          0.08012486992715921,
          0.07492195629552549,
          0.07180020811654526,
          0.06867845993756504,
          0.06347554630593132,
          0.062434963579604576,
          0.061394380853277836,
          0.060353798126951096,
          0.05931321540062435,
          0.05619146722164412,
          0.05202913631633715,
          0.05098855359001041,
          0.04994797086368366,
          0.04890738813735692,
          0.046826222684703434,
          0.046826222684703434,
          0.044745057232049947,
          0.043704474505723206,
          0.03954214360041623,
          0.03954214360041623,
          0.03850156087408949,
          0.03850156087408949,
          0.036420395421436005,
          0.03433922996878252,
          0.030176899063475548,
          0.02809573361082206,
          0.027055150884495317,
          0.027055150884495317,
          0.026014568158168574,
          0.02497398543184183,
          0.02497398543184183,
          0.023933402705515087,
          0.02081165452653486,
          0.02081165452653486,
          0.018730489073881373,
          0.01768990634755463,
          0.01664932362122789,
          0.015608740894901144,
          0.015608740894901144,
          0.013527575442247659,
          0.013527575442247659,
          0.013527575442247659,
          0.013527575442247659,
          0.011446409989594173,
          0.011446409989594173,
          0.011446409989594173,
          0.01040582726326743,
          0.01040582726326743,
          0.01040582726326743,
          0.009365244536940686,
          0.008324661810613945,
          0.008324661810613945,
          0.008324661810613945,
          0.008324661810613945,
          0.008324661810613945,
          0.007284079084287201,
          0.006243496357960458,
          0.004162330905306972,
          0.004162330905306972,
          0.004162330905306972,
          0.004162330905306972,
          0.004162330905306972,
          0.003121748178980229,
          0.003121748178980229,
          0.003121748178980229,
          0.002081165452653486,
          0.002081165452653486,
          0.002081165452653486,
          0.001040582726326743,
          0,
          0,
          0,
          0,
          0,
          0,
          0,
          0,
          0,
          0,
          0,
          0,
          0,
          0,
          0,
          0,
          0,
          0,
          0,
          0,
          0,
          0,
          0,
          0,
          0,
          0,
          0,
          0,
          0,
          0,
          0,
          0,
          0,
          0,
          0,
          0,
          0,
          0,
          0,
          0,
          0,
          0,
          0,
          0,
          0,
          0,
          0,
          0,
          0,
          0,
          0,
          0,
          0,
          0,
          0,
          0,
          0,
          0,
          0,
          0,
          0,
          0,
          0,
          0,
          0,
          0,
          0,
          0,
          0,
          0
         ],
         "y": [
          0.04805,
          0.048177670827693385,
          0.05120302784536361,
          0.05686383583657828,
          0.06252679719879949,
          0.07015038225657397,
          0.07661888284725656,
          0.0855882011380792,
          0.09264705882352942,
          0.10091035334053387,
          0.10835967685282753,
          0.11697660467906419,
          0.1246606334841629,
          0.1331473497337053,
          0.14229360383206538,
          0.14902331442974165,
          0.16012725344644752,
          0.1665351223362273,
          0.17492327926348092,
          0.1828214971209213,
          0.1920844327176781,
          0.20363849765258216,
          0.21332479180012812,
          0.22391154111955772,
          0.2318623784592371,
          0.23736968724939855,
          0.24072476272648835,
          0.24314442413162707,
          0.25,
          0.2538860103626943,
          0.25686059275521406,
          0.25791324736225085,
          0.2630922693266833,
          0.2706964520367937,
          0.2795549374130737,
          0.28075253256150506,
          0.2852807283763278,
          0.28708133971291866,
          0.2895622895622896,
          0.2920353982300885,
          0.2902621722846442,
          0.297244094488189,
          0.2985685071574642,
          0.2995689655172414,
          0.3112128146453089,
          0.31234866828087166,
          0.31297709923664124,
          0.31648936170212766,
          0.3137254901960784,
          0.31988472622478387,
          0.32238805970149254,
          0.32608695652173914,
          0.32679738562091504,
          0.3321917808219178,
          0.3321554770318021,
          0.32967032967032966,
          0.3308270676691729,
          0.3411764705882353,
          0.3453815261044177,
          0.34552845528455284,
          0.3474576271186441,
          0.3422222222222222,
          0.3317972350230415,
          0.32701421800947866,
          0.3251231527093596,
          0.3193717277486911,
          0.3333333333333333,
          0.3333333333333333,
          0.3372093023255814,
          0.33727810650887574,
          0.33962264150943394,
          0.3333333333333333,
          0.34507042253521125,
          0.34782608695652173,
          0.36153846153846153,
          0.36,
          0.36885245901639346,
          0.3739130434782609,
          0.38181818181818183,
          0.38,
          0.40425531914893614,
          0.4065934065934066,
          0.42528735632183906,
          0.4268292682926829,
          0.42857142857142855,
          0.42028985507246375,
          0.4153846153846154,
          0.4262295081967213,
          0.4482758620689655,
          0.44642857142857145,
          0.4444444444444444,
          0.4528301886792453,
          0.46938775510204084,
          0.46511627906976744,
          0.4878048780487805,
          0.4864864864864865,
          0.4857142857142857,
          0.5333333333333333,
          0.5172413793103449,
          0.5172413793103449,
          0.5,
          0.52,
          0.52,
          0.52,
          0.5,
          0.5238095238095238,
          0.5789473684210527,
          0.5882352941176471,
          0.625,
          0.625,
          0.6,
          0.5714285714285714,
          0.5714285714285714,
          0.6153846153846154,
          0.6153846153846154,
          0.6153846153846154,
          0.5833333333333334,
          0.5454545454545454,
          0.4444444444444444,
          0.5,
          0.5,
          0.5,
          0.5714285714285714,
          0.5,
          0.6,
          0.6,
          0.5,
          0.5,
          0.5,
          0.3333333333333333,
          0,
          0,
          0,
          0,
          0,
          0,
          0,
          0,
          null,
          null,
          null,
          null,
          null,
          null,
          null,
          null,
          null,
          null,
          null,
          null,
          null,
          null,
          null,
          null,
          null,
          null,
          null,
          null,
          null,
          null,
          null,
          null,
          null,
          null,
          null,
          null,
          null,
          null,
          null,
          null,
          null,
          null,
          null,
          null,
          null,
          null,
          null,
          null,
          null,
          null,
          null,
          null,
          null,
          null,
          null,
          null,
          null,
          null,
          null,
          null,
          null,
          null,
          null,
          null,
          null,
          null,
          null,
          null,
          null,
          null
         ]
        },
        {
         "mode": "lines",
         "name": "m2",
         "type": "scatter",
         "x": [
          1,
          0.9979188345473465,
          0.9781477627471384,
          0.9500520291363164,
          0.9094693028095734,
          0.8605619146722164,
          0.8158168574401665,
          0.7783558792924038,
          0.7419354838709677,
          0.700312174817898,
          0.6576482830385015,
          0.6243496357960457,
          0.6045785639958376,
          0.5827263267429761,
          0.5535900104058272,
          0.5359001040582726,
          0.5067637877211238,
          0.4755463059313215,
          0.4599375650364204,
          0.441207075962539,
          0.4255983350676379,
          0.40582726326742974,
          0.39854318418314255,
          0.3850156087408949,
          0.37460978147762747,
          0.36524453694068676,
          0.3485952133194589,
          0.34235171696149846,
          0.3340270551508845,
          0.32570239334027057,
          0.29968782518210196,
          0.2778355879292404,
          0.27471383975026015,
          0.2726326742976067,
          0.2715920915712799,
          0.2663891779396462,
          0.26326742976066597,
          0.259105098855359,
          0.2518210197710718,
          0.24765868886576484,
          0.24557752341311134,
          0.2445369406867846,
          0.2393340270551509,
          0.23621227887617066,
          0.23621227887617066,
          0.23100936524453694,
          0.22684703433922998,
          0.22164412070759626,
          0.21644120707596254,
          0.21436004162330904,
          0.2133194588969823,
          0.21227887617065558,
          0.21123829344432882,
          0.2081165452653486,
          0.20499479708636836,
          0.20291363163371487,
          0.20187304890738814,
          0.1987513007284079,
          0.19458896982310095,
          0.1914672216441207,
          0.18834547346514047,
          0.18522372528616024,
          0.18210197710718,
          0.18002081165452655,
          0.17898022892819979,
          0.17481789802289283,
          0.1696149843912591,
          0.16857440166493237,
          0.16441207075962538,
          0.16024973985431842,
          0.15816857440166493,
          0.15608740894901144,
          0.1550468262226847,
          0.14984391259105098,
          0.14776274713839752,
          0.14568158168574402,
          0.14568158168574402,
          0.14464099895941726,
          0.13735691987513007,
          0.13423517169614985,
          0.12903225806451613,
          0.12903225806451613,
          0.1259105098855359,
          0.12278876170655567,
          0.1186264308012487,
          0.11550468262226847,
          0.1113423517169615,
          0,
          0,
          0,
          0,
          0,
          0,
          0,
          0,
          0,
          0,
          0,
          0,
          0,
          0,
          0,
          0,
          0,
          0,
          0,
          0,
          0,
          0,
          0,
          0,
          0,
          0,
          0,
          0,
          0,
          0,
          0,
          0,
          0,
          0,
          0,
          0,
          0,
          0,
          0,
          0,
          0,
          0,
          0,
          0,
          0,
          0,
          0,
          0,
          0,
          0,
          0,
          0,
          0,
          0,
          0,
          0,
          0,
          0,
          0,
          0,
          0,
          0,
          0,
          0,
          0,
          0,
          0,
          0,
          0,
          0,
          0,
          0,
          0,
          0,
          0,
          0,
          0,
          0,
          0,
          0,
          0,
          0,
          0,
          0,
          0,
          0,
          0,
          0,
          0,
          0,
          0,
          0,
          0,
          0,
          0,
          0,
          0,
          0,
          0,
          0,
          0,
          0,
          0,
          0,
          0,
          0,
          0,
          0,
          0,
          0,
          0,
          0,
          0
         ],
         "y": [
          0.04805,
          0.04992451455047113,
          0.054660696633133686,
          0.061180727735709976,
          0.06821729628473307,
          0.07542867566581539,
          0.08386820710312366,
          0.09340659340659341,
          0.10233960097602986,
          0.11153463705667882,
          0.11965164710336994,
          0.129366106080207,
          0.14292742927429275,
          0.15581524763494714,
          0.16501240694789082,
          0.1780774550484094,
          0.188394584139265,
          0.1973229706390328,
          0.20663861617578308,
          0.2145748987854251,
          0.22084233261339092,
          0.22634939059779455,
          0.23353658536585367,
          0.23824855119124275,
          0.2452316076294278,
          0.25017818959372773,
          0.25321239606953894,
          0.2623604465709729,
          0.2679465776293823,
          0.2757709251101322,
          0.2804284323271665,
          0.29053318824809576,
          0.29497206703910617,
          0.30184331797235026,
          0.3096085409252669,
          0.3148831488314883,
          0.320253164556962,
          0.32506527415143605,
          0.330150068212824,
          0.33473980309423346,
          0.34502923976608185,
          0.35179640718562877,
          0.35276073619631904,
          0.35524256651017216,
          0.364951768488746,
          0.3712374581939799,
          0.3707482993197279,
          0.3717277486910995,
          0.37209302325581395,
          0.3759124087591241,
          0.3817504655493482,
          0.38636363636363635,
          0.3918918918918919,
          0.3937007874015748,
          0.3963782696177062,
          0.4020618556701031,
          0.4118895966029724,
          0.4179431072210066,
          0.41834451901565994,
          0.4200913242009132,
          0.42093023255813955,
          0.42280285035629456,
          0.4227053140096618,
          0.4314214463840399,
          0.4332493702770781,
          0.4296675191815857,
          0.42894736842105263,
          0.43315508021390375,
          0.4340659340659341,
          0.43380281690140843,
          0.4367816091954023,
          0.43731778425655976,
          0.44345238095238093,
          0.44171779141104295,
          0.4423676012461059,
          0.4444444444444444,
          0.44871794871794873,
          0.4527687296416938,
          0.44,
          0.4387755102040816,
          0.43205574912891986,
          0.43508771929824563,
          0.4352517985611511,
          0.43866171003717475,
          0.4367816091954023,
          0.44047619047619047,
          0.4385245901639344,
          null,
          null,
          null,
          null,
          null,
          null,
          null,
          null,
          null,
          null,
          null,
          null,
          null,
          null,
          null,
          null,
          null,
          null,
          null,
          null,
          null,
          null,
          null,
          null,
          null,
          null,
          null,
          null,
          null,
          null,
          null,
          null,
          null,
          null,
          null,
          null,
          null,
          null,
          null,
          null,
          null,
          null,
          null,
          null,
          null,
          null,
          null,
          null,
          null,
          null,
          null,
          null,
          null,
          null,
          null,
          null,
          null,
          null,
          null,
          null,
          null,
          null,
          null,
          null,
          null,
          null,
          null,
          null,
          null,
          null,
          null,
          null,
          null,
          null,
          null,
          null,
          null,
          null,
          null,
          null,
          null,
          null,
          null,
          null,
          null,
          null,
          null,
          null,
          null,
          null,
          null,
          null,
          null,
          null,
          null,
          null,
          null,
          null,
          null,
          null,
          null,
          null,
          null,
          null,
          null,
          null,
          null,
          null,
          null,
          null,
          null,
          null,
          null
         ]
        },
        {
         "mode": "lines",
         "name": "m3",
         "type": "scatter",
         "x": [
          1,
          1,
          0.9937565036420395,
          0.9729448491155047,
          0.9396462018730489,
          0.8938605619146722,
          0.8470343392299687,
          0.7950052029136316,
          0.7502601456815817,
          0.708636836628512,
          0.6659729448491155,
          0.627471383975026,
          0.5972944849115505,
          0.5639958376690947,
          0.5327783558792925,
          0.5005202913631633,
          0.47346514047866806,
          0.4474505723204995,
          0.4162330905306972,
          0.3870967741935484,
          0.37148803329864727,
          0.34963579604578565,
          0.3309053069719043,
          0.3152965660770031,
          0.29968782518210196,
          0.2892819979188345,
          0.27887617065556713,
          0.259105098855359,
          0.23621227887617066,
          0.2206035379812695,
          0.2008324661810614,
          0.1914672216441207,
          0.1768990634755463,
          0.16649323621227888,
          0.15608740894901144,
          0.15088449531737774,
          0.14568158168574402,
          0.14151925078043703,
          0.12903225806451613,
          0.1259105098855359,
          0.12278876170655567,
          0.11446409989594172,
          0.1040582726326743,
          0.09885535900104059,
          0.08844953173777315,
          0.08532778355879292,
          0.08428720083246619,
          0.08116545265348596,
          0.07492195629552549,
          0.07075962539021852,
          0.06555671175858481,
          0.060353798126951096,
          0.05202913631633715,
          0.05202913631633715,
          0.05202913631633715,
          0.04890738813735692,
          0.04890738813735692,
          0.047866805411030174,
          0.047866805411030174,
          0.047866805411030174,
          0.045785639958376693,
          0.04162330905306972,
          0.04058272632674298,
          0.03850156087408949,
          0.036420395421436005,
          0.03225806451612903,
          0.03225806451612903,
          0.03225806451612903,
          0.029136316337148804,
          0.026014568158168574,
          0.023933402705515087,
          0.02081165452653486,
          0.019771071800208116,
          0.019771071800208116,
          0.019771071800208116,
          0.018730489073881373,
          0.01664932362122789,
          0.015608740894901144,
          0.014568158168574402,
          0.013527575442247659,
          0.012486992715920915,
          0.012486992715920915,
          0.011446409989594173,
          0.01040582726326743,
          0.01040582726326743,
          0.01040582726326743,
          0.01040582726326743,
          0.01040582726326743,
          0.01040582726326743,
          0.01040582726326743,
          0.01040582726326743,
          0.01040582726326743,
          0.008324661810613945,
          0.008324661810613945,
          0.008324661810613945,
          0.006243496357960458,
          0.005202913631633715,
          0.004162330905306972,
          0.004162330905306972,
          0.004162330905306972,
          0.003121748178980229,
          0.002081165452653486,
          0.001040582726326743,
          0,
          0,
          0,
          0,
          0,
          0,
          0,
          0,
          0,
          0,
          0,
          0,
          0,
          0,
          0,
          0,
          0,
          0,
          0,
          0,
          0,
          0,
          0,
          0,
          0,
          0,
          0,
          0,
          0,
          0,
          0,
          0,
          0,
          0,
          0,
          0,
          0,
          0,
          0,
          0,
          0,
          0,
          0,
          0,
          0,
          0,
          0,
          0,
          0,
          0,
          0,
          0,
          0,
          0,
          0,
          0,
          0,
          0,
          0,
          0,
          0,
          0,
          0,
          0,
          0,
          0,
          0,
          0,
          0,
          0,
          0,
          0,
          0,
          0,
          0,
          0,
          0,
          0,
          0,
          0,
          0,
          0,
          0,
          0,
          0,
          0,
          0,
          0,
          0,
          0,
          0,
          0,
          0,
          0,
          0,
          0,
          0
         ],
         "y": [
          0.04805,
          0.04811013767209011,
          0.05025522285954849,
          0.054974129821260584,
          0.060316612116759066,
          0.06653756777691712,
          0.07291293443210319,
          0.07930247041727216,
          0.0867211931681501,
          0.09375,
          0.10191082802547771,
          0.10935799782372144,
          0.11879139072847682,
          0.1265172735760971,
          0.13399633603768646,
          0.14260302401423067,
          0.15294117647058825,
          0.16318785578747627,
          0.16992353440951571,
          0.176303317535545,
          0.1880927291886196,
          0.1958041958041958,
          0.20743639921722112,
          0.21956521739130436,
          0.2298483639265762,
          0.24428822495606328,
          0.25499524262607043,
          0.26293558606124606,
          0.2618223760092272,
          0.2676767676767677,
          0.2691771269177127,
          0.27586206896551724,
          0.2814569536423841,
          0.2831858407079646,
          0.29069767441860467,
          0.302713987473904,
          0.3125,
          0.32304038004750596,
          0.31313131313131315,
          0.32180851063829785,
          0.3400576368876081,
          0.3343465045592705,
          0.32051282051282054,
          0.3220338983050847,
          0.32196969696969696,
          0.3293172690763052,
          0.3360995850622407,
          0.34513274336283184,
          0.3412322274881517,
          0.3469387755102041,
          0.3442622950819672,
          0.3372093023255814,
          0.3105590062111801,
          0.3333333333333333,
          0.3424657534246575,
          0.34057971014492755,
          0.35074626865671643,
          0.35658914728682173,
          0.3709677419354839,
          0.3865546218487395,
          0.4,
          0.40816326530612246,
          0.43333333333333335,
          0.42045454545454547,
          0.42168674698795183,
          0.40789473684210525,
          0.4189189189189189,
          0.4626865671641791,
          0.45901639344262296,
          0.46296296296296297,
          0.45098039215686275,
          0.4444444444444444,
          0.4523809523809524,
          0.4634146341463415,
          0.48717948717948717,
          0.5294117647058824,
          0.5161290322580645,
          0.5172413793103449,
          0.5185185185185185,
          0.5,
          0.5,
          0.5217391304347826,
          0.5238095238095238,
          0.5,
          0.5,
          0.5,
          0.5555555555555556,
          0.5555555555555556,
          0.625,
          0.6666666666666666,
          0.6666666666666666,
          0.6666666666666666,
          0.6153846153846154,
          0.6153846153846154,
          0.6153846153846154,
          0.5454545454545454,
          0.5,
          0.4444444444444444,
          0.5,
          0.5714285714285714,
          0.5,
          0.4,
          0.25,
          0,
          0,
          0,
          0,
          0,
          0,
          0,
          0,
          0,
          0,
          null,
          null,
          null,
          null,
          null,
          null,
          null,
          null,
          null,
          null,
          null,
          null,
          null,
          null,
          null,
          null,
          null,
          null,
          null,
          null,
          null,
          null,
          null,
          null,
          null,
          null,
          null,
          null,
          null,
          null,
          null,
          null,
          null,
          null,
          null,
          null,
          null,
          null,
          null,
          null,
          null,
          null,
          null,
          null,
          null,
          null,
          null,
          null,
          null,
          null,
          null,
          null,
          null,
          null,
          null,
          null,
          null,
          null,
          null,
          null,
          null,
          null,
          null,
          null,
          null,
          null,
          null,
          null,
          null,
          null,
          null,
          null,
          null,
          null,
          null,
          null,
          null,
          null,
          null,
          null,
          null,
          null,
          null,
          null,
          null,
          null,
          null
         ]
        },
        {
         "mode": "lines",
         "name": "m4",
         "type": "scatter",
         "x": [
          1,
          1,
          1,
          1,
          1,
          1,
          0.9386056191467221,
          0.8782518210197711,
          0.7887617065556711,
          0.700312174817898,
          0.6087408949011447,
          0.5431841831425598,
          0.48491155046826223,
          0.42351716961498437,
          0.37460978147762747,
          0.3215400624349636,
          0.2695109261186264,
          0.23621227887617066,
          0.1987513007284079,
          0.17793964620187305,
          0.1571279916753382,
          0.14568158168574402,
          0.1383975026014568,
          0.13007284079084286,
          0.12174817898022892,
          0.11654526534859522,
          0.1113423517169615,
          0.10613943808532779,
          0.10197710718002082,
          0.09781477627471384,
          0.09365244536940687,
          0.09261186264308012,
          0.08949011446409989,
          0.08740894901144641,
          0.08324661810613944,
          0.08116545265348596,
          0.07388137356919876,
          0.07075962539021852,
          0.062434963579604576,
          0.060353798126951096,
          0.05931321540062435,
          0.055150884495317375,
          0.054110301768990635,
          0.04994797086368366,
          0.043704474505723206,
          0.03954214360041623,
          0.03225806451612903,
          0.027055150884495317,
          0.022892819979188347,
          0.02081165452653486,
          0.01664932362122789,
          0.013527575442247659,
          0.012486992715920915,
          0.01040582726326743,
          0.008324661810613945,
          0.004162330905306972,
          0.002081165452653486,
          0.002081165452653486,
          0.001040582726326743,
          0.001040582726326743,
          0.001040582726326743,
          0.001040582726326743,
          0.001040582726326743,
          0.001040582726326743,
          0.001040582726326743,
          0.001040582726326743,
          0.001040582726326743,
          0,
          0,
          0,
          0,
          0,
          0,
          0,
          0,
          0,
          0,
          0,
          0,
          0,
          0,
          0,
          0,
          0,
          0,
          0,
          0,
          0,
          0,
          0,
          0,
          0,
          0,
          0,
          0,
          0,
          0,
          0,
          0,
          0,
          0,
          0,
          0,
          0,
          0,
          0,
          0,
          0,
          0,
          0,
          0,
          0,
          0,
          0,
          0,
          0,
          0,
          0,
          0,
          0,
          0,
          0,
          0,
          0,
          0,
          0,
          0,
          0,
          0,
          0,
          0,
          0,
          0,
          0,
          0,
          0,
          0,
          0,
          0,
          0,
          0,
          0,
          0,
          0,
          0,
          0,
          0,
          0,
          0,
          0,
          0,
          0,
          0,
          0,
          0,
          0,
          0,
          0,
          0,
          0,
          0,
          0,
          0,
          0,
          0,
          0,
          0,
          0,
          0,
          0,
          0,
          0,
          0,
          0,
          0,
          0,
          0,
          0,
          0,
          0,
          0,
          0,
          0,
          0,
          0,
          0,
          0,
          0,
          0,
          0,
          0,
          0,
          0,
          0,
          0,
          0,
          0,
          0,
          0,
          0
         ],
         "y": [
          0.04805,
          0.04805,
          0.04805,
          0.04805,
          0.04805,
          0.04805,
          0.055497446625238415,
          0.06172297791428989,
          0.07206693287697281,
          0.08028152212811643,
          0.09370494954348871,
          0.10727496917385944,
          0.12173458725182863,
          0.13824728260869565,
          0.1588001764446405,
          0.189920098340504,
          0.21728187919463088,
          0.2420042643923241,
          0.26164383561643834,
          0.2736,
          0.27911275415896486,
          0.2978723404255319,
          0.31971153846153844,
          0.3405994550408719,
          0.3502994011976048,
          0.36363636363636365,
          0.37809187279151946,
          0.39080459770114945,
          0.4100418410041841,
          0.42342342342342343,
          0.45,
          0.47593582887700536,
          0.4942528735632184,
          0.5153374233128835,
          0.5161290322580645,
          0.52,
          0.5259259259259259,
          0.5483870967741935,
          0.5504587155963303,
          0.5979381443298969,
          0.6263736263736264,
          0.6385542168674698,
          0.6582278481012658,
          0.7058823529411765,
          0.7,
          0.7916666666666666,
          0.8378378378378378,
          0.8387096774193549,
          0.8461538461538461,
          0.9523809523809523,
          0.9411764705882353,
          0.9285714285714286,
          0.9230769230769231,
          1,
          1,
          1,
          1,
          1,
          1,
          1,
          1,
          1,
          1,
          1,
          1,
          1,
          1,
          null,
          null,
          null,
          null,
          null,
          null,
          null,
          null,
          null,
          null,
          null,
          null,
          null,
          null,
          null,
          null,
          null,
          null,
          null,
          null,
          null,
          null,
          null,
          null,
          null,
          null,
          null,
          null,
          null,
          null,
          null,
          null,
          null,
          null,
          null,
          null,
          null,
          null,
          null,
          null,
          null,
          null,
          null,
          null,
          null,
          null,
          null,
          null,
          null,
          null,
          null,
          null,
          null,
          null,
          null,
          null,
          null,
          null,
          null,
          null,
          null,
          null,
          null,
          null,
          null,
          null,
          null,
          null,
          null,
          null,
          null,
          null,
          null,
          null,
          null,
          null,
          null,
          null,
          null,
          null,
          null,
          null,
          null,
          null,
          null,
          null,
          null,
          null,
          null,
          null,
          null,
          null,
          null,
          null,
          null,
          null,
          null,
          null,
          null,
          null,
          null,
          null,
          null,
          null,
          null,
          null,
          null,
          null,
          null,
          null,
          null,
          null,
          null,
          null,
          null,
          null,
          null,
          null,
          null,
          null,
          null,
          null,
          null,
          null,
          null,
          null,
          null,
          null,
          null,
          null,
          null,
          null,
          null
         ]
        },
        {
         "mode": "lines",
         "name": "m5",
         "type": "scatter",
         "x": [
          1,
          1,
          0.9937565036420395,
          0.9719042663891779,
          0.9458896982310093,
          0.9053069719042663,
          0.8491155046826223,
          0.7866805411030177,
          0.7398543184183143,
          0.6992715920915713,
          0.6586888657648283,
          0.6045785639958376,
          0.5504682622268471,
          0.5109261186264308,
          0.4724245577523413,
          0.4266389177939646,
          0.3881373569198751,
          0.3548387096774194,
          0.31633714880332986,
          0.2924037460978148,
          0.26742976066597296,
          0.25286160249739853,
          0.2278876170655567,
          0.21227887617065558,
          0.19562955254942768,
          0.18522372528616024,
          0.17273673257023933,
          0.16024973985431842,
          0.14776274713839752,
          0.13735691987513007,
          0.13111342351716962,
          0.12382934443288242,
          0.11654526534859522,
          0.11030176899063475,
          0.10301768990634755,
          0.0967741935483871,
          0.09053069719042664,
          0.08740894901144641,
          0.08116545265348596,
          0.07492195629552549,
          0.07284079084287201,
          0.07180020811654526,
          0.06867845993756504,
          0.062434963579604576,
          0.062434963579604576,
          0.060353798126951096,
          0.05723204994797086,
          0.053069719042663895,
          0.04994797086368366,
          0.047866805411030174,
          0.04266389177939646,
          0.03537981269510926,
          0.029136316337148804,
          0.021852237252861603,
          0.01664932362122789,
          0.015608740894901144,
          0.014568158168574402,
          0.009365244536940686,
          0.009365244536940686,
          0.006243496357960458,
          0.005202913631633715,
          0.004162330905306972,
          0.004162330905306972,
          0.004162330905306972,
          0.004162330905306972,
          0.002081165452653486,
          0.001040582726326743,
          0,
          0,
          0,
          0,
          0,
          0,
          0,
          0,
          0,
          0,
          0,
          0,
          0,
          0,
          0,
          0,
          0,
          0,
          0,
          0,
          0,
          0,
          0,
          0,
          0,
          0,
          0,
          0,
          0,
          0,
          0,
          0,
          0,
          0,
          0,
          0,
          0,
          0,
          0,
          0,
          0,
          0,
          0,
          0,
          0,
          0,
          0,
          0,
          0,
          0,
          0,
          0,
          0,
          0,
          0,
          0,
          0,
          0,
          0,
          0,
          0,
          0,
          0,
          0,
          0,
          0,
          0,
          0,
          0,
          0,
          0,
          0,
          0,
          0,
          0,
          0,
          0,
          0,
          0,
          0,
          0,
          0,
          0,
          0,
          0,
          0,
          0,
          0,
          0,
          0,
          0,
          0,
          0,
          0,
          0,
          0,
          0,
          0,
          0,
          0,
          0,
          0,
          0,
          0,
          0,
          0,
          0,
          0,
          0,
          0,
          0,
          0,
          0,
          0,
          0,
          0,
          0,
          0,
          0,
          0,
          0,
          0,
          0,
          0,
          0,
          0,
          0,
          0,
          0,
          0,
          0,
          0,
          0
         ],
         "y": [
          0.04805,
          0.048129413532328344,
          0.04963617463617464,
          0.052750480063255396,
          0.05729593444689568,
          0.0619437522249911,
          0.06593939393939394,
          0.0700259355316784,
          0.07539766702014847,
          0.08185140073081608,
          0.08889200954922062,
          0.09485714285714286,
          0.10103132161955691,
          0.10894164632793432,
          0.11644011284944858,
          0.12094395280235988,
          0.1264835537470329,
          0.1334637964774951,
          0.13687528140477262,
          0.1455958549222798,
          0.15243179122182682,
          0.16330645161290322,
          0.16885119506553586,
          0.17723718505647262,
          0.1844946025515211,
          0.19799777530589543,
          0.20468557336621454,
          0.21182943603851445,
          0.21482602118003025,
          0.22719449225473323,
          0.2418426103646833,
          0.2553648068669528,
          0.2692307692307692,
          0.2753246753246753,
          0.28448275862068967,
          0.2888198757763975,
          0.30742049469964666,
          0.328125,
          0.3333333333333333,
          0.3364485981308411,
          0.35,
          0.3670212765957447,
          0.3815028901734104,
          0.3870967741935484,
          0.41379310344827586,
          0.4172661870503597,
          0.4263565891472868,
          0.4396551724137931,
          0.47058823529411764,
          0.5227272727272727,
          0.5256410256410257,
          0.4927536231884058,
          0.4745762711864407,
          0.4375,
          0.42105263157894735,
          0.4411764705882353,
          0.4375,
          0.34615384615384615,
          0.47368421052631576,
          0.4,
          0.45454545454545453,
          0.4444444444444444,
          0.5,
          0.5714285714285714,
          0.5714285714285714,
          0.5,
          0.5,
          0,
          0,
          0,
          0,
          0,
          null,
          null,
          null,
          null,
          null,
          null,
          null,
          null,
          null,
          null,
          null,
          null,
          null,
          null,
          null,
          null,
          null,
          null,
          null,
          null,
          null,
          null,
          null,
          null,
          null,
          null,
          null,
          null,
          null,
          null,
          null,
          null,
          null,
          null,
          null,
          null,
          null,
          null,
          null,
          null,
          null,
          null,
          null,
          null,
          null,
          null,
          null,
          null,
          null,
          null,
          null,
          null,
          null,
          null,
          null,
          null,
          null,
          null,
          null,
          null,
          null,
          null,
          null,
          null,
          null,
          null,
          null,
          null,
          null,
          null,
          null,
          null,
          null,
          null,
          null,
          null,
          null,
          null,
          null,
          null,
          null,
          null,
          null,
          null,
          null,
          null,
          null,
          null,
          null,
          null,
          null,
          null,
          null,
          null,
          null,
          null,
          null,
          null,
          null,
          null,
          null,
          null,
          null,
          null,
          null,
          null,
          null,
          null,
          null,
          null,
          null,
          null,
          null,
          null,
          null,
          null,
          null,
          null,
          null,
          null,
          null,
          null,
          null,
          null,
          null,
          null,
          null,
          null
         ]
        }
       ],
       "layout": {
        "height": 500,
        "shapes": [
         {
          "line": {
           "dash": "dash"
          },
          "type": "line",
          "x0": 0,
          "x1": 1,
          "y0": 1,
          "y1": 0
         }
        ],
        "template": {
         "data": {
          "bar": [
           {
            "error_x": {
             "color": "#2a3f5f"
            },
            "error_y": {
             "color": "#2a3f5f"
            },
            "marker": {
             "line": {
              "color": "#E5ECF6",
              "width": 0.5
             },
             "pattern": {
              "fillmode": "overlay",
              "size": 10,
              "solidity": 0.2
             }
            },
            "type": "bar"
           }
          ],
          "barpolar": [
           {
            "marker": {
             "line": {
              "color": "#E5ECF6",
              "width": 0.5
             },
             "pattern": {
              "fillmode": "overlay",
              "size": 10,
              "solidity": 0.2
             }
            },
            "type": "barpolar"
           }
          ],
          "carpet": [
           {
            "aaxis": {
             "endlinecolor": "#2a3f5f",
             "gridcolor": "white",
             "linecolor": "white",
             "minorgridcolor": "white",
             "startlinecolor": "#2a3f5f"
            },
            "baxis": {
             "endlinecolor": "#2a3f5f",
             "gridcolor": "white",
             "linecolor": "white",
             "minorgridcolor": "white",
             "startlinecolor": "#2a3f5f"
            },
            "type": "carpet"
           }
          ],
          "choropleth": [
           {
            "colorbar": {
             "outlinewidth": 0,
             "ticks": ""
            },
            "type": "choropleth"
           }
          ],
          "contour": [
           {
            "colorbar": {
             "outlinewidth": 0,
             "ticks": ""
            },
            "colorscale": [
             [
              0,
              "#0d0887"
             ],
             [
              0.1111111111111111,
              "#46039f"
             ],
             [
              0.2222222222222222,
              "#7201a8"
             ],
             [
              0.3333333333333333,
              "#9c179e"
             ],
             [
              0.4444444444444444,
              "#bd3786"
             ],
             [
              0.5555555555555556,
              "#d8576b"
             ],
             [
              0.6666666666666666,
              "#ed7953"
             ],
             [
              0.7777777777777778,
              "#fb9f3a"
             ],
             [
              0.8888888888888888,
              "#fdca26"
             ],
             [
              1,
              "#f0f921"
             ]
            ],
            "type": "contour"
           }
          ],
          "contourcarpet": [
           {
            "colorbar": {
             "outlinewidth": 0,
             "ticks": ""
            },
            "type": "contourcarpet"
           }
          ],
          "heatmap": [
           {
            "colorbar": {
             "outlinewidth": 0,
             "ticks": ""
            },
            "colorscale": [
             [
              0,
              "#0d0887"
             ],
             [
              0.1111111111111111,
              "#46039f"
             ],
             [
              0.2222222222222222,
              "#7201a8"
             ],
             [
              0.3333333333333333,
              "#9c179e"
             ],
             [
              0.4444444444444444,
              "#bd3786"
             ],
             [
              0.5555555555555556,
              "#d8576b"
             ],
             [
              0.6666666666666666,
              "#ed7953"
             ],
             [
              0.7777777777777778,
              "#fb9f3a"
             ],
             [
              0.8888888888888888,
              "#fdca26"
             ],
             [
              1,
              "#f0f921"
             ]
            ],
            "type": "heatmap"
           }
          ],
          "heatmapgl": [
           {
            "colorbar": {
             "outlinewidth": 0,
             "ticks": ""
            },
            "colorscale": [
             [
              0,
              "#0d0887"
             ],
             [
              0.1111111111111111,
              "#46039f"
             ],
             [
              0.2222222222222222,
              "#7201a8"
             ],
             [
              0.3333333333333333,
              "#9c179e"
             ],
             [
              0.4444444444444444,
              "#bd3786"
             ],
             [
              0.5555555555555556,
              "#d8576b"
             ],
             [
              0.6666666666666666,
              "#ed7953"
             ],
             [
              0.7777777777777778,
              "#fb9f3a"
             ],
             [
              0.8888888888888888,
              "#fdca26"
             ],
             [
              1,
              "#f0f921"
             ]
            ],
            "type": "heatmapgl"
           }
          ],
          "histogram": [
           {
            "marker": {
             "pattern": {
              "fillmode": "overlay",
              "size": 10,
              "solidity": 0.2
             }
            },
            "type": "histogram"
           }
          ],
          "histogram2d": [
           {
            "colorbar": {
             "outlinewidth": 0,
             "ticks": ""
            },
            "colorscale": [
             [
              0,
              "#0d0887"
             ],
             [
              0.1111111111111111,
              "#46039f"
             ],
             [
              0.2222222222222222,
              "#7201a8"
             ],
             [
              0.3333333333333333,
              "#9c179e"
             ],
             [
              0.4444444444444444,
              "#bd3786"
             ],
             [
              0.5555555555555556,
              "#d8576b"
             ],
             [
              0.6666666666666666,
              "#ed7953"
             ],
             [
              0.7777777777777778,
              "#fb9f3a"
             ],
             [
              0.8888888888888888,
              "#fdca26"
             ],
             [
              1,
              "#f0f921"
             ]
            ],
            "type": "histogram2d"
           }
          ],
          "histogram2dcontour": [
           {
            "colorbar": {
             "outlinewidth": 0,
             "ticks": ""
            },
            "colorscale": [
             [
              0,
              "#0d0887"
             ],
             [
              0.1111111111111111,
              "#46039f"
             ],
             [
              0.2222222222222222,
              "#7201a8"
             ],
             [
              0.3333333333333333,
              "#9c179e"
             ],
             [
              0.4444444444444444,
              "#bd3786"
             ],
             [
              0.5555555555555556,
              "#d8576b"
             ],
             [
              0.6666666666666666,
              "#ed7953"
             ],
             [
              0.7777777777777778,
              "#fb9f3a"
             ],
             [
              0.8888888888888888,
              "#fdca26"
             ],
             [
              1,
              "#f0f921"
             ]
            ],
            "type": "histogram2dcontour"
           }
          ],
          "mesh3d": [
           {
            "colorbar": {
             "outlinewidth": 0,
             "ticks": ""
            },
            "type": "mesh3d"
           }
          ],
          "parcoords": [
           {
            "line": {
             "colorbar": {
              "outlinewidth": 0,
              "ticks": ""
             }
            },
            "type": "parcoords"
           }
          ],
          "pie": [
           {
            "automargin": true,
            "type": "pie"
           }
          ],
          "scatter": [
           {
            "fillpattern": {
             "fillmode": "overlay",
             "size": 10,
             "solidity": 0.2
            },
            "type": "scatter"
           }
          ],
          "scatter3d": [
           {
            "line": {
             "colorbar": {
              "outlinewidth": 0,
              "ticks": ""
             }
            },
            "marker": {
             "colorbar": {
              "outlinewidth": 0,
              "ticks": ""
             }
            },
            "type": "scatter3d"
           }
          ],
          "scattercarpet": [
           {
            "marker": {
             "colorbar": {
              "outlinewidth": 0,
              "ticks": ""
             }
            },
            "type": "scattercarpet"
           }
          ],
          "scattergeo": [
           {
            "marker": {
             "colorbar": {
              "outlinewidth": 0,
              "ticks": ""
             }
            },
            "type": "scattergeo"
           }
          ],
          "scattergl": [
           {
            "marker": {
             "colorbar": {
              "outlinewidth": 0,
              "ticks": ""
             }
            },
            "type": "scattergl"
           }
          ],
          "scattermapbox": [
           {
            "marker": {
             "colorbar": {
              "outlinewidth": 0,
              "ticks": ""
             }
            },
            "type": "scattermapbox"
           }
          ],
          "scatterpolar": [
           {
            "marker": {
             "colorbar": {
              "outlinewidth": 0,
              "ticks": ""
             }
            },
            "type": "scatterpolar"
           }
          ],
          "scatterpolargl": [
           {
            "marker": {
             "colorbar": {
              "outlinewidth": 0,
              "ticks": ""
             }
            },
            "type": "scatterpolargl"
           }
          ],
          "scatterternary": [
           {
            "marker": {
             "colorbar": {
              "outlinewidth": 0,
              "ticks": ""
             }
            },
            "type": "scatterternary"
           }
          ],
          "surface": [
           {
            "colorbar": {
             "outlinewidth": 0,
             "ticks": ""
            },
            "colorscale": [
             [
              0,
              "#0d0887"
             ],
             [
              0.1111111111111111,
              "#46039f"
             ],
             [
              0.2222222222222222,
              "#7201a8"
             ],
             [
              0.3333333333333333,
              "#9c179e"
             ],
             [
              0.4444444444444444,
              "#bd3786"
             ],
             [
              0.5555555555555556,
              "#d8576b"
             ],
             [
              0.6666666666666666,
              "#ed7953"
             ],
             [
              0.7777777777777778,
              "#fb9f3a"
             ],
             [
              0.8888888888888888,
              "#fdca26"
             ],
             [
              1,
              "#f0f921"
             ]
            ],
            "type": "surface"
           }
          ],
          "table": [
           {
            "cells": {
             "fill": {
              "color": "#EBF0F8"
             },
             "line": {
              "color": "white"
             }
            },
            "header": {
             "fill": {
              "color": "#C8D4E3"
             },
             "line": {
              "color": "white"
             }
            },
            "type": "table"
           }
          ]
         },
         "layout": {
          "annotationdefaults": {
           "arrowcolor": "#2a3f5f",
           "arrowhead": 0,
           "arrowwidth": 1
          },
          "autotypenumbers": "strict",
          "coloraxis": {
           "colorbar": {
            "outlinewidth": 0,
            "ticks": ""
           }
          },
          "colorscale": {
           "diverging": [
            [
             0,
             "#8e0152"
            ],
            [
             0.1,
             "#c51b7d"
            ],
            [
             0.2,
             "#de77ae"
            ],
            [
             0.3,
             "#f1b6da"
            ],
            [
             0.4,
             "#fde0ef"
            ],
            [
             0.5,
             "#f7f7f7"
            ],
            [
             0.6,
             "#e6f5d0"
            ],
            [
             0.7,
             "#b8e186"
            ],
            [
             0.8,
             "#7fbc41"
            ],
            [
             0.9,
             "#4d9221"
            ],
            [
             1,
             "#276419"
            ]
           ],
           "sequential": [
            [
             0,
             "#0d0887"
            ],
            [
             0.1111111111111111,
             "#46039f"
            ],
            [
             0.2222222222222222,
             "#7201a8"
            ],
            [
             0.3333333333333333,
             "#9c179e"
            ],
            [
             0.4444444444444444,
             "#bd3786"
            ],
            [
             0.5555555555555556,
             "#d8576b"
            ],
            [
             0.6666666666666666,
             "#ed7953"
            ],
            [
             0.7777777777777778,
             "#fb9f3a"
            ],
            [
             0.8888888888888888,
             "#fdca26"
            ],
            [
             1,
             "#f0f921"
            ]
           ],
           "sequentialminus": [
            [
             0,
             "#0d0887"
            ],
            [
             0.1111111111111111,
             "#46039f"
            ],
            [
             0.2222222222222222,
             "#7201a8"
            ],
            [
             0.3333333333333333,
             "#9c179e"
            ],
            [
             0.4444444444444444,
             "#bd3786"
            ],
            [
             0.5555555555555556,
             "#d8576b"
            ],
            [
             0.6666666666666666,
             "#ed7953"
            ],
            [
             0.7777777777777778,
             "#fb9f3a"
            ],
            [
             0.8888888888888888,
             "#fdca26"
            ],
            [
             1,
             "#f0f921"
            ]
           ]
          },
          "colorway": [
           "#636efa",
           "#EF553B",
           "#00cc96",
           "#ab63fa",
           "#FFA15A",
           "#19d3f3",
           "#FF6692",
           "#B6E880",
           "#FF97FF",
           "#FECB52"
          ],
          "font": {
           "color": "#2a3f5f"
          },
          "geo": {
           "bgcolor": "white",
           "lakecolor": "white",
           "landcolor": "#E5ECF6",
           "showlakes": true,
           "showland": true,
           "subunitcolor": "white"
          },
          "hoverlabel": {
           "align": "left"
          },
          "hovermode": "closest",
          "mapbox": {
           "style": "light"
          },
          "paper_bgcolor": "white",
          "plot_bgcolor": "#E5ECF6",
          "polar": {
           "angularaxis": {
            "gridcolor": "white",
            "linecolor": "white",
            "ticks": ""
           },
           "bgcolor": "#E5ECF6",
           "radialaxis": {
            "gridcolor": "white",
            "linecolor": "white",
            "ticks": ""
           }
          },
          "scene": {
           "xaxis": {
            "backgroundcolor": "#E5ECF6",
            "gridcolor": "white",
            "gridwidth": 2,
            "linecolor": "white",
            "showbackground": true,
            "ticks": "",
            "zerolinecolor": "white"
           },
           "yaxis": {
            "backgroundcolor": "#E5ECF6",
            "gridcolor": "white",
            "gridwidth": 2,
            "linecolor": "white",
            "showbackground": true,
            "ticks": "",
            "zerolinecolor": "white"
           },
           "zaxis": {
            "backgroundcolor": "#E5ECF6",
            "gridcolor": "white",
            "gridwidth": 2,
            "linecolor": "white",
            "showbackground": true,
            "ticks": "",
            "zerolinecolor": "white"
           }
          },
          "shapedefaults": {
           "line": {
            "color": "#2a3f5f"
           }
          },
          "ternary": {
           "aaxis": {
            "gridcolor": "white",
            "linecolor": "white",
            "ticks": ""
           },
           "baxis": {
            "gridcolor": "white",
            "linecolor": "white",
            "ticks": ""
           },
           "bgcolor": "#E5ECF6",
           "caxis": {
            "gridcolor": "white",
            "linecolor": "white",
            "ticks": ""
           }
          },
          "title": {
           "x": 0.05
          },
          "xaxis": {
           "automargin": true,
           "gridcolor": "white",
           "linecolor": "white",
           "ticks": "",
           "title": {
            "standoff": 15
           },
           "zerolinecolor": "white",
           "zerolinewidth": 2
          },
          "yaxis": {
           "automargin": true,
           "gridcolor": "white",
           "linecolor": "white",
           "ticks": "",
           "title": {
            "standoff": 15
           },
           "zerolinecolor": "white",
           "zerolinewidth": 2
          }
         }
        },
        "title": {
         "text": "Precision vs Recall"
        },
        "width": 500,
        "xaxis": {
         "autorange": true,
         "constrain": "domain",
         "domain": [
          0.06586826347305386,
          0.9341317365269461
         ],
         "range": [
          -0.003472222222222223,
          1.0034722222222223
         ],
         "title": {
          "text": "Recall"
         },
         "type": "linear"
        },
        "yaxis": {
         "autorange": true,
         "domain": [
          0,
          1
         ],
         "range": [
          -0.05555555555555555,
          1.0555555555555556
         ],
         "scaleanchor": "x",
         "scaleratio": 1,
         "title": {
          "text": "Precision"
         },
         "type": "linear"
        }
       }
      },
      "image/png": "[encoded data removed]",
      "text/html": [
       "<div>                            <div id=\"d0e85591-69f4-49ea-a21b-d3014b000656\" class=\"plotly-graph-div\" style=\"height:500px; width:500px;\"></div>            <script type=\"text/javascript\">                require([\"plotly\"], function(Plotly) {                    window.PLOTLYENV=window.PLOTLYENV || {};                                    if (document.getElementById(\"d0e85591-69f4-49ea-a21b-d3014b000656\")) {                    Plotly.newPlot(                        \"d0e85591-69f4-49ea-a21b-d3014b000656\",                        [{\"mode\":\"lines\",\"name\":\"m1\",\"x\":[1.0,1.0,0.9854318418314256,0.9573361082206036,0.9105098855359001,0.8688865764828304,0.8064516129032258,0.7669094693028096,0.7211238293444329,0.6805411030176899,0.6420395421436004,0.6087408949011447,0.5733610822060354,0.54630593132154,0.5254942767950052,0.4921956295525494,0.4713839750260146,0.43912591050988553,0.41519250780437045,0.3964620187304891,0.37877211238293446,0.3610822060353798,0.3465140478668054,0.33714880332986474,0.3225806451612903,0.30801248699271594,0.2903225806451613,0.2767950052029136,0.2643080124869927,0.25494276795005205,0.24349635796045785,0.22892819979188345,0.21956295525494277,0.21436004162330904,0.20915712799167535,0.20187304890738814,0.19562955254942768,0.18730489073881373,0.17898022892819979,0.1716961498439126,0.16129032258064516,0.1571279916753382,0.15192507804370448,0.14464099895941726,0.14151925078043703,0.13423517169614985,0.1279916753381894,0.12382934443288242,0.11654526534859522,0.11550468262226847,0.11238293444328824,0.10926118626430802,0.1040582726326743,0.10093652445369407,0.09781477627471384,0.09365244536940687,0.09157127991675339,0.09053069719042664,0.08949011446409989,0.08844953173777315,0.08532778355879292,0.08012486992715921,0.07492195629552549,0.07180020811654526,0.06867845993756504,0.06347554630593132,0.062434963579604576,0.061394380853277836,0.060353798126951096,0.05931321540062435,0.05619146722164412,0.05202913631633715,0.05098855359001041,0.04994797086368366,0.04890738813735692,0.046826222684703434,0.046826222684703434,0.044745057232049947,0.043704474505723206,0.03954214360041623,0.03954214360041623,0.03850156087408949,0.03850156087408949,0.036420395421436005,0.03433922996878252,0.030176899063475548,0.02809573361082206,0.027055150884495317,0.027055150884495317,0.026014568158168574,0.02497398543184183,0.02497398543184183,0.023933402705515087,0.02081165452653486,0.02081165452653486,0.018730489073881373,0.01768990634755463,0.01664932362122789,0.015608740894901144,0.015608740894901144,0.013527575442247659,0.013527575442247659,0.013527575442247659,0.013527575442247659,0.011446409989594173,0.011446409989594173,0.011446409989594173,0.01040582726326743,0.01040582726326743,0.01040582726326743,0.009365244536940686,0.008324661810613945,0.008324661810613945,0.008324661810613945,0.008324661810613945,0.008324661810613945,0.007284079084287201,0.006243496357960458,0.004162330905306972,0.004162330905306972,0.004162330905306972,0.004162330905306972,0.004162330905306972,0.003121748178980229,0.003121748178980229,0.003121748178980229,0.002081165452653486,0.002081165452653486,0.002081165452653486,0.001040582726326743,0.0,0.0,0.0,0.0,0.0,0.0,0.0,0.0,0.0,0.0,0.0,0.0,0.0,0.0,0.0,0.0,0.0,0.0,0.0,0.0,0.0,0.0,0.0,0.0,0.0,0.0,0.0,0.0,0.0,0.0,0.0,0.0,0.0,0.0,0.0,0.0,0.0,0.0,0.0,0.0,0.0,0.0,0.0,0.0,0.0,0.0,0.0,0.0,0.0,0.0,0.0,0.0,0.0,0.0,0.0,0.0,0.0,0.0,0.0,0.0,0.0,0.0,0.0,0.0,0.0,0.0,0.0,0.0,0.0,0.0],\"y\":[0.04805,0.048177670827693385,0.05120302784536361,0.05686383583657828,0.06252679719879949,0.07015038225657397,0.07661888284725656,0.0855882011380792,0.09264705882352942,0.10091035334053387,0.10835967685282753,0.11697660467906419,0.1246606334841629,0.1331473497337053,0.14229360383206538,0.14902331442974165,0.16012725344644752,0.1665351223362273,0.17492327926348092,0.1828214971209213,0.1920844327176781,0.20363849765258216,0.21332479180012812,0.22391154111955772,0.2318623784592371,0.23736968724939855,0.24072476272648835,0.24314442413162707,0.25,0.2538860103626943,0.25686059275521406,0.25791324736225085,0.2630922693266833,0.2706964520367937,0.2795549374130737,0.28075253256150506,0.2852807283763278,0.28708133971291866,0.2895622895622896,0.2920353982300885,0.2902621722846442,0.297244094488189,0.2985685071574642,0.2995689655172414,0.3112128146453089,0.31234866828087166,0.31297709923664124,0.31648936170212766,0.3137254901960784,0.31988472622478387,0.32238805970149254,0.32608695652173914,0.32679738562091504,0.3321917808219178,0.3321554770318021,0.32967032967032966,0.3308270676691729,0.3411764705882353,0.3453815261044177,0.34552845528455284,0.3474576271186441,0.3422222222222222,0.3317972350230415,0.32701421800947866,0.3251231527093596,0.3193717277486911,0.3333333333333333,0.3333333333333333,0.3372093023255814,0.33727810650887574,0.33962264150943394,0.3333333333333333,0.34507042253521125,0.34782608695652173,0.36153846153846153,0.36,0.36885245901639346,0.3739130434782609,0.38181818181818183,0.38,0.40425531914893614,0.4065934065934066,0.42528735632183906,0.4268292682926829,0.42857142857142855,0.42028985507246375,0.4153846153846154,0.4262295081967213,0.4482758620689655,0.44642857142857145,0.4444444444444444,0.4528301886792453,0.46938775510204084,0.46511627906976744,0.4878048780487805,0.4864864864864865,0.4857142857142857,0.5333333333333333,0.5172413793103449,0.5172413793103449,0.5,0.52,0.52,0.52,0.5,0.5238095238095238,0.5789473684210527,0.5882352941176471,0.625,0.625,0.6,0.5714285714285714,0.5714285714285714,0.6153846153846154,0.6153846153846154,0.6153846153846154,0.5833333333333334,0.5454545454545454,0.4444444444444444,0.5,0.5,0.5,0.5714285714285714,0.5,0.6,0.6,0.5,0.5,0.5,0.3333333333333333,0.0,0.0,0.0,0.0,0.0,0.0,0.0,0.0,null,null,null,null,null,null,null,null,null,null,null,null,null,null,null,null,null,null,null,null,null,null,null,null,null,null,null,null,null,null,null,null,null,null,null,null,null,null,null,null,null,null,null,null,null,null,null,null,null,null,null,null,null,null,null,null,null,null,null,null,null,null],\"type\":\"scatter\"},{\"mode\":\"lines\",\"name\":\"m2\",\"x\":[1.0,0.9979188345473465,0.9781477627471384,0.9500520291363164,0.9094693028095734,0.8605619146722164,0.8158168574401665,0.7783558792924038,0.7419354838709677,0.700312174817898,0.6576482830385015,0.6243496357960457,0.6045785639958376,0.5827263267429761,0.5535900104058272,0.5359001040582726,0.5067637877211238,0.4755463059313215,0.4599375650364204,0.441207075962539,0.4255983350676379,0.40582726326742974,0.39854318418314255,0.3850156087408949,0.37460978147762747,0.36524453694068676,0.3485952133194589,0.34235171696149846,0.3340270551508845,0.32570239334027057,0.29968782518210196,0.2778355879292404,0.27471383975026015,0.2726326742976067,0.2715920915712799,0.2663891779396462,0.26326742976066597,0.259105098855359,0.2518210197710718,0.24765868886576484,0.24557752341311134,0.2445369406867846,0.2393340270551509,0.23621227887617066,0.23621227887617066,0.23100936524453694,0.22684703433922998,0.22164412070759626,0.21644120707596254,0.21436004162330904,0.2133194588969823,0.21227887617065558,0.21123829344432882,0.2081165452653486,0.20499479708636836,0.20291363163371487,0.20187304890738814,0.1987513007284079,0.19458896982310095,0.1914672216441207,0.18834547346514047,0.18522372528616024,0.18210197710718,0.18002081165452655,0.17898022892819979,0.17481789802289283,0.1696149843912591,0.16857440166493237,0.16441207075962538,0.16024973985431842,0.15816857440166493,0.15608740894901144,0.1550468262226847,0.14984391259105098,0.14776274713839752,0.14568158168574402,0.14568158168574402,0.14464099895941726,0.13735691987513007,0.13423517169614985,0.12903225806451613,0.12903225806451613,0.1259105098855359,0.12278876170655567,0.1186264308012487,0.11550468262226847,0.1113423517169615,0.0,0.0,0.0,0.0,0.0,0.0,0.0,0.0,0.0,0.0,0.0,0.0,0.0,0.0,0.0,0.0,0.0,0.0,0.0,0.0,0.0,0.0,0.0,0.0,0.0,0.0,0.0,0.0,0.0,0.0,0.0,0.0,0.0,0.0,0.0,0.0,0.0,0.0,0.0,0.0,0.0,0.0,0.0,0.0,0.0,0.0,0.0,0.0,0.0,0.0,0.0,0.0,0.0,0.0,0.0,0.0,0.0,0.0,0.0,0.0,0.0,0.0,0.0,0.0,0.0,0.0,0.0,0.0,0.0,0.0,0.0,0.0,0.0,0.0,0.0,0.0,0.0,0.0,0.0,0.0,0.0,0.0,0.0,0.0,0.0,0.0,0.0,0.0,0.0,0.0,0.0,0.0,0.0,0.0,0.0,0.0,0.0,0.0,0.0,0.0,0.0,0.0,0.0,0.0,0.0,0.0,0.0,0.0,0.0,0.0,0.0,0.0,0.0],\"y\":[0.04805,0.04992451455047113,0.054660696633133686,0.061180727735709976,0.06821729628473307,0.07542867566581539,0.08386820710312366,0.09340659340659341,0.10233960097602986,0.11153463705667882,0.11965164710336994,0.129366106080207,0.14292742927429275,0.15581524763494714,0.16501240694789082,0.1780774550484094,0.188394584139265,0.1973229706390328,0.20663861617578308,0.2145748987854251,0.22084233261339092,0.22634939059779455,0.23353658536585367,0.23824855119124275,0.2452316076294278,0.25017818959372773,0.25321239606953894,0.2623604465709729,0.2679465776293823,0.2757709251101322,0.2804284323271665,0.29053318824809576,0.29497206703910617,0.30184331797235026,0.3096085409252669,0.3148831488314883,0.320253164556962,0.32506527415143605,0.330150068212824,0.33473980309423346,0.34502923976608185,0.35179640718562877,0.35276073619631904,0.35524256651017216,0.364951768488746,0.3712374581939799,0.3707482993197279,0.3717277486910995,0.37209302325581395,0.3759124087591241,0.3817504655493482,0.38636363636363635,0.3918918918918919,0.3937007874015748,0.3963782696177062,0.4020618556701031,0.4118895966029724,0.4179431072210066,0.41834451901565994,0.4200913242009132,0.42093023255813955,0.42280285035629456,0.4227053140096618,0.4314214463840399,0.4332493702770781,0.4296675191815857,0.42894736842105263,0.43315508021390375,0.4340659340659341,0.43380281690140843,0.4367816091954023,0.43731778425655976,0.44345238095238093,0.44171779141104295,0.4423676012461059,0.4444444444444444,0.44871794871794873,0.4527687296416938,0.44,0.4387755102040816,0.43205574912891986,0.43508771929824563,0.4352517985611511,0.43866171003717475,0.4367816091954023,0.44047619047619047,0.4385245901639344,null,null,null,null,null,null,null,null,null,null,null,null,null,null,null,null,null,null,null,null,null,null,null,null,null,null,null,null,null,null,null,null,null,null,null,null,null,null,null,null,null,null,null,null,null,null,null,null,null,null,null,null,null,null,null,null,null,null,null,null,null,null,null,null,null,null,null,null,null,null,null,null,null,null,null,null,null,null,null,null,null,null,null,null,null,null,null,null,null,null,null,null,null,null,null,null,null,null,null,null,null,null,null,null,null,null,null,null,null,null,null,null,null],\"type\":\"scatter\"},{\"mode\":\"lines\",\"name\":\"m3\",\"x\":[1.0,1.0,0.9937565036420395,0.9729448491155047,0.9396462018730489,0.8938605619146722,0.8470343392299687,0.7950052029136316,0.7502601456815817,0.708636836628512,0.6659729448491155,0.627471383975026,0.5972944849115505,0.5639958376690947,0.5327783558792925,0.5005202913631633,0.47346514047866806,0.4474505723204995,0.4162330905306972,0.3870967741935484,0.37148803329864727,0.34963579604578565,0.3309053069719043,0.3152965660770031,0.29968782518210196,0.2892819979188345,0.27887617065556713,0.259105098855359,0.23621227887617066,0.2206035379812695,0.2008324661810614,0.1914672216441207,0.1768990634755463,0.16649323621227888,0.15608740894901144,0.15088449531737774,0.14568158168574402,0.14151925078043703,0.12903225806451613,0.1259105098855359,0.12278876170655567,0.11446409989594172,0.1040582726326743,0.09885535900104059,0.08844953173777315,0.08532778355879292,0.08428720083246619,0.08116545265348596,0.07492195629552549,0.07075962539021852,0.06555671175858481,0.060353798126951096,0.05202913631633715,0.05202913631633715,0.05202913631633715,0.04890738813735692,0.04890738813735692,0.047866805411030174,0.047866805411030174,0.047866805411030174,0.045785639958376693,0.04162330905306972,0.04058272632674298,0.03850156087408949,0.036420395421436005,0.03225806451612903,0.03225806451612903,0.03225806451612903,0.029136316337148804,0.026014568158168574,0.023933402705515087,0.02081165452653486,0.019771071800208116,0.019771071800208116,0.019771071800208116,0.018730489073881373,0.01664932362122789,0.015608740894901144,0.014568158168574402,0.013527575442247659,0.012486992715920915,0.012486992715920915,0.011446409989594173,0.01040582726326743,0.01040582726326743,0.01040582726326743,0.01040582726326743,0.01040582726326743,0.01040582726326743,0.01040582726326743,0.01040582726326743,0.01040582726326743,0.008324661810613945,0.008324661810613945,0.008324661810613945,0.006243496357960458,0.005202913631633715,0.004162330905306972,0.004162330905306972,0.004162330905306972,0.003121748178980229,0.002081165452653486,0.001040582726326743,0.0,0.0,0.0,0.0,0.0,0.0,0.0,0.0,0.0,0.0,0.0,0.0,0.0,0.0,0.0,0.0,0.0,0.0,0.0,0.0,0.0,0.0,0.0,0.0,0.0,0.0,0.0,0.0,0.0,0.0,0.0,0.0,0.0,0.0,0.0,0.0,0.0,0.0,0.0,0.0,0.0,0.0,0.0,0.0,0.0,0.0,0.0,0.0,0.0,0.0,0.0,0.0,0.0,0.0,0.0,0.0,0.0,0.0,0.0,0.0,0.0,0.0,0.0,0.0,0.0,0.0,0.0,0.0,0.0,0.0,0.0,0.0,0.0,0.0,0.0,0.0,0.0,0.0,0.0,0.0,0.0,0.0,0.0,0.0,0.0,0.0,0.0,0.0,0.0,0.0,0.0,0.0,0.0,0.0,0.0,0.0,0.0],\"y\":[0.04805,0.04811013767209011,0.05025522285954849,0.054974129821260584,0.060316612116759066,0.06653756777691712,0.07291293443210319,0.07930247041727216,0.0867211931681501,0.09375,0.10191082802547771,0.10935799782372144,0.11879139072847682,0.1265172735760971,0.13399633603768646,0.14260302401423067,0.15294117647058825,0.16318785578747627,0.16992353440951571,0.176303317535545,0.1880927291886196,0.1958041958041958,0.20743639921722112,0.21956521739130436,0.2298483639265762,0.24428822495606328,0.25499524262607043,0.26293558606124606,0.2618223760092272,0.2676767676767677,0.2691771269177127,0.27586206896551724,0.2814569536423841,0.2831858407079646,0.29069767441860467,0.302713987473904,0.3125,0.32304038004750596,0.31313131313131315,0.32180851063829785,0.3400576368876081,0.3343465045592705,0.32051282051282054,0.3220338983050847,0.32196969696969696,0.3293172690763052,0.3360995850622407,0.34513274336283184,0.3412322274881517,0.3469387755102041,0.3442622950819672,0.3372093023255814,0.3105590062111801,0.3333333333333333,0.3424657534246575,0.34057971014492755,0.35074626865671643,0.35658914728682173,0.3709677419354839,0.3865546218487395,0.4,0.40816326530612246,0.43333333333333335,0.42045454545454547,0.42168674698795183,0.40789473684210525,0.4189189189189189,0.4626865671641791,0.45901639344262296,0.46296296296296297,0.45098039215686275,0.4444444444444444,0.4523809523809524,0.4634146341463415,0.48717948717948717,0.5294117647058824,0.5161290322580645,0.5172413793103449,0.5185185185185185,0.5,0.5,0.5217391304347826,0.5238095238095238,0.5,0.5,0.5,0.5555555555555556,0.5555555555555556,0.625,0.6666666666666666,0.6666666666666666,0.6666666666666666,0.6153846153846154,0.6153846153846154,0.6153846153846154,0.5454545454545454,0.5,0.4444444444444444,0.5,0.5714285714285714,0.5,0.4,0.25,0.0,0.0,0.0,0.0,0.0,0.0,0.0,0.0,0.0,0.0,null,null,null,null,null,null,null,null,null,null,null,null,null,null,null,null,null,null,null,null,null,null,null,null,null,null,null,null,null,null,null,null,null,null,null,null,null,null,null,null,null,null,null,null,null,null,null,null,null,null,null,null,null,null,null,null,null,null,null,null,null,null,null,null,null,null,null,null,null,null,null,null,null,null,null,null,null,null,null,null,null,null,null,null,null,null,null],\"type\":\"scatter\"},{\"mode\":\"lines\",\"name\":\"m4\",\"x\":[1.0,1.0,1.0,1.0,1.0,1.0,0.9386056191467221,0.8782518210197711,0.7887617065556711,0.700312174817898,0.6087408949011447,0.5431841831425598,0.48491155046826223,0.42351716961498437,0.37460978147762747,0.3215400624349636,0.2695109261186264,0.23621227887617066,0.1987513007284079,0.17793964620187305,0.1571279916753382,0.14568158168574402,0.1383975026014568,0.13007284079084286,0.12174817898022892,0.11654526534859522,0.1113423517169615,0.10613943808532779,0.10197710718002082,0.09781477627471384,0.09365244536940687,0.09261186264308012,0.08949011446409989,0.08740894901144641,0.08324661810613944,0.08116545265348596,0.07388137356919876,0.07075962539021852,0.062434963579604576,0.060353798126951096,0.05931321540062435,0.055150884495317375,0.054110301768990635,0.04994797086368366,0.043704474505723206,0.03954214360041623,0.03225806451612903,0.027055150884495317,0.022892819979188347,0.02081165452653486,0.01664932362122789,0.013527575442247659,0.012486992715920915,0.01040582726326743,0.008324661810613945,0.004162330905306972,0.002081165452653486,0.002081165452653486,0.001040582726326743,0.001040582726326743,0.001040582726326743,0.001040582726326743,0.001040582726326743,0.001040582726326743,0.001040582726326743,0.001040582726326743,0.001040582726326743,0.0,0.0,0.0,0.0,0.0,0.0,0.0,0.0,0.0,0.0,0.0,0.0,0.0,0.0,0.0,0.0,0.0,0.0,0.0,0.0,0.0,0.0,0.0,0.0,0.0,0.0,0.0,0.0,0.0,0.0,0.0,0.0,0.0,0.0,0.0,0.0,0.0,0.0,0.0,0.0,0.0,0.0,0.0,0.0,0.0,0.0,0.0,0.0,0.0,0.0,0.0,0.0,0.0,0.0,0.0,0.0,0.0,0.0,0.0,0.0,0.0,0.0,0.0,0.0,0.0,0.0,0.0,0.0,0.0,0.0,0.0,0.0,0.0,0.0,0.0,0.0,0.0,0.0,0.0,0.0,0.0,0.0,0.0,0.0,0.0,0.0,0.0,0.0,0.0,0.0,0.0,0.0,0.0,0.0,0.0,0.0,0.0,0.0,0.0,0.0,0.0,0.0,0.0,0.0,0.0,0.0,0.0,0.0,0.0,0.0,0.0,0.0,0.0,0.0,0.0,0.0,0.0,0.0,0.0,0.0,0.0,0.0,0.0,0.0,0.0,0.0,0.0,0.0,0.0,0.0,0.0,0.0,0.0],\"y\":[0.04805,0.04805,0.04805,0.04805,0.04805,0.04805,0.055497446625238415,0.06172297791428989,0.07206693287697281,0.08028152212811643,0.09370494954348871,0.10727496917385944,0.12173458725182863,0.13824728260869565,0.1588001764446405,0.189920098340504,0.21728187919463088,0.2420042643923241,0.26164383561643834,0.2736,0.27911275415896486,0.2978723404255319,0.31971153846153844,0.3405994550408719,0.3502994011976048,0.36363636363636365,0.37809187279151946,0.39080459770114945,0.4100418410041841,0.42342342342342343,0.45,0.47593582887700536,0.4942528735632184,0.5153374233128835,0.5161290322580645,0.52,0.5259259259259259,0.5483870967741935,0.5504587155963303,0.5979381443298969,0.6263736263736264,0.6385542168674698,0.6582278481012658,0.7058823529411765,0.7,0.7916666666666666,0.8378378378378378,0.8387096774193549,0.8461538461538461,0.9523809523809523,0.9411764705882353,0.9285714285714286,0.9230769230769231,1.0,1.0,1.0,1.0,1.0,1.0,1.0,1.0,1.0,1.0,1.0,1.0,1.0,1.0,null,null,null,null,null,null,null,null,null,null,null,null,null,null,null,null,null,null,null,null,null,null,null,null,null,null,null,null,null,null,null,null,null,null,null,null,null,null,null,null,null,null,null,null,null,null,null,null,null,null,null,null,null,null,null,null,null,null,null,null,null,null,null,null,null,null,null,null,null,null,null,null,null,null,null,null,null,null,null,null,null,null,null,null,null,null,null,null,null,null,null,null,null,null,null,null,null,null,null,null,null,null,null,null,null,null,null,null,null,null,null,null,null,null,null,null,null,null,null,null,null,null,null,null,null,null,null,null,null,null,null,null,null],\"type\":\"scatter\"},{\"mode\":\"lines\",\"name\":\"m5\",\"x\":[1.0,1.0,0.9937565036420395,0.9719042663891779,0.9458896982310093,0.9053069719042663,0.8491155046826223,0.7866805411030177,0.7398543184183143,0.6992715920915713,0.6586888657648283,0.6045785639958376,0.5504682622268471,0.5109261186264308,0.4724245577523413,0.4266389177939646,0.3881373569198751,0.3548387096774194,0.31633714880332986,0.2924037460978148,0.26742976066597296,0.25286160249739853,0.2278876170655567,0.21227887617065558,0.19562955254942768,0.18522372528616024,0.17273673257023933,0.16024973985431842,0.14776274713839752,0.13735691987513007,0.13111342351716962,0.12382934443288242,0.11654526534859522,0.11030176899063475,0.10301768990634755,0.0967741935483871,0.09053069719042664,0.08740894901144641,0.08116545265348596,0.07492195629552549,0.07284079084287201,0.07180020811654526,0.06867845993756504,0.062434963579604576,0.062434963579604576,0.060353798126951096,0.05723204994797086,0.053069719042663895,0.04994797086368366,0.047866805411030174,0.04266389177939646,0.03537981269510926,0.029136316337148804,0.021852237252861603,0.01664932362122789,0.015608740894901144,0.014568158168574402,0.009365244536940686,0.009365244536940686,0.006243496357960458,0.005202913631633715,0.004162330905306972,0.004162330905306972,0.004162330905306972,0.004162330905306972,0.002081165452653486,0.001040582726326743,0.0,0.0,0.0,0.0,0.0,0.0,0.0,0.0,0.0,0.0,0.0,0.0,0.0,0.0,0.0,0.0,0.0,0.0,0.0,0.0,0.0,0.0,0.0,0.0,0.0,0.0,0.0,0.0,0.0,0.0,0.0,0.0,0.0,0.0,0.0,0.0,0.0,0.0,0.0,0.0,0.0,0.0,0.0,0.0,0.0,0.0,0.0,0.0,0.0,0.0,0.0,0.0,0.0,0.0,0.0,0.0,0.0,0.0,0.0,0.0,0.0,0.0,0.0,0.0,0.0,0.0,0.0,0.0,0.0,0.0,0.0,0.0,0.0,0.0,0.0,0.0,0.0,0.0,0.0,0.0,0.0,0.0,0.0,0.0,0.0,0.0,0.0,0.0,0.0,0.0,0.0,0.0,0.0,0.0,0.0,0.0,0.0,0.0,0.0,0.0,0.0,0.0,0.0,0.0,0.0,0.0,0.0,0.0,0.0,0.0,0.0,0.0,0.0,0.0,0.0,0.0,0.0,0.0,0.0,0.0,0.0,0.0,0.0,0.0,0.0,0.0,0.0,0.0,0.0,0.0,0.0,0.0,0.0],\"y\":[0.04805,0.048129413532328344,0.04963617463617464,0.052750480063255396,0.05729593444689568,0.0619437522249911,0.06593939393939394,0.0700259355316784,0.07539766702014847,0.08185140073081608,0.08889200954922062,0.09485714285714286,0.10103132161955691,0.10894164632793432,0.11644011284944858,0.12094395280235988,0.1264835537470329,0.1334637964774951,0.13687528140477262,0.1455958549222798,0.15243179122182682,0.16330645161290322,0.16885119506553586,0.17723718505647262,0.1844946025515211,0.19799777530589543,0.20468557336621454,0.21182943603851445,0.21482602118003025,0.22719449225473323,0.2418426103646833,0.2553648068669528,0.2692307692307692,0.2753246753246753,0.28448275862068967,0.2888198757763975,0.30742049469964666,0.328125,0.3333333333333333,0.3364485981308411,0.35,0.3670212765957447,0.3815028901734104,0.3870967741935484,0.41379310344827586,0.4172661870503597,0.4263565891472868,0.4396551724137931,0.47058823529411764,0.5227272727272727,0.5256410256410257,0.4927536231884058,0.4745762711864407,0.4375,0.42105263157894735,0.4411764705882353,0.4375,0.34615384615384615,0.47368421052631576,0.4,0.45454545454545453,0.4444444444444444,0.5,0.5714285714285714,0.5714285714285714,0.5,0.5,0.0,0.0,0.0,0.0,0.0,null,null,null,null,null,null,null,null,null,null,null,null,null,null,null,null,null,null,null,null,null,null,null,null,null,null,null,null,null,null,null,null,null,null,null,null,null,null,null,null,null,null,null,null,null,null,null,null,null,null,null,null,null,null,null,null,null,null,null,null,null,null,null,null,null,null,null,null,null,null,null,null,null,null,null,null,null,null,null,null,null,null,null,null,null,null,null,null,null,null,null,null,null,null,null,null,null,null,null,null,null,null,null,null,null,null,null,null,null,null,null,null,null,null,null,null,null,null,null,null,null,null,null,null,null,null,null,null],\"type\":\"scatter\"}],                        {\"template\":{\"data\":{\"histogram2dcontour\":[{\"type\":\"histogram2dcontour\",\"colorbar\":{\"outlinewidth\":0,\"ticks\":\"\"},\"colorscale\":[[0.0,\"#0d0887\"],[0.1111111111111111,\"#46039f\"],[0.2222222222222222,\"#7201a8\"],[0.3333333333333333,\"#9c179e\"],[0.4444444444444444,\"#bd3786\"],[0.5555555555555556,\"#d8576b\"],[0.6666666666666666,\"#ed7953\"],[0.7777777777777778,\"#fb9f3a\"],[0.8888888888888888,\"#fdca26\"],[1.0,\"#f0f921\"]]}],\"choropleth\":[{\"type\":\"choropleth\",\"colorbar\":{\"outlinewidth\":0,\"ticks\":\"\"}}],\"histogram2d\":[{\"type\":\"histogram2d\",\"colorbar\":{\"outlinewidth\":0,\"ticks\":\"\"},\"colorscale\":[[0.0,\"#0d0887\"],[0.1111111111111111,\"#46039f\"],[0.2222222222222222,\"#7201a8\"],[0.3333333333333333,\"#9c179e\"],[0.4444444444444444,\"#bd3786\"],[0.5555555555555556,\"#d8576b\"],[0.6666666666666666,\"#ed7953\"],[0.7777777777777778,\"#fb9f3a\"],[0.8888888888888888,\"#fdca26\"],[1.0,\"#f0f921\"]]}],\"heatmap\":[{\"type\":\"heatmap\",\"colorbar\":{\"outlinewidth\":0,\"ticks\":\"\"},\"colorscale\":[[0.0,\"#0d0887\"],[0.1111111111111111,\"#46039f\"],[0.2222222222222222,\"#7201a8\"],[0.3333333333333333,\"#9c179e\"],[0.4444444444444444,\"#bd3786\"],[0.5555555555555556,\"#d8576b\"],[0.6666666666666666,\"#ed7953\"],[0.7777777777777778,\"#fb9f3a\"],[0.8888888888888888,\"#fdca26\"],[1.0,\"#f0f921\"]]}],\"heatmapgl\":[{\"type\":\"heatmapgl\",\"colorbar\":{\"outlinewidth\":0,\"ticks\":\"\"},\"colorscale\":[[0.0,\"#0d0887\"],[0.1111111111111111,\"#46039f\"],[0.2222222222222222,\"#7201a8\"],[0.3333333333333333,\"#9c179e\"],[0.4444444444444444,\"#bd3786\"],[0.5555555555555556,\"#d8576b\"],[0.6666666666666666,\"#ed7953\"],[0.7777777777777778,\"#fb9f3a\"],[0.8888888888888888,\"#fdca26\"],[1.0,\"#f0f921\"]]}],\"contourcarpet\":[{\"type\":\"contourcarpet\",\"colorbar\":{\"outlinewidth\":0,\"ticks\":\"\"}}],\"contour\":[{\"type\":\"contour\",\"colorbar\":{\"outlinewidth\":0,\"ticks\":\"\"},\"colorscale\":[[0.0,\"#0d0887\"],[0.1111111111111111,\"#46039f\"],[0.2222222222222222,\"#7201a8\"],[0.3333333333333333,\"#9c179e\"],[0.4444444444444444,\"#bd3786\"],[0.5555555555555556,\"#d8576b\"],[0.6666666666666666,\"#ed7953\"],[0.7777777777777778,\"#fb9f3a\"],[0.8888888888888888,\"#fdca26\"],[1.0,\"#f0f921\"]]}],\"surface\":[{\"type\":\"surface\",\"colorbar\":{\"outlinewidth\":0,\"ticks\":\"\"},\"colorscale\":[[0.0,\"#0d0887\"],[0.1111111111111111,\"#46039f\"],[0.2222222222222222,\"#7201a8\"],[0.3333333333333333,\"#9c179e\"],[0.4444444444444444,\"#bd3786\"],[0.5555555555555556,\"#d8576b\"],[0.6666666666666666,\"#ed7953\"],[0.7777777777777778,\"#fb9f3a\"],[0.8888888888888888,\"#fdca26\"],[1.0,\"#f0f921\"]]}],\"mesh3d\":[{\"type\":\"mesh3d\",\"colorbar\":{\"outlinewidth\":0,\"ticks\":\"\"}}],\"scatter\":[{\"fillpattern\":{\"fillmode\":\"overlay\",\"size\":10,\"solidity\":0.2},\"type\":\"scatter\"}],\"parcoords\":[{\"type\":\"parcoords\",\"line\":{\"colorbar\":{\"outlinewidth\":0,\"ticks\":\"\"}}}],\"scatterpolargl\":[{\"type\":\"scatterpolargl\",\"marker\":{\"colorbar\":{\"outlinewidth\":0,\"ticks\":\"\"}}}],\"bar\":[{\"error_x\":{\"color\":\"#2a3f5f\"},\"error_y\":{\"color\":\"#2a3f5f\"},\"marker\":{\"line\":{\"color\":\"#E5ECF6\",\"width\":0.5},\"pattern\":{\"fillmode\":\"overlay\",\"size\":10,\"solidity\":0.2}},\"type\":\"bar\"}],\"scattergeo\":[{\"type\":\"scattergeo\",\"marker\":{\"colorbar\":{\"outlinewidth\":0,\"ticks\":\"\"}}}],\"scatterpolar\":[{\"type\":\"scatterpolar\",\"marker\":{\"colorbar\":{\"outlinewidth\":0,\"ticks\":\"\"}}}],\"histogram\":[{\"marker\":{\"pattern\":{\"fillmode\":\"overlay\",\"size\":10,\"solidity\":0.2}},\"type\":\"histogram\"}],\"scattergl\":[{\"type\":\"scattergl\",\"marker\":{\"colorbar\":{\"outlinewidth\":0,\"ticks\":\"\"}}}],\"scatter3d\":[{\"type\":\"scatter3d\",\"line\":{\"colorbar\":{\"outlinewidth\":0,\"ticks\":\"\"}},\"marker\":{\"colorbar\":{\"outlinewidth\":0,\"ticks\":\"\"}}}],\"scattermapbox\":[{\"type\":\"scattermapbox\",\"marker\":{\"colorbar\":{\"outlinewidth\":0,\"ticks\":\"\"}}}],\"scatterternary\":[{\"type\":\"scatterternary\",\"marker\":{\"colorbar\":{\"outlinewidth\":0,\"ticks\":\"\"}}}],\"scattercarpet\":[{\"type\":\"scattercarpet\",\"marker\":{\"colorbar\":{\"outlinewidth\":0,\"ticks\":\"\"}}}],\"carpet\":[{\"aaxis\":{\"endlinecolor\":\"#2a3f5f\",\"gridcolor\":\"white\",\"linecolor\":\"white\",\"minorgridcolor\":\"white\",\"startlinecolor\":\"#2a3f5f\"},\"baxis\":{\"endlinecolor\":\"#2a3f5f\",\"gridcolor\":\"white\",\"linecolor\":\"white\",\"minorgridcolor\":\"white\",\"startlinecolor\":\"#2a3f5f\"},\"type\":\"carpet\"}],\"table\":[{\"cells\":{\"fill\":{\"color\":\"#EBF0F8\"},\"line\":{\"color\":\"white\"}},\"header\":{\"fill\":{\"color\":\"#C8D4E3\"},\"line\":{\"color\":\"white\"}},\"type\":\"table\"}],\"barpolar\":[{\"marker\":{\"line\":{\"color\":\"#E5ECF6\",\"width\":0.5},\"pattern\":{\"fillmode\":\"overlay\",\"size\":10,\"solidity\":0.2}},\"type\":\"barpolar\"}],\"pie\":[{\"automargin\":true,\"type\":\"pie\"}]},\"layout\":{\"autotypenumbers\":\"strict\",\"colorway\":[\"#636efa\",\"#EF553B\",\"#00cc96\",\"#ab63fa\",\"#FFA15A\",\"#19d3f3\",\"#FF6692\",\"#B6E880\",\"#FF97FF\",\"#FECB52\"],\"font\":{\"color\":\"#2a3f5f\"},\"hovermode\":\"closest\",\"hoverlabel\":{\"align\":\"left\"},\"paper_bgcolor\":\"white\",\"plot_bgcolor\":\"#E5ECF6\",\"polar\":{\"bgcolor\":\"#E5ECF6\",\"angularaxis\":{\"gridcolor\":\"white\",\"linecolor\":\"white\",\"ticks\":\"\"},\"radialaxis\":{\"gridcolor\":\"white\",\"linecolor\":\"white\",\"ticks\":\"\"}},\"ternary\":{\"bgcolor\":\"#E5ECF6\",\"aaxis\":{\"gridcolor\":\"white\",\"linecolor\":\"white\",\"ticks\":\"\"},\"baxis\":{\"gridcolor\":\"white\",\"linecolor\":\"white\",\"ticks\":\"\"},\"caxis\":{\"gridcolor\":\"white\",\"linecolor\":\"white\",\"ticks\":\"\"}},\"coloraxis\":{\"colorbar\":{\"outlinewidth\":0,\"ticks\":\"\"}},\"colorscale\":{\"sequential\":[[0.0,\"#0d0887\"],[0.1111111111111111,\"#46039f\"],[0.2222222222222222,\"#7201a8\"],[0.3333333333333333,\"#9c179e\"],[0.4444444444444444,\"#bd3786\"],[0.5555555555555556,\"#d8576b\"],[0.6666666666666666,\"#ed7953\"],[0.7777777777777778,\"#fb9f3a\"],[0.8888888888888888,\"#fdca26\"],[1.0,\"#f0f921\"]],\"sequentialminus\":[[0.0,\"#0d0887\"],[0.1111111111111111,\"#46039f\"],[0.2222222222222222,\"#7201a8\"],[0.3333333333333333,\"#9c179e\"],[0.4444444444444444,\"#bd3786\"],[0.5555555555555556,\"#d8576b\"],[0.6666666666666666,\"#ed7953\"],[0.7777777777777778,\"#fb9f3a\"],[0.8888888888888888,\"#fdca26\"],[1.0,\"#f0f921\"]],\"diverging\":[[0,\"#8e0152\"],[0.1,\"#c51b7d\"],[0.2,\"#de77ae\"],[0.3,\"#f1b6da\"],[0.4,\"#fde0ef\"],[0.5,\"#f7f7f7\"],[0.6,\"#e6f5d0\"],[0.7,\"#b8e186\"],[0.8,\"#7fbc41\"],[0.9,\"#4d9221\"],[1,\"#276419\"]]},\"xaxis\":{\"gridcolor\":\"white\",\"linecolor\":\"white\",\"ticks\":\"\",\"title\":{\"standoff\":15},\"zerolinecolor\":\"white\",\"automargin\":true,\"zerolinewidth\":2},\"yaxis\":{\"gridcolor\":\"white\",\"linecolor\":\"white\",\"ticks\":\"\",\"title\":{\"standoff\":15},\"zerolinecolor\":\"white\",\"automargin\":true,\"zerolinewidth\":2},\"scene\":{\"xaxis\":{\"backgroundcolor\":\"#E5ECF6\",\"gridcolor\":\"white\",\"linecolor\":\"white\",\"showbackground\":true,\"ticks\":\"\",\"zerolinecolor\":\"white\",\"gridwidth\":2},\"yaxis\":{\"backgroundcolor\":\"#E5ECF6\",\"gridcolor\":\"white\",\"linecolor\":\"white\",\"showbackground\":true,\"ticks\":\"\",\"zerolinecolor\":\"white\",\"gridwidth\":2},\"zaxis\":{\"backgroundcolor\":\"#E5ECF6\",\"gridcolor\":\"white\",\"linecolor\":\"white\",\"showbackground\":true,\"ticks\":\"\",\"zerolinecolor\":\"white\",\"gridwidth\":2}},\"shapedefaults\":{\"line\":{\"color\":\"#2a3f5f\"}},\"annotationdefaults\":{\"arrowcolor\":\"#2a3f5f\",\"arrowhead\":0,\"arrowwidth\":1},\"geo\":{\"bgcolor\":\"white\",\"landcolor\":\"#E5ECF6\",\"subunitcolor\":\"white\",\"showland\":true,\"showlakes\":true,\"lakecolor\":\"white\"},\"title\":{\"x\":0.05},\"mapbox\":{\"style\":\"light\"}}},\"shapes\":[{\"line\":{\"dash\":\"dash\"},\"type\":\"line\",\"x0\":0,\"x1\":1,\"y0\":1,\"y1\":0}],\"yaxis\":{\"title\":{\"text\":\"Precision\"},\"scaleanchor\":\"x\",\"scaleratio\":1},\"xaxis\":{\"title\":{\"text\":\"Recall\"},\"constrain\":\"domain\"},\"title\":{\"text\":\"Precision vs Recall\"},\"width\":500,\"height\":500},                        {\"responsive\": true}                    ).then(function(){\n",
       "                            \n",
       "var gd = document.getElementById('d0e85591-69f4-49ea-a21b-d3014b000656');\n",
       "var x = new MutationObserver(function (mutations, observer) {{\n",
       "        var display = window.getComputedStyle(gd).display;\n",
       "        if (!display || display === 'none') {{\n",
       "            console.log([gd, 'removed!']);\n",
       "            Plotly.purge(gd);\n",
       "            observer.disconnect();\n",
       "        }}\n",
       "}});\n",
       "\n",
       "// Listen for the removal of the full notebook cells\n",
       "var notebookContainer = gd.closest('#notebook-container');\n",
       "if (notebookContainer) {{\n",
       "    x.observe(notebookContainer, {childList: true});\n",
       "}}\n",
       "\n",
       "// Listen for the clearing of the current output cell\n",
       "var outputEl = gd.closest('.output');\n",
       "if (outputEl) {{\n",
       "    x.observe(outputEl, {childList: true});\n",
       "}}\n",
       "\n",
       "                        })                };                });            </script>        </div>"
      ]
     },
     "metadata": {},
     "output_type": "display_data"
    }
   ],
   "source": [
    "fig = go.Figure()\n",
    "\n",
    "fig.add_shape(\n",
    "    type='line', line=dict(dash='dash'),\n",
    "    x0=0, x1=1, y0=1, y1=0\n",
    ")\n",
    "\n",
    "\n",
    "for model_key in models:\n",
    "    \n",
    "    fig.add_trace(\n",
    "        go.Scatter(\n",
    "            x=dfprofit[model_key + '_rcl'], \n",
    "            y=dfprofit[model_key + '_prc'],\n",
    "            mode='lines',\n",
    "            name=model_key\n",
    "        )\n",
    "    )\n",
    "    \n",
    "\n",
    "fig.update_layout(\n",
    "    title='Precision vs Recall',\n",
    "    xaxis_title='Recall',\n",
    "    yaxis_title='Precision',\n",
    "    yaxis=dict(scaleanchor=\"x\", scaleratio=1),\n",
    "    xaxis=dict(constrain='domain'),\n",
    "    width=500, height=500,\n",
    ")\n",
    "\n",
    "fig.show()"
   ]
  },
  {
   "cell_type": "markdown",
   "id": "c6c34b2e-4918-4dfa-af18-d4ccb56956fb",
   "metadata": {},
   "source": [
    "# "
   ]
  },
  {
   "cell_type": "markdown",
   "id": "891aaf13-751b-4f51-b4fd-9d2615d395b4",
   "metadata": {},
   "source": [
    "# Campaign output"
   ]
  },
  {
   "cell_type": "markdown",
   "id": "8c40b256-55c2-4cb7-9b5d-2b2a436ead69",
   "metadata": {},
   "source": [
    "###### "
   ]
  },
  {
   "cell_type": "markdown",
   "id": "5089c7fe-a0b6-4756-9b1d-b4942fe1e0eb",
   "metadata": {},
   "source": [
    "### Compiling results of each model"
   ]
  },
  {
   "cell_type": "code",
   "execution_count": 69,
   "id": "2e61314b-5a33-4ead-b4d1-2b7bc494328f",
   "metadata": {
    "execution": {
     "iopub.execute_input": "2023-03-20T22:32:24.071109Z",
     "iopub.status.busy": "2023-03-20T22:32:24.070678Z",
     "iopub.status.idle": "2023-03-20T22:32:24.188797Z",
     "shell.execute_reply": "2023-03-20T22:32:24.187492Z",
     "shell.execute_reply.started": "2023-03-20T22:32:24.071076Z"
    },
    "tags": []
   },
   "outputs": [],
   "source": [
    "## Defining threshold as twice the minimum required based on information provided by the case\n",
    "min_thd = 0.0235*2\n",
    "\n",
    "## Dataframe where the results will be stored\n",
    "dfres = df.loc[\n",
    "    :, \n",
    "    [\n",
    "        col\n",
    "        for col\n",
    "        in df.columns\n",
    "        if \n",
    "            'res1' not in col\n",
    "            and\n",
    "            'sex_' not in col\n",
    "            and\n",
    "            'zip_bins_' not in col\n",
    "    ] + ['res1']\n",
    "].copy()\n",
    "\n",
    "\n",
    "## Adding the best classification of each model\n",
    "for model in models:\n",
    "    \n",
    "    dfx = models[model]['df']\n",
    "    \n",
    "    dfres[model + '_pred_prob'] = dfx[model + '_pred_prob']\n",
    "    \n",
    "    # dfres[model + '_pred'] = (dfx[model + '_pred_prob'] > dfprofit_max.loc[dfprofit_max.index == model, 'thd'].tolist()[0])*1\n",
    "    dfres[model + '_pred'] = (dfx[model + '_pred_prob'] > min_thd)*1"
   ]
  },
  {
   "cell_type": "code",
   "execution_count": null,
   "id": "0a5dbb02-faf8-415e-8cfe-0e8aa6ccb3f0",
   "metadata": {},
   "outputs": [],
   "source": []
  },
  {
   "cell_type": "code",
   "execution_count": 54,
   "id": "880cdce7-3380-4aa4-92c6-f093fe283007",
   "metadata": {
    "execution": {
     "iopub.execute_input": "2023-03-20T22:02:53.248144Z",
     "iopub.status.busy": "2023-03-20T22:02:53.247642Z",
     "iopub.status.idle": "2023-03-20T22:02:53.332076Z",
     "shell.execute_reply": "2023-03-20T22:02:53.330823Z",
     "shell.execute_reply.started": "2023-03-20T22:02:53.248110Z"
    },
    "tags": []
   },
   "outputs": [],
   "source": [
    "mr1 = dfres['m2_pred'] == 1\n",
    "\n",
    "prob_x = dfres.loc[mr1, ['m2_pred_prob']].mean().tolist()[0]\n",
    "cust_x = dfres.loc[:, ['m2_pred']].sum().tolist()[0]"
   ]
  },
  {
   "cell_type": "code",
   "execution_count": 55,
   "id": "e99f7ae2-7ac3-49af-a7f8-9d226a077bd2",
   "metadata": {
    "execution": {
     "iopub.execute_input": "2023-03-20T22:02:53.334216Z",
     "iopub.status.busy": "2023-03-20T22:02:53.333408Z",
     "iopub.status.idle": "2023-03-20T22:02:53.409945Z",
     "shell.execute_reply": "2023-03-20T22:02:53.409070Z",
     "shell.execute_reply.started": "2023-03-20T22:02:53.334180Z"
    },
    "tags": []
   },
   "outputs": [
    {
     "data": {
      "text/plain": [
       "11543.422269585904"
      ]
     },
     "execution_count": 55,
     "metadata": {},
     "output_type": "execute_result"
    }
   ],
   "source": [
    "cust_x*(60*prob_x/2 - 1.41)"
   ]
  },
  {
   "cell_type": "code",
   "execution_count": null,
   "id": "a239bd08-47fb-458e-bd3a-893ceda6d8c2",
   "metadata": {},
   "outputs": [],
   "source": []
  },
  {
   "cell_type": "markdown",
   "id": "f50ccf6f-5be3-4ef5-a632-10dc997b0331",
   "metadata": {},
   "source": [
    "###### "
   ]
  },
  {
   "cell_type": "markdown",
   "id": "9434ebf0-fe08-4484-b812-f1ed932435b9",
   "metadata": {},
   "source": [
    "### Understanding the customer based on results"
   ]
  },
  {
   "cell_type": "markdown",
   "id": "f268c618-92ea-4dc5-9a48-d0790580b236",
   "metadata": {},
   "source": [
    "##### Upgraded history"
   ]
  },
  {
   "cell_type": "code",
   "execution_count": 56,
   "id": "c0e9be30-b6f7-48ab-9ece-a3cb8145227f",
   "metadata": {
    "execution": {
     "iopub.execute_input": "2023-03-20T22:02:53.412549Z",
     "iopub.status.busy": "2023-03-20T22:02:53.412114Z",
     "iopub.status.idle": "2023-03-20T22:02:53.502163Z",
     "shell.execute_reply": "2023-03-20T22:02:53.501353Z",
     "shell.execute_reply.started": "2023-03-20T22:02:53.412518Z"
    }
   },
   "outputs": [
    {
     "data": {
      "application/vnd.plotly.v1+json": {
       "config": {
        "plotlyServerURL": "https://plot.ly"
       },
       "data": [
        {
         "mode": "lines",
         "name": "m5",
         "type": "scatter",
         "x": [
          0,
          0.005025125628140704,
          0.010050251256281407,
          0.01507537688442211,
          0.020100502512562814,
          0.02512562814070352,
          0.03015075376884422,
          0.035175879396984924,
          0.04020100502512563,
          0.04522613065326633,
          0.05025125628140704,
          0.05527638190954774,
          0.06030150753768844,
          0.06532663316582915,
          0.07035175879396985,
          0.07537688442211056,
          0.08040201005025126,
          0.08542713567839195,
          0.09045226130653267,
          0.09547738693467336,
          0.10050251256281408,
          0.10552763819095477,
          0.11055276381909548,
          0.11557788944723618,
          0.12060301507537688,
          0.12562814070351758,
          0.1306532663316583,
          0.135678391959799,
          0.1407035175879397,
          0.1457286432160804,
          0.15075376884422112,
          0.15577889447236182,
          0.16080402010050251,
          0.1658291457286432,
          0.1708542713567839,
          0.17587939698492464,
          0.18090452261306533,
          0.18592964824120603,
          0.19095477386934673,
          0.19597989949748745,
          0.20100502512562815,
          0.20603015075376885,
          0.21105527638190955,
          0.21608040201005024,
          0.22110552763819097,
          0.22613065326633167,
          0.23115577889447236,
          0.23618090452261306,
          0.24120603015075376,
          0.24623115577889448,
          0.25125628140703515,
          0.2562814070351759,
          0.2613065326633166,
          0.2663316582914573,
          0.271356783919598,
          0.2763819095477387,
          0.2814070351758794,
          0.2864321608040201,
          0.2914572864321608,
          0.2964824120603015,
          0.30150753768844224,
          0.3065326633165829,
          0.31155778894472363,
          0.3165829145728643,
          0.32160804020100503,
          0.32663316582914576,
          0.3316582914572864,
          0.33668341708542715,
          0.3417085427135678,
          0.34673366834170855,
          0.35175879396984927,
          0.35678391959798994,
          0.36180904522613067,
          0.36683417085427134,
          0.37185929648241206,
          0.3768844221105528,
          0.38190954773869346,
          0.3869346733668342,
          0.3919597989949749,
          0.3969849246231156,
          0.4020100502512563,
          0.40703517587939697,
          0.4120603015075377,
          0.4170854271356784,
          0.4221105527638191,
          0.4271356783919598,
          0.4321608040201005,
          0.4371859296482412,
          0.44221105527638194,
          0.4472361809045226,
          0.45226130653266333,
          0.457286432160804,
          0.4623115577889447,
          0.46733668341708545,
          0.4723618090452261,
          0.47738693467336685,
          0.4824120603015075,
          0.48743718592964824,
          0.49246231155778897,
          0.49748743718592964,
          0.5025125628140703,
          0.507537688442211,
          0.5125628140703518,
          0.5175879396984925,
          0.5226130653266332,
          0.5276381909547738,
          0.5326633165829145,
          0.5376884422110553,
          0.542713567839196,
          0.5477386934673367,
          0.5527638190954774,
          0.5577889447236181,
          0.5628140703517588,
          0.5678391959798995,
          0.5728643216080402,
          0.577889447236181,
          0.5829145728643216,
          0.5879396984924623,
          0.592964824120603,
          0.5979899497487438,
          0.6030150753768845,
          0.6080402010050251,
          0.6130653266331658,
          0.6180904522613065,
          0.6231155778894473,
          0.628140703517588,
          0.6331658291457286,
          0.6381909547738693,
          0.6432160804020101,
          0.6482412060301508,
          0.6532663316582915,
          0.6582914572864321,
          0.6633165829145728,
          0.6683417085427136,
          0.6733668341708543,
          0.678391959798995,
          0.6834170854271356,
          0.6884422110552764,
          0.6934673366834171,
          0.6984924623115578,
          0.7035175879396985,
          0.7085427135678392,
          0.7135678391959799,
          0.7185929648241206,
          0.7236180904522613,
          0.7286432160804021,
          0.7336683417085427,
          0.7386934673366834,
          0.7437185929648241,
          0.7487437185929648,
          0.7537688442211056,
          0.7587939698492463,
          0.7638190954773869,
          0.7688442211055276,
          0.7738693467336684,
          0.7788944723618091,
          0.7839195979899498,
          0.7889447236180904,
          0.7939698492462312,
          0.7989949748743719,
          0.8040201005025126,
          0.8090452261306533,
          0.8140703517587939,
          0.8190954773869347,
          0.8241206030150754,
          0.8291457286432161,
          0.8341708542713568,
          0.8391959798994975,
          0.8442211055276382,
          0.8492462311557789,
          0.8542713567839196,
          0.8592964824120604,
          0.864321608040201,
          0.8693467336683417,
          0.8743718592964824,
          0.8793969849246231,
          0.8844221105527639,
          0.8894472361809045,
          0.8944723618090452,
          0.8994974874371859,
          0.9045226130653267,
          0.9095477386934674,
          0.914572864321608,
          0.9195979899497487,
          0.9246231155778895,
          0.9296482412060302,
          0.9346733668341709,
          0.9396984924623115,
          0.9447236180904522,
          0.949748743718593,
          0.9547738693467337,
          0.9597989949748744,
          0.964824120603015,
          0.9698492462311558,
          0.9748743718592965,
          0.9798994974874372,
          0.9849246231155779,
          0.9899497487437187,
          0.9949748743718593,
          1
         ],
         "y": [
          29460.000000000007,
          29506.530000000006,
          30171.600000000006,
          31074.540000000005,
          32170.350000000006,
          32396.550000000003,
          31511.250000000004,
          30137.64,
          29363.700000000004,
          28743.9,
          27939.39,
          26223.75,
          24357.24,
          23105.130000000005,
          21742.41,
          19820.100000000002,
          18221.91,
          16857.450000000004,
          15108.390000000001,
          14138.7,
          13042.740000000002,
          12481.920000000002,
          11311.230000000001,
          10617.09,
          9843.21,
          9412.41,
          8816.49,
          8214.93,
          7587.990000000001,
          7100.79,
          6825.39,
          6482.9400000000005,
          6133.44,
          5817.15,
          5449.320000000001,
          5125.98,
          4820.97,
          4679.040000000001,
          4350.06,
          4018.2600000000007,
          3918,
          3874.92,
          3716.07,
          3381.4500000000003,
          3395.55,
          3284.01,
          3118.11,
          2896.44,
          2736.1800000000003,
          2635.9200000000005,
          2350.02,
          1942.7100000000003,
          1596.81,
          1192.3200000000002,
          906.4200000000001,
          852.0600000000001,
          794.88,
          503.34000000000003,
          513.21,
          338.85,
          284.49000000000007,
          227.31,
          228.72000000000003,
          230.13000000000002,
          230.13000000000002,
          114.36000000000001,
          57.18000000000001,
          -1.41,
          -1.41,
          -1.41,
          -1.41,
          -1.41,
          0,
          0,
          0,
          0,
          0,
          0,
          0,
          0,
          0,
          0,
          0,
          0,
          0,
          0,
          0,
          0,
          0,
          0,
          0,
          0,
          0,
          0,
          0,
          0,
          0,
          0,
          0,
          0,
          0,
          0,
          0,
          0,
          0,
          0,
          0,
          0,
          0,
          0,
          0,
          0,
          0,
          0,
          0,
          0,
          0,
          0,
          0,
          0,
          0,
          0,
          0,
          0,
          0,
          0,
          0,
          0,
          0,
          0,
          0,
          0,
          0,
          0,
          0,
          0,
          0,
          0,
          0,
          0,
          0,
          0,
          0,
          0,
          0,
          0,
          0,
          0,
          0,
          0,
          0,
          0,
          0,
          0,
          0,
          0,
          0,
          0,
          0,
          0,
          0,
          0,
          0,
          0,
          0,
          0,
          0,
          0,
          0,
          0,
          0,
          0,
          0,
          0,
          0,
          0,
          0,
          0,
          0,
          0,
          0,
          0,
          0,
          0,
          0,
          0,
          0,
          0,
          0,
          0,
          0,
          0,
          0,
          0,
          0,
          0,
          0,
          0,
          0,
          0
         ]
        },
        {
         "mode": "lines",
         "name": "m5",
         "type": "scatter",
         "x": [
          0,
          0.005025125628140704,
          0.010050251256281407,
          0.01507537688442211,
          0.020100502512562814,
          0.02512562814070352,
          0.03015075376884422,
          0.035175879396984924,
          0.04020100502512563,
          0.04522613065326633,
          0.05025125628140704,
          0.05527638190954774,
          0.06030150753768844,
          0.06532663316582915,
          0.07035175879396985,
          0.07537688442211056,
          0.08040201005025126,
          0.08542713567839195,
          0.09045226130653267,
          0.09547738693467336,
          0.10050251256281408,
          0.10552763819095477,
          0.11055276381909548,
          0.11557788944723618,
          0.12060301507537688,
          0.12562814070351758,
          0.1306532663316583,
          0.135678391959799,
          0.1407035175879397,
          0.1457286432160804,
          0.15075376884422112,
          0.15577889447236182,
          0.16080402010050251,
          0.1658291457286432,
          0.1708542713567839,
          0.17587939698492464,
          0.18090452261306533,
          0.18592964824120603,
          0.19095477386934673,
          0.19597989949748745,
          0.20100502512562815,
          0.20603015075376885,
          0.21105527638190955,
          0.21608040201005024,
          0.22110552763819097,
          0.22613065326633167,
          0.23115577889447236,
          0.23618090452261306,
          0.24120603015075376,
          0.24623115577889448,
          0.25125628140703515,
          0.2562814070351759,
          0.2613065326633166,
          0.2663316582914573,
          0.271356783919598,
          0.2763819095477387,
          0.2814070351758794,
          0.2864321608040201,
          0.2914572864321608,
          0.2964824120603015,
          0.30150753768844224,
          0.3065326633165829,
          0.31155778894472363,
          0.3165829145728643,
          0.32160804020100503,
          0.32663316582914576,
          0.3316582914572864,
          0.33668341708542715,
          0.3417085427135678,
          0.34673366834170855,
          0.35175879396984927,
          0.35678391959798994,
          0.36180904522613067,
          0.36683417085427134,
          0.37185929648241206,
          0.3768844221105528,
          0.38190954773869346,
          0.3869346733668342,
          0.3919597989949749,
          0.3969849246231156,
          0.4020100502512563,
          0.40703517587939697,
          0.4120603015075377,
          0.4170854271356784,
          0.4221105527638191,
          0.4271356783919598,
          0.4321608040201005,
          0.4371859296482412,
          0.44221105527638194,
          0.4472361809045226,
          0.45226130653266333,
          0.457286432160804,
          0.4623115577889447,
          0.46733668341708545,
          0.4723618090452261,
          0.47738693467336685,
          0.4824120603015075,
          0.48743718592964824,
          0.49246231155778897,
          0.49748743718592964,
          0.5025125628140703,
          0.507537688442211,
          0.5125628140703518,
          0.5175879396984925,
          0.5226130653266332,
          0.5276381909547738,
          0.5326633165829145,
          0.5376884422110553,
          0.542713567839196,
          0.5477386934673367,
          0.5527638190954774,
          0.5577889447236181,
          0.5628140703517588,
          0.5678391959798995,
          0.5728643216080402,
          0.577889447236181,
          0.5829145728643216,
          0.5879396984924623,
          0.592964824120603,
          0.5979899497487438,
          0.6030150753768845,
          0.6080402010050251,
          0.6130653266331658,
          0.6180904522613065,
          0.6231155778894473,
          0.628140703517588,
          0.6331658291457286,
          0.6381909547738693,
          0.6432160804020101,
          0.6482412060301508,
          0.6532663316582915,
          0.6582914572864321,
          0.6633165829145728,
          0.6683417085427136,
          0.6733668341708543,
          0.678391959798995,
          0.6834170854271356,
          0.6884422110552764,
          0.6934673366834171,
          0.6984924623115578,
          0.7035175879396985,
          0.7085427135678392,
          0.7135678391959799,
          0.7185929648241206,
          0.7236180904522613,
          0.7286432160804021,
          0.7336683417085427,
          0.7386934673366834,
          0.7437185929648241,
          0.7487437185929648,
          0.7537688442211056,
          0.7587939698492463,
          0.7638190954773869,
          0.7688442211055276,
          0.7738693467336684,
          0.7788944723618091,
          0.7839195979899498,
          0.7889447236180904,
          0.7939698492462312,
          0.7989949748743719,
          0.8040201005025126,
          0.8090452261306533,
          0.8140703517587939,
          0.8190954773869347,
          0.8241206030150754,
          0.8291457286432161,
          0.8341708542713568,
          0.8391959798994975,
          0.8442211055276382,
          0.8492462311557789,
          0.8542713567839196,
          0.8592964824120604,
          0.864321608040201,
          0.8693467336683417,
          0.8743718592964824,
          0.8793969849246231,
          0.8844221105527639,
          0.8894472361809045,
          0.8944723618090452,
          0.8994974874371859,
          0.9045226130653267,
          0.9095477386934674,
          0.914572864321608,
          0.9195979899497487,
          0.9246231155778895,
          0.9296482412060302,
          0.9346733668341709,
          0.9396984924623115,
          0.9447236180904522,
          0.949748743718593,
          0.9547738693467337,
          0.9597989949748744,
          0.964824120603015,
          0.9698492462311558,
          0.9748743718592965,
          0.9798994974874372,
          0.9849246231155779,
          0.9899497487437187,
          0.9949748743718593,
          1
         ],
         "y": [
          29460.000000000007,
          29506.530000000006,
          30171.600000000006,
          31074.540000000005,
          32170.350000000006,
          32396.550000000003,
          31511.250000000004,
          30137.64,
          29363.700000000004,
          28743.9,
          27939.39,
          26223.75,
          24357.24,
          23105.130000000005,
          21742.41,
          19820.100000000002,
          18221.91,
          16857.450000000004,
          15108.390000000001,
          14138.7,
          13042.740000000002,
          12481.920000000002,
          11311.230000000001,
          10617.09,
          9843.21,
          9412.41,
          8816.49,
          8214.93,
          7587.990000000001,
          7100.79,
          6825.39,
          6482.9400000000005,
          6133.44,
          5817.15,
          5449.320000000001,
          5125.98,
          4820.97,
          4679.040000000001,
          4350.06,
          4018.2600000000007,
          3918,
          3874.92,
          3716.07,
          3381.4500000000003,
          3395.55,
          3284.01,
          3118.11,
          2896.44,
          2736.1800000000003,
          2635.9200000000005,
          2350.02,
          1942.7100000000003,
          1596.81,
          1192.3200000000002,
          906.4200000000001,
          852.0600000000001,
          794.88,
          503.34000000000003,
          513.21,
          338.85,
          284.49000000000007,
          227.31,
          228.72000000000003,
          230.13000000000002,
          230.13000000000002,
          114.36000000000001,
          57.18000000000001,
          -1.41,
          -1.41,
          -1.41,
          -1.41,
          -1.41,
          0,
          0,
          0,
          0,
          0,
          0,
          0,
          0,
          0,
          0,
          0,
          0,
          0,
          0,
          0,
          0,
          0,
          0,
          0,
          0,
          0,
          0,
          0,
          0,
          0,
          0,
          0,
          0,
          0,
          0,
          0,
          0,
          0,
          0,
          0,
          0,
          0,
          0,
          0,
          0,
          0,
          0,
          0,
          0,
          0,
          0,
          0,
          0,
          0,
          0,
          0,
          0,
          0,
          0,
          0,
          0,
          0,
          0,
          0,
          0,
          0,
          0,
          0,
          0,
          0,
          0,
          0,
          0,
          0,
          0,
          0,
          0,
          0,
          0,
          0,
          0,
          0,
          0,
          0,
          0,
          0,
          0,
          0,
          0,
          0,
          0,
          0,
          0,
          0,
          0,
          0,
          0,
          0,
          0,
          0,
          0,
          0,
          0,
          0,
          0,
          0,
          0,
          0,
          0,
          0,
          0,
          0,
          0,
          0,
          0,
          0,
          0,
          0,
          0,
          0,
          0,
          0,
          0,
          0,
          0,
          0,
          0,
          0,
          0,
          0,
          0,
          0,
          0
         ]
        },
        {
         "mode": "lines",
         "name": "m5",
         "type": "scatter",
         "x": [
          0,
          0.005025125628140704,
          0.010050251256281407,
          0.01507537688442211,
          0.020100502512562814,
          0.02512562814070352,
          0.03015075376884422,
          0.035175879396984924,
          0.04020100502512563,
          0.04522613065326633,
          0.05025125628140704,
          0.05527638190954774,
          0.06030150753768844,
          0.06532663316582915,
          0.07035175879396985,
          0.07537688442211056,
          0.08040201005025126,
          0.08542713567839195,
          0.09045226130653267,
          0.09547738693467336,
          0.10050251256281408,
          0.10552763819095477,
          0.11055276381909548,
          0.11557788944723618,
          0.12060301507537688,
          0.12562814070351758,
          0.1306532663316583,
          0.135678391959799,
          0.1407035175879397,
          0.1457286432160804,
          0.15075376884422112,
          0.15577889447236182,
          0.16080402010050251,
          0.1658291457286432,
          0.1708542713567839,
          0.17587939698492464,
          0.18090452261306533,
          0.18592964824120603,
          0.19095477386934673,
          0.19597989949748745,
          0.20100502512562815,
          0.20603015075376885,
          0.21105527638190955,
          0.21608040201005024,
          0.22110552763819097,
          0.22613065326633167,
          0.23115577889447236,
          0.23618090452261306,
          0.24120603015075376,
          0.24623115577889448,
          0.25125628140703515,
          0.2562814070351759,
          0.2613065326633166,
          0.2663316582914573,
          0.271356783919598,
          0.2763819095477387,
          0.2814070351758794,
          0.2864321608040201,
          0.2914572864321608,
          0.2964824120603015,
          0.30150753768844224,
          0.3065326633165829,
          0.31155778894472363,
          0.3165829145728643,
          0.32160804020100503,
          0.32663316582914576,
          0.3316582914572864,
          0.33668341708542715,
          0.3417085427135678,
          0.34673366834170855,
          0.35175879396984927,
          0.35678391959798994,
          0.36180904522613067,
          0.36683417085427134,
          0.37185929648241206,
          0.3768844221105528,
          0.38190954773869346,
          0.3869346733668342,
          0.3919597989949749,
          0.3969849246231156,
          0.4020100502512563,
          0.40703517587939697,
          0.4120603015075377,
          0.4170854271356784,
          0.4221105527638191,
          0.4271356783919598,
          0.4321608040201005,
          0.4371859296482412,
          0.44221105527638194,
          0.4472361809045226,
          0.45226130653266333,
          0.457286432160804,
          0.4623115577889447,
          0.46733668341708545,
          0.4723618090452261,
          0.47738693467336685,
          0.4824120603015075,
          0.48743718592964824,
          0.49246231155778897,
          0.49748743718592964,
          0.5025125628140703,
          0.507537688442211,
          0.5125628140703518,
          0.5175879396984925,
          0.5226130653266332,
          0.5276381909547738,
          0.5326633165829145,
          0.5376884422110553,
          0.542713567839196,
          0.5477386934673367,
          0.5527638190954774,
          0.5577889447236181,
          0.5628140703517588,
          0.5678391959798995,
          0.5728643216080402,
          0.577889447236181,
          0.5829145728643216,
          0.5879396984924623,
          0.592964824120603,
          0.5979899497487438,
          0.6030150753768845,
          0.6080402010050251,
          0.6130653266331658,
          0.6180904522613065,
          0.6231155778894473,
          0.628140703517588,
          0.6331658291457286,
          0.6381909547738693,
          0.6432160804020101,
          0.6482412060301508,
          0.6532663316582915,
          0.6582914572864321,
          0.6633165829145728,
          0.6683417085427136,
          0.6733668341708543,
          0.678391959798995,
          0.6834170854271356,
          0.6884422110552764,
          0.6934673366834171,
          0.6984924623115578,
          0.7035175879396985,
          0.7085427135678392,
          0.7135678391959799,
          0.7185929648241206,
          0.7236180904522613,
          0.7286432160804021,
          0.7336683417085427,
          0.7386934673366834,
          0.7437185929648241,
          0.7487437185929648,
          0.7537688442211056,
          0.7587939698492463,
          0.7638190954773869,
          0.7688442211055276,
          0.7738693467336684,
          0.7788944723618091,
          0.7839195979899498,
          0.7889447236180904,
          0.7939698492462312,
          0.7989949748743719,
          0.8040201005025126,
          0.8090452261306533,
          0.8140703517587939,
          0.8190954773869347,
          0.8241206030150754,
          0.8291457286432161,
          0.8341708542713568,
          0.8391959798994975,
          0.8442211055276382,
          0.8492462311557789,
          0.8542713567839196,
          0.8592964824120604,
          0.864321608040201,
          0.8693467336683417,
          0.8743718592964824,
          0.8793969849246231,
          0.8844221105527639,
          0.8894472361809045,
          0.8944723618090452,
          0.8994974874371859,
          0.9045226130653267,
          0.9095477386934674,
          0.914572864321608,
          0.9195979899497487,
          0.9246231155778895,
          0.9296482412060302,
          0.9346733668341709,
          0.9396984924623115,
          0.9447236180904522,
          0.949748743718593,
          0.9547738693467337,
          0.9597989949748744,
          0.964824120603015,
          0.9698492462311558,
          0.9748743718592965,
          0.9798994974874372,
          0.9849246231155779,
          0.9899497487437187,
          0.9949748743718593,
          1
         ],
         "y": [
          29460.000000000007,
          29506.530000000006,
          30171.600000000006,
          31074.540000000005,
          32170.350000000006,
          32396.550000000003,
          31511.250000000004,
          30137.64,
          29363.700000000004,
          28743.9,
          27939.39,
          26223.75,
          24357.24,
          23105.130000000005,
          21742.41,
          19820.100000000002,
          18221.91,
          16857.450000000004,
          15108.390000000001,
          14138.7,
          13042.740000000002,
          12481.920000000002,
          11311.230000000001,
          10617.09,
          9843.21,
          9412.41,
          8816.49,
          8214.93,
          7587.990000000001,
          7100.79,
          6825.39,
          6482.9400000000005,
          6133.44,
          5817.15,
          5449.320000000001,
          5125.98,
          4820.97,
          4679.040000000001,
          4350.06,
          4018.2600000000007,
          3918,
          3874.92,
          3716.07,
          3381.4500000000003,
          3395.55,
          3284.01,
          3118.11,
          2896.44,
          2736.1800000000003,
          2635.9200000000005,
          2350.02,
          1942.7100000000003,
          1596.81,
          1192.3200000000002,
          906.4200000000001,
          852.0600000000001,
          794.88,
          503.34000000000003,
          513.21,
          338.85,
          284.49000000000007,
          227.31,
          228.72000000000003,
          230.13000000000002,
          230.13000000000002,
          114.36000000000001,
          57.18000000000001,
          -1.41,
          -1.41,
          -1.41,
          -1.41,
          -1.41,
          0,
          0,
          0,
          0,
          0,
          0,
          0,
          0,
          0,
          0,
          0,
          0,
          0,
          0,
          0,
          0,
          0,
          0,
          0,
          0,
          0,
          0,
          0,
          0,
          0,
          0,
          0,
          0,
          0,
          0,
          0,
          0,
          0,
          0,
          0,
          0,
          0,
          0,
          0,
          0,
          0,
          0,
          0,
          0,
          0,
          0,
          0,
          0,
          0,
          0,
          0,
          0,
          0,
          0,
          0,
          0,
          0,
          0,
          0,
          0,
          0,
          0,
          0,
          0,
          0,
          0,
          0,
          0,
          0,
          0,
          0,
          0,
          0,
          0,
          0,
          0,
          0,
          0,
          0,
          0,
          0,
          0,
          0,
          0,
          0,
          0,
          0,
          0,
          0,
          0,
          0,
          0,
          0,
          0,
          0,
          0,
          0,
          0,
          0,
          0,
          0,
          0,
          0,
          0,
          0,
          0,
          0,
          0,
          0,
          0,
          0,
          0,
          0,
          0,
          0,
          0,
          0,
          0,
          0,
          0,
          0,
          0,
          0,
          0,
          0,
          0,
          0,
          0
         ]
        },
        {
         "mode": "lines",
         "name": "m5",
         "type": "scatter",
         "x": [
          0,
          0.005025125628140704,
          0.010050251256281407,
          0.01507537688442211,
          0.020100502512562814,
          0.02512562814070352,
          0.03015075376884422,
          0.035175879396984924,
          0.04020100502512563,
          0.04522613065326633,
          0.05025125628140704,
          0.05527638190954774,
          0.06030150753768844,
          0.06532663316582915,
          0.07035175879396985,
          0.07537688442211056,
          0.08040201005025126,
          0.08542713567839195,
          0.09045226130653267,
          0.09547738693467336,
          0.10050251256281408,
          0.10552763819095477,
          0.11055276381909548,
          0.11557788944723618,
          0.12060301507537688,
          0.12562814070351758,
          0.1306532663316583,
          0.135678391959799,
          0.1407035175879397,
          0.1457286432160804,
          0.15075376884422112,
          0.15577889447236182,
          0.16080402010050251,
          0.1658291457286432,
          0.1708542713567839,
          0.17587939698492464,
          0.18090452261306533,
          0.18592964824120603,
          0.19095477386934673,
          0.19597989949748745,
          0.20100502512562815,
          0.20603015075376885,
          0.21105527638190955,
          0.21608040201005024,
          0.22110552763819097,
          0.22613065326633167,
          0.23115577889447236,
          0.23618090452261306,
          0.24120603015075376,
          0.24623115577889448,
          0.25125628140703515,
          0.2562814070351759,
          0.2613065326633166,
          0.2663316582914573,
          0.271356783919598,
          0.2763819095477387,
          0.2814070351758794,
          0.2864321608040201,
          0.2914572864321608,
          0.2964824120603015,
          0.30150753768844224,
          0.3065326633165829,
          0.31155778894472363,
          0.3165829145728643,
          0.32160804020100503,
          0.32663316582914576,
          0.3316582914572864,
          0.33668341708542715,
          0.3417085427135678,
          0.34673366834170855,
          0.35175879396984927,
          0.35678391959798994,
          0.36180904522613067,
          0.36683417085427134,
          0.37185929648241206,
          0.3768844221105528,
          0.38190954773869346,
          0.3869346733668342,
          0.3919597989949749,
          0.3969849246231156,
          0.4020100502512563,
          0.40703517587939697,
          0.4120603015075377,
          0.4170854271356784,
          0.4221105527638191,
          0.4271356783919598,
          0.4321608040201005,
          0.4371859296482412,
          0.44221105527638194,
          0.4472361809045226,
          0.45226130653266333,
          0.457286432160804,
          0.4623115577889447,
          0.46733668341708545,
          0.4723618090452261,
          0.47738693467336685,
          0.4824120603015075,
          0.48743718592964824,
          0.49246231155778897,
          0.49748743718592964,
          0.5025125628140703,
          0.507537688442211,
          0.5125628140703518,
          0.5175879396984925,
          0.5226130653266332,
          0.5276381909547738,
          0.5326633165829145,
          0.5376884422110553,
          0.542713567839196,
          0.5477386934673367,
          0.5527638190954774,
          0.5577889447236181,
          0.5628140703517588,
          0.5678391959798995,
          0.5728643216080402,
          0.577889447236181,
          0.5829145728643216,
          0.5879396984924623,
          0.592964824120603,
          0.5979899497487438,
          0.6030150753768845,
          0.6080402010050251,
          0.6130653266331658,
          0.6180904522613065,
          0.6231155778894473,
          0.628140703517588,
          0.6331658291457286,
          0.6381909547738693,
          0.6432160804020101,
          0.6482412060301508,
          0.6532663316582915,
          0.6582914572864321,
          0.6633165829145728,
          0.6683417085427136,
          0.6733668341708543,
          0.678391959798995,
          0.6834170854271356,
          0.6884422110552764,
          0.6934673366834171,
          0.6984924623115578,
          0.7035175879396985,
          0.7085427135678392,
          0.7135678391959799,
          0.7185929648241206,
          0.7236180904522613,
          0.7286432160804021,
          0.7336683417085427,
          0.7386934673366834,
          0.7437185929648241,
          0.7487437185929648,
          0.7537688442211056,
          0.7587939698492463,
          0.7638190954773869,
          0.7688442211055276,
          0.7738693467336684,
          0.7788944723618091,
          0.7839195979899498,
          0.7889447236180904,
          0.7939698492462312,
          0.7989949748743719,
          0.8040201005025126,
          0.8090452261306533,
          0.8140703517587939,
          0.8190954773869347,
          0.8241206030150754,
          0.8291457286432161,
          0.8341708542713568,
          0.8391959798994975,
          0.8442211055276382,
          0.8492462311557789,
          0.8542713567839196,
          0.8592964824120604,
          0.864321608040201,
          0.8693467336683417,
          0.8743718592964824,
          0.8793969849246231,
          0.8844221105527639,
          0.8894472361809045,
          0.8944723618090452,
          0.8994974874371859,
          0.9045226130653267,
          0.9095477386934674,
          0.914572864321608,
          0.9195979899497487,
          0.9246231155778895,
          0.9296482412060302,
          0.9346733668341709,
          0.9396984924623115,
          0.9447236180904522,
          0.949748743718593,
          0.9547738693467337,
          0.9597989949748744,
          0.964824120603015,
          0.9698492462311558,
          0.9748743718592965,
          0.9798994974874372,
          0.9849246231155779,
          0.9899497487437187,
          0.9949748743718593,
          1
         ],
         "y": [
          29460.000000000007,
          29506.530000000006,
          30171.600000000006,
          31074.540000000005,
          32170.350000000006,
          32396.550000000003,
          31511.250000000004,
          30137.64,
          29363.700000000004,
          28743.9,
          27939.39,
          26223.75,
          24357.24,
          23105.130000000005,
          21742.41,
          19820.100000000002,
          18221.91,
          16857.450000000004,
          15108.390000000001,
          14138.7,
          13042.740000000002,
          12481.920000000002,
          11311.230000000001,
          10617.09,
          9843.21,
          9412.41,
          8816.49,
          8214.93,
          7587.990000000001,
          7100.79,
          6825.39,
          6482.9400000000005,
          6133.44,
          5817.15,
          5449.320000000001,
          5125.98,
          4820.97,
          4679.040000000001,
          4350.06,
          4018.2600000000007,
          3918,
          3874.92,
          3716.07,
          3381.4500000000003,
          3395.55,
          3284.01,
          3118.11,
          2896.44,
          2736.1800000000003,
          2635.9200000000005,
          2350.02,
          1942.7100000000003,
          1596.81,
          1192.3200000000002,
          906.4200000000001,
          852.0600000000001,
          794.88,
          503.34000000000003,
          513.21,
          338.85,
          284.49000000000007,
          227.31,
          228.72000000000003,
          230.13000000000002,
          230.13000000000002,
          114.36000000000001,
          57.18000000000001,
          -1.41,
          -1.41,
          -1.41,
          -1.41,
          -1.41,
          0,
          0,
          0,
          0,
          0,
          0,
          0,
          0,
          0,
          0,
          0,
          0,
          0,
          0,
          0,
          0,
          0,
          0,
          0,
          0,
          0,
          0,
          0,
          0,
          0,
          0,
          0,
          0,
          0,
          0,
          0,
          0,
          0,
          0,
          0,
          0,
          0,
          0,
          0,
          0,
          0,
          0,
          0,
          0,
          0,
          0,
          0,
          0,
          0,
          0,
          0,
          0,
          0,
          0,
          0,
          0,
          0,
          0,
          0,
          0,
          0,
          0,
          0,
          0,
          0,
          0,
          0,
          0,
          0,
          0,
          0,
          0,
          0,
          0,
          0,
          0,
          0,
          0,
          0,
          0,
          0,
          0,
          0,
          0,
          0,
          0,
          0,
          0,
          0,
          0,
          0,
          0,
          0,
          0,
          0,
          0,
          0,
          0,
          0,
          0,
          0,
          0,
          0,
          0,
          0,
          0,
          0,
          0,
          0,
          0,
          0,
          0,
          0,
          0,
          0,
          0,
          0,
          0,
          0,
          0,
          0,
          0,
          0,
          0,
          0,
          0,
          0,
          0
         ]
        },
        {
         "mode": "lines",
         "name": "m5",
         "type": "scatter",
         "x": [
          0,
          0.005025125628140704,
          0.010050251256281407,
          0.01507537688442211,
          0.020100502512562814,
          0.02512562814070352,
          0.03015075376884422,
          0.035175879396984924,
          0.04020100502512563,
          0.04522613065326633,
          0.05025125628140704,
          0.05527638190954774,
          0.06030150753768844,
          0.06532663316582915,
          0.07035175879396985,
          0.07537688442211056,
          0.08040201005025126,
          0.08542713567839195,
          0.09045226130653267,
          0.09547738693467336,
          0.10050251256281408,
          0.10552763819095477,
          0.11055276381909548,
          0.11557788944723618,
          0.12060301507537688,
          0.12562814070351758,
          0.1306532663316583,
          0.135678391959799,
          0.1407035175879397,
          0.1457286432160804,
          0.15075376884422112,
          0.15577889447236182,
          0.16080402010050251,
          0.1658291457286432,
          0.1708542713567839,
          0.17587939698492464,
          0.18090452261306533,
          0.18592964824120603,
          0.19095477386934673,
          0.19597989949748745,
          0.20100502512562815,
          0.20603015075376885,
          0.21105527638190955,
          0.21608040201005024,
          0.22110552763819097,
          0.22613065326633167,
          0.23115577889447236,
          0.23618090452261306,
          0.24120603015075376,
          0.24623115577889448,
          0.25125628140703515,
          0.2562814070351759,
          0.2613065326633166,
          0.2663316582914573,
          0.271356783919598,
          0.2763819095477387,
          0.2814070351758794,
          0.2864321608040201,
          0.2914572864321608,
          0.2964824120603015,
          0.30150753768844224,
          0.3065326633165829,
          0.31155778894472363,
          0.3165829145728643,
          0.32160804020100503,
          0.32663316582914576,
          0.3316582914572864,
          0.33668341708542715,
          0.3417085427135678,
          0.34673366834170855,
          0.35175879396984927,
          0.35678391959798994,
          0.36180904522613067,
          0.36683417085427134,
          0.37185929648241206,
          0.3768844221105528,
          0.38190954773869346,
          0.3869346733668342,
          0.3919597989949749,
          0.3969849246231156,
          0.4020100502512563,
          0.40703517587939697,
          0.4120603015075377,
          0.4170854271356784,
          0.4221105527638191,
          0.4271356783919598,
          0.4321608040201005,
          0.4371859296482412,
          0.44221105527638194,
          0.4472361809045226,
          0.45226130653266333,
          0.457286432160804,
          0.4623115577889447,
          0.46733668341708545,
          0.4723618090452261,
          0.47738693467336685,
          0.4824120603015075,
          0.48743718592964824,
          0.49246231155778897,
          0.49748743718592964,
          0.5025125628140703,
          0.507537688442211,
          0.5125628140703518,
          0.5175879396984925,
          0.5226130653266332,
          0.5276381909547738,
          0.5326633165829145,
          0.5376884422110553,
          0.542713567839196,
          0.5477386934673367,
          0.5527638190954774,
          0.5577889447236181,
          0.5628140703517588,
          0.5678391959798995,
          0.5728643216080402,
          0.577889447236181,
          0.5829145728643216,
          0.5879396984924623,
          0.592964824120603,
          0.5979899497487438,
          0.6030150753768845,
          0.6080402010050251,
          0.6130653266331658,
          0.6180904522613065,
          0.6231155778894473,
          0.628140703517588,
          0.6331658291457286,
          0.6381909547738693,
          0.6432160804020101,
          0.6482412060301508,
          0.6532663316582915,
          0.6582914572864321,
          0.6633165829145728,
          0.6683417085427136,
          0.6733668341708543,
          0.678391959798995,
          0.6834170854271356,
          0.6884422110552764,
          0.6934673366834171,
          0.6984924623115578,
          0.7035175879396985,
          0.7085427135678392,
          0.7135678391959799,
          0.7185929648241206,
          0.7236180904522613,
          0.7286432160804021,
          0.7336683417085427,
          0.7386934673366834,
          0.7437185929648241,
          0.7487437185929648,
          0.7537688442211056,
          0.7587939698492463,
          0.7638190954773869,
          0.7688442211055276,
          0.7738693467336684,
          0.7788944723618091,
          0.7839195979899498,
          0.7889447236180904,
          0.7939698492462312,
          0.7989949748743719,
          0.8040201005025126,
          0.8090452261306533,
          0.8140703517587939,
          0.8190954773869347,
          0.8241206030150754,
          0.8291457286432161,
          0.8341708542713568,
          0.8391959798994975,
          0.8442211055276382,
          0.8492462311557789,
          0.8542713567839196,
          0.8592964824120604,
          0.864321608040201,
          0.8693467336683417,
          0.8743718592964824,
          0.8793969849246231,
          0.8844221105527639,
          0.8894472361809045,
          0.8944723618090452,
          0.8994974874371859,
          0.9045226130653267,
          0.9095477386934674,
          0.914572864321608,
          0.9195979899497487,
          0.9246231155778895,
          0.9296482412060302,
          0.9346733668341709,
          0.9396984924623115,
          0.9447236180904522,
          0.949748743718593,
          0.9547738693467337,
          0.9597989949748744,
          0.964824120603015,
          0.9698492462311558,
          0.9748743718592965,
          0.9798994974874372,
          0.9849246231155779,
          0.9899497487437187,
          0.9949748743718593,
          1
         ],
         "y": [
          29460.000000000007,
          29506.530000000006,
          30171.600000000006,
          31074.540000000005,
          32170.350000000006,
          32396.550000000003,
          31511.250000000004,
          30137.64,
          29363.700000000004,
          28743.9,
          27939.39,
          26223.75,
          24357.24,
          23105.130000000005,
          21742.41,
          19820.100000000002,
          18221.91,
          16857.450000000004,
          15108.390000000001,
          14138.7,
          13042.740000000002,
          12481.920000000002,
          11311.230000000001,
          10617.09,
          9843.21,
          9412.41,
          8816.49,
          8214.93,
          7587.990000000001,
          7100.79,
          6825.39,
          6482.9400000000005,
          6133.44,
          5817.15,
          5449.320000000001,
          5125.98,
          4820.97,
          4679.040000000001,
          4350.06,
          4018.2600000000007,
          3918,
          3874.92,
          3716.07,
          3381.4500000000003,
          3395.55,
          3284.01,
          3118.11,
          2896.44,
          2736.1800000000003,
          2635.9200000000005,
          2350.02,
          1942.7100000000003,
          1596.81,
          1192.3200000000002,
          906.4200000000001,
          852.0600000000001,
          794.88,
          503.34000000000003,
          513.21,
          338.85,
          284.49000000000007,
          227.31,
          228.72000000000003,
          230.13000000000002,
          230.13000000000002,
          114.36000000000001,
          57.18000000000001,
          -1.41,
          -1.41,
          -1.41,
          -1.41,
          -1.41,
          0,
          0,
          0,
          0,
          0,
          0,
          0,
          0,
          0,
          0,
          0,
          0,
          0,
          0,
          0,
          0,
          0,
          0,
          0,
          0,
          0,
          0,
          0,
          0,
          0,
          0,
          0,
          0,
          0,
          0,
          0,
          0,
          0,
          0,
          0,
          0,
          0,
          0,
          0,
          0,
          0,
          0,
          0,
          0,
          0,
          0,
          0,
          0,
          0,
          0,
          0,
          0,
          0,
          0,
          0,
          0,
          0,
          0,
          0,
          0,
          0,
          0,
          0,
          0,
          0,
          0,
          0,
          0,
          0,
          0,
          0,
          0,
          0,
          0,
          0,
          0,
          0,
          0,
          0,
          0,
          0,
          0,
          0,
          0,
          0,
          0,
          0,
          0,
          0,
          0,
          0,
          0,
          0,
          0,
          0,
          0,
          0,
          0,
          0,
          0,
          0,
          0,
          0,
          0,
          0,
          0,
          0,
          0,
          0,
          0,
          0,
          0,
          0,
          0,
          0,
          0,
          0,
          0,
          0,
          0,
          0,
          0,
          0,
          0,
          0,
          0,
          0,
          0
         ]
        }
       ],
       "layout": {
        "height": 500,
        "template": {
         "data": {
          "bar": [
           {
            "error_x": {
             "color": "#2a3f5f"
            },
            "error_y": {
             "color": "#2a3f5f"
            },
            "marker": {
             "line": {
              "color": "#E5ECF6",
              "width": 0.5
             },
             "pattern": {
              "fillmode": "overlay",
              "size": 10,
              "solidity": 0.2
             }
            },
            "type": "bar"
           }
          ],
          "barpolar": [
           {
            "marker": {
             "line": {
              "color": "#E5ECF6",
              "width": 0.5
             },
             "pattern": {
              "fillmode": "overlay",
              "size": 10,
              "solidity": 0.2
             }
            },
            "type": "barpolar"
           }
          ],
          "carpet": [
           {
            "aaxis": {
             "endlinecolor": "#2a3f5f",
             "gridcolor": "white",
             "linecolor": "white",
             "minorgridcolor": "white",
             "startlinecolor": "#2a3f5f"
            },
            "baxis": {
             "endlinecolor": "#2a3f5f",
             "gridcolor": "white",
             "linecolor": "white",
             "minorgridcolor": "white",
             "startlinecolor": "#2a3f5f"
            },
            "type": "carpet"
           }
          ],
          "choropleth": [
           {
            "colorbar": {
             "outlinewidth": 0,
             "ticks": ""
            },
            "type": "choropleth"
           }
          ],
          "contour": [
           {
            "colorbar": {
             "outlinewidth": 0,
             "ticks": ""
            },
            "colorscale": [
             [
              0,
              "#0d0887"
             ],
             [
              0.1111111111111111,
              "#46039f"
             ],
             [
              0.2222222222222222,
              "#7201a8"
             ],
             [
              0.3333333333333333,
              "#9c179e"
             ],
             [
              0.4444444444444444,
              "#bd3786"
             ],
             [
              0.5555555555555556,
              "#d8576b"
             ],
             [
              0.6666666666666666,
              "#ed7953"
             ],
             [
              0.7777777777777778,
              "#fb9f3a"
             ],
             [
              0.8888888888888888,
              "#fdca26"
             ],
             [
              1,
              "#f0f921"
             ]
            ],
            "type": "contour"
           }
          ],
          "contourcarpet": [
           {
            "colorbar": {
             "outlinewidth": 0,
             "ticks": ""
            },
            "type": "contourcarpet"
           }
          ],
          "heatmap": [
           {
            "colorbar": {
             "outlinewidth": 0,
             "ticks": ""
            },
            "colorscale": [
             [
              0,
              "#0d0887"
             ],
             [
              0.1111111111111111,
              "#46039f"
             ],
             [
              0.2222222222222222,
              "#7201a8"
             ],
             [
              0.3333333333333333,
              "#9c179e"
             ],
             [
              0.4444444444444444,
              "#bd3786"
             ],
             [
              0.5555555555555556,
              "#d8576b"
             ],
             [
              0.6666666666666666,
              "#ed7953"
             ],
             [
              0.7777777777777778,
              "#fb9f3a"
             ],
             [
              0.8888888888888888,
              "#fdca26"
             ],
             [
              1,
              "#f0f921"
             ]
            ],
            "type": "heatmap"
           }
          ],
          "heatmapgl": [
           {
            "colorbar": {
             "outlinewidth": 0,
             "ticks": ""
            },
            "colorscale": [
             [
              0,
              "#0d0887"
             ],
             [
              0.1111111111111111,
              "#46039f"
             ],
             [
              0.2222222222222222,
              "#7201a8"
             ],
             [
              0.3333333333333333,
              "#9c179e"
             ],
             [
              0.4444444444444444,
              "#bd3786"
             ],
             [
              0.5555555555555556,
              "#d8576b"
             ],
             [
              0.6666666666666666,
              "#ed7953"
             ],
             [
              0.7777777777777778,
              "#fb9f3a"
             ],
             [
              0.8888888888888888,
              "#fdca26"
             ],
             [
              1,
              "#f0f921"
             ]
            ],
            "type": "heatmapgl"
           }
          ],
          "histogram": [
           {
            "marker": {
             "pattern": {
              "fillmode": "overlay",
              "size": 10,
              "solidity": 0.2
             }
            },
            "type": "histogram"
           }
          ],
          "histogram2d": [
           {
            "colorbar": {
             "outlinewidth": 0,
             "ticks": ""
            },
            "colorscale": [
             [
              0,
              "#0d0887"
             ],
             [
              0.1111111111111111,
              "#46039f"
             ],
             [
              0.2222222222222222,
              "#7201a8"
             ],
             [
              0.3333333333333333,
              "#9c179e"
             ],
             [
              0.4444444444444444,
              "#bd3786"
             ],
             [
              0.5555555555555556,
              "#d8576b"
             ],
             [
              0.6666666666666666,
              "#ed7953"
             ],
             [
              0.7777777777777778,
              "#fb9f3a"
             ],
             [
              0.8888888888888888,
              "#fdca26"
             ],
             [
              1,
              "#f0f921"
             ]
            ],
            "type": "histogram2d"
           }
          ],
          "histogram2dcontour": [
           {
            "colorbar": {
             "outlinewidth": 0,
             "ticks": ""
            },
            "colorscale": [
             [
              0,
              "#0d0887"
             ],
             [
              0.1111111111111111,
              "#46039f"
             ],
             [
              0.2222222222222222,
              "#7201a8"
             ],
             [
              0.3333333333333333,
              "#9c179e"
             ],
             [
              0.4444444444444444,
              "#bd3786"
             ],
             [
              0.5555555555555556,
              "#d8576b"
             ],
             [
              0.6666666666666666,
              "#ed7953"
             ],
             [
              0.7777777777777778,
              "#fb9f3a"
             ],
             [
              0.8888888888888888,
              "#fdca26"
             ],
             [
              1,
              "#f0f921"
             ]
            ],
            "type": "histogram2dcontour"
           }
          ],
          "mesh3d": [
           {
            "colorbar": {
             "outlinewidth": 0,
             "ticks": ""
            },
            "type": "mesh3d"
           }
          ],
          "parcoords": [
           {
            "line": {
             "colorbar": {
              "outlinewidth": 0,
              "ticks": ""
             }
            },
            "type": "parcoords"
           }
          ],
          "pie": [
           {
            "automargin": true,
            "type": "pie"
           }
          ],
          "scatter": [
           {
            "fillpattern": {
             "fillmode": "overlay",
             "size": 10,
             "solidity": 0.2
            },
            "type": "scatter"
           }
          ],
          "scatter3d": [
           {
            "line": {
             "colorbar": {
              "outlinewidth": 0,
              "ticks": ""
             }
            },
            "marker": {
             "colorbar": {
              "outlinewidth": 0,
              "ticks": ""
             }
            },
            "type": "scatter3d"
           }
          ],
          "scattercarpet": [
           {
            "marker": {
             "colorbar": {
              "outlinewidth": 0,
              "ticks": ""
             }
            },
            "type": "scattercarpet"
           }
          ],
          "scattergeo": [
           {
            "marker": {
             "colorbar": {
              "outlinewidth": 0,
              "ticks": ""
             }
            },
            "type": "scattergeo"
           }
          ],
          "scattergl": [
           {
            "marker": {
             "colorbar": {
              "outlinewidth": 0,
              "ticks": ""
             }
            },
            "type": "scattergl"
           }
          ],
          "scattermapbox": [
           {
            "marker": {
             "colorbar": {
              "outlinewidth": 0,
              "ticks": ""
             }
            },
            "type": "scattermapbox"
           }
          ],
          "scatterpolar": [
           {
            "marker": {
             "colorbar": {
              "outlinewidth": 0,
              "ticks": ""
             }
            },
            "type": "scatterpolar"
           }
          ],
          "scatterpolargl": [
           {
            "marker": {
             "colorbar": {
              "outlinewidth": 0,
              "ticks": ""
             }
            },
            "type": "scatterpolargl"
           }
          ],
          "scatterternary": [
           {
            "marker": {
             "colorbar": {
              "outlinewidth": 0,
              "ticks": ""
             }
            },
            "type": "scatterternary"
           }
          ],
          "surface": [
           {
            "colorbar": {
             "outlinewidth": 0,
             "ticks": ""
            },
            "colorscale": [
             [
              0,
              "#0d0887"
             ],
             [
              0.1111111111111111,
              "#46039f"
             ],
             [
              0.2222222222222222,
              "#7201a8"
             ],
             [
              0.3333333333333333,
              "#9c179e"
             ],
             [
              0.4444444444444444,
              "#bd3786"
             ],
             [
              0.5555555555555556,
              "#d8576b"
             ],
             [
              0.6666666666666666,
              "#ed7953"
             ],
             [
              0.7777777777777778,
              "#fb9f3a"
             ],
             [
              0.8888888888888888,
              "#fdca26"
             ],
             [
              1,
              "#f0f921"
             ]
            ],
            "type": "surface"
           }
          ],
          "table": [
           {
            "cells": {
             "fill": {
              "color": "#EBF0F8"
             },
             "line": {
              "color": "white"
             }
            },
            "header": {
             "fill": {
              "color": "#C8D4E3"
             },
             "line": {
              "color": "white"
             }
            },
            "type": "table"
           }
          ]
         },
         "layout": {
          "annotationdefaults": {
           "arrowcolor": "#2a3f5f",
           "arrowhead": 0,
           "arrowwidth": 1
          },
          "autotypenumbers": "strict",
          "coloraxis": {
           "colorbar": {
            "outlinewidth": 0,
            "ticks": ""
           }
          },
          "colorscale": {
           "diverging": [
            [
             0,
             "#8e0152"
            ],
            [
             0.1,
             "#c51b7d"
            ],
            [
             0.2,
             "#de77ae"
            ],
            [
             0.3,
             "#f1b6da"
            ],
            [
             0.4,
             "#fde0ef"
            ],
            [
             0.5,
             "#f7f7f7"
            ],
            [
             0.6,
             "#e6f5d0"
            ],
            [
             0.7,
             "#b8e186"
            ],
            [
             0.8,
             "#7fbc41"
            ],
            [
             0.9,
             "#4d9221"
            ],
            [
             1,
             "#276419"
            ]
           ],
           "sequential": [
            [
             0,
             "#0d0887"
            ],
            [
             0.1111111111111111,
             "#46039f"
            ],
            [
             0.2222222222222222,
             "#7201a8"
            ],
            [
             0.3333333333333333,
             "#9c179e"
            ],
            [
             0.4444444444444444,
             "#bd3786"
            ],
            [
             0.5555555555555556,
             "#d8576b"
            ],
            [
             0.6666666666666666,
             "#ed7953"
            ],
            [
             0.7777777777777778,
             "#fb9f3a"
            ],
            [
             0.8888888888888888,
             "#fdca26"
            ],
            [
             1,
             "#f0f921"
            ]
           ],
           "sequentialminus": [
            [
             0,
             "#0d0887"
            ],
            [
             0.1111111111111111,
             "#46039f"
            ],
            [
             0.2222222222222222,
             "#7201a8"
            ],
            [
             0.3333333333333333,
             "#9c179e"
            ],
            [
             0.4444444444444444,
             "#bd3786"
            ],
            [
             0.5555555555555556,
             "#d8576b"
            ],
            [
             0.6666666666666666,
             "#ed7953"
            ],
            [
             0.7777777777777778,
             "#fb9f3a"
            ],
            [
             0.8888888888888888,
             "#fdca26"
            ],
            [
             1,
             "#f0f921"
            ]
           ]
          },
          "colorway": [
           "#636efa",
           "#EF553B",
           "#00cc96",
           "#ab63fa",
           "#FFA15A",
           "#19d3f3",
           "#FF6692",
           "#B6E880",
           "#FF97FF",
           "#FECB52"
          ],
          "font": {
           "color": "#2a3f5f"
          },
          "geo": {
           "bgcolor": "white",
           "lakecolor": "white",
           "landcolor": "#E5ECF6",
           "showlakes": true,
           "showland": true,
           "subunitcolor": "white"
          },
          "hoverlabel": {
           "align": "left"
          },
          "hovermode": "closest",
          "mapbox": {
           "style": "light"
          },
          "paper_bgcolor": "white",
          "plot_bgcolor": "#E5ECF6",
          "polar": {
           "angularaxis": {
            "gridcolor": "white",
            "linecolor": "white",
            "ticks": ""
           },
           "bgcolor": "#E5ECF6",
           "radialaxis": {
            "gridcolor": "white",
            "linecolor": "white",
            "ticks": ""
           }
          },
          "scene": {
           "xaxis": {
            "backgroundcolor": "#E5ECF6",
            "gridcolor": "white",
            "gridwidth": 2,
            "linecolor": "white",
            "showbackground": true,
            "ticks": "",
            "zerolinecolor": "white"
           },
           "yaxis": {
            "backgroundcolor": "#E5ECF6",
            "gridcolor": "white",
            "gridwidth": 2,
            "linecolor": "white",
            "showbackground": true,
            "ticks": "",
            "zerolinecolor": "white"
           },
           "zaxis": {
            "backgroundcolor": "#E5ECF6",
            "gridcolor": "white",
            "gridwidth": 2,
            "linecolor": "white",
            "showbackground": true,
            "ticks": "",
            "zerolinecolor": "white"
           }
          },
          "shapedefaults": {
           "line": {
            "color": "#2a3f5f"
           }
          },
          "ternary": {
           "aaxis": {
            "gridcolor": "white",
            "linecolor": "white",
            "ticks": ""
           },
           "baxis": {
            "gridcolor": "white",
            "linecolor": "white",
            "ticks": ""
           },
           "bgcolor": "#E5ECF6",
           "caxis": {
            "gridcolor": "white",
            "linecolor": "white",
            "ticks": ""
           }
          },
          "title": {
           "x": 0.05
          },
          "xaxis": {
           "automargin": true,
           "gridcolor": "white",
           "linecolor": "white",
           "ticks": "",
           "title": {
            "standoff": 15
           },
           "zerolinecolor": "white",
           "zerolinewidth": 2
          },
          "yaxis": {
           "automargin": true,
           "gridcolor": "white",
           "linecolor": "white",
           "ticks": "",
           "title": {
            "standoff": 15
           },
           "zerolinecolor": "white",
           "zerolinewidth": 2
          }
         }
        },
        "title": {
         "text": "Potential profit at various cutoffs"
        },
        "width": 700,
        "xaxis": {
         "autorange": true,
         "range": [
          0,
          1
         ],
         "type": "linear"
        },
        "yaxis": {
         "autorange": true,
         "range": [
          -1801.2966666666669,
          34196.43666666667
         ],
         "type": "linear"
        }
       }
      },
      "image/png": "[encoded data removed]",
      "text/html": [
       "<div>                            <div id=\"ded82200-fc49-4f1e-ab4f-15d3647c5e23\" class=\"plotly-graph-div\" style=\"height:500px; width:700px;\"></div>            <script type=\"text/javascript\">                require([\"plotly\"], function(Plotly) {                    window.PLOTLYENV=window.PLOTLYENV || {};                                    if (document.getElementById(\"ded82200-fc49-4f1e-ab4f-15d3647c5e23\")) {                    Plotly.newPlot(                        \"ded82200-fc49-4f1e-ab4f-15d3647c5e23\",                        [{\"mode\":\"lines\",\"name\":\"m5\",\"x\":[0.0,0.005025125628140704,0.010050251256281407,0.01507537688442211,0.020100502512562814,0.02512562814070352,0.03015075376884422,0.035175879396984924,0.04020100502512563,0.04522613065326633,0.05025125628140704,0.05527638190954774,0.06030150753768844,0.06532663316582915,0.07035175879396985,0.07537688442211056,0.08040201005025126,0.08542713567839195,0.09045226130653267,0.09547738693467336,0.10050251256281408,0.10552763819095477,0.11055276381909548,0.11557788944723618,0.12060301507537688,0.12562814070351758,0.1306532663316583,0.135678391959799,0.1407035175879397,0.1457286432160804,0.15075376884422112,0.15577889447236182,0.16080402010050251,0.1658291457286432,0.1708542713567839,0.17587939698492464,0.18090452261306533,0.18592964824120603,0.19095477386934673,0.19597989949748745,0.20100502512562815,0.20603015075376885,0.21105527638190955,0.21608040201005024,0.22110552763819097,0.22613065326633167,0.23115577889447236,0.23618090452261306,0.24120603015075376,0.24623115577889448,0.25125628140703515,0.2562814070351759,0.2613065326633166,0.2663316582914573,0.271356783919598,0.2763819095477387,0.2814070351758794,0.2864321608040201,0.2914572864321608,0.2964824120603015,0.30150753768844224,0.3065326633165829,0.31155778894472363,0.3165829145728643,0.32160804020100503,0.32663316582914576,0.3316582914572864,0.33668341708542715,0.3417085427135678,0.34673366834170855,0.35175879396984927,0.35678391959798994,0.36180904522613067,0.36683417085427134,0.37185929648241206,0.3768844221105528,0.38190954773869346,0.3869346733668342,0.3919597989949749,0.3969849246231156,0.4020100502512563,0.40703517587939697,0.4120603015075377,0.4170854271356784,0.4221105527638191,0.4271356783919598,0.4321608040201005,0.4371859296482412,0.44221105527638194,0.4472361809045226,0.45226130653266333,0.457286432160804,0.4623115577889447,0.46733668341708545,0.4723618090452261,0.47738693467336685,0.4824120603015075,0.48743718592964824,0.49246231155778897,0.49748743718592964,0.5025125628140703,0.507537688442211,0.5125628140703518,0.5175879396984925,0.5226130653266332,0.5276381909547738,0.5326633165829145,0.5376884422110553,0.542713567839196,0.5477386934673367,0.5527638190954774,0.5577889447236181,0.5628140703517588,0.5678391959798995,0.5728643216080402,0.577889447236181,0.5829145728643216,0.5879396984924623,0.592964824120603,0.5979899497487438,0.6030150753768845,0.6080402010050251,0.6130653266331658,0.6180904522613065,0.6231155778894473,0.628140703517588,0.6331658291457286,0.6381909547738693,0.6432160804020101,0.6482412060301508,0.6532663316582915,0.6582914572864321,0.6633165829145728,0.6683417085427136,0.6733668341708543,0.678391959798995,0.6834170854271356,0.6884422110552764,0.6934673366834171,0.6984924623115578,0.7035175879396985,0.7085427135678392,0.7135678391959799,0.7185929648241206,0.7236180904522613,0.7286432160804021,0.7336683417085427,0.7386934673366834,0.7437185929648241,0.7487437185929648,0.7537688442211056,0.7587939698492463,0.7638190954773869,0.7688442211055276,0.7738693467336684,0.7788944723618091,0.7839195979899498,0.7889447236180904,0.7939698492462312,0.7989949748743719,0.8040201005025126,0.8090452261306533,0.8140703517587939,0.8190954773869347,0.8241206030150754,0.8291457286432161,0.8341708542713568,0.8391959798994975,0.8442211055276382,0.8492462311557789,0.8542713567839196,0.8592964824120604,0.864321608040201,0.8693467336683417,0.8743718592964824,0.8793969849246231,0.8844221105527639,0.8894472361809045,0.8944723618090452,0.8994974874371859,0.9045226130653267,0.9095477386934674,0.914572864321608,0.9195979899497487,0.9246231155778895,0.9296482412060302,0.9346733668341709,0.9396984924623115,0.9447236180904522,0.949748743718593,0.9547738693467337,0.9597989949748744,0.964824120603015,0.9698492462311558,0.9748743718592965,0.9798994974874372,0.9849246231155779,0.9899497487437187,0.9949748743718593,1.0],\"y\":[29460.000000000007,29506.530000000006,30171.600000000006,31074.540000000005,32170.350000000006,32396.550000000003,31511.250000000004,30137.64,29363.700000000004,28743.9,27939.39,26223.75,24357.24,23105.130000000005,21742.41,19820.100000000002,18221.91,16857.450000000004,15108.390000000001,14138.7,13042.740000000002,12481.920000000002,11311.230000000001,10617.09,9843.21,9412.41,8816.49,8214.93,7587.990000000001,7100.79,6825.39,6482.9400000000005,6133.44,5817.15,5449.320000000001,5125.98,4820.97,4679.040000000001,4350.06,4018.2600000000007,3918.0,3874.92,3716.07,3381.4500000000003,3395.55,3284.01,3118.11,2896.44,2736.1800000000003,2635.9200000000005,2350.02,1942.7100000000003,1596.81,1192.3200000000002,906.4200000000001,852.0600000000001,794.88,503.34000000000003,513.21,338.85,284.49000000000007,227.31,228.72000000000003,230.13000000000002,230.13000000000002,114.36000000000001,57.18000000000001,-1.41,-1.41,-1.41,-1.41,-1.41,0.0,0.0,0.0,0.0,0.0,0.0,0.0,0.0,0.0,0.0,0.0,0.0,0.0,0.0,0.0,0.0,0.0,0.0,0.0,0.0,0.0,0.0,0.0,0.0,0.0,0.0,0.0,0.0,0.0,0.0,0.0,0.0,0.0,0.0,0.0,0.0,0.0,0.0,0.0,0.0,0.0,0.0,0.0,0.0,0.0,0.0,0.0,0.0,0.0,0.0,0.0,0.0,0.0,0.0,0.0,0.0,0.0,0.0,0.0,0.0,0.0,0.0,0.0,0.0,0.0,0.0,0.0,0.0,0.0,0.0,0.0,0.0,0.0,0.0,0.0,0.0,0.0,0.0,0.0,0.0,0.0,0.0,0.0,0.0,0.0,0.0,0.0,0.0,0.0,0.0,0.0,0.0,0.0,0.0,0.0,0.0,0.0,0.0,0.0,0.0,0.0,0.0,0.0,0.0,0.0,0.0,0.0,0.0,0.0,0.0,0.0,0.0,0.0,0.0,0.0,0.0,0.0,0.0,0.0,0.0,0.0,0.0,0.0,0.0,0.0,0.0,0.0,0.0],\"type\":\"scatter\"},{\"mode\":\"lines\",\"name\":\"m5\",\"x\":[0.0,0.005025125628140704,0.010050251256281407,0.01507537688442211,0.020100502512562814,0.02512562814070352,0.03015075376884422,0.035175879396984924,0.04020100502512563,0.04522613065326633,0.05025125628140704,0.05527638190954774,0.06030150753768844,0.06532663316582915,0.07035175879396985,0.07537688442211056,0.08040201005025126,0.08542713567839195,0.09045226130653267,0.09547738693467336,0.10050251256281408,0.10552763819095477,0.11055276381909548,0.11557788944723618,0.12060301507537688,0.12562814070351758,0.1306532663316583,0.135678391959799,0.1407035175879397,0.1457286432160804,0.15075376884422112,0.15577889447236182,0.16080402010050251,0.1658291457286432,0.1708542713567839,0.17587939698492464,0.18090452261306533,0.18592964824120603,0.19095477386934673,0.19597989949748745,0.20100502512562815,0.20603015075376885,0.21105527638190955,0.21608040201005024,0.22110552763819097,0.22613065326633167,0.23115577889447236,0.23618090452261306,0.24120603015075376,0.24623115577889448,0.25125628140703515,0.2562814070351759,0.2613065326633166,0.2663316582914573,0.271356783919598,0.2763819095477387,0.2814070351758794,0.2864321608040201,0.2914572864321608,0.2964824120603015,0.30150753768844224,0.3065326633165829,0.31155778894472363,0.3165829145728643,0.32160804020100503,0.32663316582914576,0.3316582914572864,0.33668341708542715,0.3417085427135678,0.34673366834170855,0.35175879396984927,0.35678391959798994,0.36180904522613067,0.36683417085427134,0.37185929648241206,0.3768844221105528,0.38190954773869346,0.3869346733668342,0.3919597989949749,0.3969849246231156,0.4020100502512563,0.40703517587939697,0.4120603015075377,0.4170854271356784,0.4221105527638191,0.4271356783919598,0.4321608040201005,0.4371859296482412,0.44221105527638194,0.4472361809045226,0.45226130653266333,0.457286432160804,0.4623115577889447,0.46733668341708545,0.4723618090452261,0.47738693467336685,0.4824120603015075,0.48743718592964824,0.49246231155778897,0.49748743718592964,0.5025125628140703,0.507537688442211,0.5125628140703518,0.5175879396984925,0.5226130653266332,0.5276381909547738,0.5326633165829145,0.5376884422110553,0.542713567839196,0.5477386934673367,0.5527638190954774,0.5577889447236181,0.5628140703517588,0.5678391959798995,0.5728643216080402,0.577889447236181,0.5829145728643216,0.5879396984924623,0.592964824120603,0.5979899497487438,0.6030150753768845,0.6080402010050251,0.6130653266331658,0.6180904522613065,0.6231155778894473,0.628140703517588,0.6331658291457286,0.6381909547738693,0.6432160804020101,0.6482412060301508,0.6532663316582915,0.6582914572864321,0.6633165829145728,0.6683417085427136,0.6733668341708543,0.678391959798995,0.6834170854271356,0.6884422110552764,0.6934673366834171,0.6984924623115578,0.7035175879396985,0.7085427135678392,0.7135678391959799,0.7185929648241206,0.7236180904522613,0.7286432160804021,0.7336683417085427,0.7386934673366834,0.7437185929648241,0.7487437185929648,0.7537688442211056,0.7587939698492463,0.7638190954773869,0.7688442211055276,0.7738693467336684,0.7788944723618091,0.7839195979899498,0.7889447236180904,0.7939698492462312,0.7989949748743719,0.8040201005025126,0.8090452261306533,0.8140703517587939,0.8190954773869347,0.8241206030150754,0.8291457286432161,0.8341708542713568,0.8391959798994975,0.8442211055276382,0.8492462311557789,0.8542713567839196,0.8592964824120604,0.864321608040201,0.8693467336683417,0.8743718592964824,0.8793969849246231,0.8844221105527639,0.8894472361809045,0.8944723618090452,0.8994974874371859,0.9045226130653267,0.9095477386934674,0.914572864321608,0.9195979899497487,0.9246231155778895,0.9296482412060302,0.9346733668341709,0.9396984924623115,0.9447236180904522,0.949748743718593,0.9547738693467337,0.9597989949748744,0.964824120603015,0.9698492462311558,0.9748743718592965,0.9798994974874372,0.9849246231155779,0.9899497487437187,0.9949748743718593,1.0],\"y\":[29460.000000000007,29506.530000000006,30171.600000000006,31074.540000000005,32170.350000000006,32396.550000000003,31511.250000000004,30137.64,29363.700000000004,28743.9,27939.39,26223.75,24357.24,23105.130000000005,21742.41,19820.100000000002,18221.91,16857.450000000004,15108.390000000001,14138.7,13042.740000000002,12481.920000000002,11311.230000000001,10617.09,9843.21,9412.41,8816.49,8214.93,7587.990000000001,7100.79,6825.39,6482.9400000000005,6133.44,5817.15,5449.320000000001,5125.98,4820.97,4679.040000000001,4350.06,4018.2600000000007,3918.0,3874.92,3716.07,3381.4500000000003,3395.55,3284.01,3118.11,2896.44,2736.1800000000003,2635.9200000000005,2350.02,1942.7100000000003,1596.81,1192.3200000000002,906.4200000000001,852.0600000000001,794.88,503.34000000000003,513.21,338.85,284.49000000000007,227.31,228.72000000000003,230.13000000000002,230.13000000000002,114.36000000000001,57.18000000000001,-1.41,-1.41,-1.41,-1.41,-1.41,0.0,0.0,0.0,0.0,0.0,0.0,0.0,0.0,0.0,0.0,0.0,0.0,0.0,0.0,0.0,0.0,0.0,0.0,0.0,0.0,0.0,0.0,0.0,0.0,0.0,0.0,0.0,0.0,0.0,0.0,0.0,0.0,0.0,0.0,0.0,0.0,0.0,0.0,0.0,0.0,0.0,0.0,0.0,0.0,0.0,0.0,0.0,0.0,0.0,0.0,0.0,0.0,0.0,0.0,0.0,0.0,0.0,0.0,0.0,0.0,0.0,0.0,0.0,0.0,0.0,0.0,0.0,0.0,0.0,0.0,0.0,0.0,0.0,0.0,0.0,0.0,0.0,0.0,0.0,0.0,0.0,0.0,0.0,0.0,0.0,0.0,0.0,0.0,0.0,0.0,0.0,0.0,0.0,0.0,0.0,0.0,0.0,0.0,0.0,0.0,0.0,0.0,0.0,0.0,0.0,0.0,0.0,0.0,0.0,0.0,0.0,0.0,0.0,0.0,0.0,0.0,0.0,0.0,0.0,0.0,0.0,0.0,0.0,0.0,0.0,0.0,0.0,0.0],\"type\":\"scatter\"},{\"mode\":\"lines\",\"name\":\"m5\",\"x\":[0.0,0.005025125628140704,0.010050251256281407,0.01507537688442211,0.020100502512562814,0.02512562814070352,0.03015075376884422,0.035175879396984924,0.04020100502512563,0.04522613065326633,0.05025125628140704,0.05527638190954774,0.06030150753768844,0.06532663316582915,0.07035175879396985,0.07537688442211056,0.08040201005025126,0.08542713567839195,0.09045226130653267,0.09547738693467336,0.10050251256281408,0.10552763819095477,0.11055276381909548,0.11557788944723618,0.12060301507537688,0.12562814070351758,0.1306532663316583,0.135678391959799,0.1407035175879397,0.1457286432160804,0.15075376884422112,0.15577889447236182,0.16080402010050251,0.1658291457286432,0.1708542713567839,0.17587939698492464,0.18090452261306533,0.18592964824120603,0.19095477386934673,0.19597989949748745,0.20100502512562815,0.20603015075376885,0.21105527638190955,0.21608040201005024,0.22110552763819097,0.22613065326633167,0.23115577889447236,0.23618090452261306,0.24120603015075376,0.24623115577889448,0.25125628140703515,0.2562814070351759,0.2613065326633166,0.2663316582914573,0.271356783919598,0.2763819095477387,0.2814070351758794,0.2864321608040201,0.2914572864321608,0.2964824120603015,0.30150753768844224,0.3065326633165829,0.31155778894472363,0.3165829145728643,0.32160804020100503,0.32663316582914576,0.3316582914572864,0.33668341708542715,0.3417085427135678,0.34673366834170855,0.35175879396984927,0.35678391959798994,0.36180904522613067,0.36683417085427134,0.37185929648241206,0.3768844221105528,0.38190954773869346,0.3869346733668342,0.3919597989949749,0.3969849246231156,0.4020100502512563,0.40703517587939697,0.4120603015075377,0.4170854271356784,0.4221105527638191,0.4271356783919598,0.4321608040201005,0.4371859296482412,0.44221105527638194,0.4472361809045226,0.45226130653266333,0.457286432160804,0.4623115577889447,0.46733668341708545,0.4723618090452261,0.47738693467336685,0.4824120603015075,0.48743718592964824,0.49246231155778897,0.49748743718592964,0.5025125628140703,0.507537688442211,0.5125628140703518,0.5175879396984925,0.5226130653266332,0.5276381909547738,0.5326633165829145,0.5376884422110553,0.542713567839196,0.5477386934673367,0.5527638190954774,0.5577889447236181,0.5628140703517588,0.5678391959798995,0.5728643216080402,0.577889447236181,0.5829145728643216,0.5879396984924623,0.592964824120603,0.5979899497487438,0.6030150753768845,0.6080402010050251,0.6130653266331658,0.6180904522613065,0.6231155778894473,0.628140703517588,0.6331658291457286,0.6381909547738693,0.6432160804020101,0.6482412060301508,0.6532663316582915,0.6582914572864321,0.6633165829145728,0.6683417085427136,0.6733668341708543,0.678391959798995,0.6834170854271356,0.6884422110552764,0.6934673366834171,0.6984924623115578,0.7035175879396985,0.7085427135678392,0.7135678391959799,0.7185929648241206,0.7236180904522613,0.7286432160804021,0.7336683417085427,0.7386934673366834,0.7437185929648241,0.7487437185929648,0.7537688442211056,0.7587939698492463,0.7638190954773869,0.7688442211055276,0.7738693467336684,0.7788944723618091,0.7839195979899498,0.7889447236180904,0.7939698492462312,0.7989949748743719,0.8040201005025126,0.8090452261306533,0.8140703517587939,0.8190954773869347,0.8241206030150754,0.8291457286432161,0.8341708542713568,0.8391959798994975,0.8442211055276382,0.8492462311557789,0.8542713567839196,0.8592964824120604,0.864321608040201,0.8693467336683417,0.8743718592964824,0.8793969849246231,0.8844221105527639,0.8894472361809045,0.8944723618090452,0.8994974874371859,0.9045226130653267,0.9095477386934674,0.914572864321608,0.9195979899497487,0.9246231155778895,0.9296482412060302,0.9346733668341709,0.9396984924623115,0.9447236180904522,0.949748743718593,0.9547738693467337,0.9597989949748744,0.964824120603015,0.9698492462311558,0.9748743718592965,0.9798994974874372,0.9849246231155779,0.9899497487437187,0.9949748743718593,1.0],\"y\":[29460.000000000007,29506.530000000006,30171.600000000006,31074.540000000005,32170.350000000006,32396.550000000003,31511.250000000004,30137.64,29363.700000000004,28743.9,27939.39,26223.75,24357.24,23105.130000000005,21742.41,19820.100000000002,18221.91,16857.450000000004,15108.390000000001,14138.7,13042.740000000002,12481.920000000002,11311.230000000001,10617.09,9843.21,9412.41,8816.49,8214.93,7587.990000000001,7100.79,6825.39,6482.9400000000005,6133.44,5817.15,5449.320000000001,5125.98,4820.97,4679.040000000001,4350.06,4018.2600000000007,3918.0,3874.92,3716.07,3381.4500000000003,3395.55,3284.01,3118.11,2896.44,2736.1800000000003,2635.9200000000005,2350.02,1942.7100000000003,1596.81,1192.3200000000002,906.4200000000001,852.0600000000001,794.88,503.34000000000003,513.21,338.85,284.49000000000007,227.31,228.72000000000003,230.13000000000002,230.13000000000002,114.36000000000001,57.18000000000001,-1.41,-1.41,-1.41,-1.41,-1.41,0.0,0.0,0.0,0.0,0.0,0.0,0.0,0.0,0.0,0.0,0.0,0.0,0.0,0.0,0.0,0.0,0.0,0.0,0.0,0.0,0.0,0.0,0.0,0.0,0.0,0.0,0.0,0.0,0.0,0.0,0.0,0.0,0.0,0.0,0.0,0.0,0.0,0.0,0.0,0.0,0.0,0.0,0.0,0.0,0.0,0.0,0.0,0.0,0.0,0.0,0.0,0.0,0.0,0.0,0.0,0.0,0.0,0.0,0.0,0.0,0.0,0.0,0.0,0.0,0.0,0.0,0.0,0.0,0.0,0.0,0.0,0.0,0.0,0.0,0.0,0.0,0.0,0.0,0.0,0.0,0.0,0.0,0.0,0.0,0.0,0.0,0.0,0.0,0.0,0.0,0.0,0.0,0.0,0.0,0.0,0.0,0.0,0.0,0.0,0.0,0.0,0.0,0.0,0.0,0.0,0.0,0.0,0.0,0.0,0.0,0.0,0.0,0.0,0.0,0.0,0.0,0.0,0.0,0.0,0.0,0.0,0.0,0.0,0.0,0.0,0.0,0.0,0.0],\"type\":\"scatter\"},{\"mode\":\"lines\",\"name\":\"m5\",\"x\":[0.0,0.005025125628140704,0.010050251256281407,0.01507537688442211,0.020100502512562814,0.02512562814070352,0.03015075376884422,0.035175879396984924,0.04020100502512563,0.04522613065326633,0.05025125628140704,0.05527638190954774,0.06030150753768844,0.06532663316582915,0.07035175879396985,0.07537688442211056,0.08040201005025126,0.08542713567839195,0.09045226130653267,0.09547738693467336,0.10050251256281408,0.10552763819095477,0.11055276381909548,0.11557788944723618,0.12060301507537688,0.12562814070351758,0.1306532663316583,0.135678391959799,0.1407035175879397,0.1457286432160804,0.15075376884422112,0.15577889447236182,0.16080402010050251,0.1658291457286432,0.1708542713567839,0.17587939698492464,0.18090452261306533,0.18592964824120603,0.19095477386934673,0.19597989949748745,0.20100502512562815,0.20603015075376885,0.21105527638190955,0.21608040201005024,0.22110552763819097,0.22613065326633167,0.23115577889447236,0.23618090452261306,0.24120603015075376,0.24623115577889448,0.25125628140703515,0.2562814070351759,0.2613065326633166,0.2663316582914573,0.271356783919598,0.2763819095477387,0.2814070351758794,0.2864321608040201,0.2914572864321608,0.2964824120603015,0.30150753768844224,0.3065326633165829,0.31155778894472363,0.3165829145728643,0.32160804020100503,0.32663316582914576,0.3316582914572864,0.33668341708542715,0.3417085427135678,0.34673366834170855,0.35175879396984927,0.35678391959798994,0.36180904522613067,0.36683417085427134,0.37185929648241206,0.3768844221105528,0.38190954773869346,0.3869346733668342,0.3919597989949749,0.3969849246231156,0.4020100502512563,0.40703517587939697,0.4120603015075377,0.4170854271356784,0.4221105527638191,0.4271356783919598,0.4321608040201005,0.4371859296482412,0.44221105527638194,0.4472361809045226,0.45226130653266333,0.457286432160804,0.4623115577889447,0.46733668341708545,0.4723618090452261,0.47738693467336685,0.4824120603015075,0.48743718592964824,0.49246231155778897,0.49748743718592964,0.5025125628140703,0.507537688442211,0.5125628140703518,0.5175879396984925,0.5226130653266332,0.5276381909547738,0.5326633165829145,0.5376884422110553,0.542713567839196,0.5477386934673367,0.5527638190954774,0.5577889447236181,0.5628140703517588,0.5678391959798995,0.5728643216080402,0.577889447236181,0.5829145728643216,0.5879396984924623,0.592964824120603,0.5979899497487438,0.6030150753768845,0.6080402010050251,0.6130653266331658,0.6180904522613065,0.6231155778894473,0.628140703517588,0.6331658291457286,0.6381909547738693,0.6432160804020101,0.6482412060301508,0.6532663316582915,0.6582914572864321,0.6633165829145728,0.6683417085427136,0.6733668341708543,0.678391959798995,0.6834170854271356,0.6884422110552764,0.6934673366834171,0.6984924623115578,0.7035175879396985,0.7085427135678392,0.7135678391959799,0.7185929648241206,0.7236180904522613,0.7286432160804021,0.7336683417085427,0.7386934673366834,0.7437185929648241,0.7487437185929648,0.7537688442211056,0.7587939698492463,0.7638190954773869,0.7688442211055276,0.7738693467336684,0.7788944723618091,0.7839195979899498,0.7889447236180904,0.7939698492462312,0.7989949748743719,0.8040201005025126,0.8090452261306533,0.8140703517587939,0.8190954773869347,0.8241206030150754,0.8291457286432161,0.8341708542713568,0.8391959798994975,0.8442211055276382,0.8492462311557789,0.8542713567839196,0.8592964824120604,0.864321608040201,0.8693467336683417,0.8743718592964824,0.8793969849246231,0.8844221105527639,0.8894472361809045,0.8944723618090452,0.8994974874371859,0.9045226130653267,0.9095477386934674,0.914572864321608,0.9195979899497487,0.9246231155778895,0.9296482412060302,0.9346733668341709,0.9396984924623115,0.9447236180904522,0.949748743718593,0.9547738693467337,0.9597989949748744,0.964824120603015,0.9698492462311558,0.9748743718592965,0.9798994974874372,0.9849246231155779,0.9899497487437187,0.9949748743718593,1.0],\"y\":[29460.000000000007,29506.530000000006,30171.600000000006,31074.540000000005,32170.350000000006,32396.550000000003,31511.250000000004,30137.64,29363.700000000004,28743.9,27939.39,26223.75,24357.24,23105.130000000005,21742.41,19820.100000000002,18221.91,16857.450000000004,15108.390000000001,14138.7,13042.740000000002,12481.920000000002,11311.230000000001,10617.09,9843.21,9412.41,8816.49,8214.93,7587.990000000001,7100.79,6825.39,6482.9400000000005,6133.44,5817.15,5449.320000000001,5125.98,4820.97,4679.040000000001,4350.06,4018.2600000000007,3918.0,3874.92,3716.07,3381.4500000000003,3395.55,3284.01,3118.11,2896.44,2736.1800000000003,2635.9200000000005,2350.02,1942.7100000000003,1596.81,1192.3200000000002,906.4200000000001,852.0600000000001,794.88,503.34000000000003,513.21,338.85,284.49000000000007,227.31,228.72000000000003,230.13000000000002,230.13000000000002,114.36000000000001,57.18000000000001,-1.41,-1.41,-1.41,-1.41,-1.41,0.0,0.0,0.0,0.0,0.0,0.0,0.0,0.0,0.0,0.0,0.0,0.0,0.0,0.0,0.0,0.0,0.0,0.0,0.0,0.0,0.0,0.0,0.0,0.0,0.0,0.0,0.0,0.0,0.0,0.0,0.0,0.0,0.0,0.0,0.0,0.0,0.0,0.0,0.0,0.0,0.0,0.0,0.0,0.0,0.0,0.0,0.0,0.0,0.0,0.0,0.0,0.0,0.0,0.0,0.0,0.0,0.0,0.0,0.0,0.0,0.0,0.0,0.0,0.0,0.0,0.0,0.0,0.0,0.0,0.0,0.0,0.0,0.0,0.0,0.0,0.0,0.0,0.0,0.0,0.0,0.0,0.0,0.0,0.0,0.0,0.0,0.0,0.0,0.0,0.0,0.0,0.0,0.0,0.0,0.0,0.0,0.0,0.0,0.0,0.0,0.0,0.0,0.0,0.0,0.0,0.0,0.0,0.0,0.0,0.0,0.0,0.0,0.0,0.0,0.0,0.0,0.0,0.0,0.0,0.0,0.0,0.0,0.0,0.0,0.0,0.0,0.0,0.0],\"type\":\"scatter\"},{\"mode\":\"lines\",\"name\":\"m5\",\"x\":[0.0,0.005025125628140704,0.010050251256281407,0.01507537688442211,0.020100502512562814,0.02512562814070352,0.03015075376884422,0.035175879396984924,0.04020100502512563,0.04522613065326633,0.05025125628140704,0.05527638190954774,0.06030150753768844,0.06532663316582915,0.07035175879396985,0.07537688442211056,0.08040201005025126,0.08542713567839195,0.09045226130653267,0.09547738693467336,0.10050251256281408,0.10552763819095477,0.11055276381909548,0.11557788944723618,0.12060301507537688,0.12562814070351758,0.1306532663316583,0.135678391959799,0.1407035175879397,0.1457286432160804,0.15075376884422112,0.15577889447236182,0.16080402010050251,0.1658291457286432,0.1708542713567839,0.17587939698492464,0.18090452261306533,0.18592964824120603,0.19095477386934673,0.19597989949748745,0.20100502512562815,0.20603015075376885,0.21105527638190955,0.21608040201005024,0.22110552763819097,0.22613065326633167,0.23115577889447236,0.23618090452261306,0.24120603015075376,0.24623115577889448,0.25125628140703515,0.2562814070351759,0.2613065326633166,0.2663316582914573,0.271356783919598,0.2763819095477387,0.2814070351758794,0.2864321608040201,0.2914572864321608,0.2964824120603015,0.30150753768844224,0.3065326633165829,0.31155778894472363,0.3165829145728643,0.32160804020100503,0.32663316582914576,0.3316582914572864,0.33668341708542715,0.3417085427135678,0.34673366834170855,0.35175879396984927,0.35678391959798994,0.36180904522613067,0.36683417085427134,0.37185929648241206,0.3768844221105528,0.38190954773869346,0.3869346733668342,0.3919597989949749,0.3969849246231156,0.4020100502512563,0.40703517587939697,0.4120603015075377,0.4170854271356784,0.4221105527638191,0.4271356783919598,0.4321608040201005,0.4371859296482412,0.44221105527638194,0.4472361809045226,0.45226130653266333,0.457286432160804,0.4623115577889447,0.46733668341708545,0.4723618090452261,0.47738693467336685,0.4824120603015075,0.48743718592964824,0.49246231155778897,0.49748743718592964,0.5025125628140703,0.507537688442211,0.5125628140703518,0.5175879396984925,0.5226130653266332,0.5276381909547738,0.5326633165829145,0.5376884422110553,0.542713567839196,0.5477386934673367,0.5527638190954774,0.5577889447236181,0.5628140703517588,0.5678391959798995,0.5728643216080402,0.577889447236181,0.5829145728643216,0.5879396984924623,0.592964824120603,0.5979899497487438,0.6030150753768845,0.6080402010050251,0.6130653266331658,0.6180904522613065,0.6231155778894473,0.628140703517588,0.6331658291457286,0.6381909547738693,0.6432160804020101,0.6482412060301508,0.6532663316582915,0.6582914572864321,0.6633165829145728,0.6683417085427136,0.6733668341708543,0.678391959798995,0.6834170854271356,0.6884422110552764,0.6934673366834171,0.6984924623115578,0.7035175879396985,0.7085427135678392,0.7135678391959799,0.7185929648241206,0.7236180904522613,0.7286432160804021,0.7336683417085427,0.7386934673366834,0.7437185929648241,0.7487437185929648,0.7537688442211056,0.7587939698492463,0.7638190954773869,0.7688442211055276,0.7738693467336684,0.7788944723618091,0.7839195979899498,0.7889447236180904,0.7939698492462312,0.7989949748743719,0.8040201005025126,0.8090452261306533,0.8140703517587939,0.8190954773869347,0.8241206030150754,0.8291457286432161,0.8341708542713568,0.8391959798994975,0.8442211055276382,0.8492462311557789,0.8542713567839196,0.8592964824120604,0.864321608040201,0.8693467336683417,0.8743718592964824,0.8793969849246231,0.8844221105527639,0.8894472361809045,0.8944723618090452,0.8994974874371859,0.9045226130653267,0.9095477386934674,0.914572864321608,0.9195979899497487,0.9246231155778895,0.9296482412060302,0.9346733668341709,0.9396984924623115,0.9447236180904522,0.949748743718593,0.9547738693467337,0.9597989949748744,0.964824120603015,0.9698492462311558,0.9748743718592965,0.9798994974874372,0.9849246231155779,0.9899497487437187,0.9949748743718593,1.0],\"y\":[29460.000000000007,29506.530000000006,30171.600000000006,31074.540000000005,32170.350000000006,32396.550000000003,31511.250000000004,30137.64,29363.700000000004,28743.9,27939.39,26223.75,24357.24,23105.130000000005,21742.41,19820.100000000002,18221.91,16857.450000000004,15108.390000000001,14138.7,13042.740000000002,12481.920000000002,11311.230000000001,10617.09,9843.21,9412.41,8816.49,8214.93,7587.990000000001,7100.79,6825.39,6482.9400000000005,6133.44,5817.15,5449.320000000001,5125.98,4820.97,4679.040000000001,4350.06,4018.2600000000007,3918.0,3874.92,3716.07,3381.4500000000003,3395.55,3284.01,3118.11,2896.44,2736.1800000000003,2635.9200000000005,2350.02,1942.7100000000003,1596.81,1192.3200000000002,906.4200000000001,852.0600000000001,794.88,503.34000000000003,513.21,338.85,284.49000000000007,227.31,228.72000000000003,230.13000000000002,230.13000000000002,114.36000000000001,57.18000000000001,-1.41,-1.41,-1.41,-1.41,-1.41,0.0,0.0,0.0,0.0,0.0,0.0,0.0,0.0,0.0,0.0,0.0,0.0,0.0,0.0,0.0,0.0,0.0,0.0,0.0,0.0,0.0,0.0,0.0,0.0,0.0,0.0,0.0,0.0,0.0,0.0,0.0,0.0,0.0,0.0,0.0,0.0,0.0,0.0,0.0,0.0,0.0,0.0,0.0,0.0,0.0,0.0,0.0,0.0,0.0,0.0,0.0,0.0,0.0,0.0,0.0,0.0,0.0,0.0,0.0,0.0,0.0,0.0,0.0,0.0,0.0,0.0,0.0,0.0,0.0,0.0,0.0,0.0,0.0,0.0,0.0,0.0,0.0,0.0,0.0,0.0,0.0,0.0,0.0,0.0,0.0,0.0,0.0,0.0,0.0,0.0,0.0,0.0,0.0,0.0,0.0,0.0,0.0,0.0,0.0,0.0,0.0,0.0,0.0,0.0,0.0,0.0,0.0,0.0,0.0,0.0,0.0,0.0,0.0,0.0,0.0,0.0,0.0,0.0,0.0,0.0,0.0,0.0,0.0,0.0,0.0,0.0,0.0,0.0],\"type\":\"scatter\"}],                        {\"template\":{\"data\":{\"histogram2dcontour\":[{\"type\":\"histogram2dcontour\",\"colorbar\":{\"outlinewidth\":0,\"ticks\":\"\"},\"colorscale\":[[0.0,\"#0d0887\"],[0.1111111111111111,\"#46039f\"],[0.2222222222222222,\"#7201a8\"],[0.3333333333333333,\"#9c179e\"],[0.4444444444444444,\"#bd3786\"],[0.5555555555555556,\"#d8576b\"],[0.6666666666666666,\"#ed7953\"],[0.7777777777777778,\"#fb9f3a\"],[0.8888888888888888,\"#fdca26\"],[1.0,\"#f0f921\"]]}],\"choropleth\":[{\"type\":\"choropleth\",\"colorbar\":{\"outlinewidth\":0,\"ticks\":\"\"}}],\"histogram2d\":[{\"type\":\"histogram2d\",\"colorbar\":{\"outlinewidth\":0,\"ticks\":\"\"},\"colorscale\":[[0.0,\"#0d0887\"],[0.1111111111111111,\"#46039f\"],[0.2222222222222222,\"#7201a8\"],[0.3333333333333333,\"#9c179e\"],[0.4444444444444444,\"#bd3786\"],[0.5555555555555556,\"#d8576b\"],[0.6666666666666666,\"#ed7953\"],[0.7777777777777778,\"#fb9f3a\"],[0.8888888888888888,\"#fdca26\"],[1.0,\"#f0f921\"]]}],\"heatmap\":[{\"type\":\"heatmap\",\"colorbar\":{\"outlinewidth\":0,\"ticks\":\"\"},\"colorscale\":[[0.0,\"#0d0887\"],[0.1111111111111111,\"#46039f\"],[0.2222222222222222,\"#7201a8\"],[0.3333333333333333,\"#9c179e\"],[0.4444444444444444,\"#bd3786\"],[0.5555555555555556,\"#d8576b\"],[0.6666666666666666,\"#ed7953\"],[0.7777777777777778,\"#fb9f3a\"],[0.8888888888888888,\"#fdca26\"],[1.0,\"#f0f921\"]]}],\"heatmapgl\":[{\"type\":\"heatmapgl\",\"colorbar\":{\"outlinewidth\":0,\"ticks\":\"\"},\"colorscale\":[[0.0,\"#0d0887\"],[0.1111111111111111,\"#46039f\"],[0.2222222222222222,\"#7201a8\"],[0.3333333333333333,\"#9c179e\"],[0.4444444444444444,\"#bd3786\"],[0.5555555555555556,\"#d8576b\"],[0.6666666666666666,\"#ed7953\"],[0.7777777777777778,\"#fb9f3a\"],[0.8888888888888888,\"#fdca26\"],[1.0,\"#f0f921\"]]}],\"contourcarpet\":[{\"type\":\"contourcarpet\",\"colorbar\":{\"outlinewidth\":0,\"ticks\":\"\"}}],\"contour\":[{\"type\":\"contour\",\"colorbar\":{\"outlinewidth\":0,\"ticks\":\"\"},\"colorscale\":[[0.0,\"#0d0887\"],[0.1111111111111111,\"#46039f\"],[0.2222222222222222,\"#7201a8\"],[0.3333333333333333,\"#9c179e\"],[0.4444444444444444,\"#bd3786\"],[0.5555555555555556,\"#d8576b\"],[0.6666666666666666,\"#ed7953\"],[0.7777777777777778,\"#fb9f3a\"],[0.8888888888888888,\"#fdca26\"],[1.0,\"#f0f921\"]]}],\"surface\":[{\"type\":\"surface\",\"colorbar\":{\"outlinewidth\":0,\"ticks\":\"\"},\"colorscale\":[[0.0,\"#0d0887\"],[0.1111111111111111,\"#46039f\"],[0.2222222222222222,\"#7201a8\"],[0.3333333333333333,\"#9c179e\"],[0.4444444444444444,\"#bd3786\"],[0.5555555555555556,\"#d8576b\"],[0.6666666666666666,\"#ed7953\"],[0.7777777777777778,\"#fb9f3a\"],[0.8888888888888888,\"#fdca26\"],[1.0,\"#f0f921\"]]}],\"mesh3d\":[{\"type\":\"mesh3d\",\"colorbar\":{\"outlinewidth\":0,\"ticks\":\"\"}}],\"scatter\":[{\"fillpattern\":{\"fillmode\":\"overlay\",\"size\":10,\"solidity\":0.2},\"type\":\"scatter\"}],\"parcoords\":[{\"type\":\"parcoords\",\"line\":{\"colorbar\":{\"outlinewidth\":0,\"ticks\":\"\"}}}],\"scatterpolargl\":[{\"type\":\"scatterpolargl\",\"marker\":{\"colorbar\":{\"outlinewidth\":0,\"ticks\":\"\"}}}],\"bar\":[{\"error_x\":{\"color\":\"#2a3f5f\"},\"error_y\":{\"color\":\"#2a3f5f\"},\"marker\":{\"line\":{\"color\":\"#E5ECF6\",\"width\":0.5},\"pattern\":{\"fillmode\":\"overlay\",\"size\":10,\"solidity\":0.2}},\"type\":\"bar\"}],\"scattergeo\":[{\"type\":\"scattergeo\",\"marker\":{\"colorbar\":{\"outlinewidth\":0,\"ticks\":\"\"}}}],\"scatterpolar\":[{\"type\":\"scatterpolar\",\"marker\":{\"colorbar\":{\"outlinewidth\":0,\"ticks\":\"\"}}}],\"histogram\":[{\"marker\":{\"pattern\":{\"fillmode\":\"overlay\",\"size\":10,\"solidity\":0.2}},\"type\":\"histogram\"}],\"scattergl\":[{\"type\":\"scattergl\",\"marker\":{\"colorbar\":{\"outlinewidth\":0,\"ticks\":\"\"}}}],\"scatter3d\":[{\"type\":\"scatter3d\",\"line\":{\"colorbar\":{\"outlinewidth\":0,\"ticks\":\"\"}},\"marker\":{\"colorbar\":{\"outlinewidth\":0,\"ticks\":\"\"}}}],\"scattermapbox\":[{\"type\":\"scattermapbox\",\"marker\":{\"colorbar\":{\"outlinewidth\":0,\"ticks\":\"\"}}}],\"scatterternary\":[{\"type\":\"scatterternary\",\"marker\":{\"colorbar\":{\"outlinewidth\":0,\"ticks\":\"\"}}}],\"scattercarpet\":[{\"type\":\"scattercarpet\",\"marker\":{\"colorbar\":{\"outlinewidth\":0,\"ticks\":\"\"}}}],\"carpet\":[{\"aaxis\":{\"endlinecolor\":\"#2a3f5f\",\"gridcolor\":\"white\",\"linecolor\":\"white\",\"minorgridcolor\":\"white\",\"startlinecolor\":\"#2a3f5f\"},\"baxis\":{\"endlinecolor\":\"#2a3f5f\",\"gridcolor\":\"white\",\"linecolor\":\"white\",\"minorgridcolor\":\"white\",\"startlinecolor\":\"#2a3f5f\"},\"type\":\"carpet\"}],\"table\":[{\"cells\":{\"fill\":{\"color\":\"#EBF0F8\"},\"line\":{\"color\":\"white\"}},\"header\":{\"fill\":{\"color\":\"#C8D4E3\"},\"line\":{\"color\":\"white\"}},\"type\":\"table\"}],\"barpolar\":[{\"marker\":{\"line\":{\"color\":\"#E5ECF6\",\"width\":0.5},\"pattern\":{\"fillmode\":\"overlay\",\"size\":10,\"solidity\":0.2}},\"type\":\"barpolar\"}],\"pie\":[{\"automargin\":true,\"type\":\"pie\"}]},\"layout\":{\"autotypenumbers\":\"strict\",\"colorway\":[\"#636efa\",\"#EF553B\",\"#00cc96\",\"#ab63fa\",\"#FFA15A\",\"#19d3f3\",\"#FF6692\",\"#B6E880\",\"#FF97FF\",\"#FECB52\"],\"font\":{\"color\":\"#2a3f5f\"},\"hovermode\":\"closest\",\"hoverlabel\":{\"align\":\"left\"},\"paper_bgcolor\":\"white\",\"plot_bgcolor\":\"#E5ECF6\",\"polar\":{\"bgcolor\":\"#E5ECF6\",\"angularaxis\":{\"gridcolor\":\"white\",\"linecolor\":\"white\",\"ticks\":\"\"},\"radialaxis\":{\"gridcolor\":\"white\",\"linecolor\":\"white\",\"ticks\":\"\"}},\"ternary\":{\"bgcolor\":\"#E5ECF6\",\"aaxis\":{\"gridcolor\":\"white\",\"linecolor\":\"white\",\"ticks\":\"\"},\"baxis\":{\"gridcolor\":\"white\",\"linecolor\":\"white\",\"ticks\":\"\"},\"caxis\":{\"gridcolor\":\"white\",\"linecolor\":\"white\",\"ticks\":\"\"}},\"coloraxis\":{\"colorbar\":{\"outlinewidth\":0,\"ticks\":\"\"}},\"colorscale\":{\"sequential\":[[0.0,\"#0d0887\"],[0.1111111111111111,\"#46039f\"],[0.2222222222222222,\"#7201a8\"],[0.3333333333333333,\"#9c179e\"],[0.4444444444444444,\"#bd3786\"],[0.5555555555555556,\"#d8576b\"],[0.6666666666666666,\"#ed7953\"],[0.7777777777777778,\"#fb9f3a\"],[0.8888888888888888,\"#fdca26\"],[1.0,\"#f0f921\"]],\"sequentialminus\":[[0.0,\"#0d0887\"],[0.1111111111111111,\"#46039f\"],[0.2222222222222222,\"#7201a8\"],[0.3333333333333333,\"#9c179e\"],[0.4444444444444444,\"#bd3786\"],[0.5555555555555556,\"#d8576b\"],[0.6666666666666666,\"#ed7953\"],[0.7777777777777778,\"#fb9f3a\"],[0.8888888888888888,\"#fdca26\"],[1.0,\"#f0f921\"]],\"diverging\":[[0,\"#8e0152\"],[0.1,\"#c51b7d\"],[0.2,\"#de77ae\"],[0.3,\"#f1b6da\"],[0.4,\"#fde0ef\"],[0.5,\"#f7f7f7\"],[0.6,\"#e6f5d0\"],[0.7,\"#b8e186\"],[0.8,\"#7fbc41\"],[0.9,\"#4d9221\"],[1,\"#276419\"]]},\"xaxis\":{\"gridcolor\":\"white\",\"linecolor\":\"white\",\"ticks\":\"\",\"title\":{\"standoff\":15},\"zerolinecolor\":\"white\",\"automargin\":true,\"zerolinewidth\":2},\"yaxis\":{\"gridcolor\":\"white\",\"linecolor\":\"white\",\"ticks\":\"\",\"title\":{\"standoff\":15},\"zerolinecolor\":\"white\",\"automargin\":true,\"zerolinewidth\":2},\"scene\":{\"xaxis\":{\"backgroundcolor\":\"#E5ECF6\",\"gridcolor\":\"white\",\"linecolor\":\"white\",\"showbackground\":true,\"ticks\":\"\",\"zerolinecolor\":\"white\",\"gridwidth\":2},\"yaxis\":{\"backgroundcolor\":\"#E5ECF6\",\"gridcolor\":\"white\",\"linecolor\":\"white\",\"showbackground\":true,\"ticks\":\"\",\"zerolinecolor\":\"white\",\"gridwidth\":2},\"zaxis\":{\"backgroundcolor\":\"#E5ECF6\",\"gridcolor\":\"white\",\"linecolor\":\"white\",\"showbackground\":true,\"ticks\":\"\",\"zerolinecolor\":\"white\",\"gridwidth\":2}},\"shapedefaults\":{\"line\":{\"color\":\"#2a3f5f\"}},\"annotationdefaults\":{\"arrowcolor\":\"#2a3f5f\",\"arrowhead\":0,\"arrowwidth\":1},\"geo\":{\"bgcolor\":\"white\",\"landcolor\":\"#E5ECF6\",\"subunitcolor\":\"white\",\"showland\":true,\"showlakes\":true,\"lakecolor\":\"white\"},\"title\":{\"x\":0.05},\"mapbox\":{\"style\":\"light\"}}},\"width\":700,\"height\":500,\"title\":{\"text\":\"Potential profit at various cutoffs\"}},                        {\"responsive\": true}                    ).then(function(){\n",
       "                            \n",
       "var gd = document.getElementById('ded82200-fc49-4f1e-ab4f-15d3647c5e23');\n",
       "var x = new MutationObserver(function (mutations, observer) {{\n",
       "        var display = window.getComputedStyle(gd).display;\n",
       "        if (!display || display === 'none') {{\n",
       "            console.log([gd, 'removed!']);\n",
       "            Plotly.purge(gd);\n",
       "            observer.disconnect();\n",
       "        }}\n",
       "}});\n",
       "\n",
       "// Listen for the removal of the full notebook cells\n",
       "var notebookContainer = gd.closest('#notebook-container');\n",
       "if (notebookContainer) {{\n",
       "    x.observe(notebookContainer, {childList: true});\n",
       "}}\n",
       "\n",
       "// Listen for the clearing of the current output cell\n",
       "var outputEl = gd.closest('.output');\n",
       "if (outputEl) {{\n",
       "    x.observe(outputEl, {childList: true});\n",
       "}}\n",
       "\n",
       "                        })                };                });            </script>        </div>"
      ]
     },
     "metadata": {},
     "output_type": "display_data"
    }
   ],
   "source": [
    "fig = go.Figure()\n",
    "\n",
    "for res in models:\n",
    "\n",
    "    fig.add_trace(\n",
    "        go.Scatter(\n",
    "            x=dfprofit['threshold'], \n",
    "            y=dfprofit[model_key + '_profit'],\n",
    "            mode='lines',\n",
    "            name=model_key\n",
    "        )\n",
    "    )\n",
    "    \n",
    "fig.update_layout(\n",
    "    width=700, height=500,\n",
    "    title='Potential profit at various cutoffs'\n",
    ")\n",
    "    \n",
    "fig.show()"
   ]
  },
  {
   "cell_type": "code",
   "execution_count": null,
   "id": "62c80b57-8cd7-4775-a667-a73d3db8a0f2",
   "metadata": {},
   "outputs": [],
   "source": []
  },
  {
   "cell_type": "markdown",
   "id": "01ce70cb-515f-481e-b64e-b419af390e65",
   "metadata": {},
   "source": [
    "##### Business flags"
   ]
  },
  {
   "cell_type": "code",
   "execution_count": 57,
   "id": "bee7832d-44e5-4153-a6c3-7f6e942eeb73",
   "metadata": {
    "execution": {
     "iopub.execute_input": "2023-03-20T22:02:53.504017Z",
     "iopub.status.busy": "2023-03-20T22:02:53.503590Z",
     "iopub.status.idle": "2023-03-20T22:02:53.599672Z",
     "shell.execute_reply": "2023-03-20T22:02:53.598687Z",
     "shell.execute_reply.started": "2023-03-20T22:02:53.503986Z"
    }
   },
   "outputs": [
    {
     "data": {
      "text/html": [
       "<div>\n",
       "<style scoped>\n",
       "    .dataframe tbody tr th:only-of-type {\n",
       "        vertical-align: middle;\n",
       "    }\n",
       "\n",
       "    .dataframe tbody tr th {\n",
       "        vertical-align: top;\n",
       "    }\n",
       "\n",
       "    .dataframe thead th {\n",
       "        text-align: right;\n",
       "    }\n",
       "</style>\n",
       "<table border=\"1\" class=\"dataframe\">\n",
       "  <thead>\n",
       "    <tr style=\"text-align: right;\">\n",
       "      <th></th>\n",
       "      <th>id</th>\n",
       "      <th>sex</th>\n",
       "      <th>bizflag</th>\n",
       "      <th>zip</th>\n",
       "      <th>zip_bins</th>\n",
       "      <th>numords</th>\n",
       "      <th>dollars</th>\n",
       "      <th>last</th>\n",
       "      <th>sincepurch</th>\n",
       "      <th>version1</th>\n",
       "      <th>owntaxprod</th>\n",
       "      <th>upgraded</th>\n",
       "      <th>rec_ntile</th>\n",
       "      <th>freq_ntile</th>\n",
       "      <th>mon_ntile</th>\n",
       "      <th>res1</th>\n",
       "      <th>m1_pred_prob</th>\n",
       "      <th>m1_pred</th>\n",
       "      <th>m2_pred_prob</th>\n",
       "      <th>m2_pred</th>\n",
       "      <th>m3_pred_prob</th>\n",
       "      <th>m3_pred</th>\n",
       "      <th>m4_pred_prob</th>\n",
       "      <th>m4_pred</th>\n",
       "      <th>m5_pred_prob</th>\n",
       "      <th>m5_pred</th>\n",
       "    </tr>\n",
       "  </thead>\n",
       "  <tbody>\n",
       "    <tr>\n",
       "      <th>0</th>\n",
       "      <td>1</td>\n",
       "      <td>U</td>\n",
       "      <td>1</td>\n",
       "      <td>99999</td>\n",
       "      <td>20</td>\n",
       "      <td>1</td>\n",
       "      <td>129.5</td>\n",
       "      <td>11</td>\n",
       "      <td>1</td>\n",
       "      <td>0</td>\n",
       "      <td>0</td>\n",
       "      <td>0</td>\n",
       "      <td>3</td>\n",
       "      <td>9</td>\n",
       "      <td>2</td>\n",
       "      <td>0</td>\n",
       "      <td>0.023797</td>\n",
       "      <td>0</td>\n",
       "      <td>0.037983</td>\n",
       "      <td>0</td>\n",
       "      <td>0.025045</td>\n",
       "      <td>0</td>\n",
       "      <td>0.037293</td>\n",
       "      <td>0</td>\n",
       "      <td>0.024910</td>\n",
       "      <td>0</td>\n",
       "    </tr>\n",
       "    <tr>\n",
       "      <th>1</th>\n",
       "      <td>2</td>\n",
       "      <td>U</td>\n",
       "      <td>1</td>\n",
       "      <td>99999</td>\n",
       "      <td>20</td>\n",
       "      <td>2</td>\n",
       "      <td>65.0</td>\n",
       "      <td>4</td>\n",
       "      <td>14</td>\n",
       "      <td>0</td>\n",
       "      <td>0</td>\n",
       "      <td>0</td>\n",
       "      <td>1</td>\n",
       "      <td>5</td>\n",
       "      <td>5</td>\n",
       "      <td>0</td>\n",
       "      <td>0.031992</td>\n",
       "      <td>0</td>\n",
       "      <td>0.043117</td>\n",
       "      <td>0</td>\n",
       "      <td>0.040134</td>\n",
       "      <td>0</td>\n",
       "      <td>0.050207</td>\n",
       "      <td>1</td>\n",
       "      <td>0.053869</td>\n",
       "      <td>1</td>\n",
       "    </tr>\n",
       "    <tr>\n",
       "      <th>2</th>\n",
       "      <td>3</td>\n",
       "      <td>U</td>\n",
       "      <td>1</td>\n",
       "      <td>99999</td>\n",
       "      <td>20</td>\n",
       "      <td>1</td>\n",
       "      <td>24.5</td>\n",
       "      <td>13</td>\n",
       "      <td>36</td>\n",
       "      <td>1</td>\n",
       "      <td>0</td>\n",
       "      <td>0</td>\n",
       "      <td>3</td>\n",
       "      <td>9</td>\n",
       "      <td>8</td>\n",
       "      <td>0</td>\n",
       "      <td>0.042119</td>\n",
       "      <td>0</td>\n",
       "      <td>0.088797</td>\n",
       "      <td>1</td>\n",
       "      <td>0.043484</td>\n",
       "      <td>0</td>\n",
       "      <td>0.044924</td>\n",
       "      <td>0</td>\n",
       "      <td>0.037795</td>\n",
       "      <td>0</td>\n",
       "    </tr>\n",
       "    <tr>\n",
       "      <th>3</th>\n",
       "      <td>4</td>\n",
       "      <td>U</td>\n",
       "      <td>1</td>\n",
       "      <td>99999</td>\n",
       "      <td>20</td>\n",
       "      <td>1</td>\n",
       "      <td>80.5</td>\n",
       "      <td>5</td>\n",
       "      <td>19</td>\n",
       "      <td>1</td>\n",
       "      <td>0</td>\n",
       "      <td>0</td>\n",
       "      <td>1</td>\n",
       "      <td>9</td>\n",
       "      <td>4</td>\n",
       "      <td>0</td>\n",
       "      <td>0.063426</td>\n",
       "      <td>1</td>\n",
       "      <td>0.073850</td>\n",
       "      <td>1</td>\n",
       "      <td>0.062398</td>\n",
       "      <td>1</td>\n",
       "      <td>0.064222</td>\n",
       "      <td>1</td>\n",
       "      <td>0.035676</td>\n",
       "      <td>0</td>\n",
       "    </tr>\n",
       "    <tr>\n",
       "      <th>4</th>\n",
       "      <td>5</td>\n",
       "      <td>U</td>\n",
       "      <td>1</td>\n",
       "      <td>99999</td>\n",
       "      <td>20</td>\n",
       "      <td>1</td>\n",
       "      <td>111.0</td>\n",
       "      <td>14</td>\n",
       "      <td>7</td>\n",
       "      <td>0</td>\n",
       "      <td>0</td>\n",
       "      <td>0</td>\n",
       "      <td>4</td>\n",
       "      <td>9</td>\n",
       "      <td>2</td>\n",
       "      <td>0</td>\n",
       "      <td>0.020859</td>\n",
       "      <td>0</td>\n",
       "      <td>0.035455</td>\n",
       "      <td>0</td>\n",
       "      <td>0.022474</td>\n",
       "      <td>0</td>\n",
       "      <td>0.033730</td>\n",
       "      <td>0</td>\n",
       "      <td>0.025357</td>\n",
       "      <td>0</td>\n",
       "    </tr>\n",
       "    <tr>\n",
       "      <th>...</th>\n",
       "      <td>...</td>\n",
       "      <td>...</td>\n",
       "      <td>...</td>\n",
       "      <td>...</td>\n",
       "      <td>...</td>\n",
       "      <td>...</td>\n",
       "      <td>...</td>\n",
       "      <td>...</td>\n",
       "      <td>...</td>\n",
       "      <td>...</td>\n",
       "      <td>...</td>\n",
       "      <td>...</td>\n",
       "      <td>...</td>\n",
       "      <td>...</td>\n",
       "      <td>...</td>\n",
       "      <td>...</td>\n",
       "      <td>...</td>\n",
       "      <td>...</td>\n",
       "      <td>...</td>\n",
       "      <td>...</td>\n",
       "      <td>...</td>\n",
       "      <td>...</td>\n",
       "      <td>...</td>\n",
       "      <td>...</td>\n",
       "      <td>...</td>\n",
       "      <td>...</td>\n",
       "    </tr>\n",
       "    <tr>\n",
       "      <th>19995</th>\n",
       "      <td>19996</td>\n",
       "      <td>M</td>\n",
       "      <td>0</td>\n",
       "      <td>99824</td>\n",
       "      <td>20</td>\n",
       "      <td>4</td>\n",
       "      <td>58.0</td>\n",
       "      <td>8</td>\n",
       "      <td>19</td>\n",
       "      <td>0</td>\n",
       "      <td>0</td>\n",
       "      <td>1</td>\n",
       "      <td>2</td>\n",
       "      <td>1</td>\n",
       "      <td>5</td>\n",
       "      <td>0</td>\n",
       "      <td>0.097827</td>\n",
       "      <td>1</td>\n",
       "      <td>0.056026</td>\n",
       "      <td>1</td>\n",
       "      <td>0.102455</td>\n",
       "      <td>1</td>\n",
       "      <td>0.086556</td>\n",
       "      <td>1</td>\n",
       "      <td>0.080085</td>\n",
       "      <td>1</td>\n",
       "    </tr>\n",
       "    <tr>\n",
       "      <th>19996</th>\n",
       "      <td>19997</td>\n",
       "      <td>M</td>\n",
       "      <td>0</td>\n",
       "      <td>99835</td>\n",
       "      <td>20</td>\n",
       "      <td>1</td>\n",
       "      <td>22.0</td>\n",
       "      <td>17</td>\n",
       "      <td>2</td>\n",
       "      <td>0</td>\n",
       "      <td>0</td>\n",
       "      <td>0</td>\n",
       "      <td>5</td>\n",
       "      <td>9</td>\n",
       "      <td>8</td>\n",
       "      <td>0</td>\n",
       "      <td>0.014459</td>\n",
       "      <td>0</td>\n",
       "      <td>0.026633</td>\n",
       "      <td>0</td>\n",
       "      <td>0.015677</td>\n",
       "      <td>0</td>\n",
       "      <td>0.029247</td>\n",
       "      <td>0</td>\n",
       "      <td>0.022547</td>\n",
       "      <td>0</td>\n",
       "    </tr>\n",
       "    <tr>\n",
       "      <th>19997</th>\n",
       "      <td>19998</td>\n",
       "      <td>M</td>\n",
       "      <td>0</td>\n",
       "      <td>99835</td>\n",
       "      <td>20</td>\n",
       "      <td>1</td>\n",
       "      <td>29.5</td>\n",
       "      <td>12</td>\n",
       "      <td>14</td>\n",
       "      <td>0</td>\n",
       "      <td>0</td>\n",
       "      <td>0</td>\n",
       "      <td>3</td>\n",
       "      <td>9</td>\n",
       "      <td>8</td>\n",
       "      <td>0</td>\n",
       "      <td>0.021306</td>\n",
       "      <td>0</td>\n",
       "      <td>0.045379</td>\n",
       "      <td>0</td>\n",
       "      <td>0.023398</td>\n",
       "      <td>0</td>\n",
       "      <td>0.037511</td>\n",
       "      <td>0</td>\n",
       "      <td>0.035867</td>\n",
       "      <td>0</td>\n",
       "    </tr>\n",
       "    <tr>\n",
       "      <th>19998</th>\n",
       "      <td>19999</td>\n",
       "      <td>M</td>\n",
       "      <td>0</td>\n",
       "      <td>99901</td>\n",
       "      <td>20</td>\n",
       "      <td>2</td>\n",
       "      <td>111.5</td>\n",
       "      <td>19</td>\n",
       "      <td>22</td>\n",
       "      <td>0</td>\n",
       "      <td>0</td>\n",
       "      <td>1</td>\n",
       "      <td>6</td>\n",
       "      <td>5</td>\n",
       "      <td>2</td>\n",
       "      <td>0</td>\n",
       "      <td>0.040413</td>\n",
       "      <td>0</td>\n",
       "      <td>0.055522</td>\n",
       "      <td>1</td>\n",
       "      <td>0.048095</td>\n",
       "      <td>1</td>\n",
       "      <td>0.040722</td>\n",
       "      <td>0</td>\n",
       "      <td>0.080305</td>\n",
       "      <td>1</td>\n",
       "    </tr>\n",
       "    <tr>\n",
       "      <th>19999</th>\n",
       "      <td>20000</td>\n",
       "      <td>M</td>\n",
       "      <td>0</td>\n",
       "      <td>99901</td>\n",
       "      <td>20</td>\n",
       "      <td>1</td>\n",
       "      <td>56.0</td>\n",
       "      <td>31</td>\n",
       "      <td>34</td>\n",
       "      <td>0</td>\n",
       "      <td>0</td>\n",
       "      <td>1</td>\n",
       "      <td>9</td>\n",
       "      <td>9</td>\n",
       "      <td>6</td>\n",
       "      <td>0</td>\n",
       "      <td>0.021366</td>\n",
       "      <td>0</td>\n",
       "      <td>0.047656</td>\n",
       "      <td>1</td>\n",
       "      <td>0.022940</td>\n",
       "      <td>0</td>\n",
       "      <td>0.039642</td>\n",
       "      <td>0</td>\n",
       "      <td>0.045194</td>\n",
       "      <td>0</td>\n",
       "    </tr>\n",
       "  </tbody>\n",
       "</table>\n",
       "<p>20000 rows × 26 columns</p>\n",
       "</div>"
      ],
      "text/plain": [
       "          id sex  bizflag    zip  zip_bins  numords  dollars  last  \\\n",
       "0          1   U        1  99999        20        1    129.5    11   \n",
       "1          2   U        1  99999        20        2     65.0     4   \n",
       "2          3   U        1  99999        20        1     24.5    13   \n",
       "3          4   U        1  99999        20        1     80.5     5   \n",
       "4          5   U        1  99999        20        1    111.0    14   \n",
       "...      ...  ..      ...    ...       ...      ...      ...   ...   \n",
       "19995  19996   M        0  99824        20        4     58.0     8   \n",
       "19996  19997   M        0  99835        20        1     22.0    17   \n",
       "19997  19998   M        0  99835        20        1     29.5    12   \n",
       "19998  19999   M        0  99901        20        2    111.5    19   \n",
       "19999  20000   M        0  99901        20        1     56.0    31   \n",
       "\n",
       "       sincepurch  version1  owntaxprod  upgraded  rec_ntile  freq_ntile  \\\n",
       "0               1         0           0         0          3           9   \n",
       "1              14         0           0         0          1           5   \n",
       "2              36         1           0         0          3           9   \n",
       "3              19         1           0         0          1           9   \n",
       "4               7         0           0         0          4           9   \n",
       "...           ...       ...         ...       ...        ...         ...   \n",
       "19995          19         0           0         1          2           1   \n",
       "19996           2         0           0         0          5           9   \n",
       "19997          14         0           0         0          3           9   \n",
       "19998          22         0           0         1          6           5   \n",
       "19999          34         0           0         1          9           9   \n",
       "\n",
       "       mon_ntile  res1  m1_pred_prob  m1_pred  m2_pred_prob  m2_pred  \\\n",
       "0              2     0      0.023797        0      0.037983        0   \n",
       "1              5     0      0.031992        0      0.043117        0   \n",
       "2              8     0      0.042119        0      0.088797        1   \n",
       "3              4     0      0.063426        1      0.073850        1   \n",
       "4              2     0      0.020859        0      0.035455        0   \n",
       "...          ...   ...           ...      ...           ...      ...   \n",
       "19995          5     0      0.097827        1      0.056026        1   \n",
       "19996          8     0      0.014459        0      0.026633        0   \n",
       "19997          8     0      0.021306        0      0.045379        0   \n",
       "19998          2     0      0.040413        0      0.055522        1   \n",
       "19999          6     0      0.021366        0      0.047656        1   \n",
       "\n",
       "       m3_pred_prob  m3_pred  m4_pred_prob  m4_pred  m5_pred_prob  m5_pred  \n",
       "0          0.025045        0      0.037293        0      0.024910        0  \n",
       "1          0.040134        0      0.050207        1      0.053869        1  \n",
       "2          0.043484        0      0.044924        0      0.037795        0  \n",
       "3          0.062398        1      0.064222        1      0.035676        0  \n",
       "4          0.022474        0      0.033730        0      0.025357        0  \n",
       "...             ...      ...           ...      ...           ...      ...  \n",
       "19995      0.102455        1      0.086556        1      0.080085        1  \n",
       "19996      0.015677        0      0.029247        0      0.022547        0  \n",
       "19997      0.023398        0      0.037511        0      0.035867        0  \n",
       "19998      0.048095        1      0.040722        0      0.080305        1  \n",
       "19999      0.022940        0      0.039642        0      0.045194        0  \n",
       "\n",
       "[20000 rows x 26 columns]"
      ]
     },
     "execution_count": 57,
     "metadata": {},
     "output_type": "execute_result"
    }
   ],
   "source": [
    "dfres"
   ]
  },
  {
   "cell_type": "code",
   "execution_count": null,
   "id": "0442a3fe-da8c-40f8-919c-d40cd71f35f1",
   "metadata": {},
   "outputs": [],
   "source": []
  },
  {
   "cell_type": "markdown",
   "id": "e53caa42-9037-45c1-9f7d-b22ece61f4d7",
   "metadata": {},
   "source": [
    "###### "
   ]
  },
  {
   "cell_type": "markdown",
   "id": "7917226f-53e7-4cc0-8363-db2fb48affc2",
   "metadata": {},
   "source": [
    "### Final formatting to export results"
   ]
  },
  {
   "cell_type": "code",
   "execution_count": 58,
   "id": "3ab3642c-17e4-4483-86ee-14ec5851c493",
   "metadata": {
    "execution": {
     "iopub.execute_input": "2023-03-20T22:02:53.601459Z",
     "iopub.status.busy": "2023-03-20T22:02:53.600862Z",
     "iopub.status.idle": "2023-03-20T22:02:53.672666Z",
     "shell.execute_reply": "2023-03-20T22:02:53.671513Z",
     "shell.execute_reply.started": "2023-03-20T22:02:53.601428Z"
    },
    "tags": []
   },
   "outputs": [],
   "source": [
    "filename = 'JackP_TomV_SebastianR_RobertoP.csv'"
   ]
  },
  {
   "cell_type": "code",
   "execution_count": 59,
   "id": "04557fe4-d3c7-405a-b355-8131592ea092",
   "metadata": {
    "execution": {
     "iopub.execute_input": "2023-03-20T22:02:53.674373Z",
     "iopub.status.busy": "2023-03-20T22:02:53.673930Z",
     "iopub.status.idle": "2023-03-20T22:02:53.752990Z",
     "shell.execute_reply": "2023-03-20T22:02:53.750679Z",
     "shell.execute_reply.started": "2023-03-20T22:02:53.674340Z"
    },
    "tags": []
   },
   "outputs": [],
   "source": [
    "## Removing features from dataframe\n",
    "dfresf = dfres.loc[:, ['id', 'res1'] + [col for col in dfres.columns if '_pred' in col]].copy()"
   ]
  },
  {
   "cell_type": "code",
   "execution_count": 60,
   "id": "11fcd688-293b-4d96-aa3b-43d83c013d88",
   "metadata": {
    "execution": {
     "iopub.execute_input": "2023-03-20T22:02:53.755965Z",
     "iopub.status.busy": "2023-03-20T22:02:53.754800Z",
     "iopub.status.idle": "2023-03-20T22:02:54.280689Z",
     "shell.execute_reply": "2023-03-20T22:02:54.279739Z",
     "shell.execute_reply.started": "2023-03-20T22:02:53.755914Z"
    },
    "tags": []
   },
   "outputs": [],
   "source": [
    "## Defining criteria to select final result\n",
    "\n",
    "### Selecting results from model with best estimated performance\n",
    "dfresf['target'] = dfresf.apply(lambda x: 0 if x['res1'] == 1 else x['m2_pred'], axis=1)\n",
    "dfresf.loc[:, ['id', 'target']].to_csv(filename)"
   ]
  },
  {
   "cell_type": "code",
   "execution_count": null,
   "id": "89243d56-f985-46f9-ab3d-ab72b8aab974",
   "metadata": {},
   "outputs": [],
   "source": []
  },
  {
   "cell_type": "markdown",
   "id": "1c615e26-cc74-4175-8a60-827a8936aa06",
   "metadata": {},
   "source": [
    "# "
   ]
  },
  {
   "cell_type": "markdown",
   "id": "784be4db-1c06-43e0-a4da-86b1bbcde318",
   "metadata": {
    "jp-MarkdownHeadingCollapsed": true,
    "tags": []
   },
   "source": [
    "# *Notes*"
   ]
  },
  {
   "cell_type": "markdown",
   "id": "93321727-fdba-400a-a05a-1bb189842ed5",
   "metadata": {},
   "source": [
    "- TP: customers contacted that upgraded\n",
    "- FP: customers contacted that didn't upgraded\n",
    "- TN: customers not contacted that woudn't updgrade\n",
    "- FN: customers not contacted that would upgrade"
   ]
  },
  {
   "cell_type": "markdown",
   "id": "7ab88b99-2891-4cd3-b6eb-4c575ae72b82",
   "metadata": {},
   "source": [
    "Notes on calculating profits\n",
    "\n",
    "Calculate the best threshold to define a category and estimate values accordingly\n",
    "- Precision (Response ratio): TP/(TP + FP)\n",
    "- Graph\n",
    "    - y: response ratio; \n",
    "    - x: cutoff\n",
    "- Profit (observed)\n",
    "    - TP*(60 - 1.41) - FP*1.41\n",
    "    - TP*60 - TP*1.41 - FP*1.41\n",
    "    - TP*60 - 1.41*(TP + FP)\n",
    "- Profit (strict)\n",
    "    - TP*(60 - 1.41) + TN*1.41 - FP*1.41 - FN*60\n",
    "    - TP*60 - TP*1.41 + TN*1.41 - FP*1.41 - FN*60\n",
    "    - 1.41*(TN - TP - FP) + 60*(TP - FN)"
   ]
  },
  {
   "cell_type": "markdown",
   "id": "fe43b0e6-ac5e-40c7-98e8-ccb452abf50a",
   "metadata": {},
   "source": [
    "#### Validating the break even response"
   ]
  },
  {
   "cell_type": "code",
   "execution_count": 61,
   "id": "6d142bc9-9548-41f6-a575-f5f4df387d2c",
   "metadata": {
    "execution": {
     "iopub.execute_input": "2023-03-20T22:02:54.282372Z",
     "iopub.status.busy": "2023-03-20T22:02:54.281922Z",
     "iopub.status.idle": "2023-03-20T22:02:54.356324Z",
     "shell.execute_reply": "2023-03-20T22:02:54.355374Z",
     "shell.execute_reply.started": "2023-03-20T22:02:54.282342Z"
    }
   },
   "outputs": [
    {
     "data": {
      "text/plain": [
       "0.0"
      ]
     },
     "execution_count": 61,
     "metadata": {},
     "output_type": "execute_result"
    }
   ],
   "source": [
    "60*100*0.0235 - 100*1.41"
   ]
  },
  {
   "cell_type": "code",
   "execution_count": 62,
   "id": "2b0920f7-e85d-4b06-bcb9-99e393f7b212",
   "metadata": {
    "execution": {
     "iopub.execute_input": "2023-03-20T22:02:54.358052Z",
     "iopub.status.busy": "2023-03-20T22:02:54.357483Z",
     "iopub.status.idle": "2023-03-20T22:02:54.436809Z",
     "shell.execute_reply": "2023-03-20T22:02:54.435301Z",
     "shell.execute_reply.started": "2023-03-20T22:02:54.358018Z"
    }
   },
   "outputs": [
    {
     "ename": "SyntaxError",
     "evalue": "cannot assign to operator (3869230229.py, line 1)",
     "output_type": "error",
     "traceback": [
      "\u001b[0;36m  Input \u001b[0;32mIn [62]\u001b[0;36m\u001b[0m\n\u001b[0;31m    (100)*(60*x - 1.41) = 0\u001b[0m\n\u001b[0m    ^\u001b[0m\n\u001b[0;31mSyntaxError\u001b[0m\u001b[0;31m:\u001b[0m cannot assign to operator\n"
     ]
    }
   ],
   "source": [
    "(100)*(60*x - 1.41) = 0"
   ]
  },
  {
   "cell_type": "markdown",
   "id": "96ceeba0-025d-4794-b723-74fa767819e6",
   "metadata": {},
   "source": [
    "TP + FP"
   ]
  },
  {
   "cell_type": "markdown",
   "id": "ed51f8fa-8999-417b-a660-858c91fb8675",
   "metadata": {},
   "source": [
    "$$\n",
    "profit = 60*rr - 1.41\n",
    "$$"
   ]
  },
  {
   "cell_type": "code",
   "execution_count": null,
   "id": "396fb03c-632a-4cce-bf02-3493a8fc4e0d",
   "metadata": {
    "execution": {
     "iopub.status.busy": "2023-03-20T22:02:54.437614Z",
     "iopub.status.idle": "2023-03-20T22:02:54.438823Z",
     "shell.execute_reply": "2023-03-20T22:02:54.438587Z",
     "shell.execute_reply.started": "2023-03-20T22:02:54.438562Z"
    },
    "tags": []
   },
   "outputs": [],
   "source": [
    "1.41/(60)"
   ]
  },
  {
   "cell_type": "code",
   "execution_count": null,
   "id": "ce3621ee-8ba9-4b25-b9ec-20f0744c19a9",
   "metadata": {},
   "outputs": [],
   "source": []
  },
  {
   "cell_type": "code",
   "execution_count": null,
   "id": "9d6597dc-824d-46ce-8f37-f8d88787c671",
   "metadata": {},
   "outputs": [],
   "source": []
  },
  {
   "cell_type": "markdown",
   "id": "1735d9f0-497b-426f-923a-f1de24224c4c",
   "metadata": {},
   "source": [
    "#### Validating the income generated by first wave"
   ]
  },
  {
   "cell_type": "code",
   "execution_count": null,
   "id": "7d5b50d1-5725-4707-b2a4-30c2cf08fd81",
   "metadata": {
    "execution": {
     "iopub.status.busy": "2023-03-20T22:02:54.440099Z",
     "iopub.status.idle": "2023-03-20T22:02:54.440553Z",
     "shell.execute_reply": "2023-03-20T22:02:54.440344Z",
     "shell.execute_reply.started": "2023-03-20T22:02:54.440323Z"
    }
   },
   "outputs": [],
   "source": [
    "cust_tot = 801821"
   ]
  },
  {
   "cell_type": "code",
   "execution_count": null,
   "id": "5bc01a8a-0573-4500-907f-802d91467f60",
   "metadata": {},
   "outputs": [],
   "source": []
  },
  {
   "cell_type": "markdown",
   "id": "5ae0ef8b-d1f8-4e2a-801a-a42263dc5c59",
   "metadata": {},
   "source": [
    "#### Plotly express histogram documentation"
   ]
  },
  {
   "cell_type": "markdown",
   "id": "89b7ab1e-65d2-493d-ad77-0fb806e11969",
   "metadata": {},
   "source": [
    "histnorm: str (default `None`)\n",
    "    One of `'percent'`, `'probability'`, `'density'`, or `'probability\n",
    "    density'` If `None`, the output of `histfunc` is used as is. If\n",
    "    `'probability'`, the output of `histfunc` for a given bin is divided by\n",
    "    the sum of the output of `histfunc` for all bins. If `'percent'`, the\n",
    "    output of `histfunc` for a given bin is divided by the sum of the\n",
    "    output of `histfunc` for all bins and multiplied by 100. If\n",
    "    `'density'`, the output of `histfunc` for a given bin is divided by the\n",
    "    size of the bin. If `'probability density'`, the output of `histfunc`\n",
    "    for a given bin is normalized such that it corresponds to the\n",
    "    probability that a random event whose distribution is described by the\n",
    "    output of `histfunc` will fall into that bin."
   ]
  },
  {
   "cell_type": "markdown",
   "id": "b34c662c-f724-412f-86d7-75647d9b5448",
   "metadata": {},
   "source": [
    "---"
   ]
  },
  {
   "cell_type": "markdown",
   "id": "168089c7-257b-4b61-9a65-803e32753196",
   "metadata": {},
   "source": [
    "---"
   ]
  }
 ],
 "metadata": {
  "kernelspec": {
   "display_name": "Python 3 (ipykernel)",
   "language": "python",
   "name": "python3"
  },
  "language_info": {
   "codemirror_mode": {
    "name": "ipython",
    "version": 3
   },
   "file_extension": ".py",
   "mimetype": "text/x-python",
   "name": "python",
   "nbconvert_exporter": "python",
   "pygments_lexer": "ipython3",
   "version": "3.9.1"
  },
  "toc-autonumbering": true
 },
 "nbformat": 4,
 "nbformat_minor": 5
}
