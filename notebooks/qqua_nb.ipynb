{
 "cells": [
  {
   "cell_type": "markdown",
   "id": "82c1d7a8-d74e-45e1-8937-264331e6d38a",
   "metadata": {},
   "source": [
    "# Quicken Quickbooks Upgrade Assignment\n",
    "- Rob's solutions"
   ]
  },
  {
   "cell_type": "markdown",
   "id": "6c0aef40-55d3-4226-a218-2c63828b1646",
   "metadata": {},
   "source": [
    "# "
   ]
  },
  {
   "cell_type": "markdown",
   "id": "4154f37d-fde6-4cef-8617-114a3a2d7d8e",
   "metadata": {
    "tags": []
   },
   "source": [
    "# Imports"
   ]
  },
  {
   "cell_type": "markdown",
   "id": "a98dbaa6-17e1-4b79-93f0-d142aedd0037",
   "metadata": {
    "tags": []
   },
   "source": [
    "#### Standard library imports"
   ]
  },
  {
   "cell_type": "code",
   "execution_count": 257,
   "id": "63099808-51cd-453c-976a-f3060b8650aa",
   "metadata": {
    "execution": {
     "iopub.execute_input": "2023-03-18T22:28:38.812891Z",
     "iopub.status.busy": "2023-03-18T22:28:38.812140Z",
     "iopub.status.idle": "2023-03-18T22:28:38.965990Z",
     "shell.execute_reply": "2023-03-18T22:28:38.964792Z",
     "shell.execute_reply.started": "2023-03-18T22:28:38.812806Z"
    },
    "tags": []
   },
   "outputs": [],
   "source": [
    "import sys\n",
    "sys.path.append(\"../\")\n",
    "\n",
    "import os"
   ]
  },
  {
   "cell_type": "markdown",
   "id": "b94ec94d-0d78-4ec3-a21c-353ccf52eec6",
   "metadata": {},
   "source": [
    "#### Third party imports"
   ]
  },
  {
   "cell_type": "code",
   "execution_count": 258,
   "id": "9e4989d0-ba3a-41cf-8ccb-44cade842a03",
   "metadata": {
    "execution": {
     "iopub.execute_input": "2023-03-18T22:28:38.968915Z",
     "iopub.status.busy": "2023-03-18T22:28:38.968495Z",
     "iopub.status.idle": "2023-03-18T22:28:39.042437Z",
     "shell.execute_reply": "2023-03-18T22:28:39.041414Z",
     "shell.execute_reply.started": "2023-03-18T22:28:38.968882Z"
    },
    "tags": []
   },
   "outputs": [],
   "source": [
    "import pandas as pd\n",
    "import plotly.express as px\n",
    "import matplotlib.pyplot as plt\n",
    "from sklearn import metrics\n",
    "import plotly.graph_objects as go\n",
    "import numpy as np\n",
    "import warnings\n",
    "warnings.filterwarnings(\"ignore\")"
   ]
  },
  {
   "cell_type": "markdown",
   "id": "48755fa3-cba0-4508-9df2-18d50f60551b",
   "metadata": {},
   "source": [
    "#### Local application imports"
   ]
  },
  {
   "cell_type": "code",
   "execution_count": 259,
   "id": "a62e34a6-dea0-48d6-a3bc-c5dcdcdb1718",
   "metadata": {
    "execution": {
     "iopub.execute_input": "2023-03-18T22:28:39.044250Z",
     "iopub.status.busy": "2023-03-18T22:28:39.043687Z",
     "iopub.status.idle": "2023-03-18T22:28:39.128567Z",
     "shell.execute_reply": "2023-03-18T22:28:39.127510Z",
     "shell.execute_reply.started": "2023-03-18T22:28:39.044216Z"
    },
    "tags": []
   },
   "outputs": [
    {
     "name": "stdout",
     "output_type": "stream",
     "text": [
      "The autoreload extension is already loaded. To reload it, use:\n",
      "  %reload_ext autoreload\n"
     ]
    }
   ],
   "source": [
    "%load_ext autoreload\n",
    "%autoreload 2\n",
    "\n",
    "from pkg_dir.config import *\n",
    "from pkg_dir.src.utils import *\n",
    "from pkg_dir.src.functions import *\n",
    "from pkg_dir.src.parameters import *"
   ]
  },
  {
   "cell_type": "markdown",
   "id": "a55dee80-3931-47a9-b2fa-5f25e5bd732f",
   "metadata": {},
   "source": [
    "# "
   ]
  },
  {
   "cell_type": "markdown",
   "id": "d533fe5d-c902-4259-97ee-672d6f2363c6",
   "metadata": {
    "tags": []
   },
   "source": [
    "# Importing data"
   ]
  },
  {
   "cell_type": "code",
   "execution_count": 260,
   "id": "5c1e7b53-2fda-490f-a7cd-a7ad52e49819",
   "metadata": {
    "execution": {
     "iopub.execute_input": "2023-03-18T22:28:41.389082Z",
     "iopub.status.busy": "2023-03-18T22:28:41.388604Z",
     "iopub.status.idle": "2023-03-18T22:28:41.504082Z",
     "shell.execute_reply": "2023-03-18T22:28:41.502759Z",
     "shell.execute_reply.started": "2023-03-18T22:28:41.389050Z"
    },
    "tags": []
   },
   "outputs": [],
   "source": [
    "df = pd.read_csv('../pkg_dir/data/intuit.csv')"
   ]
  },
  {
   "cell_type": "markdown",
   "id": "a8840b07-95f7-49c2-9036-4d6c87fca59c",
   "metadata": {},
   "source": [
    "# "
   ]
  },
  {
   "cell_type": "markdown",
   "id": "8b8dec97-c1f4-43ff-8c32-60169ea5d932",
   "metadata": {
    "tags": []
   },
   "source": [
    "# Data exploration"
   ]
  },
  {
   "cell_type": "code",
   "execution_count": 261,
   "id": "3dfbedde-fc31-4d72-8f7d-2818db9fb15b",
   "metadata": {
    "execution": {
     "iopub.execute_input": "2023-03-18T22:28:42.505246Z",
     "iopub.status.busy": "2023-03-18T22:28:42.504812Z",
     "iopub.status.idle": "2023-03-18T22:28:42.605448Z",
     "shell.execute_reply": "2023-03-18T22:28:42.604354Z",
     "shell.execute_reply.started": "2023-03-18T22:28:42.505214Z"
    },
    "tags": []
   },
   "outputs": [
    {
     "name": "stdout",
     "output_type": "stream",
     "text": [
      "<class 'pandas.core.frame.DataFrame'>\n",
      "RangeIndex: 20000 entries, 0 to 19999\n",
      "Data columns (total 13 columns):\n",
      " #   Column      Non-Null Count  Dtype  \n",
      "---  ------      --------------  -----  \n",
      " 0   id          20000 non-null  int64  \n",
      " 1   sex         20000 non-null  object \n",
      " 2   bizflag     20000 non-null  int64  \n",
      " 3   zip         20000 non-null  int64  \n",
      " 4   zip_bins    20000 non-null  int64  \n",
      " 5   numords     20000 non-null  int64  \n",
      " 6   dollars     20000 non-null  float64\n",
      " 7   last        20000 non-null  int64  \n",
      " 8   sincepurch  20000 non-null  int64  \n",
      " 9   version1    20000 non-null  int64  \n",
      " 10  owntaxprod  20000 non-null  int64  \n",
      " 11  upgraded    20000 non-null  int64  \n",
      " 12  res1        20000 non-null  int64  \n",
      "dtypes: float64(1), int64(11), object(1)\n",
      "memory usage: 2.0+ MB\n"
     ]
    }
   ],
   "source": [
    "df.info()"
   ]
  },
  {
   "cell_type": "code",
   "execution_count": 262,
   "id": "9180be0e-eaa4-48dc-bb38-12af70a1c99c",
   "metadata": {
    "execution": {
     "iopub.execute_input": "2023-03-18T22:28:42.724454Z",
     "iopub.status.busy": "2023-03-18T22:28:42.723977Z",
     "iopub.status.idle": "2023-03-18T22:28:42.851031Z",
     "shell.execute_reply": "2023-03-18T22:28:42.850140Z",
     "shell.execute_reply.started": "2023-03-18T22:28:42.724417Z"
    },
    "tags": []
   },
   "outputs": [
    {
     "data": {
      "text/html": [
       "<div>\n",
       "<style scoped>\n",
       "    .dataframe tbody tr th:only-of-type {\n",
       "        vertical-align: middle;\n",
       "    }\n",
       "\n",
       "    .dataframe tbody tr th {\n",
       "        vertical-align: top;\n",
       "    }\n",
       "\n",
       "    .dataframe thead th {\n",
       "        text-align: right;\n",
       "    }\n",
       "</style>\n",
       "<table border=\"1\" class=\"dataframe\">\n",
       "  <thead>\n",
       "    <tr style=\"text-align: right;\">\n",
       "      <th></th>\n",
       "      <th>id</th>\n",
       "      <th>bizflag</th>\n",
       "      <th>zip</th>\n",
       "      <th>zip_bins</th>\n",
       "      <th>numords</th>\n",
       "      <th>dollars</th>\n",
       "      <th>last</th>\n",
       "      <th>sincepurch</th>\n",
       "      <th>version1</th>\n",
       "      <th>owntaxprod</th>\n",
       "      <th>upgraded</th>\n",
       "      <th>res1</th>\n",
       "    </tr>\n",
       "  </thead>\n",
       "  <tbody>\n",
       "    <tr>\n",
       "      <th>count</th>\n",
       "      <td>20000.000000</td>\n",
       "      <td>20000.000000</td>\n",
       "      <td>20000.0000</td>\n",
       "      <td>20000.000000</td>\n",
       "      <td>20000.000000</td>\n",
       "      <td>20000.000000</td>\n",
       "      <td>20000.000000</td>\n",
       "      <td>20000.000000</td>\n",
       "      <td>20000.000000</td>\n",
       "      <td>20000.000000</td>\n",
       "      <td>20000.000000</td>\n",
       "      <td>20000.000000</td>\n",
       "    </tr>\n",
       "    <tr>\n",
       "      <th>mean</th>\n",
       "      <td>10000.500000</td>\n",
       "      <td>0.244400</td>\n",
       "      <td>54350.2613</td>\n",
       "      <td>10.499000</td>\n",
       "      <td>2.079450</td>\n",
       "      <td>93.581000</td>\n",
       "      <td>15.779650</td>\n",
       "      <td>15.751400</td>\n",
       "      <td>0.208250</td>\n",
       "      <td>0.027100</td>\n",
       "      <td>0.215600</td>\n",
       "      <td>0.048050</td>\n",
       "    </tr>\n",
       "    <tr>\n",
       "      <th>std</th>\n",
       "      <td>5773.647028</td>\n",
       "      <td>0.429742</td>\n",
       "      <td>32776.4059</td>\n",
       "      <td>5.766755</td>\n",
       "      <td>1.246361</td>\n",
       "      <td>82.601398</td>\n",
       "      <td>9.527331</td>\n",
       "      <td>10.020435</td>\n",
       "      <td>0.406067</td>\n",
       "      <td>0.162379</td>\n",
       "      <td>0.411248</td>\n",
       "      <td>0.213877</td>\n",
       "    </tr>\n",
       "    <tr>\n",
       "      <th>min</th>\n",
       "      <td>1.000000</td>\n",
       "      <td>0.000000</td>\n",
       "      <td>0.0000</td>\n",
       "      <td>1.000000</td>\n",
       "      <td>1.000000</td>\n",
       "      <td>1.000000</td>\n",
       "      <td>1.000000</td>\n",
       "      <td>1.000000</td>\n",
       "      <td>0.000000</td>\n",
       "      <td>0.000000</td>\n",
       "      <td>0.000000</td>\n",
       "      <td>0.000000</td>\n",
       "    </tr>\n",
       "    <tr>\n",
       "      <th>25%</th>\n",
       "      <td>5000.750000</td>\n",
       "      <td>0.000000</td>\n",
       "      <td>23451.0000</td>\n",
       "      <td>5.000000</td>\n",
       "      <td>1.000000</td>\n",
       "      <td>37.000000</td>\n",
       "      <td>8.000000</td>\n",
       "      <td>7.000000</td>\n",
       "      <td>0.000000</td>\n",
       "      <td>0.000000</td>\n",
       "      <td>0.000000</td>\n",
       "      <td>0.000000</td>\n",
       "    </tr>\n",
       "    <tr>\n",
       "      <th>50%</th>\n",
       "      <td>10000.500000</td>\n",
       "      <td>0.000000</td>\n",
       "      <td>55402.5000</td>\n",
       "      <td>10.500000</td>\n",
       "      <td>2.000000</td>\n",
       "      <td>71.000000</td>\n",
       "      <td>15.000000</td>\n",
       "      <td>15.000000</td>\n",
       "      <td>0.000000</td>\n",
       "      <td>0.000000</td>\n",
       "      <td>0.000000</td>\n",
       "      <td>0.000000</td>\n",
       "    </tr>\n",
       "    <tr>\n",
       "      <th>75%</th>\n",
       "      <td>15000.250000</td>\n",
       "      <td>0.000000</td>\n",
       "      <td>89018.7500</td>\n",
       "      <td>15.250000</td>\n",
       "      <td>3.000000</td>\n",
       "      <td>124.500000</td>\n",
       "      <td>24.000000</td>\n",
       "      <td>24.000000</td>\n",
       "      <td>0.000000</td>\n",
       "      <td>0.000000</td>\n",
       "      <td>0.000000</td>\n",
       "      <td>0.000000</td>\n",
       "    </tr>\n",
       "    <tr>\n",
       "      <th>max</th>\n",
       "      <td>20000.000000</td>\n",
       "      <td>1.000000</td>\n",
       "      <td>99999.0000</td>\n",
       "      <td>20.000000</td>\n",
       "      <td>5.000000</td>\n",
       "      <td>937.500000</td>\n",
       "      <td>36.000000</td>\n",
       "      <td>36.000000</td>\n",
       "      <td>1.000000</td>\n",
       "      <td>1.000000</td>\n",
       "      <td>1.000000</td>\n",
       "      <td>1.000000</td>\n",
       "    </tr>\n",
       "  </tbody>\n",
       "</table>\n",
       "</div>"
      ],
      "text/plain": [
       "                 id       bizflag         zip      zip_bins       numords  \\\n",
       "count  20000.000000  20000.000000  20000.0000  20000.000000  20000.000000   \n",
       "mean   10000.500000      0.244400  54350.2613     10.499000      2.079450   \n",
       "std     5773.647028      0.429742  32776.4059      5.766755      1.246361   \n",
       "min        1.000000      0.000000      0.0000      1.000000      1.000000   \n",
       "25%     5000.750000      0.000000  23451.0000      5.000000      1.000000   \n",
       "50%    10000.500000      0.000000  55402.5000     10.500000      2.000000   \n",
       "75%    15000.250000      0.000000  89018.7500     15.250000      3.000000   \n",
       "max    20000.000000      1.000000  99999.0000     20.000000      5.000000   \n",
       "\n",
       "            dollars          last    sincepurch      version1    owntaxprod  \\\n",
       "count  20000.000000  20000.000000  20000.000000  20000.000000  20000.000000   \n",
       "mean      93.581000     15.779650     15.751400      0.208250      0.027100   \n",
       "std       82.601398      9.527331     10.020435      0.406067      0.162379   \n",
       "min        1.000000      1.000000      1.000000      0.000000      0.000000   \n",
       "25%       37.000000      8.000000      7.000000      0.000000      0.000000   \n",
       "50%       71.000000     15.000000     15.000000      0.000000      0.000000   \n",
       "75%      124.500000     24.000000     24.000000      0.000000      0.000000   \n",
       "max      937.500000     36.000000     36.000000      1.000000      1.000000   \n",
       "\n",
       "           upgraded          res1  \n",
       "count  20000.000000  20000.000000  \n",
       "mean       0.215600      0.048050  \n",
       "std        0.411248      0.213877  \n",
       "min        0.000000      0.000000  \n",
       "25%        0.000000      0.000000  \n",
       "50%        0.000000      0.000000  \n",
       "75%        0.000000      0.000000  \n",
       "max        1.000000      1.000000  "
      ]
     },
     "execution_count": 262,
     "metadata": {},
     "output_type": "execute_result"
    }
   ],
   "source": [
    "df.describe()"
   ]
  },
  {
   "cell_type": "code",
   "execution_count": 263,
   "id": "1e8d0342-5f3a-4c86-b219-56e8c97fb6c1",
   "metadata": {
    "execution": {
     "iopub.execute_input": "2023-03-18T22:28:43.405903Z",
     "iopub.status.busy": "2023-03-18T22:28:43.405219Z",
     "iopub.status.idle": "2023-03-18T22:28:43.487951Z",
     "shell.execute_reply": "2023-03-18T22:28:43.486960Z",
     "shell.execute_reply.started": "2023-03-18T22:28:43.405870Z"
    },
    "tags": []
   },
   "outputs": [
    {
     "data": {
      "text/html": [
       "<div>\n",
       "<style scoped>\n",
       "    .dataframe tbody tr th:only-of-type {\n",
       "        vertical-align: middle;\n",
       "    }\n",
       "\n",
       "    .dataframe tbody tr th {\n",
       "        vertical-align: top;\n",
       "    }\n",
       "\n",
       "    .dataframe thead th {\n",
       "        text-align: right;\n",
       "    }\n",
       "</style>\n",
       "<table border=\"1\" class=\"dataframe\">\n",
       "  <thead>\n",
       "    <tr style=\"text-align: right;\">\n",
       "      <th></th>\n",
       "      <th>Name</th>\n",
       "      <th>Count</th>\n",
       "      <th>Frequency</th>\n",
       "    </tr>\n",
       "  </thead>\n",
       "  <tbody>\n",
       "    <tr>\n",
       "      <th>0</th>\n",
       "      <td>0</td>\n",
       "      <td>19039</td>\n",
       "      <td>0.95195</td>\n",
       "    </tr>\n",
       "    <tr>\n",
       "      <th>1</th>\n",
       "      <td>1</td>\n",
       "      <td>961</td>\n",
       "      <td>0.04805</td>\n",
       "    </tr>\n",
       "  </tbody>\n",
       "</table>\n",
       "</div>"
      ],
      "text/plain": [
       "   Name  Count  Frequency\n",
       "0     0  19039    0.95195\n",
       "1     1    961    0.04805"
      ]
     },
     "execution_count": 263,
     "metadata": {},
     "output_type": "execute_result"
    }
   ],
   "source": [
    "## Number of positive labels in results\n",
    "\n",
    "mba263.tabulate(df['res1'])"
   ]
  },
  {
   "cell_type": "code",
   "execution_count": 264,
   "id": "eba5e26c-ba1f-414f-a731-a9327fc61bd8",
   "metadata": {
    "execution": {
     "iopub.execute_input": "2023-03-18T22:28:44.688114Z",
     "iopub.status.busy": "2023-03-18T22:28:44.687702Z",
     "iopub.status.idle": "2023-03-18T22:28:44.774023Z",
     "shell.execute_reply": "2023-03-18T22:28:44.773066Z",
     "shell.execute_reply.started": "2023-03-18T22:28:44.688084Z"
    },
    "tags": []
   },
   "outputs": [
    {
     "data": {
      "text/html": [
       "<div>\n",
       "<style scoped>\n",
       "    .dataframe tbody tr th:only-of-type {\n",
       "        vertical-align: middle;\n",
       "    }\n",
       "\n",
       "    .dataframe tbody tr th {\n",
       "        vertical-align: top;\n",
       "    }\n",
       "\n",
       "    .dataframe thead th {\n",
       "        text-align: right;\n",
       "    }\n",
       "</style>\n",
       "<table border=\"1\" class=\"dataframe\">\n",
       "  <thead>\n",
       "    <tr style=\"text-align: right;\">\n",
       "      <th></th>\n",
       "      <th></th>\n",
       "      <th>cnt</th>\n",
       "    </tr>\n",
       "    <tr>\n",
       "      <th>upgraded</th>\n",
       "      <th>version1</th>\n",
       "      <th></th>\n",
       "    </tr>\n",
       "  </thead>\n",
       "  <tbody>\n",
       "    <tr>\n",
       "      <th rowspan=\"2\" valign=\"top\">0</th>\n",
       "      <th>0</th>\n",
       "      <td>11523</td>\n",
       "    </tr>\n",
       "    <tr>\n",
       "      <th>1</th>\n",
       "      <td>4165</td>\n",
       "    </tr>\n",
       "    <tr>\n",
       "      <th>1</th>\n",
       "      <th>0</th>\n",
       "      <td>4312</td>\n",
       "    </tr>\n",
       "  </tbody>\n",
       "</table>\n",
       "</div>"
      ],
      "text/plain": [
       "                     cnt\n",
       "upgraded version1       \n",
       "0        0         11523\n",
       "         1          4165\n",
       "1        0          4312"
      ]
     },
     "execution_count": 264,
     "metadata": {},
     "output_type": "execute_result"
    }
   ],
   "source": [
    "## Do all customers who upgraded have Quickbooks version 2?\n",
    "\n",
    "df.groupby(\n",
    "    [\n",
    "        'upgraded',\n",
    "        'version1',\n",
    "    ]\n",
    ").agg(\n",
    "    cnt=('id', 'count')\n",
    ")"
   ]
  },
  {
   "cell_type": "markdown",
   "id": "27a4901a-9bbb-41c7-bb32-43e21f10dc73",
   "metadata": {},
   "source": [
    "# "
   ]
  },
  {
   "cell_type": "markdown",
   "id": "2565cb53-ac88-41c5-9478-d8a87596790e",
   "metadata": {},
   "source": [
    "# Wrangling"
   ]
  },
  {
   "cell_type": "markdown",
   "id": "19bc166c-8186-4069-9082-f5bcf1d48bc5",
   "metadata": {},
   "source": [
    "##### Generating dummy variables"
   ]
  },
  {
   "cell_type": "markdown",
   "id": "dc443db3-811d-4a5a-b447-435b8f5739f8",
   "metadata": {},
   "source": [
    "###### Column: `sex`"
   ]
  },
  {
   "cell_type": "code",
   "execution_count": 265,
   "id": "87c670a1-7590-4236-987e-929cfc6de51f",
   "metadata": {
    "execution": {
     "iopub.execute_input": "2023-03-18T22:28:46.406810Z",
     "iopub.status.busy": "2023-03-18T22:28:46.406042Z",
     "iopub.status.idle": "2023-03-18T22:28:46.484076Z",
     "shell.execute_reply": "2023-03-18T22:28:46.483266Z",
     "shell.execute_reply.started": "2023-03-18T22:28:46.406772Z"
    },
    "tags": []
   },
   "outputs": [],
   "source": [
    "df = pd.concat(\n",
    "    [\n",
    "        df,\n",
    "        pd.get_dummies(df['sex'], prefix='sex', drop_first=True)\n",
    "    ],\n",
    "    axis=1\n",
    ")"
   ]
  },
  {
   "cell_type": "markdown",
   "id": "bbe96932-6c92-43c0-afc8-00f86a0cfbc9",
   "metadata": {},
   "source": [
    "###### Column: `zip_bins`"
   ]
  },
  {
   "cell_type": "code",
   "execution_count": 266,
   "id": "372cc0ce-1628-4cd8-902a-ae964aecb3fe",
   "metadata": {
    "execution": {
     "iopub.execute_input": "2023-03-18T22:28:47.184719Z",
     "iopub.status.busy": "2023-03-18T22:28:47.183993Z",
     "iopub.status.idle": "2023-03-18T22:28:47.264619Z",
     "shell.execute_reply": "2023-03-18T22:28:47.263670Z",
     "shell.execute_reply.started": "2023-03-18T22:28:47.184684Z"
    },
    "tags": []
   },
   "outputs": [],
   "source": [
    "df = pd.concat(\n",
    "    [\n",
    "        df,\n",
    "        pd.get_dummies(df['zip_bins'], prefix='zip_bins', drop_first=True)\n",
    "    ],\n",
    "    axis=1\n",
    ")"
   ]
  },
  {
   "cell_type": "markdown",
   "id": "c1d18b22-fa0e-41f6-9adf-01477b697b04",
   "metadata": {},
   "source": [
    "# "
   ]
  },
  {
   "cell_type": "markdown",
   "id": "c828656b-dbb3-4ffc-bf89-87649d5d1d23",
   "metadata": {},
   "source": [
    "# Modeling\n",
    "- Models developed:\n",
    "    - M1: Logistic regression\n",
    "    - M2: "
   ]
  },
  {
   "cell_type": "markdown",
   "id": "abb22271-32dd-42f0-bd3c-65764ce8777e",
   "metadata": {
    "jp-MarkdownHeadingCollapsed": true,
    "tags": []
   },
   "source": [
    "## M1: Logistic regression"
   ]
  },
  {
   "cell_type": "markdown",
   "id": "8dd40138-005c-4244-a887-90ed9dcad48e",
   "metadata": {},
   "source": [
    "#### Model"
   ]
  },
  {
   "cell_type": "code",
   "execution_count": 269,
   "id": "d0cffe05-6542-4207-8a3d-575ce9652f6b",
   "metadata": {
    "execution": {
     "iopub.execute_input": "2023-03-18T22:29:54.311109Z",
     "iopub.status.busy": "2023-03-18T22:29:54.310694Z",
     "iopub.status.idle": "2023-03-18T22:29:54.384017Z",
     "shell.execute_reply": "2023-03-18T22:29:54.382945Z",
     "shell.execute_reply.started": "2023-03-18T22:29:54.311076Z"
    },
    "tags": []
   },
   "outputs": [],
   "source": [
    "dfm1 = df.copy()"
   ]
  },
  {
   "cell_type": "code",
   "execution_count": 273,
   "id": "45ce2aa0-4e9e-4508-8a63-6edbe474c160",
   "metadata": {
    "execution": {
     "iopub.execute_input": "2023-03-18T22:31:15.814700Z",
     "iopub.status.busy": "2023-03-18T22:31:15.814269Z",
     "iopub.status.idle": "2023-03-18T22:31:15.888086Z",
     "shell.execute_reply": "2023-03-18T22:31:15.887094Z",
     "shell.execute_reply.started": "2023-03-18T22:31:15.814663Z"
    },
    "tags": []
   },
   "outputs": [],
   "source": [
    "## Defining label and features for the model\n",
    "\n",
    "m1_l = ['res1']\n",
    "\n",
    "m1_f = [\n",
    "    # 'id',\n",
    "    # 'sex',\n",
    "    'sex_F',\n",
    "    'sex_M',\n",
    "    'sex_U',\n",
    "    'bizflag',\n",
    "    # 'zip',\n",
    "    # 'zip_bins',\n",
    "    'zip_bins_2',\n",
    "    'zip_bins_3',\n",
    "    'zip_bins_4',\n",
    "    'zip_bins_5',\n",
    "    'zip_bins_6',\n",
    "    'zip_bins_7',\n",
    "    'zip_bins_8',\n",
    "    'zip_bins_9',\n",
    "    'zip_bins_10',\n",
    "    'zip_bins_11',\n",
    "    'zip_bins_12',\n",
    "    'zip_bins_13',\n",
    "    'zip_bins_14',\n",
    "    'zip_bins_15',\n",
    "    'zip_bins_16',\n",
    "    'zip_bins_17',\n",
    "    'zip_bins_18',\n",
    "    'zip_bins_19',\n",
    "    'zip_bins_20',\n",
    "    'numords',\n",
    "    'dollars',\n",
    "    'last',\n",
    "    'sincepurch',\n",
    "    'version1',\n",
    "    'owntaxprod',\n",
    "    'upgraded',\n",
    "]"
   ]
  },
  {
   "cell_type": "code",
   "execution_count": 274,
   "id": "25f27955-b342-4d3f-852c-ef762ca3d33d",
   "metadata": {
    "execution": {
     "iopub.execute_input": "2023-03-18T22:31:19.697232Z",
     "iopub.status.busy": "2023-03-18T22:31:19.696814Z",
     "iopub.status.idle": "2023-03-18T22:31:19.866773Z",
     "shell.execute_reply": "2023-03-18T22:31:19.865469Z",
     "shell.execute_reply.started": "2023-03-18T22:31:19.697196Z"
    },
    "tags": []
   },
   "outputs": [
    {
     "name": "stdout",
     "output_type": "stream",
     "text": [
      "Optimization terminated successfully.\n",
      "         Current function value: 0.170171\n",
      "         Iterations 8\n"
     ]
    }
   ],
   "source": [
    "m1 = mba263.logit(\n",
    "    dfm1[m1_l],\n",
    "    dfm1[m1_f]\n",
    ")"
   ]
  },
  {
   "cell_type": "markdown",
   "id": "6e4d15f5-4fdb-45af-931b-69a05b6684ad",
   "metadata": {
    "tags": []
   },
   "source": [
    "#### Coefficients"
   ]
  },
  {
   "cell_type": "code",
   "execution_count": 275,
   "id": "0be78401-5e12-4638-83e3-ac50ad2465db",
   "metadata": {
    "execution": {
     "iopub.execute_input": "2023-03-18T22:31:22.813823Z",
     "iopub.status.busy": "2023-03-18T22:31:22.812924Z",
     "iopub.status.idle": "2023-03-18T22:31:22.975522Z",
     "shell.execute_reply": "2023-03-18T22:31:22.974492Z",
     "shell.execute_reply.started": "2023-03-18T22:31:22.813790Z"
    },
    "scrolled": true,
    "tags": []
   },
   "outputs": [
    {
     "data": {
      "text/html": [
       "<table class=\"simpletable\">\n",
       "<caption>Mba263Logit Regression Results</caption>\n",
       "<tr>\n",
       "  <th>Dep. Variable:</th>         <td>res1</td>       <th>  No. Observations:  </th>   <td> 20000</td>  \n",
       "</tr>\n",
       "<tr>\n",
       "  <th>Model:</th>              <td>Mba263Logit</td>   <th>  Df Residuals:      </th>   <td> 19969</td>  \n",
       "</tr>\n",
       "<tr>\n",
       "  <th>Method:</th>                 <td>MLE</td>       <th>  Df Model:          </th>   <td>    30</td>  \n",
       "</tr>\n",
       "<tr>\n",
       "  <th>Date:</th>            <td>Sat, 18 Mar 2023</td> <th>  Pseudo R-squ.:     </th>   <td>0.1171</td>  \n",
       "</tr>\n",
       "<tr>\n",
       "  <th>Time:</th>                <td>15:31:22</td>     <th>  Log-Likelihood:    </th>  <td> -3403.4</td> \n",
       "</tr>\n",
       "<tr>\n",
       "  <th>converged:</th>             <td>True</td>       <th>  LL-Null:           </th>  <td> -3854.7</td> \n",
       "</tr>\n",
       "<tr>\n",
       "  <th>Covariance Type:</th>     <td>nonrobust</td>    <th>  LLR p-value:       </th> <td>1.835e-170</td>\n",
       "</tr>\n",
       "</table>\n",
       "<table class=\"simpletable\">\n",
       "<tr>\n",
       "       <td></td>          <th>coef</th>     <th>std err</th>      <th>z</th>      <th>P>|z|</th>  <th>[0.025</th>    <th>0.975]</th>  \n",
       "</tr>\n",
       "<tr>\n",
       "  <th>const</th>       <td>   -0.8086</td> <td>    0.634</td> <td>   -1.276</td> <td> 0.202</td> <td>   -2.051</td> <td>    0.434</td>\n",
       "</tr>\n",
       "<tr>\n",
       "  <th>sex_F</th>       <td>   -0.8114</td> <td>    0.626</td> <td>   -1.296</td> <td> 0.195</td> <td>   -2.038</td> <td>    0.415</td>\n",
       "</tr>\n",
       "<tr>\n",
       "  <th>sex_M</th>       <td>   -0.7002</td> <td>    0.622</td> <td>   -1.126</td> <td> 0.260</td> <td>   -1.919</td> <td>    0.519</td>\n",
       "</tr>\n",
       "<tr>\n",
       "  <th>sex_U</th>       <td>   -0.6942</td> <td>    0.630</td> <td>   -1.102</td> <td> 0.270</td> <td>   -1.929</td> <td>    0.540</td>\n",
       "</tr>\n",
       "<tr>\n",
       "  <th>bizflag</th>     <td>   -0.0921</td> <td>    0.087</td> <td>   -1.054</td> <td> 0.292</td> <td>   -0.263</td> <td>    0.079</td>\n",
       "</tr>\n",
       "<tr>\n",
       "  <th>zip_bins_2</th>  <td>   -2.0447</td> <td>    0.184</td> <td>  -11.094</td> <td> 0.000</td> <td>   -2.406</td> <td>   -1.683</td>\n",
       "</tr>\n",
       "<tr>\n",
       "  <th>zip_bins_3</th>  <td>   -2.0254</td> <td>    0.186</td> <td>  -10.890</td> <td> 0.000</td> <td>   -2.390</td> <td>   -1.661</td>\n",
       "</tr>\n",
       "<tr>\n",
       "  <th>zip_bins_4</th>  <td>   -2.1785</td> <td>    0.194</td> <td>  -11.212</td> <td> 0.000</td> <td>   -2.559</td> <td>   -1.798</td>\n",
       "</tr>\n",
       "<tr>\n",
       "  <th>zip_bins_5</th>  <td>   -1.9960</td> <td>    0.181</td> <td>  -11.018</td> <td> 0.000</td> <td>   -2.351</td> <td>   -1.641</td>\n",
       "</tr>\n",
       "<tr>\n",
       "  <th>zip_bins_6</th>  <td>   -2.0928</td> <td>    0.186</td> <td>  -11.232</td> <td> 0.000</td> <td>   -2.458</td> <td>   -1.728</td>\n",
       "</tr>\n",
       "<tr>\n",
       "  <th>zip_bins_7</th>  <td>   -1.9593</td> <td>    0.181</td> <td>  -10.811</td> <td> 0.000</td> <td>   -2.314</td> <td>   -1.604</td>\n",
       "</tr>\n",
       "<tr>\n",
       "  <th>zip_bins_8</th>  <td>   -2.6290</td> <td>    0.232</td> <td>  -11.334</td> <td> 0.000</td> <td>   -3.084</td> <td>   -2.174</td>\n",
       "</tr>\n",
       "<tr>\n",
       "  <th>zip_bins_9</th>  <td>   -1.9577</td> <td>    0.177</td> <td>  -11.068</td> <td> 0.000</td> <td>   -2.304</td> <td>   -1.611</td>\n",
       "</tr>\n",
       "<tr>\n",
       "  <th>zip_bins_10</th> <td>   -1.7610</td> <td>    0.167</td> <td>  -10.545</td> <td> 0.000</td> <td>   -2.088</td> <td>   -1.434</td>\n",
       "</tr>\n",
       "<tr>\n",
       "  <th>zip_bins_11</th> <td>   -2.0902</td> <td>    0.185</td> <td>  -11.320</td> <td> 0.000</td> <td>   -2.452</td> <td>   -1.728</td>\n",
       "</tr>\n",
       "<tr>\n",
       "  <th>zip_bins_12</th> <td>   -1.6074</td> <td>    0.160</td> <td>  -10.040</td> <td> 0.000</td> <td>   -1.921</td> <td>   -1.294</td>\n",
       "</tr>\n",
       "<tr>\n",
       "  <th>zip_bins_13</th> <td>   -2.1739</td> <td>    0.192</td> <td>  -11.319</td> <td> 0.000</td> <td>   -2.550</td> <td>   -1.797</td>\n",
       "</tr>\n",
       "<tr>\n",
       "  <th>zip_bins_14</th> <td>   -2.3360</td> <td>    0.207</td> <td>  -11.279</td> <td> 0.000</td> <td>   -2.742</td> <td>   -1.930</td>\n",
       "</tr>\n",
       "<tr>\n",
       "  <th>zip_bins_15</th> <td>   -1.8666</td> <td>    0.174</td> <td>  -10.758</td> <td> 0.000</td> <td>   -2.207</td> <td>   -1.527</td>\n",
       "</tr>\n",
       "<tr>\n",
       "  <th>zip_bins_16</th> <td>   -2.2166</td> <td>    0.199</td> <td>  -11.152</td> <td> 0.000</td> <td>   -2.606</td> <td>   -1.827</td>\n",
       "</tr>\n",
       "<tr>\n",
       "  <th>zip_bins_17</th> <td>   -2.1895</td> <td>    0.194</td> <td>  -11.262</td> <td> 0.000</td> <td>   -2.571</td> <td>   -1.808</td>\n",
       "</tr>\n",
       "<tr>\n",
       "  <th>zip_bins_18</th> <td>   -1.7962</td> <td>    0.170</td> <td>  -10.575</td> <td> 0.000</td> <td>   -2.129</td> <td>   -1.463</td>\n",
       "</tr>\n",
       "<tr>\n",
       "  <th>zip_bins_19</th> <td>   -2.1626</td> <td>    0.191</td> <td>  -11.348</td> <td> 0.000</td> <td>   -2.536</td> <td>   -1.789</td>\n",
       "</tr>\n",
       "<tr>\n",
       "  <th>zip_bins_20</th> <td>   -2.0490</td> <td>    0.186</td> <td>  -11.000</td> <td> 0.000</td> <td>   -2.414</td> <td>   -1.684</td>\n",
       "</tr>\n",
       "<tr>\n",
       "  <th>numords</th>     <td>    0.2107</td> <td>    0.031</td> <td>    6.862</td> <td> 0.000</td> <td>    0.151</td> <td>    0.271</td>\n",
       "</tr>\n",
       "<tr>\n",
       "  <th>dollars</th>     <td>    0.0010</td> <td>    0.000</td> <td>    2.446</td> <td> 0.014</td> <td>    0.000</td> <td>    0.002</td>\n",
       "</tr>\n",
       "<tr>\n",
       "  <th>last</th>        <td>   -0.0519</td> <td>    0.004</td> <td>  -12.959</td> <td> 0.000</td> <td>   -0.060</td> <td>   -0.044</td>\n",
       "</tr>\n",
       "<tr>\n",
       "  <th>sincepurch</th>  <td>    0.0064</td> <td>    0.006</td> <td>    0.999</td> <td> 0.318</td> <td>   -0.006</td> <td>    0.019</td>\n",
       "</tr>\n",
       "<tr>\n",
       "  <th>version1</th>    <td>    0.6581</td> <td>    0.141</td> <td>    4.672</td> <td> 0.000</td> <td>    0.382</td> <td>    0.934</td>\n",
       "</tr>\n",
       "<tr>\n",
       "  <th>owntaxprod</th>  <td>    0.0505</td> <td>    0.188</td> <td>    0.269</td> <td> 0.788</td> <td>   -0.318</td> <td>    0.419</td>\n",
       "</tr>\n",
       "<tr>\n",
       "  <th>upgraded</th>    <td>    0.8045</td> <td>    0.138</td> <td>    5.844</td> <td> 0.000</td> <td>    0.535</td> <td>    1.074</td>\n",
       "</tr>\n",
       "</table>"
      ],
      "text/plain": [
       "<class 'statsmodels.iolib.summary.Summary'>\n",
       "\"\"\"\n",
       "                        Mba263Logit Regression Results                        \n",
       "==============================================================================\n",
       "Dep. Variable:                   res1   No. Observations:                20000\n",
       "Model:                    Mba263Logit   Df Residuals:                    19969\n",
       "Method:                           MLE   Df Model:                           30\n",
       "Date:                Sat, 18 Mar 2023   Pseudo R-squ.:                  0.1171\n",
       "Time:                        15:31:22   Log-Likelihood:                -3403.4\n",
       "converged:                       True   LL-Null:                       -3854.7\n",
       "Covariance Type:            nonrobust   LLR p-value:                1.835e-170\n",
       "===============================================================================\n",
       "                  coef    std err          z      P>|z|      [0.025      0.975]\n",
       "-------------------------------------------------------------------------------\n",
       "const          -0.8086      0.634     -1.276      0.202      -2.051       0.434\n",
       "sex_F          -0.8114      0.626     -1.296      0.195      -2.038       0.415\n",
       "sex_M          -0.7002      0.622     -1.126      0.260      -1.919       0.519\n",
       "sex_U          -0.6942      0.630     -1.102      0.270      -1.929       0.540\n",
       "bizflag        -0.0921      0.087     -1.054      0.292      -0.263       0.079\n",
       "zip_bins_2     -2.0447      0.184    -11.094      0.000      -2.406      -1.683\n",
       "zip_bins_3     -2.0254      0.186    -10.890      0.000      -2.390      -1.661\n",
       "zip_bins_4     -2.1785      0.194    -11.212      0.000      -2.559      -1.798\n",
       "zip_bins_5     -1.9960      0.181    -11.018      0.000      -2.351      -1.641\n",
       "zip_bins_6     -2.0928      0.186    -11.232      0.000      -2.458      -1.728\n",
       "zip_bins_7     -1.9593      0.181    -10.811      0.000      -2.314      -1.604\n",
       "zip_bins_8     -2.6290      0.232    -11.334      0.000      -3.084      -2.174\n",
       "zip_bins_9     -1.9577      0.177    -11.068      0.000      -2.304      -1.611\n",
       "zip_bins_10    -1.7610      0.167    -10.545      0.000      -2.088      -1.434\n",
       "zip_bins_11    -2.0902      0.185    -11.320      0.000      -2.452      -1.728\n",
       "zip_bins_12    -1.6074      0.160    -10.040      0.000      -1.921      -1.294\n",
       "zip_bins_13    -2.1739      0.192    -11.319      0.000      -2.550      -1.797\n",
       "zip_bins_14    -2.3360      0.207    -11.279      0.000      -2.742      -1.930\n",
       "zip_bins_15    -1.8666      0.174    -10.758      0.000      -2.207      -1.527\n",
       "zip_bins_16    -2.2166      0.199    -11.152      0.000      -2.606      -1.827\n",
       "zip_bins_17    -2.1895      0.194    -11.262      0.000      -2.571      -1.808\n",
       "zip_bins_18    -1.7962      0.170    -10.575      0.000      -2.129      -1.463\n",
       "zip_bins_19    -2.1626      0.191    -11.348      0.000      -2.536      -1.789\n",
       "zip_bins_20    -2.0490      0.186    -11.000      0.000      -2.414      -1.684\n",
       "numords         0.2107      0.031      6.862      0.000       0.151       0.271\n",
       "dollars         0.0010      0.000      2.446      0.014       0.000       0.002\n",
       "last           -0.0519      0.004    -12.959      0.000      -0.060      -0.044\n",
       "sincepurch      0.0064      0.006      0.999      0.318      -0.006       0.019\n",
       "version1        0.6581      0.141      4.672      0.000       0.382       0.934\n",
       "owntaxprod      0.0505      0.188      0.269      0.788      -0.318       0.419\n",
       "upgraded        0.8045      0.138      5.844      0.000       0.535       1.074\n",
       "===============================================================================\n",
       "\"\"\""
      ]
     },
     "execution_count": 275,
     "metadata": {},
     "output_type": "execute_result"
    }
   ],
   "source": [
    "m1.summary()"
   ]
  },
  {
   "cell_type": "code",
   "execution_count": 276,
   "id": "be02f9a4-e71b-4d54-89b4-9bbffaa3ad75",
   "metadata": {
    "execution": {
     "iopub.execute_input": "2023-03-18T22:31:34.040254Z",
     "iopub.status.busy": "2023-03-18T22:31:34.039829Z",
     "iopub.status.idle": "2023-03-18T22:31:34.132102Z",
     "shell.execute_reply": "2023-03-18T22:31:34.131063Z",
     "shell.execute_reply.started": "2023-03-18T22:31:34.040219Z"
    },
    "scrolled": true,
    "tags": []
   },
   "outputs": [
    {
     "data": {
      "text/html": [
       "<div>\n",
       "<style scoped>\n",
       "    .dataframe tbody tr th:only-of-type {\n",
       "        vertical-align: middle;\n",
       "    }\n",
       "\n",
       "    .dataframe tbody tr th {\n",
       "        vertical-align: top;\n",
       "    }\n",
       "\n",
       "    .dataframe thead th {\n",
       "        text-align: right;\n",
       "    }\n",
       "</style>\n",
       "<table border=\"1\" class=\"dataframe\">\n",
       "  <thead>\n",
       "    <tr style=\"text-align: right;\">\n",
       "      <th></th>\n",
       "      <th>Odds ratios</th>\n",
       "      <th>std err</th>\n",
       "      <th>z</th>\n",
       "      <th>P&gt;|z|</th>\n",
       "      <th>[0.025</th>\n",
       "      <th>0.975]</th>\n",
       "    </tr>\n",
       "  </thead>\n",
       "  <tbody>\n",
       "    <tr>\n",
       "      <th>sex_F</th>\n",
       "      <td>0.444240</td>\n",
       "      <td>0.278054</td>\n",
       "      <td>1.998750</td>\n",
       "      <td>0.046</td>\n",
       "      <td>-0.095184</td>\n",
       "      <td>0.983664</td>\n",
       "    </tr>\n",
       "    <tr>\n",
       "      <th>sex_M</th>\n",
       "      <td>0.496484</td>\n",
       "      <td>0.308791</td>\n",
       "      <td>1.630605</td>\n",
       "      <td>0.103</td>\n",
       "      <td>-0.102569</td>\n",
       "      <td>1.095538</td>\n",
       "    </tr>\n",
       "    <tr>\n",
       "      <th>sex_U</th>\n",
       "      <td>0.499470</td>\n",
       "      <td>0.314606</td>\n",
       "      <td>1.590974</td>\n",
       "      <td>0.112</td>\n",
       "      <td>-0.110866</td>\n",
       "      <td>1.109806</td>\n",
       "    </tr>\n",
       "    <tr>\n",
       "      <th>bizflag</th>\n",
       "      <td>0.912018</td>\n",
       "      <td>0.079718</td>\n",
       "      <td>1.103670</td>\n",
       "      <td>0.270</td>\n",
       "      <td>0.757365</td>\n",
       "      <td>1.066671</td>\n",
       "    </tr>\n",
       "    <tr>\n",
       "      <th>zip_bins_2</th>\n",
       "      <td>0.129424</td>\n",
       "      <td>0.023853</td>\n",
       "      <td>36.498171</td>\n",
       "      <td>0.000</td>\n",
       "      <td>0.083150</td>\n",
       "      <td>0.175698</td>\n",
       "    </tr>\n",
       "    <tr>\n",
       "      <th>zip_bins_3</th>\n",
       "      <td>0.131945</td>\n",
       "      <td>0.024539</td>\n",
       "      <td>35.374425</td>\n",
       "      <td>0.000</td>\n",
       "      <td>0.084339</td>\n",
       "      <td>0.179551</td>\n",
       "    </tr>\n",
       "    <tr>\n",
       "      <th>zip_bins_4</th>\n",
       "      <td>0.113206</td>\n",
       "      <td>0.021996</td>\n",
       "      <td>40.316434</td>\n",
       "      <td>0.000</td>\n",
       "      <td>0.070534</td>\n",
       "      <td>0.155878</td>\n",
       "    </tr>\n",
       "    <tr>\n",
       "      <th>zip_bins_5</th>\n",
       "      <td>0.135881</td>\n",
       "      <td>0.024616</td>\n",
       "      <td>35.103853</td>\n",
       "      <td>0.000</td>\n",
       "      <td>0.088126</td>\n",
       "      <td>0.183636</td>\n",
       "    </tr>\n",
       "    <tr>\n",
       "      <th>zip_bins_6</th>\n",
       "      <td>0.123335</td>\n",
       "      <td>0.022981</td>\n",
       "      <td>38.147483</td>\n",
       "      <td>0.000</td>\n",
       "      <td>0.078752</td>\n",
       "      <td>0.167918</td>\n",
       "    </tr>\n",
       "    <tr>\n",
       "      <th>zip_bins_7</th>\n",
       "      <td>0.140960</td>\n",
       "      <td>0.025546</td>\n",
       "      <td>33.627544</td>\n",
       "      <td>0.000</td>\n",
       "      <td>0.091401</td>\n",
       "      <td>0.190518</td>\n",
       "    </tr>\n",
       "    <tr>\n",
       "      <th>zip_bins_8</th>\n",
       "      <td>0.072149</td>\n",
       "      <td>0.016735</td>\n",
       "      <td>55.443094</td>\n",
       "      <td>0.000</td>\n",
       "      <td>0.039683</td>\n",
       "      <td>0.104615</td>\n",
       "    </tr>\n",
       "    <tr>\n",
       "      <th>zip_bins_9</th>\n",
       "      <td>0.141177</td>\n",
       "      <td>0.024972</td>\n",
       "      <td>34.391856</td>\n",
       "      <td>0.000</td>\n",
       "      <td>0.092731</td>\n",
       "      <td>0.189622</td>\n",
       "    </tr>\n",
       "    <tr>\n",
       "      <th>zip_bins_10</th>\n",
       "      <td>0.171872</td>\n",
       "      <td>0.028703</td>\n",
       "      <td>28.851224</td>\n",
       "      <td>0.000</td>\n",
       "      <td>0.116187</td>\n",
       "      <td>0.227556</td>\n",
       "    </tr>\n",
       "    <tr>\n",
       "      <th>zip_bins_11</th>\n",
       "      <td>0.123658</td>\n",
       "      <td>0.022834</td>\n",
       "      <td>38.379071</td>\n",
       "      <td>0.000</td>\n",
       "      <td>0.079361</td>\n",
       "      <td>0.167956</td>\n",
       "    </tr>\n",
       "    <tr>\n",
       "      <th>zip_bins_12</th>\n",
       "      <td>0.200413</td>\n",
       "      <td>0.032086</td>\n",
       "      <td>24.919956</td>\n",
       "      <td>0.000</td>\n",
       "      <td>0.138165</td>\n",
       "      <td>0.262660</td>\n",
       "    </tr>\n",
       "    <tr>\n",
       "      <th>zip_bins_13</th>\n",
       "      <td>0.113735</td>\n",
       "      <td>0.021844</td>\n",
       "      <td>40.573284</td>\n",
       "      <td>0.000</td>\n",
       "      <td>0.071358</td>\n",
       "      <td>0.156111</td>\n",
       "    </tr>\n",
       "    <tr>\n",
       "      <th>zip_bins_14</th>\n",
       "      <td>0.096709</td>\n",
       "      <td>0.020029</td>\n",
       "      <td>45.098890</td>\n",
       "      <td>0.000</td>\n",
       "      <td>0.057853</td>\n",
       "      <td>0.135566</td>\n",
       "    </tr>\n",
       "    <tr>\n",
       "      <th>zip_bins_15</th>\n",
       "      <td>0.154644</td>\n",
       "      <td>0.026831</td>\n",
       "      <td>31.506391</td>\n",
       "      <td>0.000</td>\n",
       "      <td>0.102591</td>\n",
       "      <td>0.206697</td>\n",
       "    </tr>\n",
       "    <tr>\n",
       "      <th>zip_bins_16</th>\n",
       "      <td>0.108974</td>\n",
       "      <td>0.021661</td>\n",
       "      <td>41.134774</td>\n",
       "      <td>0.000</td>\n",
       "      <td>0.066952</td>\n",
       "      <td>0.150997</td>\n",
       "    </tr>\n",
       "    <tr>\n",
       "      <th>zip_bins_17</th>\n",
       "      <td>0.111969</td>\n",
       "      <td>0.021769</td>\n",
       "      <td>40.794187</td>\n",
       "      <td>0.000</td>\n",
       "      <td>0.069738</td>\n",
       "      <td>0.154200</td>\n",
       "    </tr>\n",
       "    <tr>\n",
       "      <th>zip_bins_18</th>\n",
       "      <td>0.165921</td>\n",
       "      <td>0.028183</td>\n",
       "      <td>29.595070</td>\n",
       "      <td>0.000</td>\n",
       "      <td>0.111246</td>\n",
       "      <td>0.220596</td>\n",
       "    </tr>\n",
       "    <tr>\n",
       "      <th>zip_bins_19</th>\n",
       "      <td>0.115021</td>\n",
       "      <td>0.021921</td>\n",
       "      <td>40.371886</td>\n",
       "      <td>0.000</td>\n",
       "      <td>0.072494</td>\n",
       "      <td>0.157547</td>\n",
       "    </tr>\n",
       "    <tr>\n",
       "      <th>zip_bins_20</th>\n",
       "      <td>0.128859</td>\n",
       "      <td>0.024004</td>\n",
       "      <td>36.291491</td>\n",
       "      <td>0.000</td>\n",
       "      <td>0.082292</td>\n",
       "      <td>0.175427</td>\n",
       "    </tr>\n",
       "    <tr>\n",
       "      <th>numords</th>\n",
       "      <td>1.234541</td>\n",
       "      <td>0.037910</td>\n",
       "      <td>6.186850</td>\n",
       "      <td>0.000</td>\n",
       "      <td>1.160997</td>\n",
       "      <td>1.308086</td>\n",
       "    </tr>\n",
       "    <tr>\n",
       "      <th>dollars</th>\n",
       "      <td>1.001025</td>\n",
       "      <td>0.000419</td>\n",
       "      <td>2.444576</td>\n",
       "      <td>0.015</td>\n",
       "      <td>1.000211</td>\n",
       "      <td>1.001838</td>\n",
       "    </tr>\n",
       "    <tr>\n",
       "      <th>last</th>\n",
       "      <td>0.949440</td>\n",
       "      <td>0.003801</td>\n",
       "      <td>13.301360</td>\n",
       "      <td>0.000</td>\n",
       "      <td>0.942065</td>\n",
       "      <td>0.956814</td>\n",
       "    </tr>\n",
       "    <tr>\n",
       "      <th>sincepurch</th>\n",
       "      <td>1.006433</td>\n",
       "      <td>0.006462</td>\n",
       "      <td>0.995541</td>\n",
       "      <td>0.319</td>\n",
       "      <td>0.993897</td>\n",
       "      <td>1.018970</td>\n",
       "    </tr>\n",
       "    <tr>\n",
       "      <th>version1</th>\n",
       "      <td>1.931073</td>\n",
       "      <td>0.272024</td>\n",
       "      <td>3.422764</td>\n",
       "      <td>0.001</td>\n",
       "      <td>1.403347</td>\n",
       "      <td>2.458799</td>\n",
       "    </tr>\n",
       "    <tr>\n",
       "      <th>owntaxprod</th>\n",
       "      <td>1.051801</td>\n",
       "      <td>0.197585</td>\n",
       "      <td>0.262169</td>\n",
       "      <td>0.793</td>\n",
       "      <td>0.668486</td>\n",
       "      <td>1.435115</td>\n",
       "    </tr>\n",
       "    <tr>\n",
       "      <th>upgraded</th>\n",
       "      <td>2.235628</td>\n",
       "      <td>0.307797</td>\n",
       "      <td>4.014424</td>\n",
       "      <td>0.000</td>\n",
       "      <td>1.638502</td>\n",
       "      <td>2.832754</td>\n",
       "    </tr>\n",
       "  </tbody>\n",
       "</table>\n",
       "</div>"
      ],
      "text/plain": [
       "             Odds ratios   std err          z  P>|z|    [0.025    0.975]\n",
       "sex_F           0.444240  0.278054   1.998750  0.046 -0.095184  0.983664\n",
       "sex_M           0.496484  0.308791   1.630605  0.103 -0.102569  1.095538\n",
       "sex_U           0.499470  0.314606   1.590974  0.112 -0.110866  1.109806\n",
       "bizflag         0.912018  0.079718   1.103670  0.270  0.757365  1.066671\n",
       "zip_bins_2      0.129424  0.023853  36.498171  0.000  0.083150  0.175698\n",
       "zip_bins_3      0.131945  0.024539  35.374425  0.000  0.084339  0.179551\n",
       "zip_bins_4      0.113206  0.021996  40.316434  0.000  0.070534  0.155878\n",
       "zip_bins_5      0.135881  0.024616  35.103853  0.000  0.088126  0.183636\n",
       "zip_bins_6      0.123335  0.022981  38.147483  0.000  0.078752  0.167918\n",
       "zip_bins_7      0.140960  0.025546  33.627544  0.000  0.091401  0.190518\n",
       "zip_bins_8      0.072149  0.016735  55.443094  0.000  0.039683  0.104615\n",
       "zip_bins_9      0.141177  0.024972  34.391856  0.000  0.092731  0.189622\n",
       "zip_bins_10     0.171872  0.028703  28.851224  0.000  0.116187  0.227556\n",
       "zip_bins_11     0.123658  0.022834  38.379071  0.000  0.079361  0.167956\n",
       "zip_bins_12     0.200413  0.032086  24.919956  0.000  0.138165  0.262660\n",
       "zip_bins_13     0.113735  0.021844  40.573284  0.000  0.071358  0.156111\n",
       "zip_bins_14     0.096709  0.020029  45.098890  0.000  0.057853  0.135566\n",
       "zip_bins_15     0.154644  0.026831  31.506391  0.000  0.102591  0.206697\n",
       "zip_bins_16     0.108974  0.021661  41.134774  0.000  0.066952  0.150997\n",
       "zip_bins_17     0.111969  0.021769  40.794187  0.000  0.069738  0.154200\n",
       "zip_bins_18     0.165921  0.028183  29.595070  0.000  0.111246  0.220596\n",
       "zip_bins_19     0.115021  0.021921  40.371886  0.000  0.072494  0.157547\n",
       "zip_bins_20     0.128859  0.024004  36.291491  0.000  0.082292  0.175427\n",
       "numords         1.234541  0.037910   6.186850  0.000  1.160997  1.308086\n",
       "dollars         1.001025  0.000419   2.444576  0.015  1.000211  1.001838\n",
       "last            0.949440  0.003801  13.301360  0.000  0.942065  0.956814\n",
       "sincepurch      1.006433  0.006462   0.995541  0.319  0.993897  1.018970\n",
       "version1        1.931073  0.272024   3.422764  0.001  1.403347  2.458799\n",
       "owntaxprod      1.051801  0.197585   0.262169  0.793  0.668486  1.435115\n",
       "upgraded        2.235628  0.307797   4.014424  0.000  1.638502  2.832754"
      ]
     },
     "execution_count": 276,
     "metadata": {},
     "output_type": "execute_result"
    }
   ],
   "source": [
    "mba263.odds_ratios(m1)"
   ]
  },
  {
   "cell_type": "markdown",
   "id": "28bfe391-063e-4748-92ba-3d7c62abfa20",
   "metadata": {},
   "source": [
    "#### Predictions"
   ]
  },
  {
   "cell_type": "code",
   "execution_count": 277,
   "id": "e8d9ca76-de0a-46b9-8c7d-2178cef2308e",
   "metadata": {
    "execution": {
     "iopub.execute_input": "2023-03-18T22:33:23.376592Z",
     "iopub.status.busy": "2023-03-18T22:33:23.375581Z",
     "iopub.status.idle": "2023-03-18T22:33:23.453520Z",
     "shell.execute_reply": "2023-03-18T22:33:23.452415Z",
     "shell.execute_reply.started": "2023-03-18T22:33:23.376557Z"
    },
    "tags": []
   },
   "outputs": [],
   "source": [
    "dfm1['m1_pred_prob'] = m1.predict(exog=dfm1[m1_f])"
   ]
  },
  {
   "cell_type": "markdown",
   "id": "6a7eb3e3-5e3a-4302-9020-f9248539d352",
   "metadata": {},
   "source": [
    "###### "
   ]
  },
  {
   "cell_type": "markdown",
   "id": "aee73a88-9b6b-459a-833c-7ab59b191909",
   "metadata": {
    "jp-MarkdownHeadingCollapsed": true,
    "tags": []
   },
   "source": [
    "## M2: Neural network"
   ]
  },
  {
   "cell_type": "markdown",
   "id": "25274215-d0fd-4637-94b6-5fc4df59df04",
   "metadata": {},
   "source": [
    "#### Model"
   ]
  },
  {
   "cell_type": "code",
   "execution_count": 278,
   "id": "e46b8ce6-3f60-4213-af6e-68a717c996fc",
   "metadata": {
    "execution": {
     "iopub.execute_input": "2023-03-18T22:33:49.766727Z",
     "iopub.status.busy": "2023-03-18T22:33:49.766331Z",
     "iopub.status.idle": "2023-03-18T22:33:49.839863Z",
     "shell.execute_reply": "2023-03-18T22:33:49.839023Z",
     "shell.execute_reply.started": "2023-03-18T22:33:49.766697Z"
    },
    "tags": []
   },
   "outputs": [],
   "source": [
    "dfm2 = df.copy()"
   ]
  },
  {
   "cell_type": "code",
   "execution_count": 279,
   "id": "07fff8f7-f0f8-4057-9f0b-d9bd87dcea38",
   "metadata": {
    "execution": {
     "iopub.execute_input": "2023-03-18T22:33:49.980579Z",
     "iopub.status.busy": "2023-03-18T22:33:49.980172Z",
     "iopub.status.idle": "2023-03-18T22:33:50.053437Z",
     "shell.execute_reply": "2023-03-18T22:33:50.052519Z",
     "shell.execute_reply.started": "2023-03-18T22:33:49.980548Z"
    },
    "tags": []
   },
   "outputs": [],
   "source": [
    "## Defining label and features for the model\n",
    "\n",
    "m2_l = ['res1']\n",
    "\n",
    "m2_f = [\n",
    "    # 'id',\n",
    "    # 'sex',\n",
    "    'sex_F',\n",
    "    'sex_M',\n",
    "    'sex_U',\n",
    "    'bizflag',\n",
    "    # 'zip',\n",
    "    # 'zip_bins',\n",
    "    'zip_bins_2',\n",
    "    'zip_bins_3',\n",
    "    'zip_bins_4',\n",
    "    'zip_bins_5',\n",
    "    'zip_bins_6',\n",
    "    'zip_bins_7',\n",
    "    'zip_bins_8',\n",
    "    'zip_bins_9',\n",
    "    'zip_bins_10',\n",
    "    'zip_bins_11',\n",
    "    'zip_bins_12',\n",
    "    'zip_bins_13',\n",
    "    'zip_bins_14',\n",
    "    'zip_bins_15',\n",
    "    'zip_bins_16',\n",
    "    'zip_bins_17',\n",
    "    'zip_bins_18',\n",
    "    'zip_bins_19',\n",
    "    'zip_bins_20',\n",
    "    'numords',\n",
    "    'dollars',\n",
    "    'last',\n",
    "    'sincepurch',\n",
    "    'version1',\n",
    "    'owntaxprod',\n",
    "    'upgraded',\n",
    "]"
   ]
  },
  {
   "cell_type": "code",
   "execution_count": 280,
   "id": "50ad8ce3-30da-4bc0-b327-67dd2dcc7365",
   "metadata": {
    "execution": {
     "iopub.execute_input": "2023-03-18T22:34:18.520593Z",
     "iopub.status.busy": "2023-03-18T22:34:18.520183Z",
     "iopub.status.idle": "2023-03-18T22:34:19.839979Z",
     "shell.execute_reply": "2023-03-18T22:34:19.838890Z",
     "shell.execute_reply.started": "2023-03-18T22:34:18.520560Z"
    },
    "tags": []
   },
   "outputs": [],
   "source": [
    "m2 = mba263.neural_network(\n",
    "    dfm2[m2_l],\n",
    "    dfm2[m2_f]\n",
    ")"
   ]
  },
  {
   "cell_type": "markdown",
   "id": "34605947-4b29-4a28-9e29-f16d2f1c7bac",
   "metadata": {},
   "source": [
    "#### Coefficients"
   ]
  },
  {
   "cell_type": "markdown",
   "id": "32c3dbce-cb68-45dd-aae3-9d5989e90076",
   "metadata": {},
   "source": [
    "#### Predictions"
   ]
  },
  {
   "cell_type": "code",
   "execution_count": 281,
   "id": "da310cb7-a6d7-46f2-8fa5-af0380d0a635",
   "metadata": {
    "execution": {
     "iopub.execute_input": "2023-03-18T22:34:24.291186Z",
     "iopub.status.busy": "2023-03-18T22:34:24.290703Z",
     "iopub.status.idle": "2023-03-18T22:34:24.376396Z",
     "shell.execute_reply": "2023-03-18T22:34:24.375198Z",
     "shell.execute_reply.started": "2023-03-18T22:34:24.291148Z"
    },
    "tags": []
   },
   "outputs": [],
   "source": [
    "dfm2['m2_pred_prob'] = m2.predict(dfm2[m2_f])"
   ]
  },
  {
   "cell_type": "markdown",
   "id": "c319347b-e0dc-4ed8-b9d5-eb8288f78d72",
   "metadata": {},
   "source": [
    "###### "
   ]
  },
  {
   "cell_type": "markdown",
   "id": "2b203e37-d64e-409e-bd12-13b443c17a8f",
   "metadata": {
    "jp-MarkdownHeadingCollapsed": true,
    "tags": []
   },
   "source": [
    "## M3: Logistic regression with regularization"
   ]
  },
  {
   "cell_type": "markdown",
   "id": "f1576828-53d9-42a0-b412-3abe7b4cf430",
   "metadata": {},
   "source": [
    "#### Model"
   ]
  },
  {
   "cell_type": "code",
   "execution_count": 320,
   "id": "02562bd3-fecc-4196-803a-d945e9423aa5",
   "metadata": {
    "execution": {
     "iopub.execute_input": "2023-03-18T23:01:31.389611Z",
     "iopub.status.busy": "2023-03-18T23:01:31.388887Z",
     "iopub.status.idle": "2023-03-18T23:01:31.461203Z",
     "shell.execute_reply": "2023-03-18T23:01:31.459985Z",
     "shell.execute_reply.started": "2023-03-18T23:01:31.389577Z"
    },
    "tags": []
   },
   "outputs": [],
   "source": [
    "dfm3 = df.copy()"
   ]
  },
  {
   "cell_type": "code",
   "execution_count": 321,
   "id": "fe6d4954-a49e-4bc6-a082-9523dff49433",
   "metadata": {
    "execution": {
     "iopub.execute_input": "2023-03-18T23:01:31.770869Z",
     "iopub.status.busy": "2023-03-18T23:01:31.770441Z",
     "iopub.status.idle": "2023-03-18T23:01:31.842594Z",
     "shell.execute_reply": "2023-03-18T23:01:31.841543Z",
     "shell.execute_reply.started": "2023-03-18T23:01:31.770834Z"
    },
    "tags": []
   },
   "outputs": [],
   "source": [
    "## Defining label and features for the model\n",
    "\n",
    "m3_l = ['res1']\n",
    "\n",
    "m3_f = [\n",
    "    # 'id',\n",
    "    # 'sex',\n",
    "    'sex_F',\n",
    "    'sex_M',\n",
    "    'sex_U',\n",
    "    'bizflag',\n",
    "    # 'zip',\n",
    "    # 'zip_bins',\n",
    "    'zip_bins_2',\n",
    "    'zip_bins_3',\n",
    "    'zip_bins_4',\n",
    "    'zip_bins_5',\n",
    "    'zip_bins_6',\n",
    "    'zip_bins_7',\n",
    "    'zip_bins_8',\n",
    "    'zip_bins_9',\n",
    "    'zip_bins_10',\n",
    "    'zip_bins_11',\n",
    "    'zip_bins_12',\n",
    "    'zip_bins_13',\n",
    "    'zip_bins_14',\n",
    "    'zip_bins_15',\n",
    "    'zip_bins_16',\n",
    "    'zip_bins_17',\n",
    "    'zip_bins_18',\n",
    "    'zip_bins_19',\n",
    "    'zip_bins_20',\n",
    "    'numords',\n",
    "    'dollars',\n",
    "    'last',\n",
    "    'sincepurch',\n",
    "    'version1',\n",
    "    'owntaxprod',\n",
    "    'upgraded',\n",
    "]"
   ]
  },
  {
   "cell_type": "code",
   "execution_count": 322,
   "id": "ba1b3342-4450-4aa0-9bc7-558df48ae7c6",
   "metadata": {
    "execution": {
     "iopub.execute_input": "2023-03-18T23:01:32.271456Z",
     "iopub.status.busy": "2023-03-18T23:01:32.270559Z",
     "iopub.status.idle": "2023-03-18T23:01:32.815015Z",
     "shell.execute_reply": "2023-03-18T23:01:32.813958Z",
     "shell.execute_reply.started": "2023-03-18T23:01:32.271422Z"
    },
    "tags": []
   },
   "outputs": [
    {
     "name": "stdout",
     "output_type": "stream",
     "text": [
      "Optimization terminated successfully    (Exit mode 0)\n",
      "            Current function value: 0.1759311791453971\n",
      "            Iterations: 212\n",
      "            Function evaluations: 219\n",
      "            Gradient evaluations: 212\n"
     ]
    }
   ],
   "source": [
    "m3 = mba263.logit_reg(\n",
    "    dfm3[m3_l],\n",
    "    dfm3[m3_f],\n",
    "    alpha=3\n",
    ")"
   ]
  },
  {
   "cell_type": "markdown",
   "id": "5fded363-f054-4fca-861a-f33fae4d5695",
   "metadata": {},
   "source": [
    "#### Coefficients"
   ]
  },
  {
   "cell_type": "code",
   "execution_count": 319,
   "id": "65543edb-250f-4f32-9081-e83e694881d1",
   "metadata": {
    "execution": {
     "iopub.execute_input": "2023-03-18T23:00:18.334681Z",
     "iopub.status.busy": "2023-03-18T23:00:18.334258Z",
     "iopub.status.idle": "2023-03-18T23:00:18.514350Z",
     "shell.execute_reply": "2023-03-18T23:00:18.513305Z",
     "shell.execute_reply.started": "2023-03-18T23:00:18.334648Z"
    },
    "scrolled": true,
    "tags": []
   },
   "outputs": [
    {
     "data": {
      "text/html": [
       "<table class=\"simpletable\">\n",
       "<tr>\n",
       "        <td>Model:</td>           <td>Mba263Logit</td>   <td>Pseudo R-squared:</td>    <td>0.113</td>   \n",
       "</tr>\n",
       "<tr>\n",
       "  <td>Dependent Variable:</td>       <td>res1</td>             <td>AIC:</td>         <td>6891.1281</td> \n",
       "</tr>\n",
       "<tr>\n",
       "         <td>Date:</td>        <td>2023-03-18 16:00</td>       <td>BIC:</td>         <td>7112.4257</td> \n",
       "</tr>\n",
       "<tr>\n",
       "   <td>No. Observations:</td>        <td>20000</td>       <td>Log-Likelihood:</td>    <td>-3417.6</td>  \n",
       "</tr>\n",
       "<tr>\n",
       "       <td>Df Model:</td>             <td>27</td>            <td>LL-Null:</td>        <td>-3854.7</td>  \n",
       "</tr>\n",
       "<tr>\n",
       "     <td>Df Residuals:</td>          <td>19972</td>        <td>LLR p-value:</td>    <td>9.0739e-167</td>\n",
       "</tr>\n",
       "<tr>\n",
       "      <td>Converged:</td>           <td>1.0000</td>           <td>Scale:</td>         <td>1.0000</td>   \n",
       "</tr>\n",
       "<tr>\n",
       "    <td>No. Iterations:</td>       <td>212.0000</td>             <td></td>               <td></td>      \n",
       "</tr>\n",
       "</table>\n",
       "<table class=\"simpletable\">\n",
       "<tr>\n",
       "       <td></td>        <th>Coef.</th>  <th>Std.Err.</th>     <th>z</th>     <th>P>|z|</th> <th>[0.025</th>  <th>0.975]</th> \n",
       "</tr>\n",
       "<tr>\n",
       "  <th>const</th>       <td>-1.8624</td>  <td>0.1393</td>  <td>-13.3697</td> <td>0.0000</td> <td>-2.1354</td> <td>-1.5894</td>\n",
       "</tr>\n",
       "<tr>\n",
       "  <th>sex_F</th>       <td>-0.1078</td>  <td>0.0865</td>   <td>-1.2468</td> <td>0.2125</td> <td>-0.2773</td> <td>0.0617</td> \n",
       "</tr>\n",
       "<tr>\n",
       "  <th>sex_M</th>       <td>0.0000</td>     <td>nan</td>      <td>nan</td>     <td>nan</td>    <td>nan</td>     <td>nan</td>  \n",
       "</tr>\n",
       "<tr>\n",
       "  <th>sex_U</th>       <td>0.0000</td>     <td>nan</td>      <td>nan</td>     <td>nan</td>    <td>nan</td>     <td>nan</td>  \n",
       "</tr>\n",
       "<tr>\n",
       "  <th>bizflag</th>     <td>-0.0932</td>  <td>0.0812</td>   <td>-1.1490</td> <td>0.2506</td> <td>-0.2523</td> <td>0.0658</td> \n",
       "</tr>\n",
       "<tr>\n",
       "  <th>zip_bins_2</th>  <td>-1.5739</td>  <td>0.1828</td>   <td>-8.6082</td> <td>0.0000</td> <td>-1.9323</td> <td>-1.2156</td>\n",
       "</tr>\n",
       "<tr>\n",
       "  <th>zip_bins_3</th>  <td>-1.5512</td>  <td>0.1842</td>   <td>-8.4192</td> <td>0.0000</td> <td>-1.9123</td> <td>-1.1901</td>\n",
       "</tr>\n",
       "<tr>\n",
       "  <th>zip_bins_4</th>  <td>-1.6962</td>  <td>0.1914</td>   <td>-8.8621</td> <td>0.0000</td> <td>-2.0713</td> <td>-1.3210</td>\n",
       "</tr>\n",
       "<tr>\n",
       "  <th>zip_bins_5</th>  <td>-1.5260</td>  <td>0.1801</td>   <td>-8.4746</td> <td>0.0000</td> <td>-1.8790</td> <td>-1.1731</td>\n",
       "</tr>\n",
       "<tr>\n",
       "  <th>zip_bins_6</th>  <td>-1.6153</td>  <td>0.1845</td>   <td>-8.7561</td> <td>0.0000</td> <td>-1.9769</td> <td>-1.2537</td>\n",
       "</tr>\n",
       "<tr>\n",
       "  <th>zip_bins_7</th>  <td>-1.4938</td>  <td>0.1802</td>   <td>-8.2898</td> <td>0.0000</td> <td>-1.8470</td> <td>-1.1406</td>\n",
       "</tr>\n",
       "<tr>\n",
       "  <th>zip_bins_8</th>  <td>-2.1026</td>  <td>0.2227</td>   <td>-9.4402</td> <td>0.0000</td> <td>-2.5391</td> <td>-1.6660</td>\n",
       "</tr>\n",
       "<tr>\n",
       "  <th>zip_bins_9</th>  <td>-1.4883</td>  <td>0.1763</td>   <td>-8.4440</td> <td>0.0000</td> <td>-1.8337</td> <td>-1.1428</td>\n",
       "</tr>\n",
       "<tr>\n",
       "  <th>zip_bins_10</th> <td>-1.3084</td>  <td>0.1677</td>   <td>-7.8014</td> <td>0.0000</td> <td>-1.6371</td> <td>-0.9797</td>\n",
       "</tr>\n",
       "<tr>\n",
       "  <th>zip_bins_11</th> <td>-1.6169</td>  <td>0.1831</td>   <td>-8.8323</td> <td>0.0000</td> <td>-1.9757</td> <td>-1.2581</td>\n",
       "</tr>\n",
       "<tr>\n",
       "  <th>zip_bins_12</th> <td>-1.1592</td>  <td>0.1614</td>   <td>-7.1837</td> <td>0.0000</td> <td>-1.4755</td> <td>-0.8429</td>\n",
       "</tr>\n",
       "<tr>\n",
       "  <th>zip_bins_13</th> <td>-1.6949</td>  <td>0.1895</td>   <td>-8.9442</td> <td>0.0000</td> <td>-2.0663</td> <td>-1.3235</td>\n",
       "</tr>\n",
       "<tr>\n",
       "  <th>zip_bins_14</th> <td>-1.8404</td>  <td>0.2023</td>   <td>-9.0985</td> <td>0.0000</td> <td>-2.2369</td> <td>-1.4440</td>\n",
       "</tr>\n",
       "<tr>\n",
       "  <th>zip_bins_15</th> <td>-1.4077</td>  <td>0.1734</td>   <td>-8.1181</td> <td>0.0000</td> <td>-1.7475</td> <td>-1.0678</td>\n",
       "</tr>\n",
       "<tr>\n",
       "  <th>zip_bins_16</th> <td>-1.7335</td>  <td>0.1952</td>   <td>-8.8803</td> <td>0.0000</td> <td>-2.1161</td> <td>-1.3509</td>\n",
       "</tr>\n",
       "<tr>\n",
       "  <th>zip_bins_17</th> <td>-1.7090</td>  <td>0.1915</td>   <td>-8.9243</td> <td>0.0000</td> <td>-2.0843</td> <td>-1.3337</td>\n",
       "</tr>\n",
       "<tr>\n",
       "  <th>zip_bins_18</th> <td>-1.3408</td>  <td>0.1702</td>   <td>-7.8792</td> <td>0.0000</td> <td>-1.6743</td> <td>-1.0073</td>\n",
       "</tr>\n",
       "<tr>\n",
       "  <th>zip_bins_19</th> <td>-1.6800</td>  <td>0.1881</td>   <td>-8.9319</td> <td>0.0000</td> <td>-2.0487</td> <td>-1.3114</td>\n",
       "</tr>\n",
       "<tr>\n",
       "  <th>zip_bins_20</th> <td>-1.5751</td>  <td>0.1844</td>   <td>-8.5407</td> <td>0.0000</td> <td>-1.9365</td> <td>-1.2136</td>\n",
       "</tr>\n",
       "<tr>\n",
       "  <th>numords</th>     <td>0.1947</td>   <td>0.0302</td>   <td>6.4463</td>  <td>0.0000</td> <td>0.1355</td>  <td>0.2539</td> \n",
       "</tr>\n",
       "<tr>\n",
       "  <th>dollars</th>     <td>0.0011</td>   <td>0.0004</td>   <td>2.5747</td>  <td>0.0100</td> <td>0.0003</td>  <td>0.0019</td> \n",
       "</tr>\n",
       "<tr>\n",
       "  <th>last</th>        <td>-0.0511</td>  <td>0.0039</td>  <td>-12.9424</td> <td>0.0000</td> <td>-0.0589</td> <td>-0.0434</td>\n",
       "</tr>\n",
       "<tr>\n",
       "  <th>sincepurch</th>  <td>0.0093</td>   <td>0.0063</td>   <td>1.4689</td>  <td>0.1419</td> <td>-0.0031</td> <td>0.0217</td> \n",
       "</tr>\n",
       "<tr>\n",
       "  <th>version1</th>    <td>0.5539</td>   <td>0.1389</td>   <td>3.9876</td>  <td>0.0001</td> <td>0.2817</td>  <td>0.8262</td> \n",
       "</tr>\n",
       "<tr>\n",
       "  <th>owntaxprod</th>  <td>0.0000</td>     <td>nan</td>      <td>nan</td>     <td>nan</td>    <td>nan</td>     <td>nan</td>  \n",
       "</tr>\n",
       "<tr>\n",
       "  <th>upgraded</th>    <td>0.6998</td>   <td>0.1355</td>   <td>5.1634</td>  <td>0.0000</td> <td>0.4341</td>  <td>0.9654</td> \n",
       "</tr>\n",
       "</table>"
      ],
      "text/plain": [
       "<class 'statsmodels.iolib.summary2.Summary'>\n",
       "\"\"\"\n",
       "                       Results: Mba263Logit\n",
       "==================================================================\n",
       "Model:              Mba263Logit      Pseudo R-squared: 0.113      \n",
       "Dependent Variable: res1             AIC:              6891.1281  \n",
       "Date:               2023-03-18 16:00 BIC:              7112.4257  \n",
       "No. Observations:   20000            Log-Likelihood:   -3417.6    \n",
       "Df Model:           27               LL-Null:          -3854.7    \n",
       "Df Residuals:       19972            LLR p-value:      9.0739e-167\n",
       "Converged:          1.0000           Scale:            1.0000     \n",
       "No. Iterations:     212.0000                                      \n",
       "-------------------------------------------------------------------\n",
       "               Coef.   Std.Err.     z      P>|z|    [0.025   0.975]\n",
       "-------------------------------------------------------------------\n",
       "const         -1.8624    0.1393  -13.3697  0.0000  -2.1354  -1.5894\n",
       "sex_F         -0.1078    0.0865   -1.2468  0.2125  -0.2773   0.0617\n",
       "sex_M          0.0000       nan       nan     nan      nan      nan\n",
       "sex_U          0.0000       nan       nan     nan      nan      nan\n",
       "bizflag       -0.0932    0.0812   -1.1490  0.2506  -0.2523   0.0658\n",
       "zip_bins_2    -1.5739    0.1828   -8.6082  0.0000  -1.9323  -1.2156\n",
       "zip_bins_3    -1.5512    0.1842   -8.4192  0.0000  -1.9123  -1.1901\n",
       "zip_bins_4    -1.6962    0.1914   -8.8621  0.0000  -2.0713  -1.3210\n",
       "zip_bins_5    -1.5260    0.1801   -8.4746  0.0000  -1.8790  -1.1731\n",
       "zip_bins_6    -1.6153    0.1845   -8.7561  0.0000  -1.9769  -1.2537\n",
       "zip_bins_7    -1.4938    0.1802   -8.2898  0.0000  -1.8470  -1.1406\n",
       "zip_bins_8    -2.1026    0.2227   -9.4402  0.0000  -2.5391  -1.6660\n",
       "zip_bins_9    -1.4883    0.1763   -8.4440  0.0000  -1.8337  -1.1428\n",
       "zip_bins_10   -1.3084    0.1677   -7.8014  0.0000  -1.6371  -0.9797\n",
       "zip_bins_11   -1.6169    0.1831   -8.8323  0.0000  -1.9757  -1.2581\n",
       "zip_bins_12   -1.1592    0.1614   -7.1837  0.0000  -1.4755  -0.8429\n",
       "zip_bins_13   -1.6949    0.1895   -8.9442  0.0000  -2.0663  -1.3235\n",
       "zip_bins_14   -1.8404    0.2023   -9.0985  0.0000  -2.2369  -1.4440\n",
       "zip_bins_15   -1.4077    0.1734   -8.1181  0.0000  -1.7475  -1.0678\n",
       "zip_bins_16   -1.7335    0.1952   -8.8803  0.0000  -2.1161  -1.3509\n",
       "zip_bins_17   -1.7090    0.1915   -8.9243  0.0000  -2.0843  -1.3337\n",
       "zip_bins_18   -1.3408    0.1702   -7.8792  0.0000  -1.6743  -1.0073\n",
       "zip_bins_19   -1.6800    0.1881   -8.9319  0.0000  -2.0487  -1.3114\n",
       "zip_bins_20   -1.5751    0.1844   -8.5407  0.0000  -1.9365  -1.2136\n",
       "numords        0.1947    0.0302    6.4463  0.0000   0.1355   0.2539\n",
       "dollars        0.0011    0.0004    2.5747  0.0100   0.0003   0.0019\n",
       "last          -0.0511    0.0039  -12.9424  0.0000  -0.0589  -0.0434\n",
       "sincepurch     0.0093    0.0063    1.4689  0.1419  -0.0031   0.0217\n",
       "version1       0.5539    0.1389    3.9876  0.0001   0.2817   0.8262\n",
       "owntaxprod     0.0000       nan       nan     nan      nan      nan\n",
       "upgraded       0.6998    0.1355    5.1634  0.0000   0.4341   0.9654\n",
       "==================================================================\n",
       "\n",
       "\"\"\""
      ]
     },
     "execution_count": 319,
     "metadata": {},
     "output_type": "execute_result"
    }
   ],
   "source": [
    "m3.summary2()"
   ]
  },
  {
   "cell_type": "markdown",
   "id": "72dbb85a-b85c-4549-9419-cb6d3fa3adbb",
   "metadata": {},
   "source": [
    "#### Predictions"
   ]
  },
  {
   "cell_type": "code",
   "execution_count": 324,
   "id": "c8569a4b-47af-4521-b337-d8f72dec29c1",
   "metadata": {
    "execution": {
     "iopub.execute_input": "2023-03-18T23:02:41.914371Z",
     "iopub.status.busy": "2023-03-18T23:02:41.913976Z",
     "iopub.status.idle": "2023-03-18T23:02:41.991509Z",
     "shell.execute_reply": "2023-03-18T23:02:41.990423Z",
     "shell.execute_reply.started": "2023-03-18T23:02:41.914341Z"
    },
    "tags": []
   },
   "outputs": [],
   "source": [
    "dfm3['m3_pred_prob'] = m3.predict(dfm3[m3_f])"
   ]
  },
  {
   "cell_type": "markdown",
   "id": "64da6a35-b9ce-43f6-8099-aa37cbb2c16e",
   "metadata": {},
   "source": [
    "###### "
   ]
  },
  {
   "cell_type": "markdown",
   "id": "cc0a92c2-a5f0-4105-90dc-f9e812bd89a9",
   "metadata": {},
   "source": [
    "## M4: Random forest"
   ]
  },
  {
   "cell_type": "markdown",
   "id": "30c1ed00-149c-47a3-9edb-7caea0291f7f",
   "metadata": {},
   "source": [
    "#### Model"
   ]
  },
  {
   "cell_type": "code",
   "execution_count": 336,
   "id": "2b1dcad0-4016-4078-b668-5a91b9fc2023",
   "metadata": {
    "execution": {
     "iopub.execute_input": "2023-03-18T23:49:37.139078Z",
     "iopub.status.busy": "2023-03-18T23:49:37.135391Z",
     "iopub.status.idle": "2023-03-18T23:49:37.666313Z",
     "shell.execute_reply": "2023-03-18T23:49:37.665010Z",
     "shell.execute_reply.started": "2023-03-18T23:49:37.138975Z"
    },
    "tags": []
   },
   "outputs": [],
   "source": [
    "dfm4 = df.copy()"
   ]
  },
  {
   "cell_type": "code",
   "execution_count": 337,
   "id": "e558fb76-9304-4516-9b43-de37bff1495d",
   "metadata": {
    "execution": {
     "iopub.execute_input": "2023-03-18T23:49:42.939657Z",
     "iopub.status.busy": "2023-03-18T23:49:42.939147Z",
     "iopub.status.idle": "2023-03-18T23:49:43.016305Z",
     "shell.execute_reply": "2023-03-18T23:49:43.015235Z",
     "shell.execute_reply.started": "2023-03-18T23:49:42.939607Z"
    },
    "tags": []
   },
   "outputs": [],
   "source": [
    "## Defining label and features for the model\n",
    "\n",
    "m4_l = ['res1']\n",
    "\n",
    "m4_f = [\n",
    "    # 'id',\n",
    "    # 'sex',\n",
    "    'sex_F',\n",
    "    'sex_M',\n",
    "    'sex_U',\n",
    "    'bizflag',\n",
    "    # 'zip',\n",
    "    # 'zip_bins',\n",
    "    'zip_bins_2',\n",
    "    'zip_bins_3',\n",
    "    'zip_bins_4',\n",
    "    'zip_bins_5',\n",
    "    'zip_bins_6',\n",
    "    'zip_bins_7',\n",
    "    'zip_bins_8',\n",
    "    'zip_bins_9',\n",
    "    'zip_bins_10',\n",
    "    'zip_bins_11',\n",
    "    'zip_bins_12',\n",
    "    'zip_bins_13',\n",
    "    'zip_bins_14',\n",
    "    'zip_bins_15',\n",
    "    'zip_bins_16',\n",
    "    'zip_bins_17',\n",
    "    'zip_bins_18',\n",
    "    'zip_bins_19',\n",
    "    'zip_bins_20',\n",
    "    'numords',\n",
    "    'dollars',\n",
    "    'last',\n",
    "    'sincepurch',\n",
    "    'version1',\n",
    "    'owntaxprod',\n",
    "    'upgraded',\n",
    "]"
   ]
  },
  {
   "cell_type": "code",
   "execution_count": 346,
   "id": "6869556d-b6c4-4961-8771-17b3e3c43dc5",
   "metadata": {
    "execution": {
     "iopub.execute_input": "2023-03-18T23:53:55.712221Z",
     "iopub.status.busy": "2023-03-18T23:53:55.711493Z",
     "iopub.status.idle": "2023-03-18T23:54:00.055975Z",
     "shell.execute_reply": "2023-03-18T23:54:00.054863Z",
     "shell.execute_reply.started": "2023-03-18T23:53:55.712186Z"
    },
    "tags": []
   },
   "outputs": [],
   "source": [
    "m4 = mba263.random_forest(\n",
    "    dfm4[m4_l],\n",
    "    dfm4[m4_f],\n",
    "    trees=500,\n",
    "    leaf_nodes=200,\n",
    ")"
   ]
  },
  {
   "cell_type": "markdown",
   "id": "9cb14933-0778-44d1-a374-b72356909811",
   "metadata": {},
   "source": [
    "#### Coefficients"
   ]
  },
  {
   "cell_type": "markdown",
   "id": "8565983c-0992-418e-9491-bb46b3f0f825",
   "metadata": {},
   "source": [
    "#### Predictions"
   ]
  },
  {
   "cell_type": "code",
   "execution_count": 347,
   "id": "ac789850-957b-44a5-abdc-d1fb452f9a0c",
   "metadata": {
    "execution": {
     "iopub.execute_input": "2023-03-18T23:54:01.045581Z",
     "iopub.status.busy": "2023-03-18T23:54:01.045155Z",
     "iopub.status.idle": "2023-03-18T23:54:01.641138Z",
     "shell.execute_reply": "2023-03-18T23:54:01.640051Z",
     "shell.execute_reply.started": "2023-03-18T23:54:01.045546Z"
    },
    "tags": []
   },
   "outputs": [],
   "source": [
    "dfm4['m4_pred_prob'] = m4.predict(dfm4[m4_f])"
   ]
  },
  {
   "cell_type": "markdown",
   "id": "83ca515b-9ef5-4920-aa5f-cafde60e8884",
   "metadata": {},
   "source": [
    "###### "
   ]
  },
  {
   "cell_type": "markdown",
   "id": "f1839464-3962-4675-992d-1fd447a79b98",
   "metadata": {},
   "source": [
    "## M5: Best model selection"
   ]
  },
  {
   "cell_type": "markdown",
   "id": "0d5c88a5-b94a-4be2-90c1-50e30da05d36",
   "metadata": {},
   "source": [
    "#### Model"
   ]
  },
  {
   "cell_type": "code",
   "execution_count": 386,
   "id": "918cdf4c-bdeb-4c0f-ab2e-41b59e81fdf3",
   "metadata": {
    "execution": {
     "iopub.execute_input": "2023-03-19T00:36:30.730920Z",
     "iopub.status.busy": "2023-03-19T00:36:30.729992Z",
     "iopub.status.idle": "2023-03-19T00:36:30.804750Z",
     "shell.execute_reply": "2023-03-19T00:36:30.803885Z",
     "shell.execute_reply.started": "2023-03-19T00:36:30.730885Z"
    },
    "tags": []
   },
   "outputs": [],
   "source": [
    "dfm5 = df.copy()"
   ]
  },
  {
   "cell_type": "code",
   "execution_count": 387,
   "id": "c1d18dd3-6183-4ce4-9e52-63036b043281",
   "metadata": {
    "execution": {
     "iopub.execute_input": "2023-03-19T00:36:35.693417Z",
     "iopub.status.busy": "2023-03-19T00:36:35.692986Z",
     "iopub.status.idle": "2023-03-19T00:36:35.768643Z",
     "shell.execute_reply": "2023-03-19T00:36:35.767709Z",
     "shell.execute_reply.started": "2023-03-19T00:36:35.693385Z"
    },
    "tags": []
   },
   "outputs": [],
   "source": [
    "## Defining label and features for the model\n",
    "\n",
    "m5_l = ['res1']\n",
    "\n",
    "m5_f = [\n",
    "    # 'id',\n",
    "    # 'sex',\n",
    "    'sex_F',\n",
    "    'sex_M',\n",
    "    'sex_U',\n",
    "    'bizflag',\n",
    "    # 'zip',\n",
    "    # 'zip_bins',\n",
    "    'zip_bins_2',\n",
    "    'zip_bins_3',\n",
    "    'zip_bins_4',\n",
    "    'zip_bins_5',\n",
    "    'zip_bins_6',\n",
    "    'zip_bins_7',\n",
    "    'zip_bins_8',\n",
    "    'zip_bins_9',\n",
    "    'zip_bins_10',\n",
    "    'zip_bins_11',\n",
    "    'zip_bins_12',\n",
    "    'zip_bins_13',\n",
    "    'zip_bins_14',\n",
    "    'zip_bins_15',\n",
    "    'zip_bins_16',\n",
    "    'zip_bins_17',\n",
    "    'zip_bins_18',\n",
    "    'zip_bins_19',\n",
    "    'zip_bins_20',\n",
    "    'numords',\n",
    "    'dollars',\n",
    "    'last',\n",
    "    'sincepurch',\n",
    "    'version1',\n",
    "    'owntaxprod',\n",
    "    'upgraded',\n",
    "]"
   ]
  },
  {
   "cell_type": "code",
   "execution_count": 346,
   "id": "b9bed71c-8234-4ba6-a53c-7f53fdc02bac",
   "metadata": {
    "execution": {
     "iopub.execute_input": "2023-03-18T23:53:55.712221Z",
     "iopub.status.busy": "2023-03-18T23:53:55.711493Z",
     "iopub.status.idle": "2023-03-18T23:54:00.055975Z",
     "shell.execute_reply": "2023-03-18T23:54:00.054863Z",
     "shell.execute_reply.started": "2023-03-18T23:53:55.712186Z"
    },
    "tags": []
   },
   "outputs": [],
   "source": [
    "m5 = mba263.random_forest(\n",
    "    dfm5[m5_l],\n",
    "    dfm5[m5_f],\n",
    "    trees=500,\n",
    ")"
   ]
  },
  {
   "cell_type": "markdown",
   "id": "8a07c58b-037c-4598-af74-99d37cd5e85f",
   "metadata": {},
   "source": [
    "#### Coefficients"
   ]
  },
  {
   "cell_type": "markdown",
   "id": "965a67b8-84f7-452e-98e9-ea052934972a",
   "metadata": {},
   "source": [
    "#### Predictions"
   ]
  },
  {
   "cell_type": "code",
   "execution_count": 347,
   "id": "894e18c1-6c07-4ad3-b8ed-28016c070dde",
   "metadata": {
    "execution": {
     "iopub.execute_input": "2023-03-18T23:54:01.045581Z",
     "iopub.status.busy": "2023-03-18T23:54:01.045155Z",
     "iopub.status.idle": "2023-03-18T23:54:01.641138Z",
     "shell.execute_reply": "2023-03-18T23:54:01.640051Z",
     "shell.execute_reply.started": "2023-03-18T23:54:01.045546Z"
    },
    "tags": []
   },
   "outputs": [],
   "source": [
    "dfm4['m4_pred_prob'] = m4.predict(dfm4[m4_f])"
   ]
  },
  {
   "cell_type": "markdown",
   "id": "5e4e8631-24c1-4260-8ced-0940cc995c83",
   "metadata": {},
   "source": [
    "###### "
   ]
  },
  {
   "cell_type": "markdown",
   "id": "11433b3e-54b6-493c-8007-a1111835254e",
   "metadata": {},
   "source": [
    "## Models compilation"
   ]
  },
  {
   "cell_type": "code",
   "execution_count": null,
   "id": "5ffec184-3c83-4a59-84c4-2d2ac79a55a6",
   "metadata": {},
   "outputs": [],
   "source": [
    "## Models objects\n",
    "models = {\n",
    "    \n",
    "    ## Logistic regression\n",
    "    'm1': { \n",
    "        'df': dfm1,\n",
    "        'label': m1_l,\n",
    "        'features': m1_f,\n",
    "        'model': m1,\n",
    "    },\n",
    "    \n",
    "    ## Neural network\n",
    "    'm2': { \n",
    "        'df': dfm2,\n",
    "        'label': m2_l,\n",
    "        'features': m2_f,\n",
    "        'model': m2,\n",
    "    },\n",
    "    \n",
    "    ## Logistic regression with regularization\n",
    "    'm3': { \n",
    "        'df': dfm3,\n",
    "        'label': m3_l,\n",
    "        'features': m3_f,\n",
    "        'model': m3,\n",
    "    },\n",
    "    \n",
    "    ## Random forest\n",
    "    'm4': {\n",
    "        'df': dfm4,\n",
    "        'label': m4_l,\n",
    "        'features': m4_f,\n",
    "        'model': m4,\n",
    "    },\n",
    "}"
   ]
  },
  {
   "cell_type": "markdown",
   "id": "6b22bce8-b81a-43df-8886-adce639813b5",
   "metadata": {},
   "source": [
    "# "
   ]
  },
  {
   "cell_type": "markdown",
   "id": "e3e6269d-4b66-4155-8510-8b6dc4cb2ad1",
   "metadata": {},
   "source": [
    "# Results exploration"
   ]
  },
  {
   "cell_type": "markdown",
   "id": "183537a0-89c5-4c6e-99e7-d622366bbf13",
   "metadata": {
    "tags": []
   },
   "source": [
    "### Probability predictions distribution based on results"
   ]
  },
  {
   "cell_type": "markdown",
   "id": "13e44388-1440-409d-b896-f2637afc6412",
   "metadata": {
    "jp-MarkdownHeadingCollapsed": true,
    "tags": []
   },
   "source": [
    "##### Model 1: Logistic regression"
   ]
  },
  {
   "cell_type": "code",
   "execution_count": null,
   "id": "3dcc08b2-673f-46d4-9e3d-458874812519",
   "metadata": {
    "execution": {
     "iopub.execute_input": "2023-03-18T17:21:03.011602Z",
     "iopub.status.busy": "2023-03-18T17:21:03.011103Z",
     "iopub.status.idle": "2023-03-18T17:21:04.288076Z",
     "shell.execute_reply": "2023-03-18T17:21:04.286855Z",
     "shell.execute_reply.started": "2023-03-18T17:21:03.011565Z"
    },
    "tags": []
   },
   "outputs": [],
   "source": [
    "fig = px.box(dfm1, x=\"res1\", y=round(dfm1['m1_pred_prob'], 4))\n",
    "fig.show()"
   ]
  },
  {
   "cell_type": "code",
   "execution_count": null,
   "id": "d3c66f2b-cc4a-40ce-8c02-0a8f08b86e74",
   "metadata": {
    "execution": {
     "iopub.execute_input": "2023-03-18T17:21:04.291232Z",
     "iopub.status.busy": "2023-03-18T17:21:04.290708Z",
     "iopub.status.idle": "2023-03-18T17:21:04.736305Z",
     "shell.execute_reply": "2023-03-18T17:21:04.734872Z",
     "shell.execute_reply.started": "2023-03-18T17:21:04.291197Z"
    },
    "tags": []
   },
   "outputs": [],
   "source": [
    "fig = px.histogram(\n",
    "    dfm1, \n",
    "    x=\"m1_pred_prob\", \n",
    "    color=\"res1\", \n",
    "    nbins=100,\n",
    "    marginal='rug',\n",
    "    histnorm='probability',\n",
    "    barmode='overlay'\n",
    ")\n",
    "\n",
    "fig.show()"
   ]
  },
  {
   "cell_type": "markdown",
   "id": "187d1c5f-2954-496c-bb26-4eb8fbe8a6c6",
   "metadata": {
    "jp-MarkdownHeadingCollapsed": true,
    "tags": []
   },
   "source": [
    "##### Model 2: Neural network"
   ]
  },
  {
   "cell_type": "code",
   "execution_count": null,
   "id": "508bfa8b-dad4-4033-b671-ded61fbf57e6",
   "metadata": {
    "execution": {
     "iopub.execute_input": "2023-03-18T17:21:04.738788Z",
     "iopub.status.busy": "2023-03-18T17:21:04.738251Z",
     "iopub.status.idle": "2023-03-18T17:21:04.935606Z",
     "shell.execute_reply": "2023-03-18T17:21:04.934679Z",
     "shell.execute_reply.started": "2023-03-18T17:21:04.738753Z"
    },
    "tags": []
   },
   "outputs": [],
   "source": [
    "fig = px.box(dfm2, x=\"res1\", y=round(dfm2['m2_pred_prob'], 4))\n",
    "fig.show()"
   ]
  },
  {
   "cell_type": "code",
   "execution_count": null,
   "id": "4a8a9d49-0d0e-4936-ae6b-135251a41834",
   "metadata": {
    "execution": {
     "iopub.execute_input": "2023-03-18T17:21:04.938994Z",
     "iopub.status.busy": "2023-03-18T17:21:04.938592Z",
     "iopub.status.idle": "2023-03-18T17:21:05.290458Z",
     "shell.execute_reply": "2023-03-18T17:21:05.289544Z",
     "shell.execute_reply.started": "2023-03-18T17:21:04.938963Z"
    },
    "tags": []
   },
   "outputs": [],
   "source": [
    "fig = px.histogram(\n",
    "    dfm2, \n",
    "    x=\"m2_pred_prob\", \n",
    "    color=\"res1\", \n",
    "    nbins=100,\n",
    "    marginal='rug',\n",
    "    histnorm='probability',\n",
    "    barmode='overlay'\n",
    ")\n",
    "\n",
    "fig.show()"
   ]
  },
  {
   "cell_type": "markdown",
   "id": "8a9bc3cd-83e6-48ec-be5d-371266273454",
   "metadata": {
    "jp-MarkdownHeadingCollapsed": true,
    "tags": []
   },
   "source": [
    "##### Model 4: Random forest"
   ]
  },
  {
   "cell_type": "code",
   "execution_count": null,
   "id": "49eecdc3-d08a-457e-9881-d3bb05b6dc5d",
   "metadata": {
    "execution": {
     "iopub.execute_input": "2023-03-18T17:21:04.738788Z",
     "iopub.status.busy": "2023-03-18T17:21:04.738251Z",
     "iopub.status.idle": "2023-03-18T17:21:04.935606Z",
     "shell.execute_reply": "2023-03-18T17:21:04.934679Z",
     "shell.execute_reply.started": "2023-03-18T17:21:04.738753Z"
    },
    "tags": []
   },
   "outputs": [],
   "source": [
    "fig = px.box(dfm4, x=\"res1\", y=round(dfm4['m4_pred_prob'], 4))\n",
    "fig.show()"
   ]
  },
  {
   "cell_type": "code",
   "execution_count": null,
   "id": "21e4305c-442b-4a38-a27d-4e47301119c9",
   "metadata": {
    "execution": {
     "iopub.execute_input": "2023-03-18T23:56:35.156963Z",
     "iopub.status.busy": "2023-03-18T23:56:35.156155Z",
     "iopub.status.idle": "2023-03-18T23:56:35.535239Z",
     "shell.execute_reply": "2023-03-18T23:56:35.534228Z",
     "shell.execute_reply.started": "2023-03-18T23:56:35.156928Z"
    },
    "tags": []
   },
   "outputs": [],
   "source": [
    "fig = px.histogram(\n",
    "    dfm4, \n",
    "    x=\"m4_pred_prob\", \n",
    "    color=\"res1\", \n",
    "    nbins=100,\n",
    "    marginal='rug',\n",
    "    histnorm='probability',\n",
    "    barmode='overlay'\n",
    ")\n",
    "\n",
    "fig.show()"
   ]
  },
  {
   "cell_type": "markdown",
   "id": "15a8d589-389e-4968-82a1-d59737eb7f82",
   "metadata": {
    "tags": []
   },
   "source": [
    "### Gains"
   ]
  },
  {
   "cell_type": "code",
   "execution_count": 380,
   "id": "1d386e15-9c2f-4ab2-b3e4-6b65a668ee3b",
   "metadata": {
    "execution": {
     "iopub.execute_input": "2023-03-19T00:27:40.725214Z",
     "iopub.status.busy": "2023-03-19T00:27:40.724811Z",
     "iopub.status.idle": "2023-03-19T00:27:43.455460Z",
     "shell.execute_reply": "2023-03-19T00:27:43.454503Z",
     "shell.execute_reply.started": "2023-03-19T00:27:40.725184Z"
    },
    "tags": []
   },
   "outputs": [],
   "source": [
    "m1_gain = mba263.gain(dfm1['res1'], dfm1['m1_pred_prob'], bins=30)\n",
    "m2_gain = mba263.gain(dfm2['res1'], dfm2['m2_pred_prob'], bins=30)\n",
    "m3_gain = mba263.gain(dfm3['res1'], dfm3['m3_pred_prob'], bins=30)\n",
    "m4_gain = mba263.gain(dfm4['res1'], dfm4['m4_pred_prob'], bins=30)"
   ]
  },
  {
   "cell_type": "code",
   "execution_count": 382,
   "id": "f4f36825-8ab8-46e8-b007-f8bedb04de6f",
   "metadata": {
    "execution": {
     "iopub.execute_input": "2023-03-19T00:27:56.487216Z",
     "iopub.status.busy": "2023-03-19T00:27:56.486477Z",
     "iopub.status.idle": "2023-03-19T00:27:56.786902Z",
     "shell.execute_reply": "2023-03-19T00:27:56.785827Z",
     "shell.execute_reply.started": "2023-03-19T00:27:56.487180Z"
    },
    "tags": []
   },
   "outputs": [
    {
     "data": {
      "text/plain": [
       "[<matplotlib.lines.Line2D at 0x14b2f6ac0>]"
      ]
     },
     "execution_count": 382,
     "metadata": {},
     "output_type": "execute_result"
    },
    {
     "data": {
      "image/png": "[encoded data removed]",
      "text/plain": [
       "<Figure size 432x288 with 1 Axes>"
      ]
     },
     "metadata": {
      "needs_background": "light"
     },
     "output_type": "display_data"
    }
   ],
   "source": [
    "plt.plot(m1_gain)\n",
    "plt.plot(m2_gain)\n",
    "plt.plot(m3_gain)\n",
    "plt.plot(m4_gain)\n",
    "plt.plot([0,30],[0,1],'b')"
   ]
  },
  {
   "cell_type": "markdown",
   "id": "ff7bc15c-00d0-45a9-9a23-e223d2d19aa3",
   "metadata": {},
   "source": [
    "### Profit estimation\n"
   ]
  },
  {
   "cell_type": "markdown",
   "id": "1b20e83d-c011-4d52-8641-fd66d40d7a98",
   "metadata": {},
   "source": [
    "##### Calculating profits for each model at different thresholds"
   ]
  },
  {
   "cell_type": "code",
   "execution_count": 348,
   "id": "563a6926-296b-456f-9e09-ee7c261a9fe3",
   "metadata": {
    "execution": {
     "iopub.execute_input": "2023-03-18T23:54:08.531965Z",
     "iopub.status.busy": "2023-03-18T23:54:08.531565Z",
     "iopub.status.idle": "2023-03-18T23:54:08.606482Z",
     "shell.execute_reply": "2023-03-18T23:54:08.605224Z",
     "shell.execute_reply.started": "2023-03-18T23:54:08.531935Z"
    },
    "jupyter": {
     "source_hidden": true
    },
    "tags": []
   },
   "outputs": [],
   "source": [
    "\n",
    "## Profit dataframe for various thresholds\n",
    "thd_cuts = 100\n",
    "dfprofit = pd.DataFrame(np.linspace(0, 1, num=thd_cuts))\n",
    "dfprofit.rename(columns={0: 'threshold'}, inplace=True)"
   ]
  },
  {
   "cell_type": "code",
   "execution_count": 349,
   "id": "0528469e-ede7-49cd-ae5a-7af0e8c370d7",
   "metadata": {
    "execution": {
     "iopub.execute_input": "2023-03-18T23:54:08.609821Z",
     "iopub.status.busy": "2023-03-18T23:54:08.609322Z",
     "iopub.status.idle": "2023-03-18T23:55:03.850847Z",
     "shell.execute_reply": "2023-03-18T23:55:03.849884Z",
     "shell.execute_reply.started": "2023-03-18T23:54:08.609789Z"
    },
    "jupyter": {
     "source_hidden": true
    },
    "scrolled": true,
    "tags": []
   },
   "outputs": [
    {
     "name": "stdout",
     "output_type": "stream",
     "text": [
      "m1...\n",
      "m2...\n",
      "m3...\n",
      "m4...\n"
     ]
    }
   ],
   "source": [
    "for model_key in models:\n",
    "    \n",
    "    print(model_key + '...')\n",
    "    \n",
    "    ## Defining variables\n",
    "    _model = models[model_key]['model']\n",
    "    _df = models[model_key]['df']\n",
    "    _features = _df[models[model_key]['features']]\n",
    "    _label = _df[models[model_key]['label']]\n",
    "    \n",
    "    ## Obtaining key metrics for all cutoffs\n",
    "    dfprofit[model_key] = dfprofit['threshold'].apply(\n",
    "        lambda x: metrics.confusion_matrix(\n",
    "            y_true=_label,\n",
    "            y_pred=(_model.predict(_features) > x)*1,\n",
    "        ).ravel()\n",
    "    )\n",
    "    \n",
    "    ## Desaggregating results into columns\n",
    "    dfprofit[\n",
    "        [\n",
    "            model_key + '_tn',  \n",
    "            model_key + '_fp',  \n",
    "            model_key + '_fn',  \n",
    "            model_key + '_tp',\n",
    "        ]\n",
    "    ] = pd.DataFrame(dfprofit[model_key].tolist(), index=dfprofit.index)\n",
    "    dfprofit.drop(model_key, axis=1, inplace=True)\n",
    "    \n",
    "    ## Adding some other model metrics\n",
    "    dfprofit[model_key + '_prc'] = dfprofit[model_key + '_tp']/(dfprofit[model_key + '_tp'] + dfprofit[model_key + '_fp'])\n",
    "    dfprofit[model_key + '_rcl'] = dfprofit[model_key + '_tp']/(dfprofit[model_key + '_tp'] + dfprofit[model_key + '_fn'])\n",
    "    \n",
    "    ## Calculating estimated profit\n",
    "    dfprofit[model_key + '_profit'] = dfprofit[model_key + '_tp']*(60 - 1.41) - dfprofit[model_key + '_fp']*1.41\n",
    "    \n",
    "print('end!')"
   ]
  },
  {
   "cell_type": "markdown",
   "id": "c1f7347f-09ac-40c6-bfc1-bc188d470a9c",
   "metadata": {},
   "source": [
    "##### Visualizing results"
   ]
  },
  {
   "cell_type": "code",
   "execution_count": null,
   "id": "ca8bdb41-dff8-4c1b-a572-fd55c04f5808",
   "metadata": {},
   "outputs": [],
   "source": [
    "dfprofit"
   ]
  },
  {
   "cell_type": "code",
   "execution_count": 351,
   "id": "649e0a27-b71f-4246-8a4e-d53ce84f9ae2",
   "metadata": {
    "execution": {
     "iopub.execute_input": "2023-03-18T23:55:31.476996Z",
     "iopub.status.busy": "2023-03-18T23:55:31.476566Z",
     "iopub.status.idle": "2023-03-18T23:55:31.566677Z",
     "shell.execute_reply": "2023-03-18T23:55:31.565716Z",
     "shell.execute_reply.started": "2023-03-18T23:55:31.476960Z"
    },
    "tags": []
   },
   "outputs": [
    {
     "data": {
      "application/vnd.plotly.v1+json": {
       "config": {
        "plotlyServerURL": "https://plot.ly"
       },
       "data": [
        {
         "mode": "lines",
         "name": "m1",
         "type": "scatter",
         "x": [
          0,
          0.010101010101010102,
          0.020202020202020204,
          0.030303030303030304,
          0.04040404040404041,
          0.05050505050505051,
          0.06060606060606061,
          0.07070707070707072,
          0.08080808080808081,
          0.09090909090909091,
          0.10101010101010102,
          0.11111111111111112,
          0.12121212121212122,
          0.13131313131313133,
          0.14141414141414144,
          0.15151515151515152,
          0.16161616161616163,
          0.17171717171717174,
          0.18181818181818182,
          0.19191919191919193,
          0.20202020202020204,
          0.21212121212121213,
          0.22222222222222224,
          0.23232323232323235,
          0.24242424242424243,
          0.25252525252525254,
          0.26262626262626265,
          0.27272727272727276,
          0.2828282828282829,
          0.29292929292929293,
          0.30303030303030304,
          0.31313131313131315,
          0.32323232323232326,
          0.33333333333333337,
          0.3434343434343435,
          0.3535353535353536,
          0.36363636363636365,
          0.37373737373737376,
          0.38383838383838387,
          0.393939393939394,
          0.4040404040404041,
          0.4141414141414142,
          0.42424242424242425,
          0.43434343434343436,
          0.4444444444444445,
          0.4545454545454546,
          0.4646464646464647,
          0.4747474747474748,
          0.48484848484848486,
          0.494949494949495,
          0.5050505050505051,
          0.5151515151515152,
          0.5252525252525253,
          0.5353535353535354,
          0.5454545454545455,
          0.5555555555555556,
          0.5656565656565657,
          0.5757575757575758,
          0.5858585858585859,
          0.595959595959596,
          0.6060606060606061,
          0.6161616161616162,
          0.6262626262626263,
          0.6363636363636365,
          0.6464646464646465,
          0.6565656565656566,
          0.6666666666666667,
          0.6767676767676768,
          0.686868686868687,
          0.696969696969697,
          0.7070707070707072,
          0.7171717171717172,
          0.7272727272727273,
          0.7373737373737375,
          0.7474747474747475,
          0.7575757575757577,
          0.7676767676767677,
          0.7777777777777778,
          0.787878787878788,
          0.797979797979798,
          0.8080808080808082,
          0.8181818181818182,
          0.8282828282828284,
          0.8383838383838385,
          0.8484848484848485,
          0.8585858585858587,
          0.8686868686868687,
          0.8787878787878789,
          0.888888888888889,
          0.8989898989898991,
          0.9090909090909092,
          0.9191919191919192,
          0.9292929292929294,
          0.9393939393939394,
          0.9494949494949496,
          0.9595959595959597,
          0.9696969696969697,
          0.9797979797979799,
          0.98989898989899,
          1
         ],
         "y": [
          29460.000000000007,
          30843.570000000003,
          33060.630000000005,
          32165.940000000002,
          31151.16,
          28944.15,
          27242.160000000003,
          25147.56,
          22795.710000000003,
          20363.010000000002,
          19153.170000000002,
          17915.91,
          16450.08,
          14809.260000000002,
          13262.43,
          11873.04,
          11261.61,
          10411.59,
          9781.83,
          9092.07,
          8442.57,
          7495.89,
          7075.110000000001,
          6654.33,
          6376.89,
          6054.96,
          5731.620000000001,
          5289.6900000000005,
          5019.3,
          4574.55,
          4297.110000000001,
          3783.9000000000005,
          3678,
          3400.5600000000004,
          2951.58,
          2727.09,
          2569.6500000000005,
          2576.7000000000003,
          2476.44,
          2311.9500000000003,
          2090.2799999999997,
          1868.6100000000001,
          1578.48,
          1593.99,
          1602.45,
          1309.5000000000002,
          1137.9600000000003,
          1085.01,
          977.7,
          803.34,
          803.34,
          748.98,
          691.8000000000001,
          574.6200000000001,
          577.44,
          520.2600000000001,
          520.2600000000001,
          461.67,
          404.49,
          345.90000000000003,
          171.54000000000002,
          171.54000000000002,
          54.36000000000001,
          -2.82,
          -1.41,
          -1.41,
          -1.41,
          -1.41,
          0,
          0,
          0,
          0,
          0,
          0,
          0,
          0,
          0,
          0,
          0,
          0,
          0,
          0,
          0,
          0,
          0,
          0,
          0,
          0,
          0,
          0,
          0,
          0,
          0,
          0,
          0,
          0,
          0,
          0,
          0,
          0
         ]
        },
        {
         "mode": "lines",
         "name": "m2",
         "type": "scatter",
         "x": [
          0,
          0.010101010101010102,
          0.020202020202020204,
          0.030303030303030304,
          0.04040404040404041,
          0.05050505050505051,
          0.06060606060606061,
          0.07070707070707072,
          0.08080808080808081,
          0.09090909090909091,
          0.10101010101010102,
          0.11111111111111112,
          0.12121212121212122,
          0.13131313131313133,
          0.14141414141414144,
          0.15151515151515152,
          0.16161616161616163,
          0.17171717171717174,
          0.18181818181818182,
          0.19191919191919193,
          0.20202020202020204,
          0.21212121212121213,
          0.22222222222222224,
          0.23232323232323235,
          0.24242424242424243,
          0.25252525252525254,
          0.26262626262626265,
          0.27272727272727276,
          0.2828282828282829,
          0.29292929292929293,
          0.30303030303030304,
          0.31313131313131315,
          0.32323232323232326,
          0.33333333333333337,
          0.3434343434343435,
          0.3535353535353536,
          0.36363636363636365,
          0.37373737373737376,
          0.38383838383838387,
          0.393939393939394,
          0.4040404040404041,
          0.4141414141414142,
          0.42424242424242425,
          0.43434343434343436,
          0.4444444444444445,
          0.4545454545454546,
          0.4646464646464647,
          0.4747474747474748,
          0.48484848484848486,
          0.494949494949495,
          0.5050505050505051,
          0.5151515151515152,
          0.5252525252525253,
          0.5353535353535354,
          0.5454545454545455,
          0.5555555555555556,
          0.5656565656565657,
          0.5757575757575758,
          0.5858585858585859,
          0.595959595959596,
          0.6060606060606061,
          0.6161616161616162,
          0.6262626262626263,
          0.6363636363636365,
          0.6464646464646465,
          0.6565656565656566,
          0.6666666666666667,
          0.6767676767676768,
          0.686868686868687,
          0.696969696969697,
          0.7070707070707072,
          0.7171717171717172,
          0.7272727272727273,
          0.7373737373737375,
          0.7474747474747475,
          0.7575757575757577,
          0.7676767676767677,
          0.7777777777777778,
          0.787878787878788,
          0.797979797979798,
          0.8080808080808082,
          0.8181818181818182,
          0.8282828282828284,
          0.8383838383838385,
          0.8484848484848485,
          0.8585858585858587,
          0.8686868686868687,
          0.8787878787878789,
          0.888888888888889,
          0.8989898989898991,
          0.9090909090909092,
          0.9191919191919192,
          0.9292929292929294,
          0.9393939393939394,
          0.9494949494949496,
          0.9595959595959597,
          0.9696969696969697,
          0.9797979797979799,
          0.98989898989899,
          1
         ],
         "y": [
          29460.000000000007,
          32732.370000000003,
          34469.880000000005,
          33893.34,
          32465.43,
          30770.040000000005,
          29506.199999999997,
          27829.860000000004,
          25991.52,
          24172.440000000002,
          22803.120000000003,
          21432.54,
          20181.33,
          19408.08,
          18179.58,
          17229.930000000004,
          16326.18,
          15701.280000000002,
          15084.210000000001,
          14304.060000000001,
          13491.480000000001,
          12391.590000000002,
          11344.650000000001,
          10699.380000000001,
          10061.16,
          9634.740000000002,
          8862.420000000002,
          8215.740000000002,
          7540.860000000001,
          7174.4400000000005,
          6506.610000000001,
          6000.45,
          5681.34,
          5175.18,
          4617.48,
          4274.4,
          3989.9100000000003,
          3771.06,
          3543.7500000000005,
          3144.9,
          2973.36,
          2746.05,
          2464.3800000000006,
          2235.6600000000003,
          1892.58,
          1612.32,
          1497.96,
          1440.78,
          1383.6000000000001,
          1326.42,
          1092.06,
          861.9300000000001,
          863.34,
          866.16,
          866.16,
          810.39,
          637.44,
          580.2600000000001,
          524.49,
          524.49,
          348.72,
          291.54,
          232.95000000000002,
          232.95000000000002,
          232.95000000000002,
          234.36,
          117.18,
          117.18,
          117.18,
          117.18,
          0,
          0,
          0,
          0,
          0,
          0,
          0,
          0,
          0,
          0,
          0,
          0,
          0,
          0,
          0,
          0,
          0,
          0,
          0,
          0,
          0,
          0,
          0,
          0,
          0,
          0,
          0,
          0,
          0,
          0
         ]
        },
        {
         "mode": "lines",
         "name": "m3",
         "type": "scatter",
         "x": [
          0,
          0.010101010101010102,
          0.020202020202020204,
          0.030303030303030304,
          0.04040404040404041,
          0.05050505050505051,
          0.06060606060606061,
          0.07070707070707072,
          0.08080808080808081,
          0.09090909090909091,
          0.10101010101010102,
          0.11111111111111112,
          0.12121212121212122,
          0.13131313131313133,
          0.14141414141414144,
          0.15151515151515152,
          0.16161616161616163,
          0.17171717171717174,
          0.18181818181818182,
          0.19191919191919193,
          0.20202020202020204,
          0.21212121212121213,
          0.22222222222222224,
          0.23232323232323235,
          0.24242424242424243,
          0.25252525252525254,
          0.26262626262626265,
          0.27272727272727276,
          0.2828282828282829,
          0.29292929292929293,
          0.30303030303030304,
          0.31313131313131315,
          0.32323232323232326,
          0.33333333333333337,
          0.3434343434343435,
          0.3535353535353536,
          0.36363636363636365,
          0.37373737373737376,
          0.38383838383838387,
          0.393939393939394,
          0.4040404040404041,
          0.4141414141414142,
          0.42424242424242425,
          0.43434343434343436,
          0.4444444444444445,
          0.4545454545454546,
          0.4646464646464647,
          0.4747474747474748,
          0.48484848484848486,
          0.494949494949495,
          0.5050505050505051,
          0.5151515151515152,
          0.5252525252525253,
          0.5353535353535354,
          0.5454545454545455,
          0.5555555555555556,
          0.5656565656565657,
          0.5757575757575758,
          0.5858585858585859,
          0.595959595959596,
          0.6060606060606061,
          0.6161616161616162,
          0.6262626262626263,
          0.6363636363636365,
          0.6464646464646465,
          0.6565656565656566,
          0.6666666666666667,
          0.6767676767676768,
          0.686868686868687,
          0.696969696969697,
          0.7070707070707072,
          0.7171717171717172,
          0.7272727272727273,
          0.7373737373737375,
          0.7474747474747475,
          0.7575757575757577,
          0.7676767676767677,
          0.7777777777777778,
          0.787878787878788,
          0.797979797979798,
          0.8080808080808082,
          0.8181818181818182,
          0.8282828282828284,
          0.8383838383838385,
          0.8484848484848485,
          0.8585858585858587,
          0.8686868686868687,
          0.8787878787878789,
          0.888888888888889,
          0.8989898989898991,
          0.9090909090909092,
          0.9191919191919192,
          0.9292929292929294,
          0.9393939393939394,
          0.9494949494949496,
          0.9595959595959597,
          0.9696969696969697,
          0.9797979797979799,
          0.98989898989899,
          1
         ],
         "y": [
          29460.000000000007,
          30353.97,
          32883.84,
          33013.380000000005,
          31544.940000000002,
          29587.500000000007,
          27359.309999999998,
          25397.25,
          22875.75,
          20068.020000000004,
          18152.91,
          16680.510000000002,
          15424.29,
          14290.260000000002,
          12069.960000000001,
          10789.29,
          9462.720000000001,
          8556.93,
          7882.68,
          7113.18,
          6409.320000000001,
          5625.72,
          4789.170000000001,
          4408.650000000001,
          3841.08,
          3510.69,
          3064.53,
          2732.7300000000005,
          2632.4700000000003,
          2472.21,
          2317.59,
          2098.74,
          1752.8400000000001,
          1589.76,
          1539.63,
          1253.73,
          1137.9600000000003,
          1029.24,
          917.7,
          744.7500000000001,
          746.1600000000001,
          688.98,
          574.6200000000001,
          574.6200000000001,
          578.8500000000001,
          520.2600000000001,
          461.67,
          403.08,
          287.31000000000006,
          170.13000000000002,
          171.54000000000002,
          112.95,
          -4.2299999999999995,
          -1.41,
          -1.41,
          -1.41,
          -1.41,
          -1.41,
          0,
          0,
          0,
          0,
          0,
          0,
          0,
          0,
          0,
          0,
          0,
          0,
          0,
          0,
          0,
          0,
          0,
          0,
          0,
          0,
          0,
          0,
          0,
          0,
          0,
          0,
          0,
          0,
          0,
          0,
          0,
          0,
          0,
          0,
          0,
          0,
          0,
          0,
          0,
          0,
          0,
          0
         ]
        },
        {
         "mode": "lines",
         "name": "m4",
         "type": "scatter",
         "x": [
          0,
          0.010101010101010102,
          0.020202020202020204,
          0.030303030303030304,
          0.04040404040404041,
          0.05050505050505051,
          0.06060606060606061,
          0.07070707070707072,
          0.08080808080808081,
          0.09090909090909091,
          0.10101010101010102,
          0.11111111111111112,
          0.12121212121212122,
          0.13131313131313133,
          0.14141414141414144,
          0.15151515151515152,
          0.16161616161616163,
          0.17171717171717174,
          0.18181818181818182,
          0.19191919191919193,
          0.20202020202020204,
          0.21212121212121213,
          0.22222222222222224,
          0.23232323232323235,
          0.24242424242424243,
          0.25252525252525254,
          0.26262626262626265,
          0.27272727272727276,
          0.2828282828282829,
          0.29292929292929293,
          0.30303030303030304,
          0.31313131313131315,
          0.32323232323232326,
          0.33333333333333337,
          0.3434343434343435,
          0.3535353535353536,
          0.36363636363636365,
          0.37373737373737376,
          0.38383838383838387,
          0.393939393939394,
          0.4040404040404041,
          0.4141414141414142,
          0.42424242424242425,
          0.43434343434343436,
          0.4444444444444445,
          0.4545454545454546,
          0.4646464646464647,
          0.4747474747474748,
          0.48484848484848486,
          0.494949494949495,
          0.5050505050505051,
          0.5151515151515152,
          0.5252525252525253,
          0.5353535353535354,
          0.5454545454545455,
          0.5555555555555556,
          0.5656565656565657,
          0.5757575757575758,
          0.5858585858585859,
          0.595959595959596,
          0.6060606060606061,
          0.6161616161616162,
          0.6262626262626263,
          0.6363636363636365,
          0.6464646464646465,
          0.6565656565656566,
          0.6666666666666667,
          0.6767676767676768,
          0.686868686868687,
          0.696969696969697,
          0.7070707070707072,
          0.7171717171717172,
          0.7272727272727273,
          0.7373737373737375,
          0.7474747474747475,
          0.7575757575757577,
          0.7676767676767677,
          0.7777777777777778,
          0.787878787878788,
          0.797979797979798,
          0.8080808080808082,
          0.8181818181818182,
          0.8282828282828284,
          0.8383838383838385,
          0.8484848484848485,
          0.8585858585858587,
          0.8686868686868687,
          0.8787878787878789,
          0.888888888888889,
          0.8989898989898991,
          0.9090909090909092,
          0.9191919191919192,
          0.9292929292929294,
          0.9393939393939394,
          0.9494949494949496,
          0.9595959595959597,
          0.9696969696969697,
          0.9797979797979799,
          0.98989898989899,
          1
         ],
         "y": [
          29460.000000000007,
          29460.000000000007,
          29588.310000000005,
          35350.170000000006,
          40459.26000000001,
          41557.71,
          38068.590000000004,
          35745.27,
          34185.00000000001,
          32188.74,
          30477.27,
          28263.390000000003,
          26551.440000000002,
          25124.760000000002,
          23525.13,
          22264.350000000002,
          20762.16,
          19014.33,
          17792.4,
          16283.16,
          14884.050000000001,
          13955.07,
          13028.910000000002,
          12044.160000000002,
          11169.54,
          10354.92,
          9536.07,
          8837.22,
          8428.500000000002,
          7904.01,
          7493.88,
          7086.570000000001,
          6736.4400000000005,
          6034.77,
          5741.820000000001,
          5507.46,
          5273.1,
          5155.92,
          4921.56,
          4804.38,
          4570.02,
          4277.070000000001,
          4218.4800000000005,
          4042.71,
          3691.17,
          3281.04,
          2929.5,
          2577.96,
          2460.78,
          1992.0600000000002,
          1699.1100000000001,
          1581.93,
          1288.98,
          1113.21,
          820.26,
          585.9000000000001,
          468.72,
          351.54,
          292.95000000000005,
          175.77,
          175.77,
          175.77,
          117.18,
          117.18,
          117.18,
          58.59,
          0,
          0,
          0,
          0,
          0,
          0,
          0,
          0,
          0,
          0,
          0,
          0,
          0,
          0,
          0,
          0,
          0,
          0,
          0,
          0,
          0,
          0,
          0,
          0,
          0,
          0,
          0,
          0,
          0,
          0,
          0,
          0,
          0,
          0
         ]
        }
       ],
       "layout": {
        "autosize": true,
        "template": {
         "data": {
          "bar": [
           {
            "error_x": {
             "color": "#2a3f5f"
            },
            "error_y": {
             "color": "#2a3f5f"
            },
            "marker": {
             "line": {
              "color": "#E5ECF6",
              "width": 0.5
             },
             "pattern": {
              "fillmode": "overlay",
              "size": 10,
              "solidity": 0.2
             }
            },
            "type": "bar"
           }
          ],
          "barpolar": [
           {
            "marker": {
             "line": {
              "color": "#E5ECF6",
              "width": 0.5
             },
             "pattern": {
              "fillmode": "overlay",
              "size": 10,
              "solidity": 0.2
             }
            },
            "type": "barpolar"
           }
          ],
          "carpet": [
           {
            "aaxis": {
             "endlinecolor": "#2a3f5f",
             "gridcolor": "white",
             "linecolor": "white",
             "minorgridcolor": "white",
             "startlinecolor": "#2a3f5f"
            },
            "baxis": {
             "endlinecolor": "#2a3f5f",
             "gridcolor": "white",
             "linecolor": "white",
             "minorgridcolor": "white",
             "startlinecolor": "#2a3f5f"
            },
            "type": "carpet"
           }
          ],
          "choropleth": [
           {
            "colorbar": {
             "outlinewidth": 0,
             "ticks": ""
            },
            "type": "choropleth"
           }
          ],
          "contour": [
           {
            "colorbar": {
             "outlinewidth": 0,
             "ticks": ""
            },
            "colorscale": [
             [
              0,
              "#0d0887"
             ],
             [
              0.1111111111111111,
              "#46039f"
             ],
             [
              0.2222222222222222,
              "#7201a8"
             ],
             [
              0.3333333333333333,
              "#9c179e"
             ],
             [
              0.4444444444444444,
              "#bd3786"
             ],
             [
              0.5555555555555556,
              "#d8576b"
             ],
             [
              0.6666666666666666,
              "#ed7953"
             ],
             [
              0.7777777777777778,
              "#fb9f3a"
             ],
             [
              0.8888888888888888,
              "#fdca26"
             ],
             [
              1,
              "#f0f921"
             ]
            ],
            "type": "contour"
           }
          ],
          "contourcarpet": [
           {
            "colorbar": {
             "outlinewidth": 0,
             "ticks": ""
            },
            "type": "contourcarpet"
           }
          ],
          "heatmap": [
           {
            "colorbar": {
             "outlinewidth": 0,
             "ticks": ""
            },
            "colorscale": [
             [
              0,
              "#0d0887"
             ],
             [
              0.1111111111111111,
              "#46039f"
             ],
             [
              0.2222222222222222,
              "#7201a8"
             ],
             [
              0.3333333333333333,
              "#9c179e"
             ],
             [
              0.4444444444444444,
              "#bd3786"
             ],
             [
              0.5555555555555556,
              "#d8576b"
             ],
             [
              0.6666666666666666,
              "#ed7953"
             ],
             [
              0.7777777777777778,
              "#fb9f3a"
             ],
             [
              0.8888888888888888,
              "#fdca26"
             ],
             [
              1,
              "#f0f921"
             ]
            ],
            "type": "heatmap"
           }
          ],
          "heatmapgl": [
           {
            "colorbar": {
             "outlinewidth": 0,
             "ticks": ""
            },
            "colorscale": [
             [
              0,
              "#0d0887"
             ],
             [
              0.1111111111111111,
              "#46039f"
             ],
             [
              0.2222222222222222,
              "#7201a8"
             ],
             [
              0.3333333333333333,
              "#9c179e"
             ],
             [
              0.4444444444444444,
              "#bd3786"
             ],
             [
              0.5555555555555556,
              "#d8576b"
             ],
             [
              0.6666666666666666,
              "#ed7953"
             ],
             [
              0.7777777777777778,
              "#fb9f3a"
             ],
             [
              0.8888888888888888,
              "#fdca26"
             ],
             [
              1,
              "#f0f921"
             ]
            ],
            "type": "heatmapgl"
           }
          ],
          "histogram": [
           {
            "marker": {
             "pattern": {
              "fillmode": "overlay",
              "size": 10,
              "solidity": 0.2
             }
            },
            "type": "histogram"
           }
          ],
          "histogram2d": [
           {
            "colorbar": {
             "outlinewidth": 0,
             "ticks": ""
            },
            "colorscale": [
             [
              0,
              "#0d0887"
             ],
             [
              0.1111111111111111,
              "#46039f"
             ],
             [
              0.2222222222222222,
              "#7201a8"
             ],
             [
              0.3333333333333333,
              "#9c179e"
             ],
             [
              0.4444444444444444,
              "#bd3786"
             ],
             [
              0.5555555555555556,
              "#d8576b"
             ],
             [
              0.6666666666666666,
              "#ed7953"
             ],
             [
              0.7777777777777778,
              "#fb9f3a"
             ],
             [
              0.8888888888888888,
              "#fdca26"
             ],
             [
              1,
              "#f0f921"
             ]
            ],
            "type": "histogram2d"
           }
          ],
          "histogram2dcontour": [
           {
            "colorbar": {
             "outlinewidth": 0,
             "ticks": ""
            },
            "colorscale": [
             [
              0,
              "#0d0887"
             ],
             [
              0.1111111111111111,
              "#46039f"
             ],
             [
              0.2222222222222222,
              "#7201a8"
             ],
             [
              0.3333333333333333,
              "#9c179e"
             ],
             [
              0.4444444444444444,
              "#bd3786"
             ],
             [
              0.5555555555555556,
              "#d8576b"
             ],
             [
              0.6666666666666666,
              "#ed7953"
             ],
             [
              0.7777777777777778,
              "#fb9f3a"
             ],
             [
              0.8888888888888888,
              "#fdca26"
             ],
             [
              1,
              "#f0f921"
             ]
            ],
            "type": "histogram2dcontour"
           }
          ],
          "mesh3d": [
           {
            "colorbar": {
             "outlinewidth": 0,
             "ticks": ""
            },
            "type": "mesh3d"
           }
          ],
          "parcoords": [
           {
            "line": {
             "colorbar": {
              "outlinewidth": 0,
              "ticks": ""
             }
            },
            "type": "parcoords"
           }
          ],
          "pie": [
           {
            "automargin": true,
            "type": "pie"
           }
          ],
          "scatter": [
           {
            "fillpattern": {
             "fillmode": "overlay",
             "size": 10,
             "solidity": 0.2
            },
            "type": "scatter"
           }
          ],
          "scatter3d": [
           {
            "line": {
             "colorbar": {
              "outlinewidth": 0,
              "ticks": ""
             }
            },
            "marker": {
             "colorbar": {
              "outlinewidth": 0,
              "ticks": ""
             }
            },
            "type": "scatter3d"
           }
          ],
          "scattercarpet": [
           {
            "marker": {
             "colorbar": {
              "outlinewidth": 0,
              "ticks": ""
             }
            },
            "type": "scattercarpet"
           }
          ],
          "scattergeo": [
           {
            "marker": {
             "colorbar": {
              "outlinewidth": 0,
              "ticks": ""
             }
            },
            "type": "scattergeo"
           }
          ],
          "scattergl": [
           {
            "marker": {
             "colorbar": {
              "outlinewidth": 0,
              "ticks": ""
             }
            },
            "type": "scattergl"
           }
          ],
          "scattermapbox": [
           {
            "marker": {
             "colorbar": {
              "outlinewidth": 0,
              "ticks": ""
             }
            },
            "type": "scattermapbox"
           }
          ],
          "scatterpolar": [
           {
            "marker": {
             "colorbar": {
              "outlinewidth": 0,
              "ticks": ""
             }
            },
            "type": "scatterpolar"
           }
          ],
          "scatterpolargl": [
           {
            "marker": {
             "colorbar": {
              "outlinewidth": 0,
              "ticks": ""
             }
            },
            "type": "scatterpolargl"
           }
          ],
          "scatterternary": [
           {
            "marker": {
             "colorbar": {
              "outlinewidth": 0,
              "ticks": ""
             }
            },
            "type": "scatterternary"
           }
          ],
          "surface": [
           {
            "colorbar": {
             "outlinewidth": 0,
             "ticks": ""
            },
            "colorscale": [
             [
              0,
              "#0d0887"
             ],
             [
              0.1111111111111111,
              "#46039f"
             ],
             [
              0.2222222222222222,
              "#7201a8"
             ],
             [
              0.3333333333333333,
              "#9c179e"
             ],
             [
              0.4444444444444444,
              "#bd3786"
             ],
             [
              0.5555555555555556,
              "#d8576b"
             ],
             [
              0.6666666666666666,
              "#ed7953"
             ],
             [
              0.7777777777777778,
              "#fb9f3a"
             ],
             [
              0.8888888888888888,
              "#fdca26"
             ],
             [
              1,
              "#f0f921"
             ]
            ],
            "type": "surface"
           }
          ],
          "table": [
           {
            "cells": {
             "fill": {
              "color": "#EBF0F8"
             },
             "line": {
              "color": "white"
             }
            },
            "header": {
             "fill": {
              "color": "#C8D4E3"
             },
             "line": {
              "color": "white"
             }
            },
            "type": "table"
           }
          ]
         },
         "layout": {
          "annotationdefaults": {
           "arrowcolor": "#2a3f5f",
           "arrowhead": 0,
           "arrowwidth": 1
          },
          "autotypenumbers": "strict",
          "coloraxis": {
           "colorbar": {
            "outlinewidth": 0,
            "ticks": ""
           }
          },
          "colorscale": {
           "diverging": [
            [
             0,
             "#8e0152"
            ],
            [
             0.1,
             "#c51b7d"
            ],
            [
             0.2,
             "#de77ae"
            ],
            [
             0.3,
             "#f1b6da"
            ],
            [
             0.4,
             "#fde0ef"
            ],
            [
             0.5,
             "#f7f7f7"
            ],
            [
             0.6,
             "#e6f5d0"
            ],
            [
             0.7,
             "#b8e186"
            ],
            [
             0.8,
             "#7fbc41"
            ],
            [
             0.9,
             "#4d9221"
            ],
            [
             1,
             "#276419"
            ]
           ],
           "sequential": [
            [
             0,
             "#0d0887"
            ],
            [
             0.1111111111111111,
             "#46039f"
            ],
            [
             0.2222222222222222,
             "#7201a8"
            ],
            [
             0.3333333333333333,
             "#9c179e"
            ],
            [
             0.4444444444444444,
             "#bd3786"
            ],
            [
             0.5555555555555556,
             "#d8576b"
            ],
            [
             0.6666666666666666,
             "#ed7953"
            ],
            [
             0.7777777777777778,
             "#fb9f3a"
            ],
            [
             0.8888888888888888,
             "#fdca26"
            ],
            [
             1,
             "#f0f921"
            ]
           ],
           "sequentialminus": [
            [
             0,
             "#0d0887"
            ],
            [
             0.1111111111111111,
             "#46039f"
            ],
            [
             0.2222222222222222,
             "#7201a8"
            ],
            [
             0.3333333333333333,
             "#9c179e"
            ],
            [
             0.4444444444444444,
             "#bd3786"
            ],
            [
             0.5555555555555556,
             "#d8576b"
            ],
            [
             0.6666666666666666,
             "#ed7953"
            ],
            [
             0.7777777777777778,
             "#fb9f3a"
            ],
            [
             0.8888888888888888,
             "#fdca26"
            ],
            [
             1,
             "#f0f921"
            ]
           ]
          },
          "colorway": [
           "#636efa",
           "#EF553B",
           "#00cc96",
           "#ab63fa",
           "#FFA15A",
           "#19d3f3",
           "#FF6692",
           "#B6E880",
           "#FF97FF",
           "#FECB52"
          ],
          "font": {
           "color": "#2a3f5f"
          },
          "geo": {
           "bgcolor": "white",
           "lakecolor": "white",
           "landcolor": "#E5ECF6",
           "showlakes": true,
           "showland": true,
           "subunitcolor": "white"
          },
          "hoverlabel": {
           "align": "left"
          },
          "hovermode": "closest",
          "mapbox": {
           "style": "light"
          },
          "paper_bgcolor": "white",
          "plot_bgcolor": "#E5ECF6",
          "polar": {
           "angularaxis": {
            "gridcolor": "white",
            "linecolor": "white",
            "ticks": ""
           },
           "bgcolor": "#E5ECF6",
           "radialaxis": {
            "gridcolor": "white",
            "linecolor": "white",
            "ticks": ""
           }
          },
          "scene": {
           "xaxis": {
            "backgroundcolor": "#E5ECF6",
            "gridcolor": "white",
            "gridwidth": 2,
            "linecolor": "white",
            "showbackground": true,
            "ticks": "",
            "zerolinecolor": "white"
           },
           "yaxis": {
            "backgroundcolor": "#E5ECF6",
            "gridcolor": "white",
            "gridwidth": 2,
            "linecolor": "white",
            "showbackground": true,
            "ticks": "",
            "zerolinecolor": "white"
           },
           "zaxis": {
            "backgroundcolor": "#E5ECF6",
            "gridcolor": "white",
            "gridwidth": 2,
            "linecolor": "white",
            "showbackground": true,
            "ticks": "",
            "zerolinecolor": "white"
           }
          },
          "shapedefaults": {
           "line": {
            "color": "#2a3f5f"
           }
          },
          "ternary": {
           "aaxis": {
            "gridcolor": "white",
            "linecolor": "white",
            "ticks": ""
           },
           "baxis": {
            "gridcolor": "white",
            "linecolor": "white",
            "ticks": ""
           },
           "bgcolor": "#E5ECF6",
           "caxis": {
            "gridcolor": "white",
            "linecolor": "white",
            "ticks": ""
           }
          },
          "title": {
           "x": 0.05
          },
          "xaxis": {
           "automargin": true,
           "gridcolor": "white",
           "linecolor": "white",
           "ticks": "",
           "title": {
            "standoff": 15
           },
           "zerolinecolor": "white",
           "zerolinewidth": 2
          },
          "yaxis": {
           "automargin": true,
           "gridcolor": "white",
           "linecolor": "white",
           "ticks": "",
           "title": {
            "standoff": 15
           },
           "zerolinecolor": "white",
           "zerolinewidth": 2
          }
         }
        },
        "xaxis": {
         "autorange": true,
         "range": [
          0,
          1
         ],
         "type": "linear"
        },
        "yaxis": {
         "autorange": true,
         "range": [
          -2313.226666666667,
          43866.706666666665
         ],
         "type": "linear"
        }
       }
      },
      "image/png": "[encoded data removed]",
      "text/html": [
       "<div>                            <div id=\"4f89e076-9d18-4ebf-a978-f659762e90ff\" class=\"plotly-graph-div\" style=\"height:525px; width:100%;\"></div>            <script type=\"text/javascript\">                require([\"plotly\"], function(Plotly) {                    window.PLOTLYENV=window.PLOTLYENV || {};                                    if (document.getElementById(\"4f89e076-9d18-4ebf-a978-f659762e90ff\")) {                    Plotly.newPlot(                        \"4f89e076-9d18-4ebf-a978-f659762e90ff\",                        [{\"mode\":\"lines\",\"name\":\"m1\",\"x\":[0.0,0.010101010101010102,0.020202020202020204,0.030303030303030304,0.04040404040404041,0.05050505050505051,0.06060606060606061,0.07070707070707072,0.08080808080808081,0.09090909090909091,0.10101010101010102,0.11111111111111112,0.12121212121212122,0.13131313131313133,0.14141414141414144,0.15151515151515152,0.16161616161616163,0.17171717171717174,0.18181818181818182,0.19191919191919193,0.20202020202020204,0.21212121212121213,0.22222222222222224,0.23232323232323235,0.24242424242424243,0.25252525252525254,0.26262626262626265,0.27272727272727276,0.2828282828282829,0.29292929292929293,0.30303030303030304,0.31313131313131315,0.32323232323232326,0.33333333333333337,0.3434343434343435,0.3535353535353536,0.36363636363636365,0.37373737373737376,0.38383838383838387,0.393939393939394,0.4040404040404041,0.4141414141414142,0.42424242424242425,0.43434343434343436,0.4444444444444445,0.4545454545454546,0.4646464646464647,0.4747474747474748,0.48484848484848486,0.494949494949495,0.5050505050505051,0.5151515151515152,0.5252525252525253,0.5353535353535354,0.5454545454545455,0.5555555555555556,0.5656565656565657,0.5757575757575758,0.5858585858585859,0.595959595959596,0.6060606060606061,0.6161616161616162,0.6262626262626263,0.6363636363636365,0.6464646464646465,0.6565656565656566,0.6666666666666667,0.6767676767676768,0.686868686868687,0.696969696969697,0.7070707070707072,0.7171717171717172,0.7272727272727273,0.7373737373737375,0.7474747474747475,0.7575757575757577,0.7676767676767677,0.7777777777777778,0.787878787878788,0.797979797979798,0.8080808080808082,0.8181818181818182,0.8282828282828284,0.8383838383838385,0.8484848484848485,0.8585858585858587,0.8686868686868687,0.8787878787878789,0.888888888888889,0.8989898989898991,0.9090909090909092,0.9191919191919192,0.9292929292929294,0.9393939393939394,0.9494949494949496,0.9595959595959597,0.9696969696969697,0.9797979797979799,0.98989898989899,1.0],\"y\":[29460.000000000007,30843.570000000003,33060.630000000005,32165.940000000002,31151.16,28944.15,27242.160000000003,25147.56,22795.710000000003,20363.010000000002,19153.170000000002,17915.91,16450.08,14809.260000000002,13262.43,11873.04,11261.61,10411.59,9781.83,9092.07,8442.57,7495.89,7075.110000000001,6654.33,6376.89,6054.96,5731.620000000001,5289.6900000000005,5019.3,4574.55,4297.110000000001,3783.9000000000005,3678.0,3400.5600000000004,2951.58,2727.09,2569.6500000000005,2576.7000000000003,2476.44,2311.9500000000003,2090.2799999999997,1868.6100000000001,1578.48,1593.99,1602.45,1309.5000000000002,1137.9600000000003,1085.01,977.7,803.34,803.34,748.98,691.8000000000001,574.6200000000001,577.44,520.2600000000001,520.2600000000001,461.67,404.49,345.90000000000003,171.54000000000002,171.54000000000002,54.36000000000001,-2.82,-1.41,-1.41,-1.41,-1.41,0.0,0.0,0.0,0.0,0.0,0.0,0.0,0.0,0.0,0.0,0.0,0.0,0.0,0.0,0.0,0.0,0.0,0.0,0.0,0.0,0.0,0.0,0.0,0.0,0.0,0.0,0.0,0.0,0.0,0.0,0.0,0.0],\"type\":\"scatter\"},{\"mode\":\"lines\",\"name\":\"m2\",\"x\":[0.0,0.010101010101010102,0.020202020202020204,0.030303030303030304,0.04040404040404041,0.05050505050505051,0.06060606060606061,0.07070707070707072,0.08080808080808081,0.09090909090909091,0.10101010101010102,0.11111111111111112,0.12121212121212122,0.13131313131313133,0.14141414141414144,0.15151515151515152,0.16161616161616163,0.17171717171717174,0.18181818181818182,0.19191919191919193,0.20202020202020204,0.21212121212121213,0.22222222222222224,0.23232323232323235,0.24242424242424243,0.25252525252525254,0.26262626262626265,0.27272727272727276,0.2828282828282829,0.29292929292929293,0.30303030303030304,0.31313131313131315,0.32323232323232326,0.33333333333333337,0.3434343434343435,0.3535353535353536,0.36363636363636365,0.37373737373737376,0.38383838383838387,0.393939393939394,0.4040404040404041,0.4141414141414142,0.42424242424242425,0.43434343434343436,0.4444444444444445,0.4545454545454546,0.4646464646464647,0.4747474747474748,0.48484848484848486,0.494949494949495,0.5050505050505051,0.5151515151515152,0.5252525252525253,0.5353535353535354,0.5454545454545455,0.5555555555555556,0.5656565656565657,0.5757575757575758,0.5858585858585859,0.595959595959596,0.6060606060606061,0.6161616161616162,0.6262626262626263,0.6363636363636365,0.6464646464646465,0.6565656565656566,0.6666666666666667,0.6767676767676768,0.686868686868687,0.696969696969697,0.7070707070707072,0.7171717171717172,0.7272727272727273,0.7373737373737375,0.7474747474747475,0.7575757575757577,0.7676767676767677,0.7777777777777778,0.787878787878788,0.797979797979798,0.8080808080808082,0.8181818181818182,0.8282828282828284,0.8383838383838385,0.8484848484848485,0.8585858585858587,0.8686868686868687,0.8787878787878789,0.888888888888889,0.8989898989898991,0.9090909090909092,0.9191919191919192,0.9292929292929294,0.9393939393939394,0.9494949494949496,0.9595959595959597,0.9696969696969697,0.9797979797979799,0.98989898989899,1.0],\"y\":[29460.000000000007,32732.370000000003,34469.880000000005,33893.34,32465.43,30770.040000000005,29506.199999999997,27829.860000000004,25991.52,24172.440000000002,22803.120000000003,21432.54,20181.33,19408.08,18179.58,17229.930000000004,16326.18,15701.280000000002,15084.210000000001,14304.060000000001,13491.480000000001,12391.590000000002,11344.650000000001,10699.380000000001,10061.16,9634.740000000002,8862.420000000002,8215.740000000002,7540.860000000001,7174.4400000000005,6506.610000000001,6000.45,5681.34,5175.18,4617.48,4274.4,3989.9100000000003,3771.06,3543.7500000000005,3144.9,2973.36,2746.05,2464.3800000000006,2235.6600000000003,1892.58,1612.32,1497.96,1440.78,1383.6000000000001,1326.42,1092.06,861.9300000000001,863.34,866.16,866.16,810.39,637.44,580.2600000000001,524.49,524.49,348.72,291.54,232.95000000000002,232.95000000000002,232.95000000000002,234.36,117.18,117.18,117.18,117.18,0.0,0.0,0.0,0.0,0.0,0.0,0.0,0.0,0.0,0.0,0.0,0.0,0.0,0.0,0.0,0.0,0.0,0.0,0.0,0.0,0.0,0.0,0.0,0.0,0.0,0.0,0.0,0.0,0.0,0.0],\"type\":\"scatter\"},{\"mode\":\"lines\",\"name\":\"m3\",\"x\":[0.0,0.010101010101010102,0.020202020202020204,0.030303030303030304,0.04040404040404041,0.05050505050505051,0.06060606060606061,0.07070707070707072,0.08080808080808081,0.09090909090909091,0.10101010101010102,0.11111111111111112,0.12121212121212122,0.13131313131313133,0.14141414141414144,0.15151515151515152,0.16161616161616163,0.17171717171717174,0.18181818181818182,0.19191919191919193,0.20202020202020204,0.21212121212121213,0.22222222222222224,0.23232323232323235,0.24242424242424243,0.25252525252525254,0.26262626262626265,0.27272727272727276,0.2828282828282829,0.29292929292929293,0.30303030303030304,0.31313131313131315,0.32323232323232326,0.33333333333333337,0.3434343434343435,0.3535353535353536,0.36363636363636365,0.37373737373737376,0.38383838383838387,0.393939393939394,0.4040404040404041,0.4141414141414142,0.42424242424242425,0.43434343434343436,0.4444444444444445,0.4545454545454546,0.4646464646464647,0.4747474747474748,0.48484848484848486,0.494949494949495,0.5050505050505051,0.5151515151515152,0.5252525252525253,0.5353535353535354,0.5454545454545455,0.5555555555555556,0.5656565656565657,0.5757575757575758,0.5858585858585859,0.595959595959596,0.6060606060606061,0.6161616161616162,0.6262626262626263,0.6363636363636365,0.6464646464646465,0.6565656565656566,0.6666666666666667,0.6767676767676768,0.686868686868687,0.696969696969697,0.7070707070707072,0.7171717171717172,0.7272727272727273,0.7373737373737375,0.7474747474747475,0.7575757575757577,0.7676767676767677,0.7777777777777778,0.787878787878788,0.797979797979798,0.8080808080808082,0.8181818181818182,0.8282828282828284,0.8383838383838385,0.8484848484848485,0.8585858585858587,0.8686868686868687,0.8787878787878789,0.888888888888889,0.8989898989898991,0.9090909090909092,0.9191919191919192,0.9292929292929294,0.9393939393939394,0.9494949494949496,0.9595959595959597,0.9696969696969697,0.9797979797979799,0.98989898989899,1.0],\"y\":[29460.000000000007,30353.97,32883.84,33013.380000000005,31544.940000000002,29587.500000000007,27359.309999999998,25397.25,22875.75,20068.020000000004,18152.91,16680.510000000002,15424.29,14290.260000000002,12069.960000000001,10789.29,9462.720000000001,8556.93,7882.68,7113.18,6409.320000000001,5625.72,4789.170000000001,4408.650000000001,3841.08,3510.69,3064.53,2732.7300000000005,2632.4700000000003,2472.21,2317.59,2098.74,1752.8400000000001,1589.76,1539.63,1253.73,1137.9600000000003,1029.24,917.7,744.7500000000001,746.1600000000001,688.98,574.6200000000001,574.6200000000001,578.8500000000001,520.2600000000001,461.67,403.08,287.31000000000006,170.13000000000002,171.54000000000002,112.95,-4.2299999999999995,-1.41,-1.41,-1.41,-1.41,-1.41,0.0,0.0,0.0,0.0,0.0,0.0,0.0,0.0,0.0,0.0,0.0,0.0,0.0,0.0,0.0,0.0,0.0,0.0,0.0,0.0,0.0,0.0,0.0,0.0,0.0,0.0,0.0,0.0,0.0,0.0,0.0,0.0,0.0,0.0,0.0,0.0,0.0,0.0,0.0,0.0,0.0,0.0],\"type\":\"scatter\"},{\"mode\":\"lines\",\"name\":\"m4\",\"x\":[0.0,0.010101010101010102,0.020202020202020204,0.030303030303030304,0.04040404040404041,0.05050505050505051,0.06060606060606061,0.07070707070707072,0.08080808080808081,0.09090909090909091,0.10101010101010102,0.11111111111111112,0.12121212121212122,0.13131313131313133,0.14141414141414144,0.15151515151515152,0.16161616161616163,0.17171717171717174,0.18181818181818182,0.19191919191919193,0.20202020202020204,0.21212121212121213,0.22222222222222224,0.23232323232323235,0.24242424242424243,0.25252525252525254,0.26262626262626265,0.27272727272727276,0.2828282828282829,0.29292929292929293,0.30303030303030304,0.31313131313131315,0.32323232323232326,0.33333333333333337,0.3434343434343435,0.3535353535353536,0.36363636363636365,0.37373737373737376,0.38383838383838387,0.393939393939394,0.4040404040404041,0.4141414141414142,0.42424242424242425,0.43434343434343436,0.4444444444444445,0.4545454545454546,0.4646464646464647,0.4747474747474748,0.48484848484848486,0.494949494949495,0.5050505050505051,0.5151515151515152,0.5252525252525253,0.5353535353535354,0.5454545454545455,0.5555555555555556,0.5656565656565657,0.5757575757575758,0.5858585858585859,0.595959595959596,0.6060606060606061,0.6161616161616162,0.6262626262626263,0.6363636363636365,0.6464646464646465,0.6565656565656566,0.6666666666666667,0.6767676767676768,0.686868686868687,0.696969696969697,0.7070707070707072,0.7171717171717172,0.7272727272727273,0.7373737373737375,0.7474747474747475,0.7575757575757577,0.7676767676767677,0.7777777777777778,0.787878787878788,0.797979797979798,0.8080808080808082,0.8181818181818182,0.8282828282828284,0.8383838383838385,0.8484848484848485,0.8585858585858587,0.8686868686868687,0.8787878787878789,0.888888888888889,0.8989898989898991,0.9090909090909092,0.9191919191919192,0.9292929292929294,0.9393939393939394,0.9494949494949496,0.9595959595959597,0.9696969696969697,0.9797979797979799,0.98989898989899,1.0],\"y\":[29460.000000000007,29460.000000000007,29588.310000000005,35350.170000000006,40459.26000000001,41557.71,38068.590000000004,35745.27,34185.00000000001,32188.74,30477.27,28263.390000000003,26551.440000000002,25124.760000000002,23525.13,22264.350000000002,20762.16,19014.33,17792.4,16283.16,14884.050000000001,13955.07,13028.910000000002,12044.160000000002,11169.54,10354.92,9536.07,8837.22,8428.500000000002,7904.01,7493.88,7086.570000000001,6736.4400000000005,6034.77,5741.820000000001,5507.46,5273.1,5155.92,4921.56,4804.38,4570.02,4277.070000000001,4218.4800000000005,4042.71,3691.17,3281.04,2929.5,2577.96,2460.78,1992.0600000000002,1699.1100000000001,1581.93,1288.98,1113.21,820.26,585.9000000000001,468.72,351.54,292.95000000000005,175.77,175.77,175.77,117.18,117.18,117.18,58.59,0.0,0.0,0.0,0.0,0.0,0.0,0.0,0.0,0.0,0.0,0.0,0.0,0.0,0.0,0.0,0.0,0.0,0.0,0.0,0.0,0.0,0.0,0.0,0.0,0.0,0.0,0.0,0.0,0.0,0.0,0.0,0.0,0.0,0.0],\"type\":\"scatter\"}],                        {\"template\":{\"data\":{\"histogram2dcontour\":[{\"type\":\"histogram2dcontour\",\"colorbar\":{\"outlinewidth\":0,\"ticks\":\"\"},\"colorscale\":[[0.0,\"#0d0887\"],[0.1111111111111111,\"#46039f\"],[0.2222222222222222,\"#7201a8\"],[0.3333333333333333,\"#9c179e\"],[0.4444444444444444,\"#bd3786\"],[0.5555555555555556,\"#d8576b\"],[0.6666666666666666,\"#ed7953\"],[0.7777777777777778,\"#fb9f3a\"],[0.8888888888888888,\"#fdca26\"],[1.0,\"#f0f921\"]]}],\"choropleth\":[{\"type\":\"choropleth\",\"colorbar\":{\"outlinewidth\":0,\"ticks\":\"\"}}],\"histogram2d\":[{\"type\":\"histogram2d\",\"colorbar\":{\"outlinewidth\":0,\"ticks\":\"\"},\"colorscale\":[[0.0,\"#0d0887\"],[0.1111111111111111,\"#46039f\"],[0.2222222222222222,\"#7201a8\"],[0.3333333333333333,\"#9c179e\"],[0.4444444444444444,\"#bd3786\"],[0.5555555555555556,\"#d8576b\"],[0.6666666666666666,\"#ed7953\"],[0.7777777777777778,\"#fb9f3a\"],[0.8888888888888888,\"#fdca26\"],[1.0,\"#f0f921\"]]}],\"heatmap\":[{\"type\":\"heatmap\",\"colorbar\":{\"outlinewidth\":0,\"ticks\":\"\"},\"colorscale\":[[0.0,\"#0d0887\"],[0.1111111111111111,\"#46039f\"],[0.2222222222222222,\"#7201a8\"],[0.3333333333333333,\"#9c179e\"],[0.4444444444444444,\"#bd3786\"],[0.5555555555555556,\"#d8576b\"],[0.6666666666666666,\"#ed7953\"],[0.7777777777777778,\"#fb9f3a\"],[0.8888888888888888,\"#fdca26\"],[1.0,\"#f0f921\"]]}],\"heatmapgl\":[{\"type\":\"heatmapgl\",\"colorbar\":{\"outlinewidth\":0,\"ticks\":\"\"},\"colorscale\":[[0.0,\"#0d0887\"],[0.1111111111111111,\"#46039f\"],[0.2222222222222222,\"#7201a8\"],[0.3333333333333333,\"#9c179e\"],[0.4444444444444444,\"#bd3786\"],[0.5555555555555556,\"#d8576b\"],[0.6666666666666666,\"#ed7953\"],[0.7777777777777778,\"#fb9f3a\"],[0.8888888888888888,\"#fdca26\"],[1.0,\"#f0f921\"]]}],\"contourcarpet\":[{\"type\":\"contourcarpet\",\"colorbar\":{\"outlinewidth\":0,\"ticks\":\"\"}}],\"contour\":[{\"type\":\"contour\",\"colorbar\":{\"outlinewidth\":0,\"ticks\":\"\"},\"colorscale\":[[0.0,\"#0d0887\"],[0.1111111111111111,\"#46039f\"],[0.2222222222222222,\"#7201a8\"],[0.3333333333333333,\"#9c179e\"],[0.4444444444444444,\"#bd3786\"],[0.5555555555555556,\"#d8576b\"],[0.6666666666666666,\"#ed7953\"],[0.7777777777777778,\"#fb9f3a\"],[0.8888888888888888,\"#fdca26\"],[1.0,\"#f0f921\"]]}],\"surface\":[{\"type\":\"surface\",\"colorbar\":{\"outlinewidth\":0,\"ticks\":\"\"},\"colorscale\":[[0.0,\"#0d0887\"],[0.1111111111111111,\"#46039f\"],[0.2222222222222222,\"#7201a8\"],[0.3333333333333333,\"#9c179e\"],[0.4444444444444444,\"#bd3786\"],[0.5555555555555556,\"#d8576b\"],[0.6666666666666666,\"#ed7953\"],[0.7777777777777778,\"#fb9f3a\"],[0.8888888888888888,\"#fdca26\"],[1.0,\"#f0f921\"]]}],\"mesh3d\":[{\"type\":\"mesh3d\",\"colorbar\":{\"outlinewidth\":0,\"ticks\":\"\"}}],\"scatter\":[{\"fillpattern\":{\"fillmode\":\"overlay\",\"size\":10,\"solidity\":0.2},\"type\":\"scatter\"}],\"parcoords\":[{\"type\":\"parcoords\",\"line\":{\"colorbar\":{\"outlinewidth\":0,\"ticks\":\"\"}}}],\"scatterpolargl\":[{\"type\":\"scatterpolargl\",\"marker\":{\"colorbar\":{\"outlinewidth\":0,\"ticks\":\"\"}}}],\"bar\":[{\"error_x\":{\"color\":\"#2a3f5f\"},\"error_y\":{\"color\":\"#2a3f5f\"},\"marker\":{\"line\":{\"color\":\"#E5ECF6\",\"width\":0.5},\"pattern\":{\"fillmode\":\"overlay\",\"size\":10,\"solidity\":0.2}},\"type\":\"bar\"}],\"scattergeo\":[{\"type\":\"scattergeo\",\"marker\":{\"colorbar\":{\"outlinewidth\":0,\"ticks\":\"\"}}}],\"scatterpolar\":[{\"type\":\"scatterpolar\",\"marker\":{\"colorbar\":{\"outlinewidth\":0,\"ticks\":\"\"}}}],\"histogram\":[{\"marker\":{\"pattern\":{\"fillmode\":\"overlay\",\"size\":10,\"solidity\":0.2}},\"type\":\"histogram\"}],\"scattergl\":[{\"type\":\"scattergl\",\"marker\":{\"colorbar\":{\"outlinewidth\":0,\"ticks\":\"\"}}}],\"scatter3d\":[{\"type\":\"scatter3d\",\"line\":{\"colorbar\":{\"outlinewidth\":0,\"ticks\":\"\"}},\"marker\":{\"colorbar\":{\"outlinewidth\":0,\"ticks\":\"\"}}}],\"scattermapbox\":[{\"type\":\"scattermapbox\",\"marker\":{\"colorbar\":{\"outlinewidth\":0,\"ticks\":\"\"}}}],\"scatterternary\":[{\"type\":\"scatterternary\",\"marker\":{\"colorbar\":{\"outlinewidth\":0,\"ticks\":\"\"}}}],\"scattercarpet\":[{\"type\":\"scattercarpet\",\"marker\":{\"colorbar\":{\"outlinewidth\":0,\"ticks\":\"\"}}}],\"carpet\":[{\"aaxis\":{\"endlinecolor\":\"#2a3f5f\",\"gridcolor\":\"white\",\"linecolor\":\"white\",\"minorgridcolor\":\"white\",\"startlinecolor\":\"#2a3f5f\"},\"baxis\":{\"endlinecolor\":\"#2a3f5f\",\"gridcolor\":\"white\",\"linecolor\":\"white\",\"minorgridcolor\":\"white\",\"startlinecolor\":\"#2a3f5f\"},\"type\":\"carpet\"}],\"table\":[{\"cells\":{\"fill\":{\"color\":\"#EBF0F8\"},\"line\":{\"color\":\"white\"}},\"header\":{\"fill\":{\"color\":\"#C8D4E3\"},\"line\":{\"color\":\"white\"}},\"type\":\"table\"}],\"barpolar\":[{\"marker\":{\"line\":{\"color\":\"#E5ECF6\",\"width\":0.5},\"pattern\":{\"fillmode\":\"overlay\",\"size\":10,\"solidity\":0.2}},\"type\":\"barpolar\"}],\"pie\":[{\"automargin\":true,\"type\":\"pie\"}]},\"layout\":{\"autotypenumbers\":\"strict\",\"colorway\":[\"#636efa\",\"#EF553B\",\"#00cc96\",\"#ab63fa\",\"#FFA15A\",\"#19d3f3\",\"#FF6692\",\"#B6E880\",\"#FF97FF\",\"#FECB52\"],\"font\":{\"color\":\"#2a3f5f\"},\"hovermode\":\"closest\",\"hoverlabel\":{\"align\":\"left\"},\"paper_bgcolor\":\"white\",\"plot_bgcolor\":\"#E5ECF6\",\"polar\":{\"bgcolor\":\"#E5ECF6\",\"angularaxis\":{\"gridcolor\":\"white\",\"linecolor\":\"white\",\"ticks\":\"\"},\"radialaxis\":{\"gridcolor\":\"white\",\"linecolor\":\"white\",\"ticks\":\"\"}},\"ternary\":{\"bgcolor\":\"#E5ECF6\",\"aaxis\":{\"gridcolor\":\"white\",\"linecolor\":\"white\",\"ticks\":\"\"},\"baxis\":{\"gridcolor\":\"white\",\"linecolor\":\"white\",\"ticks\":\"\"},\"caxis\":{\"gridcolor\":\"white\",\"linecolor\":\"white\",\"ticks\":\"\"}},\"coloraxis\":{\"colorbar\":{\"outlinewidth\":0,\"ticks\":\"\"}},\"colorscale\":{\"sequential\":[[0.0,\"#0d0887\"],[0.1111111111111111,\"#46039f\"],[0.2222222222222222,\"#7201a8\"],[0.3333333333333333,\"#9c179e\"],[0.4444444444444444,\"#bd3786\"],[0.5555555555555556,\"#d8576b\"],[0.6666666666666666,\"#ed7953\"],[0.7777777777777778,\"#fb9f3a\"],[0.8888888888888888,\"#fdca26\"],[1.0,\"#f0f921\"]],\"sequentialminus\":[[0.0,\"#0d0887\"],[0.1111111111111111,\"#46039f\"],[0.2222222222222222,\"#7201a8\"],[0.3333333333333333,\"#9c179e\"],[0.4444444444444444,\"#bd3786\"],[0.5555555555555556,\"#d8576b\"],[0.6666666666666666,\"#ed7953\"],[0.7777777777777778,\"#fb9f3a\"],[0.8888888888888888,\"#fdca26\"],[1.0,\"#f0f921\"]],\"diverging\":[[0,\"#8e0152\"],[0.1,\"#c51b7d\"],[0.2,\"#de77ae\"],[0.3,\"#f1b6da\"],[0.4,\"#fde0ef\"],[0.5,\"#f7f7f7\"],[0.6,\"#e6f5d0\"],[0.7,\"#b8e186\"],[0.8,\"#7fbc41\"],[0.9,\"#4d9221\"],[1,\"#276419\"]]},\"xaxis\":{\"gridcolor\":\"white\",\"linecolor\":\"white\",\"ticks\":\"\",\"title\":{\"standoff\":15},\"zerolinecolor\":\"white\",\"automargin\":true,\"zerolinewidth\":2},\"yaxis\":{\"gridcolor\":\"white\",\"linecolor\":\"white\",\"ticks\":\"\",\"title\":{\"standoff\":15},\"zerolinecolor\":\"white\",\"automargin\":true,\"zerolinewidth\":2},\"scene\":{\"xaxis\":{\"backgroundcolor\":\"#E5ECF6\",\"gridcolor\":\"white\",\"linecolor\":\"white\",\"showbackground\":true,\"ticks\":\"\",\"zerolinecolor\":\"white\",\"gridwidth\":2},\"yaxis\":{\"backgroundcolor\":\"#E5ECF6\",\"gridcolor\":\"white\",\"linecolor\":\"white\",\"showbackground\":true,\"ticks\":\"\",\"zerolinecolor\":\"white\",\"gridwidth\":2},\"zaxis\":{\"backgroundcolor\":\"#E5ECF6\",\"gridcolor\":\"white\",\"linecolor\":\"white\",\"showbackground\":true,\"ticks\":\"\",\"zerolinecolor\":\"white\",\"gridwidth\":2}},\"shapedefaults\":{\"line\":{\"color\":\"#2a3f5f\"}},\"annotationdefaults\":{\"arrowcolor\":\"#2a3f5f\",\"arrowhead\":0,\"arrowwidth\":1},\"geo\":{\"bgcolor\":\"white\",\"landcolor\":\"#E5ECF6\",\"subunitcolor\":\"white\",\"showland\":true,\"showlakes\":true,\"lakecolor\":\"white\"},\"title\":{\"x\":0.05},\"mapbox\":{\"style\":\"light\"}}}},                        {\"responsive\": true}                    ).then(function(){\n",
       "                            \n",
       "var gd = document.getElementById('4f89e076-9d18-4ebf-a978-f659762e90ff');\n",
       "var x = new MutationObserver(function (mutations, observer) {{\n",
       "        var display = window.getComputedStyle(gd).display;\n",
       "        if (!display || display === 'none') {{\n",
       "            console.log([gd, 'removed!']);\n",
       "            Plotly.purge(gd);\n",
       "            observer.disconnect();\n",
       "        }}\n",
       "}});\n",
       "\n",
       "// Listen for the removal of the full notebook cells\n",
       "var notebookContainer = gd.closest('#notebook-container');\n",
       "if (notebookContainer) {{\n",
       "    x.observe(notebookContainer, {childList: true});\n",
       "}}\n",
       "\n",
       "// Listen for the clearing of the current output cell\n",
       "var outputEl = gd.closest('.output');\n",
       "if (outputEl) {{\n",
       "    x.observe(outputEl, {childList: true});\n",
       "}}\n",
       "\n",
       "                        })                };                });            </script>        </div>"
      ]
     },
     "metadata": {},
     "output_type": "display_data"
    }
   ],
   "source": [
    "fig = go.Figure()\n",
    "\n",
    "for model_key in models:\n",
    "\n",
    "    fig.add_trace(\n",
    "        go.Scatter(\n",
    "            x=dfprofit['threshold'], \n",
    "            y=dfprofit[model_key + '_profit'],\n",
    "            mode='lines',\n",
    "            name=model_key\n",
    "        )\n",
    "    )\n",
    "    \n",
    "fig.show()"
   ]
  },
  {
   "cell_type": "markdown",
   "id": "b7663925-6791-4c27-b17e-dfba909ac899",
   "metadata": {},
   "source": [
    "##### Obtaining best of each model"
   ]
  },
  {
   "cell_type": "code",
   "execution_count": 371,
   "id": "9de21c88-e5e2-48e2-a500-bbacc8843cc7",
   "metadata": {
    "execution": {
     "iopub.execute_input": "2023-03-19T00:18:42.508060Z",
     "iopub.status.busy": "2023-03-19T00:18:42.507645Z",
     "iopub.status.idle": "2023-03-19T00:18:42.606036Z",
     "shell.execute_reply": "2023-03-19T00:18:42.605146Z",
     "shell.execute_reply.started": "2023-03-19T00:18:42.508029Z"
    },
    "jupyter": {
     "source_hidden": true
    },
    "scrolled": true,
    "tags": []
   },
   "outputs": [],
   "source": [
    "## Creating base dataframe (with benchmark) to store results\n",
    "dfprofit_max = pd.DataFrame(\n",
    "    columns=['tn', 'fp', 'fn', 'tp', 'prc', 'rcl', 'profit'],\n",
    "    data=dfprofit.loc[\n",
    "        dfprofit['threshold'] == 0,\n",
    "        [col for col in dfprofit.columns if 'm1' in col]\n",
    "    ].values,\n",
    "    index=['benchmark'],\n",
    ")\n",
    "\n",
    "\n",
    "## Adding worst possible model\n",
    "dfprofit_max.loc['m_worst', :] = [\n",
    "    0, ## tn\n",
    "    ((df['res1'] == 0)*1).sum(), ## fp\n",
    "    ((df['res1'] == 1)*1).sum(), ## fn\n",
    "    0, ## tp\n",
    "    0/(0 + ((df['res1'] == 0)*1).sum()), ## prc -> tp/(tp + fp)\n",
    "    0/(0 + ((df['res1'] == 1)*1).sum()), ## rcl -> tp/(tp + fn)\n",
    "    0*(60 - 1.41) - ((df['res1'] == 0)*1).sum()*(1.41), ## profit\n",
    "]\n",
    "\n",
    "## Adding best possible model\n",
    "dfprofit_max.loc['m_best', :] = [\n",
    "    ((df['res1'] == 0)*1).sum(), ## tn \n",
    "    0, ## fp\n",
    "    0, ## fn\n",
    "    ((df['res1'] == 1)*1).sum(), ## tp\n",
    "    ((df['res1'] == 1)*1).sum()/(((df['res1'] == 1)*1).sum() + 0), ## prc -> tp/(tp + fp)\n",
    "    ((df['res1'] == 1)*1).sum()/(((df['res1'] == 1)*1).sum() + 0), ## rcl -> tp/(tp + fn)\n",
    "    ((df['res1'] == 1)*1).sum()*(60 - 1.41) - 0*1.41, ## profit\n",
    "]\n",
    "\n",
    "\n",
    "## Finding best results for each model\n",
    "for model_key in models:\n",
    "    \n",
    "    mr = dfprofit[model_key + '_profit'] == dfprofit[model_key + '_profit'].max()\n",
    "    rc = [col for col in dfprofit.columns if model_key in col]\n",
    "\n",
    "    dfprofit_max.loc[model_key, :] = dfprofit.loc[mr, rc].values"
   ]
  },
  {
   "cell_type": "code",
   "execution_count": 378,
   "id": "415017e2-82e9-433d-a4c4-ba0f5165269d",
   "metadata": {
    "execution": {
     "iopub.execute_input": "2023-03-19T00:25:21.651333Z",
     "iopub.status.busy": "2023-03-19T00:25:21.650561Z",
     "iopub.status.idle": "2023-03-19T00:25:21.734646Z",
     "shell.execute_reply": "2023-03-19T00:25:21.733730Z",
     "shell.execute_reply.started": "2023-03-19T00:25:21.651299Z"
    },
    "tags": []
   },
   "outputs": [
    {
     "data": {
      "text/html": [
       "<div>\n",
       "<style scoped>\n",
       "    .dataframe tbody tr th:only-of-type {\n",
       "        vertical-align: middle;\n",
       "    }\n",
       "\n",
       "    .dataframe tbody tr th {\n",
       "        vertical-align: top;\n",
       "    }\n",
       "\n",
       "    .dataframe thead th {\n",
       "        text-align: right;\n",
       "    }\n",
       "</style>\n",
       "<table border=\"1\" class=\"dataframe\">\n",
       "  <thead>\n",
       "    <tr style=\"text-align: right;\">\n",
       "      <th></th>\n",
       "      <th>tn</th>\n",
       "      <th>fp</th>\n",
       "      <th>fn</th>\n",
       "      <th>tp</th>\n",
       "      <th>prc</th>\n",
       "      <th>rcl</th>\n",
       "      <th>profit</th>\n",
       "    </tr>\n",
       "  </thead>\n",
       "  <tbody>\n",
       "    <tr>\n",
       "      <th>benchmark</th>\n",
       "      <td>0.0</td>\n",
       "      <td>19039.0</td>\n",
       "      <td>0.0</td>\n",
       "      <td>961.0</td>\n",
       "      <td>0.048050</td>\n",
       "      <td>1.000000</td>\n",
       "      <td>29460.00</td>\n",
       "    </tr>\n",
       "    <tr>\n",
       "      <th>m_worst</th>\n",
       "      <td>0.0</td>\n",
       "      <td>19039.0</td>\n",
       "      <td>961.0</td>\n",
       "      <td>0.0</td>\n",
       "      <td>0.000000</td>\n",
       "      <td>0.000000</td>\n",
       "      <td>-26844.99</td>\n",
       "    </tr>\n",
       "    <tr>\n",
       "      <th>m_best</th>\n",
       "      <td>19039.0</td>\n",
       "      <td>0.0</td>\n",
       "      <td>0.0</td>\n",
       "      <td>961.0</td>\n",
       "      <td>1.000000</td>\n",
       "      <td>1.000000</td>\n",
       "      <td>56304.99</td>\n",
       "    </tr>\n",
       "    <tr>\n",
       "      <th>m1</th>\n",
       "      <td>5961.0</td>\n",
       "      <td>13078.0</td>\n",
       "      <td>82.0</td>\n",
       "      <td>879.0</td>\n",
       "      <td>0.062979</td>\n",
       "      <td>0.914672</td>\n",
       "      <td>33060.63</td>\n",
       "    </tr>\n",
       "    <tr>\n",
       "      <th>m2</th>\n",
       "      <td>7376.0</td>\n",
       "      <td>11663.0</td>\n",
       "      <td>92.0</td>\n",
       "      <td>869.0</td>\n",
       "      <td>0.069342</td>\n",
       "      <td>0.904266</td>\n",
       "      <td>34469.88</td>\n",
       "    </tr>\n",
       "    <tr>\n",
       "      <th>m3</th>\n",
       "      <td>8670.0</td>\n",
       "      <td>10369.0</td>\n",
       "      <td>148.0</td>\n",
       "      <td>813.0</td>\n",
       "      <td>0.072706</td>\n",
       "      <td>0.845994</td>\n",
       "      <td>33013.38</td>\n",
       "    </tr>\n",
       "    <tr>\n",
       "      <th>m4</th>\n",
       "      <td>15270.0</td>\n",
       "      <td>3769.0</td>\n",
       "      <td>161.0</td>\n",
       "      <td>800.0</td>\n",
       "      <td>0.175093</td>\n",
       "      <td>0.832466</td>\n",
       "      <td>41557.71</td>\n",
       "    </tr>\n",
       "  </tbody>\n",
       "</table>\n",
       "</div>"
      ],
      "text/plain": [
       "                tn       fp     fn     tp       prc       rcl    profit\n",
       "benchmark      0.0  19039.0    0.0  961.0  0.048050  1.000000  29460.00\n",
       "m_worst        0.0  19039.0  961.0    0.0  0.000000  0.000000 -26844.99\n",
       "m_best     19039.0      0.0    0.0  961.0  1.000000  1.000000  56304.99\n",
       "m1          5961.0  13078.0   82.0  879.0  0.062979  0.914672  33060.63\n",
       "m2          7376.0  11663.0   92.0  869.0  0.069342  0.904266  34469.88\n",
       "m3          8670.0  10369.0  148.0  813.0  0.072706  0.845994  33013.38\n",
       "m4         15270.0   3769.0  161.0  800.0  0.175093  0.832466  41557.71"
      ]
     },
     "execution_count": 378,
     "metadata": {},
     "output_type": "execute_result"
    }
   ],
   "source": [
    "dfprofit_max"
   ]
  },
  {
   "cell_type": "code",
   "execution_count": null,
   "id": "fe0eba27-eca1-4714-82d2-297627c73a8f",
   "metadata": {},
   "outputs": [],
   "source": []
  },
  {
   "cell_type": "markdown",
   "id": "1e4119f6-8c11-4b30-bf5c-3fd267856723",
   "metadata": {},
   "source": [
    "### Precision recall metrics"
   ]
  },
  {
   "cell_type": "code",
   "execution_count": 335,
   "id": "5b008fe2-444c-48ac-902b-8fda7fd3276f",
   "metadata": {
    "execution": {
     "iopub.execute_input": "2023-03-18T23:05:08.710388Z",
     "iopub.status.busy": "2023-03-18T23:05:08.709950Z",
     "iopub.status.idle": "2023-03-18T23:05:08.803200Z",
     "shell.execute_reply": "2023-03-18T23:05:08.802320Z",
     "shell.execute_reply.started": "2023-03-18T23:05:08.710354Z"
    },
    "jupyter": {
     "source_hidden": true
    },
    "tags": []
   },
   "outputs": [
    {
     "data": {
      "application/vnd.plotly.v1+json": {
       "config": {
        "plotlyServerURL": "https://plot.ly"
       },
       "data": [
        {
         "mode": "lines",
         "name": "m1",
         "type": "scatter",
         "x": [
          1,
          0.9854318418314256,
          0.9146722164412071,
          0.8064516129032258,
          0.7242455775234131,
          0.6409989594172737,
          0.5806451612903226,
          0.5213319458896982,
          0.4630593132154006,
          0.40790842872008326,
          0.3777315296566077,
          0.3485952133194589,
          0.3173777315296566,
          0.28407908428720086,
          0.25390218522372526,
          0.22684703433922998,
          0.21436004162330904,
          0.19771071800208118,
          0.18522372528616024,
          0.1716961498439126,
          0.15920915712799166,
          0.14151925078043703,
          0.1331945889698231,
          0.12486992715920915,
          0.11966701352757544,
          0.11342351716961499,
          0.10718002081165452,
          0.09885535900104059,
          0.09365244536940687,
          0.08532778355879292,
          0.08012486992715921,
          0.07075962539021852,
          0.06867845993756504,
          0.06347554630593132,
          0.055150884495317375,
          0.05098855359001041,
          0.047866805411030174,
          0.047866805411030174,
          0.045785639958376693,
          0.04266389177939646,
          0.03850156087408949,
          0.03433922996878252,
          0.029136316337148804,
          0.029136316337148804,
          0.029136316337148804,
          0.023933402705515087,
          0.02081165452653486,
          0.019771071800208116,
          0.01768990634755463,
          0.014568158168574402,
          0.014568158168574402,
          0.013527575442247659,
          0.012486992715920915,
          0.01040582726326743,
          0.01040582726326743,
          0.009365244536940686,
          0.009365244536940686,
          0.008324661810613945,
          0.007284079084287201,
          0.006243496357960458,
          0.003121748178980229,
          0.003121748178980229,
          0.001040582726326743,
          0,
          0,
          0,
          0,
          0,
          0,
          0,
          0,
          0,
          0,
          0,
          0,
          0,
          0,
          0,
          0,
          0,
          0,
          0,
          0,
          0,
          0,
          0,
          0,
          0,
          0,
          0,
          0,
          0,
          0,
          0,
          0,
          0,
          0,
          0,
          0,
          0
         ],
         "y": [
          0.04805,
          0.05140313738261955,
          0.0629791502471878,
          0.07623450718079874,
          0.09250398724082935,
          0.10835532102022867,
          0.12613019891500904,
          0.14380022962112515,
          0.1607078367641748,
          0.17507815989280928,
          0.19484702093397746,
          0.21626856036152356,
          0.23246951219512196,
          0.24506283662477557,
          0.24974411463664278,
          0.2546728971962617,
          0.2644415917843389,
          0.2710413694721826,
          0.2794348508634223,
          0.2879581151832461,
          0.2925430210325048,
          0.28874734607218683,
          0.29836829836829837,
          0.31007751937984496,
          0.30997304582210244,
          0.3168604651162791,
          0.3238993710691824,
          0.32646048109965636,
          0.3333333333333333,
          0.3346938775510204,
          0.33624454148471616,
          0.3238095238095238,
          0.33,
          0.33152173913043476,
          0.3271604938271605,
          0.32450331125827814,
          0.34074074074074073,
          0.35384615384615387,
          0.3793103448275862,
          0.3904761904761905,
          0.40217391304347827,
          0.4177215189873418,
          0.3888888888888889,
          0.45901639344262296,
          0.509090909090909,
          0.46,
          0.45454545454545453,
          0.48717948717948717,
          0.5666666666666667,
          0.5384615384615384,
          0.5384615384615384,
          0.5909090909090909,
          0.6,
          0.5555555555555556,
          0.625,
          0.6428571428571429,
          0.6428571428571429,
          0.6153846153846154,
          0.6363636363636364,
          0.6,
          0.5,
          0.5,
          0.25,
          0,
          0,
          0,
          0,
          0,
          null,
          null,
          null,
          null,
          null,
          null,
          null,
          null,
          null,
          null,
          null,
          null,
          null,
          null,
          null,
          null,
          null,
          null,
          null,
          null,
          null,
          null,
          null,
          null,
          null,
          null,
          null,
          null,
          null,
          null,
          null,
          null
         ]
        },
        {
         "mode": "lines",
         "name": "m2",
         "type": "scatter",
         "x": [
          1,
          0.9771071800208116,
          0.9042663891779397,
          0.8085327783558793,
          0.7263267429760666,
          0.659729448491155,
          0.6139438085327783,
          0.5671175858480749,
          0.522372528616025,
          0.48074921956295524,
          0.44849115504682624,
          0.4183142559833507,
          0.39125910509885536,
          0.37356919875130074,
          0.3485952133194589,
          0.32882414151925077,
          0.3100936524453694,
          0.29656607700312176,
          0.28407908428720086,
          0.2684703433922997,
          0.25286160249739853,
          0.23204994797086367,
          0.21227887617065558,
          0.19979188345473464,
          0.18730489073881373,
          0.17898022892819979,
          0.16441207075962538,
          0.15192507804370448,
          0.13943808532778357,
          0.13215400624349635,
          0.11966701352757544,
          0.11030176899063475,
          0.1040582726326743,
          0.09469302809573361,
          0.08428720083246619,
          0.07804370447450572,
          0.07284079084287201,
          0.06867845993756504,
          0.06451612903225806,
          0.05723204994797086,
          0.054110301768990635,
          0.04994797086368366,
          0.044745057232049947,
          0.04058272632674298,
          0.03433922996878252,
          0.029136316337148804,
          0.027055150884495317,
          0.026014568158168574,
          0.02497398543184183,
          0.023933402705515087,
          0.019771071800208116,
          0.015608740894901144,
          0.015608740894901144,
          0.015608740894901144,
          0.015608740894901144,
          0.014568158168574402,
          0.011446409989594173,
          0.01040582726326743,
          0.009365244536940686,
          0.009365244536940686,
          0.006243496357960458,
          0.005202913631633715,
          0.004162330905306972,
          0.004162330905306972,
          0.004162330905306972,
          0.004162330905306972,
          0.002081165452653486,
          0.002081165452653486,
          0.002081165452653486,
          0.002081165452653486,
          0,
          0,
          0,
          0,
          0,
          0,
          0,
          0,
          0,
          0,
          0,
          0,
          0,
          0,
          0,
          0,
          0,
          0,
          0,
          0,
          0,
          0,
          0,
          0,
          0,
          0,
          0,
          0,
          0,
          0
         ],
         "y": [
          0.04805,
          0.056083139222361585,
          0.06934248324289818,
          0.08608464436073565,
          0.10453796615246368,
          0.12296353762606672,
          0.14114832535885166,
          0.15778807180081064,
          0.17144808743169399,
          0.1836248012718601,
          0.19880073800738007,
          0.21091290661070305,
          0.2228808535862478,
          0.23743386243386244,
          0.2459618208516887,
          0.2575387123064385,
          0.27041742286751363,
          0.2872983870967742,
          0.2970620239390642,
          0.30935251798561153,
          0.31476683937823835,
          0.3181169757489301,
          0.32125984251968503,
          0.32989690721649484,
          0.3435114503816794,
          0.35390946502057613,
          0.3607305936073059,
          0.37823834196891193,
          0.3785310734463277,
          0.40189873417721517,
          0.4121863799283154,
          0.41568627450980394,
          0.4424778761061947,
          0.4504950495049505,
          0.47093023255813954,
          0.46875,
          0.4697986577181208,
          0.4925373134328358,
          0.496,
          0.5,
          0.5,
          0.5052631578947369,
          0.524390243902439,
          0.527027027027027,
          0.532258064516129,
          0.5833333333333334,
          0.5909090909090909,
          0.5952380952380952,
          0.6,
          0.6052631578947368,
          0.5588235294117647,
          0.5555555555555556,
          0.5769230769230769,
          0.625,
          0.625,
          0.6666666666666666,
          0.6875,
          0.7142857142857143,
          0.8181818181818182,
          0.8181818181818182,
          0.75,
          0.8333333333333334,
          0.8,
          0.8,
          0.8,
          1,
          1,
          1,
          1,
          1,
          null,
          null,
          null,
          null,
          null,
          null,
          null,
          null,
          null,
          null,
          null,
          null,
          null,
          null,
          null,
          null,
          null,
          null,
          null,
          null,
          null,
          null,
          null,
          null,
          null,
          null,
          null,
          null,
          null,
          null
         ]
        },
        {
         "mode": "lines",
         "name": "m3",
         "type": "scatter",
         "x": [
          1,
          0.9906347554630593,
          0.9365244536940687,
          0.8459937565036421,
          0.7492195629552549,
          0.6659729448491155,
          0.5920915712799167,
          0.5327783558792925,
          0.46826222684703434,
          0.4037460978147763,
          0.3600416233090531,
          0.32570239334027057,
          0.2976066597294485,
          0.2726326742976067,
          0.2299687825182102,
          0.20499479708636836,
          0.17898022892819979,
          0.16129032258064516,
          0.14776274713839752,
          0.1331945889698231,
          0.11966701352757544,
          0.10509885535900104,
          0.08949011446409989,
          0.08220603537981269,
          0.07180020811654526,
          0.06555671175858481,
          0.05723204994797086,
          0.05098855359001041,
          0.04890738813735692,
          0.045785639958376693,
          0.04266389177939646,
          0.03850156087408949,
          0.03225806451612903,
          0.029136316337148804,
          0.02809573361082206,
          0.022892819979188347,
          0.02081165452653486,
          0.018730489073881373,
          0.01664932362122789,
          0.013527575442247659,
          0.013527575442247659,
          0.012486992715920915,
          0.01040582726326743,
          0.01040582726326743,
          0.01040582726326743,
          0.009365244536940686,
          0.008324661810613945,
          0.007284079084287201,
          0.005202913631633715,
          0.003121748178980229,
          0.003121748178980229,
          0.002081165452653486,
          0,
          0,
          0,
          0,
          0,
          0,
          0,
          0,
          0,
          0,
          0,
          0,
          0,
          0,
          0,
          0,
          0,
          0,
          0,
          0,
          0,
          0,
          0,
          0,
          0,
          0,
          0,
          0,
          0,
          0,
          0,
          0,
          0,
          0,
          0,
          0,
          0,
          0,
          0,
          0,
          0,
          0,
          0,
          0,
          0,
          0,
          0,
          0
         ],
         "y": [
          0.04805,
          0.05015013433071696,
          0.06009615384615385,
          0.07270613485959578,
          0.08710379869344302,
          0.1024,
          0.11831981700977334,
          0.13562913907284768,
          0.15384615384615385,
          0.17032484635645304,
          0.18712817739318552,
          0.2102081934184016,
          0.2323314378554021,
          0.2583826429980276,
          0.2618483412322275,
          0.2694938440492476,
          0.28289473684210525,
          0.29411764705882354,
          0.3141592920353982,
          0.31840796019900497,
          0.33045977011494254,
          0.32792207792207795,
          0.3269961977186312,
          0.33617021276595743,
          0.32547169811320753,
          0.3298429319371728,
          0.32934131736526945,
          0.3333333333333333,
          0.3533834586466165,
          0.3697478991596639,
          0.40594059405940597,
          0.43023255813953487,
          0.40789473684210525,
          0.4375,
          0.47368421052631576,
          0.46808510638297873,
          0.45454545454545453,
          0.5,
          0.5333333333333333,
          0.52,
          0.5416666666666666,
          0.5454545454545454,
          0.5555555555555556,
          0.5555555555555556,
          0.6666666666666666,
          0.6428571428571429,
          0.6153846153846154,
          0.5833333333333334,
          0.5555555555555556,
          0.42857142857142855,
          0.5,
          0.4,
          0,
          0,
          0,
          0,
          0,
          0,
          null,
          null,
          null,
          null,
          null,
          null,
          null,
          null,
          null,
          null,
          null,
          null,
          null,
          null,
          null,
          null,
          null,
          null,
          null,
          null,
          null,
          null,
          null,
          null,
          null,
          null,
          null,
          null,
          null,
          null,
          null,
          null,
          null,
          null,
          null,
          null,
          null,
          null,
          null,
          null,
          null,
          null
         ]
        },
        {
         "mode": "lines",
         "name": "m4",
         "type": "scatter",
         "x": [
          1,
          1,
          1,
          0.959417273673257,
          0.9001040582726326,
          0.8324661810613944,
          0.7336108220603538,
          0.6701352757544224,
          0.6295525494276795,
          0.5848074921956296,
          0.5494276795005203,
          0.5078043704474505,
          0.4755463059313215,
          0.449531737773153,
          0.42039542143600417,
          0.3975026014568158,
          0.3704474505723205,
          0.3392299687825182,
          0.3173777315296566,
          0.2903225806451613,
          0.26534859521331944,
          0.24869927159209157,
          0.23204994797086367,
          0.21436004162330904,
          0.1987513007284079,
          0.1841831425598335,
          0.1696149843912591,
          0.1571279916753382,
          0.14984391259105098,
          0.1404786680541103,
          0.1331945889698231,
          0.1259105098855359,
          0.11966701352757544,
          0.10718002081165452,
          0.10197710718002082,
          0.09781477627471384,
          0.09365244536940687,
          0.09157127991675339,
          0.08740894901144641,
          0.08532778355879292,
          0.08116545265348596,
          0.07596253902185224,
          0.07492195629552549,
          0.07180020811654526,
          0.06555671175858481,
          0.05827263267429761,
          0.05202913631633715,
          0.045785639958376693,
          0.043704474505723206,
          0.03537981269510926,
          0.030176899063475548,
          0.02809573361082206,
          0.022892819979188347,
          0.019771071800208116,
          0.014568158168574402,
          0.01040582726326743,
          0.008324661810613945,
          0.006243496357960458,
          0.005202913631633715,
          0.003121748178980229,
          0.003121748178980229,
          0.003121748178980229,
          0.002081165452653486,
          0.002081165452653486,
          0.002081165452653486,
          0.001040582726326743,
          0,
          0,
          0,
          0,
          0,
          0,
          0,
          0,
          0,
          0,
          0,
          0,
          0,
          0,
          0,
          0,
          0,
          0,
          0,
          0,
          0,
          0,
          0,
          0,
          0,
          0,
          0,
          0,
          0,
          0,
          0,
          0,
          0,
          0
         ],
         "y": [
          0.04805,
          0.04805,
          0.048269626801948864,
          0.0650992021464379,
          0.10660586640374661,
          0.17509301816590064,
          0.23492169276907698,
          0.3136872868972236,
          0.4033333333333333,
          0.5174953959484346,
          0.6189917936694022,
          0.6768377253814147,
          0.7418831168831169,
          0.7659574468085106,
          0.796844181459566,
          0.821505376344086,
          0.839622641509434,
          0.8423772609819121,
          0.8472222222222222,
          0.8611111111111112,
          0.864406779661017,
          0.8754578754578755,
          0.8955823293172691,
          0.9196428571428571,
          0.9271844660194175,
          0.9414893617021277,
          0.9421965317919075,
          0.9556962025316456,
          0.96,
          0.9712230215827338,
          0.9696969696969697,
          0.983739837398374,
          0.9913793103448276,
          1,
          1,
          1,
          1,
          1,
          1,
          1,
          1,
          1,
          1,
          1,
          1,
          1,
          1,
          1,
          1,
          1,
          1,
          1,
          1,
          1,
          1,
          1,
          1,
          1,
          1,
          1,
          1,
          1,
          1,
          1,
          1,
          1,
          null,
          null,
          null,
          null,
          null,
          null,
          null,
          null,
          null,
          null,
          null,
          null,
          null,
          null,
          null,
          null,
          null,
          null,
          null,
          null,
          null,
          null,
          null,
          null,
          null,
          null,
          null,
          null,
          null,
          null,
          null,
          null,
          null,
          null
         ]
        }
       ],
       "layout": {
        "height": 500,
        "shapes": [
         {
          "line": {
           "dash": "dash"
          },
          "type": "line",
          "x0": 0,
          "x1": 1,
          "y0": 1,
          "y1": 0
         }
        ],
        "template": {
         "data": {
          "bar": [
           {
            "error_x": {
             "color": "#2a3f5f"
            },
            "error_y": {
             "color": "#2a3f5f"
            },
            "marker": {
             "line": {
              "color": "#E5ECF6",
              "width": 0.5
             },
             "pattern": {
              "fillmode": "overlay",
              "size": 10,
              "solidity": 0.2
             }
            },
            "type": "bar"
           }
          ],
          "barpolar": [
           {
            "marker": {
             "line": {
              "color": "#E5ECF6",
              "width": 0.5
             },
             "pattern": {
              "fillmode": "overlay",
              "size": 10,
              "solidity": 0.2
             }
            },
            "type": "barpolar"
           }
          ],
          "carpet": [
           {
            "aaxis": {
             "endlinecolor": "#2a3f5f",
             "gridcolor": "white",
             "linecolor": "white",
             "minorgridcolor": "white",
             "startlinecolor": "#2a3f5f"
            },
            "baxis": {
             "endlinecolor": "#2a3f5f",
             "gridcolor": "white",
             "linecolor": "white",
             "minorgridcolor": "white",
             "startlinecolor": "#2a3f5f"
            },
            "type": "carpet"
           }
          ],
          "choropleth": [
           {
            "colorbar": {
             "outlinewidth": 0,
             "ticks": ""
            },
            "type": "choropleth"
           }
          ],
          "contour": [
           {
            "colorbar": {
             "outlinewidth": 0,
             "ticks": ""
            },
            "colorscale": [
             [
              0,
              "#0d0887"
             ],
             [
              0.1111111111111111,
              "#46039f"
             ],
             [
              0.2222222222222222,
              "#7201a8"
             ],
             [
              0.3333333333333333,
              "#9c179e"
             ],
             [
              0.4444444444444444,
              "#bd3786"
             ],
             [
              0.5555555555555556,
              "#d8576b"
             ],
             [
              0.6666666666666666,
              "#ed7953"
             ],
             [
              0.7777777777777778,
              "#fb9f3a"
             ],
             [
              0.8888888888888888,
              "#fdca26"
             ],
             [
              1,
              "#f0f921"
             ]
            ],
            "type": "contour"
           }
          ],
          "contourcarpet": [
           {
            "colorbar": {
             "outlinewidth": 0,
             "ticks": ""
            },
            "type": "contourcarpet"
           }
          ],
          "heatmap": [
           {
            "colorbar": {
             "outlinewidth": 0,
             "ticks": ""
            },
            "colorscale": [
             [
              0,
              "#0d0887"
             ],
             [
              0.1111111111111111,
              "#46039f"
             ],
             [
              0.2222222222222222,
              "#7201a8"
             ],
             [
              0.3333333333333333,
              "#9c179e"
             ],
             [
              0.4444444444444444,
              "#bd3786"
             ],
             [
              0.5555555555555556,
              "#d8576b"
             ],
             [
              0.6666666666666666,
              "#ed7953"
             ],
             [
              0.7777777777777778,
              "#fb9f3a"
             ],
             [
              0.8888888888888888,
              "#fdca26"
             ],
             [
              1,
              "#f0f921"
             ]
            ],
            "type": "heatmap"
           }
          ],
          "heatmapgl": [
           {
            "colorbar": {
             "outlinewidth": 0,
             "ticks": ""
            },
            "colorscale": [
             [
              0,
              "#0d0887"
             ],
             [
              0.1111111111111111,
              "#46039f"
             ],
             [
              0.2222222222222222,
              "#7201a8"
             ],
             [
              0.3333333333333333,
              "#9c179e"
             ],
             [
              0.4444444444444444,
              "#bd3786"
             ],
             [
              0.5555555555555556,
              "#d8576b"
             ],
             [
              0.6666666666666666,
              "#ed7953"
             ],
             [
              0.7777777777777778,
              "#fb9f3a"
             ],
             [
              0.8888888888888888,
              "#fdca26"
             ],
             [
              1,
              "#f0f921"
             ]
            ],
            "type": "heatmapgl"
           }
          ],
          "histogram": [
           {
            "marker": {
             "pattern": {
              "fillmode": "overlay",
              "size": 10,
              "solidity": 0.2
             }
            },
            "type": "histogram"
           }
          ],
          "histogram2d": [
           {
            "colorbar": {
             "outlinewidth": 0,
             "ticks": ""
            },
            "colorscale": [
             [
              0,
              "#0d0887"
             ],
             [
              0.1111111111111111,
              "#46039f"
             ],
             [
              0.2222222222222222,
              "#7201a8"
             ],
             [
              0.3333333333333333,
              "#9c179e"
             ],
             [
              0.4444444444444444,
              "#bd3786"
             ],
             [
              0.5555555555555556,
              "#d8576b"
             ],
             [
              0.6666666666666666,
              "#ed7953"
             ],
             [
              0.7777777777777778,
              "#fb9f3a"
             ],
             [
              0.8888888888888888,
              "#fdca26"
             ],
             [
              1,
              "#f0f921"
             ]
            ],
            "type": "histogram2d"
           }
          ],
          "histogram2dcontour": [
           {
            "colorbar": {
             "outlinewidth": 0,
             "ticks": ""
            },
            "colorscale": [
             [
              0,
              "#0d0887"
             ],
             [
              0.1111111111111111,
              "#46039f"
             ],
             [
              0.2222222222222222,
              "#7201a8"
             ],
             [
              0.3333333333333333,
              "#9c179e"
             ],
             [
              0.4444444444444444,
              "#bd3786"
             ],
             [
              0.5555555555555556,
              "#d8576b"
             ],
             [
              0.6666666666666666,
              "#ed7953"
             ],
             [
              0.7777777777777778,
              "#fb9f3a"
             ],
             [
              0.8888888888888888,
              "#fdca26"
             ],
             [
              1,
              "#f0f921"
             ]
            ],
            "type": "histogram2dcontour"
           }
          ],
          "mesh3d": [
           {
            "colorbar": {
             "outlinewidth": 0,
             "ticks": ""
            },
            "type": "mesh3d"
           }
          ],
          "parcoords": [
           {
            "line": {
             "colorbar": {
              "outlinewidth": 0,
              "ticks": ""
             }
            },
            "type": "parcoords"
           }
          ],
          "pie": [
           {
            "automargin": true,
            "type": "pie"
           }
          ],
          "scatter": [
           {
            "fillpattern": {
             "fillmode": "overlay",
             "size": 10,
             "solidity": 0.2
            },
            "type": "scatter"
           }
          ],
          "scatter3d": [
           {
            "line": {
             "colorbar": {
              "outlinewidth": 0,
              "ticks": ""
             }
            },
            "marker": {
             "colorbar": {
              "outlinewidth": 0,
              "ticks": ""
             }
            },
            "type": "scatter3d"
           }
          ],
          "scattercarpet": [
           {
            "marker": {
             "colorbar": {
              "outlinewidth": 0,
              "ticks": ""
             }
            },
            "type": "scattercarpet"
           }
          ],
          "scattergeo": [
           {
            "marker": {
             "colorbar": {
              "outlinewidth": 0,
              "ticks": ""
             }
            },
            "type": "scattergeo"
           }
          ],
          "scattergl": [
           {
            "marker": {
             "colorbar": {
              "outlinewidth": 0,
              "ticks": ""
             }
            },
            "type": "scattergl"
           }
          ],
          "scattermapbox": [
           {
            "marker": {
             "colorbar": {
              "outlinewidth": 0,
              "ticks": ""
             }
            },
            "type": "scattermapbox"
           }
          ],
          "scatterpolar": [
           {
            "marker": {
             "colorbar": {
              "outlinewidth": 0,
              "ticks": ""
             }
            },
            "type": "scatterpolar"
           }
          ],
          "scatterpolargl": [
           {
            "marker": {
             "colorbar": {
              "outlinewidth": 0,
              "ticks": ""
             }
            },
            "type": "scatterpolargl"
           }
          ],
          "scatterternary": [
           {
            "marker": {
             "colorbar": {
              "outlinewidth": 0,
              "ticks": ""
             }
            },
            "type": "scatterternary"
           }
          ],
          "surface": [
           {
            "colorbar": {
             "outlinewidth": 0,
             "ticks": ""
            },
            "colorscale": [
             [
              0,
              "#0d0887"
             ],
             [
              0.1111111111111111,
              "#46039f"
             ],
             [
              0.2222222222222222,
              "#7201a8"
             ],
             [
              0.3333333333333333,
              "#9c179e"
             ],
             [
              0.4444444444444444,
              "#bd3786"
             ],
             [
              0.5555555555555556,
              "#d8576b"
             ],
             [
              0.6666666666666666,
              "#ed7953"
             ],
             [
              0.7777777777777778,
              "#fb9f3a"
             ],
             [
              0.8888888888888888,
              "#fdca26"
             ],
             [
              1,
              "#f0f921"
             ]
            ],
            "type": "surface"
           }
          ],
          "table": [
           {
            "cells": {
             "fill": {
              "color": "#EBF0F8"
             },
             "line": {
              "color": "white"
             }
            },
            "header": {
             "fill": {
              "color": "#C8D4E3"
             },
             "line": {
              "color": "white"
             }
            },
            "type": "table"
           }
          ]
         },
         "layout": {
          "annotationdefaults": {
           "arrowcolor": "#2a3f5f",
           "arrowhead": 0,
           "arrowwidth": 1
          },
          "autotypenumbers": "strict",
          "coloraxis": {
           "colorbar": {
            "outlinewidth": 0,
            "ticks": ""
           }
          },
          "colorscale": {
           "diverging": [
            [
             0,
             "#8e0152"
            ],
            [
             0.1,
             "#c51b7d"
            ],
            [
             0.2,
             "#de77ae"
            ],
            [
             0.3,
             "#f1b6da"
            ],
            [
             0.4,
             "#fde0ef"
            ],
            [
             0.5,
             "#f7f7f7"
            ],
            [
             0.6,
             "#e6f5d0"
            ],
            [
             0.7,
             "#b8e186"
            ],
            [
             0.8,
             "#7fbc41"
            ],
            [
             0.9,
             "#4d9221"
            ],
            [
             1,
             "#276419"
            ]
           ],
           "sequential": [
            [
             0,
             "#0d0887"
            ],
            [
             0.1111111111111111,
             "#46039f"
            ],
            [
             0.2222222222222222,
             "#7201a8"
            ],
            [
             0.3333333333333333,
             "#9c179e"
            ],
            [
             0.4444444444444444,
             "#bd3786"
            ],
            [
             0.5555555555555556,
             "#d8576b"
            ],
            [
             0.6666666666666666,
             "#ed7953"
            ],
            [
             0.7777777777777778,
             "#fb9f3a"
            ],
            [
             0.8888888888888888,
             "#fdca26"
            ],
            [
             1,
             "#f0f921"
            ]
           ],
           "sequentialminus": [
            [
             0,
             "#0d0887"
            ],
            [
             0.1111111111111111,
             "#46039f"
            ],
            [
             0.2222222222222222,
             "#7201a8"
            ],
            [
             0.3333333333333333,
             "#9c179e"
            ],
            [
             0.4444444444444444,
             "#bd3786"
            ],
            [
             0.5555555555555556,
             "#d8576b"
            ],
            [
             0.6666666666666666,
             "#ed7953"
            ],
            [
             0.7777777777777778,
             "#fb9f3a"
            ],
            [
             0.8888888888888888,
             "#fdca26"
            ],
            [
             1,
             "#f0f921"
            ]
           ]
          },
          "colorway": [
           "#636efa",
           "#EF553B",
           "#00cc96",
           "#ab63fa",
           "#FFA15A",
           "#19d3f3",
           "#FF6692",
           "#B6E880",
           "#FF97FF",
           "#FECB52"
          ],
          "font": {
           "color": "#2a3f5f"
          },
          "geo": {
           "bgcolor": "white",
           "lakecolor": "white",
           "landcolor": "#E5ECF6",
           "showlakes": true,
           "showland": true,
           "subunitcolor": "white"
          },
          "hoverlabel": {
           "align": "left"
          },
          "hovermode": "closest",
          "mapbox": {
           "style": "light"
          },
          "paper_bgcolor": "white",
          "plot_bgcolor": "#E5ECF6",
          "polar": {
           "angularaxis": {
            "gridcolor": "white",
            "linecolor": "white",
            "ticks": ""
           },
           "bgcolor": "#E5ECF6",
           "radialaxis": {
            "gridcolor": "white",
            "linecolor": "white",
            "ticks": ""
           }
          },
          "scene": {
           "xaxis": {
            "backgroundcolor": "#E5ECF6",
            "gridcolor": "white",
            "gridwidth": 2,
            "linecolor": "white",
            "showbackground": true,
            "ticks": "",
            "zerolinecolor": "white"
           },
           "yaxis": {
            "backgroundcolor": "#E5ECF6",
            "gridcolor": "white",
            "gridwidth": 2,
            "linecolor": "white",
            "showbackground": true,
            "ticks": "",
            "zerolinecolor": "white"
           },
           "zaxis": {
            "backgroundcolor": "#E5ECF6",
            "gridcolor": "white",
            "gridwidth": 2,
            "linecolor": "white",
            "showbackground": true,
            "ticks": "",
            "zerolinecolor": "white"
           }
          },
          "shapedefaults": {
           "line": {
            "color": "#2a3f5f"
           }
          },
          "ternary": {
           "aaxis": {
            "gridcolor": "white",
            "linecolor": "white",
            "ticks": ""
           },
           "baxis": {
            "gridcolor": "white",
            "linecolor": "white",
            "ticks": ""
           },
           "bgcolor": "#E5ECF6",
           "caxis": {
            "gridcolor": "white",
            "linecolor": "white",
            "ticks": ""
           }
          },
          "title": {
           "x": 0.05
          },
          "xaxis": {
           "automargin": true,
           "gridcolor": "white",
           "linecolor": "white",
           "ticks": "",
           "title": {
            "standoff": 15
           },
           "zerolinecolor": "white",
           "zerolinewidth": 2
          },
          "yaxis": {
           "automargin": true,
           "gridcolor": "white",
           "linecolor": "white",
           "ticks": "",
           "title": {
            "standoff": 15
           },
           "zerolinecolor": "white",
           "zerolinewidth": 2
          }
         }
        },
        "width": 700,
        "xaxis": {
         "autorange": true,
         "constrain": "domain",
         "domain": [
          0.22641509433962254,
          0.7735849056603774
         ],
         "range": [
          -0.003472222222222222,
          1.0034722222222223
         ],
         "title": {
          "text": "Recall"
         },
         "type": "linear"
        },
        "yaxis": {
         "autorange": true,
         "domain": [
          0,
          1
         ],
         "range": [
          -0.05555555555555555,
          1.0555555555555556
         ],
         "scaleanchor": "x",
         "scaleratio": 1,
         "title": {
          "text": "Precision"
         },
         "type": "linear"
        }
       }
      },
      "image/png": "[encoded data removed]",
      "text/html": [
       "<div>                            <div id=\"ada85ab6-4d8b-46f4-a2a3-59d5dfd34b1e\" class=\"plotly-graph-div\" style=\"height:500px; width:700px;\"></div>            <script type=\"text/javascript\">                require([\"plotly\"], function(Plotly) {                    window.PLOTLYENV=window.PLOTLYENV || {};                                    if (document.getElementById(\"ada85ab6-4d8b-46f4-a2a3-59d5dfd34b1e\")) {                    Plotly.newPlot(                        \"ada85ab6-4d8b-46f4-a2a3-59d5dfd34b1e\",                        [{\"mode\":\"lines\",\"name\":\"m1\",\"x\":[1.0,0.9854318418314256,0.9146722164412071,0.8064516129032258,0.7242455775234131,0.6409989594172737,0.5806451612903226,0.5213319458896982,0.4630593132154006,0.40790842872008326,0.3777315296566077,0.3485952133194589,0.3173777315296566,0.28407908428720086,0.25390218522372526,0.22684703433922998,0.21436004162330904,0.19771071800208118,0.18522372528616024,0.1716961498439126,0.15920915712799166,0.14151925078043703,0.1331945889698231,0.12486992715920915,0.11966701352757544,0.11342351716961499,0.10718002081165452,0.09885535900104059,0.09365244536940687,0.08532778355879292,0.08012486992715921,0.07075962539021852,0.06867845993756504,0.06347554630593132,0.055150884495317375,0.05098855359001041,0.047866805411030174,0.047866805411030174,0.045785639958376693,0.04266389177939646,0.03850156087408949,0.03433922996878252,0.029136316337148804,0.029136316337148804,0.029136316337148804,0.023933402705515087,0.02081165452653486,0.019771071800208116,0.01768990634755463,0.014568158168574402,0.014568158168574402,0.013527575442247659,0.012486992715920915,0.01040582726326743,0.01040582726326743,0.009365244536940686,0.009365244536940686,0.008324661810613945,0.007284079084287201,0.006243496357960458,0.003121748178980229,0.003121748178980229,0.001040582726326743,0.0,0.0,0.0,0.0,0.0,0.0,0.0,0.0,0.0,0.0,0.0,0.0,0.0,0.0,0.0,0.0,0.0,0.0,0.0,0.0,0.0,0.0,0.0,0.0,0.0,0.0,0.0,0.0,0.0,0.0,0.0,0.0,0.0,0.0,0.0,0.0,0.0],\"y\":[0.04805,0.05140313738261955,0.0629791502471878,0.07623450718079874,0.09250398724082935,0.10835532102022867,0.12613019891500904,0.14380022962112515,0.1607078367641748,0.17507815989280928,0.19484702093397746,0.21626856036152356,0.23246951219512196,0.24506283662477557,0.24974411463664278,0.2546728971962617,0.2644415917843389,0.2710413694721826,0.2794348508634223,0.2879581151832461,0.2925430210325048,0.28874734607218683,0.29836829836829837,0.31007751937984496,0.30997304582210244,0.3168604651162791,0.3238993710691824,0.32646048109965636,0.3333333333333333,0.3346938775510204,0.33624454148471616,0.3238095238095238,0.33,0.33152173913043476,0.3271604938271605,0.32450331125827814,0.34074074074074073,0.35384615384615387,0.3793103448275862,0.3904761904761905,0.40217391304347827,0.4177215189873418,0.3888888888888889,0.45901639344262296,0.509090909090909,0.46,0.45454545454545453,0.48717948717948717,0.5666666666666667,0.5384615384615384,0.5384615384615384,0.5909090909090909,0.6,0.5555555555555556,0.625,0.6428571428571429,0.6428571428571429,0.6153846153846154,0.6363636363636364,0.6,0.5,0.5,0.25,0.0,0.0,0.0,0.0,0.0,null,null,null,null,null,null,null,null,null,null,null,null,null,null,null,null,null,null,null,null,null,null,null,null,null,null,null,null,null,null,null,null],\"type\":\"scatter\"},{\"mode\":\"lines\",\"name\":\"m2\",\"x\":[1.0,0.9771071800208116,0.9042663891779397,0.8085327783558793,0.7263267429760666,0.659729448491155,0.6139438085327783,0.5671175858480749,0.522372528616025,0.48074921956295524,0.44849115504682624,0.4183142559833507,0.39125910509885536,0.37356919875130074,0.3485952133194589,0.32882414151925077,0.3100936524453694,0.29656607700312176,0.28407908428720086,0.2684703433922997,0.25286160249739853,0.23204994797086367,0.21227887617065558,0.19979188345473464,0.18730489073881373,0.17898022892819979,0.16441207075962538,0.15192507804370448,0.13943808532778357,0.13215400624349635,0.11966701352757544,0.11030176899063475,0.1040582726326743,0.09469302809573361,0.08428720083246619,0.07804370447450572,0.07284079084287201,0.06867845993756504,0.06451612903225806,0.05723204994797086,0.054110301768990635,0.04994797086368366,0.044745057232049947,0.04058272632674298,0.03433922996878252,0.029136316337148804,0.027055150884495317,0.026014568158168574,0.02497398543184183,0.023933402705515087,0.019771071800208116,0.015608740894901144,0.015608740894901144,0.015608740894901144,0.015608740894901144,0.014568158168574402,0.011446409989594173,0.01040582726326743,0.009365244536940686,0.009365244536940686,0.006243496357960458,0.005202913631633715,0.004162330905306972,0.004162330905306972,0.004162330905306972,0.004162330905306972,0.002081165452653486,0.002081165452653486,0.002081165452653486,0.002081165452653486,0.0,0.0,0.0,0.0,0.0,0.0,0.0,0.0,0.0,0.0,0.0,0.0,0.0,0.0,0.0,0.0,0.0,0.0,0.0,0.0,0.0,0.0,0.0,0.0,0.0,0.0,0.0,0.0,0.0,0.0],\"y\":[0.04805,0.056083139222361585,0.06934248324289818,0.08608464436073565,0.10453796615246368,0.12296353762606672,0.14114832535885166,0.15778807180081064,0.17144808743169399,0.1836248012718601,0.19880073800738007,0.21091290661070305,0.2228808535862478,0.23743386243386244,0.2459618208516887,0.2575387123064385,0.27041742286751363,0.2872983870967742,0.2970620239390642,0.30935251798561153,0.31476683937823835,0.3181169757489301,0.32125984251968503,0.32989690721649484,0.3435114503816794,0.35390946502057613,0.3607305936073059,0.37823834196891193,0.3785310734463277,0.40189873417721517,0.4121863799283154,0.41568627450980394,0.4424778761061947,0.4504950495049505,0.47093023255813954,0.46875,0.4697986577181208,0.4925373134328358,0.496,0.5,0.5,0.5052631578947369,0.524390243902439,0.527027027027027,0.532258064516129,0.5833333333333334,0.5909090909090909,0.5952380952380952,0.6,0.6052631578947368,0.5588235294117647,0.5555555555555556,0.5769230769230769,0.625,0.625,0.6666666666666666,0.6875,0.7142857142857143,0.8181818181818182,0.8181818181818182,0.75,0.8333333333333334,0.8,0.8,0.8,1.0,1.0,1.0,1.0,1.0,null,null,null,null,null,null,null,null,null,null,null,null,null,null,null,null,null,null,null,null,null,null,null,null,null,null,null,null,null,null],\"type\":\"scatter\"},{\"mode\":\"lines\",\"name\":\"m3\",\"x\":[1.0,0.9906347554630593,0.9365244536940687,0.8459937565036421,0.7492195629552549,0.6659729448491155,0.5920915712799167,0.5327783558792925,0.46826222684703434,0.4037460978147763,0.3600416233090531,0.32570239334027057,0.2976066597294485,0.2726326742976067,0.2299687825182102,0.20499479708636836,0.17898022892819979,0.16129032258064516,0.14776274713839752,0.1331945889698231,0.11966701352757544,0.10509885535900104,0.08949011446409989,0.08220603537981269,0.07180020811654526,0.06555671175858481,0.05723204994797086,0.05098855359001041,0.04890738813735692,0.045785639958376693,0.04266389177939646,0.03850156087408949,0.03225806451612903,0.029136316337148804,0.02809573361082206,0.022892819979188347,0.02081165452653486,0.018730489073881373,0.01664932362122789,0.013527575442247659,0.013527575442247659,0.012486992715920915,0.01040582726326743,0.01040582726326743,0.01040582726326743,0.009365244536940686,0.008324661810613945,0.007284079084287201,0.005202913631633715,0.003121748178980229,0.003121748178980229,0.002081165452653486,0.0,0.0,0.0,0.0,0.0,0.0,0.0,0.0,0.0,0.0,0.0,0.0,0.0,0.0,0.0,0.0,0.0,0.0,0.0,0.0,0.0,0.0,0.0,0.0,0.0,0.0,0.0,0.0,0.0,0.0,0.0,0.0,0.0,0.0,0.0,0.0,0.0,0.0,0.0,0.0,0.0,0.0,0.0,0.0,0.0,0.0,0.0,0.0],\"y\":[0.04805,0.05015013433071696,0.06009615384615385,0.07270613485959578,0.08710379869344302,0.1024,0.11831981700977334,0.13562913907284768,0.15384615384615385,0.17032484635645304,0.18712817739318552,0.2102081934184016,0.2323314378554021,0.2583826429980276,0.2618483412322275,0.2694938440492476,0.28289473684210525,0.29411764705882354,0.3141592920353982,0.31840796019900497,0.33045977011494254,0.32792207792207795,0.3269961977186312,0.33617021276595743,0.32547169811320753,0.3298429319371728,0.32934131736526945,0.3333333333333333,0.3533834586466165,0.3697478991596639,0.40594059405940597,0.43023255813953487,0.40789473684210525,0.4375,0.47368421052631576,0.46808510638297873,0.45454545454545453,0.5,0.5333333333333333,0.52,0.5416666666666666,0.5454545454545454,0.5555555555555556,0.5555555555555556,0.6666666666666666,0.6428571428571429,0.6153846153846154,0.5833333333333334,0.5555555555555556,0.42857142857142855,0.5,0.4,0.0,0.0,0.0,0.0,0.0,0.0,null,null,null,null,null,null,null,null,null,null,null,null,null,null,null,null,null,null,null,null,null,null,null,null,null,null,null,null,null,null,null,null,null,null,null,null,null,null,null,null,null,null],\"type\":\"scatter\"},{\"mode\":\"lines\",\"name\":\"m4\",\"x\":[1.0,1.0,1.0,0.959417273673257,0.9001040582726326,0.8324661810613944,0.7336108220603538,0.6701352757544224,0.6295525494276795,0.5848074921956296,0.5494276795005203,0.5078043704474505,0.4755463059313215,0.449531737773153,0.42039542143600417,0.3975026014568158,0.3704474505723205,0.3392299687825182,0.3173777315296566,0.2903225806451613,0.26534859521331944,0.24869927159209157,0.23204994797086367,0.21436004162330904,0.1987513007284079,0.1841831425598335,0.1696149843912591,0.1571279916753382,0.14984391259105098,0.1404786680541103,0.1331945889698231,0.1259105098855359,0.11966701352757544,0.10718002081165452,0.10197710718002082,0.09781477627471384,0.09365244536940687,0.09157127991675339,0.08740894901144641,0.08532778355879292,0.08116545265348596,0.07596253902185224,0.07492195629552549,0.07180020811654526,0.06555671175858481,0.05827263267429761,0.05202913631633715,0.045785639958376693,0.043704474505723206,0.03537981269510926,0.030176899063475548,0.02809573361082206,0.022892819979188347,0.019771071800208116,0.014568158168574402,0.01040582726326743,0.008324661810613945,0.006243496357960458,0.005202913631633715,0.003121748178980229,0.003121748178980229,0.003121748178980229,0.002081165452653486,0.002081165452653486,0.002081165452653486,0.001040582726326743,0.0,0.0,0.0,0.0,0.0,0.0,0.0,0.0,0.0,0.0,0.0,0.0,0.0,0.0,0.0,0.0,0.0,0.0,0.0,0.0,0.0,0.0,0.0,0.0,0.0,0.0,0.0,0.0,0.0,0.0,0.0,0.0,0.0,0.0],\"y\":[0.04805,0.04805,0.048269626801948864,0.0650992021464379,0.10660586640374661,0.17509301816590064,0.23492169276907698,0.3136872868972236,0.4033333333333333,0.5174953959484346,0.6189917936694022,0.6768377253814147,0.7418831168831169,0.7659574468085106,0.796844181459566,0.821505376344086,0.839622641509434,0.8423772609819121,0.8472222222222222,0.8611111111111112,0.864406779661017,0.8754578754578755,0.8955823293172691,0.9196428571428571,0.9271844660194175,0.9414893617021277,0.9421965317919075,0.9556962025316456,0.96,0.9712230215827338,0.9696969696969697,0.983739837398374,0.9913793103448276,1.0,1.0,1.0,1.0,1.0,1.0,1.0,1.0,1.0,1.0,1.0,1.0,1.0,1.0,1.0,1.0,1.0,1.0,1.0,1.0,1.0,1.0,1.0,1.0,1.0,1.0,1.0,1.0,1.0,1.0,1.0,1.0,1.0,null,null,null,null,null,null,null,null,null,null,null,null,null,null,null,null,null,null,null,null,null,null,null,null,null,null,null,null,null,null,null,null,null,null],\"type\":\"scatter\"}],                        {\"template\":{\"data\":{\"histogram2dcontour\":[{\"type\":\"histogram2dcontour\",\"colorbar\":{\"outlinewidth\":0,\"ticks\":\"\"},\"colorscale\":[[0.0,\"#0d0887\"],[0.1111111111111111,\"#46039f\"],[0.2222222222222222,\"#7201a8\"],[0.3333333333333333,\"#9c179e\"],[0.4444444444444444,\"#bd3786\"],[0.5555555555555556,\"#d8576b\"],[0.6666666666666666,\"#ed7953\"],[0.7777777777777778,\"#fb9f3a\"],[0.8888888888888888,\"#fdca26\"],[1.0,\"#f0f921\"]]}],\"choropleth\":[{\"type\":\"choropleth\",\"colorbar\":{\"outlinewidth\":0,\"ticks\":\"\"}}],\"histogram2d\":[{\"type\":\"histogram2d\",\"colorbar\":{\"outlinewidth\":0,\"ticks\":\"\"},\"colorscale\":[[0.0,\"#0d0887\"],[0.1111111111111111,\"#46039f\"],[0.2222222222222222,\"#7201a8\"],[0.3333333333333333,\"#9c179e\"],[0.4444444444444444,\"#bd3786\"],[0.5555555555555556,\"#d8576b\"],[0.6666666666666666,\"#ed7953\"],[0.7777777777777778,\"#fb9f3a\"],[0.8888888888888888,\"#fdca26\"],[1.0,\"#f0f921\"]]}],\"heatmap\":[{\"type\":\"heatmap\",\"colorbar\":{\"outlinewidth\":0,\"ticks\":\"\"},\"colorscale\":[[0.0,\"#0d0887\"],[0.1111111111111111,\"#46039f\"],[0.2222222222222222,\"#7201a8\"],[0.3333333333333333,\"#9c179e\"],[0.4444444444444444,\"#bd3786\"],[0.5555555555555556,\"#d8576b\"],[0.6666666666666666,\"#ed7953\"],[0.7777777777777778,\"#fb9f3a\"],[0.8888888888888888,\"#fdca26\"],[1.0,\"#f0f921\"]]}],\"heatmapgl\":[{\"type\":\"heatmapgl\",\"colorbar\":{\"outlinewidth\":0,\"ticks\":\"\"},\"colorscale\":[[0.0,\"#0d0887\"],[0.1111111111111111,\"#46039f\"],[0.2222222222222222,\"#7201a8\"],[0.3333333333333333,\"#9c179e\"],[0.4444444444444444,\"#bd3786\"],[0.5555555555555556,\"#d8576b\"],[0.6666666666666666,\"#ed7953\"],[0.7777777777777778,\"#fb9f3a\"],[0.8888888888888888,\"#fdca26\"],[1.0,\"#f0f921\"]]}],\"contourcarpet\":[{\"type\":\"contourcarpet\",\"colorbar\":{\"outlinewidth\":0,\"ticks\":\"\"}}],\"contour\":[{\"type\":\"contour\",\"colorbar\":{\"outlinewidth\":0,\"ticks\":\"\"},\"colorscale\":[[0.0,\"#0d0887\"],[0.1111111111111111,\"#46039f\"],[0.2222222222222222,\"#7201a8\"],[0.3333333333333333,\"#9c179e\"],[0.4444444444444444,\"#bd3786\"],[0.5555555555555556,\"#d8576b\"],[0.6666666666666666,\"#ed7953\"],[0.7777777777777778,\"#fb9f3a\"],[0.8888888888888888,\"#fdca26\"],[1.0,\"#f0f921\"]]}],\"surface\":[{\"type\":\"surface\",\"colorbar\":{\"outlinewidth\":0,\"ticks\":\"\"},\"colorscale\":[[0.0,\"#0d0887\"],[0.1111111111111111,\"#46039f\"],[0.2222222222222222,\"#7201a8\"],[0.3333333333333333,\"#9c179e\"],[0.4444444444444444,\"#bd3786\"],[0.5555555555555556,\"#d8576b\"],[0.6666666666666666,\"#ed7953\"],[0.7777777777777778,\"#fb9f3a\"],[0.8888888888888888,\"#fdca26\"],[1.0,\"#f0f921\"]]}],\"mesh3d\":[{\"type\":\"mesh3d\",\"colorbar\":{\"outlinewidth\":0,\"ticks\":\"\"}}],\"scatter\":[{\"fillpattern\":{\"fillmode\":\"overlay\",\"size\":10,\"solidity\":0.2},\"type\":\"scatter\"}],\"parcoords\":[{\"type\":\"parcoords\",\"line\":{\"colorbar\":{\"outlinewidth\":0,\"ticks\":\"\"}}}],\"scatterpolargl\":[{\"type\":\"scatterpolargl\",\"marker\":{\"colorbar\":{\"outlinewidth\":0,\"ticks\":\"\"}}}],\"bar\":[{\"error_x\":{\"color\":\"#2a3f5f\"},\"error_y\":{\"color\":\"#2a3f5f\"},\"marker\":{\"line\":{\"color\":\"#E5ECF6\",\"width\":0.5},\"pattern\":{\"fillmode\":\"overlay\",\"size\":10,\"solidity\":0.2}},\"type\":\"bar\"}],\"scattergeo\":[{\"type\":\"scattergeo\",\"marker\":{\"colorbar\":{\"outlinewidth\":0,\"ticks\":\"\"}}}],\"scatterpolar\":[{\"type\":\"scatterpolar\",\"marker\":{\"colorbar\":{\"outlinewidth\":0,\"ticks\":\"\"}}}],\"histogram\":[{\"marker\":{\"pattern\":{\"fillmode\":\"overlay\",\"size\":10,\"solidity\":0.2}},\"type\":\"histogram\"}],\"scattergl\":[{\"type\":\"scattergl\",\"marker\":{\"colorbar\":{\"outlinewidth\":0,\"ticks\":\"\"}}}],\"scatter3d\":[{\"type\":\"scatter3d\",\"line\":{\"colorbar\":{\"outlinewidth\":0,\"ticks\":\"\"}},\"marker\":{\"colorbar\":{\"outlinewidth\":0,\"ticks\":\"\"}}}],\"scattermapbox\":[{\"type\":\"scattermapbox\",\"marker\":{\"colorbar\":{\"outlinewidth\":0,\"ticks\":\"\"}}}],\"scatterternary\":[{\"type\":\"scatterternary\",\"marker\":{\"colorbar\":{\"outlinewidth\":0,\"ticks\":\"\"}}}],\"scattercarpet\":[{\"type\":\"scattercarpet\",\"marker\":{\"colorbar\":{\"outlinewidth\":0,\"ticks\":\"\"}}}],\"carpet\":[{\"aaxis\":{\"endlinecolor\":\"#2a3f5f\",\"gridcolor\":\"white\",\"linecolor\":\"white\",\"minorgridcolor\":\"white\",\"startlinecolor\":\"#2a3f5f\"},\"baxis\":{\"endlinecolor\":\"#2a3f5f\",\"gridcolor\":\"white\",\"linecolor\":\"white\",\"minorgridcolor\":\"white\",\"startlinecolor\":\"#2a3f5f\"},\"type\":\"carpet\"}],\"table\":[{\"cells\":{\"fill\":{\"color\":\"#EBF0F8\"},\"line\":{\"color\":\"white\"}},\"header\":{\"fill\":{\"color\":\"#C8D4E3\"},\"line\":{\"color\":\"white\"}},\"type\":\"table\"}],\"barpolar\":[{\"marker\":{\"line\":{\"color\":\"#E5ECF6\",\"width\":0.5},\"pattern\":{\"fillmode\":\"overlay\",\"size\":10,\"solidity\":0.2}},\"type\":\"barpolar\"}],\"pie\":[{\"automargin\":true,\"type\":\"pie\"}]},\"layout\":{\"autotypenumbers\":\"strict\",\"colorway\":[\"#636efa\",\"#EF553B\",\"#00cc96\",\"#ab63fa\",\"#FFA15A\",\"#19d3f3\",\"#FF6692\",\"#B6E880\",\"#FF97FF\",\"#FECB52\"],\"font\":{\"color\":\"#2a3f5f\"},\"hovermode\":\"closest\",\"hoverlabel\":{\"align\":\"left\"},\"paper_bgcolor\":\"white\",\"plot_bgcolor\":\"#E5ECF6\",\"polar\":{\"bgcolor\":\"#E5ECF6\",\"angularaxis\":{\"gridcolor\":\"white\",\"linecolor\":\"white\",\"ticks\":\"\"},\"radialaxis\":{\"gridcolor\":\"white\",\"linecolor\":\"white\",\"ticks\":\"\"}},\"ternary\":{\"bgcolor\":\"#E5ECF6\",\"aaxis\":{\"gridcolor\":\"white\",\"linecolor\":\"white\",\"ticks\":\"\"},\"baxis\":{\"gridcolor\":\"white\",\"linecolor\":\"white\",\"ticks\":\"\"},\"caxis\":{\"gridcolor\":\"white\",\"linecolor\":\"white\",\"ticks\":\"\"}},\"coloraxis\":{\"colorbar\":{\"outlinewidth\":0,\"ticks\":\"\"}},\"colorscale\":{\"sequential\":[[0.0,\"#0d0887\"],[0.1111111111111111,\"#46039f\"],[0.2222222222222222,\"#7201a8\"],[0.3333333333333333,\"#9c179e\"],[0.4444444444444444,\"#bd3786\"],[0.5555555555555556,\"#d8576b\"],[0.6666666666666666,\"#ed7953\"],[0.7777777777777778,\"#fb9f3a\"],[0.8888888888888888,\"#fdca26\"],[1.0,\"#f0f921\"]],\"sequentialminus\":[[0.0,\"#0d0887\"],[0.1111111111111111,\"#46039f\"],[0.2222222222222222,\"#7201a8\"],[0.3333333333333333,\"#9c179e\"],[0.4444444444444444,\"#bd3786\"],[0.5555555555555556,\"#d8576b\"],[0.6666666666666666,\"#ed7953\"],[0.7777777777777778,\"#fb9f3a\"],[0.8888888888888888,\"#fdca26\"],[1.0,\"#f0f921\"]],\"diverging\":[[0,\"#8e0152\"],[0.1,\"#c51b7d\"],[0.2,\"#de77ae\"],[0.3,\"#f1b6da\"],[0.4,\"#fde0ef\"],[0.5,\"#f7f7f7\"],[0.6,\"#e6f5d0\"],[0.7,\"#b8e186\"],[0.8,\"#7fbc41\"],[0.9,\"#4d9221\"],[1,\"#276419\"]]},\"xaxis\":{\"gridcolor\":\"white\",\"linecolor\":\"white\",\"ticks\":\"\",\"title\":{\"standoff\":15},\"zerolinecolor\":\"white\",\"automargin\":true,\"zerolinewidth\":2},\"yaxis\":{\"gridcolor\":\"white\",\"linecolor\":\"white\",\"ticks\":\"\",\"title\":{\"standoff\":15},\"zerolinecolor\":\"white\",\"automargin\":true,\"zerolinewidth\":2},\"scene\":{\"xaxis\":{\"backgroundcolor\":\"#E5ECF6\",\"gridcolor\":\"white\",\"linecolor\":\"white\",\"showbackground\":true,\"ticks\":\"\",\"zerolinecolor\":\"white\",\"gridwidth\":2},\"yaxis\":{\"backgroundcolor\":\"#E5ECF6\",\"gridcolor\":\"white\",\"linecolor\":\"white\",\"showbackground\":true,\"ticks\":\"\",\"zerolinecolor\":\"white\",\"gridwidth\":2},\"zaxis\":{\"backgroundcolor\":\"#E5ECF6\",\"gridcolor\":\"white\",\"linecolor\":\"white\",\"showbackground\":true,\"ticks\":\"\",\"zerolinecolor\":\"white\",\"gridwidth\":2}},\"shapedefaults\":{\"line\":{\"color\":\"#2a3f5f\"}},\"annotationdefaults\":{\"arrowcolor\":\"#2a3f5f\",\"arrowhead\":0,\"arrowwidth\":1},\"geo\":{\"bgcolor\":\"white\",\"landcolor\":\"#E5ECF6\",\"subunitcolor\":\"white\",\"showland\":true,\"showlakes\":true,\"lakecolor\":\"white\"},\"title\":{\"x\":0.05},\"mapbox\":{\"style\":\"light\"}}},\"shapes\":[{\"line\":{\"dash\":\"dash\"},\"type\":\"line\",\"x0\":0,\"x1\":1,\"y0\":1,\"y1\":0}],\"yaxis\":{\"title\":{\"text\":\"Precision\"},\"scaleanchor\":\"x\",\"scaleratio\":1},\"xaxis\":{\"title\":{\"text\":\"Recall\"},\"constrain\":\"domain\"},\"width\":700,\"height\":500},                        {\"responsive\": true}                    ).then(function(){\n",
       "                            \n",
       "var gd = document.getElementById('ada85ab6-4d8b-46f4-a2a3-59d5dfd34b1e');\n",
       "var x = new MutationObserver(function (mutations, observer) {{\n",
       "        var display = window.getComputedStyle(gd).display;\n",
       "        if (!display || display === 'none') {{\n",
       "            console.log([gd, 'removed!']);\n",
       "            Plotly.purge(gd);\n",
       "            observer.disconnect();\n",
       "        }}\n",
       "}});\n",
       "\n",
       "// Listen for the removal of the full notebook cells\n",
       "var notebookContainer = gd.closest('#notebook-container');\n",
       "if (notebookContainer) {{\n",
       "    x.observe(notebookContainer, {childList: true});\n",
       "}}\n",
       "\n",
       "// Listen for the clearing of the current output cell\n",
       "var outputEl = gd.closest('.output');\n",
       "if (outputEl) {{\n",
       "    x.observe(outputEl, {childList: true});\n",
       "}}\n",
       "\n",
       "                        })                };                });            </script>        </div>"
      ]
     },
     "metadata": {},
     "output_type": "display_data"
    }
   ],
   "source": [
    "fig = go.Figure()\n",
    "\n",
    "fig.add_shape(\n",
    "    type='line', line=dict(dash='dash'),\n",
    "    x0=0, x1=1, y0=1, y1=0\n",
    ")\n",
    "\n",
    "\n",
    "for model_key in models:\n",
    "    \n",
    "    fig.add_trace(\n",
    "        go.Scatter(\n",
    "            x=dfprofit[model_key + '_rcl'], \n",
    "            y=dfprofit[model_key + '_prc'],\n",
    "            mode='lines',\n",
    "            name=model_key\n",
    "        )\n",
    "    )\n",
    "    \n",
    "\n",
    "fig.update_layout(\n",
    "    xaxis_title='Recall',\n",
    "    yaxis_title='Precision',\n",
    "    yaxis=dict(scaleanchor=\"x\", scaleratio=1),\n",
    "    xaxis=dict(constrain='domain'),\n",
    "    width=700, height=500\n",
    ")\n",
    "\n",
    "fig.show()"
   ]
  },
  {
   "cell_type": "code",
   "execution_count": null,
   "id": "126ed035-fca7-4b9d-bfe3-7f1061914654",
   "metadata": {},
   "outputs": [],
   "source": []
  },
  {
   "cell_type": "markdown",
   "id": "1c615e26-cc74-4175-8a60-827a8936aa06",
   "metadata": {},
   "source": [
    "# "
   ]
  },
  {
   "cell_type": "markdown",
   "id": "784be4db-1c06-43e0-a4da-86b1bbcde318",
   "metadata": {},
   "source": [
    "# *Notes*"
   ]
  },
  {
   "cell_type": "markdown",
   "id": "93321727-fdba-400a-a05a-1bb189842ed5",
   "metadata": {},
   "source": [
    "- TP: customers contacted that upgraded\n",
    "- FP: customers contacted that didn't upgraded\n",
    "- TN: customers not contacted that woudn't updgrade\n",
    "- FN: customers not contacted that would upgrade"
   ]
  },
  {
   "cell_type": "markdown",
   "id": "7ab88b99-2891-4cd3-b6eb-4c575ae72b82",
   "metadata": {},
   "source": [
    "Notes on calculating profits\n",
    "\n",
    "Calculate the best threshold to define a category and estimate values accordingly\n",
    "- Precision (Response ratio): TP/(TP + FP)\n",
    "- Graph\n",
    "    - y: response ratio; \n",
    "    - x: cutoff\n",
    "- Profit (observed)\n",
    "    - TP*(60 - 1.41) - FP*1.41\n",
    "    - TP*60 - TP*1.41 - FP*1.41\n",
    "    - TP*60 - 1.41*(TP + FP)\n",
    "- Profit (strict)\n",
    "    - TP*(60 - 1.41) + TN*1.41 - FP*1.41 - FN*60\n",
    "    - TP*60 - TP*1.41 + TN*1.41 - FP*1.41 - FN*60\n",
    "    - 1.41*(TN - TP - FP) + 60*(TP - FN)"
   ]
  },
  {
   "cell_type": "markdown",
   "id": "fe43b0e6-ac5e-40c7-98e8-ccb452abf50a",
   "metadata": {},
   "source": [
    "#### Validating the break even response"
   ]
  },
  {
   "cell_type": "code",
   "execution_count": null,
   "id": "6d142bc9-9548-41f6-a575-f5f4df387d2c",
   "metadata": {
    "execution": {
     "iopub.execute_input": "2023-03-18T17:44:41.233026Z",
     "iopub.status.busy": "2023-03-18T17:44:41.229526Z",
     "iopub.status.idle": "2023-03-18T17:44:41.390587Z",
     "shell.execute_reply": "2023-03-18T17:44:41.388852Z",
     "shell.execute_reply.started": "2023-03-18T17:44:41.232918Z"
    }
   },
   "outputs": [
    {
     "data": {
      "text/plain": [
       "0.0"
      ]
     },
     "execution_count": 34,
     "metadata": {},
     "output_type": "execute_result"
    }
   ],
   "source": [
    "60*100*0.0235 - 100*1.41"
   ]
  },
  {
   "cell_type": "code",
   "execution_count": null,
   "id": "2b0920f7-e85d-4b06-bcb9-99e393f7b212",
   "metadata": {},
   "outputs": [],
   "source": [
    "(100)*(60*x - 1.41) = 0"
   ]
  },
  {
   "cell_type": "markdown",
   "id": "96ceeba0-025d-4794-b723-74fa767819e6",
   "metadata": {},
   "source": [
    "TP + FP"
   ]
  },
  {
   "cell_type": "markdown",
   "id": "ed51f8fa-8999-417b-a660-858c91fb8675",
   "metadata": {},
   "source": [
    "$$\n",
    "profit = 60*rr - 1.41\n",
    "$$"
   ]
  },
  {
   "cell_type": "code",
   "execution_count": 36,
   "id": "396fb03c-632a-4cce-bf02-3493a8fc4e0d",
   "metadata": {
    "execution": {
     "iopub.execute_input": "2023-03-18T17:46:45.996329Z",
     "iopub.status.busy": "2023-03-18T17:46:45.995928Z",
     "iopub.status.idle": "2023-03-18T17:46:46.069314Z",
     "shell.execute_reply": "2023-03-18T17:46:46.068349Z",
     "shell.execute_reply.started": "2023-03-18T17:46:45.996299Z"
    },
    "tags": []
   },
   "outputs": [
    {
     "data": {
      "text/plain": [
       "0.0235"
      ]
     },
     "execution_count": 36,
     "metadata": {},
     "output_type": "execute_result"
    }
   ],
   "source": [
    "1.41/(60)"
   ]
  },
  {
   "cell_type": "code",
   "execution_count": null,
   "id": "ce3621ee-8ba9-4b25-b9ec-20f0744c19a9",
   "metadata": {},
   "outputs": [],
   "source": []
  },
  {
   "cell_type": "code",
   "execution_count": null,
   "id": "9d6597dc-824d-46ce-8f37-f8d88787c671",
   "metadata": {},
   "outputs": [],
   "source": []
  },
  {
   "cell_type": "markdown",
   "id": "1735d9f0-497b-426f-923a-f1de24224c4c",
   "metadata": {},
   "source": [
    "#### Validating the income generated by first wave"
   ]
  },
  {
   "cell_type": "code",
   "execution_count": null,
   "id": "7d5b50d1-5725-4707-b2a4-30c2cf08fd81",
   "metadata": {},
   "outputs": [],
   "source": [
    "cust_tot = 801821"
   ]
  },
  {
   "cell_type": "code",
   "execution_count": null,
   "id": "5bc01a8a-0573-4500-907f-802d91467f60",
   "metadata": {},
   "outputs": [],
   "source": []
  },
  {
   "cell_type": "markdown",
   "id": "5ae0ef8b-d1f8-4e2a-801a-a42263dc5c59",
   "metadata": {},
   "source": [
    "#### Plotly express histogram documentation"
   ]
  },
  {
   "cell_type": "markdown",
   "id": "89b7ab1e-65d2-493d-ad77-0fb806e11969",
   "metadata": {},
   "source": [
    "histnorm: str (default `None`)\n",
    "    One of `'percent'`, `'probability'`, `'density'`, or `'probability\n",
    "    density'` If `None`, the output of `histfunc` is used as is. If\n",
    "    `'probability'`, the output of `histfunc` for a given bin is divided by\n",
    "    the sum of the output of `histfunc` for all bins. If `'percent'`, the\n",
    "    output of `histfunc` for a given bin is divided by the sum of the\n",
    "    output of `histfunc` for all bins and multiplied by 100. If\n",
    "    `'density'`, the output of `histfunc` for a given bin is divided by the\n",
    "    size of the bin. If `'probability density'`, the output of `histfunc`\n",
    "    for a given bin is normalized such that it corresponds to the\n",
    "    probability that a random event whose distribution is described by the\n",
    "    output of `histfunc` will fall into that bin."
   ]
  },
  {
   "cell_type": "markdown",
   "id": "b34c662c-f724-412f-86d7-75647d9b5448",
   "metadata": {},
   "source": [
    "---"
   ]
  },
  {
   "cell_type": "markdown",
   "id": "168089c7-257b-4b61-9a65-803e32753196",
   "metadata": {},
   "source": [
    "---"
   ]
  }
 ],
 "metadata": {
  "kernelspec": {
   "display_name": "Python 3 (ipykernel)",
   "language": "python",
   "name": "python3"
  },
  "language_info": {
   "codemirror_mode": {
    "name": "ipython",
    "version": 3
   },
   "file_extension": ".py",
   "mimetype": "text/x-python",
   "name": "python",
   "nbconvert_exporter": "python",
   "pygments_lexer": "ipython3",
   "version": "3.9.1"
  },
  "toc-autonumbering": true
 },
 "nbformat": 4,
 "nbformat_minor": 5
}
